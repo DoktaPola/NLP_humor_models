{
 "cells": [
  {
   "cell_type": "markdown",
   "metadata": {
    "collapsed": true
   },
   "source": [
    "# Imports"
   ]
  },
  {
   "cell_type": "code",
   "execution_count": 1,
   "metadata": {
    "pycharm": {
     "is_executing": true
    }
   },
   "outputs": [],
   "source": [
    "import pandas as pd\n",
    "import numpy as np\n",
    "import json\n",
    "import torch\n",
    "import torch.nn as nn\n",
    "import sys\n",
    "sys.path.insert(0,'../../')\n",
    "\n",
    "import warnings\n",
    "warnings.filterwarnings('ignore')\n",
    "\n",
    "%load_ext autoreload\n",
    "%autoreload 2"
   ]
  },
  {
   "cell_type": "code",
   "execution_count": 2,
   "metadata": {},
   "outputs": [],
   "source": [
    "import logging\n",
    "import sys\n",
    "\n",
    "logging.basicConfig(stream=sys.stdout, level=logging.INFO)"
   ]
  },
  {
   "cell_type": "code",
   "execution_count": 3,
   "metadata": {},
   "outputs": [],
   "source": [
    "filename = 'jokes_dataset.csv'\n",
    "raw_df = pd.read_csv('../data/'+filename, sep=',',\n",
    "                encoding='utf-8').set_index('id')\n",
    "\n",
    "# work with copy\n",
    "df = raw_df.copy(deep=True)"
   ]
  },
  {
   "cell_type": "markdown",
   "metadata": {},
   "source": [
    "# Preprocessing"
   ]
  },
  {
   "cell_type": "code",
   "execution_count": 4,
   "metadata": {},
   "outputs": [],
   "source": [
    "from src import schema as S\n",
    "from src.preprocessing.preprocessing import SimplePreprocessor\n",
    "from bs4 import BeautifulSoup\n",
    "\n",
    "preprocessor = SimplePreprocessor()"
   ]
  },
  {
   "cell_type": "markdown",
   "metadata": {},
   "source": [
    "# Dataset augmenting"
   ]
  },
  {
   "cell_type": "code",
   "execution_count": 5,
   "metadata": {},
   "outputs": [],
   "source": [
    "import nlpaug.augmenter.word as naw\n",
    "\n",
    "aug_syn = naw.SynonymAug(aug_src='wordnet', aug_min=1, aug_max=1)"
   ]
  },
  {
   "cell_type": "code",
   "execution_count": 6,
   "metadata": {},
   "outputs": [],
   "source": [
    "from src.augmenting.augmenting import Augmenter\n",
    "\n",
    "augmenter = Augmenter(aug_syn)"
   ]
  },
  {
   "cell_type": "markdown",
   "metadata": {},
   "source": [
    "# Dataset tokenizer"
   ]
  },
  {
   "cell_type": "code",
   "execution_count": 7,
   "metadata": {
    "scrolled": true
   },
   "outputs": [
    {
     "name": "stdout",
     "output_type": "stream",
     "text": [
      "INFO:filelock:Lock 1723627786000 acquired on C:\\Users\\Полина/.cache\\huggingface\\transformers\\684fe667923972fb57f6b4dcb61a3c92763ad89882f3da5da9866baf14f2d60f.c7ed1f96aac49e745788faa77ba0a26a392643a50bb388b9c04ff469e555241f.lock\n"
     ]
    },
    {
     "data": {
      "application/vnd.jupyter.widget-view+json": {
       "model_id": "7018a29c0d1f476e90b21b621fee1f0f",
       "version_major": 2,
       "version_minor": 0
      },
      "text/plain": [
       "Downloading:   0%|          | 0.00/0.99M [00:00<?, ?B/s]"
      ]
     },
     "metadata": {},
     "output_type": "display_data"
    },
    {
     "name": "stdout",
     "output_type": "stream",
     "text": [
      "INFO:filelock:Lock 1723627786000 released on C:\\Users\\Полина/.cache\\huggingface\\transformers\\684fe667923972fb57f6b4dcb61a3c92763ad89882f3da5da9866baf14f2d60f.c7ed1f96aac49e745788faa77ba0a26a392643a50bb388b9c04ff469e555241f.lock\n",
      "INFO:filelock:Lock 1723904265136 acquired on C:\\Users\\Полина/.cache\\huggingface\\transformers\\c0c761a63004025aeadd530c4c27b860ec4ecbe8a00531233de21d865a402598.5d12962c5ee615a4c803841266e9c3be9a691a924f72d395d3a6c6c81157788b.lock\n"
     ]
    },
    {
     "data": {
      "application/vnd.jupyter.widget-view+json": {
       "model_id": "63c19e3e5ed44877aa7b0c59d42f7950",
       "version_major": 2,
       "version_minor": 0
      },
      "text/plain": [
       "Downloading:   0%|          | 0.00/446k [00:00<?, ?B/s]"
      ]
     },
     "metadata": {},
     "output_type": "display_data"
    },
    {
     "name": "stdout",
     "output_type": "stream",
     "text": [
      "INFO:filelock:Lock 1723904265136 released on C:\\Users\\Полина/.cache\\huggingface\\transformers\\c0c761a63004025aeadd530c4c27b860ec4ecbe8a00531233de21d865a402598.5d12962c5ee615a4c803841266e9c3be9a691a924f72d395d3a6c6c81157788b.lock\n",
      "INFO:filelock:Lock 1723921097680 acquired on C:\\Users\\Полина/.cache\\huggingface\\transformers\\fc674cd6907b4c9e933cb42d67662436b89fa9540a1f40d7c919d0109289ad01.7d2e0efa5ca20cef4fb199382111e9d3ad96fd77b849e1d4bed13a66e1336f51.lock\n"
     ]
    },
    {
     "data": {
      "application/vnd.jupyter.widget-view+json": {
       "model_id": "a2489853f7e847f78303fae8b6565e8f",
       "version_major": 2,
       "version_minor": 0
      },
      "text/plain": [
       "Downloading:   0%|          | 0.00/665 [00:00<?, ?B/s]"
      ]
     },
     "metadata": {},
     "output_type": "display_data"
    },
    {
     "name": "stdout",
     "output_type": "stream",
     "text": [
      "INFO:filelock:Lock 1723921097680 released on C:\\Users\\Полина/.cache\\huggingface\\transformers\\fc674cd6907b4c9e933cb42d67662436b89fa9540a1f40d7c919d0109289ad01.7d2e0efa5ca20cef4fb199382111e9d3ad96fd77b849e1d4bed13a66e1336f51.lock\n"
     ]
    },
    {
     "name": "stderr",
     "output_type": "stream",
     "text": [
      "Special tokens have been added in the vocabulary, make sure the associated word embeddings are fine-tuned or trained.\n"
     ]
    }
   ],
   "source": [
    "from transformers import GPT2Tokenizer\n",
    "\n",
    "tokenizer = GPT2Tokenizer.from_pretrained('gpt2', \n",
    "                                          bos_token='<|startoftext|>', \n",
    "                                          eos_token='<|endoftext|>', \n",
    "                                          pad_token='<|pad|>')"
   ]
  },
  {
   "cell_type": "markdown",
   "metadata": {},
   "source": [
    "# Pipline"
   ]
  },
  {
   "cell_type": "code",
   "execution_count": 8,
   "metadata": {},
   "outputs": [],
   "source": [
    "from src.pipeline.pipeline_generation import PipelineJokeGeneration\n",
    "\n",
    "pipeline = PipelineJokeGeneration(\n",
    "                 preprocessor = preprocessor,\n",
    "                 tokenizer = tokenizer,\n",
    "                 model_name = 'GPT2', \n",
    "                 splitting_params = {'test_size': 0.1,\n",
    "                                     'shuffle': True},\n",
    "                 )\n"
   ]
  },
  {
   "cell_type": "code",
   "execution_count": 9,
   "metadata": {},
   "outputs": [
    {
     "name": "stdout",
     "output_type": "stream",
     "text": [
      "DEBUG:pipeline-log:Starting preprocessing\n",
      "INFO:numexpr.utils:NumExpr defaulting to 8 threads.\n",
      "DEBUG:pipeline-log:Starting tokenization\n",
      "DEBUG:pipeline-log:Splitting dataset on train and val datasets\n",
      "Wall time: 6min 49s\n"
     ]
    }
   ],
   "source": [
    " %%time\n",
    "train_dataloader, validation_dataloader = pipeline.prepare_data(df)"
   ]
  },
  {
   "cell_type": "markdown",
   "metadata": {
    "pycharm": {
     "name": "#%% md\n"
    }
   },
   "source": [
    "# Train"
   ]
  },
  {
   "cell_type": "code",
   "execution_count": 10,
   "metadata": {},
   "outputs": [],
   "source": [
    "learning_rate = 5e-5\n",
    "\n",
    "from transformers import AdamW\n",
    "optimizer = AdamW"
   ]
  },
  {
   "cell_type": "markdown",
   "metadata": {},
   "source": [
    "**1 epoch**"
   ]
  },
  {
   "cell_type": "code",
   "execution_count": 11,
   "metadata": {},
   "outputs": [
    {
     "name": "stdout",
     "output_type": "stream",
     "text": [
      "INFO:pipeline-log:Fitting model\n",
      "INFO:filelock:Lock 1722464008272 acquired on C:\\Users\\Полина/.cache\\huggingface\\transformers\\752929ace039baa8ef70fe21cdf9ab9445773d20e733cf693d667982e210837e.323c769945a351daa25546176f8208b3004b6f563438a7603e7932bae9025925.lock\n"
     ]
    },
    {
     "data": {
      "application/vnd.jupyter.widget-view+json": {
       "model_id": "aef10751333b461aaf9a8653be462d52",
       "version_major": 2,
       "version_minor": 0
      },
      "text/plain": [
       "Downloading:   0%|          | 0.00/523M [00:00<?, ?B/s]"
      ]
     },
     "metadata": {},
     "output_type": "display_data"
    },
    {
     "name": "stdout",
     "output_type": "stream",
     "text": [
      "INFO:filelock:Lock 1722464008272 released on C:\\Users\\Полина/.cache\\huggingface\\transformers\\752929ace039baa8ef70fe21cdf9ab9445773d20e733cf693d667982e210837e.323c769945a351daa25546176f8208b3004b6f563438a7603e7932bae9025925.lock\n",
      "Beginning epoch 1 of 1\n"
     ]
    },
    {
     "name": "stderr",
     "output_type": "stream",
     "text": [
      "Setting `pad_token_id` to `eos_token_id`:50256 for open-end generation.\n"
     ]
    },
    {
     "name": "stdout",
     "output_type": "stream",
     "text": [
      "Batch 100 of 1458. Loss:0.842708170413971. Time:1:39:47\n",
      "Example output:  bipartisan,. I, he says, is that it has a little bit, one little bit.\n",
      " they are.\n",
      " I have no, a little bit, of nothing.\n",
      "\n",
      "'S:, the of an.\n",
      ", is of the.\n",
      ", the of.\n",
      ", is of the.\n"
     ]
    },
    {
     "name": "stderr",
     "output_type": "stream",
     "text": [
      "Setting `pad_token_id` to `eos_token_id`:50256 for open-end generation.\n"
     ]
    },
    {
     "name": "stdout",
     "output_type": "stream",
     "text": [
      "Batch 200 of 1458. Loss:0.6073341369628906. Time:2:22:37\n",
      "Example output:  increasingCatch up on a couple of funny bits of old reddit posts, you should check them out. They are pretty much every bit as bad asthe ones posted to reddit.\n"
     ]
    },
    {
     "name": "stderr",
     "output_type": "stream",
     "text": [
      "Setting `pad_token_id` to `eos_token_id`:50256 for open-end generation.\n"
     ]
    },
    {
     "name": "stdout",
     "output_type": "stream",
     "text": [
      "Batch 300 of 1458. Loss:0.5392032265663147. Time:3:06:27\n",
      "Example output: dayI do not know how to say no to my father. It is an open secret.\"\n"
     ]
    },
    {
     "name": "stderr",
     "output_type": "stream",
     "text": [
      "Setting `pad_token_id` to `eos_token_id`:50256 for open-end generation.\n"
     ]
    },
    {
     "name": "stdout",
     "output_type": "stream",
     "text": [
      "Batch 400 of 1458. Loss:0.537186861038208. Time:3:56:55\n",
      "Example output:  Hanga is a pretty old woman with long hair. She wears jeans, which are very heavy, and a look on her face. She is talking and she pulls out the other pants. She pulls them off. \"What is this?\" \"What?!\" \"I told you, I am a woman like you and I just want to fuck my girlfriend, a girl like you. I am not going to come out this way if she gets me. If that happens I will find out what I do\" She said slowly. \"That is not how you do business\" I said \"That is not how you do business. You lie to me\" She asked \"What was that?\" She said \"My name is, Kaitlyn.\"\n"
     ]
    },
    {
     "name": "stderr",
     "output_type": "stream",
     "text": [
      "Setting `pad_token_id` to `eos_token_id`:50256 for open-end generation.\n"
     ]
    },
    {
     "name": "stdout",
     "output_type": "stream",
     "text": [
      "Batch 500 of 1458. Loss:0.6269429922103882. Time:4:54:32\n",
      "Example output:  foodsIn that way she does not matter. She lives in my closet, and she will not change it for me\n"
     ]
    },
    {
     "name": "stderr",
     "output_type": "stream",
     "text": [
      "Setting `pad_token_id` to `eos_token_id`:50256 for open-end generation.\n"
     ]
    },
    {
     "name": "stdout",
     "output_type": "stream",
     "text": [
      "Batch 600 of 1458. Loss:0.6270925998687744. Time:6:02:09\n",
      "Example output:  trailOne day in November, one of the oldest men in the neighborhood noticed a bus driving wrong on the east side of a bus station, and he was standing right back. He said \"Why are there these bikes?\" and turned to the bus driver. The bus driver said \"They are running into a bear,\" which gave the bear a funny look. After sitting down in front of him, the bear said \"Why are there so many snowplows? Because the snowplows are running off.\"\n"
     ]
    },
    {
     "name": "stderr",
     "output_type": "stream",
     "text": [
      "Setting `pad_token_id` to `eos_token_id`:50256 for open-end generation.\n"
     ]
    },
    {
     "name": "stdout",
     "output_type": "stream",
     "text": [
      "Batch 700 of 1458. Loss:0.5355405807495117. Time:7:18:48\n",
      "Example output: intendSo what is the difference between an adult and a teenage boy? The guy just started having sex with the girl he loves in the shower.\n"
     ]
    },
    {
     "name": "stderr",
     "output_type": "stream",
     "text": [
      "Setting `pad_token_id` to `eos_token_id`:50256 for open-end generation.\n"
     ]
    },
    {
     "name": "stdout",
     "output_type": "stream",
     "text": [
      "Batch 800 of 1458. Loss:0.6750735640525818. Time:2 days, 11:36:23\n",
      "Example output:  surroundI said, \"I did not want the word 'hormone' in my mouth. My mum did not say anything to get my word out, so I just told her my name, she told my sister in the pub and I was told I got nothing to do with it. But my mum told me my sister will never let me down, and I gave her my money back in the bank.\"\n"
     ]
    },
    {
     "name": "stderr",
     "output_type": "stream",
     "text": [
      "Setting `pad_token_id` to `eos_token_id`:50256 for open-end generation.\n"
     ]
    },
    {
     "name": "stdout",
     "output_type": "stream",
     "text": [
      "Batch 900 of 1458. Loss:0.8896968960762024. Time:2 days, 13:12:20\n",
      "Example output:  reflexG, B is B with a belt buckle. The belt buckle is the only part of your belt that fits properly.\n"
     ]
    },
    {
     "name": "stderr",
     "output_type": "stream",
     "text": [
      "Setting `pad_token_id` to `eos_token_id`:50256 for open-end generation.\n"
     ]
    },
    {
     "name": "stdout",
     "output_type": "stream",
     "text": [
      "Batch 1000 of 1458. Loss:0.6886553764343262. Time:2 days, 14:31:47\n",
      "Example output:  displayWhy did a man with bad acne complain to the police\n"
     ]
    },
    {
     "name": "stderr",
     "output_type": "stream",
     "text": [
      "Setting `pad_token_id` to `eos_token_id`:50256 for open-end generation.\n"
     ]
    },
    {
     "name": "stdout",
     "output_type": "stream",
     "text": [
      "Batch 1100 of 1458. Loss:0.5230867862701416. Time:2 days, 16:10:53\n",
      "Example output:  pastor\" \"What is the difference between a Christian and a hippy?\" \"I have nothing left to prove I am a hippy!\" \"I did not know that you do\" \"I know it is not quite as funny as you say it\" \"I guess it is funny when someone says something wrong\" \"Why?\" \"Because you think I am a hippy.\"\n"
     ]
    },
    {
     "name": "stderr",
     "output_type": "stream",
     "text": [
      "Setting `pad_token_id` to `eos_token_id`:50256 for open-end generation.\n"
     ]
    },
    {
     "name": "stdout",
     "output_type": "stream",
     "text": [
      "Batch 1200 of 1458. Loss:0.5577566623687744. Time:2 days, 17:51:37\n",
      "Example output:  illicitWhy did the French Mafia pay $ French Mafia for their prostitutes?\" asked the bartender with a big smile.\n"
     ]
    },
    {
     "name": "stderr",
     "output_type": "stream",
     "text": [
      "Setting `pad_token_id` to `eos_token_id`:50256 for open-end generation.\n"
     ]
    },
    {
     "name": "stdout",
     "output_type": "stream",
     "text": [
      "Batch 1300 of 1458. Loss:0.5051809549331665. Time:2 days, 19:30:29\n",
      "Example output:  LiberationA man walks into a bar with a bottle of wine. He says \"Sorry\" and looks around. There is a woman behind him holding a glass. She asks, \"Do you have a favorite bottle?\" The man asks, \"Why?\" The woman replies, \"Because it's beautiful and it comes up empty.\"\n"
     ]
    },
    {
     "name": "stderr",
     "output_type": "stream",
     "text": [
      "Setting `pad_token_id` to `eos_token_id`:50256 for open-end generation.\n"
     ]
    },
    {
     "name": "stdout",
     "output_type": "stream",
     "text": [
      "Batch 1400 of 1458. Loss:0.5850701332092285. Time:2 days, 21:11:50\n",
      "Example output:  NamAs a young man I got invited to my grandmother's wedding night. I thought that a lady was coming down the stairs, but when she came home she told me that I could not take my picture. So I said I would not post my picture unless there was something wrong with her nose. It was an accident!\n",
      "Average Training Loss: 0.9114457630080941. Epoch time: 2 days, 22:09:06\n",
      "Validation loss: 0.5918296329033228. Validation Time: 0:24:06\n",
      "Total training took 2 days, 22:33:12\n"
     ]
    }
   ],
   "source": [
    "training_stats = pipeline.train_model(learning_rate,\n",
    "                                    optimizer,\n",
    "                                    train_dataloader,\n",
    "                                    validation_dataloader,\n",
    "                                    epochs=1)"
   ]
  },
  {
   "cell_type": "code",
   "execution_count": 12,
   "metadata": {},
   "outputs": [
    {
     "data": {
      "image/png": "[encoded data removed]",
      "text/plain": [
       "<Figure size 864x432 with 1 Axes>"
      ]
     },
     "metadata": {},
     "output_type": "display_data"
    }
   ],
   "source": [
    "pipeline.draw_curves(training_stats)"
   ]
  },
  {
   "cell_type": "markdown",
   "metadata": {},
   "source": [
    "# Generation"
   ]
  },
  {
   "cell_type": "code",
   "execution_count": 13,
   "metadata": {},
   "outputs": [
    {
     "name": "stdout",
     "output_type": "stream",
     "text": [
      "INFO:pipeline-log:Starting jokes generation\n"
     ]
    },
    {
     "name": "stderr",
     "output_type": "stream",
     "text": [
      "Setting `pad_token_id` to `eos_token_id`:50256 for open-end generation.\n"
     ]
    },
    {
     "name": "stdout",
     "output_type": "stream",
     "text": [
      "0: A guy asks a girl what she likes about him. She replies \"I have no idea.\"\n",
      "\n",
      "\n",
      "1: A man walked into my office and saw the clock ticking... I thought he might not notice... Suddenly... My desk started vibrating... Suddenly, I felt some light coming through the lightbulb. The man said, \"I have no idea how you ticked that clock.\" I thought, \"I just went in and made sure you were all right.\" The man explained that he had a vibrator and said, \"I do not know why you can see the clock when you are asleep. I have a phobia of clock-bulb noises, and I to know why you can see time and date on the clock without it having been vibrated.\" I said, \"No, I do not see why it is vibrating.\"\n",
      "\n",
      "\n",
      "2: I thought we were on the same planet but we now have a couple of planet.\n",
      "\n",
      "\n",
      "3: An elderly patient asks if his doctor is a paedophile but his doctor replies, 'I do not want my patient to take a psychotherapist'.\n",
      "\n",
      "\n",
      "4: The first time the police officer asked me to change my underwear, I said \"I am sorry I am wearing panties.\"\n",
      "\n",
      "\n",
      "5: MADICTIONALISM:????!!! What I said is???? I cannot believe anything else in all of history except  ... The first time i saw Hitler I thought  \"What did he do?\" I turned to the other girl and said \"What have you done?\" she screamed. Then... \"Wtf?\"\n",
      "\n",
      "\n",
      "6: You put yourself in the position where I want to be... You know what happens when you get to the bottom of what you are doing? You win.\n",
      "\n",
      "\n",
      "7: Why does Steve Watson need to stay at home on a Sunday to watch Harry Potter? He does not\n",
      "\n",
      "\n",
      "8: A man and a woman have sex in the bathroom. Both have ejaculate in each other. Neither can stop laughing\n",
      "\n",
      "\n",
      "9: What kind of a woman would not want her son to die at sea? The poor kid who died at sea... Who is it, and where? Japan\n",
      "\n",
      "\n",
      "10: The old joke is: \"Do you have a girlfriend?\"\n",
      "\n",
      "\n",
      "11: They found someplace with a huge fire and a flamingo, but the fire did not ignite.\n",
      "\n",
      "\n",
      "12: A new book takes place in the library. An old man is getting into a fight with a new girl. She takes to reading and starts to write a note. \"It says the name of a book that has been bought by a man who cannot read.\" \"That's too bad,\" she says, then closes the book.\n",
      "\n",
      "\n",
      "13: How many girls has it been in the last week? None, just two.\n",
      "\n",
      "\n",
      "14: The problem is not with the Jews, I said \"they are all good people.\" It is with the Muslim.\n",
      "\n",
      "\n",
      "15: As a feminist, I cannot help but hate everything.\n",
      "\n",
      "\n",
      "16: I made a big mistake by sticking my dick out my window.\n",
      "\n",
      "\n",
      "17: Where is your favourite pizza crust? You need to know.\n",
      "\n",
      "\n",
      "18: The first woman ever to run into a man's penis... he just smiled and said, \"Why not?\"\n",
      "\n",
      "\n",
      "19: It is a very hard thing to explain when you are sitting down for a presentation. It goes against the grain.\n",
      "\n",
      "\n",
      "20: This is my first girlfriend I am looking for. Will you tell me how old she is? My first girlfriend has just moved from Michigan.\n",
      "\n",
      "\n",
      "21: A man was struck in the back of the head by lightning. He was taken to hospital and pronounced dead at the scene. Police are sorry that the man was struck in the leg.\n",
      "\n",
      "\n",
      "22: I like it when my friends laugh when I tell them I am a vegetarian.\n",
      "\n",
      "\n",
      "23: I went to this bar yesterday and had a bottle of orange juice thrown away. The bartender was pretty pissed.\n",
      "\n",
      "\n",
      "24: Why did the red light go green? They wanted to see why it went green.\n",
      "\n",
      "\n"
     ]
    }
   ],
   "source": [
    "pipeline.generate()"
   ]
  },
  {
   "cell_type": "code",
   "execution_count": null,
   "metadata": {},
   "outputs": [],
   "source": []
  }
 ],
 "metadata": {
  "kernelspec": {
   "display_name": "envname",
   "language": "python",
   "name": "envname"
  },
  "language_info": {
   "codemirror_mode": {
    "name": "ipython",
    "version": 3
   },
   "file_extension": ".py",
   "mimetype": "text/x-python",
   "name": "python",
   "nbconvert_exporter": "python",
   "pygments_lexer": "ipython3",
   "version": "3.8.10"
  }
 },
 "nbformat": 4,
 "nbformat_minor": 1
}
