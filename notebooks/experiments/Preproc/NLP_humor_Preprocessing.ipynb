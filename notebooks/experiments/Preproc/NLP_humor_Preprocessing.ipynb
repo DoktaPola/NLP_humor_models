{
  "cells": [
    {
      "cell_type": "markdown",
      "metadata": {
        "id": "ZPXL1bUvoRtW"
      },
      "source": [
        "# <center> **NLP analysis of jokes dataset**"
      ]
    },
    {
      "cell_type": "markdown",
      "metadata": {
        "id": "3qeGNIJeoc7e"
      },
      "source": [
        "## Table of Contents\n",
        "\n",
        "1. **[Functions](#1)**\n",
        "2. **[Preprocessing](#3)**\n",
        "\t* [Cleaning](#sub-heading2)"
      ]
    },
    {
      "cell_type": "markdown",
      "source": [
        "# **Imports**"
      ],
      "metadata": {
        "id": "QFW0UtIN0GXy"
      }
    },
    {
      "cell_type": "code",
      "execution_count": null,
      "metadata": {
        "id": "8lNl_mlin732",
        "colab": {
          "base_uri": "https://localhost:8080/"
        },
        "outputId": "fa6d4e01-398f-48e9-fad4-9973d4f8017f"
      },
      "outputs": [
        {
          "output_type": "stream",
          "name": "stdout",
          "text": [
            "Requirement already satisfied: unidecode in /usr/local/lib/python3.7/dist-packages (1.3.4)\n",
            "Requirement already satisfied: emoji in /usr/local/lib/python3.7/dist-packages (1.7.0)\n",
            "Requirement already satisfied: word2number in /usr/local/lib/python3.7/dist-packages (1.1)\n",
            "Requirement already satisfied: contractions in /usr/local/lib/python3.7/dist-packages (0.1.68)\n",
            "Requirement already satisfied: textsearch>=0.0.21 in /usr/local/lib/python3.7/dist-packages (from contractions) (0.0.21)\n",
            "Requirement already satisfied: pyahocorasick in /usr/local/lib/python3.7/dist-packages (from textsearch>=0.0.21->contractions) (1.4.4)\n",
            "Requirement already satisfied: anyascii in /usr/local/lib/python3.7/dist-packages (from textsearch>=0.0.21->contractions) (0.3.1)\n",
            "Requirement already satisfied: spacy in /usr/local/lib/python3.7/dist-packages (2.2.4)\n",
            "Requirement already satisfied: blis<0.5.0,>=0.4.0 in /usr/local/lib/python3.7/dist-packages (from spacy) (0.4.1)\n",
            "Requirement already satisfied: catalogue<1.1.0,>=0.0.7 in /usr/local/lib/python3.7/dist-packages (from spacy) (1.0.0)\n",
            "Requirement already satisfied: thinc==7.4.0 in /usr/local/lib/python3.7/dist-packages (from spacy) (7.4.0)\n",
            "Requirement already satisfied: preshed<3.1.0,>=3.0.2 in /usr/local/lib/python3.7/dist-packages (from spacy) (3.0.6)\n",
            "Requirement already satisfied: cymem<2.1.0,>=2.0.2 in /usr/local/lib/python3.7/dist-packages (from spacy) (2.0.6)\n",
            "Requirement already satisfied: wasabi<1.1.0,>=0.4.0 in /usr/local/lib/python3.7/dist-packages (from spacy) (0.9.1)\n",
            "Requirement already satisfied: tqdm<5.0.0,>=4.38.0 in /usr/local/lib/python3.7/dist-packages (from spacy) (4.64.0)\n",
            "Requirement already satisfied: plac<1.2.0,>=0.9.6 in /usr/local/lib/python3.7/dist-packages (from spacy) (1.1.3)\n",
            "Requirement already satisfied: requests<3.0.0,>=2.13.0 in /usr/local/lib/python3.7/dist-packages (from spacy) (2.23.0)\n",
            "Requirement already satisfied: numpy>=1.15.0 in /usr/local/lib/python3.7/dist-packages (from spacy) (1.21.6)\n",
            "Requirement already satisfied: murmurhash<1.1.0,>=0.28.0 in /usr/local/lib/python3.7/dist-packages (from spacy) (1.0.6)\n",
            "Requirement already satisfied: setuptools in /usr/local/lib/python3.7/dist-packages (from spacy) (57.4.0)\n",
            "Requirement already satisfied: srsly<1.1.0,>=1.0.2 in /usr/local/lib/python3.7/dist-packages (from spacy) (1.0.5)\n",
            "Requirement already satisfied: importlib-metadata>=0.20 in /usr/local/lib/python3.7/dist-packages (from catalogue<1.1.0,>=0.0.7->spacy) (4.11.3)\n",
            "Requirement already satisfied: zipp>=0.5 in /usr/local/lib/python3.7/dist-packages (from importlib-metadata>=0.20->catalogue<1.1.0,>=0.0.7->spacy) (3.8.0)\n",
            "Requirement already satisfied: typing-extensions>=3.6.4 in /usr/local/lib/python3.7/dist-packages (from importlib-metadata>=0.20->catalogue<1.1.0,>=0.0.7->spacy) (4.1.1)\n",
            "Requirement already satisfied: certifi>=2017.4.17 in /usr/local/lib/python3.7/dist-packages (from requests<3.0.0,>=2.13.0->spacy) (2021.10.8)\n",
            "Requirement already satisfied: idna<3,>=2.5 in /usr/local/lib/python3.7/dist-packages (from requests<3.0.0,>=2.13.0->spacy) (2.10)\n",
            "Requirement already satisfied: urllib3!=1.25.0,!=1.25.1,<1.26,>=1.21.1 in /usr/local/lib/python3.7/dist-packages (from requests<3.0.0,>=2.13.0->spacy) (1.24.3)\n",
            "Requirement already satisfied: chardet<4,>=3.0.2 in /usr/local/lib/python3.7/dist-packages (from requests<3.0.0,>=2.13.0->spacy) (3.0.4)\n",
            "Collecting en_core_web_sm==2.2.5\n",
            "  Downloading https://github.com/explosion/spacy-models/releases/download/en_core_web_sm-2.2.5/en_core_web_sm-2.2.5.tar.gz (12.0 MB)\n",
            "\u001b[K     |████████████████████████████████| 12.0 MB 20.3 MB/s \n",
            "\u001b[?25hRequirement already satisfied: spacy>=2.2.2 in /usr/local/lib/python3.7/dist-packages (from en_core_web_sm==2.2.5) (2.2.4)\n",
            "Requirement already satisfied: wasabi<1.1.0,>=0.4.0 in /usr/local/lib/python3.7/dist-packages (from spacy>=2.2.2->en_core_web_sm==2.2.5) (0.9.1)\n",
            "Requirement already satisfied: tqdm<5.0.0,>=4.38.0 in /usr/local/lib/python3.7/dist-packages (from spacy>=2.2.2->en_core_web_sm==2.2.5) (4.64.0)\n",
            "Requirement already satisfied: cymem<2.1.0,>=2.0.2 in /usr/local/lib/python3.7/dist-packages (from spacy>=2.2.2->en_core_web_sm==2.2.5) (2.0.6)\n",
            "Requirement already satisfied: preshed<3.1.0,>=3.0.2 in /usr/local/lib/python3.7/dist-packages (from spacy>=2.2.2->en_core_web_sm==2.2.5) (3.0.6)\n",
            "Requirement already satisfied: thinc==7.4.0 in /usr/local/lib/python3.7/dist-packages (from spacy>=2.2.2->en_core_web_sm==2.2.5) (7.4.0)\n",
            "Requirement already satisfied: srsly<1.1.0,>=1.0.2 in /usr/local/lib/python3.7/dist-packages (from spacy>=2.2.2->en_core_web_sm==2.2.5) (1.0.5)\n",
            "Requirement already satisfied: numpy>=1.15.0 in /usr/local/lib/python3.7/dist-packages (from spacy>=2.2.2->en_core_web_sm==2.2.5) (1.21.6)\n",
            "Requirement already satisfied: requests<3.0.0,>=2.13.0 in /usr/local/lib/python3.7/dist-packages (from spacy>=2.2.2->en_core_web_sm==2.2.5) (2.23.0)\n",
            "Requirement already satisfied: catalogue<1.1.0,>=0.0.7 in /usr/local/lib/python3.7/dist-packages (from spacy>=2.2.2->en_core_web_sm==2.2.5) (1.0.0)\n",
            "Requirement already satisfied: plac<1.2.0,>=0.9.6 in /usr/local/lib/python3.7/dist-packages (from spacy>=2.2.2->en_core_web_sm==2.2.5) (1.1.3)\n",
            "Requirement already satisfied: setuptools in /usr/local/lib/python3.7/dist-packages (from spacy>=2.2.2->en_core_web_sm==2.2.5) (57.4.0)\n",
            "Requirement already satisfied: murmurhash<1.1.0,>=0.28.0 in /usr/local/lib/python3.7/dist-packages (from spacy>=2.2.2->en_core_web_sm==2.2.5) (1.0.6)\n",
            "Requirement already satisfied: blis<0.5.0,>=0.4.0 in /usr/local/lib/python3.7/dist-packages (from spacy>=2.2.2->en_core_web_sm==2.2.5) (0.4.1)\n",
            "Requirement already satisfied: importlib-metadata>=0.20 in /usr/local/lib/python3.7/dist-packages (from catalogue<1.1.0,>=0.0.7->spacy>=2.2.2->en_core_web_sm==2.2.5) (4.11.3)\n",
            "Requirement already satisfied: zipp>=0.5 in /usr/local/lib/python3.7/dist-packages (from importlib-metadata>=0.20->catalogue<1.1.0,>=0.0.7->spacy>=2.2.2->en_core_web_sm==2.2.5) (3.8.0)\n",
            "Requirement already satisfied: typing-extensions>=3.6.4 in /usr/local/lib/python3.7/dist-packages (from importlib-metadata>=0.20->catalogue<1.1.0,>=0.0.7->spacy>=2.2.2->en_core_web_sm==2.2.5) (4.1.1)\n",
            "Requirement already satisfied: idna<3,>=2.5 in /usr/local/lib/python3.7/dist-packages (from requests<3.0.0,>=2.13.0->spacy>=2.2.2->en_core_web_sm==2.2.5) (2.10)\n",
            "Requirement already satisfied: chardet<4,>=3.0.2 in /usr/local/lib/python3.7/dist-packages (from requests<3.0.0,>=2.13.0->spacy>=2.2.2->en_core_web_sm==2.2.5) (3.0.4)\n",
            "Requirement already satisfied: certifi>=2017.4.17 in /usr/local/lib/python3.7/dist-packages (from requests<3.0.0,>=2.13.0->spacy>=2.2.2->en_core_web_sm==2.2.5) (2021.10.8)\n",
            "Requirement already satisfied: urllib3!=1.25.0,!=1.25.1,<1.26,>=1.21.1 in /usr/local/lib/python3.7/dist-packages (from requests<3.0.0,>=2.13.0->spacy>=2.2.2->en_core_web_sm==2.2.5) (1.24.3)\n",
            "\u001b[38;5;2m✔ Download and installation successful\u001b[0m\n",
            "You can now load the model via spacy.load('en_core_web_sm')\n",
            "/usr/lib/python3.7/runpy.py:125: RuntimeWarning: 'nltk.downloader' found in sys.modules after import of package 'nltk', but prior to execution of 'nltk.downloader'; this may result in unpredictable behaviour\n",
            "  warn(RuntimeWarning(msg))\n",
            "[nltk_data] Downloading package stopwords to /root/nltk_data...\n",
            "[nltk_data]   Package stopwords is already up-to-date!\n",
            "Requirement already satisfied: pyspellchecker in /usr/local/lib/python3.7/dist-packages (0.6.3)\n",
            "Requirement already satisfied: iplot in /usr/local/lib/python3.7/dist-packages (0.0.0)\n"
          ]
        }
      ],
      "source": [
        "!pip install unidecode\n",
        "!pip install emoji\n",
        "!pip install word2number\n",
        "!pip install contractions\n",
        "!pip3 install spacy\n",
        "!python3 -m spacy download en_core_web_sm\n",
        "!python3 -m nltk.downloader stopwords\n",
        "!pip install pyspellchecker\n",
        "!pip install iplot"
      ]
    },
    {
      "cell_type": "code",
      "execution_count": null,
      "metadata": {
        "colab": {
          "base_uri": "https://localhost:8080/"
        },
        "id": "XT-6TEfGoBmE",
        "outputId": "bba363b7-3d78-4847-ad51-c9551926c008"
      },
      "outputs": [
        {
          "output_type": "stream",
          "name": "stdout",
          "text": [
            "[nltk_data] Downloading package punkt to /root/nltk_data...\n",
            "[nltk_data]   Package punkt is already up-to-date!\n",
            "[nltk_data] Downloading package wordnet to /root/nltk_data...\n",
            "[nltk_data]   Package wordnet is already up-to-date!\n",
            "[nltk_data] Downloading package averaged_perceptron_tagger to\n",
            "[nltk_data]     /root/nltk_data...\n",
            "[nltk_data]   Package averaged_perceptron_tagger is already up-to-\n",
            "[nltk_data]       date!\n"
          ]
        }
      ],
      "source": [
        "import pandas as pd\n",
        "import numpy as np\n",
        "import re\n",
        "import seaborn as sns\n",
        "import matplotlib.pyplot as plt\n",
        "from matplotlib import style\n",
        "style.use('seaborn')\n",
        "%matplotlib inline\n",
        "#graphs in svg look clearer\n",
        "%config InlineBackend.figure_format = 'svg' \n",
        "import warnings\n",
        "warnings.simplefilter('ignore')\n",
        "\n",
        "from scipy.stats import norm\n",
        "\n",
        "from google.colab import drive\n",
        "import os\n",
        "import string\n",
        "import emoji\n",
        "\n",
        "import plotly as py\n",
        "import numpy as np\n",
        "from plotly.offline import init_notebook_mode, iplot\n",
        "from plotly.graph_objs import Contours, Histogram2dContour, Marker, Scatter\n",
        "\n",
        "import unidecode\n",
        "from word2number import w2n\n",
        "import contractions\n",
        "from bs4 import BeautifulSoup\n",
        "import spacy\n",
        "\n",
        "import nltk\n",
        "nltk.download('punkt')\n",
        "nltk.download('wordnet')\n",
        "from nltk.corpus import wordnet\n",
        "from nltk.stem import WordNetLemmatizer\n",
        "nltk.download('averaged_perceptron_tagger')\n",
        "from nltk.stem import PorterStemmer\n",
        "from nltk.tokenize import word_tokenize\n",
        "from nltk.corpus import stopwords\n",
        "from collections import Counter\n",
        "from spellchecker import SpellChecker\n",
        "from wordcloud import WordCloud\n",
        "\n",
        "from tqdm._tqdm_notebook import tqdm_notebook\n",
        "tqdm_notebook.pandas(desc='PROGRESS>>>')\n",
        "\n",
        "from google_drive_downloader import GoogleDriveDownloader as gdd\n",
        "from IPython.core.display import display, HTML\n",
        "\n",
        "from sklearn.model_selection import RepeatedStratifiedKFold, GridSearchCV, StratifiedKFold, KFold, cross_val_score, train_test_split\n",
        "from sklearn.feature_extraction.text import TfidfVectorizer\n",
        "from sklearn import metrics\n",
        "from sklearn.pipeline import make_pipeline\n",
        "from sklearn.preprocessing import label_binarize, StandardScaler\n",
        "\n",
        "from torch.optim.lr_scheduler import CosineAnnealingLR\n",
        "from tqdm import tqdm\n",
        "import gensim\n",
        "import gensim.downloader as api\n",
        "from gensim.models import Word2Vec\n",
        "\n",
        "import gensim.downloader as gensim_api\n",
        "from torch.nn.utils.rnn import pad_sequence\n",
        "\n",
        "from functools import partial\n",
        "import torch      \n",
        "import torch.nn as nn\n",
        "from torch.utils.data import TensorDataset, ConcatDataset, DataLoader, random_split, Dataset\n",
        "import torch.nn.functional as F\n",
        "import torchvision.transforms as transforms\n",
        "import torchvision\n",
        "import torch.optim as optim"
      ]
    },
    {
      "cell_type": "code",
      "execution_count": null,
      "metadata": {
        "colab": {
          "base_uri": "https://localhost:8080/",
          "height": 17
        },
        "id": "wX-TbgT39sMN",
        "outputId": "7ad5583e-9d08-48b4-8adb-9be7bf88c7d4"
      },
      "outputs": [
        {
          "output_type": "display_data",
          "data": {
            "text/html": [
              "        <script type=\"text/javascript\">\n",
              "        window.PlotlyConfig = {MathJaxConfig: 'local'};\n",
              "        if (window.MathJax) {MathJax.Hub.Config({SVG: {font: \"STIX-Web\"}});}\n",
              "        if (typeof require !== 'undefined') {\n",
              "        require.undef(\"plotly\");\n",
              "        requirejs.config({\n",
              "            paths: {\n",
              "                'plotly': ['https://cdn.plot.ly/plotly-2.8.3.min']\n",
              "            }\n",
              "        });\n",
              "        require(['plotly'], function(Plotly) {\n",
              "            window._Plotly = Plotly;\n",
              "        });\n",
              "        }\n",
              "        </script>\n",
              "        "
            ]
          },
          "metadata": {}
        }
      ],
      "source": [
        "import cufflinks as cf\n",
        "cf.go_offline()\n",
        "cf.set_config_file(offline=False, world_readable=True)\n",
        "import plotly.graph_objs as go"
      ]
    },
    {
      "cell_type": "code",
      "execution_count": null,
      "metadata": {
        "colab": {
          "base_uri": "https://localhost:8080/"
        },
        "id": "cHi3ZFMpoBu0",
        "outputId": "e1177662-1f60-48df-9c78-52baac5b4043"
      },
      "outputs": [
        {
          "output_type": "stream",
          "name": "stdout",
          "text": [
            "Drive already mounted at /content/drive; to attempt to forcibly remount, call drive.mount(\"/content/drive\", force_remount=True).\n"
          ]
        }
      ],
      "source": [
        "drive.mount(\"/content/drive\")"
      ]
    },
    {
      "cell_type": "code",
      "execution_count": null,
      "metadata": {
        "id": "T_F2CKZpg9CU"
      },
      "outputs": [],
      "source": [
        "data = pd.read_csv('/content/drive/My Drive/NLP_humor/data/jokes_dataset.csv', \n",
        "                 sep=',', \n",
        "                 encoding='utf-8').set_index('id')\n",
        "# work with copy\n",
        "df = data.copy(deep=True)"
      ]
    },
    {
      "cell_type": "markdown",
      "metadata": {
        "id": "LruhcnQrOKHx"
      },
      "source": [
        "# **Functions**"
      ]
    },
    {
      "cell_type": "code",
      "execution_count": null,
      "metadata": {
        "id": "iiESOHEtOMkF"
      },
      "outputs": [],
      "source": [
        "def draw_histogram(data):\n",
        "    f,ax_hist = plt.subplots(1)\n",
        "    sns.distplot(data, hist=True,  kde=True, rug=True, bins=10, fit=norm, ax=ax_hist);\n",
        "    plt.xlabel(\"values\")\n",
        "    plt.title(\"Distribution\") \n",
        "\n",
        "    mean=data.mean()\n",
        "\n",
        "    ax_hist.axvline(mean, color='r', linestyle='--', label=f\"Mean={mean:.3f}\")\n",
        "    ax_hist.legend()\n",
        "\n",
        "    plt.show()"
      ]
    },
    {
      "cell_type": "markdown",
      "metadata": {
        "id": "kgslBmrJvaon"
      },
      "source": [
        "**Activate Plotly**"
      ]
    },
    {
      "cell_type": "code",
      "execution_count": null,
      "metadata": {
        "id": "k_fQqauxvSAx"
      },
      "outputs": [],
      "source": [
        "def configure_plotly_browser_state():\n",
        "  import IPython\n",
        "  display(IPython.core.display.HTML('''\n",
        "        <script src=\"/static/components/requirejs/require.js\"></script>\n",
        "        <script>\n",
        "          requirejs.config({\n",
        "            paths: {\n",
        "              base: '/static/base',\n",
        "              plotly: 'https://cdn.plot.ly/plotly-latest.min.js?noext',\n",
        "            },\n",
        "          });\n",
        "        </script>\n",
        "        '''))"
      ]
    },
    {
      "cell_type": "markdown",
      "metadata": {
        "id": "_VhMLlzDyRS6"
      },
      "source": [
        "**Word clouds**"
      ]
    },
    {
      "cell_type": "code",
      "execution_count": null,
      "metadata": {
        "id": "DGoKAS57yPir"
      },
      "outputs": [],
      "source": [
        "def draw_word_clouds(data):\n",
        "  fig, (ax1) = plt.subplots(1, 1, figsize=[26, 8])\n",
        "  wordcloud1 = WordCloud( background_color='white',\n",
        "                          width=600,\n",
        "                          height=400).generate(\" \".join(data['joke']))\n",
        "  ax1.imshow(wordcloud1)\n",
        "  ax1.axis('off')\n",
        "  ax1.set_title('Joke',fontsize=40);"
      ]
    },
    {
      "cell_type": "markdown",
      "metadata": {
        "id": "333xR4xJa3YK"
      },
      "source": [
        "**Top words**"
      ]
    },
    {
      "cell_type": "code",
      "execution_count": null,
      "metadata": {
        "id": "ZVW8Ndfba2Jc"
      },
      "outputs": [],
      "source": [
        "def draw_top_words(data, top_size, title):\n",
        "  counting_table = pd.DataFrame(count_words(data, top_size))\n",
        "  counting_table.drop([0],inplace=True)\n",
        "  counting_table.columns = ['word','counting']\n",
        "\n",
        "  plt.figure(figsize=(17,10))\n",
        "  ax= sns.barplot(data=counting_table,x='word',y='counting',facecolor=(1, 1, 1, 0),edgecolor='black')\n",
        "  if title == 'Top' or title == 'top':\n",
        "    ax.set_title(f'Top {top_size} words'.title(),fontsize=20)\n",
        "  else:\n",
        "    ax.set_title(f'{title} words: Top {top_size}'.title(),fontsize=20)\n",
        "\n",
        "  ax.set_ylabel('Word counting',fontsize=15)\n",
        "  ax.set_xlabel(f'Top {top_size} words',fontsize=15);\n",
        "  plt.xticks(rotation=45)\n",
        "  plt.show()"
      ]
    },
    {
      "cell_type": "markdown",
      "metadata": {
        "id": "4I7Cpp_2jguQ"
      },
      "source": [
        "**Removal of html tags**"
      ]
    },
    {
      "cell_type": "code",
      "execution_count": null,
      "metadata": {
        "id": "1h25bh7IdOq2"
      },
      "outputs": [],
      "source": [
        "def strip_html_tags(text):\n",
        "    \"\"\"remove html tags from text\"\"\"\n",
        "    soup = BeautifulSoup(text, \"html.parser\")\n",
        "    stripped_text = soup.get_text(separator=\" \")\n",
        "    return stripped_text"
      ]
    },
    {
      "cell_type": "markdown",
      "metadata": {
        "id": "BbuuHoghjo4m"
      },
      "source": [
        "**Removal of whitespaces**"
      ]
    },
    {
      "cell_type": "code",
      "execution_count": null,
      "metadata": {
        "id": "gFvveGZoe8LU"
      },
      "outputs": [],
      "source": [
        "def remove_whitespace(text):\n",
        "    \"\"\"remove extra whitespaces from text\"\"\"\n",
        "    text = text.strip()\n",
        "    return \" \".join(text.split())"
      ]
    },
    {
      "cell_type": "markdown",
      "metadata": {
        "id": "_KMZ6M4ujt3g"
      },
      "source": [
        "**Removal of accented characters**"
      ]
    },
    {
      "cell_type": "code",
      "execution_count": null,
      "metadata": {
        "id": "5ahMvGJ3dTAg"
      },
      "outputs": [],
      "source": [
        "def remove_accented_chars(text):\n",
        "    \"\"\"remove accented characters from text, e.g. café\"\"\"\n",
        "    text = unidecode.unidecode(text)\n",
        "    return text"
      ]
    },
    {
      "cell_type": "markdown",
      "metadata": {
        "id": "IGS4JoHQjy4n"
      },
      "source": [
        "**Removal of shortened words**"
      ]
    },
    {
      "cell_type": "code",
      "execution_count": null,
      "metadata": {
        "id": "v0RJLLplf6xP"
      },
      "outputs": [],
      "source": [
        "def expand_contractions(text):\n",
        "    \"\"\"expand shortened words, e.g. don't to do not\"\"\"\n",
        "    text = contractions.fix(text)\n",
        "    return text"
      ]
    },
    {
      "cell_type": "markdown",
      "metadata": {
        "id": "KuacsZ8F5bAv"
      },
      "source": [
        "**Removal of urls**"
      ]
    },
    {
      "cell_type": "code",
      "execution_count": null,
      "metadata": {
        "id": "tUt4RrYZ5Yri"
      },
      "outputs": [],
      "source": [
        "def find_urls(text):\n",
        "    url_pattern = re.compile(r'https?://\\S+|www\\.\\S+')\n",
        "    return url_pattern.findall(text)"
      ]
    },
    {
      "cell_type": "code",
      "execution_count": null,
      "metadata": {
        "id": "hqteNZiL6Owl"
      },
      "outputs": [],
      "source": [
        "def remove_urls(text):\n",
        "    url_pattern = re.compile(r'https?://\\S+|www\\.\\S+')\n",
        "    return url_pattern.sub(r'', text)"
      ]
    },
    {
      "cell_type": "markdown",
      "metadata": {
        "id": "FWkaSjEOjYen"
      },
      "source": [
        "**Removal of Frequent words**"
      ]
    },
    {
      "cell_type": "code",
      "execution_count": null,
      "metadata": {
        "id": "LGbimilLkPVf"
      },
      "outputs": [],
      "source": [
        "def count_words(text, top=10):\n",
        "    cnt = Counter()\n",
        "    for text in text.values:\n",
        "        for word in text.split():\n",
        "            cnt[word] += 1\n",
        "          \n",
        "    return cnt.most_common(top)"
      ]
    },
    {
      "cell_type": "code",
      "execution_count": null,
      "metadata": {
        "id": "tGOnUWjXh4tb"
      },
      "outputs": [],
      "source": [
        "# FREQWORDS = set([w for (w, wc) in count_words(data['joke'], 10)])\n",
        "# FREQWORDS\n",
        "\n",
        "# n_rare_words = 10\n",
        "# RAREWORDS = set([w for (w, wc) in count_words(data['joke'][:-n_rare_words-1:-1])])\n",
        "# RAREWORDS"
      ]
    },
    {
      "cell_type": "code",
      "execution_count": null,
      "metadata": {
        "id": "xLB1yFIRjXWH"
      },
      "outputs": [],
      "source": [
        "def remove_freqwords(text):\n",
        "    \"\"\"remove the frequent words\"\"\"\n",
        "    return \" \".join([word for word in str(text).split() if word not in FREQWORDS])"
      ]
    },
    {
      "cell_type": "markdown",
      "metadata": {
        "id": "XStFFd02iyg8"
      },
      "source": [
        "**Removal of Rare words**"
      ]
    },
    {
      "cell_type": "code",
      "execution_count": null,
      "metadata": {
        "id": "f5clqgCOi0Zb"
      },
      "outputs": [],
      "source": [
        "def remove_rarewords(text):\n",
        "    \"\"\"remove the rare words\"\"\"\n",
        "    return \" \".join([word for word in str(text).split() if word not in RAREWORDS])"
      ]
    },
    {
      "cell_type": "markdown",
      "metadata": {
        "id": "JGy6yJQ6jNM3"
      },
      "source": [
        "**Removal of stopwords**\n"
      ]
    },
    {
      "cell_type": "code",
      "execution_count": null,
      "metadata": {
        "id": "S8Gkl_nMjL1X"
      },
      "outputs": [],
      "source": [
        "STOPWORDS = set(stopwords.words('english'))\n",
        "\n",
        "def remove_stopwords(text):\n",
        "    \"\"\"remove the stopwords\"\"\"\n",
        "    return \" \".join([word for word in str(text).split() if word not in STOPWORDS])"
      ]
    },
    {
      "cell_type": "markdown",
      "metadata": {
        "id": "DP33LvOy4bIc"
      },
      "source": [
        "**Convert chat words**"
      ]
    },
    {
      "cell_type": "code",
      "execution_count": null,
      "metadata": {
        "id": "eOCUpX7f4WxS"
      },
      "outputs": [],
      "source": [
        "chat_words_str = \"\"\"\n",
        "AFAIK=As Far As I Know\n",
        "AFK=Away From Keyboard\n",
        "ASAP=As Soon As Possible\n",
        "ATK=At The Keyboard\n",
        "ATM=At The Moment\n",
        "A3=Anytime, Anywhere, Anyplace\n",
        "BAK=Back At Keyboard\n",
        "BBL=Be Back Later\n",
        "BBS=Be Back Soon\n",
        "BFN=Bye For Now\n",
        "B4N=Bye For Now\n",
        "BRB=Be Right Back\n",
        "BRT=Be Right There\n",
        "BTW=By The Way\n",
        "B4=Before\n",
        "B4N=Bye For Now\n",
        "CU=See You\n",
        "CUL8R=See You Later\n",
        "CYA=See You\n",
        "FAQ=Frequently Asked Questions\n",
        "FC=Fingers Crossed\n",
        "FWIW=For What It's Worth\n",
        "FYI=For Your Information\n",
        "GAL=Get A Life\n",
        "GG=Good Game\n",
        "GN=Good Night\n",
        "GMTA=Great Minds Think Alike\n",
        "GR8=Great!\n",
        "G9=Genius\n",
        "IC=I See\n",
        "ICQ=I Seek you (also a chat program)\n",
        "ILU=ILU: I Love You\n",
        "IMHO=In My Honest/Humble Opinion\n",
        "IMO=In My Opinion\n",
        "IOW=In Other Words\n",
        "IRL=In Real Life\n",
        "LDR=Long Distance Relationship\n",
        "LMAO=Laugh My A.. Off\n",
        "LOL=Laughing Out Loud\n",
        "LTNS=Long Time No See\n",
        "L8R=Later\n",
        "MTE=My Thoughts Exactly\n",
        "M8=Mate\n",
        "NRN=No Reply Necessary\n",
        "OIC=Oh I See\n",
        "PITA=Pain In The A..\n",
        "PRT=Party\n",
        "PRW=Parents Are Watching\n",
        "ROFL=Rolling On The Floor Laughing\n",
        "ROFLOL=Rolling On The Floor Laughing Out Loud\n",
        "ROTFLMAO=Rolling On The Floor Laughing My A.. Off\n",
        "SK8=Skate\n",
        "STATS=Your sex and age\n",
        "ASL=Age, Sex, Location\n",
        "THX=Thank You\n",
        "TTFN=Ta-Ta For Now!\n",
        "TTYL=Talk To You Later\n",
        "U=You\n",
        "U2=You Too\n",
        "U4E=Yours For Ever\n",
        "WB=Welcome Back\n",
        "WTF=What The F...\n",
        "WTG=Way To Go!\n",
        "WUF=Where Are You From?\n",
        "W8=Wait...\n",
        "7K=Sick:-D Laugher\n",
        "\"\"\""
      ]
    },
    {
      "cell_type": "code",
      "execution_count": null,
      "metadata": {
        "id": "K5k9kYqC4YYt"
      },
      "outputs": [],
      "source": [
        "def chat_words_conversion(text):\n",
        "    new_text = []\n",
        "    for w in text.split():\n",
        "        if w.upper() in chat_words_list:\n",
        "            new_text.append(chat_words_map_dict[w.upper()])\n",
        "        else:\n",
        "            new_text.append(w)\n",
        "    return \" \".join(new_text)"
      ]
    },
    {
      "cell_type": "markdown",
      "metadata": {
        "id": "1Wp3ZTAd5zOa"
      },
      "source": [
        "**Convertion of emoticons**"
      ]
    },
    {
      "cell_type": "code",
      "execution_count": null,
      "metadata": {
        "id": "M7RYAayX5vFk"
      },
      "outputs": [],
      "source": [
        "EMOTICONS = {\n",
        "    u\":‑\\)\":\"Happy face or smiley\",\n",
        "    u\":\\)\":\"Happy face or smiley\",\n",
        "    u\":-\\]\":\"Happy face or smiley\",\n",
        "    u\":\\]\":\"Happy face or smiley\",\n",
        "    u\":-3\":\"Happy face smiley\",\n",
        "    u\":3\":\"Happy face smiley\",\n",
        "    u\":->\":\"Happy face smiley\",\n",
        "    u\":>\":\"Happy face smiley\",\n",
        "    u\"8-\\)\":\"Happy face smiley\",\n",
        "    u\":o\\)\":\"Happy face smiley\",\n",
        "    u\":-\\}\":\"Happy face smiley\",\n",
        "    u\":\\}\":\"Happy face smiley\",\n",
        "    u\":-\\)\":\"Happy face smiley\",\n",
        "    u\":c\\)\":\"Happy face smiley\",\n",
        "    u\":\\^\\)\":\"Happy face smiley\",\n",
        "    u\"=\\]\":\"Happy face smiley\",\n",
        "    u\"=\\)\":\"Happy face smiley\",\n",
        "    u\":‑D\":\"Laughing, big grin or laugh with glasses\",\n",
        "    u\":D\":\"Laughing, big grin or laugh with glasses\",\n",
        "    u\"8‑D\":\"Laughing, big grin or laugh with glasses\",\n",
        "    u\"8D\":\"Laughing, big grin or laugh with glasses\",\n",
        "    u\"X‑D\":\"Laughing, big grin or laugh with glasses\",\n",
        "    u\"XD\":\"Laughing, big grin or laugh with glasses\",\n",
        "    u\"=D\":\"Laughing, big grin or laugh with glasses\",\n",
        "    u\"=3\":\"Laughing, big grin or laugh with glasses\",\n",
        "    u\"B\\^D\":\"Laughing, big grin or laugh with glasses\",\n",
        "    u\":-\\)\\)\":\"Very happy\",\n",
        "    u\":‑\\(\":\"Frown, sad, andry or pouting\",\n",
        "    u\":-\\(\":\"Frown, sad, andry or pouting\",\n",
        "    u\":\\(\":\"Frown, sad, andry or pouting\",\n",
        "    u\":‑c\":\"Frown, sad, andry or pouting\",\n",
        "    u\":c\":\"Frown, sad, andry or pouting\",\n",
        "    u\":‑<\":\"Frown, sad, andry or pouting\",\n",
        "    u\":<\":\"Frown, sad, andry or pouting\",\n",
        "    u\":‑\\[\":\"Frown, sad, andry or pouting\",\n",
        "    u\":\\[\":\"Frown, sad, andry or pouting\",\n",
        "    u\":-\\|\\|\":\"Frown, sad, andry or pouting\",\n",
        "    u\">:\\[\":\"Frown, sad, andry or pouting\",\n",
        "    u\":\\{\":\"Frown, sad, andry or pouting\",\n",
        "    u\":@\":\"Frown, sad, andry or pouting\",\n",
        "    u\">:\\(\":\"Frown, sad, andry or pouting\",\n",
        "    u\":'‑\\(\":\"Crying\",\n",
        "    u\":'\\(\":\"Crying\",\n",
        "    u\":'‑\\)\":\"Tears of happiness\",\n",
        "    u\":'\\)\":\"Tears of happiness\",\n",
        "    u\"D‑':\":\"Horror\",\n",
        "    u\"D:<\":\"Disgust\",\n",
        "    u\"D:\":\"Sadness\",\n",
        "    u\"D8\":\"Great dismay\",\n",
        "    u\"D;\":\"Great dismay\",\n",
        "    u\"D=\":\"Great dismay\",\n",
        "    u\"DX\":\"Great dismay\",\n",
        "    u\":‑O\":\"Surprise\",\n",
        "    u\":O\":\"Surprise\",\n",
        "    u\":‑o\":\"Surprise\",\n",
        "    u\":o\":\"Surprise\",\n",
        "    u\":-0\":\"Shock\",\n",
        "    u\"8‑0\":\"Yawn\",\n",
        "    u\">:O\":\"Yawn\",\n",
        "    u\":-\\*\":\"Kiss\",\n",
        "    u\":\\*\":\"Kiss\",\n",
        "    u\":X\":\"Kiss\",\n",
        "    u\";‑\\)\":\"Wink or smirk\",\n",
        "    u\";\\)\":\"Wink or smirk\",\n",
        "    u\"\\*-\\)\":\"Wink or smirk\",\n",
        "    u\"\\*\\)\":\"Wink or smirk\",\n",
        "    u\";‑\\]\":\"Wink or smirk\",\n",
        "    u\";\\]\":\"Wink or smirk\",\n",
        "    u\";\\^\\)\":\"Wink or smirk\",\n",
        "    u\":‑,\":\"Wink or smirk\",\n",
        "    u\";D\":\"Wink or smirk\",\n",
        "    u\":‑P\":\"Tongue sticking out, cheeky, playful or blowing a raspberry\",\n",
        "    u\":P\":\"Tongue sticking out, cheeky, playful or blowing a raspberry\",\n",
        "    u\"X‑P\":\"Tongue sticking out, cheeky, playful or blowing a raspberry\",\n",
        "    u\"XP\":\"Tongue sticking out, cheeky, playful or blowing a raspberry\",\n",
        "    u\":‑Þ\":\"Tongue sticking out, cheeky, playful or blowing a raspberry\",\n",
        "    u\":Þ\":\"Tongue sticking out, cheeky, playful or blowing a raspberry\",\n",
        "    u\":b\":\"Tongue sticking out, cheeky, playful or blowing a raspberry\",\n",
        "    u\"d:\":\"Tongue sticking out, cheeky, playful or blowing a raspberry\",\n",
        "    u\"=p\":\"Tongue sticking out, cheeky, playful or blowing a raspberry\",\n",
        "    u\">:P\":\"Tongue sticking out, cheeky, playful or blowing a raspberry\",\n",
        "    u\":‑/\":\"Skeptical, annoyed, undecided, uneasy or hesitant\",\n",
        "    u\":/\":\"Skeptical, annoyed, undecided, uneasy or hesitant\",\n",
        "    u\":-[.]\":\"Skeptical, annoyed, undecided, uneasy or hesitant\",\n",
        "    u\">:[(\\\\\\)]\":\"Skeptical, annoyed, undecided, uneasy or hesitant\",\n",
        "    u\">:/\":\"Skeptical, annoyed, undecided, uneasy or hesitant\",\n",
        "    u\":[(\\\\\\)]\":\"Skeptical, annoyed, undecided, uneasy or hesitant\",\n",
        "    u\"=/\":\"Skeptical, annoyed, undecided, uneasy or hesitant\",\n",
        "    u\"=[(\\\\\\)]\":\"Skeptical, annoyed, undecided, uneasy or hesitant\",\n",
        "    u\":L\":\"Skeptical, annoyed, undecided, uneasy or hesitant\",\n",
        "    u\"=L\":\"Skeptical, annoyed, undecided, uneasy or hesitant\",\n",
        "    u\":S\":\"Skeptical, annoyed, undecided, uneasy or hesitant\",\n",
        "    u\":‑\\|\":\"Straight face\",\n",
        "    u\":\\|\":\"Straight face\",\n",
        "    u\":$\":\"Embarrassed or blushing\",\n",
        "    u\":‑x\":\"Sealed lips or wearing braces or tongue-tied\",\n",
        "    u\":x\":\"Sealed lips or wearing braces or tongue-tied\",\n",
        "    u\":‑#\":\"Sealed lips or wearing braces or tongue-tied\",\n",
        "    u\":#\":\"Sealed lips or wearing braces or tongue-tied\",\n",
        "    u\":‑&\":\"Sealed lips or wearing braces or tongue-tied\",\n",
        "    u\":&\":\"Sealed lips or wearing braces or tongue-tied\",\n",
        "    u\"O:‑\\)\":\"Angel, saint or innocent\",\n",
        "    u\"O:\\)\":\"Angel, saint or innocent\",\n",
        "    u\"0:‑3\":\"Angel, saint or innocent\",\n",
        "    u\"0:3\":\"Angel, saint or innocent\",\n",
        "    u\"0:‑\\)\":\"Angel, saint or innocent\",\n",
        "    u\"0:\\)\":\"Angel, saint or innocent\",\n",
        "    u\":‑b\":\"Tongue sticking out, cheeky, playful or blowing a raspberry\",\n",
        "    u\"0;\\^\\)\":\"Angel, saint or innocent\",\n",
        "    u\">:‑\\)\":\"Evil or devilish\",\n",
        "    u\">:\\)\":\"Evil or devilish\",\n",
        "    u\"\\}:‑\\)\":\"Evil or devilish\",\n",
        "    u\"\\}:\\)\":\"Evil or devilish\",\n",
        "    u\"3:‑\\)\":\"Evil or devilish\",\n",
        "    u\"3:\\)\":\"Evil or devilish\",\n",
        "    u\">;\\)\":\"Evil or devilish\",\n",
        "    u\"\\|;‑\\)\":\"Cool\",\n",
        "    u\"\\|‑O\":\"Bored\",\n",
        "    u\":‑J\":\"Tongue-in-cheek\",\n",
        "    u\"#‑\\)\":\"Party all night\",\n",
        "    u\"%‑\\)\":\"Drunk or confused\",\n",
        "    u\"%\\)\":\"Drunk or confused\",\n",
        "    u\":-###..\":\"Being sick\",\n",
        "    u\":###..\":\"Being sick\",\n",
        "    u\"<:‑\\|\":\"Dump\",\n",
        "    u\"\\(>_<\\)\":\"Troubled\",\n",
        "    u\"\\(>_<\\)>\":\"Troubled\",\n",
        "    u\"\\(';'\\)\":\"Baby\",\n",
        "    u\"\\(\\^\\^>``\":\"Nervous or Embarrassed or Troubled or Shy or Sweat drop\",\n",
        "    u\"\\(\\^_\\^;\\)\":\"Nervous or Embarrassed or Troubled or Shy or Sweat drop\",\n",
        "    u\"\\(-_-;\\)\":\"Nervous or Embarrassed or Troubled or Shy or Sweat drop\",\n",
        "    u\"\\(~_~;\\) \\(・\\.・;\\)\":\"Nervous or Embarrassed or Troubled or Shy or Sweat drop\",\n",
        "    u\"\\(-_-\\)zzz\":\"Sleeping\",\n",
        "    u\"\\(\\^_-\\)\":\"Wink\",\n",
        "    u\"\\(\\(\\+_\\+\\)\\)\":\"Confused\",\n",
        "    u\"\\(\\+o\\+\\)\":\"Confused\",\n",
        "    u\"\\(o\\|o\\)\":\"Ultraman\",\n",
        "    u\"\\^_\\^\":\"Joyful\",\n",
        "    u\"\\(\\^_\\^\\)/\":\"Joyful\",\n",
        "    u\"\\(\\^O\\^\\)／\":\"Joyful\",\n",
        "    u\"\\(\\^o\\^\\)／\":\"Joyful\",\n",
        "    u\"\\(__\\)\":\"Kowtow as a sign of respect, or dogeza for apology\",\n",
        "    u\"_\\(\\._\\.\\)_\":\"Kowtow as a sign of respect, or dogeza for apology\",\n",
        "    u\"<\\(_ _\\)>\":\"Kowtow as a sign of respect, or dogeza for apology\",\n",
        "    u\"<m\\(__\\)m>\":\"Kowtow as a sign of respect, or dogeza for apology\",\n",
        "    u\"m\\(__\\)m\":\"Kowtow as a sign of respect, or dogeza for apology\",\n",
        "    u\"m\\(_ _\\)m\":\"Kowtow as a sign of respect, or dogeza for apology\",\n",
        "    u\"\\('_'\\)\":\"Sad or Crying\",\n",
        "    u\"\\(/_;\\)\":\"Sad or Crying\",\n",
        "    u\"\\(T_T\\) \\(;_;\\)\":\"Sad or Crying\",\n",
        "    u\"\\(;_;\":\"Sad of Crying\",\n",
        "    u\"\\(;_:\\)\":\"Sad or Crying\",\n",
        "    u\"\\(;O;\\)\":\"Sad or Crying\",\n",
        "    u\"\\(:_;\\)\":\"Sad or Crying\",\n",
        "    u\"\\(ToT\\)\":\"Sad or Crying\",\n",
        "    u\";_;\":\"Sad or Crying\",\n",
        "    u\";-;\":\"Sad or Crying\",\n",
        "    u\";n;\":\"Sad or Crying\",\n",
        "    u\";;\":\"Sad or Crying\",\n",
        "    u\"Q\\.Q\":\"Sad or Crying\",\n",
        "    u\"T\\.T\":\"Sad or Crying\",\n",
        "    u\"QQ\":\"Sad or Crying\",\n",
        "    u\"Q_Q\":\"Sad or Crying\",\n",
        "    u\"\\(-\\.-\\)\":\"Shame\",\n",
        "    u\"\\(-_-\\)\":\"Shame\",\n",
        "    u\"\\(一一\\)\":\"Shame\",\n",
        "    u\"\\(；一_一\\)\":\"Shame\",\n",
        "    u\"\\(=_=\\)\":\"Tired\",\n",
        "    u\"\\(=\\^\\·\\^=\\)\":\"cat\",\n",
        "    u\"\\(=\\^\\·\\·\\^=\\)\":\"cat\",\n",
        "    u\"=_\\^=\t\":\"cat\",\n",
        "    u\"\\(\\.\\.\\)\":\"Looking down\",\n",
        "    u\"\\(\\._\\.\\)\":\"Looking down\",\n",
        "    u\"\\^m\\^\":\"Giggling with hand covering mouth\",\n",
        "    u\"\\(\\・\\・?\":\"Confusion\",\n",
        "    u\"\\(?_?\\)\":\"Confusion\",\n",
        "    u\">\\^_\\^<\":\"Normal Laugh\",\n",
        "    u\"<\\^!\\^>\":\"Normal Laugh\",\n",
        "    u\"\\^/\\^\":\"Normal Laugh\",\n",
        "    u\"\\（\\*\\^_\\^\\*）\" :\"Normal Laugh\",\n",
        "    u\"\\(\\^<\\^\\) \\(\\^\\.\\^\\)\":\"Normal Laugh\",\n",
        "    u\"\\(^\\^\\)\":\"Normal Laugh\",\n",
        "    u\"\\(\\^\\.\\^\\)\":\"Normal Laugh\",\n",
        "    u\"\\(\\^_\\^\\.\\)\":\"Normal Laugh\",\n",
        "    u\"\\(\\^_\\^\\)\":\"Normal Laugh\",\n",
        "    u\"\\(\\^\\^\\)\":\"Normal Laugh\",\n",
        "    u\"\\(\\^J\\^\\)\":\"Normal Laugh\",\n",
        "    u\"\\(\\*\\^\\.\\^\\*\\)\":\"Normal Laugh\",\n",
        "    u\"\\(\\^—\\^\\）\":\"Normal Laugh\",\n",
        "    u\"\\(#\\^\\.\\^#\\)\":\"Normal Laugh\",\n",
        "    u\"\\（\\^—\\^\\）\":\"Waving\",\n",
        "    u\"\\(;_;\\)/~~~\":\"Waving\",\n",
        "    u\"\\(\\^\\.\\^\\)/~~~\":\"Waving\",\n",
        "    u\"\\(-_-\\)/~~~ \\($\\·\\·\\)/~~~\":\"Waving\",\n",
        "    u\"\\(T_T\\)/~~~\":\"Waving\",\n",
        "    u\"\\(ToT\\)/~~~\":\"Waving\",\n",
        "    u\"\\(\\*\\^0\\^\\*\\)\":\"Excited\",\n",
        "    u\"\\(\\*_\\*\\)\":\"Amazed\",\n",
        "    u\"\\(\\*_\\*;\":\"Amazed\",\n",
        "    u\"\\(\\+_\\+\\) \\(@_@\\)\":\"Amazed\",\n",
        "    u\"\\(\\*\\^\\^\\)v\":\"Laughing,Cheerful\",\n",
        "    u\"\\(\\^_\\^\\)v\":\"Laughing,Cheerful\",\n",
        "    u\"\\(\\(d[-_-]b\\)\\)\":\"Headphones,Listening to music\",\n",
        "    u'\\(-\"-\\)':\"Worried\",\n",
        "    u\"\\(ーー;\\)\":\"Worried\",\n",
        "    u\"\\(\\^0_0\\^\\)\":\"Eyeglasses\",\n",
        "    u\"\\(\\＾ｖ\\＾\\)\":\"Happy\",\n",
        "    u\"\\(\\＾ｕ\\＾\\)\":\"Happy\",\n",
        "    u\"\\(\\^\\)o\\(\\^\\)\":\"Happy\",\n",
        "    u\"\\(\\^O\\^\\)\":\"Happy\",\n",
        "    u\"\\(\\^o\\^\\)\":\"Happy\",\n",
        "    u\"\\)\\^o\\^\\(\":\"Happy\",\n",
        "    u\":O o_O\":\"Surprised\",\n",
        "    u\"o_0\":\"Surprised\",\n",
        "    u\"o\\.O\":\"Surpised\",\n",
        "    u\"\\(o\\.o\\)\":\"Surprised\",\n",
        "    u\"oO\":\"Surprised\",\n",
        "    u\"\\(\\*￣m￣\\)\":\"Dissatisfied\",\n",
        "    u\"\\(‘A`\\)\":\"Snubbed or Deflated\"\n",
        "}"
      ]
    },
    {
      "cell_type": "code",
      "execution_count": null,
      "metadata": {
        "id": "WzlUMTpy5w8r"
      },
      "outputs": [],
      "source": [
        "def convert_emoticons(text):\n",
        "    for emot in EMOTICONS:\n",
        "        text = re.sub(u'('+emot+')', \"_\".join(EMOTICONS[emot].replace(\",\",\"\").split()), text)\n",
        "    return text"
      ]
    },
    {
      "cell_type": "markdown",
      "metadata": {
        "id": "J1FAkeX768yI"
      },
      "source": [
        "**Removal of Punctuations**"
      ]
    },
    {
      "cell_type": "code",
      "execution_count": null,
      "metadata": {
        "id": "jHLOmDyK67In"
      },
      "outputs": [],
      "source": [
        "PUNCT_TO_REMOVE = string.punctuation\n",
        "\n",
        "def remove_punctuation(text):\n",
        "    \"\"\"custom function to remove the punctuation\"\"\"\n",
        "    return text.translate(str.maketrans('', '', PUNCT_TO_REMOVE))"
      ]
    },
    {
      "cell_type": "markdown",
      "metadata": {
        "id": "Zs08IGHn7EfO"
      },
      "source": [
        "**Removal of numbers**"
      ]
    },
    {
      "cell_type": "code",
      "execution_count": null,
      "metadata": {
        "id": "BFVifhE66_RX"
      },
      "outputs": [],
      "source": [
        "def remove_numbers(input):\n",
        "  input_str = re.sub(r'\\d+', \"\", input)\n",
        "  return input_str"
      ]
    },
    {
      "cell_type": "markdown",
      "metadata": {
        "id": "RdGsrjH67JWU"
      },
      "source": [
        "**Find emoji**"
      ]
    },
    {
      "cell_type": "code",
      "execution_count": null,
      "metadata": {
        "id": "737_gp3Q6_ik"
      },
      "outputs": [],
      "source": [
        "def extract_emojis(s):\n",
        "  return ''.join(c for c in s if c in emoji.UNICODE_EMOJI['en'])"
      ]
    },
    {
      "cell_type": "markdown",
      "metadata": {
        "id": "31LMG3RPkfDf"
      },
      "source": [
        "**Stemming**"
      ]
    },
    {
      "cell_type": "code",
      "execution_count": null,
      "metadata": {
        "id": "RieVE4aNkcQj"
      },
      "outputs": [],
      "source": [
        "stemmer = PorterStemmer()\n",
        "\n",
        "def stem_words(text):\n",
        "    return \" \".join([stemmer.stem(word) for word in text])"
      ]
    },
    {
      "cell_type": "markdown",
      "metadata": {
        "id": "99mo9EPGBLK_"
      },
      "source": [
        "**Word importance**"
      ]
    },
    {
      "cell_type": "code",
      "execution_count": null,
      "metadata": {
        "id": "lXzpc9RoBJzt"
      },
      "outputs": [],
      "source": [
        "# def get_word_importance(model,tfidf, top=15):\n",
        "\n",
        "#     important_tokens = pd.DataFrame(\n",
        "#         data=model.coef_[0],\n",
        "#         index=tfidf.get_feature_names(),\n",
        "#         columns=['Coefs']\n",
        "#     )\n",
        "\n",
        "#     important_tokens_pos = important_tokens.sort_values(by='Coefs', ascending=False)[:top]\n",
        "#     important_tokens_neg = important_tokens.sort_values(by='Coefs', ascending=False)[-top:]\n",
        "\n",
        "#     word_imp = important_tokens_pos.copy(deep=True)\n",
        "#     word_imp = word_imp.append(important_tokens_neg)\n",
        "\n",
        "#     plt.figure(figsize=(15,10))\n",
        "#     sns.barplot(x=word_imp.index, y='Coefs', data=word_imp)\n",
        "#     plt.title('Word importance')\n",
        "#     plt.xlabel('POS             vs.               NEG')\n",
        "#     plt.ylabel('word weight')\n",
        "#     plt.xticks(rotation=55)\n",
        "#     plt.show()"
      ]
    },
    {
      "cell_type": "markdown",
      "metadata": {
        "id": "u-8tpq3Pf09G"
      },
      "source": [
        "# **Preprocessing**"
      ]
    },
    {
      "cell_type": "code",
      "source": [
        "df.shape"
      ],
      "metadata": {
        "colab": {
          "base_uri": "https://localhost:8080/"
        },
        "id": "ZGd-xP9Y0VkQ",
        "outputId": "daef5e24-c7db-498e-e0a4-4407eebcd6f3"
      },
      "execution_count": null,
      "outputs": [
        {
          "output_type": "execute_result",
          "data": {
            "text/plain": [
              "(194616, 3)"
            ]
          },
          "metadata": {},
          "execution_count": 30
        }
      ]
    },
    {
      "cell_type": "code",
      "source": [
        "df.info()"
      ],
      "metadata": {
        "colab": {
          "base_uri": "https://localhost:8080/"
        },
        "id": "8C_-wLtV0XfG",
        "outputId": "12480987-797d-43f9-a335-60730fbcecde"
      },
      "execution_count": null,
      "outputs": [
        {
          "output_type": "stream",
          "name": "stdout",
          "text": [
            "<class 'pandas.core.frame.DataFrame'>\n",
            "Index: 194616 entries, 5tz52q to 1a801u\n",
            "Data columns (total 3 columns):\n",
            " #   Column  Non-Null Count   Dtype  \n",
            "---  ------  --------------   -----  \n",
            " 0   body    190507 non-null  object \n",
            " 1   score   194553 non-null  float64\n",
            " 2   title   194553 non-null  object \n",
            "dtypes: float64(1), object(2)\n",
            "memory usage: 5.9+ MB\n"
          ]
        }
      ]
    },
    {
      "cell_type": "markdown",
      "metadata": {
        "id": "3YpctjocWlLf"
      },
      "source": [
        "## **Check missing data**"
      ]
    },
    {
      "cell_type": "code",
      "execution_count": null,
      "metadata": {
        "colab": {
          "base_uri": "https://localhost:8080/"
        },
        "id": "ISW4cHeIWecP",
        "outputId": "83029d12-e7b0-4711-989b-adcf9917d583"
      },
      "outputs": [
        {
          "output_type": "execute_result",
          "data": {
            "text/plain": [
              "body     4109\n",
              "score      63\n",
              "title      63\n",
              "dtype: int64"
            ]
          },
          "metadata": {},
          "execution_count": 32
        }
      ],
      "source": [
        "df.isnull().sum()"
      ]
    },
    {
      "cell_type": "code",
      "execution_count": null,
      "metadata": {
        "colab": {
          "base_uri": "https://localhost:8080/",
          "height": 455
        },
        "id": "RTK4kbwwXL6e",
        "outputId": "53186334-d3c2-45e8-9fb3-fb05d6e9eebf"
      },
      "outputs": [
        {
          "output_type": "execute_result",
          "data": {
            "text/plain": [
              "       body  score                                              title\n",
              "id                                                                   \n",
              "5tr0co  NaN    4.0  Obese people are a very large portion of the p...\n",
              "4zcsif  NaN    2.0  A priest, a bishop, and a pontiff are all in a...\n",
              "4toft6  NaN    0.0  Plagiarism is cheating. If mrs trump cheated o...\n",
              "4rlhug  NaN    0.0                      Marriage is like childhood...\n",
              "4rlf8f  NaN    0.0         The worst excuse I have ever came up with.\n",
              "...     ...    ...                                                ...\n",
              "1avalc  NaN    0.0                    a dyslexic man walks into a bra\n",
              "1autf7  NaN   22.0  I tried searching on Google for 'Lost Medieval...\n",
              "1ajoog  NaN    0.0                                                591\n",
              "1ady2k  NaN    0.0                                I one the sandwich.\n",
              "1aa3wo  NaN  255.0  I found my first grey pubic hair today. I can ...\n",
              "\n",
              "[4109 rows x 3 columns]"
            ],
            "text/html": [
              "\n",
              "  <div id=\"df-93e99f02-0d5d-4ee5-bda7-0fb55e900b31\">\n",
              "    <div class=\"colab-df-container\">\n",
              "      <div>\n",
              "<style scoped>\n",
              "    .dataframe tbody tr th:only-of-type {\n",
              "        vertical-align: middle;\n",
              "    }\n",
              "\n",
              "    .dataframe tbody tr th {\n",
              "        vertical-align: top;\n",
              "    }\n",
              "\n",
              "    .dataframe thead th {\n",
              "        text-align: right;\n",
              "    }\n",
              "</style>\n",
              "<table border=\"1\" class=\"dataframe\">\n",
              "  <thead>\n",
              "    <tr style=\"text-align: right;\">\n",
              "      <th></th>\n",
              "      <th>body</th>\n",
              "      <th>score</th>\n",
              "      <th>title</th>\n",
              "    </tr>\n",
              "    <tr>\n",
              "      <th>id</th>\n",
              "      <th></th>\n",
              "      <th></th>\n",
              "      <th></th>\n",
              "    </tr>\n",
              "  </thead>\n",
              "  <tbody>\n",
              "    <tr>\n",
              "      <th>5tr0co</th>\n",
              "      <td>NaN</td>\n",
              "      <td>4.0</td>\n",
              "      <td>Obese people are a very large portion of the p...</td>\n",
              "    </tr>\n",
              "    <tr>\n",
              "      <th>4zcsif</th>\n",
              "      <td>NaN</td>\n",
              "      <td>2.0</td>\n",
              "      <td>A priest, a bishop, and a pontiff are all in a...</td>\n",
              "    </tr>\n",
              "    <tr>\n",
              "      <th>4toft6</th>\n",
              "      <td>NaN</td>\n",
              "      <td>0.0</td>\n",
              "      <td>Plagiarism is cheating. If mrs trump cheated o...</td>\n",
              "    </tr>\n",
              "    <tr>\n",
              "      <th>4rlhug</th>\n",
              "      <td>NaN</td>\n",
              "      <td>0.0</td>\n",
              "      <td>Marriage is like childhood...</td>\n",
              "    </tr>\n",
              "    <tr>\n",
              "      <th>4rlf8f</th>\n",
              "      <td>NaN</td>\n",
              "      <td>0.0</td>\n",
              "      <td>The worst excuse I have ever came up with.</td>\n",
              "    </tr>\n",
              "    <tr>\n",
              "      <th>...</th>\n",
              "      <td>...</td>\n",
              "      <td>...</td>\n",
              "      <td>...</td>\n",
              "    </tr>\n",
              "    <tr>\n",
              "      <th>1avalc</th>\n",
              "      <td>NaN</td>\n",
              "      <td>0.0</td>\n",
              "      <td>a dyslexic man walks into a bra</td>\n",
              "    </tr>\n",
              "    <tr>\n",
              "      <th>1autf7</th>\n",
              "      <td>NaN</td>\n",
              "      <td>22.0</td>\n",
              "      <td>I tried searching on Google for 'Lost Medieval...</td>\n",
              "    </tr>\n",
              "    <tr>\n",
              "      <th>1ajoog</th>\n",
              "      <td>NaN</td>\n",
              "      <td>0.0</td>\n",
              "      <td>591</td>\n",
              "    </tr>\n",
              "    <tr>\n",
              "      <th>1ady2k</th>\n",
              "      <td>NaN</td>\n",
              "      <td>0.0</td>\n",
              "      <td>I one the sandwich.</td>\n",
              "    </tr>\n",
              "    <tr>\n",
              "      <th>1aa3wo</th>\n",
              "      <td>NaN</td>\n",
              "      <td>255.0</td>\n",
              "      <td>I found my first grey pubic hair today. I can ...</td>\n",
              "    </tr>\n",
              "  </tbody>\n",
              "</table>\n",
              "<p>4109 rows × 3 columns</p>\n",
              "</div>\n",
              "      <button class=\"colab-df-convert\" onclick=\"convertToInteractive('df-93e99f02-0d5d-4ee5-bda7-0fb55e900b31')\"\n",
              "              title=\"Convert this dataframe to an interactive table.\"\n",
              "              style=\"display:none;\">\n",
              "        \n",
              "  <svg xmlns=\"http://www.w3.org/2000/svg\" height=\"24px\"viewBox=\"0 0 24 24\"\n",
              "       width=\"24px\">\n",
              "    <path d=\"M0 0h24v24H0V0z\" fill=\"none\"/>\n",
              "    <path d=\"M18.56 5.44l.94 2.06.94-2.06 2.06-.94-2.06-.94-.94-2.06-.94 2.06-2.06.94zm-11 1L8.5 8.5l.94-2.06 2.06-.94-2.06-.94L8.5 2.5l-.94 2.06-2.06.94zm10 10l.94 2.06.94-2.06 2.06-.94-2.06-.94-.94-2.06-.94 2.06-2.06.94z\"/><path d=\"M17.41 7.96l-1.37-1.37c-.4-.4-.92-.59-1.43-.59-.52 0-1.04.2-1.43.59L10.3 9.45l-7.72 7.72c-.78.78-.78 2.05 0 2.83L4 21.41c.39.39.9.59 1.41.59.51 0 1.02-.2 1.41-.59l7.78-7.78 2.81-2.81c.8-.78.8-2.07 0-2.86zM5.41 20L4 18.59l7.72-7.72 1.47 1.35L5.41 20z\"/>\n",
              "  </svg>\n",
              "      </button>\n",
              "      \n",
              "  <style>\n",
              "    .colab-df-container {\n",
              "      display:flex;\n",
              "      flex-wrap:wrap;\n",
              "      gap: 12px;\n",
              "    }\n",
              "\n",
              "    .colab-df-convert {\n",
              "      background-color: #E8F0FE;\n",
              "      border: none;\n",
              "      border-radius: 50%;\n",
              "      cursor: pointer;\n",
              "      display: none;\n",
              "      fill: #1967D2;\n",
              "      height: 32px;\n",
              "      padding: 0 0 0 0;\n",
              "      width: 32px;\n",
              "    }\n",
              "\n",
              "    .colab-df-convert:hover {\n",
              "      background-color: #E2EBFA;\n",
              "      box-shadow: 0px 1px 2px rgba(60, 64, 67, 0.3), 0px 1px 3px 1px rgba(60, 64, 67, 0.15);\n",
              "      fill: #174EA6;\n",
              "    }\n",
              "\n",
              "    [theme=dark] .colab-df-convert {\n",
              "      background-color: #3B4455;\n",
              "      fill: #D2E3FC;\n",
              "    }\n",
              "\n",
              "    [theme=dark] .colab-df-convert:hover {\n",
              "      background-color: #434B5C;\n",
              "      box-shadow: 0px 1px 3px 1px rgba(0, 0, 0, 0.15);\n",
              "      filter: drop-shadow(0px 1px 2px rgba(0, 0, 0, 0.3));\n",
              "      fill: #FFFFFF;\n",
              "    }\n",
              "  </style>\n",
              "\n",
              "      <script>\n",
              "        const buttonEl =\n",
              "          document.querySelector('#df-93e99f02-0d5d-4ee5-bda7-0fb55e900b31 button.colab-df-convert');\n",
              "        buttonEl.style.display =\n",
              "          google.colab.kernel.accessAllowed ? 'block' : 'none';\n",
              "\n",
              "        async function convertToInteractive(key) {\n",
              "          const element = document.querySelector('#df-93e99f02-0d5d-4ee5-bda7-0fb55e900b31');\n",
              "          const dataTable =\n",
              "            await google.colab.kernel.invokeFunction('convertToInteractive',\n",
              "                                                     [key], {});\n",
              "          if (!dataTable) return;\n",
              "\n",
              "          const docLinkHtml = 'Like what you see? Visit the ' +\n",
              "            '<a target=\"_blank\" href=https://colab.research.google.com/notebooks/data_table.ipynb>data table notebook</a>'\n",
              "            + ' to learn more about interactive tables.';\n",
              "          element.innerHTML = '';\n",
              "          dataTable['output_type'] = 'display_data';\n",
              "          await google.colab.output.renderOutput(dataTable, element);\n",
              "          const docLink = document.createElement('div');\n",
              "          docLink.innerHTML = docLinkHtml;\n",
              "          element.appendChild(docLink);\n",
              "        }\n",
              "      </script>\n",
              "    </div>\n",
              "  </div>\n",
              "  "
            ]
          },
          "metadata": {},
          "execution_count": 33
        }
      ],
      "source": [
        "df[df['body'].isna() == True]"
      ]
    },
    {
      "cell_type": "markdown",
      "source": [
        "There are not a lot of NaNs in 2 columns (score, title), we can just drop them."
      ],
      "metadata": {
        "id": "zwv6XrjJ0aNG"
      }
    },
    {
      "cell_type": "code",
      "execution_count": null,
      "metadata": {
        "id": "OzHIkM5LXQsm"
      },
      "outputs": [],
      "source": [
        "df.dropna(subset=['title', 'score'], inplace=True)"
      ]
    },
    {
      "cell_type": "markdown",
      "metadata": {
        "id": "EDREf-5q6uVS"
      },
      "source": [
        "So, now we have full jokes in body, not in title."
      ]
    },
    {
      "cell_type": "code",
      "execution_count": null,
      "metadata": {
        "colab": {
          "base_uri": "https://localhost:8080/"
        },
        "id": "VWfZ3CIrXQwN",
        "outputId": "bfd02616-9eb0-4f8b-9587-77b9ca126f0b"
      },
      "outputs": [
        {
          "output_type": "execute_result",
          "data": {
            "text/plain": [
              "body     4109\n",
              "score       0\n",
              "title       0\n",
              "dtype: int64"
            ]
          },
          "metadata": {},
          "execution_count": 35
        }
      ],
      "source": [
        "df.isna().sum()"
      ]
    },
    {
      "cell_type": "code",
      "source": [
        ""
      ],
      "metadata": {
        "id": "tUvOo23P17p3"
      },
      "execution_count": null,
      "outputs": []
    },
    {
      "cell_type": "markdown",
      "source": [
        "Now, we need to work with jokes without titles --> there I replace NaNs with \" \"."
      ],
      "metadata": {
        "id": "sq_a3OK718RY"
      }
    },
    {
      "cell_type": "code",
      "execution_count": null,
      "metadata": {
        "id": "CEAKti8JZZK3"
      },
      "outputs": [],
      "source": [
        "df['body'] = df['body'].fillna('')"
      ]
    },
    {
      "cell_type": "code",
      "execution_count": null,
      "metadata": {
        "colab": {
          "base_uri": "https://localhost:8080/"
        },
        "id": "x_Cl-X_rZZVh",
        "outputId": "8b8f568d-7edc-4b22-8e32-24cc3b8b2848"
      },
      "outputs": [
        {
          "output_type": "execute_result",
          "data": {
            "text/plain": [
              "body     0\n",
              "score    0\n",
              "title    0\n",
              "dtype: int64"
            ]
          },
          "metadata": {},
          "execution_count": 37
        }
      ],
      "source": [
        "df.isna().sum()"
      ]
    },
    {
      "cell_type": "code",
      "execution_count": null,
      "metadata": {
        "id": "LC1dNLRMbdQB"
      },
      "outputs": [],
      "source": [
        "df['score'] = df['score'].astype(np.int32)"
      ]
    },
    {
      "cell_type": "markdown",
      "metadata": {
        "id": "hqkSR-BCfDej"
      },
      "source": [
        "### **Make new df with full joke text**"
      ]
    },
    {
      "cell_type": "code",
      "execution_count": null,
      "metadata": {
        "id": "lymsUBNdURFu"
      },
      "outputs": [],
      "source": [
        "df[\"joke\"] = df[\"title\"] + \" \" + df[\"body\"]"
      ]
    },
    {
      "cell_type": "code",
      "execution_count": null,
      "metadata": {
        "id": "r30sVH2jVp0e"
      },
      "outputs": [],
      "source": [
        "df.drop(['title', 'body'], axis=1, inplace=True)"
      ]
    },
    {
      "cell_type": "code",
      "execution_count": null,
      "metadata": {
        "colab": {
          "base_uri": "https://localhost:8080/",
          "height": 237
        },
        "id": "3NLsr8cuVKQW",
        "outputId": "818293e2-e644-4d68-e04a-328b45a27427"
      },
      "outputs": [
        {
          "output_type": "execute_result",
          "data": {
            "text/plain": [
              "        score                                               joke\n",
              "id                                                              \n",
              "5tz52q      1  I hate how you cant even say black paint anymo...\n",
              "5tz4dd      0  What's the difference between a Jew in Nazi Ge...\n",
              "5tz319      0  I recently went to America.... ...and being th...\n",
              "5tz2wj      1  Brian raises his hand and says, “He’s in Heave...\n",
              "5tz1pc      0  You hear about the University book store worke..."
            ],
            "text/html": [
              "\n",
              "  <div id=\"df-147a7a7c-7379-4d7e-808e-f4a3e4b5b049\">\n",
              "    <div class=\"colab-df-container\">\n",
              "      <div>\n",
              "<style scoped>\n",
              "    .dataframe tbody tr th:only-of-type {\n",
              "        vertical-align: middle;\n",
              "    }\n",
              "\n",
              "    .dataframe tbody tr th {\n",
              "        vertical-align: top;\n",
              "    }\n",
              "\n",
              "    .dataframe thead th {\n",
              "        text-align: right;\n",
              "    }\n",
              "</style>\n",
              "<table border=\"1\" class=\"dataframe\">\n",
              "  <thead>\n",
              "    <tr style=\"text-align: right;\">\n",
              "      <th></th>\n",
              "      <th>score</th>\n",
              "      <th>joke</th>\n",
              "    </tr>\n",
              "    <tr>\n",
              "      <th>id</th>\n",
              "      <th></th>\n",
              "      <th></th>\n",
              "    </tr>\n",
              "  </thead>\n",
              "  <tbody>\n",
              "    <tr>\n",
              "      <th>5tz52q</th>\n",
              "      <td>1</td>\n",
              "      <td>I hate how you cant even say black paint anymo...</td>\n",
              "    </tr>\n",
              "    <tr>\n",
              "      <th>5tz4dd</th>\n",
              "      <td>0</td>\n",
              "      <td>What's the difference between a Jew in Nazi Ge...</td>\n",
              "    </tr>\n",
              "    <tr>\n",
              "      <th>5tz319</th>\n",
              "      <td>0</td>\n",
              "      <td>I recently went to America.... ...and being th...</td>\n",
              "    </tr>\n",
              "    <tr>\n",
              "      <th>5tz2wj</th>\n",
              "      <td>1</td>\n",
              "      <td>Brian raises his hand and says, “He’s in Heave...</td>\n",
              "    </tr>\n",
              "    <tr>\n",
              "      <th>5tz1pc</th>\n",
              "      <td>0</td>\n",
              "      <td>You hear about the University book store worke...</td>\n",
              "    </tr>\n",
              "  </tbody>\n",
              "</table>\n",
              "</div>\n",
              "      <button class=\"colab-df-convert\" onclick=\"convertToInteractive('df-147a7a7c-7379-4d7e-808e-f4a3e4b5b049')\"\n",
              "              title=\"Convert this dataframe to an interactive table.\"\n",
              "              style=\"display:none;\">\n",
              "        \n",
              "  <svg xmlns=\"http://www.w3.org/2000/svg\" height=\"24px\"viewBox=\"0 0 24 24\"\n",
              "       width=\"24px\">\n",
              "    <path d=\"M0 0h24v24H0V0z\" fill=\"none\"/>\n",
              "    <path d=\"M18.56 5.44l.94 2.06.94-2.06 2.06-.94-2.06-.94-.94-2.06-.94 2.06-2.06.94zm-11 1L8.5 8.5l.94-2.06 2.06-.94-2.06-.94L8.5 2.5l-.94 2.06-2.06.94zm10 10l.94 2.06.94-2.06 2.06-.94-2.06-.94-.94-2.06-.94 2.06-2.06.94z\"/><path d=\"M17.41 7.96l-1.37-1.37c-.4-.4-.92-.59-1.43-.59-.52 0-1.04.2-1.43.59L10.3 9.45l-7.72 7.72c-.78.78-.78 2.05 0 2.83L4 21.41c.39.39.9.59 1.41.59.51 0 1.02-.2 1.41-.59l7.78-7.78 2.81-2.81c.8-.78.8-2.07 0-2.86zM5.41 20L4 18.59l7.72-7.72 1.47 1.35L5.41 20z\"/>\n",
              "  </svg>\n",
              "      </button>\n",
              "      \n",
              "  <style>\n",
              "    .colab-df-container {\n",
              "      display:flex;\n",
              "      flex-wrap:wrap;\n",
              "      gap: 12px;\n",
              "    }\n",
              "\n",
              "    .colab-df-convert {\n",
              "      background-color: #E8F0FE;\n",
              "      border: none;\n",
              "      border-radius: 50%;\n",
              "      cursor: pointer;\n",
              "      display: none;\n",
              "      fill: #1967D2;\n",
              "      height: 32px;\n",
              "      padding: 0 0 0 0;\n",
              "      width: 32px;\n",
              "    }\n",
              "\n",
              "    .colab-df-convert:hover {\n",
              "      background-color: #E2EBFA;\n",
              "      box-shadow: 0px 1px 2px rgba(60, 64, 67, 0.3), 0px 1px 3px 1px rgba(60, 64, 67, 0.15);\n",
              "      fill: #174EA6;\n",
              "    }\n",
              "\n",
              "    [theme=dark] .colab-df-convert {\n",
              "      background-color: #3B4455;\n",
              "      fill: #D2E3FC;\n",
              "    }\n",
              "\n",
              "    [theme=dark] .colab-df-convert:hover {\n",
              "      background-color: #434B5C;\n",
              "      box-shadow: 0px 1px 3px 1px rgba(0, 0, 0, 0.15);\n",
              "      filter: drop-shadow(0px 1px 2px rgba(0, 0, 0, 0.3));\n",
              "      fill: #FFFFFF;\n",
              "    }\n",
              "  </style>\n",
              "\n",
              "      <script>\n",
              "        const buttonEl =\n",
              "          document.querySelector('#df-147a7a7c-7379-4d7e-808e-f4a3e4b5b049 button.colab-df-convert');\n",
              "        buttonEl.style.display =\n",
              "          google.colab.kernel.accessAllowed ? 'block' : 'none';\n",
              "\n",
              "        async function convertToInteractive(key) {\n",
              "          const element = document.querySelector('#df-147a7a7c-7379-4d7e-808e-f4a3e4b5b049');\n",
              "          const dataTable =\n",
              "            await google.colab.kernel.invokeFunction('convertToInteractive',\n",
              "                                                     [key], {});\n",
              "          if (!dataTable) return;\n",
              "\n",
              "          const docLinkHtml = 'Like what you see? Visit the ' +\n",
              "            '<a target=\"_blank\" href=https://colab.research.google.com/notebooks/data_table.ipynb>data table notebook</a>'\n",
              "            + ' to learn more about interactive tables.';\n",
              "          element.innerHTML = '';\n",
              "          dataTable['output_type'] = 'display_data';\n",
              "          await google.colab.output.renderOutput(dataTable, element);\n",
              "          const docLink = document.createElement('div');\n",
              "          docLink.innerHTML = docLinkHtml;\n",
              "          element.appendChild(docLink);\n",
              "        }\n",
              "      </script>\n",
              "    </div>\n",
              "  </div>\n",
              "  "
            ]
          },
          "metadata": {},
          "execution_count": 41
        }
      ],
      "source": [
        "df.head()"
      ]
    },
    {
      "cell_type": "markdown",
      "metadata": {
        "id": "WOA3wSnLck-Y"
      },
      "source": [
        "### **Dropping duplicates**"
      ]
    },
    {
      "cell_type": "code",
      "execution_count": null,
      "metadata": {
        "colab": {
          "base_uri": "https://localhost:8080/"
        },
        "id": "bCSI9b4EcUt3",
        "outputId": "a8df52db-0440-4d93-b338-4ffa176d7bab"
      },
      "outputs": [
        {
          "output_type": "execute_result",
          "data": {
            "text/plain": [
              "(194553, 2)"
            ]
          },
          "metadata": {},
          "execution_count": 42
        }
      ],
      "source": [
        "df.shape"
      ]
    },
    {
      "cell_type": "code",
      "execution_count": null,
      "metadata": {
        "colab": {
          "base_uri": "https://localhost:8080/"
        },
        "id": "UQjVNYo6cUzc",
        "outputId": "d8516e3e-1cf8-4a0d-9912-f8a4012bf37d"
      },
      "outputs": [
        {
          "output_type": "execute_result",
          "data": {
            "text/plain": [
              "(193906, 2)"
            ]
          },
          "metadata": {},
          "execution_count": 43
        }
      ],
      "source": [
        "df.drop_duplicates(inplace=True)\n",
        "df.shape"
      ]
    },
    {
      "cell_type": "markdown",
      "metadata": {
        "id": "1mmP107S0IeR"
      },
      "source": [
        "## **Cleaning**"
      ]
    },
    {
      "cell_type": "code",
      "execution_count": null,
      "metadata": {
        "id": "_uhhna12D_So"
      },
      "outputs": [],
      "source": [
        "text_col = 'joke'"
      ]
    },
    {
      "cell_type": "markdown",
      "metadata": {
        "id": "kiFJGs5i0L4m"
      },
      "source": [
        "**Lower Casing**  \n",
        "Lower casing is a common text preprocessing technique. The idea is to convert the input text into same casing format so that 'text', 'Text' and 'TEXT' are treated the same way.  \n",
        "\n",
        "This is more helpful for text featurization techniques like frequency, tfidf as it helps to combine the same words together thereby reducing the duplication and get correct counts / tfidf values.  \n",
        "\n",
        "**Some other parts like:** *html removal, extra whitespaces removal are also important.*\n",
        "\n",
        "These may not be helpful when we do tasks like Part of Speech tagging (where proper casing gives some information about Nouns and so on) and Sentiment Analysis (where upper casing refers to anger and so on)  "
      ]
    },
    {
      "cell_type": "code",
      "execution_count": null,
      "metadata": {
        "id": "bzxLl801z3Ra"
      },
      "outputs": [],
      "source": [
        "def text_preprocessing(df, col):\n",
        "    \n",
        "    #remove html tags\n",
        "    df[col] = df[col].apply(strip_html_tags)\n",
        "    print('>>> REMOVE HTML TAGS <<<')\n",
        "    print(df.head(1), '\\n')\n",
        "\n",
        "    #remove extra whitespaces\n",
        "    df[col] = df[col].apply(remove_whitespace)\n",
        "    print('>>> REMOVE EXTRA WHITESPACES <<<')\n",
        "    print(data.head(1), '\\n')\n",
        "\n",
        "    #remove accented characters\n",
        "    df[col] =  df[col].apply(remove_accented_chars)\n",
        "    print('>>> REMOVE ACCENTED CHARS <<<')\n",
        "    print(df.head(1), '\\n')\n",
        "\n",
        "    #expand contractions\n",
        "    df[col] =  df[col].apply(expand_contractions)\n",
        "    print('>>> EXPAND CONTRACTIONS <<<')\n",
        "    print(data.head(1), '\\n')\n"
      ]
    },
    {
      "cell_type": "code",
      "execution_count": null,
      "metadata": {
        "colab": {
          "base_uri": "https://localhost:8080/"
        },
        "id": "DJdKJqd00bb0",
        "outputId": "3b229b3b-a141-4d9e-9c96-68de6829b4e4"
      },
      "outputs": [
        {
          "output_type": "stream",
          "name": "stdout",
          "text": [
            ">>> REMOVE HTML TAGS <<<\n",
            "        score                                               joke\n",
            "id                                                              \n",
            "5tz52q      1  I hate how you cant even say black paint anymo... \n",
            "\n",
            ">>> REMOVE EXTRA WHITESPACES <<<\n",
            "                                                     body  score  \\\n",
            "id                                                                 \n",
            "5tz52q  Now I have to say \"Leroy can you please paint ...    1.0   \n",
            "\n",
            "                                                   title  \n",
            "id                                                        \n",
            "5tz52q  I hate how you cant even say black paint anymore   \n",
            "\n",
            ">>> REMOVE ACCENTED CHARS <<<\n",
            "        score                                               joke\n",
            "id                                                              \n",
            "5tz52q      1  I hate how you cant even say black paint anymo... \n",
            "\n",
            ">>> EXPAND CONTRACTIONS <<<\n",
            "                                                     body  score  \\\n",
            "id                                                                 \n",
            "5tz52q  Now I have to say \"Leroy can you please paint ...    1.0   \n",
            "\n",
            "                                                   title  \n",
            "id                                                        \n",
            "5tz52q  I hate how you cant even say black paint anymore   \n",
            "\n"
          ]
        }
      ],
      "source": [
        "text_preprocessing(df, col='joke')"
      ]
    },
    {
      "cell_type": "markdown",
      "metadata": {
        "id": "PhdntHHO5Die"
      },
      "source": [
        "**Removal of URLs**  \n",
        "Next preprocessing step is to remove any URLs present in the data. Probably we might need to remove them for our further analysis.\n"
      ]
    },
    {
      "cell_type": "markdown",
      "metadata": {
        "id": "cYs0s2Gs5EGC"
      },
      "source": [
        "1st of all, I check whether there are any URLs in dataset:"
      ]
    },
    {
      "cell_type": "code",
      "execution_count": null,
      "metadata": {
        "colab": {
          "base_uri": "https://localhost:8080/"
        },
        "id": "LfNXr4MK5F82",
        "outputId": "0a2e227c-43b7-4095-91e2-564ea299e0c9"
      },
      "outputs": [
        {
          "output_type": "stream",
          "name": "stdout",
          "text": [
            "['www.....That']\n",
            "['http://www.youtube.com/watch?v=xaFZrxlPwWs),']\n",
            "['http://m.imgur.com/x29gyvN', 'http://m.imgur.com/Q1iyUoT', 'http://m.imgur.com/hKRnGrT)', 'http://m.imgur.com/fqufGbK)']\n",
            "['http://www.afterfeed.com/)?\"']\n",
            "['https://www.reddit.com/r/Punny/comments/4zob6u/tonight_the_world_egg_throwing_federation_host_a/?st=ISBQLINS&sh=8da1321d']\n",
            "['www...\"']\n",
            "['http://www.merriam-webster.com/dictionary/hypocorism).\"']\n",
            "['https://techcrunch.com/2016/08/11/reddit-is-currently-experiencing-a-major-outage/']\n",
            "['https://m.vk.com/wall-55955185_3834']\n",
            "['https://en.m.wikipedia.org/wiki/Umami']\n",
            "['http://www.afterfeed.com/story/detail/13350/14-epic-jokes-by-chandler-bing-from-friends-that-will-make-hole-in-your-belly)']\n",
            "['http://www.dictionary.com/browse/evacuate)']\n",
            "['http://instantrimshot.com/)']\n",
            "['http://www.dictionary.com/browse/elope?s=t)']\n",
            "['http://you-tricks.blogspot.com/2016/07/asian-doctor.html)']\n",
            "['www..']\n",
            "['https://pbs.twimg.com/media/CjVBbALUoAAb6r_.jpg)']\n",
            "['www.curing-conjunctivitis.com']\n",
            "['http://www.fifa.com/worldcup/matches/round=255955/match=300186474/)']\n",
            "['www.....']\n",
            "['https://www.reddit.com/r/Jokes/comments/2qmkf0/tifu_by_mixing_up_by_wifes_sandwich_order_at/']\n",
            "['http://i.imgur.com/K7QSri1.gifv)', 'http://i.imgur.com/bzt6zGG.gifv).', 'https://i.imgur.com/oBabmbM.gifv)', 'http://i.imgur.com/3mE6alT.gifv)', 'http://i.imgur.com/YzM6UvT.gif)', 'http://i.imgur.com/HeCHBeA.gif)', 'http://i.imgur.com/gifbRrE.jpg)', 'http://i.imgur.com/97MEy.gif).']\n",
            "['https://www.reddit.com/live/wy0st0j6out0).']\n",
            "['https://en.wikipedia.org/wiki/Spoonerism)', 'https://www.youtube.com/watch?v=Z19kt3_Wc54)']\n",
            "['https://twitter.com/realdonaldtrump/status/728297587418247168']\n",
            "['https://www.reddit.com/r/MeanJokes/comments/2hezp9/why_do_sumo_wrestlers_shave_their_legs/)']\n",
            "['http://i.imgur.com/c2Vt1sd.jpg)']\n",
            "['http://en.wikipedia.org/wiki/Fortune_%28Unix%29)']\n",
            "['https://www.reddit.com/r/standupshots/comments/47j8dg/god_bless_us_every_one/)']\n",
            "['www...\"', 'www....']\n",
            "['https://en.wikipedia.org/wiki/BDSM)']\n",
            "['https://www.reddit.com/r/The_Donald/comments/4bafa9/what_do_ted_cruz_and_a_teenage_girls_bedroom_have/)']\n",
            "['https://www.reddit.com/r/harrypotter/comments/4b0cut/harry_potter_cant_tell_the_difference_between_his/)']\n",
            "['http://miami.craigslist.org/pbc/evs/5494716931.html']\n",
            "['http://www.investopedia.com/articles/optioninvestor/08/american-european-options.asp']\n",
            "['http://unusualplaces.org/you-s-route-50-americas-loneliest-road/),']\n",
            "['http://www.cnn.com/2016/03/15/politics/donald-trump-legal-fees-supporters/index.html']\n",
            "['http://xhamster.com/tags/big-cock']\n",
            "['http://weknowmemes.com/wp-content/uploads/2013/05/want']\n",
            "['https://www.reddit.com/r/AskReddit/comments/487b9m/what_superpower_is_ruined_the_most_by_real_world/d0hvyj0']\n",
            "['http://www.kidsworldfun.com/jokes.php#sthash.K81yzEbX.dpuf']\n",
            "['https://www.google.com/search?client=ms-android-att-us&hl=en-US&oe=utf-8&safe=images&q=morel+mushrooms&source=browser-suggest&qsubts=1457412200783&action=devloc).']\n",
            "['https://www.reddit.com/r/Jokes/comments/2pcec3/a_joke_is_like_a_frog/).']\n",
            "['https://www.washingtonpost.com/news/the-fix/wp/2016/03/06/joe-biden-just-told-a-very-good-joke-at-ted-cruzs-expense/']\n",
            "['http://thebuzzflare.com/woman-tries-to-trick-her-husband-with-a-letter-to-see-if-he-is-cheating/']\n",
            "['https://en.wikipedia.org/wiki/Letter_of_marque).']\n",
            "['https://www.reddit.com/r/Jokes/comments/48lziv/hey_guys_i_invented_a_new_word/']\n",
            "['http://www.snopes.com/politics/humor/cattleguards.asp)']\n",
            "['http://heyyeyaaeyaaaeyaeyaa.com/)']\n",
            "['www..']\n",
            "['https://soundcloud.com/yung-palmtree']\n",
            "['http://i.imgur.com/p7HBLoo.jpg']\n",
            "['https://www.reddit.com/r/Jokes/comments/47hj7i/how_do_you_annoy_a_reddittor/', 'https://www.reddit.com/r/Jokes/comments/47hh2d/how_do_you_annoy_a_reddittor/', 'https://www.reddit.com/r/Jokes/comments/47hgfg/how_do_you_annoy_a_reddittor/']\n",
            "['http://therealcape.com/wp-content/uploads/2015/06/white-van-png.jpg)']\n",
            "['http://image.shutterstock.com/display_pic_with_logo/947257/308963732/stock-vector-creative-vector-inspirational-poster-with-motivational-quote-think-positive-motivational-design-308963732.jpg)']\n",
            "['https://mail.google.com/mail/you/1/?ui=2&ik=3edba308cb&view=att&th=1531155186601fe9&attid=0.0&disp=safe&zw']\n",
            "['https://en.wikipedia.org/wiki/Booby)']\n",
            "['http://www.wikifeet.com/']\n",
            "['https://www.reddit.com/r/zelda/comments/3t1qt4/some_classic_zelda_jokes_from_an_old_issue_of/']\n",
            "['https://www.google.com/search?q=canadian+dollar+to+us+dollar&oq=canadian+dollar+to+us+dollar&aqs=chrome.0.0l6.4039j0j7&sourceid=chrome&es_sm=93&ie=UTF-8)']\n",
            "['http://www.washingtonpost.com/news/wonkblog/wp/2015/08/11/the-worlds-largest-seller-of-sugary-drinks-is-telling-people-how-to-lose-weight/)']\n",
            "['https://en.wikipedia.org/wiki/Coolidge_effect)']\n",
            "['http://www.mememaker.net/static/images/memes/4425600.jpg']\n",
            "['https://www.youtube.com/watch?v=YyDqoLimejg)']\n",
            "['https://recordsetter.com/world-record/most-armpit-farts-15-seconds/9602)']\n",
            "['http://crackfire.net/funny-engineering-jokes-only-few-have-heard.html']\n",
            "['https://en.wikipedia.org/wiki/Reticulated_python)']\n",
            "['http://www.theguardian.com/books/2009/mar/13/roman-joke-book-beard']\n",
            "['http://360trendz.com']\n",
            "['http://www.jokes4us.com/dirtyjokes/penisringjokes.html']\n",
            "['http://penguinproductions.org/comics?id=1']\n",
            "['https://www.reddit.com/r/Jokes/comments/44z1io/want_to_learn_how_to_keep_an_idiot_occupied_for/)']\n",
            "['https://www.reddit.com/r/pics/comments/44v24f/graffiti_out_side_of_levi_stadium_after_its/czta8lq']\n",
            "['https://www.reddit.com/r/AskReddit/comments/3ovic6/what_would_be_a_funny_thing_to_say_to_a_surgeon/cw0vu29)']\n",
            "['http://blog.dilbert.com/post/138729002731/friday-trump-joke']\n",
            "['https://en.wikipedia.org/wiki/Wagga_Wagga)']\n",
            "['http://puu.sh/mXB3Y/129ff5c7f0.jpg']\n",
            "['https://www.imageshack.us/i/pmqPA0DIj']\n",
            "['http://distractify.com/news/2016/02/04/mark-rape-supporters-feel-unsafe']\n",
            "['https://tfbsubscribers.github.io/']\n",
            "['www.reddit.com/r/jokes/new']\n",
            "['https://www.reddit.com/r/Jokes/comments/439v41/xbox_and_playstation_are_having_a_fight/)']\n",
            "['http://www.bbc.co.uk/programmes/articles/2MfpyYv8qpRjQy1wYC98BhR/9-top-science-jokes-from-radio-4-s-jim-al-khalili']\n",
            "['http://memesvault.com/wp-content/uploads/Feels-Good-Man-Frog-02.png)']\n",
            "['http://25.media.tumblr.com/6b1b800af79638830eef30deb8163bbf/tumblr_ms1l531JGu1s29n2zo1_250.gif)']\n",
            "['https://en.wikipedia.org/wiki/Tekken_Tag_Tournament)']\n",
            "['http://musicrepublicph.tumblr.com/post/136865361185/funniest-pinoy-pick-up-lines).']\n",
            "['http://sacramento.cbslocal.com/2016/01/22/nearly-50000-in-bull-semen-stolen-from-turlock-truck/']\n",
            "['http://newyork.cbslocal.com/photo-galleries/2016/01/23/blizzard-2016-brings-flooding-snow-to-new-jersey/)']\n",
            "['https://www.reddit.com/r/Jokes/comments/41qv3v/two_cannibals_are_eating_amy_schumer)\"']\n",
            "['https://www.reddit.com/r/Jokes/comments/14xi0m/make_me_laugh_and_ill_gift_you_one_game_on_steam/c7i265g)']\n",
            "['http://360trendz.com/quizzes/german-joke-or-english-joke/444']\n",
            "['https://en.m.wikipedia.org/wiki/Pleonasm)']\n",
            "['https://media2.giphy.com/media/FGmbEOTVWQHzW/200_s.gif)']\n",
            "['http://funnyentry.com/ny-pizza-rat-turns-to-cannibalism/']\n",
            "['https://en.wikipedia.org/wiki/The_Game_(mind_game)']\n",
            "['http://www.sickipedia.org/crime/animal-cruelty/the-wifes-insisting-i-quit-my-job-because-she-thinks-1671352#ixzz3wm6CrZd5)']\n",
            "['https://np.reddit.com/r/AskReddit/comments/3zp2d2/whats_your_best_mind_fuck_question/cynvgal)']\n",
            "['https://np.reddit.com/r/flying/comments/2mntbj/my_wifes_first_flight_as_captain/cm6ahb4)']\n",
            "['http://static.guim.co.uk/sys-images/Guardian/Pix/pictures/2012/4/4/1333548711318/Battleship-board-game-001.jpg)']\n",
            "['https://en.m.wikipedia.org/wiki/Computational_humor']\n",
            "['http://motherfuckingwebsite.com/']\n",
            "['http://money.cnn.com/2016/01/02/news/dairy-texas-storm-goliath/index.html?iid=hp-stack-dom)']\n",
            "[\"https://translate.google.co.uk/#fr/en/a%20l'eau%2C%20c'est%20l'heure)...\"]\n",
            "['https://qph.is.quoracdn.net/main-qimg-cd69b48373ff4d3a59878c205c56551a?convert_to_webp=true)', 'https://qph.is.quoracdn.net/main-qimg-a151dc499635e4cfb4c2d2ed2262a28b?convert_to_webp=true)...', 'https://qph.is.quoracdn.net/main-qimg-27f642b08fb87f078a110b90c5c5bf65?convert_to_webp=true)']\n",
            "['https://www.reddit.com/r/Jokes/comments/3ywg0j/one_word_to_overcomplicate_clickbait/)']\n",
            "['https://www.reddit.com/r/Jokes/),']\n",
            "['https://en.wikipedia.org/wiki/Michael_Schumacher']\n",
            "['http://steamcommunity.com/profiles/76561198082478987/inventory#730_2_4643655907)|[0.16765254735947](http://csgo.exchange/item/4643655907)||1.55', 'http://steamcommunity.com/profiles/76561198082478987/inventory#730_2_4643655756)|[0.12972939014435](http://csgo.exchange/item/4643655756)||4.74', 'http://steamcommunity.com/profiles/76561198082478987/inventory#730_2_4643655734)|[0.048772174865007](http://csgo.exchange/item/4643655734)||2.09', 'http://steamcommunity.com/profiles/76561198082478987/inventory#730_2_4643655702)|[0.13008892536163](http://csgo.exchange/item/4643655702)||4.07', 'http://steamcommunity.com/profiles/76561198082478987/inventory#730_2_4643655663)|[0.83317446708679](http://csgo.exchange/item/4643655663)||1.38', 'http://steamcommunity.com/profiles/76561198082478987/inventory#730_2_4643655629)|[0.32186883687973](http://csgo.exchange/item/4643655629)||1.65', 'http://steamcommunity.com/profiles/76561198082478987/inventory#730_2_4643655594)|[0.058275554329157](http://csgo.exchange/item/4643655594)||1.80', 'http://steamcommunity.com/profiles/76561198082478987/inventory#730_2_4643655533)|[0.13257637619972](http://csgo.exchange/item/4643655533)||1.58', 'http://steamcommunity.com/profiles/76561198082478987/inventory#730_2_4643655454)|[0.087523810565472](http://csgo.exchange/item/4643655454)||8.79', 'http://steamcommunity.com/profiles/76561198082478987/inventory#730_2_4643655411)|[0.35260063409805](http://csgo.exchange/item/4643655411)||6.52', 'http://steamcommunity.com/profiles/76561198082478987/inventory#730_2_4643655371)|[0.35919243097305](http://csgo.exchange/item/4643655371)||14.92', 'http://steamcommunity.com/profiles/76561198082478987/inventory#730_2_4637387690)|[0.40538841485977](http://csgo.exchange/item/4637387690)||6.32', 'http://steamcommunity.com/profiles/76561198082478987/inventory#730_2_4637387674)|[0.011530311778188](http://csgo.exchange/item/4637387674)|', 'http://steamcommunity.com/market/listings/730/Sticker', 'http://steamcommunity.com/market/listings/730/Sticker', 'http://steamcommunity.com/profiles/76561198082478987/inventory#730_2_4637387659)|[0.46574494242668](http://csgo.exchange/item/4637387659)|', 'http://steamcommunity.com/market/listings/730/Sticker', 'http://steamcommunity.com/market/listings/730/Sticker', 'http://steamcommunity.com/market/listings/730/Sticker', 'http://steamcommunity.com/profiles/76561198082478987/inventory#730_2_4637387645)|[0.17383845150471](http://csgo.exchange/item/4637387645)|', 'http://steamcommunity.com/market/listings/730/Sticker', 'http://steamcommunity.com/market/listings/730/Sticker', 'http://steamcommunity.com/market/listings/730/Sticker', 'http://steamcommunity.com/market/listings/730/Sticker', 'http://steamcommunity.com/profiles/76561198082478987/inventory#730_2_4637387629)|[0.043986722826958](http://csgo.exchange/item/4637387629)|', 'http://steamcommunity.com/market/listings/730/Sticker', 'http://steamcommunity.com/market/listings/730/Sticker', 'http://steamcommunity.com/market/listings/730/Sticker', 'http://steamcommunity.com/market/listings/730/Sticker', 'http://steamcommunity.com/profiles/76561198082478987/inventory#730_2_4637387622)|[0.38010358810425](http://csgo.exchange/item/4637387622)||15.91', 'http://steamcommunity.com/profiles/76561198082478987/inventory#730_2_4637387608)|[0.28313434123993](http://csgo.exchange/item/4637387608)||4.31', 'http://steamcommunity.com/profiles/76561198082478987/inventory#730_2_4637387599)|[0.48910874128342](http://csgo.exchange/item/4637387599)|', 'http://steamcommunity.com/market/listings/730/Sticker', 'http://steamcommunity.com/market/listings/730/Sticker', 'http://steamcommunity.com/market/listings/730/Sticker']\n",
            "['http://hotreddot.com/Escort/mixedchicksian-hrd-9813']\n",
            "['http://www.metacritic.com/game/pc/star-wars-battlefront', 'http://www.metacritic.com/game/pc/star-wars-battlefront-ii']\n",
            "['http://imgur.com/gallery/8u6m2Nv']\n",
            "['http://www.jokes4us.com/classicadult/picturejoke.html']\n",
            "['http://www.dailymail.co.uk/news/article-3361640/Saudi-millionaire-cleared-raping-teenager-telling-court-accidentally-penetrated-18-year-old-tripped-fell-her.html']\n",
            "['https://www.reddit.com/r/Jokes/comments/3x7nqa/list_of_the_best_jokes_on_this_sub/']\n",
            "['http://occ144datkn3vrjlq7r63p19.wpengine.netdna-cdn.com/wp-content/uploads/2013/03/httpstar-wars-daily.tumblr.com_.jpeg)']\n",
            "['http://www.eatliver.com/so-lonely/']\n",
            "['https://www.reddit.com/r/Jokes/comments/3ogi26/what_winks_and_fucks_like_a_tiger/)']\n",
            "['https://www.reddit.com/r/Jokes/comments/3wmv58/the_clown_joke_warning_very_long/cxxdzc6)**...']\n",
            "['http://www.jokeindex.com/joke.asp?Joke=3584']\n",
            "['http://thoughtcatalog.com/derek-marshall/2013/11/20-seriously-dark-anthony-jeselnik-jokes-that']\n",
            "['www.JebBush.com']\n",
            "['http://imgur.com/yzelyVT)']\n",
            "['http://blog.counter-strike.net/index.php/2015/12/13288/']\n",
            "['https://search.yahoo.com/yhs/search?p=i+can%27t+feel+my+face&ei=UTF-8&hspart=mozilla&hsimp=yhs-004']\n",
            "['https://www.reddit.com/r/Jokes/comments/3vm6mw)']\n",
            "['http://www.chemicalelements.com/elements/uuu.html)']\n",
            "['http://makeagif.com/vY9iUJ)']\n",
            "['http://www.mlive.com/wolverines/index.ssf/2015/12/michigans_jake_butt_wins_big_t.html']\n",
            "['https://upload.wikimedia.org/wikipedia/commons/3/39/Monument_Valley_Merrick_Butte.jpg)']\n",
            "['https://i.imgur.com/gKNf5ch.jpg)']\n",
            "['https://np.reddit.com/r/AskReddit/comments/3v4b1d/what_didnt_you_notice_about_yourself_until/cxki21e']\n",
            "['https://en.wikipedia.org/wiki/National_Sorry_Day']\n",
            "['http://hugeforanasian.com/product/huge-for-an-asian/']\n",
            "['https://www.reddit.com/r/AskReddit/comments/3unb5b/police_officers_of_reddit_when_was_the_last_time/cxgbbet)']\n",
            "['http://isha.sadhguru.org/blog/lifestyle/why-just-let-go-is-not-a-good-idea/)']\n",
            "['https://www.reddit.com/r/askscience/comments/3ul61p/why_do_wind_turbines_only_have_3_blades/)']\n",
            "['http://imgur.com/R6lGaGL']\n",
            "['http://i.imgur.com/Yt9AWCO.jpg)']\n",
            "['http://imgur.com/mNG0RMi']\n",
            "['http://36.media.tumblr.com/cb0ad7dd38767e0fc2363665afdb5cdd/tumblr_inline_ntae7hsEL21tw80r8_1280.jpg']\n",
            "['https://imgur.com/SHs2Vbt)']\n",
            "['https://pbs.twimg.com/media/CUkGFOhWsAAKvkB.png']\n",
            "['http://minestatus.co/post.php?id=630]']\n",
            "['www.google.corn']\n",
            "['https://np.reddit.com/r/pics/comments/3tp03o/in_canada_we_have_some_nice_falcons/cx8608n)']\n",
            "['http://gameofthrones.wikia.com/wiki/Wights']\n",
            "['https://upload.wikimedia.org/wikipedia/en/thumb/e/eb/NakedJuiceLogo.png/170px-NakedJuiceLogo.png)']\n",
            "['www.change.org/p/lgbt-stop-being-so-dramatic?recruiter=199864531&utm_source=share_petition&utm_medium=copylink']\n",
            "['http://www.citizenliberty.com/2015/11/so-what-do-islam-and-subway-common.html']\n",
            "['https://www.reddit.com/r/leagueoflegends/comments/3tj69g/a_chinese_theif_got_caught_in_net_cafe_while/cx6nvri)']\n",
            "['http://i.imgur.com/umSzUjp.gifv']\n",
            "['http://www.science20.com/news_articles/why_mice_have_longer_sperm_than_elephants-160077)']\n",
            "['http://instantrimshot.com/).']\n",
            "['http://i.imgur.com/HTrSOkJ.jpg']\n",
            "['http://www.npr.org/2015/11/18/456349585/gray-haired-granny-an-85-year-old-writer-goes-punk-rock-instead)', 'http://ask.metafilter.com/151893/Luckily-there-are-enough-parachutes-for-everyone-Evacuation-is-orderly#2177230)']\n",
            "['http://ftgtvgbyhnjkmjnhbgvfgbybhjnkmnhbg.com)']\n",
            "['https://www.reddit.com/r/Jokes/comments/3sxirv/a_man_walks_into_a_bar_and_orders_a_rum_and_coke/cx1bzxf)']\n",
            "['https://www.reddit.com/r/nottheonion/comments/3swygp/georgia_officials_kkk_using_adoptahighway_program/cx191zz)']\n",
            "['http://imgur.com/NSLx1SZ']\n",
            "['http://www.sbnation.com/nhl/2015/11/14/9736852/jets-predators-unsportsmanlike-penalties']\n",
            "['http://www.myflyertrains.org/AF_Catalogs/1951Catalog/AF_1951_catalog_page42.htm']\n",
            "['http://imgur.com/WmkIubI']\n",
            "['http://imgur.com/bbMl41W']\n",
            "['http://bettermyths.com/the-miller-is-one-drunk-motherfucker/']\n",
            "['http://poptrendz.com/collections/t-shirts/products/womens-t-shirt-2']\n",
            "['http://www.jokes4us.com/animaljokes/pigjokes.html']\n",
            "['http://dictionary.reference.com/browse/risky)']\n",
            "['http://flavors.sourpunch.com']\n",
            "['https://www.reddit.com/r/gifs/comments/3s2r68/custom_made_log_stripper/cwtldu4))']\n",
            "['http://i52.tinypic.com/2hh2all.jpg)']\n",
            "['http://images.amcnetworks.com/bbcamerica.com/wp-content/blogs.dir/18/files/2013/08/Doctorwho_50th-anniversary-thumbnail_01.jpg).']\n",
            "['http://www.reddit.com/r/askreddit/comments/3rwcjx/whats_the_worst_thing_you_could_hear_someone_say_eh_good_enough_to/cws9w2k)']\n",
            "['http://puu.sh/lcMkv.png']\n",
            "['http://i.imgur.com/PmlEqZ9.jpg']\n",
            "['http://i.imgur.com/U2U7s7n.jpg[/img]']\n",
            "['http://i.imgur.com/fXivJ5X.jpg', 'http://i.imgur.com/fXivJ5X.jpg)']\n",
            "['http://www.funzoned.com']\n",
            "['http://leftoversoup.com/cast.html)']\n",
            "['http://imgur.com/bc6kkxF)']\n",
            "['http://m.reddit.com/r/jokes']\n",
            "['https://www.reddit.com/r/IAmA/comments/3qgcf1/we_are_the_wolframalpha_team_ask_us_anything/cwewk0k']\n",
            "['https://youtu.be/8DYje57V_BY']\n",
            "['http://i.imgur.com/Gb5EaQr.jpg']\n",
            "['https://donate.feedthechildren.org']\n",
            "['https://www.reddit.com/r/MMA/comments/3px5oo/ufc_has_formally_reinstated_exchamp_jon_jones/)', 'http://www.ufc.com/news/UFC-Formally-Reinstates-Jon-Jones)']\n",
            "['https://www.reddit.com/user/NissanSkylineGT-R)']\n",
            "['http://imgur.com/gallery/XkJzDt3)']\n",
            "['http://www.roadsideamerica.com/tip/1763']\n",
            "['http://imgur.com/gallery/6QOgr']\n",
            "['http://www.clevescene.com/images/blogimages/2011/02/03/1296746854-ho-hos.jpg)']\n",
            "['https://www.reddit.com/r/pics/comments/3pmyh3/teachers_logic_in_grading_math/)', 'https://www.reddit.com/r/pics/comments/3pmyh3/teachers_logic_in_grading_math/cw7o1k6)', 'http://mathforum.org/dr.math/faq/faq.peasant.html)']\n",
            "['http://www.reddit.com/r/todayilearned/comments/3p86gr/til_that_so_many_people_died_by_ringing_church/cw4a1we']\n",
            "['https://www.reddit.com/r/Reddit50/comments/3p9d9z/girl_you_remind_me_of_an_alarm_clock/']\n",
            "['http://i.imgur.com/uRJyOmB.png']\n",
            "['https://www.youtube.com/watch?v=4ddMyIsxZ-g).']\n",
            "['https://www.reddit.com/r/AskReddit/comments/dxosj/what_word_or_phrase_did_you_totally_misunderstand/c13p7kn).']\n",
            "['https://instagram.com/p/85y3esyGyT/']\n",
            "['http://i.imgur.com/9HEfWT1.jpg)', 'http://i.imgur.com/JR1VTA0.jpg)']\n",
            "['https://anchor.fm/w/989B00']\n",
            "['http://www.naijahomeremedies.com/2015/10/Mouth-odor-remedies.html']\n",
            "['http://www.essentialbaby.com.au/life-style/current-affairs/dad-takes-35-viagra-pills-as-a-dare-20150920-gjqqt7.html']\n",
            "['http://www.ac-chem.net/news/definition-of-silane-ac05.html)']\n",
            "['http://www.jokes4us.com/ethnicjokes/mexicanjokes/jumpingoutofplanesjokes.html']\n",
            "['http://www.mirror.co.uk/news/world-news/professor-sexually-abused-severely-disabled-6576429']\n",
            "['http://imgur.com/XBmHG7I.']\n",
            "['https://www.reddit.com/r/Jokes/comments/1uia6a/a_snail_walks_into_a_car_dealership/)', 'https://www.reddit.com/r/Jokes/comments/1fz0k9/a_story_about_a_rope/)', 'https://www.reddit.com/r/ShaggyDogStories/']\n",
            "['https://www.reddit.com/r/Jokes/comments/2ib4wq/two_whales_are_chilling_in_the_ocean_when_a_boat/cl0y7sl)']\n",
            "['http://imgur.com/QdWVk4r']\n",
            "['http://www.ac-chem.net/news/the-rubber-crosslink-structure-8ab5.html)']\n",
            "['http://mentalfloss.com/article/57470/11-jokes-worlds-oldest-jokebook']\n",
            "['http://imgur.com/UiGwU3e']\n",
            "['https://ca.answers.yahoo.com/question/index?qid=20121209104938AAKihOC']\n",
            "['http://www.foxnews.com/slideshow/entertainment/2015/10/07/stars-who-are-the-same-age/#/slide/kylie-maisie-same-age']\n",
            "['http://www.mrlovenstein.com/images/comics/345_daft_for_donkey.png']\n",
            "['https://www.reddit.com/r/Jokes/comments/3nr339/how_do_you_keep_a_blonde_busy/)']\n",
            "['https://www.reddit.com/r/pics/comments/3nil7q/18ft_crocodile_named_brutus_caught_and_ate_this/cvokdmg)']\n",
            "['http://www.reddit.com/r/TrollXChromosomes/comments/3ndfzu/warning_very_political_sarcasm/cvnecky']\n",
            "['http://i.imgur.com/gNUYlpb.gif']\n",
            "['http://i.imgur.com/WFsyTn8.png']\n",
            "['http://1d4chan.org/wiki/Stubber', 'https://en.wikipedia.org/wiki/Browning_machine_gun']\n",
            "['http://imgur.com/3RM8yC2']\n",
            "['http://www.dswens.com/wp-content/uploads/2013/05/P1130541.jpg']\n",
            "['http://youtu.be/KWOk0xh_dV8']\n",
            "['http://www.mypokecard.com/en/my/tmp/NbAMr730rV.jpg?1443559757798', 'http://www.mypokecard.com/en/my/tmp/NbAMr730rV.jpg?1443560366724', 'http://www.mypokecard.com/en/my/tmp/NbAMr730rV.jpg?1443560012409', 'http://www.mypokecard.com/en/my/tmp/NbAMr730rV.jpg?1443560209380']\n",
            "['http://www.wambui-bahati.com/You-Do']\n",
            "['http://www.wambui-bahati.com/You-Do']\n",
            "['https://www.reddit.com/r/AskReddit/comments/3mkami/what_would_be_the_most_underwhelming_announcement/cvftmc3']\n",
            "['www.filopedia.org']\n",
            "['www...my']\n",
            "['http://i.imgur.com/ijAmlhi.png']\n",
            "['http://vignette3.wikia.nocookie.net/uncyclopedia/images/a/ac/Lostthegame.JPG/revision/latest?cb=20130318152840)']\n",
            "['https://en.wikipedia.org/wiki/Kyphosis).']\n",
            "['http://i.imgur.com/6Q1KD6K.jpg)', 'https://www.reddit.com/r/Jokes/comments/3m4zpu/i_hate_those_people_who_knock_on_your_door_and/)', 'https://www.reddit.com/r/Christianity/comments/3m3nzl/i_hate_those_people_who_knock_on_your_door_and/)']\n",
            "['http://imgur.com/r3DFIHQ']\n",
            "['https://www.reddit.com/r/AskReddit/comments/3m1q23/when_was_that_moment_you_realized_that_youre/cvbh9oe)']\n",
            "['http://www.reddit.com/r/pcmasterrace/comments/3m14n4/giveaway_any_game_60_or_less/cvb2ipg)']\n",
            "['https://getfedora.org/)']\n",
            "['https://scontent-sea1-1.xx.fbcdn.net/hphotos-xtp1/v/t1.0-9/11951929_1024791097552124_6723724955112904216_n.jpg?oh=1eceed16c7de9207fcb4d8f426b64c00&oe=567F2A9C)']\n",
            "['http://www.savagemill.com/wp-content/uploads/StoreFront_HandsOfTime.jpg)...']\n",
            "['http://www.ac-chem.net/news/crosslinking-agent-22-b1da.html)']\n",
            "['http://www.reddit.com/r/Jokes/comments/3lsgus/and_the_bartender_says_sorry_we_dont_serve_time/']\n",
            "['http://reactiongif.org/wp-content/uploads/GIF/2014/08/GIF-amazing-classic-funny-OMG-rap-rapper-shocked-stare-Supa-Hot-Fire-surprised-GIF.gif)']\n",
            "['http://www.reddit.com/r/Jokes/comments/3lsvu6/a_time_traveller_walks_into_a_bar/']\n",
            "['http://imgur.com/tdZrIAB']\n",
            "['http://rationalwiki.org/wiki/Neville_Chamberlain', 'https://en.wikipedia.org/wiki/World_War_II']\n",
            "['http://i.imgur.com/tXrW7HU.jpg).']\n",
            "['https://gyazo.com/96cc1d47896deae8c436aa8afb56f36b']\n",
            "['https://en.wikipedia.org/wiki/Spoonerism).']\n",
            "['https://i.imgur.com/WfHSJb5.jpg)']\n",
            "['https://www.reddit.com/r/Jokes/comments/277604/i_just_invented_a_new_word/)']\n",
            "['http://imgur.com/Rie20hf']\n",
            "['http://www.mayfieldsportsmarketing.com/wp-content/uploads/2014/05/Ha-Ha-Clinton-Dix.jpg']\n",
            "['https://www.google.com/?gws_rd=ssl#q=cat+in+french)']\n",
            "['http://funshayari.com/aashiq-banaya-aapne/']\n",
            "['http://www.funny-jokes-quotes.com/daily-life-situations.html#UQbK0SvD6QcItByk.99']\n",
            "['https://www.reddit.com/r/AskReddit/comments/3jul1x/what_critically_aclaimed_videogame_did_you_hate/cuslgfe']\n",
            "['http://imgur.com/YRGs7P0)']\n",
            "['http://imgur.com/qe7LBx5']\n",
            "['http://i.imgur.com/cx13xBc.png']\n",
            "['http://www.ahajokes.com/age49.html)']\n",
            "['https://en.wikipedia.org/wiki/Bhikkhuni)']\n",
            "['http://zelda.wikia.com/wiki/Link)']\n",
            "['http://www.fec.gov/press/resources/2016presidential_form2nm.shtml)']\n",
            "['https://www.reddit.com/r/Jokes/comments/3jm30p/why_business_people_continue_to_earn_more_than/']\n",
            "['http://i.imgur.com/aNurRdN.jpg](http://i.imgur.com/aNurRdN.jpg)']\n",
            "['http://www.davidpbrown.co.uk/jokes/european-commission.html)']\n",
            "['http://i.imgur.com/b9IbEUv.jpgs']\n",
            "['https://www.reddit.com/r/AskReddit/comments/yykyd/can_anyone_come_up_with_the_end_of_the_a_naked/c5zymvw']\n",
            "['http://chronicle.com/blogs/linguafranca/2015/09/02/best-linguistic-jokes-of-the-2015-fringe/']\n",
            "['https://translate.google.com/#auto/zh-CN/do%20not%20have)']\n",
            "['https://www.youtube.com/watch?v=97JSlRgOevg#t=5m38s)']\n",
            "['https://en.wikipedia.org/wiki/Hari_Merdeka']\n",
            "['https://www.reddit.com/r/mildlyinteresting/comments/3j3i7l/this_salt_is_more_than_280_million_years_old_but/cum4pdc)']\n",
            "['https://en.wikipedia.org/wiki/Martingale_(betting_system).\"', 'https://en.wikipedia.org/wiki/Planking_(fad)', 'https://en.wikipedia.org/wiki/October_2001']\n",
            "['http://morningafter.gawker.com/kanye-west-i-have-decided-in-2020-to-run-for-presiden-1727636053']\n",
            "['http://www.dailymail.co.uk/tvshowbiz/article-3213276/Kanye-West-announces-s-running-president-2020-admitting-d-smoked-joint-epic-acceptance-speech-MTV-VMAs.html)']\n",
            "['http://images4.fanpop.com/image/photos/21300000/John-Stamos-john-stamos-21331988-1611-1089.jpg)']\n",
            "['http://www.amazon.com/dp/B003VOY2VK/ref=cm_sw_r_fa_dp_MIZ4vb0TMXD8J']\n",
            "['https://www.reddit.com/r/Jokes/comments/2yw7dl/a_blonde_and_a_lawyer/)', 'https://www.reddit.com/r/Jokes/comments/1op0wo/so_3_men_die_and_go_to_heaven/).)']\n",
            "['http://litelomama.com/2015/08/22/indian-horror-movie-logic/']\n",
            "['http://www.zerohedge.com/sites/default/files/images/user3303/imageroot/2015/07-overflow/20150731_trump.jpg)']\n",
            "['http://Flourbomb.co.uk']\n",
            "['https://en.wikipedia.org/wiki/Rackett).']\n",
            "['http://teespring.com/Banana-Shirt#pid=369&cid=6519&sid=front']\n",
            "['https://www.reddit.com/r/Showerthoughts/comments/3iruvv/leather_armour_is_the_best_for_sneaking_because/)']\n",
            "['www...\",']\n",
            "['http://boards.straightdope.com/sdmb/showthread.php?t=169461']\n",
            "['https://twitter.com/WittyVachan/status/636626830607282176']\n",
            "['http://suryakanthi.info/baby-jokes/']\n",
            "['https://www.reddit.com/r/badlinguistics/comments/30x6zs/got_any_good_bad_linguistics_jokes_heres_one_you/)']\n",
            "['http://www.bbc.co.uk/news/uk-scotland-edinburgh-east-fife-34039927)']\n",
            "['http://www.bbc.com/news/uk-scotland-edinburgh-east-fife-34039927']\n",
            "['http://i100.independent.co.uk/article/the-10-funniest-jokes-from-the-2015-edinburgh-fringe-festival--WJ7tL6aZHl)']\n",
            "['http://www.bbc.com/news/uk-scotland-edinburgh-east-fife-34039927)]']\n",
            "['https://www.bbc.co.uk/news/uk-scotland-edinburgh-east-fife-34039927)']\n",
            "['https://www.bbc.co.uk/news/uk-scotland-edinburgh-east-fife-34039927)']\n",
            "['http://ww.key-n-lock.com']\n",
            "['http://i.imgur.com/plVQyUC.jpg']\n",
            "['http://redditmetrics.com/r/Jokes']\n",
            "[\"www.conjunctivitis.com'\"]\n",
            "['https://www.reddit.com/r/Jokes/comments/3hw68t/history_repeats_itself/)']\n",
            "['https://www.reddit.com/r/Showerthoughts/comments/3hy9wk/our_ultimate_goal_is_to_make_as_many_people_as/cubvlmh))']\n",
            "['https://en.m.wiktionary.org/wiki/fever']\n",
            "['www.etsy.com/shop/Turnip4YourThoughts']\n",
            "['https://file.subway.com/FileCenter05/login.aspx?ReturnUrl=%2fFileCenter05%2findex.aspx']\n",
            "['http://www.mspaintadventures.com/?s=6&p=001972)']\n",
            "['http://i.imgur.com/i9mD9jZ.gifv']\n",
            "['http://www.insetdesigns.com/images/daffodils-1.jpg)']\n",
            "['http://bigstory.ap.org/article/7f5b6433943644288ade95a1972eee5d/report-groundwater-pumping-california-has-land-sinking)']\n",
            "['http://franksms.com/funny-status-for-you/)']\n",
            "['http://www.laughfactory.com)']\n",
            "['https://www.reddit.com/r/cars/comments/3hftl3/my_dad_just_sent_me_a_message_that_said_the_cat/cu77374']\n",
            "['https://www.reddit.com/r/apple/comments/3hgadu/apple_iphone_6s_launching_on_september_18/)']\n",
            "['https://www.reddit.com/r/Music/comments/3h9zi9/chili_peppers_bassist_starts_apiary_fleas/))']\n",
            "['https://www.reddit.com/r/Jokes/comments/3h6uw6/nsfwslightly_offensive_what_is_the_best_thing/']\n",
            "['https://www.reddit.com/r/Jokes/comments/3h6bld/kim_kardashians_butt/)']\n",
            "['https://i.imgur.com/niu6mMM.jpg)']\n",
            "['https://www.reddit.com/r/Jokes/search?q=nun+on+a+wheelchair&restrict_sr=on&sort=relevance&t=all)']\n",
            "['http://img.brainjet.com/slides/3/9/0/0/6/4/3900648295/377fc78441ea21907a99551e720faa4c5f277dfc.png)']\n",
            "['http://imgur.com/mJI4utL']\n",
            "['http://imgur.com/gallery/OL4De)', 'http://imgur.com/user/miziziriz)']\n",
            "['http://www.reddit.com/r/AskReddit/comments/3grkqb/what_were_some_positive_accomplishments_made_by/']\n",
            "['http://img.izismile.com/img/img7/20140813/640/the_world_would_be_a_worse_place_without_boobs_640_01.jpg)']\n",
            "['http://instituteofeconomicunderstanding.org/palo-alto-real-estate.php/)\"']\n",
            "['http://www.sosyalmedya.site/web-bilgi-portali/']\n",
            "['http://www.fao.org/ag/magazine/0612sp1.htm']\n",
            "['https://www.reddit.com/user/priyankish)!)']\n",
            "['https://imgflip.com/i/p7bm5']\n",
            "['http://www.foxsports.com/college-football/outkick-the-coverage/republican-debate-drinking-game-080515?fb_comment_id=776870059088394_777016762407057#f35f0e2aa)']\n",
            "['http://economy.money.cnn.com/2012/10/10/california-texas-richard-fisher/']\n",
            "['https://www.reddit.com/r/Jokes/comments/1rwb5t/i_paid_a_homeless_lady_in_nashville_1_for_two/cdrqcwl?context=3']\n",
            "['http://forum.ebaumsworld.com/showthread.php?214277-Suicide-Hotline-Counterstrike-Prank&s=8511fee0bc858288199c7c373b2b0214']\n",
            "['http://tcrc.acor.org/jokeframe.html?joke=joke28)']\n",
            "['http://imgur.com/OkliuV3']\n",
            "['http://longestjokeintheworld.com/']\n",
            "['www.reddit.com']\n",
            "['http://longestjokeintheworld.com']\n",
            "['https://www.reddit.com/r/history/comments/3f536s/4000yearold_teenage_skeleton_unearthed_near/).**']\n",
            "['http://imgur.com/GAwU15Q)']\n",
            "['http://i.imgur.com/GhcXrbv.jpg)']\n",
            "['http://data1.whicdn.com/images/55422337/large.png)']\n",
            "['http://www.reddit.com/r/Windows10/comments/3ewv57/just_upgraded_to_this_windows_10_and_im_pretty/ctj4yl4)']\n",
            "['https://www.reddit.com/r/Showerthoughts/comments/3ez4sp/just_drove_from_california_to_illinois_with_a_fly/)']\n",
            "['http://www.imdb.com/title/tt0113188/?ref_=nmmd_md_tt1']\n",
            "['http://onlinebits.in/index.php?page=videogallery&cat=7&id=224']\n",
            "['http://awesomenight.net']\n",
            "['http://steamcommunity.com/profiles/76561198141185109/inventory#730_2_2448146209)|[0.11437220871449](http://csgo.exchange/item/2448146209)|*[Sticker', 'http://steamcommunity.com/market/listings/730/Sticker', 'http://steamcommunity.com/market/listings/730/Sticker', 'http://steamcommunity.com/profiles/76561198141185109/inventory#730_2_2953561697)|[0.11399491131306](http://csgo.exchange/item/2953561697)|*[Sticker', 'http://steamcommunity.com/market/listings/730/Sticker', 'http://steamcommunity.com/profiles/76561198141185109/inventory#730_2_2953561621)|[0.024910662323236](http://csgo.exchange/item/2953561621)|5', 'http://steamcommunity.com/profiles/76561198141185109/inventory#730_2_2945559109)|[0.18161450326443](http://csgo.exchange/item/2945559109)||3', 'http://steamcommunity.com/profiles/76561198141185109/inventory#730_2_2943930713)|[0.4073611497879](http://csgo.exchange/item/2943930713)||2', 'http://gyazo.com/bfe214589ea5f421b27b91afcb9b9cc2)', 'http://steamcommunity.com/profiles/76561198141185109/inventory#730_2_2916887598)|[0.057364393025637](http://csgo.exchange/item/2916887598)|*[Sticker', 'http://steamcommunity.com/market/listings/730/Sticker', 'http://steamcommunity.com/profiles/76561198091608851/inventory#730_2_2954121653)|[0.11858075112104](http://csgo.exchange/item/2954121653)|*[Sticker', 'http://steamcommunity.com/market/listings/730/Sticker', 'http://steamcommunity.com/market/listings/730/Sticker', 'http://steamcommunity.com/market/listings/730/Sticker', 'http://steamcommunity.com/profiles/76561198091608851/inventory#730_2_2930013709)|[0.53342854976654](http://csgo.exchange/item/2930013709)||10', 'http://steamcommunity.com/profiles/76561198091608851/inventory#730_2_2927221476)|[0.080810934305191](http://csgo.exchange/item/2927221476)||3']\n",
            "['https://www.reddit.com/r/Jokes/comments/3ei9ie/the_best_joke_i_know/)']\n",
            "['https://www.reddit.com/r/Jokes/comments/3eialt/oh_you_sneaky_little_bastard/)']\n",
            "['https://www.facebook.com/ImammahdidailyIII?fref=ts)']\n",
            "['https://meta.wikimedia.org/wiki/Cunningham%27s_Law)']\n",
            "['https://answers.yahoo.com/question/index?qid=20080608204814AAPJA5W)']\n",
            "['https://i.imgur.com/txMwWBX.jpg']\n",
            "['http://imgur.com/gallery/FGFV1Em/new']\n",
            "['http://imgur.com/gallery/OEtxUYb']\n",
            "['http://puu.sh/j83On/f79d53bf57.png']\n",
            "['www.AshleyMadison.com']\n",
            "['www.ChippedBeefOnToast.com']\n",
            "['http://wompwompwomp.com/)']\n",
            "['http://dictionary.reference.com/browse/putsch?s=ts)']\n",
            "['http://imgur.com/j0RM7h3']\n",
            "['http://www.jokes4us.com/miscellaneousjokes/foodjokes/bananajokes.html']\n",
            "['https://en.wikipedia.org/wiki/Bastille_Day)!)']\n",
            "['https://en.wikipedia.org/wiki/Central_limit_theorem).']\n",
            "['http://www.wikiwand.com/en/Cursing_the_fig_tree)']\n",
            "['http://www.dsl.ac.uk/]']\n",
            "['https://upload.wikimedia.org/wikipedia/commons/b/b8/Bp_station_zanesville_ohio.jpg)']\n",
            "['http://imgur.com/xUunghQ)']\n",
            "['https://www.reddit.com/r/Jokes/comments/3cpfri/i_found_a_nice_joke/)']\n",
            "['http://www.jokes4us.com/dirtyjokes/chinesetorturejoke.html).']\n",
            "['http://www.msnbc.com/msnbc/trump-ill-win-the-latino-vote']\n",
            "['http://giphy.com/gifs/tongue-cody-simpson-dAKdA1l0GETVS)']\n",
            "['http://www.splitz.com.br/problem', 'http://www.splitz.com.br/problem']\n",
            "['http://www.nydailynews.com/sports/football/russell-wilson-ciara-aren-sex-article-1.2283745)']\n",
            "['https://www.reddit.com/r/Jokes/comments/39zrqk/the_multilevel_meta_joke/cs8c5zw)']\n",
            "['www.facefullof.com']\n",
            "['http://i.imgur.com/1ALkAky.gifv']\n",
            "['http://www.kamagracheaper.eu/index.php?route=blog/article&article_id=3']\n",
            "['www.reddit.com']\n",
            "['https://i.imgur.com/z8uBXo0.jpg)']\n",
            "['http://imgur.com/762fAPG']\n",
            "['http://imgur.com/hcmqCjU']\n",
            "['http://q13fox.com/2015/07/01/homeless-man-who-found-turned-in-2400-leaves-police-with-one-more-surprise/)']\n",
            "['https://scontent-lga1-1.xx.fbcdn.net/hphotos-ash2/v/t1.0-9/600801_388558564581781_493680709_n.jpg?oh=f0eab7d0fffb92fbd289e855552978d1&oe=5614B621)']\n",
            "['https://www.reddit.com/r/Jokes/comments/3bvhab/recursion_walks_into_a_reddit_post_xpost_from/)']\n",
            "['http://www.unmovableobject.com/nonesense/ostrich-vs-coco/']\n",
            "['https://en.wikipedia.org/wiki/Hugh_Dennis)']\n",
            "['http://gallica.bnf.fr/ark:/12148/bpt6k209379m/f184.image']\n",
            "['http://www.newyorker.com/magazine/2015/05/04/the-engineers-lament)']\n",
            "['http://i.imgur.com/LXADoFR.jpg)']\n",
            "['http://www.reddit.com/r/antiantiantijokes/comments/3bccyc/the_chicken_sat_far_from_the_road_considering_its/)']\n",
            "['https://www.reddit.com/r/Jokes/comments/3b6lq7/woman_in_a_coma/csjgnqd](https://www.reddit.com/r/Jokes/comments/3b6lq7/woman_in_a_coma/csjgnqd)']\n",
            "['https://www.reddit.com/r/Guildwars2/comments/3b8p5o/why_thieves_are_a_medium_armor_class_in_gw2/']\n",
            "['http://www.digitaltrends.com/mobile/iphone-6-india-explodes-road/?utm_source=facebook&utm_medium=socialm&utm_campaign=mobile)']\n",
            "['http://postimg.org/image/o4l9bk8t5/']\n",
            "['http://imgur.com/yTGbPI0)']\n",
            "['http://www.sickipedia.org/racism/french/my-new-housemate-is-french-last-night-when-he-got-1644723']\n",
            "['http://www.usa.gov/directory/federal/)']\n",
            "['https://en.wikipedia.org/wiki/Dee_Barnes).']\n",
            "['http://cdn.charismanews.com/images/stories/2015/featured-news/Rachel-Dolezal.jpg)']\n",
            "['https://scontent-mia1-1.xx.fbcdn.net/hphotos-xap1/v/t1.0-9/s720x720/11202960_858688867539955_9213673678453179536_n.jpg?oh=c29b4a874228ceae54190d54b5244993&oe=562CFB25)']\n",
            "['http://www.google.com/search?hl=en&q=recursion', 'http://clickfifty.com/11-super-nerd-jokes-that']\n",
            "['http://www.reddit.com/r/pussypassdenied/comments/39z116/rachel_dolezal_resigns_as_president_of_naacp/cs94d83']\n",
            "['http://www.reddit.com/r/Jokes/comments/2q7fb1/multilevel_meta_joke/)']\n",
            "['http://www.reddit.com/r/Jokes/comments/39zo5p/wanna_hear_a_joke_about_recursion/)']\n",
            "['http://i.imgur.com/DbgAFxp.jpg)']\n",
            "['http://www.imdb.com/character/ch0289864/)', 'http://www.imdb.com/character/ch0371100/)']\n",
            "['https://twitter.com/AkposTheComedia)']\n",
            "['http://www.1500dollarblowjob.com']\n",
            "['http://www.today.com/news/teen-comes-out-closet-hilarious-senior-quote-t25881?cid=par-huffpost-gravity']\n",
            "['http://i.imgur.com/3j5vABi.png)']\n",
            "['https://en.wikipedia.org/wiki/Basque_Country_(autonomous_community)']\n",
            "['https://www.reddit.com/r/funny/comments/39gaj7/fair_point/']\n",
            "['http://www.bbc.com/sport/0/football/33099881']\n",
            "['http://www.bbc.com/sport/0/football/33099881']\n",
            "['https://imgur.com/TyluxVu).']\n",
            "['http://www.google.com/chrome']\n",
            "['http://www.reddit.com/r/Jokes/comments/36ae8e/what_do_you_call_a_questionable_porcine/)']\n",
            "['http://www.reddit.com/r/Showerthoughts/comments/38ywir/i_want_my_kids_middle_name_to_be_withawhy_just_to/crz16n6']\n",
            "['http://i.imgur.com/AbZiowN.jpg']\n",
            "['http://www.reddit.com/r/AskReddit/comments/38i70d/what_would_be_the_worst_machine_that_a/crv9i7p)']\n",
            "['https://en.wikipedia.org/wiki/Tardigrade)']\n",
            "['http://www.reddit.com/r/personalfinance/comments/38kmj9/what_do_i_do_if_the_bank_wont_take_my/crwbpxe']\n",
            "['http://www.reddit.com/r/AdviceAnimals/comments/38djjc/my_son_is_7_and_my_daughter_is_13/crul2sc)']\n",
            "['http://thegoodlordabove.com/features/details/32?ts_pid=2']\n",
            "['https://www.reddit.com/r/Jokes/comments/2w9vbq/what_is_the_difference_between_a_garbanzo_bean/']\n",
            "['https://www.facebook.com/TheBossJosh/videos/vb.100001840605416/905289419542403/?type=2&theater&notif_t=like']\n",
            "['https://twitter.com/neiltyson']\n",
            "['http://i.imgur.com/K4L0fXJ.jpg)']\n",
            "['http://www.bbc.co.uk/newsbeat/article/32928909/pakistani-spy-pigeon-arrested-in-india)']\n",
            "['http://steamcommunity.com/profiles/76561198047349378/)']\n",
            "['www.themysteriousbuttons.com']\n",
            "['http://spruchlos.spreadshirt.de/baertiger-A25896170/customize/color/5)']\n",
            "['https://www.reddit.com/r/self/comments/34kksj/could_i_get_some_feedback_on_my_jokes/)']\n",
            "['https://www.reddit.com/r/AntiJokes/).']\n",
            "['http://www.sickipedia.org/search/1/?q=italian']\n",
            "['http://www.hardporecorn.com/)']\n",
            "['http://www.imdb.com/title/tt0084855/)']\n",
            "['http://i.imgur.com/Wvc6GjP.png)']\n",
            "['http://i.imgur.com/Wvc6GjP.png', 'http://www.reddit.com/r/Jokes/comments/378c8g/a_guy_walks_into_a_bar/', 'http://www.reddit.com/r/Jokes/comments/378958/a_guy_walks_into_a_bar/', 'http://www.reddit.com/r/Jokes/comments/377zdr/a_guy_walks_into_a_bar/']\n",
            "['http://www.newyorker.com/magazine/2013/11/18/guy-walks-into-a-bar']\n",
            "['http://unitrending.co.uk/article/her-boyfriend-blindfolded-her-for-a-surprise-boy-what-a-mistake-that-was']\n",
            "['http://i.imgur.com/qKZ4gIf.jpg)']\n",
            "['https://www.reddit.com/r/Showerthoughts/comments/3715bp/one_mans_trash_is_another_mans_treasure_would_be/']\n",
            "['http://img0.joyreactor.com/pics/post/auto-blondes-officer-driver-200267.jpeg']\n",
            "['http://bloximages.newyork1.vip.townnews.com/columbiatribune.com/content/tncms/assets/v3/editorial/2/84/28449606-0957-5dce-ab5e-825615572221/54e7f92db8543.image.jpg?resize=800%2C543)']\n",
            "['http://www.reddit.com/r/AskReddit/comments/36u262/whats_the_best_joke_we_can_make_one_word_at_a_time/crh46r7)']\n",
            "['http://lustyyouth.tumblr.com/post/119359329507/affectionateghostie-maddoraptor-edwrad']\n",
            "['https://vine.co/v/eAzYADExnIO)']\n",
            "['http://en.wikipedia.org/wiki/Great_Famine_(Ireland)']\n",
            "['http://www.danielsen.com/jokes/signs.txt']\n",
            "['http://www.reddit.com/r/pics/comments/35vbw5/so_one_of_the_students_came_in_with_her_kid/']\n",
            "['http://en.wikipedia.org/wiki/Chi_Rho)']\n",
            "['https://www.google.ro/search?q=Milka&biw=1024&bih=635&site=webhp&source=lnms&tbm=isch&sa=X&ei=kp1QVejVFuP9ygPnr4GQCw&ved=0CAYQ_AUoAQ#tbm=isch&q=milka+cow&revid=2033489046)']\n",
            "['http://en.wikipedia.org/wiki/World%27s_funniest_joke']\n",
            "['http://lordsofthedrinks.com/the-jokes-dossier/']\n",
            "['http://imgur.com/c4CJjUd']\n",
            "['www.stgeorgecarsforsale.com']\n",
            "['http://www.cinderellastyle.com/can-you-tell-if-its-a-sex-toy-or-a-dog-toy-game-show/']\n",
            "['http://www.bingeeatingdisorder.com/']\n",
            "['http://ramit.in/cae8a98f12_nl.html']\n",
            "['http://teamcoco.com/jokes/may-5-2015-today-kim-kardashian-was-at-a-barnes-noble-in-new-york-signing-copies-of-her-new-book-of-selfies-extra-security-was-on-hand-just-in-case-any-real-books-tried-to-get-too-close-to-kim-kardashian)']\n",
            "['http://www.reddit.com/r/Jokes/comments/253so9/flirty_sex_jokes_eh/chf0k6e)\"']\n",
            "['http://i.imgur.com/3L6BtKf.png']\n",
            "['http://metalinjection.junipconcepts.netdna-cdn.com/wp-content/uploads/2014/08/Giraffe-Tongue-Orchestra.jpg?1fed28']\n",
            "['http://dadaviz.com/i/3971']\n",
            "['http://s3-ec.buzzfed.com/static/enhanced/webdr03/2013/2/15/11/enhanced-buzz-19988-1360946115-9.jpgWhen', 'http://s3-ec.buzzfed.com/static/enhanced/webdr03/2013/2/15/11/enhanced-buzz-19988-1360946115-9.jpg)']\n",
            "['www.9gag.com](http://9gag.com)']\n",
            "['http://imgur.com/gallery/Tae9PI5']\n",
            "['www.reddit.com']\n",
            "['http://en.wikipedia.org/wiki/Napolitano']\n",
            "['www.zachgalifianakis.com\"']\n",
            "['http://www.merriam-webster.com/dictionary/pinion).']\n",
            "['http://www.reddit.com/r/TumblrInAction/comments/345srk/new_logo_rape_culture/cqrk2f8)']\n",
            "['http://i.imgur.com/ifn9enX.jpg)']\n",
            "['http://www.reddit.com/r/Jokes/comments/33v1ba/the_dancing_cookie/)']\n",
            "['https://twitter.com/BillCorbett/status/592353920204156928)']\n",
            "['http://www.reddit.com/r/Jokes/comments/33y2z2/a_couple_went_on_a_cruise/)']\n",
            "['http://imgur.com/5Gd9VUI']\n",
            "['http://i157.photobucket.com/albums/t57/Thomzilla/Fazed/michael_j_fox_shaken_not_stirred.gif']\n",
            "['http://www.reddit.com/r/todayilearned/comments/33r25e/til_chinas_military_manpower_is_almost_twice_the/cqnqoql)']\n",
            "['https://38.media.tumblr.com/tumblr_m84tmvNfOP1qa4kw5o1_1280.gif).']\n",
            "['http://imgur.com/jxe8KFk']\n",
            "['http://www.jumbojoke.com/the_honest_lawyer.html']\n",
            "['http://imgur.com/hugGqpi']\n",
            "['http://imgur.com/rE1M8eh']\n",
            "['https://twitter.com/SciencePorn/status/589180545952776192.']\n",
            "['http://i3.kym-cdn.com/entries/icons/original/000/010/622/images.jpg']\n",
            "['http://imgur.com/DsTxUyi']\n",
            "['http://en.wikipedia.org/wiki/Dendrophilia_%28paraphilia%29)']\n",
            "['https://www.youtube.com/watch?v=Ej8EaLF382c)']\n",
            "['http://shpws.me/Ccuc']\n",
            "['http://famehorse.com/collection-of-great-comedians-jokes/)']\n",
            "['http://www.picklewizard.com']\n",
            "['https://vine.co/v/eu9MOKJaiYi']\n",
            "['http://www.sadtrombone.com/)']\n",
            "['https://www.bungie.net/7_Gearing-Up-for-House-of-Wolves/en/News/News?aid=12764)']\n",
            "['http://www.reddit.com/r/AskReddit/comments/32df3n/what_is_your_favorite_one_to_two_line_joke/']\n",
            "['http://gyazo.com/2306ac0a6ad22f91c046028359fce2f0']\n",
            "['https://twitter.com/YoMommasGhost']\n",
            "['http://en.wikipedia.org/wiki/HP_Sauce)']\n",
            "['https://www.youtube.com/watch?v=82ANkjVEpYk)']\n",
            "['https://sarahk18.files.wordpress.com/2013/03/happy-ba-dum-tss-l.jpg)']\n",
            "['https://thewhopcat.wordpress.com/']\n",
            "['http://jokes.cc.com)']\n",
            "['http://redd.it/3237u2)', 'http://redd.it/31v79j)']\n",
            "['http://i.imgur.com/q334iSV.jpg']\n",
            "['http://dlvr.it/9KT9Y6']\n",
            "['http://www.searshomeservices.com/refrigerators/repair?psid=70107908%3F&sid=HSRx20100514x0026&gclid&utm_source=msn&utm_medium=cpc&utm_campaign=Repair+-refrigerator&OVMTC=e&OVKEY=refrigerator+repair&url_id=70107908&device=c']\n",
            "['http://imgur.com/Sjrxt6L']\n",
            "['http://www.reddit.com/r/science/comments/31qjs5/brontosaurus_is_officially_a_dinosaur_again_new/']\n",
            "['http://www.urbandictionary.com/define.php?term=sound&defid=491809']\n",
            "['http://www.reddit.com/r/tifu/comments/31lt1a/tifu_by_visiting_a_massage_parlor_in_china_nsfw/)']\n",
            "['www.crazyhumor.net']\n",
            "['https://www.reddit.com/r/IAmA/comments/31g6qc/i_am_a_don_hertzfeldt_filmmaker_ama/cq1dzn8']\n",
            "['http://www.reddit.com/r/AskReddit/comments/31epih/what_have_you_been_most_tempted_to_do_but_never/cq0v158?context=1)']\n",
            "['http://ijboudreaux.com/2014/12/08/missing-letter-r/)']\n",
            "['http://www.etcpb.com/wp-content/uploads/2015/03/Mom-thinks-I-run-google.jpg)']\n",
            "['http://www.jokes4us.com/holidayjokes/easterjokes/easteronelinersjokes.html']\n",
            "['http://en.wikipedia.org/wiki/Distraction_osteogenesis)']\n",
            "['http://longestjokeintheworld.com/']\n",
            "['http://www.reddit.com/r/math/comments/311bts/a_joke_my_russian_math_professor_told/)']\n",
            "['http://i.imgur.com/asy1AU4.png']\n",
            "['http://www.everydayfails.com/articles/wordpress-is-shutting-down/']\n",
            "['http://challenges.runkeeper.com/netflixmarathon/)']\n",
            "['http://i.imgur.com/aT7QoyW.png']\n",
            "['http://www.everydayfails.com/articles/wordpress-is-shutting-down/']\n",
            "['http://www.reddit.com/r/Jokes/comments/31065v/i_broke_my_finger_today/']\n",
            "['https://www.kickstarter.com/projects/98659800/a-dad-joke-a-day']\n",
            "['http://lordsofthedrinks.com/2015/03/30/joke-the-drunkard-and-the-bum/']\n",
            "['www...mom!!!,']\n",
            "['http://www.spudstravels.com/Travel%20Archive/Caribbean/Jamaica_images/Cannabis%20-%20close.jpg)']\n",
            "['http://imgur.com/gallery/he4epJo/']\n",
            "['http://www.wwwdotcom.com/']\n",
            "['http://www.dhmo.org/facts.html']\n",
            "['http://imgur.com/dkKxyoa)']\n",
            "['http://reddit.com/r/MensRights/']\n",
            "['http://sendprankmail.com']\n",
            "['http://www.tickld.com/x/the-25-best-two-line-jokes-ever-14-is-priceless']\n",
            "['http://imgur.com/gallery/NDOov4L)']\n",
            "['http://www.newswise.com/articles/scientists-confirm-institute-of-medicine-recommendation-for-vitamin-d-intake-was-miscalculated-and-is-far-too-low']\n",
            "['http://www.reddit.com/r/EverythingScience/search?q=trickiest%20penis&restrict_sr=on)', 'http://www.smithsonianmag.com/science-nature/trickiest-part-first-successful-penis-transplant-finding-donor-180954639/#jjepM4Ilez1bXcBI.16).']\n",
            "['http://www.reddit.com/r/Jokes/comments/2zlrot/how_many_feminists_does_it_take_to_change_a/']\n",
            "['http://puzzling.stackexchange.com/questions/10542/where-is-jennifers-husband']\n",
            "['http://i.imgur.com/rQvpv5h.jpg)']\n",
            "['http://www.reddit.com/r/Youwritethepunchline/comments/2zg1zy/what_did_the_drunken_irishman_say_to_the_chinese/']\n",
            "['http://imgur.com/SS2MTXg']\n",
            "['http://www.jokes4us.com/holidayjokes/stpatricksdayjokes/stpatricksdayonelinersjokes.html']\n",
            "['http://explosm.net/comics/3866/)']\n",
            "['http://imgur.com/r/dasa2828/r73VJe3']\n",
            "['http://i.imgur.com/9ohNxGM.jpg)']\n",
            "['http://i.imgur.com/VUmou.gif)']\n",
            "['http://www.babycenter.com/baby-names-beronica-233035.htm#ccPostCommentContainerAnchor']\n",
            "['http://cdn.webfail.com/upl/img/076d053aa99/post2.jpg)']\n",
            "['http://imgur.com/a/XKkQB']\n",
            "['https://en.wikipedia.org/wiki/Mohs_scale_of_mineral_hardness#Minerals).']\n",
            "['http://www.reddit.com/r/Jokes/comments/2yhlf0/a_man_goes_to_a_bar/)']\n",
            "['http://imgur.com/OJKPTJr']\n",
            "['http://en.m.wikipedia.org/wiki/Vine_%28service%29)']\n",
            "['https://www.comedy.co.uk/guide/tv/qi/episodes/6/10/)']\n",
            "['http://phys.org/news/2015-03-giant-methane-storms-uranus.html']\n",
            "['http://www.reddit.com/r/science/comments/2ybgx8/giant_methane_storms_on_uranus/)']\n",
            "['http://www.phespirit.info/montypython/four_yorkshiremen.htm']\n",
            "['http://www.jokecenter.com/jokes/Sex/650.htm)']\n",
            "['http://i.imgur.com/giiRBOi.jpghttp://i.imgur.com/1DYBcoH.jpg']\n",
            "['http://www.telegraph.co.uk/technology/apple/8841347/Steve-Jobs-regretted-trying-to-beat-cancer-with-alternative-medicine-for-so-long.html)']\n",
            "['https://www.youtube.com/watch?v=OU0yHAtqe4k']\n",
            "['http://www.reddit.com/r/Jokes/comments/2xs04j/today_i_got_in_touch_with_my_inner_self/']\n",
            "['http://www.longestjokeintheworld.com)']\n",
            "['https://pistol-forum.com/showthread.php?15166-C3-carry-An-apology&p=299046&viewfull=1#post299046']\n",
            "['http://www.yoaca.com/jokes/what-do-you-want-to-be-when-you-grow-up/)']\n",
            "['http://rack.1.mshcdn.com/media/ZgkyMDE0LzA1LzA2L2JhL2tldmluc3BhY2V5LmM2ZmQ0LmpwZwpwCXRodW1iCTEyMDB4OTYwMD4/400be200/144/kevin-spacey-house-of-cards-now.jpg)']\n",
            "['http://imgur.com/PicyJVo', 'http://m.imgur.com/ZpuTHdE', 'http://imgur.com/1xAiQfO', 'http://imgur.com/ChHorXe', 'http://imgur.com/j3HvAoP']\n",
            "['http://xkcd.com/703/)']\n",
            "['https://redandblackbritain.wordpress.com/humour/']\n",
            "['http://en.wikipedia.org/wiki/Commonwealth_of_Independent_States)']\n",
            "['https://redandblackbritain.wordpress.com/humour/']\n",
            "['http://www.reddit.com/r/AskReddit/comments/2x64xb/what_is_the_stupidest_thing_that_has_come_out_of/cox9xd2)']\n",
            "['www.....That']\n",
            "['https://allwrong.wordpress.com/2007/10/05/penguin-riddles/)']\n",
            "['http://imgur.com/58opxef)']\n",
            "['http://www.reddit.com/r/Jokes/comments/267ij0/a_physicist_sees_a_young_man_about_to_jump_off/)']\n",
            "['http://i.imgur.com/JL86MY3.png']\n",
            "['https://www.youtube.com/watch?v=O0wOD9TWynM).']\n",
            "['http://i.imgur.com/UnpW5R6.gif']\n",
            "['http://imgur.com/zR7wcds']\n",
            "['http://xboxclips.com/Kolt+the+Don/f1dd03d5-32b3-4238-9134-393050b8d254']\n",
            "['www...']\n",
            "['http://imgur.com/Rmc4pha']\n",
            "['http://123.elm.street/house/bluetrim.html']\n",
            "['http://en.m.wikipedia.org/wiki/Double-slit_experiment)']\n",
            "['http://www.reddit.com/r/AskReddit/comments/2w92u2/how_would_life_and_society_be_different_if_we/coox2mp']\n",
            "['http://farm3.static.flickr.com/2444/4075352320_21271e99e9.jpg).']\n",
            "['www.onebadjoke.com']\n",
            "['www.onebadjoke.com']\n",
            "['http://i.imgur.com/U3roe7r.png)']\n",
            "['http://www.reddit.com/r/AskReddit/comments/2w124x/whats_the_least_politically_correct_fact_you_know/comwhvs?context=2)']\n",
            "['http://blog.prahladyeri.com)']\n",
            "['http://www.torontovasectomyclinics.ca/aboutvasectomy.html)']\n",
            "['http://en.wikipedia.org/wiki/Cycloheptane)']\n",
            "['http://i.imgur.com/jKdoV69.jpg)']\n",
            "['http://www.yoaca.com/jokes/valentines-day/)']\n",
            "['http://www.cs.cmu.edu/~mihaib/humor/told.jokes)']\n",
            "['http://peggy-s.livejournal.com/318323.html)']\n",
            "['http://imgur.com/H8rLjub', 'http://imgur.com/J3hC4Ci']\n",
            "['https://www.youtube.com/watch?v=qJ_PKMbdNTU']\n",
            "['www.Heaven.com.', 'www.Purgatory.com.']\n",
            "['http://www.twogag.com/archives/3023))']\n",
            "['http://terashare.net)']\n",
            "['http://www.npr.org/2015/02/08/384663218/bruce-jenner-involved-in-fatal-car-crash']\n",
            "['http://www.reddit.com/r/Jokes/comments/2uuii3/a_man_goes_to_prison_joke_with_two_opposite/)', 'http://www.reddit.com/r/Jokes/comments/1dcjht/moms_birthday_gifts/)']\n",
            "['https://www.youtube.com/watch?v=6-RfZDiayDI']\n",
            "['http://i.imgur.com/1v6wJu5.jpg)']\n",
            "['https://www.youtube.com/watch?v=jYVrp_GsinE']\n",
            "['http://jay-tees.spreadshirt.com/worth-a-shot-A101280866/)']\n",
            "['http://www.vice.com/series/kids-telling-dirty-jokes']\n",
            "['http://www.reddit.com/r/nottheonion/comments/2ukpmk/mummified_monk_is_not_dead_and_in_rare_meditative/co9aa4a)']\n",
            "['http://www.reddit.com/r/Jokes/comments/2uo0uh/the_donut_joke/)*', 'http://www.reddit.com/r/Jokes/comments/2uo0uh/the_donut_joke/)']\n",
            "['http://www.reddit.com/r/Jokes/comments/2uo27r/a_couples_50th_wedding_anniversary/)']\n",
            "['http://i.imgur.com/81efmaC.jpg?1', 'http://i.imgur.com/XYqJ27Q.jpg?1', 'http://i.imgur.com/gzPjIRb.jpg?1']\n",
            "['http://shadyjokes.com/what-do-we-call-people-living-in-turkey-latest-whatsapp-joke/)']\n",
            "['http://www.reddit.com/r/Jokes/comments/2u248l/a_woodchopper_from_the_middle_east_is_looking_for/)']\n",
            "['https://www.reddit.com/r/videos/comments/2uje2o/how_to_lose_weight_fast/?submit_url=https%3A%2F%2Fwww.youtube.com%2Fwatch%3Fv%3DzfOy5Ghv9rM&already_submitted=true']\n",
            "['http://www.reddit.com/r/pcmasterrace/comments/2ucdks/why_did_the_peasant_cross_the_road/)[/r/PCMasterRace](http://www.reddit.com/r/pcmasterrace/)']\n",
            "['http://en.wikipedia.org/wiki/East_Germany_jokes)']\n",
            "['http://www.reddit.com/r/pcmasterrace/comments/2ucdks/why_did_the_peasant_cross_the_road/)']\n",
            "['http://en.wikipedia.org/wiki/Kaufhaus_des_Westens)']\n",
            "['https://www.youtube.com/watch?v=lC39oeMwCJ8']\n",
            "['http://www.reddit.com/user/UsagiMimi/)']\n",
            "['http://gizmodo.com/comcast-changed-customers-name-to-asshole-brown-but-i-1682409072']\n",
            "['https://www.youtube.com/watch?v=rMMFHcRSjR8']\n",
            "['www.enterwebsite.com']\n",
            "['http://lordsofthedrinks.com/2015/01/28/joke-the-genie-and-the-tiny-pianist/']\n",
            "['https://www.youtube.com/watch?v=6JZfR4PwIbs']\n",
            "['http://www.amazon.com/gp/product/0761171894/ref=as_li_qf_sp_asin_il_tl?ie=UTF8&camp=1789&creative=9325&creativeASIN=0761171894&linkCode=as2&tag=books074f4-20&linkId=RM7LTZRYC6W77VL7']\n",
            "['https://imgflip.com/i/gumlv']\n",
            "['https://translate.google.com/m/translate#en/zh-CN/Governess)']\n",
            "['http://imgur.com/GeYB7xY']\n",
            "['http://i.imgur.com/ZtNtzNP.gif)']\n",
            "['https://www.youtube.com/watch?v=OA8_TlOsV_w#t=82']\n",
            "['https://sites.google.com/site/thepunctuationstore/']\n",
            "['http://www.reddit.com/r/Jokes/comments/2tjg13/heres_the_one_way_to_avoid_clickbait_screw_the/)']\n",
            "['http://en.wikipedia.org/wiki/Mohel)']\n",
            "['https://www.youtube.com/watch?v=Uuzmub5PXNQ)']\n",
            "['http://www.reddit.com/r/AskReddit/comments/2tc8bn/how_do_you_subtly_fuck_with_people/cny3ig0)']\n",
            "['http://www.readquotestoday.com/2014/06/poem-competition-between-husband-and.html']\n",
            "['www..']\n",
            "['http://www.reddit.com/r/Jokes/comments/2q2uaq/how_many_karma_whores_does_it_take_to_change_a/)']\n",
            "['http://longestjokeintheworld.com']\n",
            "['http://explosm.net/comics/3155/']\n",
            "['http://youtu.be/rdnTvgK2o5I)']\n",
            "['http://i.imgur.com/hrZyIyv.jpg']\n",
            "['www.Heaven.com.', 'www.Purgatory.com.']\n",
            "['https://s3.yimg.com/bt/api/res/1.2/wHZD91BvGpVovqtyt7MJ2A--/YXBwaWQ9eW5ld3M7cT04NTt3PTMxMA--/http://media.zenfs.com/en-US/blogs/partner/470_2270986.0)']\n",
            "['https://www.youtube.com/watch?v=elOlE-wEpoE&feature=youtu.be']\n",
            "['http://nookbank.com/jokes', 'http://nookbank.com/jokes']\n",
            "['http://www.culinaryadventuresinthekitchen.com/wp-content/uploads/2011/12/naan4.jpg)']\n",
            "['http://features.cgsociety.org/newgallerycrits/g51/7551/7551_1217259273_large.jpg),']\n",
            "['https://i.imgur.com/meGn3q2.jpg']\n",
            "['http://www.reddit.com/r/funny/comments/2rzta8/weve_been_getting_weekly_visits_from_the_jehovahs/cnl0tgx)']\n",
            "['www.emo.com/wrists']\n",
            "['http://youtu.be/jENBlYJ6eOk']\n",
            "['www.emo.com/wrists']\n",
            "['http://en.wikipedia.org/wiki/Agust%C3%ADn_Lara']\n",
            "['http://en.wikipedia.org/wiki/Russian_jokes#Poruchik_Rzhevsky)', 'http://en.wikipedia.org/wiki/Alexander_Pushkin)']\n",
            "['http://www.sickipedia.org/religion/muslim/i']\n",
            "['http://i.imgur.com/O5yDQjp.jpg']\n",
            "['http://www.politico.com/blogs/media/2015/01/correction-of-the-day-200768.html?ml=tl_4']\n",
            "['http://imgur.com/QCGvrG7']\n",
            "['http://en.m.wikipedia.org/wiki/Leprosy]']\n",
            "['http://www.reddit.com/r/mildlyinteresting/comments/2rn2no/my_dad_found_disposable_french_press_coffee_at/cnhs0t1)']\n",
            "['http://m.imgur.com/cjYphZQ']\n",
            "['http://www.magikbit.com/english/mix/portafortuna.php']\n",
            "['http://vimeo.com/109935412)', 'http://vimeo.com/109935412)']\n",
            "['http://vulpes-aurum.deviantart.com/art/Backache-Darren-149248532']\n",
            "['http://cdn.wideopenspaces.com/wp-content/uploads/2014/12/hickok-620x330.jpg)']\n",
            "['http://i49.tinypic.com/22gqk7.jpg']\n",
            "['http://imgur.com/Ty82Ugc', 'http://imgur.com/69lQnye']\n",
            "['http://www.amazon.com/dp/B00RNG3772']\n",
            "['http://imgur.com/BnBLkkb']\n",
            "['https://www.youtube.com/watch?v=Gr1p4KtgOXc)']\n",
            "['https://www.youtube.com/watch?v=va9sVhWuAv8&feature=youtu.be']\n",
            "['http://nookbank.com/jokes', 'http://nookbank.com/jokes']\n",
            "['http://oi61.tinypic.com/33kak2a.jpg']\n",
            "['http://www.reddit.com/r/todayilearned/comments/2r1fdv/til_in_2013_zimbabwes_national_public_account/cnbnv13)']\n",
            "['http://www.reddit.com/r/Jokes/comments/2qws98/i_used_to_have_sex_daily/cnao23o?context=3)']\n",
            "['http://youtu.be/DmI_PcJQ6Wo']\n",
            "['http://imgur.com/sVY1npo', 'http://xkcd.com/327/)']\n",
            "['https://en.wikipedia.org/wiki/Joint_Direct_Attack_Munition']\n",
            "['https://www.reddit.com/r/Jokes/comments/2qph5b/one_of_the_funniest_vampire_jokes/)', 'https://en.wikipedia.org/wiki/Wop)']\n",
            "['http://nookbank.com/jokes', 'http://nookbank.com/jokes']\n",
            "['www.*']\n",
            "['http://www.pickuptonight.com']\n",
            "['http://nookbank.com/jokes']\n",
            "['http://youtu.be/up0hpQIjBig']\n",
            "['http://jokstop.com/1sY']\n",
            "['http://nookbank.com/jokes']\n",
            "['http://nookbank.com/jokes']\n",
            "['http://i.imgur.com/oZxmOzJ.png[/img]']\n",
            "['http://www.chingadget.com/']\n",
            "['http://s27.postimg.org/8inkoc6xv/S6300633.jpg']\n",
            "['http://www.bbcgoodfood.com/sites/bbcgoodfood.com/files/recipe_images/recipe-image-legacy-id--484543_12.jpg)', 'http://310627192.r.worldcdn.net/media/k2/items/cache/af88af4b69789d0bf0e92bcf2849ed05_Generic.jpg']\n",
            "['http://www.businessinsider.com/r-north-korea-proposes-joint-probe-with-the-us-into-sony-cyber-attack-kcna-2014-12']\n",
            "['https://www.youtube.com/watch?v=s4_OBPxJgjY)']\n",
            "['http://streetpranks.blogspot.co.uk/2014/11/dangerous-joke-everbaby-is-being.html']\n",
            "['http://youtu.be/tYjTmLU-n6k']\n",
            "['http://www.reddit.com/r/Jokes/comments/2psosp/so_theres_a_man_crawling_through_the_desert/cmzn3c0)']\n",
            "['http://www.rallyflipcap.com/merry-christmas-hat/']\n",
            "['http://www.jokes4us.com/classicadult/blowjobjoke.html']\n",
            "['http://redditmetrics.com/r/Jokes']\n",
            "['http://reddit.com/r/Jokes/comments/2oy5fe/i_made_up_a_new_word/']\n",
            "['http://www.jokes4us.com/holidayjokes/christmasjokes/']\n",
            "['https://www.youtube.com/watch?v=70V57UBIt7o']\n",
            "['http://www.reddit.com/r/Jokes/comments/2pcrur/sweet_old_couple/)']\n",
            "['http://observer.com/2014/12/exclusive-new-york-mags-boy-genius-investor-made-it-all-up/', 'http://www.zerohedge.com/news/2014-12-16/17-year-old-trading-genius-who-made-72-million-actually-just-made-it-all']\n",
            "['http://www.reddit.com/r/Jokes/comments/2pi5rn/so_how_do_you_confuse_a_blonde_redditor/)']\n",
            "['http://www.thegeekbyte.com/install-wordpress-localhost/']\n",
            "['http://grabfile.co/189159']\n",
            "['http://imgur.com/a/sMZuf']\n",
            "['http://streetpranks.blogspot.co.uk/2014/12/funny-poor-boy-sweet-backflip-lollss.html']\n",
            "['http://en.wikipedia.org/wiki/File:Sting.ogg)']\n",
            "['http://www.youtube.com/watch?feature=player_detailpage&v=NbUSjexRJm4#t=196']\n",
            "['https://games.yahoo.com/blogs/plugged-in/xbox-one-surges-to-console-victory-in-november-012230994.html']\n",
            "['http://www.reddit.com/r/dndnext/comments/2oxhlr/this_arrived_in_the_mail_today_i_havent_even_had/cmrsue3)']\n",
            "['http://www.savagechickens.com/2005/03/door-number-one.html)']\n",
            "['http://smile.xonaki.com/Joke/EN?categoryCode=EN&jokeId=562#mainBody)']\n",
            "['http://smile.xonaki.com/Joke/EN?categoryCode=EN&jokeId=814#mainBody)']\n",
            "['http://smile.xonaki.com/Joke/EN?categoryCode=EN&jokeId=274#mainBody)']\n",
            "['http://smile.xonaki.com/Joke/EN?categoryCode=EN&jokeId=558)']\n",
            "['http://smile.xonaki.com/Joke/EN?categoryCode=EN&jokeId=567)']\n",
            "['http://m.imgur.com/gallery/3axkvOQ)']\n",
            "['http://imgur.com/a/4C5UB)']\n",
            "['http://en.wikipedia.org/wiki/Carabiner)']\n",
            "['http://smile.xonaki.com/Joke/EN?categoryCode=EN&jokeId=569)']\n",
            "['http://smile.xonaki.com/Joke/EN?categoryCode=EN&jokeId=573)', 'http://smile.xonaki.com/Joke/EN?categoryCode=EN&jokeId=573)']\n",
            "['http://www.historytoday.com/blog/2011/10/victorian-jokes-best-19th-century-humour']\n",
            "['http://learn2geek.com']\n",
            "['http://i.imgur.com/mYfg770.gif']\n",
            "['http://pmcvariety.files.wordpress.com/2014/11/star-wars-teaser.png?w=670&h=351&crop=1']\n",
            "['http://tjmix.net/index.php/videos?task=latest&id=557&sl=latest&layout=simple']\n",
            "['http://imgur.com/qfirGti']\n",
            "['http://redd.it/2o1hgq']\n",
            "['http://www.plainjanegames.com/funstuff/bestblondejoke.htm)']\n",
            "['http://imgur.com/o70OpuF']\n",
            "['http://i.imgur.com/BNx13aq.jpg)']\n",
            "['http://www.reddit.com/r/AskReddit/comments/2noeoo/what_bullshit_fact_can_you_come_up_with_that/cmfd0bj']\n",
            "['http://www.youtube.com/watch?v=F9YqCP_B7EU', 'http://www.youtube.com/watch?v=MSHr4ubuD64', 'http://www.youtube.com/watch?v=mVZmW59AAgw', 'http://www.youtube.com/watch?v=4zLfCnGVeL4', 'https://www.youtube.com/watch?v=HWv72L4wgCc', 'https://www.youtube.com/watch?v=OG3PnQ3tgzY', 'https://www.youtube.com/watch?v=HwSKkKrUzUk', 'https://www.youtube.com/watch?v=SPcsMMEMbfw', 'https://www.youtube.com/watch?v=FdsedY0foGc', 'https://www.youtube.com/watch?v=33o32C0ogVM', 'https://www.youtube.com/watch?v=r2pt2-F2j2g']\n",
            "['http://youtu.be/M6f1vovJTP4']\n",
            "['https://www.youtube.com/watch?v=Ps0MfBG5-Uo#t=1m24s)']\n",
            "['http://youtu.be/UlJ5GhYzHIY']\n",
            "['https://riverchurchtelford.files.wordpress.com/2013/03/jesus.jpg)']\n",
            "['http://imgur.com/a/Zt8X6']\n",
            "['http://imgur.com/gallery/hyQna']\n",
            "['http://smile.xonaki.com/Joke/EN?categoryCode=EN&jokeId=136#mainBody)']\n",
            "['http://smile.xonaki.com/Joke/EN?categoryCode=EN&jokeId=122#mainBody)']\n",
            "['http://smile.xonaki.com/Joke/EN?categoryCode=EN&jokeId=114#mainBody)']\n",
            "['http://smile.xonaki.com/Joke/EN?categoryCode=EN&jokeId=63#mainBody)']\n",
            "['http://imgur.com/a/hyQna']\n",
            "['http://smile.xonaki.com/Joke/EN?categoryCode=EN&jokeId=153#mainBody)']\n",
            "['http://smile.xonaki.com/Joke/EN?categoryCode=EN&jokeId=15645)']\n",
            "['www...']\n",
            "['http://i.imgur.com/oTp4lvG.gif']\n",
            "['http://i.imgur.com/32l1PsS.jpg)']\n",
            "['http://i.imgur.com/hAK6zNg.jpg)']\n",
            "['http://www.wolframalpha.com/input/?i=What%27s+one+cracker+plus+two+crackers%3F)']\n",
            "['http://www.badgolfer.com/departments/jokes/woman-golfers1.htm)']\n",
            "['http://travelmediacafe.com/2014/11/18/10-money-saving-tips/']\n",
            "['http://www.redditstatic.com/reddit500.png']\n",
            "['http://jokes.cc.com/funny-walks-into-a-bar']\n",
            "['http://www.yoaca.com/jokes/the-smart-parrot/)']\n",
            "['http://www.thalidomide.ca/recognition-of-thalidomide-defects/)']\n",
            "['http://en.wikipedia.org/wiki/Barbiturate),']\n",
            "['http://www.yoaca.com/health-medical/inside-thoughts-of-a-doctor/)']\n",
            "['http://www.reddit.com/r/AskReddit/comments/2j7aff/z/cl9844o']\n",
            "['http://www.snopes.com/language/literary/babyshoes.asp)']\n",
            "['http://www.reddit.com/r/videos/comments/2lvhr1/girl_gets_caught_cheating_by_best_man_story_in/clym8e6).']\n",
            "['http://smile.xonaki.com/Joke/EN?categoryCode=EN&jokeId=37)']\n",
            "['http://www.reddit.com/r/worldnews/comments/2lub07/isis_selling_oil_as_low_as_20_per_barrel/clyd5lj']\n",
            "['http://smile.xonaki.com/Joke/EN?categoryCode=EN&jokeId=34#mainBody)']\n",
            "['http://smile.xonaki.com/Joke/EN?categoryCode=EN&jokeId=46#mainBody)']\n",
            "['http://i.imgur.com/0eKMWGO.jpg)', 'http://i.imgur.com/M5tvTCE.jpg)', 'http://i.imgur.com/VbQs2Xc.jpg)']\n",
            "['http://www.gnepse.com/101-ways-to-annoy-people-misc-joke/#sthash.idtvHxUO.dpuf']\n",
            "['http://www.reddit.com/r/Jokes/comments/2l881i/how_do_you_keep_an_idiot_in_suspense/']\n",
            "['https://www.youtube.com/watch?v=uMDasvrKXdM&list=UUoSaAvzfqFYlMCBrBDCLiRg']\n",
            "['http://www.reddit.com/r/fatpeoplehate/']\n",
            "['http://rx-drugsmart.co/product/Viagra+Jelly.html']\n",
            "['www.match.com', 'www.ancestry.com']\n",
            "['http://blogs.scientificamerican.com/artful-amoeba/2014/10/30/fern-frozen-in-time-by-volcanic-flow-reveals-stunning-detail/']\n",
            "['http://www.thejokeyard.com/little_johnny_jokes/the_urinate_joke.html)']\n",
            "['http://imgur.com/tePZMFy']\n",
            "['http://anti-joke.com/anti-joke/popular/1759-what-would-george-washington-do-if-he-were-alive-today-scream-and-scratch-at-the-top-of-his-coffin)']\n",
            "['http://www.reddit.com/r/AskHistorians/comments/2krnv8/what_is_the_oldest_joke_we_have_on_record/']\n",
            "['https://www.reddit.com/r/AskHistorians/comments/1e5qdi/the_worlds_oldest_jokes/']\n",
            "['http://imgur.com/TjlEWax']\n",
            "['http://youtu.be/Z_3Eu99Kw34?t=2m3s)']\n",
            "['http://smile.xonaki.com/Joke/EN?categoryCode=EN&jokeId=161#mainBody)']\n",
            "['http://en.wikipedia.org/wiki/Meta-joke#Joke_template):']\n",
            "['http://smile.xonaki.com/Joke/EN?categoryCode=EN&jokeId=121#mainBody)']\n",
            "['http://lordsofthedrinks.com/2014/10/28/drunk-joke-the-cuckoo-clock/']\n",
            "['http://www.newyorker.com/magazine/2013/11/18/guy-walks-into-a-bar?intcid=mod-most-popular)']\n",
            "['http://www.sickipedia.org/racism/american/i']\n",
            "['http://www.reddit.com/r/Jokes/comments/2kjs5p/what_is_the_difference_between_a_va_nurse_and_a/)', 'http://www.reddit.com/r/Jokes/comments/2kjrh2/what_is_the_difference_between_a_va_nurse_and_a/)', 'http://www.reddit.com/r/Jokes/comments/2kjqrm/what_is_the_difference_between_a_va_nurse_and_a/)']\n",
            "['http://www.reddit.com/r/Jokes/comments/2kjrh2/what_is_the_difference_between_a_va_nurse_and_a/)', 'http://www.reddit.com/r/Jokes/comments/2kjqrm/what_is_the_difference_between_a_va_nurse_and_a/)']\n",
            "['http://www.reddit.com/r/Jokes/comments/2kjqrm/what_is_the_difference_between_a_va_nurse_and_a/)', 'http://www.reddit.com/r/Jokes/comments/2kjs5p/what_is_the_difference_between_a_va_nurse_and_a/)']\n",
            "['http://www.reddit.com/r/Jokes/comments/2kjrh2/what_is_the_difference_between_a_va_nurse_and_a/)']\n",
            "['http://youtu.be/2B7Acry2pms']\n",
            "['http://smile.xonaki.com/Joke/EN?categoryCode=EN&jokeId=159#mainBody)']\n",
            "['http://smile.xonaki.com/Joke/EN?categoryCode=EN&jokeId=152)']\n",
            "['http://smile.xonaki.com/Joke/EN?categoryCode=EN&jokeId=144)']\n",
            "['http://smile.xonaki.com/Joke/EN?categoryCode=EN&jokeId=135)']\n",
            "['http://smile.xonaki.com/Joke/EN?categoryCode=EN&jokeId=122)']\n",
            "['http://smile.xonaki.com/Joke/EN?categoryCode=EN&jokeId=2)']\n",
            "['http://en.wikipedia.org/wiki/Interrobang)']\n",
            "['http://smile.xonaki.com/Joke/EN?categoryCode=EN&jokeId=112)']\n",
            "['https://www.youtube.com/watch?v=exb1yVD8SHU&list=UUq54nlcoX-0pLcN5RhxHyug']\n",
            "['http://smile.xonaki.com/Joke/EN?categoryCode=EN&jokeId=105)']\n",
            "['http://smile.xonaki.com/Joke/EN?categoryCode=EN&jokeId=95)']\n",
            "['http://smile.xonaki.com/Joke/EN?categoryCode=EN&jokeId=79)']\n",
            "['http://i.imgur.com/4s8NLUO.jpg']\n",
            "['http://smile.xonaki.com/Joke/EN?categoryCode=EN&jokeId=68)']\n",
            "['http://smile.xonaki.com/Joke/EN?categoryCode=EN&jokeId=65)']\n",
            "['http://smile.xonaki.com/Joke/EN?categoryCode=EN&jokeId=63)']\n",
            "['http://smile.xonaki.com/Joke/EN?categoryCode=EN&jokeId=56)']\n",
            "['http://www.gnepse.com/a-computer-scientist-a-surgeon-and-a-civil-engineer-joke/#sthash.O8uIhU67.dpuf']\n",
            "['http://smile.xonaki.com/Joke/EN?categoryCode=EN)']\n",
            "['http://www.reddit.com/r/news/comments/2jxula/alabama_state_house_speaker_indicted_on/clg2hjl)']\n",
            "['http://smile.xonaki.com/Joke/EN?categoryCode=EN&jokeId=24)']\n",
            "['http://instantrimshot.com/index.php?sound=rimshot&play=true)']\n",
            "['http://smile.xonaki.com/Joke/EN?categoryCode=EN&jokeId=15)']\n",
            "['https://www.youtube.com/watch?v=DA60EQrwCNg)']\n",
            "['http://smile.xonaki.com/Joke/EN?categoryCode=EN&jokeId=18)']\n",
            "['www.dafont.com/ebola-font.font']\n",
            "['http://i.imgur.com/N0CXg6o.jpg']\n",
            "['https://www.youtube.com/watch?v=jIG72_LO7wc),', 'www.fathertony.com']\n",
            "['https://lh3.googleusercontent.com/proxy/vOQE_-4wNaxhQwZhf1A7PeQeMQIYuFxBbem2TFEJaGYCdU7LESf9IncjlNpknLzjg0B0KK-1NTAM5F7VzUtXQR0YhvqibipZXNZqMdQbhUxaUo1KZOQe=w450-h470-nc)']\n",
            "['http://en.wikipedia.org/wiki/Custodian_of_the_Two_Holy_Mosques)']\n",
            "['http://i.imgur.com/en5msOs.png']\n",
            "['http://www.reocities.com/Area51/Meteor/9836/yoda/yodafunface2.jpg)']\n",
            "['https://www.youtube.com/watch?v=PItio7u5OoM)']\n",
            "['http://qr.ae/xUchD']\n",
            "['http://i.imgur.com/v9LKIpH.jpg']\n",
            "['http://www.bbc.co.uk/news/uk-england-merseyside-29550834)']\n",
            "['http://youtu.be/92bEu7sQ5_Q)']\n",
            "['http://www.sickipedia.org/sex-and-shit/gay/a-little-boy-knocked-on-my-door-and-said-is-671773#ixzz3Fq1ezWdq']\n",
            "['http://superpranktube.com']\n",
            "['http://imgur.com/e0UxGzw']\n",
            "['http://www.youtube.com/watch?v=pURJDToKA0k']\n",
            "['http://www.bbc.co.uk/news/uk-england-merseyside-29550834']\n",
            "['http://www.cc.com/video-clips/m25nl8/comedy-central-presents-birthday']\n",
            "['http://www.vpmsl.com/air-jordan-shoes-c-64_4844.html']\n",
            "['http://www.abeglaugh.com']\n",
            "['www.youtube.com/watch?v=gOwb9h20Gf8']\n",
            "['http://i.imgur.com/DVvbS15.png']\n",
            "['https://www.youtube.com/watch?v=ajCw5XThfsI']\n",
            "['http://www.reddit.com/r/AskReddit/comments/1qwcyt/what_are_some_sex_etiquette_rules_that_you_think/cdhgwm4)']\n",
            "['http://en.wikipedia.org/wiki/Pavement_milling)']\n",
            "['http://www.polygon.com/2014/9/30/6873967/windows-10-announced-microsoft-pc)']\n",
            "['http://lordsofthedrinks.com/2013/07/15/the-worst-intervention-ever/']\n",
            "['http://www.reddit.com/r/askscience/comments/2hqkku/am_i_as_a_human_closer_in_size_to_the_earth_or_an/)']\n",
            "['http://www.reddit.com/r/Jokes/comments/2hoygf/my_penis_was_in_the_guinness_book_of_world_records/)),']\n",
            "['http://gifrific.com/wp-content/uploads/2014/02/Tom-Cruise-Puts-on-Sunglasses-Top-Gun.gif']\n",
            "['https://www.youtube.com/watch?v=8G77aVXoxTk']\n",
            "['http://www.reddit.com/r/Jokes/comments/2da2d0/my_girlfriend_is_the_squareroot_of_100/).']\n",
            "['http://tinypic.com/view.php?pic=2whgsnc&s=8#.VCJrcPldWQg']\n",
            "['http://youtu.be/lZWJKhLe6wo?t=7m46s)']\n",
            "['https://www.youtube.com/watch?v=cjAa6GX8AXw']\n",
            "['https://scontent-a-lga.xx.fbcdn.net/hphotos-xap1/v/t1.0-9/10647159_712672022139697_3700140360350286924_n.jpg?oh=c6c5f0ed1e43c56dbf70539181683eab&oe=5486D117)***.']\n",
            "['https://www.youtube.com/watch?v=HVYS0bbB70s&list=UUL8eY2HmvEDEFvKE3SCL9vw']\n",
            "['https://www.youtube.com/watch?v=MVHlZkzPiH0']\n",
            "['http://www.cis.upenn.edu/~udani/humor/stevenwright.html']\n",
            "['https://www.youtube.com/watch?v=HVYS0bbB70s&feature=youtu.be']\n",
            "['http://books.google.com/books?id=lKAaAAAAYAAJ&pg=PA30&dq=bastards+scotland+act&hl=en&sa=X&ei=_JwcVKCLKvXIsATi6oG4DQ&ved=0CDcQ6AEwBA#v=onepage&q=bastards%20scotland%20act&f=false).']\n",
            "['http://www.reddit.com/r/Showerthoughts/comments/2gru5q/childhood_obesity_can_literally_be_cured_by/)']\n",
            "['http://www.avast.com/),']\n",
            "['http://i.imgur.com/KRuRgF9.gif)']\n",
            "['http://www.sickipedia.org/search?q=Milton%20Jones#ixzz3DeZDequD']\n",
            "['http://lordsofthedrinks.com/2014/02/19/a-drinking-joke-from-finland/']\n",
            "['https://www.youtube.com/watch?v=0ljKtOGhAg0']\n",
            "['http://online.wsj.com/articles/poop-pooches-a-magazine-devoted-to-dog-haters-is-a-hit-in-germany-1410834607']\n",
            "['http://lordsofthedrinks.com/2014/09/16/joke-the-golden-bar/']\n",
            "['https://www.tyreright.com.au/sidewall/blog/general/2014/september/12/6-tyre-jokes-that-will']\n",
            "['http://en.wikipedia.org/wiki/Sardarji_joke)']\n",
            "['http://jokes.cc.com/funny-animal-jokes/b29vwr/totally-bats']\n",
            "['www.Ancestry.com?', 'www.incestry.com']\n",
            "['http://www.newyorker.com/magazine/2013/11/18/guy-walks-into-a-bar).']\n",
            "['https://twitter.com/AntiJokes_Kapil']\n",
            "['http://www.licensing.biz/cimages/3340b1143563a9e55f51439ae983d27d.jpg)**~~']\n",
            "['http://www.tickld.com/x/the-25-best-two-line-jokes-ever-14-is-priceless']\n",
            "['http://i.imgur.com/d9CDgON.jpg)...the']\n",
            "['https://i.imgur.com/BTNIDBR.gif?1).']\n",
            "['http://www.yoghurt-optimal.by/img/avatar-elements/monocle.png)']\n",
            "['http://time.com/3270645/joan-rivers-dead-one-liners/)']\n",
            "['http://i.ytimg.com/vi/UYwYdFdoecA/0.jpg)']\n",
            "['https://www.youtube.com/watch?v=_75cA3xmssM']\n",
            "['http://en.wikipedia.org/wiki/Fucking,_Austria)']\n",
            "['https://www.youtube.com/watch?v=ORNFrV0CQ2A#t=459']\n",
            "['http://en.wikipedia.org/wiki/Primate_(bishop))']\n",
            "['http://www.newyorker.com/magazine/2013/11/18/guy-walks-into-a-bar']\n",
            "['http://imgur.com/kG9MROJ']\n",
            "['http://www.vice.com/kids-telling-dirty-jokes/david-741)']\n",
            "['http://mobile.reuters.com/article/idUSKBN0GP1NS20140825?irpc=932)']\n",
            "['http://youtu.be/h8ycKKA7LZI']\n",
            "['http://i.imgur.com/6SvvADP.jpg)']\n",
            "['http://youtu.be/lMBVMyXaCng)']\n",
            "['http://www.amazon.co.uk/Zizeks-Jokes-About-Hegel-Negation/dp/0262026716)']\n",
            "['http://www.reddit.com/r/pics/comments/2ee16p/a_friend_was_at_a_bar_a_guy_walked_in_paid_for_a/)']\n",
            "['http://www.reddit.com/r/AskHistorians/comments/2ec7av/what_was_comedy_like_in_nazi_germany/cjy52g4](http://www.reddit.com/r/AskHistorians/comments/2ec7av/what_was_comedy_like_in_nazi_germany/cjy52g4)']\n",
            "['https://www.youtube.com/watch?v=GQjM5qsVryw&list=LLbBkuEQNU6MBnFuJnbb_p0Q&index=5)']\n",
            "['http://imgur.com/65aBahK)']\n",
            "['http://www.reddit.com/r/Jokes/comments/2e9hgg/american_tourists_visit_russia/cjxf7p4)']\n",
            "['http://www.space.com/26888-sea-plankton-space-station-russian-claim.html)']\n",
            "['https://www.youtube.com/watch?v=TzwDgz053PI)']\n",
            "['http://memecrunch.com/meme/1MG0Q/big-summer-blowout/image.png)*']\n",
            "['http://reddit.com/r/Jokes/comments/2e9hb9/another_russian_joke_i_love/)']\n",
            "['https://www.youtube.com/watch?v=MZ35SOU9HTM']\n",
            "['http://spikedmath.com/comics/138-i-like-my-women-like-i-like-my-math.png']\n",
            "['http://i.imgur.com/RBPB6NM.jpg', 'https://www.youtube.com/watch?v=CIjoq5jC0So)']\n",
            "['http://loolzpedia.blogspot.com/2014/08/oxygen.html']\n",
            "['http://www.reddit.com/r/Jokes/comments/2dru6u/a_king_enrolled_his_donkey_in_a_race_and_won/)']\n",
            "['http://www.people.com/article/phil-collins-son-arrested-drug-charges']\n",
            "['http://i100.independent.co.uk/article/the-27-best-edinburgh-festival-oneliners--xkByUWdZme).']\n",
            "['http://youtu.be/pIgZ7gMze7A),']\n",
            "['http://puu.sh/aTYoy/2e4a5f69b8.png']\n",
            "['http://www.reddit.com/r/AntiJokes/comments/2dmxah/sir_were_mining_too_many_useless_minerals/)']\n",
            "['http://imgur.com/364BbQf']\n",
            "['http://www.reddit.com/r/Jokes/comments/2dkrte/a_father_and_son_take_the_family_dog_max_for_a/cjqew7b).']\n",
            "['http://www.reddit.com/r/AskReddit/comments/2djbzn/whats_the_worst_excuse_to_break_up_one_can_give/cjq1huo']\n",
            "['http://i.imgur.com/9JXxs8S.jpg']\n",
            "['http://community.us.playstation.com/t5/image/serverpage/image-id/124673i70DA5E968937995F?v=mpbl-1)']\n",
            "['https://www.youtube.com/watch?v=6zXDo4dL7SU)']\n",
            "['http://imgur.com/V7qxO87']\n",
            "['http://www.reddit.com/r/4chan/comments/2dacn8/no/cjnr8i8']\n",
            "['http://youtu.be/_QMg-BT7VYA)']\n",
            "['https://www.youtube.com/watch?v=XYmoaJoyZTo']\n",
            "['https://www.youtube.com/watch?v=XYmoaJoyZTo']\n",
            "['http://youtu.be/79wm06j3_gM))']\n",
            "['http://redditmetrics.com/r/Jokes']\n",
            "['http://i.imgur.com/6lWz2UD.jpg)']\n",
            "['http://www.godhatesfags.com/schedule.html']\n",
            "['http://iteslj.org/c/jokes-short.html']\n",
            "['http://www.jokelibrary.net/xOtherAtoM/funeral.html']\n",
            "['https://www.youtube.com/watch?v=7GcvgsWkSY8']\n",
            "['http://www.rollitup.org/t/i']\n",
            "['http://www.amazon.co.uk/Zizeks-Jokes-About-Hegel-Negation/dp/0262026716)']\n",
            "['http://www.londondarbar.com/catering-venues.php)']\n",
            "['http://www.reddit.com/r/AskReddit/comments/2cow7d/what_is_the_worst_nickname_someone_you_know_has/cjhmucg)']\n",
            "['http://redd.it/2cl0cw)']\n",
            "['http://www.reddit.com/r/askscience/comments/2cjly0/where_does_a_lonely_ant_go_when_it_is_separated/)']\n",
            "['https://www.youtube.com/watch?v=UKCL_ToOook)']\n",
            "['www.newyorker.com/magazine/2013/11/18/guy-walks-into-a-bar?src=mp']\n",
            "['http://en.wikipedia.org/wiki/Jonestown)']\n",
            "['http://www.27bslash6.com/missy.html']\n",
            "['http://imgur.com/HwGG6mm)']\n",
            "['http://www.newyorker.com/magazine/2013/11/18/guy-walks-into-a-bar']\n",
            "['http://www.newyorker.com/magazine/2013/11/18/guy-walks-into-a-bar)']\n",
            "['http://www.newyorker.com/magazine/2013/11/18/guy-walks-into-a-bar)']\n",
            "['https://i.imgur.com/j1poxyK.jpg']\n",
            "['http://www.newyorker.com/magazine/2013/11/18/guy-walks-into-a-bar']\n",
            "['http://www.newyorker.com/magazine/2013/11/18/guy-walks-into-a-bar)']\n",
            "['http://www.newyorker.com/magazine/2013/11/18/guy-walks-into-a-bar)']\n",
            "['http://www.newyorker.com/magazine/2013/11/18/guy-walks-into-a-bar']\n",
            "['https://en.wikipedia.org/wiki/Oyez)']\n",
            "['http://en.wikipedia.org/wiki/Katawa_Shoujo']\n",
            "['http://media-cache-ec0.pinimg.com/736x/30/80/82/308082e606bbe01cf521a44fc1d1facf.jpg)', 'http://4.bp.blogspot.com/-enq7MUsd8sQ/Usw-7DQ-oSI/AAAAAAAAW8A/Q_mMpU7km5Y/s1600/carrot+all.jpg)']\n",
            "['http://www.youtube.com/watch?v=pLckTJTwRYk).']\n",
            "['http://www.reddit.com/r/Jokes/comments/2b57xv/how_do_you_keep_an_idiot_busy_for_hours/)']\n",
            "['http://imgur.com/Vyo6vXf)']\n",
            "['http://9gag.com/gag/arp6PQ6?ref=noti']\n",
            "['http://en.wikipedia.org/wiki/Baader-Meinhof_phenomenon#Frequency_illusion)']\n",
            "['https://explosm.net/comics/2576/']\n",
            "['http://smsbrunch.com']\n",
            "['http://img.4plebs.org/boards/pol/image/1385/88/1385885966662.jpg']\n",
            "['www.optrex.co.uk...']\n",
            "['http://www.yelp.com/topic/garden-city-finished-benders-joke-in-the-breakfast-club)']\n",
            "['http://en.wikipedia.org/wiki/James_Joyce#1920.E2.80.9341:_Paris_and_Zurich).', 'http://planetmath.org/afunctorisanequivalenceiffitisfullyfaithfulandessentiallysurjective).']\n",
            "['http://tinypic.com/R/2lcwja/8']\n",
            "['http://www.reddit.com/r/politics/comments/29lpm9/for_the_first_time_in_its_history_the_navy/cimbgui),']\n",
            "['http://www.automotive-stock-images.com/photos/hood-ornament-1928-mercedes-benz-680s.jpg)']\n",
            "['http://www.reddit.com/r/science/comments/29bpmd/scientist_discovered_giant_black_hole_trio/)', 'http://www.reddit.com/r/science/comments/29bpmd/scientist_discovered_giant_black_hole_trio/cijl050)']\n",
            "['http://img.fifa.com/images/fwc/2014/referees/prt-3/219733.png)']\n",
            "['http://defund.com/mom-catches-teacher-hiding-under-her-daughters-bed-teacher-gets-no-jail-time/?utm_source=Outbrain)']\n",
            "['http://cannabisculture.exposed/viewtopic.php?f=27&t=14)']\n",
            "['http://www.chick-fil-a.com/Cows/Campaign-History)']\n",
            "['http://www.angelo.edu/faculty/kboudrea/cheap/cheap3_regional.htm']\n",
            "['http://hellogiggles.hellogiggles.netdna-cdn.com/wp-content/uploads/2014/06/18/tumblr_lp0tsnxkbq1qc66bjo1_500.gif)']\n",
            "['http://imgur.com/lVv8D6W']\n",
            "['http://i.imgur.com/3eTWAuQ)']\n",
            "['http://en.wikipedia.org/wiki/Friction#Coefficient_of_friction)']\n",
            "['http://www.reddit.com/r/AskReddit/comments/28ebdj/what_are_some_red_flags_to_pay_attention_to_when/cia5vy6)']\n",
            "['http://www.reddit.com/r/AskReddit/comments/28ebdj/what_are_some_red_flags_to_pay_attention_to_when/cia5vy6)']\n",
            "['http://www.reddit.com/r/AskReddit/comments/289p0s/whats_easier_to_get_into_than_it_is_to_get_out_of/', 'http://www.reddit.com/r/AskReddit/comments/289p0s/whats_easier_to_get_into_than_it_is_to_get_out_of/ci8seft']\n",
            "['http://i.imgur.com/srWEGsC.jpg)']\n",
            "['http://imgur.com/MZnlWdW)']\n",
            "['http://variety.com/2014/film/news/demi-moore-replacing-sarah-jessica-parker-in-wild-oats-1201218824/']\n",
            "['http://www.eviloverlord.com/lists/overlord.html](http://www.eviloverlord.com/lists/overlord.html)']\n",
            "['http://en.wikipedia.org/wiki/Myxomatosis)...']\n",
            "['http://youtu.be/bDbpzjbXUZI))']\n",
            "['http://swns.com/news/amazing-racehorse-names-which-never-made-it-16253/']\n",
            "['http://ts2.mm.bing.net/th?&id=HN.608026807890022015&w=300&h=300&c=0&pid=1.9&rs=0&p=0']\n",
            "['http://www.arnajharna.org/bigimages/Panni-broom.jpg)']\n",
            "['http://assets-s3.usmagazine.com/uploads/assets/articles/54736-snoop-dogg-changes-name-to-snoop-lion-believes-hes-bob-marley-reincarnated/1343762840_snooplion-467.jpg)']\n",
            "['http://legal-dictionary.thefreedictionary.com/_/dict.aspx?rd=1&word=consideration']\n",
            "['http://www.reddit.com/r/China/comments/26r3m8/joke_james_bond_and_chinese_spy/']\n",
            "['http://www.reddit.com/r/introvert/comments/26mqge/joke_how_many_introverts_does_it_take_to_screw_in/)']\n",
            "['http://www.reddit.com/r/Jokes/comments/26fwyp/sexist_jokes_about_men/)']\n",
            "['http://i.imgur.com/UXoVB6K.jpg', 'http://www.reddit.com/r/WTF/comments/26j3e2/driving_isnt_for_everyone/chrqq80)']\n",
            "['http://i.imgur.com/L4kXpw8.jpg)']\n",
            "['http://www.youtube.com/watch?v=d5ZvzIOO6aU']\n",
            "['http://youtu.be/cHHHpbVJiOE']\n",
            "['http://www.reddit.com/r/funny/comments/264xjr/weighin/chnrw3n)']\n",
            "['http://en.wikipedia.org/wiki/Pancho_Villa']\n",
            "['https://www.youtube.com/watch?v=Auw8wJVU0l8']\n",
            "['https://www.youtube.com/watch?v=K4rM4oj-u3A', 'https://www.youtube.com/watch?v=K4rM4oj-u3A']\n",
            "['http://www.reddit.com/r/conspiratard/comments/25kabr/two_guys_are_flying_to_a_truther_convention_when/)']\n",
            "['http://www.masterpiecepumpkins.com/Graphics/RodneyDangerfield%20%20_orig.jpg']\n",
            "['www.freebyte.com)']\n",
            "['https://www.youtube.com/watch?v=uJt2lOSHr0g']\n",
            "['http://m.youtube.com/watch?v=b1jklUhG1y8']\n",
            "['http://en.wikipedia.org/wiki/Chessboxing),']\n",
            "['https://www.youtube.com/watch?v=IfZlqNfZr40']\n",
            "['https://www.youtube.com/watch?v=qi_tTBfYQlI&list=UUuWKX9oJE45RXSsvGTDTKKQ']\n",
            "['http://www.paradiseng.com/t894-akpos-slapping-a-bald-guy']\n",
            "['http://i.imgur.com/4dtsXB8.png)']\n",
            "['http://www.reddit.com/r/needamod/comments/24sqne/css_and_regular_2_mod_positions_opening_up_in/']\n",
            "['https://www.youtube.com/watch?v=mN3z3eSVG7A']\n",
            "['http://php.net/manual/en/function.htmlentities.php)!']\n",
            "['https://www.youtube.com/watch?v=RLjxEpKZyvI']\n",
            "['http://en.wikipedia.org/wiki/Limonia_acidissima)', 'http://en.wikipedia.org/wiki/Cranberry)']\n",
            "['http://en.wiktionary.org/wiki/%D0%9A%D1%80%D1%8B%D0%BC)']\n",
            "['https://docs.google.com/document/d/1qEQT-6J2ZWhN_XmPL-UAmh0hWv4JdSFqXozlQhHzJL8/edit?usp=sharing']\n",
            "['http://multivu.prnewswire.com/mnr/warnerbros/42096/images/42096-hi-Bugs_Bunny.jpg)']\n",
            "['http://homepages.ihug.co.nz/~mitsi/joke.htm']\n",
            "['http://www.reddit.com/r/AntiJokes/comments/24dztj/what_do_you_get_when_you_cross_a_horse_and_a/)']\n",
            "['http://www.reddit.com/r/IAmA/comments/24aw7s/i_am_larry_king_back_again_on_reddit_amaa/ch5au64)']\n",
            "['https://drive.google.com/file/d/0B-p6iF3sFZRjbWZQc3Q1TWQxSzA/edit?usp=sharing']\n",
            "['http://www.reddit.com/r/atheism/comments/240xyy/brilliant_neil_degrasse_tyson_quote/ch2kcxl']\n",
            "['https://twitter.com/OFalafel/status/428595146905886720)', 'https://twitter.com/OFalafel).']\n",
            "['http://www.jokelabs.com/2012/06/1563-match-in-gas-station.html']\n",
            "['http://www.tinydeal.com/realistic-electronic-px27co1-p-106951.html)?']\n",
            "['http://www.reddit.com/r/AskReddit/comments/22urz1/what_is_your_favourite_urban_legend/cgqtph8)']\n",
            "['http://legal-dictionary.thefreedictionary.com/garnish)']\n",
            "['https://www.youtube.com/watch?v=mPZ7SIr96EY', 'http://imgur.com/gS4KtRz']\n",
            "['http://www.jokesjournal.com/stupid-people/']\n",
            "['http://www.neatorama.com/2014/04/07/When-Animals-Argue/)']\n",
            "['http://slashdot.org/submission/3460741/retro-bits-retro-duo-is-it-worth-game-developers-time', 'http://developers.slashdot.org/story/14/04/03/179257/amazons-fire-tv-is-it-worth-game-developers-time']\n",
            "['www.twitter.com/sturdyalex)']\n",
            "['https://www.youtube.com/watch?v=d2EBUE4BfQU)']\n",
            "['http://www.reddit.com/r/Jokes/comments/211omr/what_is_recursion/)']\n",
            "['http://www.sickipedia.org/illness-and-mortality/blindness/i']\n",
            "['http://i.imgur.com/YIfXCuV.jpg)']\n",
            "['http://instantrimshot.com)']\n",
            "['http://thoughtcatalog.com/christopher-hudspeth/2013/09/50-terrible-quick-jokes-that']\n",
            "['http://www.reddit.com/r/AskReddit/comments/1zyn3x/waiters_of_reddit_what_fucked_up_shit_have_you/cfy7uaa']\n",
            "['http://www.youtube.com/watch?v=vdRiM_BPbQ8']\n",
            "['http://www.icd10data.com/ICD10CM/Codes/V00-Y99/W20-W49/W22-/W22.01)', 'http://www.icd10data.com/ICD10CM/Codes/V00-Y99/Y90-Y99/Y92-/Y92.511)', 'http://www.icd10data.com/ICD10CM/Codes/V00-Y99/Y21-Y33/Y29-/Y29.XXXA)']\n",
            "['http://en.wikipedia.org/wiki/The_Rockettes)', 'http://en.wikipedia.org/wiki/Doug_Henning)?']\n",
            "['http://www.reddit.com/r/Jokes/comments/1yya5x/how_do_you_keep_an_idiot_in_suspense/)']\n",
            "['http://i.imgur.com/UvBlxDK.png']\n",
            "['http://www.laughsandchuckles.com/2014/02/speeding-blonde/']\n",
            "['http://kids-funny-jokes.blogspot.com']\n",
            "['http://i.imgur.com/N8LF0HU.png']\n",
            "['http://www.sickchirpse.com/25-jokes-you']\n",
            "['http://www.nottriangles.com/blog/uranus.html']\n",
            "['http://m.youtube.com/watch?v=I6d03gbmAzc&feature=kp']\n",
            "['http://en.wikipedia.org/wiki/Guide_dog']\n",
            "['http://earnstart.com/?id=160795)']\n",
            "['http://en.wikipedia.org/wiki/Milk_snake)']\n",
            "['http://i.imgur.com/BZfRQEt.png']\n",
            "['http://i.imgur.com/1oqlvz3.jpg', 'http://www.reddit.com/r/WTF/comments/1wtukn/this_is_printed_in_an_english_menu_at_a_mexican/)']\n",
            "['http://www.theatlantic.com/technology/archive/2014/01/how-not-to-embarrass-yourself-on-snapchat-the-millennial-guide-for-olds/283329/']\n",
            "['https://twitter.com/fsmikey/status/427612419205398528', 'https://twitter.com/metroadlib/status/427612065931337728', 'https://twitter.com/cyberglock/status/427612349827014656', 'https://twitter.com/search?q=lorde%20exorcism&src=typd', 'https://twitter.com/search?q=lorde%20seizure&src=typd']\n",
            "['http://i.imgur.com/Clj36.jpg)']\n",
            "['http://youtu.be/b5FQKsEgLnQ']\n",
            "['http://www.reddit.com/r/atheism/comments/1vow2i/on_the_side_of_a_building_in_richmond_virginia/ceupkpt?context=3)']\n",
            "['https://www.facebook.com/pages/Toxic-Chemical-Smoothie/787955541230197']\n",
            "['https://www.youtube.com/watch?feature=player_detailpage&v=JUIumhWtTK4))']\n",
            "['http://chicago.cubs.mlb.com/chc/fan_forum/clark.jsp).']\n",
            "['https://twitter.com/annoyedboyd).']\n",
            "['http://jupiterscientific.org/sciinfo/jokes/physicsjokes.html)']\n",
            "['http://www.reddit.com/r/Jokes/comments/1v1wqm/how_do_you_keep_an_idiot_occupied/)']\n",
            "['http://www.oomphify.com/the-truth-about-why-women-hate-each-other/']\n",
            "['http://i.imgur.com/W9xhEqV.png)']\n",
            "['https://www.youtube.com/watch?feature=player_detailpage&v=TmnZgBpYG_4&t=5)']\n",
            "['http://www.youtube.com/watch?v=LbRtoFNqn84']\n",
            "['http://earlmcgerd.tumblr.com/']\n",
            "['http://earlmcgerd.tumblr.com/']\n",
            "['https://forum.lowyat.net/index.php?showtopic=3082789)']\n",
            "['http://www.maltastar.com/dart/20130116-arriva-driver-caught-having-sex-in-bus)']\n",
            "['http://en.wikipedia.org/wiki/Pehlwani)']\n",
            "['http://fun.fopii.com/']\n",
            "['http://9gag.com/gag/a2Nv6d1']\n",
            "['http://cisshadab.typepad.com/blog/jokes/)']\n",
            "['www.conjunctivitis.com']\n",
            "['http://www.reddit.com/r/pics/comments/1t3pl5/while_at_disneys_animal_kingdom_my_5_year_old/)']\n",
            "['http://cisshadab.typepad.com/blog/jokes/']\n",
            "['http://www.reddit.com/r/Jokes/comments/1sv7r1/old_russian_joke/)']\n",
            "['http://youtu.be/3yDeag-HzuE']\n",
            "['http://bitcoin-betting-guide.com/betting-jokes/']\n",
            "['http://cisshadab.typepad.com/blog/jokes/']\n",
            "['http://reddit.com/r/antijokes)?']\n",
            "['http://www.flowingevents.com/']\n",
            "['http://jokessmsshayari.blogspot.in/2013/12/life-is-all-about-how-we-see-interpret.html)']\n",
            "['http://www.youtube.com/watch?v=2X2hqdOMxyM&t=9m34s', 'http://www.imdb.com/title/tt0500148/quotes?item=qt0199251']\n",
            "['http://www.reddit.com/r/Jokes/comments/1sfagl/the_postman_and_kisses_dilevery/)']\n",
            "['http://imgur.com/21sH8sj)']\n",
            "['http://www.youtube.com/watch?v=TRHWvVBxWCw)']\n",
            "['http://www.flowingevents.com/2012/01/5-best-russian-jokes-about-vodka.html']\n",
            "['http://jokessmsshayari.blogspot.com)']\n",
            "['http://www.reddit.com/r/Jokes/comments/1rwb5t/i_paid_a_homeless_lady_in_nashville_1_for_two/']\n",
            "['https://www.youtube.com/watch?v=4M3rgkpx3Lc']\n",
            "['http://www.youtube.com/watch?v=0pN7t4DDI4k#t=32)']\n",
            "['http://en.wikipedia.org/wiki/Sarus_Crane)']\n",
            "['http://i.imgur.com/vfZp1nP.jpg']\n",
            "['http://www.bizfriend.org']\n",
            "['http://www.ntnews.com.au/news/only-in-the-territory/flying-dildo-hits-bucks-party-guest-draws-blood/story-fnk2tg5d-1226764350884)']\n",
            "['https://www.facebook.com/WastedDaysWastedNights']\n",
            "['http://www.opposingviews.com/i/society/guns/horse-pulling-amish-buggy-shot-dead-pennsylvania-drive).']\n",
            "['http://longestjokeintheworld.com/']\n",
            "['http://www.youtube.com/watch?v=NztfOSyCCFM']\n",
            "['http://www.reddit.com/r/Jokes/comments/1e6vqx/a_frog_goes_into_a_bank_and_approaches_the_teller/).']\n",
            "['http://www.mobitexter.net/app/share/agxzfm1vYml0ZXh0ZXJyDAsSA1Ntcxik0YAlDA.page']\n",
            "['http://www.squarewheels.com/jokes/computerjokes.html)']\n",
            "['http://www.reddit.com/r/AskReddit/comments/1r2jz4/what_is_the_most_wtf_thing_you_have_seen_in_real/)']\n",
            "['http://www.smbc-comics.com/?id=3180).']\n",
            "['http://www.smbc-comics.com/?id=3180']\n",
            "['http://www.reddit.com/r/IAmA/comments/1qozts/i_have_gigantism_and_i_had_brain_surgery_two_days/']\n",
            "['http://movies.netflix.com/WiMovie/Luther/70175633']\n",
            "['http://imgur.com/a4uo7WF)']\n",
            "['http://www.reddit.com/r/funny/comments/1ptbrx/what_would_you_do_for_bus_fare/cd5yhjz)']\n",
            "['http://www.youtube.com/watch?v=nE-SbJbl2co']\n",
            "['http://bash.org/?771925)']\n",
            "['http://en.wikipedia.org/wiki/Mace_(spray)']\n",
            "['http://trommelyd.no/)']\n",
            "['https://twitter.com/JewFrmOuterSpc)']\n",
            "['http://images.gizmag.com/inline/ps4-vs-xbox-one-4.jpg)', 'http://i.imgur.com/zhEUnYQ.png)']\n",
            "['http://www.longestjokeintheworld.com']\n",
            "['http://i.imgur.com/Hp8K3vB.png']\n",
            "['http://en.wikipedia.org/wiki/Thomas_Gainsborough)']\n",
            "['http://en.wikipedia.org/wiki/Hoosier).\"']\n",
            "['http://www.youtube.com/watch?v=G9ITT3NOLJk)']\n",
            "['http://www.reddit.com/r/funny/comments/1mylpg/how_the_fight_startedfound_on_facebook/)**']\n",
            "['https://www.youtube.com/watch?v=3R0aM2QHiFU)']\n",
            "['http://www.youtube.com/watch?v=6zXDo4dL7SU)']\n",
            "['http://0.tqn.com/d/homerepair/1/0/0/3/-/-/t_g.jpg)']\n",
            "['http://www.stoa.org/diotima/anthology/quinn_jokes.shtml)']\n",
            "['http://www.youtube.com/watch?v=bcYppAs6ZdI)']\n",
            "['http://forums.macrumors.com/showthread.php?t=90423#10)']\n",
            "['http://www.youtube.com/watch?v=kFHQzwNMo_Q']\n",
            "['http://replygif.net/i/1083.gif)']\n",
            "['https://play.google.com/store/apps/details?id=game.mibejo.madtoilet']\n",
            "['http://2.bp.blogspot.com/-UIKcvj5dIVE/UIagsG40n6I/AAAAAAAACNo/Jj-NvlbkiBo/s320/durian.JPG']\n",
            "['http://www.reddit.com/r/funny/comments/1ko1i5/my_wife_just_called_me_at_work_and_said_um_youd/']\n",
            "['http://www.holidayinsights.com/moreholidays/August/tellajokeday.htm']\n",
            "['http://i41.tinypic.com/2dbosw6.png']\n",
            "['http://i.imgur.com/7g4htym.jpg)']\n",
            "['http://www.youtube.com/watch?v=5_sfnQDr1-o']\n",
            "['http://www.reddit.com/r/French/comments/1jrq1z/tell_me_a_joke_in_french/cbhnivu)']\n",
            "['http://www.i-programmer.info/news/105-artificial-intelligence/6210-ai-is-funny-a-generative-joke-model.html']\n",
            "['http://i1030.photobucket.com/albums/y364/justwishmeluckok/98401d32.jpg?t=1345873762']\n",
            "['http://youtu.be/yl-35ICzA0Q)']\n",
            "['http://imgur.com/a/Y31qa)']\n",
            "['https://en.wikipedia.org/wiki/Tutsi),']\n",
            "['http://en.wikipedia.org/wiki/Complex_number)']\n",
            "['http://www.fun-with-words.com/ambiguous_headlines.html']\n",
            "['http://www.reddit.com/r/RandomActsOfPizza/comments/1iv66h/whoever_can_tell_the_funniest_one_liner_that_i)']\n",
            "['http://www.stuff.co.nz/national/8945358/Big-quake-shakes-central-New-Zealand)', 'http://www.news.com.au/technology/kim-dotcom-mansion-raid-cctv-released/story-e6frfro0-1226663666541)']\n",
            "['http://www.urbandictionary.com/define.php?term=scissoring)']\n",
            "['http://xhamster.com/movies/1493888/an_awesome_military_gay_threesome.html)']\n",
            "['http://www.reddit.com/r/Jokes/comments/ot3ev/an_illustrious_count_wictor_oblodowsky_agrees_to/)']\n",
            "['http://en.wikipedia.org/wiki/SimLife),']\n",
            "['http://www.depend.com/)']\n",
            "['http://www.thecomedynetwork.ca/shows/thedailyshow?videoPackage=135821).']\n",
            "['http://www.seniorskiss.com/its-not-just-the-way-you-tell-them-researchers-find-the-official-50-funniest-jokes-of-all-time/)']\n",
            "['http://www.seniorskiss.com/its-not-just-the-way-you-tell-them-researchers-find-the-official-50-funniest-jokes-of-all-time/)']\n",
            "['http://en.wikipedia.org/wiki/Dmitry_of_Pereslavl)!']\n",
            "['http://www.museumofhoaxes.com/hoax/forums/viewthread/1345/)']\n",
            "['http://imgur.com/b0CrsHL.jpg)']\n",
            "['http://www.angelfire.com/al/AttardBezzinaLawrenc/jewish.html)']\n",
            "['http://www.reddit.com/r/AskReddit/comments/1g5jr5/guys_what_do_you_hate_about_having_a_dick/cah0yyv)']\n",
            "['http://youtu.be/mHyRCeKxhss']\n",
            "['http://longestjokeintheworld.com/).']\n",
            "['http://www.reddit.com/r/Jokes/comments/1g4u2j/lost_in_the_desert_part_2/']\n",
            "['http://www.youtube.com/watch?v=v8wL3AA4BP0)']\n",
            "['http://www.fda.gov/ucm/groups/fdagov-public/documents/image/ucm197598.bmp']\n",
            "['http://www.whitec0de.com/a-very-funny-hypocrite-situation-must-read/)']\n",
            "['http://www.youtube.com/watch?v=a3UqEgL1VXI&t=14m44s']\n",
            "['https://twitter.com/boydstantinople']\n",
            "['http://grittree.wordpress.com/2012/04/11/lewis-grizzard-wednesday-featuring-bubba-earl/)']\n",
            "['http://www.youtube.com/watch?v=qwLFMXkqcOs']\n",
            "['http://windows.microsoft.com/en-us/internet-explorer/downloads/ie-9/worldwide-languages)']\n",
            "['http://www.wattpad.com/2012108-the-longest-joke-in-the-world-a-man-in-the-desert#.Uaa7x8qwUgk)']\n",
            "['http://www.independent.co.uk/news/world/europe/pope-francis-being-an-atheist-is-alright-as-long-as-you-do-good-8629390.html']\n",
            "['https://twitter.com/boydstantinople.']\n",
            "['http://www.reddit.com/r/funny/comments/1eow2t/12_tumblr_users_react_to_yahoos_11_billion_buyout/']\n",
            "['https://twitter.com/boydstantinople']\n",
            "['http://anti-joke.com/anti-joke/random/33510-so-there-once-was-this-wasp-that-lived-in-a-jungle-this-was-not-your-ordinary-wasp-though-he-was-smart.']\n",
            "['https://twitter.com/TopTopical.']\n",
            "['http://t1.gstatic.com/images?q=tbn:ANd9GcTS-2V-_ktG8XVixvM7ep6h7cwtQqML6476NYSnJbUpBalHR38CfQ)']\n",
            "['https://twitter.com/TopTopical']\n",
            "['https://twitter.com/ThePittifulNews']\n",
            "['http://www.reddit.com/r/WTF/comments/1e66qm/reddit_i_give_you_my_second_butthole_nsfw/)', 'http://www.reddit.com/r/Jokes/comments/16gp94/two_assholes/)']\n",
            "['http://www.reddit.com/r/Canning/comments/yyhsp/my_20_trip_to_the_local_latin_market_netted_165/)']\n",
            "['http://en.wikipedia.org/wiki/Defenestration)']\n",
            "['http://xdce.adobe.com/mighty/']\n",
            "['http://www.reddit.com/r/gifs/comments/1dnslv/i_made_a_working_rollercoaster_using_only_canned/c9s630i']\n",
            "['http://www.joelonsoftware.com/articles/fog0000000319.html']\n",
            "['http://longestjokeintheworld.com/']\n",
            "['http://www.reddit.com/r/AskReddit/comments/1cof7j/what_was_great_the_first_time_but_awful_the/c9ijafd)']\n",
            "['http://www.bbc.co.uk/news/world-22184232)', 'http://www.bloomberg.com/news/2013-04-16/australia-court-allows-horse-sex-rules-challenger-appeal.html)', 'http://www.bbc.co.uk/news/world-us-canada-22160691)', 'http://news.sky.com/story/1077577/black-james-bond-brosnan-backs-colin-salmon)', 'http://espn.go.com/golf/masters13/story/_/id/9167230/2013-masters-tiger-penalized-2-strokes-ball-drop-15)', 'http://www.nypost.com/p/pagesix/brown_gets_waitress_to_go_gr30D8mIi9w10I00dwXDoL)']\n",
            "['http://teamcoco.com/video/conan-highlight-adam-sandler-shaq-junk']\n",
            "['https://docs.google.com/document/d/1XWPHTS7bAcbKV5GsL3Vhx7gUmm0DnFr-aOutUtV8LRM/edit?usp=sharing)']\n",
            "['http://i.imgur.com/uuJTNmK.jpg', 'http://www.youtube.com/watch?v=zMRrNY0pxfM']\n",
            "['http://i.imgur.com/p16XxgE.jpg)']\n",
            "['http://articles.chicagotribune.com/1991-09-01/features/9103050771_1_dog-dear-ann-landers-motel-clerk']\n",
            "['http://now.msn.com/spain-raises-age-of-consent-marriage-age']\n",
            "['http://www.itchyflight.com/mean-insults-and-comebacks-good.html']\n",
            "['http://www.flickr.com/photos/metrolibraryarchive/8100207680/sizes/k/in/set-72157631799145979/)']\n",
            "['http://nerdfighteria.info/video/54/Zrnd63DAH8o)']\n",
            "['http://amzn.com/B00ARXG4RI']\n",
            "['http://www.youtube.com/watch?nomobile=1&v=yIohIslPIMU']\n",
            "['http://www.reddit.com/r/Jokes/comments/1b0sts/little_timmy_woke_up_one_morning_desperate_to_pee/).']\n",
            "['http://www.house.gov/representatives/).']\n",
            "['http://www.youtube.com/watch?v=r-iP5dh54T8']\n",
            "['https://www.youtube.com/watch?v=q7P7BFBWQ1E)']\n",
            "['http://assets0.ordienetworks.com/images/GifGuide/DealWithIt/tumblr_l6ouy08TEp1qz9muno1_r1_400.gif)']\n",
            "['http://news.yahoo.com/physicists-found-higgs-boson-101311366.html)']\n",
            "['http://en.wikipedia.org/wiki/Wat_%28food%29)']\n"
          ]
        }
      ],
      "source": [
        "for i in df['joke']:\n",
        "    url = find_urls(i)\n",
        "    if url == []:\n",
        "      continue\n",
        "    else:\n",
        "      print(url)\n",
        "      "
      ]
    },
    {
      "cell_type": "code",
      "execution_count": null,
      "metadata": {
        "colab": {
          "base_uri": "https://localhost:8080/",
          "height": 112
        },
        "id": "p4G9uaFF5Nqv",
        "outputId": "ecd99e87-1a9e-4143-9c70-1be06b6f78dd"
      },
      "outputs": [
        {
          "output_type": "execute_result",
          "data": {
            "text/plain": [
              "        score                                               joke\n",
              "id                                                              \n",
              "5tz52q      1  I hate how you cannot even say black paint any..."
            ],
            "text/html": [
              "\n",
              "  <div id=\"df-1f58db84-3df1-462d-ad87-5835373cfb12\">\n",
              "    <div class=\"colab-df-container\">\n",
              "      <div>\n",
              "<style scoped>\n",
              "    .dataframe tbody tr th:only-of-type {\n",
              "        vertical-align: middle;\n",
              "    }\n",
              "\n",
              "    .dataframe tbody tr th {\n",
              "        vertical-align: top;\n",
              "    }\n",
              "\n",
              "    .dataframe thead th {\n",
              "        text-align: right;\n",
              "    }\n",
              "</style>\n",
              "<table border=\"1\" class=\"dataframe\">\n",
              "  <thead>\n",
              "    <tr style=\"text-align: right;\">\n",
              "      <th></th>\n",
              "      <th>score</th>\n",
              "      <th>joke</th>\n",
              "    </tr>\n",
              "    <tr>\n",
              "      <th>id</th>\n",
              "      <th></th>\n",
              "      <th></th>\n",
              "    </tr>\n",
              "  </thead>\n",
              "  <tbody>\n",
              "    <tr>\n",
              "      <th>5tz52q</th>\n",
              "      <td>1</td>\n",
              "      <td>I hate how you cannot even say black paint any...</td>\n",
              "    </tr>\n",
              "  </tbody>\n",
              "</table>\n",
              "</div>\n",
              "      <button class=\"colab-df-convert\" onclick=\"convertToInteractive('df-1f58db84-3df1-462d-ad87-5835373cfb12')\"\n",
              "              title=\"Convert this dataframe to an interactive table.\"\n",
              "              style=\"display:none;\">\n",
              "        \n",
              "  <svg xmlns=\"http://www.w3.org/2000/svg\" height=\"24px\"viewBox=\"0 0 24 24\"\n",
              "       width=\"24px\">\n",
              "    <path d=\"M0 0h24v24H0V0z\" fill=\"none\"/>\n",
              "    <path d=\"M18.56 5.44l.94 2.06.94-2.06 2.06-.94-2.06-.94-.94-2.06-.94 2.06-2.06.94zm-11 1L8.5 8.5l.94-2.06 2.06-.94-2.06-.94L8.5 2.5l-.94 2.06-2.06.94zm10 10l.94 2.06.94-2.06 2.06-.94-2.06-.94-.94-2.06-.94 2.06-2.06.94z\"/><path d=\"M17.41 7.96l-1.37-1.37c-.4-.4-.92-.59-1.43-.59-.52 0-1.04.2-1.43.59L10.3 9.45l-7.72 7.72c-.78.78-.78 2.05 0 2.83L4 21.41c.39.39.9.59 1.41.59.51 0 1.02-.2 1.41-.59l7.78-7.78 2.81-2.81c.8-.78.8-2.07 0-2.86zM5.41 20L4 18.59l7.72-7.72 1.47 1.35L5.41 20z\"/>\n",
              "  </svg>\n",
              "      </button>\n",
              "      \n",
              "  <style>\n",
              "    .colab-df-container {\n",
              "      display:flex;\n",
              "      flex-wrap:wrap;\n",
              "      gap: 12px;\n",
              "    }\n",
              "\n",
              "    .colab-df-convert {\n",
              "      background-color: #E8F0FE;\n",
              "      border: none;\n",
              "      border-radius: 50%;\n",
              "      cursor: pointer;\n",
              "      display: none;\n",
              "      fill: #1967D2;\n",
              "      height: 32px;\n",
              "      padding: 0 0 0 0;\n",
              "      width: 32px;\n",
              "    }\n",
              "\n",
              "    .colab-df-convert:hover {\n",
              "      background-color: #E2EBFA;\n",
              "      box-shadow: 0px 1px 2px rgba(60, 64, 67, 0.3), 0px 1px 3px 1px rgba(60, 64, 67, 0.15);\n",
              "      fill: #174EA6;\n",
              "    }\n",
              "\n",
              "    [theme=dark] .colab-df-convert {\n",
              "      background-color: #3B4455;\n",
              "      fill: #D2E3FC;\n",
              "    }\n",
              "\n",
              "    [theme=dark] .colab-df-convert:hover {\n",
              "      background-color: #434B5C;\n",
              "      box-shadow: 0px 1px 3px 1px rgba(0, 0, 0, 0.15);\n",
              "      filter: drop-shadow(0px 1px 2px rgba(0, 0, 0, 0.3));\n",
              "      fill: #FFFFFF;\n",
              "    }\n",
              "  </style>\n",
              "\n",
              "      <script>\n",
              "        const buttonEl =\n",
              "          document.querySelector('#df-1f58db84-3df1-462d-ad87-5835373cfb12 button.colab-df-convert');\n",
              "        buttonEl.style.display =\n",
              "          google.colab.kernel.accessAllowed ? 'block' : 'none';\n",
              "\n",
              "        async function convertToInteractive(key) {\n",
              "          const element = document.querySelector('#df-1f58db84-3df1-462d-ad87-5835373cfb12');\n",
              "          const dataTable =\n",
              "            await google.colab.kernel.invokeFunction('convertToInteractive',\n",
              "                                                     [key], {});\n",
              "          if (!dataTable) return;\n",
              "\n",
              "          const docLinkHtml = 'Like what you see? Visit the ' +\n",
              "            '<a target=\"_blank\" href=https://colab.research.google.com/notebooks/data_table.ipynb>data table notebook</a>'\n",
              "            + ' to learn more about interactive tables.';\n",
              "          element.innerHTML = '';\n",
              "          dataTable['output_type'] = 'display_data';\n",
              "          await google.colab.output.renderOutput(dataTable, element);\n",
              "          const docLink = document.createElement('div');\n",
              "          docLink.innerHTML = docLinkHtml;\n",
              "          element.appendChild(docLink);\n",
              "        }\n",
              "      </script>\n",
              "    </div>\n",
              "  </div>\n",
              "  "
            ]
          },
          "metadata": {},
          "execution_count": 49
        }
      ],
      "source": [
        "df['joke'] = df['joke'].apply(lambda text: remove_urls(text))\n",
        "df.head(1)"
      ]
    },
    {
      "cell_type": "markdown",
      "metadata": {
        "id": "6CxTuxDFEMUs"
      },
      "source": [
        "**Removal of numbers**  \n",
        "* Here I delete only all the numbers that look like numbers, I will leave the written numbers for later."
      ]
    },
    {
      "cell_type": "code",
      "execution_count": null,
      "metadata": {
        "colab": {
          "base_uri": "https://localhost:8080/",
          "height": 112
        },
        "id": "bqvVF5UqEIL6",
        "outputId": "0fa7a9c8-e837-4362-a882-a248f1a8c871"
      },
      "outputs": [
        {
          "output_type": "execute_result",
          "data": {
            "text/plain": [
              "        score                                               joke\n",
              "id                                                              \n",
              "5tz52q      1  I hate how you cannot even say black paint any..."
            ],
            "text/html": [
              "\n",
              "  <div id=\"df-a2abbd32-6581-4fab-bba7-f5bbab5b3171\">\n",
              "    <div class=\"colab-df-container\">\n",
              "      <div>\n",
              "<style scoped>\n",
              "    .dataframe tbody tr th:only-of-type {\n",
              "        vertical-align: middle;\n",
              "    }\n",
              "\n",
              "    .dataframe tbody tr th {\n",
              "        vertical-align: top;\n",
              "    }\n",
              "\n",
              "    .dataframe thead th {\n",
              "        text-align: right;\n",
              "    }\n",
              "</style>\n",
              "<table border=\"1\" class=\"dataframe\">\n",
              "  <thead>\n",
              "    <tr style=\"text-align: right;\">\n",
              "      <th></th>\n",
              "      <th>score</th>\n",
              "      <th>joke</th>\n",
              "    </tr>\n",
              "    <tr>\n",
              "      <th>id</th>\n",
              "      <th></th>\n",
              "      <th></th>\n",
              "    </tr>\n",
              "  </thead>\n",
              "  <tbody>\n",
              "    <tr>\n",
              "      <th>5tz52q</th>\n",
              "      <td>1</td>\n",
              "      <td>I hate how you cannot even say black paint any...</td>\n",
              "    </tr>\n",
              "  </tbody>\n",
              "</table>\n",
              "</div>\n",
              "      <button class=\"colab-df-convert\" onclick=\"convertToInteractive('df-a2abbd32-6581-4fab-bba7-f5bbab5b3171')\"\n",
              "              title=\"Convert this dataframe to an interactive table.\"\n",
              "              style=\"display:none;\">\n",
              "        \n",
              "  <svg xmlns=\"http://www.w3.org/2000/svg\" height=\"24px\"viewBox=\"0 0 24 24\"\n",
              "       width=\"24px\">\n",
              "    <path d=\"M0 0h24v24H0V0z\" fill=\"none\"/>\n",
              "    <path d=\"M18.56 5.44l.94 2.06.94-2.06 2.06-.94-2.06-.94-.94-2.06-.94 2.06-2.06.94zm-11 1L8.5 8.5l.94-2.06 2.06-.94-2.06-.94L8.5 2.5l-.94 2.06-2.06.94zm10 10l.94 2.06.94-2.06 2.06-.94-2.06-.94-.94-2.06-.94 2.06-2.06.94z\"/><path d=\"M17.41 7.96l-1.37-1.37c-.4-.4-.92-.59-1.43-.59-.52 0-1.04.2-1.43.59L10.3 9.45l-7.72 7.72c-.78.78-.78 2.05 0 2.83L4 21.41c.39.39.9.59 1.41.59.51 0 1.02-.2 1.41-.59l7.78-7.78 2.81-2.81c.8-.78.8-2.07 0-2.86zM5.41 20L4 18.59l7.72-7.72 1.47 1.35L5.41 20z\"/>\n",
              "  </svg>\n",
              "      </button>\n",
              "      \n",
              "  <style>\n",
              "    .colab-df-container {\n",
              "      display:flex;\n",
              "      flex-wrap:wrap;\n",
              "      gap: 12px;\n",
              "    }\n",
              "\n",
              "    .colab-df-convert {\n",
              "      background-color: #E8F0FE;\n",
              "      border: none;\n",
              "      border-radius: 50%;\n",
              "      cursor: pointer;\n",
              "      display: none;\n",
              "      fill: #1967D2;\n",
              "      height: 32px;\n",
              "      padding: 0 0 0 0;\n",
              "      width: 32px;\n",
              "    }\n",
              "\n",
              "    .colab-df-convert:hover {\n",
              "      background-color: #E2EBFA;\n",
              "      box-shadow: 0px 1px 2px rgba(60, 64, 67, 0.3), 0px 1px 3px 1px rgba(60, 64, 67, 0.15);\n",
              "      fill: #174EA6;\n",
              "    }\n",
              "\n",
              "    [theme=dark] .colab-df-convert {\n",
              "      background-color: #3B4455;\n",
              "      fill: #D2E3FC;\n",
              "    }\n",
              "\n",
              "    [theme=dark] .colab-df-convert:hover {\n",
              "      background-color: #434B5C;\n",
              "      box-shadow: 0px 1px 3px 1px rgba(0, 0, 0, 0.15);\n",
              "      filter: drop-shadow(0px 1px 2px rgba(0, 0, 0, 0.3));\n",
              "      fill: #FFFFFF;\n",
              "    }\n",
              "  </style>\n",
              "\n",
              "      <script>\n",
              "        const buttonEl =\n",
              "          document.querySelector('#df-a2abbd32-6581-4fab-bba7-f5bbab5b3171 button.colab-df-convert');\n",
              "        buttonEl.style.display =\n",
              "          google.colab.kernel.accessAllowed ? 'block' : 'none';\n",
              "\n",
              "        async function convertToInteractive(key) {\n",
              "          const element = document.querySelector('#df-a2abbd32-6581-4fab-bba7-f5bbab5b3171');\n",
              "          const dataTable =\n",
              "            await google.colab.kernel.invokeFunction('convertToInteractive',\n",
              "                                                     [key], {});\n",
              "          if (!dataTable) return;\n",
              "\n",
              "          const docLinkHtml = 'Like what you see? Visit the ' +\n",
              "            '<a target=\"_blank\" href=https://colab.research.google.com/notebooks/data_table.ipynb>data table notebook</a>'\n",
              "            + ' to learn more about interactive tables.';\n",
              "          element.innerHTML = '';\n",
              "          dataTable['output_type'] = 'display_data';\n",
              "          await google.colab.output.renderOutput(dataTable, element);\n",
              "          const docLink = document.createElement('div');\n",
              "          docLink.innerHTML = docLinkHtml;\n",
              "          element.appendChild(docLink);\n",
              "        }\n",
              "      </script>\n",
              "    </div>\n",
              "  </div>\n",
              "  "
            ]
          },
          "metadata": {},
          "execution_count": 50
        }
      ],
      "source": [
        "df[text_col] = df[text_col].apply(lambda text: remove_numbers(text))\n",
        "df.head(1)"
      ]
    },
    {
      "cell_type": "code",
      "execution_count": null,
      "metadata": {
        "colab": {
          "base_uri": "https://localhost:8080/"
        },
        "id": "wlxflnMQEXyW",
        "outputId": "640abe10-24c8-43e6-ebc3-29f9c90220ab"
      },
      "outputs": [
        {
          "output_type": "stream",
          "name": "stdout",
          "text": [
            "The number of duplicated data is: 213\n"
          ]
        }
      ],
      "source": [
        "print('The number of duplicated data is:',sum(df.duplicated()))"
      ]
    },
    {
      "cell_type": "markdown",
      "metadata": {
        "id": "BaUtFhRRGcz_"
      },
      "source": [
        "## **Same jokes have different scores:**   \n",
        "Now I take the biggest score from a joke and set this value to all duplicates, then I delete duplicates."
      ]
    },
    {
      "cell_type": "code",
      "execution_count": null,
      "metadata": {
        "colab": {
          "base_uri": "https://localhost:8080/"
        },
        "id": "5Lqd_we3HCAe",
        "outputId": "35194e97-1b7a-463c-d398-7f2a1930dc0c"
      },
      "outputs": [
        {
          "output_type": "stream",
          "name": "stdout",
          "text": [
            "The number of duplicated data is: 3764\n"
          ]
        }
      ],
      "source": [
        "print('The number of duplicated data is:',sum(df['joke'].duplicated()))"
      ]
    },
    {
      "cell_type": "code",
      "execution_count": null,
      "metadata": {
        "colab": {
          "base_uri": "https://localhost:8080/"
        },
        "id": "nvWnGcbwLeed",
        "outputId": "bf8f9bcc-a988-4e0a-a100-e3e634ca2e10"
      },
      "outputs": [
        {
          "output_type": "execute_result",
          "data": {
            "text/plain": [
              "array(['What did the leper say to the prostitute? Keep the tip.',\n",
              "       '!false It is funny because it is true.',\n",
              "       \"What is Mexico's National Animal? The drug mule.\", ...,\n",
              "       'What is the difference between ignorance and apathy? Do not know, do not care.',\n",
              "       'How do you know if your roommate is gay? His dick tastes like shit.',\n",
              "       'Why do they call it PMS? Because mad cow disease was already taken'],\n",
              "      dtype=object)"
            ]
          },
          "metadata": {},
          "execution_count": 54
        }
      ],
      "source": [
        "dupls = df[df['joke'].duplicated() == True]['joke'].unique()\n",
        "dupls"
      ]
    },
    {
      "cell_type": "code",
      "execution_count": null,
      "metadata": {
        "id": "ALR-PSJYHItZ"
      },
      "outputs": [],
      "source": [
        "dupls = df[df['joke'].duplicated() == True]['joke'].unique()\n",
        "\n",
        "for j in dupls:\n",
        "  max_score = max(set(df[df['joke'] == j]['score']))\n",
        "  joke_idxs = df[df['joke'] == j].index\n",
        "  df['score'][joke_idxs] = max_score\n",
        "  "
      ]
    },
    {
      "cell_type": "code",
      "execution_count": null,
      "metadata": {
        "colab": {
          "base_uri": "https://localhost:8080/",
          "height": 770
        },
        "id": "lypiF7dpKEPT",
        "outputId": "4770f50f-5cd6-4f43-ef03-0f7f8b36d01f"
      },
      "outputs": [
        {
          "output_type": "execute_result",
          "data": {
            "text/plain": [
              "        score                                               joke\n",
              "id                                                              \n",
              "5t6548    252  What did the leper say to the prostitute? Keep...\n",
              "5swmk6    252  What did the leper say to the prostitute? Keep...\n",
              "525zmr    252  What did the leper say to the prostitute? Keep...\n",
              "4zzal9    252  What did the leper say to the prostitute? Keep...\n",
              "4yf0xg    252  What did the leper say to the prostitute? Keep...\n",
              "4tvbms    252  What did the leper say to the prostitute? Keep...\n",
              "4t2ajn    252  What did the leper say to the prostitute? Keep...\n",
              "48hd0j    252  What did the leper say to the prostitute? Keep...\n",
              "46fpv4    252  What did the leper say to the prostitute? Keep...\n",
              "43luzn    252  What did the leper say to the prostitute? Keep...\n",
              "3sqxnj    252  What did the leper say to the prostitute? Keep...\n",
              "3nyb2h    252  What did the leper say to the prostitute? Keep...\n",
              "3k9wtp    252  What did the leper say to the prostitute? Keep...\n",
              "3fhjdj    252  What did the leper say to the prostitute? Keep...\n",
              "301r4k    252  What did the leper say to the prostitute? Keep...\n",
              "2jmmqv    252  What did the leper say to the prostitute? Keep...\n",
              "2ef0ec    252  What did the leper say to the prostitute? Keep...\n",
              "2dtxwr    252  What did the leper say to the prostitute? Keep...\n",
              "21xlys    252  What did the leper say to the prostitute? Keep...\n",
              "21agx0    252  What did the leper say to the prostitute? Keep...\n",
              "1jt74p    252  What did the leper say to the prostitute? Keep...\n",
              "1eqvat    252  What did the leper say to the prostitute? Keep..."
            ],
            "text/html": [
              "\n",
              "  <div id=\"df-bd5db1c1-38c3-458c-a16c-b116d7273656\">\n",
              "    <div class=\"colab-df-container\">\n",
              "      <div>\n",
              "<style scoped>\n",
              "    .dataframe tbody tr th:only-of-type {\n",
              "        vertical-align: middle;\n",
              "    }\n",
              "\n",
              "    .dataframe tbody tr th {\n",
              "        vertical-align: top;\n",
              "    }\n",
              "\n",
              "    .dataframe thead th {\n",
              "        text-align: right;\n",
              "    }\n",
              "</style>\n",
              "<table border=\"1\" class=\"dataframe\">\n",
              "  <thead>\n",
              "    <tr style=\"text-align: right;\">\n",
              "      <th></th>\n",
              "      <th>score</th>\n",
              "      <th>joke</th>\n",
              "    </tr>\n",
              "    <tr>\n",
              "      <th>id</th>\n",
              "      <th></th>\n",
              "      <th></th>\n",
              "    </tr>\n",
              "  </thead>\n",
              "  <tbody>\n",
              "    <tr>\n",
              "      <th>5t6548</th>\n",
              "      <td>252</td>\n",
              "      <td>What did the leper say to the prostitute? Keep...</td>\n",
              "    </tr>\n",
              "    <tr>\n",
              "      <th>5swmk6</th>\n",
              "      <td>252</td>\n",
              "      <td>What did the leper say to the prostitute? Keep...</td>\n",
              "    </tr>\n",
              "    <tr>\n",
              "      <th>525zmr</th>\n",
              "      <td>252</td>\n",
              "      <td>What did the leper say to the prostitute? Keep...</td>\n",
              "    </tr>\n",
              "    <tr>\n",
              "      <th>4zzal9</th>\n",
              "      <td>252</td>\n",
              "      <td>What did the leper say to the prostitute? Keep...</td>\n",
              "    </tr>\n",
              "    <tr>\n",
              "      <th>4yf0xg</th>\n",
              "      <td>252</td>\n",
              "      <td>What did the leper say to the prostitute? Keep...</td>\n",
              "    </tr>\n",
              "    <tr>\n",
              "      <th>4tvbms</th>\n",
              "      <td>252</td>\n",
              "      <td>What did the leper say to the prostitute? Keep...</td>\n",
              "    </tr>\n",
              "    <tr>\n",
              "      <th>4t2ajn</th>\n",
              "      <td>252</td>\n",
              "      <td>What did the leper say to the prostitute? Keep...</td>\n",
              "    </tr>\n",
              "    <tr>\n",
              "      <th>48hd0j</th>\n",
              "      <td>252</td>\n",
              "      <td>What did the leper say to the prostitute? Keep...</td>\n",
              "    </tr>\n",
              "    <tr>\n",
              "      <th>46fpv4</th>\n",
              "      <td>252</td>\n",
              "      <td>What did the leper say to the prostitute? Keep...</td>\n",
              "    </tr>\n",
              "    <tr>\n",
              "      <th>43luzn</th>\n",
              "      <td>252</td>\n",
              "      <td>What did the leper say to the prostitute? Keep...</td>\n",
              "    </tr>\n",
              "    <tr>\n",
              "      <th>3sqxnj</th>\n",
              "      <td>252</td>\n",
              "      <td>What did the leper say to the prostitute? Keep...</td>\n",
              "    </tr>\n",
              "    <tr>\n",
              "      <th>3nyb2h</th>\n",
              "      <td>252</td>\n",
              "      <td>What did the leper say to the prostitute? Keep...</td>\n",
              "    </tr>\n",
              "    <tr>\n",
              "      <th>3k9wtp</th>\n",
              "      <td>252</td>\n",
              "      <td>What did the leper say to the prostitute? Keep...</td>\n",
              "    </tr>\n",
              "    <tr>\n",
              "      <th>3fhjdj</th>\n",
              "      <td>252</td>\n",
              "      <td>What did the leper say to the prostitute? Keep...</td>\n",
              "    </tr>\n",
              "    <tr>\n",
              "      <th>301r4k</th>\n",
              "      <td>252</td>\n",
              "      <td>What did the leper say to the prostitute? Keep...</td>\n",
              "    </tr>\n",
              "    <tr>\n",
              "      <th>2jmmqv</th>\n",
              "      <td>252</td>\n",
              "      <td>What did the leper say to the prostitute? Keep...</td>\n",
              "    </tr>\n",
              "    <tr>\n",
              "      <th>2ef0ec</th>\n",
              "      <td>252</td>\n",
              "      <td>What did the leper say to the prostitute? Keep...</td>\n",
              "    </tr>\n",
              "    <tr>\n",
              "      <th>2dtxwr</th>\n",
              "      <td>252</td>\n",
              "      <td>What did the leper say to the prostitute? Keep...</td>\n",
              "    </tr>\n",
              "    <tr>\n",
              "      <th>21xlys</th>\n",
              "      <td>252</td>\n",
              "      <td>What did the leper say to the prostitute? Keep...</td>\n",
              "    </tr>\n",
              "    <tr>\n",
              "      <th>21agx0</th>\n",
              "      <td>252</td>\n",
              "      <td>What did the leper say to the prostitute? Keep...</td>\n",
              "    </tr>\n",
              "    <tr>\n",
              "      <th>1jt74p</th>\n",
              "      <td>252</td>\n",
              "      <td>What did the leper say to the prostitute? Keep...</td>\n",
              "    </tr>\n",
              "    <tr>\n",
              "      <th>1eqvat</th>\n",
              "      <td>252</td>\n",
              "      <td>What did the leper say to the prostitute? Keep...</td>\n",
              "    </tr>\n",
              "  </tbody>\n",
              "</table>\n",
              "</div>\n",
              "      <button class=\"colab-df-convert\" onclick=\"convertToInteractive('df-bd5db1c1-38c3-458c-a16c-b116d7273656')\"\n",
              "              title=\"Convert this dataframe to an interactive table.\"\n",
              "              style=\"display:none;\">\n",
              "        \n",
              "  <svg xmlns=\"http://www.w3.org/2000/svg\" height=\"24px\"viewBox=\"0 0 24 24\"\n",
              "       width=\"24px\">\n",
              "    <path d=\"M0 0h24v24H0V0z\" fill=\"none\"/>\n",
              "    <path d=\"M18.56 5.44l.94 2.06.94-2.06 2.06-.94-2.06-.94-.94-2.06-.94 2.06-2.06.94zm-11 1L8.5 8.5l.94-2.06 2.06-.94-2.06-.94L8.5 2.5l-.94 2.06-2.06.94zm10 10l.94 2.06.94-2.06 2.06-.94-2.06-.94-.94-2.06-.94 2.06-2.06.94z\"/><path d=\"M17.41 7.96l-1.37-1.37c-.4-.4-.92-.59-1.43-.59-.52 0-1.04.2-1.43.59L10.3 9.45l-7.72 7.72c-.78.78-.78 2.05 0 2.83L4 21.41c.39.39.9.59 1.41.59.51 0 1.02-.2 1.41-.59l7.78-7.78 2.81-2.81c.8-.78.8-2.07 0-2.86zM5.41 20L4 18.59l7.72-7.72 1.47 1.35L5.41 20z\"/>\n",
              "  </svg>\n",
              "      </button>\n",
              "      \n",
              "  <style>\n",
              "    .colab-df-container {\n",
              "      display:flex;\n",
              "      flex-wrap:wrap;\n",
              "      gap: 12px;\n",
              "    }\n",
              "\n",
              "    .colab-df-convert {\n",
              "      background-color: #E8F0FE;\n",
              "      border: none;\n",
              "      border-radius: 50%;\n",
              "      cursor: pointer;\n",
              "      display: none;\n",
              "      fill: #1967D2;\n",
              "      height: 32px;\n",
              "      padding: 0 0 0 0;\n",
              "      width: 32px;\n",
              "    }\n",
              "\n",
              "    .colab-df-convert:hover {\n",
              "      background-color: #E2EBFA;\n",
              "      box-shadow: 0px 1px 2px rgba(60, 64, 67, 0.3), 0px 1px 3px 1px rgba(60, 64, 67, 0.15);\n",
              "      fill: #174EA6;\n",
              "    }\n",
              "\n",
              "    [theme=dark] .colab-df-convert {\n",
              "      background-color: #3B4455;\n",
              "      fill: #D2E3FC;\n",
              "    }\n",
              "\n",
              "    [theme=dark] .colab-df-convert:hover {\n",
              "      background-color: #434B5C;\n",
              "      box-shadow: 0px 1px 3px 1px rgba(0, 0, 0, 0.15);\n",
              "      filter: drop-shadow(0px 1px 2px rgba(0, 0, 0, 0.3));\n",
              "      fill: #FFFFFF;\n",
              "    }\n",
              "  </style>\n",
              "\n",
              "      <script>\n",
              "        const buttonEl =\n",
              "          document.querySelector('#df-bd5db1c1-38c3-458c-a16c-b116d7273656 button.colab-df-convert');\n",
              "        buttonEl.style.display =\n",
              "          google.colab.kernel.accessAllowed ? 'block' : 'none';\n",
              "\n",
              "        async function convertToInteractive(key) {\n",
              "          const element = document.querySelector('#df-bd5db1c1-38c3-458c-a16c-b116d7273656');\n",
              "          const dataTable =\n",
              "            await google.colab.kernel.invokeFunction('convertToInteractive',\n",
              "                                                     [key], {});\n",
              "          if (!dataTable) return;\n",
              "\n",
              "          const docLinkHtml = 'Like what you see? Visit the ' +\n",
              "            '<a target=\"_blank\" href=https://colab.research.google.com/notebooks/data_table.ipynb>data table notebook</a>'\n",
              "            + ' to learn more about interactive tables.';\n",
              "          element.innerHTML = '';\n",
              "          dataTable['output_type'] = 'display_data';\n",
              "          await google.colab.output.renderOutput(dataTable, element);\n",
              "          const docLink = document.createElement('div');\n",
              "          docLink.innerHTML = docLinkHtml;\n",
              "          element.appendChild(docLink);\n",
              "        }\n",
              "      </script>\n",
              "    </div>\n",
              "  </div>\n",
              "  "
            ]
          },
          "metadata": {},
          "execution_count": 56
        }
      ],
      "source": [
        "df[df['joke'] == dupls[0]]"
      ]
    },
    {
      "cell_type": "markdown",
      "metadata": {
        "id": "LRfJNZ_uE6qC"
      },
      "source": [
        "Removal of duplicates"
      ]
    },
    {
      "cell_type": "code",
      "execution_count": null,
      "metadata": {
        "colab": {
          "base_uri": "https://localhost:8080/"
        },
        "id": "nicbEatoMn4k",
        "outputId": "136b0eaf-a2a7-4692-e05c-d547fb325611"
      },
      "outputs": [
        {
          "output_type": "execute_result",
          "data": {
            "text/plain": [
              "(193906, 2)"
            ]
          },
          "metadata": {},
          "execution_count": 57
        }
      ],
      "source": [
        "df.shape"
      ]
    },
    {
      "cell_type": "code",
      "execution_count": null,
      "metadata": {
        "colab": {
          "base_uri": "https://localhost:8080/"
        },
        "id": "BjzJLw3pMlqM",
        "outputId": "eb44657b-7756-4586-9f2e-866a348cfbea"
      },
      "outputs": [
        {
          "output_type": "execute_result",
          "data": {
            "text/plain": [
              "(190142, 2)"
            ]
          },
          "metadata": {},
          "execution_count": 58
        }
      ],
      "source": [
        "df.drop_duplicates(inplace=True)\n",
        "df.shape"
      ]
    },
    {
      "cell_type": "code",
      "source": [
        "# df.to_csv('/content/drive/My Drive/NLP_humor/data/jokes_dataset_PREPROC_withOrigScores.csv',\n",
        "#             sep=',',\n",
        "#             header=True, \n",
        "#             index=True,\n",
        "#             encoding='utf-8')"
      ],
      "metadata": {
        "id": "F5VVfYUn-l6W"
      },
      "execution_count": null,
      "outputs": []
    },
    {
      "cell_type": "markdown",
      "metadata": {
        "id": "bPKjHZWbkeU5"
      },
      "source": [
        "### **Split 'score' in 4 quantiles (make 5 classes):**"
      ]
    },
    {
      "cell_type": "code",
      "source": [
        "df['score'].quantile([0.2, 0.4, 0.6, 0.8])"
      ],
      "metadata": {
        "colab": {
          "base_uri": "https://localhost:8080/"
        },
        "id": "ZpaY0Cl48Op6",
        "outputId": "96cd6802-e71a-42c0-ab49-96d9580f8ce7"
      },
      "execution_count": null,
      "outputs": [
        {
          "output_type": "execute_result",
          "data": {
            "text/plain": [
              "0.2     0.0\n",
              "0.4     1.0\n",
              "0.6     5.0\n",
              "0.8    26.0\n",
              "Name: score, dtype: float64"
            ]
          },
          "metadata": {},
          "execution_count": 59
        }
      ]
    },
    {
      "cell_type": "code",
      "execution_count": null,
      "metadata": {
        "colab": {
          "base_uri": "https://localhost:8080/",
          "height": 174
        },
        "id": "P52Qsi5Vk5e_",
        "outputId": "746e419c-48b0-4d3b-b8b1-183fae0dd6df"
      },
      "outputs": [
        {
          "output_type": "execute_result",
          "data": {
            "text/plain": [
              "                   score\n",
              "score                   \n",
              "(-0.001, 1.0]   0.239339\n",
              "(1.0, 5.0]      3.151722\n",
              "(5.0, 26.0]    12.500093"
            ],
            "text/html": [
              "\n",
              "  <div id=\"df-957b09fe-d862-4df3-9901-22b6ee909291\">\n",
              "    <div class=\"colab-df-container\">\n",
              "      <div>\n",
              "<style scoped>\n",
              "    .dataframe tbody tr th:only-of-type {\n",
              "        vertical-align: middle;\n",
              "    }\n",
              "\n",
              "    .dataframe tbody tr th {\n",
              "        vertical-align: top;\n",
              "    }\n",
              "\n",
              "    .dataframe thead th {\n",
              "        text-align: right;\n",
              "    }\n",
              "</style>\n",
              "<table border=\"1\" class=\"dataframe\">\n",
              "  <thead>\n",
              "    <tr style=\"text-align: right;\">\n",
              "      <th></th>\n",
              "      <th>score</th>\n",
              "    </tr>\n",
              "    <tr>\n",
              "      <th>score</th>\n",
              "      <th></th>\n",
              "    </tr>\n",
              "  </thead>\n",
              "  <tbody>\n",
              "    <tr>\n",
              "      <th>(-0.001, 1.0]</th>\n",
              "      <td>0.239339</td>\n",
              "    </tr>\n",
              "    <tr>\n",
              "      <th>(1.0, 5.0]</th>\n",
              "      <td>3.151722</td>\n",
              "    </tr>\n",
              "    <tr>\n",
              "      <th>(5.0, 26.0]</th>\n",
              "      <td>12.500093</td>\n",
              "    </tr>\n",
              "  </tbody>\n",
              "</table>\n",
              "</div>\n",
              "      <button class=\"colab-df-convert\" onclick=\"convertToInteractive('df-957b09fe-d862-4df3-9901-22b6ee909291')\"\n",
              "              title=\"Convert this dataframe to an interactive table.\"\n",
              "              style=\"display:none;\">\n",
              "        \n",
              "  <svg xmlns=\"http://www.w3.org/2000/svg\" height=\"24px\"viewBox=\"0 0 24 24\"\n",
              "       width=\"24px\">\n",
              "    <path d=\"M0 0h24v24H0V0z\" fill=\"none\"/>\n",
              "    <path d=\"M18.56 5.44l.94 2.06.94-2.06 2.06-.94-2.06-.94-.94-2.06-.94 2.06-2.06.94zm-11 1L8.5 8.5l.94-2.06 2.06-.94-2.06-.94L8.5 2.5l-.94 2.06-2.06.94zm10 10l.94 2.06.94-2.06 2.06-.94-2.06-.94-.94-2.06-.94 2.06-2.06.94z\"/><path d=\"M17.41 7.96l-1.37-1.37c-.4-.4-.92-.59-1.43-.59-.52 0-1.04.2-1.43.59L10.3 9.45l-7.72 7.72c-.78.78-.78 2.05 0 2.83L4 21.41c.39.39.9.59 1.41.59.51 0 1.02-.2 1.41-.59l7.78-7.78 2.81-2.81c.8-.78.8-2.07 0-2.86zM5.41 20L4 18.59l7.72-7.72 1.47 1.35L5.41 20z\"/>\n",
              "  </svg>\n",
              "      </button>\n",
              "      \n",
              "  <style>\n",
              "    .colab-df-container {\n",
              "      display:flex;\n",
              "      flex-wrap:wrap;\n",
              "      gap: 12px;\n",
              "    }\n",
              "\n",
              "    .colab-df-convert {\n",
              "      background-color: #E8F0FE;\n",
              "      border: none;\n",
              "      border-radius: 50%;\n",
              "      cursor: pointer;\n",
              "      display: none;\n",
              "      fill: #1967D2;\n",
              "      height: 32px;\n",
              "      padding: 0 0 0 0;\n",
              "      width: 32px;\n",
              "    }\n",
              "\n",
              "    .colab-df-convert:hover {\n",
              "      background-color: #E2EBFA;\n",
              "      box-shadow: 0px 1px 2px rgba(60, 64, 67, 0.3), 0px 1px 3px 1px rgba(60, 64, 67, 0.15);\n",
              "      fill: #174EA6;\n",
              "    }\n",
              "\n",
              "    [theme=dark] .colab-df-convert {\n",
              "      background-color: #3B4455;\n",
              "      fill: #D2E3FC;\n",
              "    }\n",
              "\n",
              "    [theme=dark] .colab-df-convert:hover {\n",
              "      background-color: #434B5C;\n",
              "      box-shadow: 0px 1px 3px 1px rgba(0, 0, 0, 0.15);\n",
              "      filter: drop-shadow(0px 1px 2px rgba(0, 0, 0, 0.3));\n",
              "      fill: #FFFFFF;\n",
              "    }\n",
              "  </style>\n",
              "\n",
              "      <script>\n",
              "        const buttonEl =\n",
              "          document.querySelector('#df-957b09fe-d862-4df3-9901-22b6ee909291 button.colab-df-convert');\n",
              "        buttonEl.style.display =\n",
              "          google.colab.kernel.accessAllowed ? 'block' : 'none';\n",
              "\n",
              "        async function convertToInteractive(key) {\n",
              "          const element = document.querySelector('#df-957b09fe-d862-4df3-9901-22b6ee909291');\n",
              "          const dataTable =\n",
              "            await google.colab.kernel.invokeFunction('convertToInteractive',\n",
              "                                                     [key], {});\n",
              "          if (!dataTable) return;\n",
              "\n",
              "          const docLinkHtml = 'Like what you see? Visit the ' +\n",
              "            '<a target=\"_blank\" href=https://colab.research.google.com/notebooks/data_table.ipynb>data table notebook</a>'\n",
              "            + ' to learn more about interactive tables.';\n",
              "          element.innerHTML = '';\n",
              "          dataTable['output_type'] = 'display_data';\n",
              "          await google.colab.output.renderOutput(dataTable, element);\n",
              "          const docLink = document.createElement('div');\n",
              "          docLink.innerHTML = docLinkHtml;\n",
              "          element.appendChild(docLink);\n",
              "        }\n",
              "      </script>\n",
              "    </div>\n",
              "  </div>\n",
              "  "
            ]
          },
          "metadata": {},
          "execution_count": 60
        }
      ],
      "source": [
        "df.groupby(pd.cut(df['score'], np.percentile(df['score'], [20, 40, 60, 80]), include_lowest=True)).mean()"
      ]
    },
    {
      "cell_type": "code",
      "execution_count": null,
      "metadata": {
        "id": "r64paIIOidMn"
      },
      "outputs": [],
      "source": [
        "def add_rank(data):\n",
        "  if data == 0:\n",
        "    return 0\n",
        "  elif (data > 0) and( data <= 1):\n",
        "    return 1 \n",
        "  elif (data > 1)and (data <= 5):\n",
        "    return 2\n",
        "  elif (data > 5)and (data <= 26):\n",
        "    return 3\n",
        "  elif data > 26:\n",
        "    return 4"
      ]
    },
    {
      "cell_type": "code",
      "execution_count": null,
      "metadata": {
        "id": "JqRMkyvwlFLD"
      },
      "outputs": [],
      "source": [
        "df['rank'] = df['score'].apply(add_rank)"
      ]
    },
    {
      "cell_type": "code",
      "source": [
        "df['rank'].value_counts()"
      ],
      "metadata": {
        "colab": {
          "base_uri": "https://localhost:8080/"
        },
        "id": "z0FUCKF29MI3",
        "outputId": "72624d26-64a4-4e00-b506-a96c41f7ccc4"
      },
      "execution_count": null,
      "outputs": [
        {
          "output_type": "execute_result",
          "data": {
            "text/plain": [
              "0    60182\n",
              "4    37757\n",
              "3    37445\n",
              "2    35822\n",
              "1    18936\n",
              "Name: rank, dtype: int64"
            ]
          },
          "metadata": {},
          "execution_count": 63
        }
      ]
    },
    {
      "cell_type": "markdown",
      "metadata": {
        "id": "9uvonL-ZlLYp"
      },
      "source": [
        "**Drop joke from one word:**"
      ]
    },
    {
      "cell_type": "code",
      "execution_count": null,
      "metadata": {
        "colab": {
          "base_uri": "https://localhost:8080/",
          "height": 112
        },
        "id": "GRegtpQelO1X",
        "outputId": "adba38e1-a78f-4c0d-b652-b1dfd9c99915"
      },
      "outputs": [
        {
          "output_type": "execute_result",
          "data": {
            "text/plain": [
              "        score                                               joke  rank  \\\n",
              "id                                                                       \n",
              "5tz52q      1  I hate how you cannot even say black paint any...     1   \n",
              "\n",
              "        text_word_count  \n",
              "id                       \n",
              "5tz52q               22  "
            ],
            "text/html": [
              "\n",
              "  <div id=\"df-9d09969b-c495-4c3a-94c2-464ee53989a6\">\n",
              "    <div class=\"colab-df-container\">\n",
              "      <div>\n",
              "<style scoped>\n",
              "    .dataframe tbody tr th:only-of-type {\n",
              "        vertical-align: middle;\n",
              "    }\n",
              "\n",
              "    .dataframe tbody tr th {\n",
              "        vertical-align: top;\n",
              "    }\n",
              "\n",
              "    .dataframe thead th {\n",
              "        text-align: right;\n",
              "    }\n",
              "</style>\n",
              "<table border=\"1\" class=\"dataframe\">\n",
              "  <thead>\n",
              "    <tr style=\"text-align: right;\">\n",
              "      <th></th>\n",
              "      <th>score</th>\n",
              "      <th>joke</th>\n",
              "      <th>rank</th>\n",
              "      <th>text_word_count</th>\n",
              "    </tr>\n",
              "    <tr>\n",
              "      <th>id</th>\n",
              "      <th></th>\n",
              "      <th></th>\n",
              "      <th></th>\n",
              "      <th></th>\n",
              "    </tr>\n",
              "  </thead>\n",
              "  <tbody>\n",
              "    <tr>\n",
              "      <th>5tz52q</th>\n",
              "      <td>1</td>\n",
              "      <td>I hate how you cannot even say black paint any...</td>\n",
              "      <td>1</td>\n",
              "      <td>22</td>\n",
              "    </tr>\n",
              "  </tbody>\n",
              "</table>\n",
              "</div>\n",
              "      <button class=\"colab-df-convert\" onclick=\"convertToInteractive('df-9d09969b-c495-4c3a-94c2-464ee53989a6')\"\n",
              "              title=\"Convert this dataframe to an interactive table.\"\n",
              "              style=\"display:none;\">\n",
              "        \n",
              "  <svg xmlns=\"http://www.w3.org/2000/svg\" height=\"24px\"viewBox=\"0 0 24 24\"\n",
              "       width=\"24px\">\n",
              "    <path d=\"M0 0h24v24H0V0z\" fill=\"none\"/>\n",
              "    <path d=\"M18.56 5.44l.94 2.06.94-2.06 2.06-.94-2.06-.94-.94-2.06-.94 2.06-2.06.94zm-11 1L8.5 8.5l.94-2.06 2.06-.94-2.06-.94L8.5 2.5l-.94 2.06-2.06.94zm10 10l.94 2.06.94-2.06 2.06-.94-2.06-.94-.94-2.06-.94 2.06-2.06.94z\"/><path d=\"M17.41 7.96l-1.37-1.37c-.4-.4-.92-.59-1.43-.59-.52 0-1.04.2-1.43.59L10.3 9.45l-7.72 7.72c-.78.78-.78 2.05 0 2.83L4 21.41c.39.39.9.59 1.41.59.51 0 1.02-.2 1.41-.59l7.78-7.78 2.81-2.81c.8-.78.8-2.07 0-2.86zM5.41 20L4 18.59l7.72-7.72 1.47 1.35L5.41 20z\"/>\n",
              "  </svg>\n",
              "      </button>\n",
              "      \n",
              "  <style>\n",
              "    .colab-df-container {\n",
              "      display:flex;\n",
              "      flex-wrap:wrap;\n",
              "      gap: 12px;\n",
              "    }\n",
              "\n",
              "    .colab-df-convert {\n",
              "      background-color: #E8F0FE;\n",
              "      border: none;\n",
              "      border-radius: 50%;\n",
              "      cursor: pointer;\n",
              "      display: none;\n",
              "      fill: #1967D2;\n",
              "      height: 32px;\n",
              "      padding: 0 0 0 0;\n",
              "      width: 32px;\n",
              "    }\n",
              "\n",
              "    .colab-df-convert:hover {\n",
              "      background-color: #E2EBFA;\n",
              "      box-shadow: 0px 1px 2px rgba(60, 64, 67, 0.3), 0px 1px 3px 1px rgba(60, 64, 67, 0.15);\n",
              "      fill: #174EA6;\n",
              "    }\n",
              "\n",
              "    [theme=dark] .colab-df-convert {\n",
              "      background-color: #3B4455;\n",
              "      fill: #D2E3FC;\n",
              "    }\n",
              "\n",
              "    [theme=dark] .colab-df-convert:hover {\n",
              "      background-color: #434B5C;\n",
              "      box-shadow: 0px 1px 3px 1px rgba(0, 0, 0, 0.15);\n",
              "      filter: drop-shadow(0px 1px 2px rgba(0, 0, 0, 0.3));\n",
              "      fill: #FFFFFF;\n",
              "    }\n",
              "  </style>\n",
              "\n",
              "      <script>\n",
              "        const buttonEl =\n",
              "          document.querySelector('#df-9d09969b-c495-4c3a-94c2-464ee53989a6 button.colab-df-convert');\n",
              "        buttonEl.style.display =\n",
              "          google.colab.kernel.accessAllowed ? 'block' : 'none';\n",
              "\n",
              "        async function convertToInteractive(key) {\n",
              "          const element = document.querySelector('#df-9d09969b-c495-4c3a-94c2-464ee53989a6');\n",
              "          const dataTable =\n",
              "            await google.colab.kernel.invokeFunction('convertToInteractive',\n",
              "                                                     [key], {});\n",
              "          if (!dataTable) return;\n",
              "\n",
              "          const docLinkHtml = 'Like what you see? Visit the ' +\n",
              "            '<a target=\"_blank\" href=https://colab.research.google.com/notebooks/data_table.ipynb>data table notebook</a>'\n",
              "            + ' to learn more about interactive tables.';\n",
              "          element.innerHTML = '';\n",
              "          dataTable['output_type'] = 'display_data';\n",
              "          await google.colab.output.renderOutput(dataTable, element);\n",
              "          const docLink = document.createElement('div');\n",
              "          docLink.innerHTML = docLinkHtml;\n",
              "          element.appendChild(docLink);\n",
              "        }\n",
              "      </script>\n",
              "    </div>\n",
              "  </div>\n",
              "  "
            ]
          },
          "metadata": {},
          "execution_count": 64
        }
      ],
      "source": [
        "df['text_word_count'] = df['joke'].apply(lambda x: len(str(x).split()))\n",
        "df.head(1)"
      ]
    },
    {
      "cell_type": "code",
      "execution_count": null,
      "metadata": {
        "colab": {
          "base_uri": "https://localhost:8080/",
          "height": 455
        },
        "id": "vDtV_q0RlO9-",
        "outputId": "2f5844de-07f3-4bcc-f120-732c35015600"
      },
      "outputs": [
        {
          "output_type": "execute_result",
          "data": {
            "text/plain": [
              "        score       joke  rank  text_word_count\n",
              "id                                             \n",
              "4nfz1o      0    Gandalf     0                1\n",
              "4kq9zf      0    Bernie      0                1\n",
              "441t69      0       Lol      0                1\n",
              "3xunbs      0      -chan     0                1\n",
              "3xo5ma      0       You.     0                1\n",
              "...       ...        ...   ...              ...\n",
              "2a6jyn      0        PSm     0                1\n",
              "1p5dzb      0  Feminisim     0                1\n",
              "1nju7e    941   Congress     4                1\n",
              "1j5l9y      0          .     0                1\n",
              "1isfmn      0    America     0                1\n",
              "\n",
              "[86 rows x 4 columns]"
            ],
            "text/html": [
              "\n",
              "  <div id=\"df-8a6c997b-2df6-42f9-9ddb-e5c7721da810\">\n",
              "    <div class=\"colab-df-container\">\n",
              "      <div>\n",
              "<style scoped>\n",
              "    .dataframe tbody tr th:only-of-type {\n",
              "        vertical-align: middle;\n",
              "    }\n",
              "\n",
              "    .dataframe tbody tr th {\n",
              "        vertical-align: top;\n",
              "    }\n",
              "\n",
              "    .dataframe thead th {\n",
              "        text-align: right;\n",
              "    }\n",
              "</style>\n",
              "<table border=\"1\" class=\"dataframe\">\n",
              "  <thead>\n",
              "    <tr style=\"text-align: right;\">\n",
              "      <th></th>\n",
              "      <th>score</th>\n",
              "      <th>joke</th>\n",
              "      <th>rank</th>\n",
              "      <th>text_word_count</th>\n",
              "    </tr>\n",
              "    <tr>\n",
              "      <th>id</th>\n",
              "      <th></th>\n",
              "      <th></th>\n",
              "      <th></th>\n",
              "      <th></th>\n",
              "    </tr>\n",
              "  </thead>\n",
              "  <tbody>\n",
              "    <tr>\n",
              "      <th>4nfz1o</th>\n",
              "      <td>0</td>\n",
              "      <td>Gandalf</td>\n",
              "      <td>0</td>\n",
              "      <td>1</td>\n",
              "    </tr>\n",
              "    <tr>\n",
              "      <th>4kq9zf</th>\n",
              "      <td>0</td>\n",
              "      <td>Bernie</td>\n",
              "      <td>0</td>\n",
              "      <td>1</td>\n",
              "    </tr>\n",
              "    <tr>\n",
              "      <th>441t69</th>\n",
              "      <td>0</td>\n",
              "      <td>Lol</td>\n",
              "      <td>0</td>\n",
              "      <td>1</td>\n",
              "    </tr>\n",
              "    <tr>\n",
              "      <th>3xunbs</th>\n",
              "      <td>0</td>\n",
              "      <td>-chan</td>\n",
              "      <td>0</td>\n",
              "      <td>1</td>\n",
              "    </tr>\n",
              "    <tr>\n",
              "      <th>3xo5ma</th>\n",
              "      <td>0</td>\n",
              "      <td>You.</td>\n",
              "      <td>0</td>\n",
              "      <td>1</td>\n",
              "    </tr>\n",
              "    <tr>\n",
              "      <th>...</th>\n",
              "      <td>...</td>\n",
              "      <td>...</td>\n",
              "      <td>...</td>\n",
              "      <td>...</td>\n",
              "    </tr>\n",
              "    <tr>\n",
              "      <th>2a6jyn</th>\n",
              "      <td>0</td>\n",
              "      <td>PSm</td>\n",
              "      <td>0</td>\n",
              "      <td>1</td>\n",
              "    </tr>\n",
              "    <tr>\n",
              "      <th>1p5dzb</th>\n",
              "      <td>0</td>\n",
              "      <td>Feminisim</td>\n",
              "      <td>0</td>\n",
              "      <td>1</td>\n",
              "    </tr>\n",
              "    <tr>\n",
              "      <th>1nju7e</th>\n",
              "      <td>941</td>\n",
              "      <td>Congress</td>\n",
              "      <td>4</td>\n",
              "      <td>1</td>\n",
              "    </tr>\n",
              "    <tr>\n",
              "      <th>1j5l9y</th>\n",
              "      <td>0</td>\n",
              "      <td>.</td>\n",
              "      <td>0</td>\n",
              "      <td>1</td>\n",
              "    </tr>\n",
              "    <tr>\n",
              "      <th>1isfmn</th>\n",
              "      <td>0</td>\n",
              "      <td>America</td>\n",
              "      <td>0</td>\n",
              "      <td>1</td>\n",
              "    </tr>\n",
              "  </tbody>\n",
              "</table>\n",
              "<p>86 rows × 4 columns</p>\n",
              "</div>\n",
              "      <button class=\"colab-df-convert\" onclick=\"convertToInteractive('df-8a6c997b-2df6-42f9-9ddb-e5c7721da810')\"\n",
              "              title=\"Convert this dataframe to an interactive table.\"\n",
              "              style=\"display:none;\">\n",
              "        \n",
              "  <svg xmlns=\"http://www.w3.org/2000/svg\" height=\"24px\"viewBox=\"0 0 24 24\"\n",
              "       width=\"24px\">\n",
              "    <path d=\"M0 0h24v24H0V0z\" fill=\"none\"/>\n",
              "    <path d=\"M18.56 5.44l.94 2.06.94-2.06 2.06-.94-2.06-.94-.94-2.06-.94 2.06-2.06.94zm-11 1L8.5 8.5l.94-2.06 2.06-.94-2.06-.94L8.5 2.5l-.94 2.06-2.06.94zm10 10l.94 2.06.94-2.06 2.06-.94-2.06-.94-.94-2.06-.94 2.06-2.06.94z\"/><path d=\"M17.41 7.96l-1.37-1.37c-.4-.4-.92-.59-1.43-.59-.52 0-1.04.2-1.43.59L10.3 9.45l-7.72 7.72c-.78.78-.78 2.05 0 2.83L4 21.41c.39.39.9.59 1.41.59.51 0 1.02-.2 1.41-.59l7.78-7.78 2.81-2.81c.8-.78.8-2.07 0-2.86zM5.41 20L4 18.59l7.72-7.72 1.47 1.35L5.41 20z\"/>\n",
              "  </svg>\n",
              "      </button>\n",
              "      \n",
              "  <style>\n",
              "    .colab-df-container {\n",
              "      display:flex;\n",
              "      flex-wrap:wrap;\n",
              "      gap: 12px;\n",
              "    }\n",
              "\n",
              "    .colab-df-convert {\n",
              "      background-color: #E8F0FE;\n",
              "      border: none;\n",
              "      border-radius: 50%;\n",
              "      cursor: pointer;\n",
              "      display: none;\n",
              "      fill: #1967D2;\n",
              "      height: 32px;\n",
              "      padding: 0 0 0 0;\n",
              "      width: 32px;\n",
              "    }\n",
              "\n",
              "    .colab-df-convert:hover {\n",
              "      background-color: #E2EBFA;\n",
              "      box-shadow: 0px 1px 2px rgba(60, 64, 67, 0.3), 0px 1px 3px 1px rgba(60, 64, 67, 0.15);\n",
              "      fill: #174EA6;\n",
              "    }\n",
              "\n",
              "    [theme=dark] .colab-df-convert {\n",
              "      background-color: #3B4455;\n",
              "      fill: #D2E3FC;\n",
              "    }\n",
              "\n",
              "    [theme=dark] .colab-df-convert:hover {\n",
              "      background-color: #434B5C;\n",
              "      box-shadow: 0px 1px 3px 1px rgba(0, 0, 0, 0.15);\n",
              "      filter: drop-shadow(0px 1px 2px rgba(0, 0, 0, 0.3));\n",
              "      fill: #FFFFFF;\n",
              "    }\n",
              "  </style>\n",
              "\n",
              "      <script>\n",
              "        const buttonEl =\n",
              "          document.querySelector('#df-8a6c997b-2df6-42f9-9ddb-e5c7721da810 button.colab-df-convert');\n",
              "        buttonEl.style.display =\n",
              "          google.colab.kernel.accessAllowed ? 'block' : 'none';\n",
              "\n",
              "        async function convertToInteractive(key) {\n",
              "          const element = document.querySelector('#df-8a6c997b-2df6-42f9-9ddb-e5c7721da810');\n",
              "          const dataTable =\n",
              "            await google.colab.kernel.invokeFunction('convertToInteractive',\n",
              "                                                     [key], {});\n",
              "          if (!dataTable) return;\n",
              "\n",
              "          const docLinkHtml = 'Like what you see? Visit the ' +\n",
              "            '<a target=\"_blank\" href=https://colab.research.google.com/notebooks/data_table.ipynb>data table notebook</a>'\n",
              "            + ' to learn more about interactive tables.';\n",
              "          element.innerHTML = '';\n",
              "          dataTable['output_type'] = 'display_data';\n",
              "          await google.colab.output.renderOutput(dataTable, element);\n",
              "          const docLink = document.createElement('div');\n",
              "          docLink.innerHTML = docLinkHtml;\n",
              "          element.appendChild(docLink);\n",
              "        }\n",
              "      </script>\n",
              "    </div>\n",
              "  </div>\n",
              "  "
            ]
          },
          "metadata": {},
          "execution_count": 65
        }
      ],
      "source": [
        "df[df['text_word_count'] == 1]"
      ]
    },
    {
      "cell_type": "code",
      "execution_count": null,
      "metadata": {
        "id": "0-gW8rr9lDzY"
      },
      "outputs": [],
      "source": [
        "df = df[df['text_word_count'] != 1]\n",
        "df.drop(['score',\t'text_word_count'], axis=1, inplace=True)"
      ]
    },
    {
      "cell_type": "code",
      "execution_count": null,
      "metadata": {
        "colab": {
          "base_uri": "https://localhost:8080/",
          "height": 237
        },
        "id": "UFiN34Qklb7a",
        "outputId": "a88a2185-fa8d-4838-a8e4-8ee04c0d918a"
      },
      "outputs": [
        {
          "output_type": "execute_result",
          "data": {
            "text/plain": [
              "                                                     joke  rank\n",
              "id                                                             \n",
              "5tz52q  I hate how you cannot even say black paint any...     1\n",
              "5tz4dd  What is the difference between a Jew in Nazi G...     0\n",
              "5tz319  I recently went to America.... ...and being th...     0\n",
              "5tz2wj  Brian raises his hand and says, \"He is in Heav...     1\n",
              "5tz1pc  You hear about the University book store worke...     0"
            ],
            "text/html": [
              "\n",
              "  <div id=\"df-e559e632-8552-4df1-82bb-a9dd41e95cd2\">\n",
              "    <div class=\"colab-df-container\">\n",
              "      <div>\n",
              "<style scoped>\n",
              "    .dataframe tbody tr th:only-of-type {\n",
              "        vertical-align: middle;\n",
              "    }\n",
              "\n",
              "    .dataframe tbody tr th {\n",
              "        vertical-align: top;\n",
              "    }\n",
              "\n",
              "    .dataframe thead th {\n",
              "        text-align: right;\n",
              "    }\n",
              "</style>\n",
              "<table border=\"1\" class=\"dataframe\">\n",
              "  <thead>\n",
              "    <tr style=\"text-align: right;\">\n",
              "      <th></th>\n",
              "      <th>joke</th>\n",
              "      <th>rank</th>\n",
              "    </tr>\n",
              "    <tr>\n",
              "      <th>id</th>\n",
              "      <th></th>\n",
              "      <th></th>\n",
              "    </tr>\n",
              "  </thead>\n",
              "  <tbody>\n",
              "    <tr>\n",
              "      <th>5tz52q</th>\n",
              "      <td>I hate how you cannot even say black paint any...</td>\n",
              "      <td>1</td>\n",
              "    </tr>\n",
              "    <tr>\n",
              "      <th>5tz4dd</th>\n",
              "      <td>What is the difference between a Jew in Nazi G...</td>\n",
              "      <td>0</td>\n",
              "    </tr>\n",
              "    <tr>\n",
              "      <th>5tz319</th>\n",
              "      <td>I recently went to America.... ...and being th...</td>\n",
              "      <td>0</td>\n",
              "    </tr>\n",
              "    <tr>\n",
              "      <th>5tz2wj</th>\n",
              "      <td>Brian raises his hand and says, \"He is in Heav...</td>\n",
              "      <td>1</td>\n",
              "    </tr>\n",
              "    <tr>\n",
              "      <th>5tz1pc</th>\n",
              "      <td>You hear about the University book store worke...</td>\n",
              "      <td>0</td>\n",
              "    </tr>\n",
              "  </tbody>\n",
              "</table>\n",
              "</div>\n",
              "      <button class=\"colab-df-convert\" onclick=\"convertToInteractive('df-e559e632-8552-4df1-82bb-a9dd41e95cd2')\"\n",
              "              title=\"Convert this dataframe to an interactive table.\"\n",
              "              style=\"display:none;\">\n",
              "        \n",
              "  <svg xmlns=\"http://www.w3.org/2000/svg\" height=\"24px\"viewBox=\"0 0 24 24\"\n",
              "       width=\"24px\">\n",
              "    <path d=\"M0 0h24v24H0V0z\" fill=\"none\"/>\n",
              "    <path d=\"M18.56 5.44l.94 2.06.94-2.06 2.06-.94-2.06-.94-.94-2.06-.94 2.06-2.06.94zm-11 1L8.5 8.5l.94-2.06 2.06-.94-2.06-.94L8.5 2.5l-.94 2.06-2.06.94zm10 10l.94 2.06.94-2.06 2.06-.94-2.06-.94-.94-2.06-.94 2.06-2.06.94z\"/><path d=\"M17.41 7.96l-1.37-1.37c-.4-.4-.92-.59-1.43-.59-.52 0-1.04.2-1.43.59L10.3 9.45l-7.72 7.72c-.78.78-.78 2.05 0 2.83L4 21.41c.39.39.9.59 1.41.59.51 0 1.02-.2 1.41-.59l7.78-7.78 2.81-2.81c.8-.78.8-2.07 0-2.86zM5.41 20L4 18.59l7.72-7.72 1.47 1.35L5.41 20z\"/>\n",
              "  </svg>\n",
              "      </button>\n",
              "      \n",
              "  <style>\n",
              "    .colab-df-container {\n",
              "      display:flex;\n",
              "      flex-wrap:wrap;\n",
              "      gap: 12px;\n",
              "    }\n",
              "\n",
              "    .colab-df-convert {\n",
              "      background-color: #E8F0FE;\n",
              "      border: none;\n",
              "      border-radius: 50%;\n",
              "      cursor: pointer;\n",
              "      display: none;\n",
              "      fill: #1967D2;\n",
              "      height: 32px;\n",
              "      padding: 0 0 0 0;\n",
              "      width: 32px;\n",
              "    }\n",
              "\n",
              "    .colab-df-convert:hover {\n",
              "      background-color: #E2EBFA;\n",
              "      box-shadow: 0px 1px 2px rgba(60, 64, 67, 0.3), 0px 1px 3px 1px rgba(60, 64, 67, 0.15);\n",
              "      fill: #174EA6;\n",
              "    }\n",
              "\n",
              "    [theme=dark] .colab-df-convert {\n",
              "      background-color: #3B4455;\n",
              "      fill: #D2E3FC;\n",
              "    }\n",
              "\n",
              "    [theme=dark] .colab-df-convert:hover {\n",
              "      background-color: #434B5C;\n",
              "      box-shadow: 0px 1px 3px 1px rgba(0, 0, 0, 0.15);\n",
              "      filter: drop-shadow(0px 1px 2px rgba(0, 0, 0, 0.3));\n",
              "      fill: #FFFFFF;\n",
              "    }\n",
              "  </style>\n",
              "\n",
              "      <script>\n",
              "        const buttonEl =\n",
              "          document.querySelector('#df-e559e632-8552-4df1-82bb-a9dd41e95cd2 button.colab-df-convert');\n",
              "        buttonEl.style.display =\n",
              "          google.colab.kernel.accessAllowed ? 'block' : 'none';\n",
              "\n",
              "        async function convertToInteractive(key) {\n",
              "          const element = document.querySelector('#df-e559e632-8552-4df1-82bb-a9dd41e95cd2');\n",
              "          const dataTable =\n",
              "            await google.colab.kernel.invokeFunction('convertToInteractive',\n",
              "                                                     [key], {});\n",
              "          if (!dataTable) return;\n",
              "\n",
              "          const docLinkHtml = 'Like what you see? Visit the ' +\n",
              "            '<a target=\"_blank\" href=https://colab.research.google.com/notebooks/data_table.ipynb>data table notebook</a>'\n",
              "            + ' to learn more about interactive tables.';\n",
              "          element.innerHTML = '';\n",
              "          dataTable['output_type'] = 'display_data';\n",
              "          await google.colab.output.renderOutput(dataTable, element);\n",
              "          const docLink = document.createElement('div');\n",
              "          docLink.innerHTML = docLinkHtml;\n",
              "          element.appendChild(docLink);\n",
              "        }\n",
              "      </script>\n",
              "    </div>\n",
              "  </div>\n",
              "  "
            ]
          },
          "metadata": {},
          "execution_count": 67
        }
      ],
      "source": [
        "df.head()"
      ]
    },
    {
      "cell_type": "code",
      "execution_count": null,
      "metadata": {
        "colab": {
          "base_uri": "https://localhost:8080/"
        },
        "id": "0cJ08RWGlgci",
        "outputId": "4487cb21-e511-4ce7-d3ff-c587dd5eb177"
      },
      "outputs": [
        {
          "output_type": "execute_result",
          "data": {
            "text/plain": [
              "(190056, 2)"
            ]
          },
          "metadata": {},
          "execution_count": 68
        }
      ],
      "source": [
        "df.shape"
      ]
    },
    {
      "cell_type": "markdown",
      "source": [
        "# **Split**\n",
        "\n",
        "Train/Test/Val"
      ],
      "metadata": {
        "id": "hlHBUwX596Yv"
      }
    },
    {
      "cell_type": "code",
      "source": [
        "data_train, data_test = train_test_split(df, test_size=0.1, random_state=42)\n",
        "\n",
        "data_train, data_val = train_test_split(data_train, test_size=0.1, random_state=42)\n",
        "\n",
        "data_train.index = range(len(data_train))\n",
        "data_val.index = range(len(data_val))\n",
        "\n",
        "print(\"Train size = \", len(data_train))\n",
        "print(\"Validation size = \", len(data_val))\n",
        "print(\"Test size = \", len(data_test))"
      ],
      "metadata": {
        "colab": {
          "base_uri": "https://localhost:8080/"
        },
        "id": "SBME3gwx952Y",
        "outputId": "2a8a9e2a-e91e-4fcf-8167-58275ace40cb"
      },
      "execution_count": null,
      "outputs": [
        {
          "output_type": "stream",
          "name": "stdout",
          "text": [
            "Train size =  153945\n",
            "Validation size =  17105\n",
            "Test size =  19006\n"
          ]
        }
      ]
    },
    {
      "cell_type": "markdown",
      "source": [
        "# **Augmentation**\n",
        "\n",
        "Just for train and val datasets. Test dataset is keeped clean."
      ],
      "metadata": {
        "id": "uFdJ0z6M-C0f"
      }
    },
    {
      "cell_type": "markdown",
      "source": [
        "**Concate dfs**"
      ],
      "metadata": {
        "id": "h0FOvRJM_9Cr"
      }
    },
    {
      "cell_type": "code",
      "source": [
        "train_val_df = pd.concat([data_train.assign(indic=\"train\"), data_val.assign(indic=\"val\")])"
      ],
      "metadata": {
        "id": "aNOxW8d8956K"
      },
      "execution_count": null,
      "outputs": []
    },
    {
      "cell_type": "markdown",
      "source": [
        "### **nlpaug**"
      ],
      "metadata": {
        "id": "-REQD0H5Tbz8"
      }
    },
    {
      "cell_type": "code",
      "source": [
        "!pip install nlpaug"
      ],
      "metadata": {
        "id": "8b6g-xuZAFEH"
      },
      "execution_count": null,
      "outputs": []
    },
    {
      "cell_type": "code",
      "source": [
        "import nlpaug.augmenter.char as nac\n",
        "import nlpaug.augmenter.sentence as nas\n",
        "import nlpaug.augmenter.word as naw\n",
        "import nlpaug.augmenter.word.context_word_embs as nawcwe\n",
        "import nlpaug.augmenter.word.word_embs as nawwe\n",
        "import nlpaug.augmenter.word.spelling as naws"
      ],
      "metadata": {
        "id": "QuhNBAZn__0T"
      },
      "execution_count": null,
      "outputs": []
    },
    {
      "cell_type": "code",
      "source": [
        "# txt = 'I jump at school.'"
      ],
      "metadata": {
        "id": "toKXfINwNON_"
      },
      "execution_count": null,
      "outputs": []
    },
    {
      "cell_type": "code",
      "source": [
        "# aug_syn = naw.SynonymAug(aug_src='wordnet', aug_min=1)\n",
        "# print(\"Original:\")\n",
        "# print(txt)\n",
        "# print(\"Augmented Synonym Text:\")\n",
        "\n",
        "# augmented_text = aug_syn.augment(txt)\n",
        "# print(augmented_text)"
      ],
      "metadata": {
        "colab": {
          "base_uri": "https://localhost:8080/"
        },
        "id": "CMDtNOIwNKfx",
        "outputId": "6a198949-3e13-4ed4-8544-4bae244b4d16"
      },
      "execution_count": null,
      "outputs": [
        {
          "output_type": "stream",
          "name": "stdout",
          "text": [
            "Original:\n",
            "I jump at school.\n",
            "Augmented Synonym Text:\n",
            "Iodine jump at school day.\n"
          ]
        }
      ]
    },
    {
      "cell_type": "markdown",
      "source": [
        "## **SynonymAug**"
      ],
      "metadata": {
        "id": "A7LY2ykVBlEw"
      }
    },
    {
      "cell_type": "code",
      "source": [
        "# !pip install py-thesaurus"
      ],
      "metadata": {
        "id": "6gFsTPhiExr2"
      },
      "execution_count": null,
      "outputs": []
    },
    {
      "cell_type": "code",
      "source": [
        "# import random\n",
        "# from py_thesaurus import Thesaurus\n",
        "# import nltk \n",
        "# from nltk.corpus import wordnet \n",
        "# import en_core_web_sm\n",
        "# import re"
      ],
      "metadata": {
        "id": "FuPIFxZX__42"
      },
      "execution_count": null,
      "outputs": []
    },
    {
      "cell_type": "code",
      "source": [
        "# def synalter_Verb(word,a1,POS):\n",
        "#     max_temp = -1\n",
        "#     flag = 0\n",
        "#     for i in a1:\n",
        "#         try:\n",
        "#             w1 = wordnet.synset(word+'.'+POS+'.01') \n",
        "#             w2 = wordnet.synset(i+'.'+POS+'.01') # n denotes noun \n",
        "#             if(max_temp<w1.wup_similarity(w2)):\n",
        "#                 max_temp=w1.wup_similarity(w2)\n",
        "#                 temp_name = i\n",
        "#                 flag =1\n",
        "#         except:\n",
        "#             f = 0\n",
        "            \n",
        "#     if flag == 0:\n",
        "#         max1 = -1.\n",
        "#         nlp = en_core_web_sm.load()\n",
        "#         for i in a1:\n",
        "#             j=i.replace(' ', '')\n",
        "#             tokens = nlp(u''+j)\n",
        "#             token_main = nlp(u''+ word)\n",
        "#             for token1 in token_main:\n",
        "#                 if max1<float(token1.similarity(tokens)):\n",
        "#                     max1 = token1.similarity(tokens)\n",
        "#                     value = i\n",
        "#         max1 = -1.\n",
        "#         return value \n",
        "#     else:\n",
        "#         return temp_name"
      ],
      "metadata": {
        "id": "uQYIMjVwBohp"
      },
      "execution_count": null,
      "outputs": []
    },
    {
      "cell_type": "code",
      "source": [
        "# def add_syn_verbs(text_col):\n",
        "#     synonyms = [] \n",
        "\n",
        "#     percent = 50\n",
        "\n",
        "#     output_text = text_col\n",
        "#     words = text_col.split()\n",
        "#     counts = {}\n",
        "#     for word in words:\n",
        "#         if word not in counts:\n",
        "#             counts[word] = 0\n",
        "#         counts[word] += 1\n",
        "#     one_word = []\n",
        "#     for key, value in counts.items():\n",
        "#         if value == 1 and key.isalpha() and len(key)>2:\n",
        "#             one_word.append(key)\n",
        "#     verb = []\n",
        "#     nlp = spacy.load('en_core_web_sm')\n",
        "#     doc = nlp(u''+' '.join(one_word))\n",
        "#     for token in doc:\n",
        "#         if  token.pos_ == 'VERB':\n",
        "#             verb.append(token.text)\n",
        "        \n",
        "#     all_main = verb\n",
        "#     len_all = len(verb)\n",
        "#     # print(len_all)######\n",
        "#     final_value = int(len_all * percent /100)\n",
        "#     # print(final_value)##########\n",
        "#     random.seed(4)\n",
        "#     temp = random.sample(range(0, len_all), final_value)\n",
        "#     # print(temp)###########\n",
        "#     for i in temp:\n",
        "#         print(i)############\n",
        "#         try:\n",
        "#             word_str = all_main[i]\n",
        "#             print(word_str)############\n",
        "#             w = Thesaurus(word_str)\n",
        "#             print(w)##########\n",
        "#             a1 = list(w.get_synonym())\n",
        "#             print(a1)##########\n",
        "#             if i<len(verb):\n",
        "#                 change_word=synalter_Verb(word_str,a1,'v')\n",
        "#                 try:\n",
        "#                     search_word = re.search(r'\\b('+word_str+r')\\b', output_text)\n",
        "#                     Loc = search_word.start()\n",
        "#                     output_text = output_text[:int(Loc)] + change_word + output_text[int(Loc) + len(word_str):]\n",
        "#                 except:\n",
        "#                     f=0\n",
        "\n",
        "#             else:\n",
        "#                 change_word=synalter_Verb(word_str,a1,'n')\n",
        "#                 try:\n",
        "#                     search_word = re.search(r'\\b('+word_str+r')\\b', output_text)\n",
        "#                     Loc = search_word.start()\n",
        "#                     output_text = output_text[:int(Loc)] + change_word + output_text[int(Loc) + len(word_str):]\n",
        "#                 except:\n",
        "#                     f=0\n",
        "\n",
        "#         except:\n",
        "#             f=0\n",
        "\n",
        "#     return output_text\n"
      ],
      "metadata": {
        "id": "y5RrXw_KBolH"
      },
      "execution_count": null,
      "outputs": []
    },
    {
      "cell_type": "code",
      "source": [
        "# txt = 'I jump at school.'"
      ],
      "metadata": {
        "id": "iavgqdiV_0sG"
      },
      "execution_count": null,
      "outputs": []
    },
    {
      "cell_type": "code",
      "source": [
        "# new_txt = add_syn_verbs(txt)\n",
        "# new_txt"
      ],
      "metadata": {
        "colab": {
          "base_uri": "https://localhost:8080/",
          "height": 107
        },
        "id": "WKJEcgRG_0vL",
        "outputId": "93f72e70-2416-4c4c-b2c1-5406416eb84b"
      },
      "execution_count": null,
      "outputs": [
        {
          "output_type": "stream",
          "name": "stdout",
          "text": [
            "0\n",
            "run\n",
            "<py_thesaurus.base_class.Thesaurus object at 0x7f812b463e10>\n",
            "[]\n"
          ]
        },
        {
          "output_type": "execute_result",
          "data": {
            "text/plain": [
              "'I run  and jump at school.'"
            ],
            "application/vnd.google.colaboratory.intrinsic+json": {
              "type": "string"
            }
          },
          "metadata": {},
          "execution_count": 121
        }
      ]
    },
    {
      "cell_type": "code",
      "source": [
        "# from nltk.corpus import wordnet\n",
        "\n",
        "# synonyms = []\n",
        "\n",
        "# for syn in wordnet.synsets(\"jump\", pos=wordnet.VERB):\n",
        "#     for i in syn.lemmas():\n",
        "#         synonyms.append(i.name())\n",
        "\n",
        "# print(set(synonyms))"
      ],
      "metadata": {
        "colab": {
          "base_uri": "https://localhost:8080/"
        },
        "id": "KunAthW0K5IB",
        "outputId": "64a596a0-6383-4537-de0a-6eed84c7bb52"
      },
      "execution_count": null,
      "outputs": [
        {
          "output_type": "stream",
          "name": "stdout",
          "text": [
            "{'skip', 'climb_up', 'bound', 'leap', 'pass_over', 'jump_out', 'alternate', 'spring', 'jump-start', 'parachute', 'derail', 'jump', 'chute', 'startle', 'skip_over', 'start', 'stand_out', 'stick_out', 'jump_off', 'rise', 'jumpstart', 'leap_out'}\n"
          ]
        }
      ]
    },
    {
      "cell_type": "code",
      "source": [
        ""
      ],
      "metadata": {
        "id": "Xwi1ArCLPV5K"
      },
      "execution_count": null,
      "outputs": []
    },
    {
      "cell_type": "code",
      "source": [
        "!pip install transformers"
      ],
      "metadata": {
        "colab": {
          "base_uri": "https://localhost:8080/",
          "height": 808
        },
        "id": "QYHaM3DYPiFX",
        "outputId": "e48d7b1a-76e3-4b34-bd04-44852083313a"
      },
      "execution_count": null,
      "outputs": [
        {
          "output_type": "stream",
          "name": "stdout",
          "text": [
            "Collecting transformers\n",
            "  Downloading transformers-4.18.0-py3-none-any.whl (4.0 MB)\n",
            "\u001b[K     |████████████████████████████████| 4.0 MB 13.9 MB/s \n",
            "\u001b[?25hRequirement already satisfied: numpy>=1.17 in /usr/local/lib/python3.7/dist-packages (from transformers) (1.21.6)\n",
            "Collecting pyyaml>=5.1\n",
            "  Downloading PyYAML-6.0-cp37-cp37m-manylinux_2_5_x86_64.manylinux1_x86_64.manylinux_2_12_x86_64.manylinux2010_x86_64.whl (596 kB)\n",
            "\u001b[K     |████████████████████████████████| 596 kB 40.0 MB/s \n",
            "\u001b[?25hRequirement already satisfied: packaging>=20.0 in /usr/local/lib/python3.7/dist-packages (from transformers) (21.3)\n",
            "Requirement already satisfied: requests in /usr/local/lib/python3.7/dist-packages (from transformers) (2.23.0)\n",
            "Collecting sacremoses\n",
            "  Downloading sacremoses-0.0.49-py3-none-any.whl (895 kB)\n",
            "\u001b[K     |████████████████████████████████| 895 kB 40.7 MB/s \n",
            "\u001b[?25hRequirement already satisfied: tqdm>=4.27 in /usr/local/lib/python3.7/dist-packages (from transformers) (4.64.0)\n",
            "Requirement already satisfied: filelock in /usr/local/lib/python3.7/dist-packages (from transformers) (3.6.0)\n",
            "Requirement already satisfied: importlib-metadata in /usr/local/lib/python3.7/dist-packages (from transformers) (4.11.3)\n",
            "Requirement already satisfied: regex!=2019.12.17 in /usr/local/lib/python3.7/dist-packages (from transformers) (2019.12.20)\n",
            "Collecting tokenizers!=0.11.3,<0.13,>=0.11.1\n",
            "  Downloading tokenizers-0.12.1-cp37-cp37m-manylinux_2_12_x86_64.manylinux2010_x86_64.whl (6.6 MB)\n",
            "\u001b[K     |████████████████████████████████| 6.6 MB 55.6 MB/s \n",
            "\u001b[?25hCollecting huggingface-hub<1.0,>=0.1.0\n",
            "  Downloading huggingface_hub-0.5.1-py3-none-any.whl (77 kB)\n",
            "\u001b[K     |████████████████████████████████| 77 kB 7.4 MB/s \n",
            "\u001b[?25hRequirement already satisfied: typing-extensions>=3.7.4.3 in /usr/local/lib/python3.7/dist-packages (from huggingface-hub<1.0,>=0.1.0->transformers) (4.1.1)\n",
            "Requirement already satisfied: pyparsing!=3.0.5,>=2.0.2 in /usr/local/lib/python3.7/dist-packages (from packaging>=20.0->transformers) (3.0.8)\n",
            "Requirement already satisfied: zipp>=0.5 in /usr/local/lib/python3.7/dist-packages (from importlib-metadata->transformers) (3.8.0)\n",
            "Requirement already satisfied: chardet<4,>=3.0.2 in /usr/local/lib/python3.7/dist-packages (from requests->transformers) (3.0.4)\n",
            "Requirement already satisfied: idna<3,>=2.5 in /usr/local/lib/python3.7/dist-packages (from requests->transformers) (2.10)\n",
            "Requirement already satisfied: certifi>=2017.4.17 in /usr/local/lib/python3.7/dist-packages (from requests->transformers) (2021.10.8)\n",
            "Requirement already satisfied: urllib3!=1.25.0,!=1.25.1,<1.26,>=1.21.1 in /usr/local/lib/python3.7/dist-packages (from requests->transformers) (1.24.3)\n",
            "Requirement already satisfied: joblib in /usr/local/lib/python3.7/dist-packages (from sacremoses->transformers) (1.1.0)\n",
            "Requirement already satisfied: six in /usr/local/lib/python3.7/dist-packages (from sacremoses->transformers) (1.15.0)\n",
            "Requirement already satisfied: click in /usr/local/lib/python3.7/dist-packages (from sacremoses->transformers) (7.1.2)\n",
            "Installing collected packages: pyyaml, tokenizers, sacremoses, huggingface-hub, transformers\n",
            "  Attempting uninstall: pyyaml\n",
            "    Found existing installation: PyYAML 3.13\n",
            "    Uninstalling PyYAML-3.13:\n",
            "      Successfully uninstalled PyYAML-3.13\n",
            "Successfully installed huggingface-hub-0.5.1 pyyaml-6.0 sacremoses-0.0.49 tokenizers-0.12.1 transformers-4.18.0\n"
          ]
        },
        {
          "output_type": "display_data",
          "data": {
            "application/vnd.colab-display-data+json": {
              "pip_warning": {
                "packages": [
                  "yaml"
                ]
              }
            }
          },
          "metadata": {}
        }
      ]
    },
    {
      "cell_type": "code",
      "source": [
        "import transformers"
      ],
      "metadata": {
        "id": "5LM3plfwPgsU"
      },
      "execution_count": null,
      "outputs": []
    },
    {
      "cell_type": "code",
      "source": [
        "#BERT Augmentator\n",
        "TOPK = 20 \n",
        "ACT = 'insert'\n",
        "\n",
        "aug_bert = naw.ContextualWordEmbsAug(\n",
        "    model_path='distilbert-base-uncased', \n",
        "    #device='cuda',\n",
        "    action=ACT, top_k=TOPK)\n",
        "print(\"Original:\")\n",
        "print(txt)\n",
        "print(\"Augmented Text:\")\n",
        "\n",
        "augmented_text = aug_bert.augment(txt)\n",
        "print(augmented_text)"
      ],
      "metadata": {
        "colab": {
          "base_uri": "https://localhost:8080/"
        },
        "id": "vsGpsdswPVTm",
        "outputId": "5a35417d-c96f-4bdc-c24e-fe200ca4a48c"
      },
      "execution_count": null,
      "outputs": [
        {
          "output_type": "stream",
          "name": "stdout",
          "text": [
            "Original:\n",
            "I jump at school.\n",
            "Augmented Text:\n",
            "i jump successfully at dance school.\n"
          ]
        }
      ]
    },
    {
      "cell_type": "code",
      "source": [
        "def generate_aug_samples(aug, row: pd.DataFrame) -> pd.DataFrame:\n",
        "    \"\"\"\n",
        "    Create new negative sample rows with new request and 'y' equals to 0.\n",
        "\n",
        "    Parameters\n",
        "    ----------\n",
        "    user_rows (DataFrame): Samples(rows) of one user from initial dataset\n",
        "    mode (str) : {'train', 'test'}, default='train'\n",
        "                Samples are generated for:\n",
        "            - 'train' dataset, size of new generated rows for one user is equal to \"self.ns_amount\".\n",
        "            - 'test' dataset, size of new generated rows for one user is equal to all possible S.TARGETs.\n",
        "\n",
        "    Returns ns_df (DataFrame): dataset with only negative samples of one user\n",
        "    -------\n",
        "    \"\"\"\n",
        "\n",
        "   \n",
        "    new_row = {}\n",
        "\n",
        "    # new_row['joke'] = aug_bert.augment(row['joke'])\n",
        "\n",
        "    # new_row['rank'] = row['rank']\n",
        "\n",
        "    # new_row['indic'] = row['indic']\n",
        "    new_row[0] = aug_bert.augment(row[0])\n",
        "\n",
        "    new_row[1] = row[1]\n",
        "\n",
        "    new_row[2] = row[2]\n",
        "    return new_row\n",
        "\n",
        "\n",
        "def set_augmentation(X: pd.DataFrame) -> pd.DataFrame:\n",
        "    \"\"\"\n",
        "    Create new negative sample rows for each user.\n",
        "    -------\n",
        "\n",
        "    Parameters:\n",
        "\n",
        "    X (DataFrame): Original dataset\n",
        "    -------\n",
        "\n",
        "    Returns:\n",
        "\n",
        "    Returns negative_samples_df (DataFrame): dataset with only negative samples of all users\n",
        "    \"\"\"\n",
        "    #BERT Augmentator\n",
        "    TOPK = 20 \n",
        "    ACT = 'insert'\n",
        "\n",
        "    aug_bert = naw.ContextualWordEmbsAug(\n",
        "        model_path='distilbert-base-uncased', \n",
        "        #device='cuda',\n",
        "        action=ACT, top_k=TOPK)\n",
        "\n",
        "    X = X.to_numpy()\n",
        "\n",
        "    new_samples = []\n",
        "    for row in X:\n",
        "\n",
        "        new_row = generate_aug_samples(aug_bert, row)\n",
        "        new_samples.append(new_row)\n",
        "\n",
        "    aug_df = pd.DataFrame(new_samples, columns=['joke', 'rank', 'indic'])\n",
        "\n",
        "\n",
        "    new_df = X.append(aug_df, ignore_index=True, sort=False)\n",
        "    return new_df"
      ],
      "metadata": {
        "id": "-WpqjaueUQB1"
      },
      "execution_count": null,
      "outputs": []
    },
    {
      "cell_type": "code",
      "source": [
        "train_val_df.shape"
      ],
      "metadata": {
        "colab": {
          "base_uri": "https://localhost:8080/"
        },
        "id": "ccozm7vGZf2B",
        "outputId": "3d6402eb-bf78-4779-dbda-dd4c14a087c3"
      },
      "execution_count": null,
      "outputs": [
        {
          "output_type": "execute_result",
          "data": {
            "text/plain": [
              "(171050, 3)"
            ]
          },
          "metadata": {},
          "execution_count": 165
        }
      ]
    },
    {
      "cell_type": "code",
      "source": [
        "aug_df = set_augmentation(train_val_df)"
      ],
      "metadata": {
        "id": "ZV_lIM0bVC2T"
      },
      "execution_count": null,
      "outputs": []
    },
    {
      "cell_type": "code",
      "source": [
        "aug_df.shape"
      ],
      "metadata": {
        "id": "eJa4jpNiZmTx"
      },
      "execution_count": null,
      "outputs": []
    },
    {
      "cell_type": "code",
      "source": [
        "aug_df"
      ],
      "metadata": {
        "id": "Y0jCTCAAZozT"
      },
      "execution_count": null,
      "outputs": []
    },
    {
      "cell_type": "code",
      "source": [
        ""
      ],
      "metadata": {
        "id": "dw20BVfqh77f"
      },
      "execution_count": null,
      "outputs": []
    },
    {
      "cell_type": "code",
      "source": [
        ""
      ],
      "metadata": {
        "id": "r7WKsrgP43PX"
      },
      "execution_count": null,
      "outputs": []
    },
    {
      "cell_type": "markdown",
      "source": [
        "### Shuffle"
      ],
      "metadata": {
        "id": "1tHWYhn3aOtk"
      }
    },
    {
      "cell_type": "code",
      "source": [
        "shuf_df = aug_df.reindex(np.random.permutation(aug_df.index)).reset_index(drop=True)"
      ],
      "metadata": {
        "id": "R-KfQzvGZpDY"
      },
      "execution_count": null,
      "outputs": []
    },
    {
      "cell_type": "markdown",
      "source": [
        "### Split train/val"
      ],
      "metadata": {
        "id": "WdYMgS1ubtH8"
      }
    },
    {
      "cell_type": "code",
      "source": [
        "data_train, data_val = shuf_df[shuf_df[\"indic\"].eq(\"train\")], shuf_df[shuf_df[\"indic\"].eq(\"val\")]"
      ],
      "metadata": {
        "id": "M3pvGN6PZpTc"
      },
      "execution_count": null,
      "outputs": []
    },
    {
      "cell_type": "markdown",
      "metadata": {
        "id": "AbS7YVDBlwUx"
      },
      "source": [
        "# **Save preproc data:**"
      ]
    },
    {
      "cell_type": "code",
      "execution_count": null,
      "metadata": {
        "id": "AMMVPmPz36v5"
      },
      "outputs": [],
      "source": [
        "data_train.to_csv('/content/drive/My Drive/NLP_humor/data/splits/jokes_TRAIN.csv',\n",
        "            sep=',',\n",
        "            header=True, \n",
        "            index=True,\n",
        "            encoding='utf-8')"
      ]
    },
    {
      "cell_type": "code",
      "source": [
        "data_val.to_csv('/content/drive/My Drive/NLP_humor/data/splits/jokes_VAL.csv',\n",
        "            sep=',',\n",
        "            header=True, \n",
        "            index=True,\n",
        "            encoding='utf-8')"
      ],
      "metadata": {
        "id": "t5XuYwslcAoA"
      },
      "execution_count": null,
      "outputs": []
    },
    {
      "cell_type": "code",
      "source": [
        "data_test.to_csv('/content/drive/My Drive/NLP_humor/data/splits/jokes_TEST.csv',\n",
        "            sep=',',\n",
        "            header=True, \n",
        "            index=True,\n",
        "            encoding='utf-8')"
      ],
      "metadata": {
        "id": "eAp535SkcA3q"
      },
      "execution_count": null,
      "outputs": []
    },
    {
      "cell_type": "markdown",
      "metadata": {
        "id": "bC7rUTvAkOdW"
      },
      "source": [
        "### Load & Read data: "
      ]
    },
    {
      "cell_type": "code",
      "execution_count": null,
      "metadata": {
        "id": "N4FEw5SHkIjz"
      },
      "outputs": [],
      "source": [
        "train = pd.read_csv('/content/drive/My Drive/NLP_humor/data/splits/jokes_TRAIN.csv', \n",
        "                 sep=',', \n",
        "                 encoding='utf-8').set_index('id')"
      ]
    },
    {
      "cell_type": "code",
      "execution_count": null,
      "metadata": {
        "colab": {
          "base_uri": "https://localhost:8080/",
          "height": 237
        },
        "id": "iHm-ppm0kIwZ",
        "outputId": "4204c75e-cf25-4d75-b02c-611530018a34"
      },
      "outputs": [
        {
          "output_type": "execute_result",
          "data": {
            "text/html": [
              "\n",
              "  <div id=\"df-0cf04b51-48e8-4f31-8b28-0d66e367bbab\">\n",
              "    <div class=\"colab-df-container\">\n",
              "      <div>\n",
              "<style scoped>\n",
              "    .dataframe tbody tr th:only-of-type {\n",
              "        vertical-align: middle;\n",
              "    }\n",
              "\n",
              "    .dataframe tbody tr th {\n",
              "        vertical-align: top;\n",
              "    }\n",
              "\n",
              "    .dataframe thead th {\n",
              "        text-align: right;\n",
              "    }\n",
              "</style>\n",
              "<table border=\"1\" class=\"dataframe\">\n",
              "  <thead>\n",
              "    <tr style=\"text-align: right;\">\n",
              "      <th></th>\n",
              "      <th>joke</th>\n",
              "      <th>Log1pRank</th>\n",
              "    </tr>\n",
              "    <tr>\n",
              "      <th>id</th>\n",
              "      <th></th>\n",
              "      <th></th>\n",
              "    </tr>\n",
              "  </thead>\n",
              "  <tbody>\n",
              "    <tr>\n",
              "      <th>5tz52q</th>\n",
              "      <td>I hate how you cannot even say black paint any...</td>\n",
              "      <td>0.693147</td>\n",
              "    </tr>\n",
              "    <tr>\n",
              "      <th>5tz4dd</th>\n",
              "      <td>What is the difference between a Jew in Nazi G...</td>\n",
              "      <td>0.000000</td>\n",
              "    </tr>\n",
              "    <tr>\n",
              "      <th>5tz319</th>\n",
              "      <td>I recently went to America..... ...and being t...</td>\n",
              "      <td>0.000000</td>\n",
              "    </tr>\n",
              "    <tr>\n",
              "      <th>5tz2wj</th>\n",
              "      <td>Brian raises his hand and says, \"He is in Heav...</td>\n",
              "      <td>0.693147</td>\n",
              "    </tr>\n",
              "    <tr>\n",
              "      <th>5tz1pc</th>\n",
              "      <td>You hear about the University book store worke...</td>\n",
              "      <td>0.000000</td>\n",
              "    </tr>\n",
              "  </tbody>\n",
              "</table>\n",
              "</div>\n",
              "      <button class=\"colab-df-convert\" onclick=\"convertToInteractive('df-0cf04b51-48e8-4f31-8b28-0d66e367bbab')\"\n",
              "              title=\"Convert this dataframe to an interactive table.\"\n",
              "              style=\"display:none;\">\n",
              "        \n",
              "  <svg xmlns=\"http://www.w3.org/2000/svg\" height=\"24px\"viewBox=\"0 0 24 24\"\n",
              "       width=\"24px\">\n",
              "    <path d=\"M0 0h24v24H0V0z\" fill=\"none\"/>\n",
              "    <path d=\"M18.56 5.44l.94 2.06.94-2.06 2.06-.94-2.06-.94-.94-2.06-.94 2.06-2.06.94zm-11 1L8.5 8.5l.94-2.06 2.06-.94-2.06-.94L8.5 2.5l-.94 2.06-2.06.94zm10 10l.94 2.06.94-2.06 2.06-.94-2.06-.94-.94-2.06-.94 2.06-2.06.94z\"/><path d=\"M17.41 7.96l-1.37-1.37c-.4-.4-.92-.59-1.43-.59-.52 0-1.04.2-1.43.59L10.3 9.45l-7.72 7.72c-.78.78-.78 2.05 0 2.83L4 21.41c.39.39.9.59 1.41.59.51 0 1.02-.2 1.41-.59l7.78-7.78 2.81-2.81c.8-.78.8-2.07 0-2.86zM5.41 20L4 18.59l7.72-7.72 1.47 1.35L5.41 20z\"/>\n",
              "  </svg>\n",
              "      </button>\n",
              "      \n",
              "  <style>\n",
              "    .colab-df-container {\n",
              "      display:flex;\n",
              "      flex-wrap:wrap;\n",
              "      gap: 12px;\n",
              "    }\n",
              "\n",
              "    .colab-df-convert {\n",
              "      background-color: #E8F0FE;\n",
              "      border: none;\n",
              "      border-radius: 50%;\n",
              "      cursor: pointer;\n",
              "      display: none;\n",
              "      fill: #1967D2;\n",
              "      height: 32px;\n",
              "      padding: 0 0 0 0;\n",
              "      width: 32px;\n",
              "    }\n",
              "\n",
              "    .colab-df-convert:hover {\n",
              "      background-color: #E2EBFA;\n",
              "      box-shadow: 0px 1px 2px rgba(60, 64, 67, 0.3), 0px 1px 3px 1px rgba(60, 64, 67, 0.15);\n",
              "      fill: #174EA6;\n",
              "    }\n",
              "\n",
              "    [theme=dark] .colab-df-convert {\n",
              "      background-color: #3B4455;\n",
              "      fill: #D2E3FC;\n",
              "    }\n",
              "\n",
              "    [theme=dark] .colab-df-convert:hover {\n",
              "      background-color: #434B5C;\n",
              "      box-shadow: 0px 1px 3px 1px rgba(0, 0, 0, 0.15);\n",
              "      filter: drop-shadow(0px 1px 2px rgba(0, 0, 0, 0.3));\n",
              "      fill: #FFFFFF;\n",
              "    }\n",
              "  </style>\n",
              "\n",
              "      <script>\n",
              "        const buttonEl =\n",
              "          document.querySelector('#df-0cf04b51-48e8-4f31-8b28-0d66e367bbab button.colab-df-convert');\n",
              "        buttonEl.style.display =\n",
              "          google.colab.kernel.accessAllowed ? 'block' : 'none';\n",
              "\n",
              "        async function convertToInteractive(key) {\n",
              "          const element = document.querySelector('#df-0cf04b51-48e8-4f31-8b28-0d66e367bbab');\n",
              "          const dataTable =\n",
              "            await google.colab.kernel.invokeFunction('convertToInteractive',\n",
              "                                                     [key], {});\n",
              "          if (!dataTable) return;\n",
              "\n",
              "          const docLinkHtml = 'Like what you see? Visit the ' +\n",
              "            '<a target=\"_blank\" href=https://colab.research.google.com/notebooks/data_table.ipynb>data table notebook</a>'\n",
              "            + ' to learn more about interactive tables.';\n",
              "          element.innerHTML = '';\n",
              "          dataTable['output_type'] = 'display_data';\n",
              "          await google.colab.output.renderOutput(dataTable, element);\n",
              "          const docLink = document.createElement('div');\n",
              "          docLink.innerHTML = docLinkHtml;\n",
              "          element.appendChild(docLink);\n",
              "        }\n",
              "      </script>\n",
              "    </div>\n",
              "  </div>\n",
              "  "
            ],
            "text/plain": [
              "                                                     joke  Log1pRank\n",
              "id                                                                  \n",
              "5tz52q  I hate how you cannot even say black paint any...   0.693147\n",
              "5tz4dd  What is the difference between a Jew in Nazi G...   0.000000\n",
              "5tz319  I recently went to America..... ...and being t...   0.000000\n",
              "5tz2wj  Brian raises his hand and says, \"He is in Heav...   0.693147\n",
              "5tz1pc  You hear about the University book store worke...   0.000000"
            ]
          },
          "metadata": {},
          "execution_count": 86
        }
      ],
      "source": [
        "train.head()"
      ]
    },
    {
      "cell_type": "code",
      "execution_count": null,
      "metadata": {
        "colab": {
          "base_uri": "https://localhost:8080/"
        },
        "id": "U0dHld79r3Gd",
        "outputId": "3ca765cb-b058-4673-f55f-c408e2e5e080"
      },
      "outputs": [
        {
          "output_type": "execute_result",
          "data": {
            "text/plain": [
              "joke         0\n",
              "Log1pRank    0\n",
              "dtype: int64"
            ]
          },
          "metadata": {},
          "execution_count": 88
        }
      ],
      "source": [
        "train.isna().sum()"
      ]
    },
    {
      "cell_type": "code",
      "execution_count": null,
      "metadata": {
        "id": "igg8ha3wsAbX"
      },
      "outputs": [],
      "source": [
        "train.dropna(inplace=True)"
      ]
    }
  ],
  "metadata": {
    "colab": {
      "collapsed_sections": [
        "LruhcnQrOKHx"
      ],
      "name": "NLP_humor_Preprocessing.ipynb",
      "provenance": []
    },
    "kernelspec": {
      "display_name": "Python 3 (ipykernel)",
      "language": "python",
      "name": "python3"
    },
    "language_info": {
      "codemirror_mode": {
        "name": "ipython",
        "version": 3
      },
      "file_extension": ".py",
      "mimetype": "text/x-python",
      "name": "python",
      "nbconvert_exporter": "python",
      "pygments_lexer": "ipython3",
      "version": "3.9.0"
    }
  },
  "nbformat": 4,
  "nbformat_minor": 0
}