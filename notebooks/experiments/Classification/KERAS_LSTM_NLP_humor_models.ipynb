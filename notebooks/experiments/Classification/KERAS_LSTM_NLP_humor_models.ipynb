{
  "cells": [
    {
      "cell_type": "markdown",
      "metadata": {
        "id": "ZPXL1bUvoRtW"
      },
      "source": [
        "# <center> **NLP analysis of jokes dataset**"
      ]
    },
    {
      "cell_type": "markdown",
      "metadata": {
        "id": "3qeGNIJeoc7e"
      },
      "source": [
        "## Table of Contents\n",
        "\n",
        "1. **[RNN models](#5)**\n",
        "\t* [Pretrained embedding (word2vec)](#sub-heading)\n",
        "     + [Dataset loader](#sub-sub-heading-1) \n",
        "     + [Split](#sub-sub-heading-2)\n",
        "     + [RNN](#sub-sub-heading-2)\n",
        "     + [LSTM](#sub-sub-heading-2)\n",
        "     + [Bidirectional LSTM](#sub-sub-heading-2)\n",
        "     + [GRU](#sub-sub-heading-2)\n",
        "\t* [Glove Embedding](#sub-heading)\n",
        "     + [Dataset loader](#sub-sub-heading-1) \n",
        "     + [Split](#sub-sub-heading-2)\n",
        "     + [RNN](#sub-sub-heading-2)\n",
        "     + [LSTM](#sub-sub-heading-2)\n",
        "     + [Bidirectional LSTM](#sub-sub-heading-2)\n",
        "\t* [Make own vocab by train word2vec model](#sub-heading)\n",
        "     + [Dataset loader](#sub-sub-heading-1) \n",
        "     + [Split](#sub-sub-heading-2)\n",
        "     + [LSTM](#sub-sub-heading-2)\n",
        "\n",
        "\n"
      ]
    },
    {
      "cell_type": "code",
      "execution_count": null,
      "metadata": {
        "colab": {
          "base_uri": "https://localhost:8080/"
        },
        "id": "8lNl_mlin732",
        "outputId": "cce06347-f1fc-4e6d-f19b-72a5a53ae970"
      },
      "outputs": [
        {
          "output_type": "stream",
          "name": "stdout",
          "text": [
            "Requirement already satisfied: unidecode in /usr/local/lib/python3.7/dist-packages (1.3.4)\n",
            "Requirement already satisfied: emoji in /usr/local/lib/python3.7/dist-packages (1.7.0)\n",
            "Requirement already satisfied: word2number in /usr/local/lib/python3.7/dist-packages (1.1)\n",
            "Requirement already satisfied: contractions in /usr/local/lib/python3.7/dist-packages (0.1.72)\n",
            "Requirement already satisfied: textsearch>=0.0.21 in /usr/local/lib/python3.7/dist-packages (from contractions) (0.0.21)\n",
            "Requirement already satisfied: anyascii in /usr/local/lib/python3.7/dist-packages (from textsearch>=0.0.21->contractions) (0.3.1)\n",
            "Requirement already satisfied: pyahocorasick in /usr/local/lib/python3.7/dist-packages (from textsearch>=0.0.21->contractions) (1.4.4)\n",
            "Requirement already satisfied: spacy in /usr/local/lib/python3.7/dist-packages (2.2.4)\n",
            "Requirement already satisfied: srsly<1.1.0,>=1.0.2 in /usr/local/lib/python3.7/dist-packages (from spacy) (1.0.5)\n",
            "Requirement already satisfied: numpy>=1.15.0 in /usr/local/lib/python3.7/dist-packages (from spacy) (1.21.6)\n",
            "Requirement already satisfied: thinc==7.4.0 in /usr/local/lib/python3.7/dist-packages (from spacy) (7.4.0)\n",
            "Requirement already satisfied: setuptools in /usr/local/lib/python3.7/dist-packages (from spacy) (57.4.0)\n",
            "Requirement already satisfied: preshed<3.1.0,>=3.0.2 in /usr/local/lib/python3.7/dist-packages (from spacy) (3.0.6)\n",
            "Requirement already satisfied: requests<3.0.0,>=2.13.0 in /usr/local/lib/python3.7/dist-packages (from spacy) (2.23.0)\n",
            "Requirement already satisfied: murmurhash<1.1.0,>=0.28.0 in /usr/local/lib/python3.7/dist-packages (from spacy) (1.0.6)\n",
            "Requirement already satisfied: plac<1.2.0,>=0.9.6 in /usr/local/lib/python3.7/dist-packages (from spacy) (1.1.3)\n",
            "Requirement already satisfied: cymem<2.1.0,>=2.0.2 in /usr/local/lib/python3.7/dist-packages (from spacy) (2.0.6)\n",
            "Requirement already satisfied: wasabi<1.1.0,>=0.4.0 in /usr/local/lib/python3.7/dist-packages (from spacy) (0.9.1)\n",
            "Requirement already satisfied: catalogue<1.1.0,>=0.0.7 in /usr/local/lib/python3.7/dist-packages (from spacy) (1.0.0)\n",
            "Requirement already satisfied: blis<0.5.0,>=0.4.0 in /usr/local/lib/python3.7/dist-packages (from spacy) (0.4.1)\n",
            "Requirement already satisfied: tqdm<5.0.0,>=4.38.0 in /usr/local/lib/python3.7/dist-packages (from spacy) (4.64.0)\n",
            "Requirement already satisfied: importlib-metadata>=0.20 in /usr/local/lib/python3.7/dist-packages (from catalogue<1.1.0,>=0.0.7->spacy) (4.11.3)\n",
            "Requirement already satisfied: typing-extensions>=3.6.4 in /usr/local/lib/python3.7/dist-packages (from importlib-metadata>=0.20->catalogue<1.1.0,>=0.0.7->spacy) (4.2.0)\n",
            "Requirement already satisfied: zipp>=0.5 in /usr/local/lib/python3.7/dist-packages (from importlib-metadata>=0.20->catalogue<1.1.0,>=0.0.7->spacy) (3.8.0)\n",
            "Requirement already satisfied: idna<3,>=2.5 in /usr/local/lib/python3.7/dist-packages (from requests<3.0.0,>=2.13.0->spacy) (2.10)\n",
            "Requirement already satisfied: certifi>=2017.4.17 in /usr/local/lib/python3.7/dist-packages (from requests<3.0.0,>=2.13.0->spacy) (2021.10.8)\n",
            "Requirement already satisfied: urllib3!=1.25.0,!=1.25.1,<1.26,>=1.21.1 in /usr/local/lib/python3.7/dist-packages (from requests<3.0.0,>=2.13.0->spacy) (1.24.3)\n",
            "Requirement already satisfied: chardet<4,>=3.0.2 in /usr/local/lib/python3.7/dist-packages (from requests<3.0.0,>=2.13.0->spacy) (3.0.4)\n",
            "Collecting en_core_web_sm==2.2.5\n",
            "  Downloading https://github.com/explosion/spacy-models/releases/download/en_core_web_sm-2.2.5/en_core_web_sm-2.2.5.tar.gz (12.0 MB)\n",
            "\u001b[K     |████████████████████████████████| 12.0 MB 38.9 MB/s \n",
            "\u001b[?25hRequirement already satisfied: spacy>=2.2.2 in /usr/local/lib/python3.7/dist-packages (from en_core_web_sm==2.2.5) (2.2.4)\n",
            "Requirement already satisfied: numpy>=1.15.0 in /usr/local/lib/python3.7/dist-packages (from spacy>=2.2.2->en_core_web_sm==2.2.5) (1.21.6)\n",
            "Requirement already satisfied: requests<3.0.0,>=2.13.0 in /usr/local/lib/python3.7/dist-packages (from spacy>=2.2.2->en_core_web_sm==2.2.5) (2.23.0)\n",
            "Requirement already satisfied: plac<1.2.0,>=0.9.6 in /usr/local/lib/python3.7/dist-packages (from spacy>=2.2.2->en_core_web_sm==2.2.5) (1.1.3)\n",
            "Requirement already satisfied: wasabi<1.1.0,>=0.4.0 in /usr/local/lib/python3.7/dist-packages (from spacy>=2.2.2->en_core_web_sm==2.2.5) (0.9.1)\n",
            "Requirement already satisfied: preshed<3.1.0,>=3.0.2 in /usr/local/lib/python3.7/dist-packages (from spacy>=2.2.2->en_core_web_sm==2.2.5) (3.0.6)\n",
            "Requirement already satisfied: thinc==7.4.0 in /usr/local/lib/python3.7/dist-packages (from spacy>=2.2.2->en_core_web_sm==2.2.5) (7.4.0)\n",
            "Requirement already satisfied: cymem<2.1.0,>=2.0.2 in /usr/local/lib/python3.7/dist-packages (from spacy>=2.2.2->en_core_web_sm==2.2.5) (2.0.6)\n",
            "Requirement already satisfied: blis<0.5.0,>=0.4.0 in /usr/local/lib/python3.7/dist-packages (from spacy>=2.2.2->en_core_web_sm==2.2.5) (0.4.1)\n",
            "Requirement already satisfied: catalogue<1.1.0,>=0.0.7 in /usr/local/lib/python3.7/dist-packages (from spacy>=2.2.2->en_core_web_sm==2.2.5) (1.0.0)\n",
            "Requirement already satisfied: srsly<1.1.0,>=1.0.2 in /usr/local/lib/python3.7/dist-packages (from spacy>=2.2.2->en_core_web_sm==2.2.5) (1.0.5)\n",
            "Requirement already satisfied: murmurhash<1.1.0,>=0.28.0 in /usr/local/lib/python3.7/dist-packages (from spacy>=2.2.2->en_core_web_sm==2.2.5) (1.0.6)\n",
            "Requirement already satisfied: tqdm<5.0.0,>=4.38.0 in /usr/local/lib/python3.7/dist-packages (from spacy>=2.2.2->en_core_web_sm==2.2.5) (4.64.0)\n",
            "Requirement already satisfied: setuptools in /usr/local/lib/python3.7/dist-packages (from spacy>=2.2.2->en_core_web_sm==2.2.5) (57.4.0)\n",
            "Requirement already satisfied: importlib-metadata>=0.20 in /usr/local/lib/python3.7/dist-packages (from catalogue<1.1.0,>=0.0.7->spacy>=2.2.2->en_core_web_sm==2.2.5) (4.11.3)\n",
            "Requirement already satisfied: typing-extensions>=3.6.4 in /usr/local/lib/python3.7/dist-packages (from importlib-metadata>=0.20->catalogue<1.1.0,>=0.0.7->spacy>=2.2.2->en_core_web_sm==2.2.5) (4.2.0)\n",
            "Requirement already satisfied: zipp>=0.5 in /usr/local/lib/python3.7/dist-packages (from importlib-metadata>=0.20->catalogue<1.1.0,>=0.0.7->spacy>=2.2.2->en_core_web_sm==2.2.5) (3.8.0)\n",
            "Requirement already satisfied: chardet<4,>=3.0.2 in /usr/local/lib/python3.7/dist-packages (from requests<3.0.0,>=2.13.0->spacy>=2.2.2->en_core_web_sm==2.2.5) (3.0.4)\n",
            "Requirement already satisfied: urllib3!=1.25.0,!=1.25.1,<1.26,>=1.21.1 in /usr/local/lib/python3.7/dist-packages (from requests<3.0.0,>=2.13.0->spacy>=2.2.2->en_core_web_sm==2.2.5) (1.24.3)\n",
            "Requirement already satisfied: certifi>=2017.4.17 in /usr/local/lib/python3.7/dist-packages (from requests<3.0.0,>=2.13.0->spacy>=2.2.2->en_core_web_sm==2.2.5) (2021.10.8)\n",
            "Requirement already satisfied: idna<3,>=2.5 in /usr/local/lib/python3.7/dist-packages (from requests<3.0.0,>=2.13.0->spacy>=2.2.2->en_core_web_sm==2.2.5) (2.10)\n",
            "\u001b[38;5;2m✔ Download and installation successful\u001b[0m\n",
            "You can now load the model via spacy.load('en_core_web_sm')\n",
            "/usr/lib/python3.7/runpy.py:125: RuntimeWarning: 'nltk.downloader' found in sys.modules after import of package 'nltk', but prior to execution of 'nltk.downloader'; this may result in unpredictable behaviour\n",
            "  warn(RuntimeWarning(msg))\n",
            "[nltk_data] Downloading package stopwords to /root/nltk_data...\n",
            "[nltk_data]   Package stopwords is already up-to-date!\n",
            "Requirement already satisfied: pyspellchecker in /usr/local/lib/python3.7/dist-packages (0.6.3)\n",
            "Requirement already satisfied: iplot in /usr/local/lib/python3.7/dist-packages (0.0.0)\n"
          ]
        }
      ],
      "source": [
        "!pip install unidecode\n",
        "!pip install emoji\n",
        "!pip install word2number\n",
        "!pip install contractions\n",
        "!pip3 install spacy\n",
        "!python3 -m spacy download en_core_web_sm\n",
        "!python3 -m nltk.downloader stopwords\n",
        "!pip install pyspellchecker\n",
        "!pip install iplot"
      ]
    },
    {
      "cell_type": "code",
      "execution_count": null,
      "metadata": {
        "id": "XT-6TEfGoBmE",
        "colab": {
          "base_uri": "https://localhost:8080/"
        },
        "outputId": "71b44540-e435-4c8b-a809-8867631d4081"
      },
      "outputs": [
        {
          "output_type": "stream",
          "name": "stdout",
          "text": [
            "[nltk_data] Downloading package punkt to /root/nltk_data...\n",
            "[nltk_data]   Package punkt is already up-to-date!\n",
            "[nltk_data] Downloading package wordnet to /root/nltk_data...\n",
            "[nltk_data]   Package wordnet is already up-to-date!\n",
            "[nltk_data] Downloading package averaged_perceptron_tagger to\n",
            "[nltk_data]     /root/nltk_data...\n",
            "[nltk_data]   Package averaged_perceptron_tagger is already up-to-\n",
            "[nltk_data]       date!\n"
          ]
        }
      ],
      "source": [
        "import pandas as pd\n",
        "import numpy as np\n",
        "import re\n",
        "import seaborn as sns\n",
        "import matplotlib.pyplot as plt\n",
        "from matplotlib import style\n",
        "style.use('seaborn')\n",
        "%matplotlib inline\n",
        "#graphs in svg look clearer\n",
        "%config InlineBackend.figure_format = 'svg' \n",
        "import warnings\n",
        "warnings.simplefilter('ignore')\n",
        "\n",
        "from scipy.stats import norm\n",
        "\n",
        "from google.colab import drive\n",
        "import os\n",
        "import string\n",
        "import emoji\n",
        "\n",
        "import plotly as py\n",
        "import numpy as np\n",
        "from plotly.offline import init_notebook_mode, iplot\n",
        "from plotly.graph_objs import Contours, Histogram2dContour, Marker, Scatter\n",
        "\n",
        "import unidecode\n",
        "from word2number import w2n\n",
        "import contractions\n",
        "from bs4 import BeautifulSoup\n",
        "import spacy\n",
        "\n",
        "import nltk\n",
        "nltk.download('punkt')\n",
        "nltk.download('wordnet')\n",
        "from nltk.corpus import wordnet\n",
        "from nltk.stem import WordNetLemmatizer\n",
        "nltk.download('averaged_perceptron_tagger')\n",
        "from nltk.stem import PorterStemmer\n",
        "from nltk.tokenize import word_tokenize\n",
        "from nltk.corpus import stopwords\n",
        "from collections import Counter\n",
        "from spellchecker import SpellChecker\n",
        "from wordcloud import WordCloud\n",
        "\n",
        "from tqdm._tqdm_notebook import tqdm_notebook\n",
        "tqdm_notebook.pandas(desc='PROGRESS>>>')\n",
        "\n",
        "from google_drive_downloader import GoogleDriveDownloader as gdd\n",
        "from IPython.core.display import display, HTML\n",
        "\n",
        "from sklearn.model_selection import RepeatedStratifiedKFold, GridSearchCV, StratifiedKFold, KFold, cross_val_score, train_test_split\n",
        "from sklearn.feature_extraction.text import TfidfVectorizer\n",
        "from sklearn import metrics\n",
        "from sklearn.pipeline import make_pipeline\n",
        "from sklearn.preprocessing import label_binarize, StandardScaler\n",
        "\n",
        "from torch.optim.lr_scheduler import CosineAnnealingLR\n",
        "from tqdm import tqdm\n",
        "import gensim\n",
        "import gensim.downloader as api\n",
        "from gensim.models import Word2Vec\n",
        "\n",
        "import gensim.downloader as gensim_api\n",
        "from torch.nn.utils.rnn import pad_sequence\n",
        "\n",
        "from functools import partial\n",
        "import torch   \n",
        "# from torchtext import data    \n",
        "import torch.nn as nn\n",
        "from torch.utils.data import TensorDataset, ConcatDataset, DataLoader, random_split, Dataset\n",
        "import torch.nn.functional as F\n",
        "import torchvision.transforms as transforms\n",
        "import torchvision\n",
        "import torch.optim as optim\n",
        "\n",
        "import re\n",
        "import gc\n",
        "import os\n",
        "\n",
        "import fileinput\n",
        "import string\n",
        "import tensorflow as tf\n",
        "import zipfile\n",
        "import datetime\n",
        "import sys\n",
        "from tqdm  import tqdm\n",
        "tqdm.pandas()\n",
        "from nltk.tokenize import wordpunct_tokenize\n",
        "from nltk.corpus import stopwords\n",
        "from nltk.stem.snowball import SnowballStemmer\n",
        "from sklearn.feature_extraction.text import CountVectorizer\n",
        "from sklearn.preprocessing import LabelEncoder\n",
        "from sklearn.metrics import accuracy_score\n",
        "from sklearn.metrics import f1_score, roc_auc_score\n",
        "\n",
        "from keras.preprocessing.text import Tokenizer\n",
        "from keras.preprocessing.sequence import pad_sequences\n",
        "from keras.models import Sequential\n",
        "from keras.layers import Dense, Flatten, LSTM, Conv1D, MaxPooling1D, Dropout, Activation, GlobalMaxPooling1D, Bidirectional, GRU\n",
        "from keras.layers.embeddings import Embedding\n",
        "from sklearn.metrics import classification_report"
      ]
    },
    {
      "cell_type": "code",
      "execution_count": null,
      "metadata": {
        "colab": {
          "base_uri": "https://localhost:8080/"
        },
        "id": "cHi3ZFMpoBu0",
        "outputId": "df7e6070-b932-4960-c468-af019cc37ac2"
      },
      "outputs": [
        {
          "output_type": "stream",
          "name": "stdout",
          "text": [
            "Drive already mounted at /content/drive; to attempt to forcibly remount, call drive.mount(\"/content/drive\", force_remount=True).\n"
          ]
        }
      ],
      "source": [
        "drive.mount(\"/content/drive\")"
      ]
    },
    {
      "cell_type": "markdown",
      "source": [
        "# Read data: "
      ],
      "metadata": {
        "id": "CEXD_5bJYc8g"
      }
    },
    {
      "cell_type": "code",
      "source": [
        "# data_train = pd.read_csv('/content/drive/My Drive/NLP_humor/train_val_test/jokes_TRAIN.csv', \n",
        "#                  sep=',', \n",
        "#                  encoding='utf-8')\n",
        "\n",
        "# data_val = pd.read_csv('/content/drive/My Drive/NLP_humor/train_val_test/jokes_VAL.csv', \n",
        "#                  sep=',', \n",
        "#                  encoding='utf-8')\n",
        "\n",
        "# data_test = pd.read_csv('/content/drive/My Drive/NLP_humor/train_val_test/jokes_TEST.csv', \n",
        "#                  sep=',', \n",
        "#                  encoding='utf-8')\n",
        "\n",
        "\n",
        "# data_train = pd.read_csv('/content/drive/My Drive/NLP_humor/train_val_test/aug/aug_jokes_TITLE_TRAIN.csv', \n",
        "#                  sep=',', \n",
        "#                  encoding='utf-8')\n",
        "\n",
        "# data_val = pd.read_csv('/content/drive/My Drive/NLP_humor/train_val_test/aug/aug_jokes_TITLE_VAL.csv', \n",
        "#                  sep=',', \n",
        "#                  encoding='utf-8')\n",
        "\n",
        "# data_test = pd.read_csv('/content/drive/My Drive/NLP_humor/train_val_test/aug/aug_jokes_TITLE_TEST.csv', \n",
        "#                  sep=',', \n",
        "#                  encoding='utf-8')\n",
        "\n",
        "\n",
        "data_train = pd.read_csv('/content/drive/My Drive/NLP_humor/train_val_test/just_title/jokes_TRAIN_TITLE.csv', \n",
        "                 sep=',', \n",
        "                 encoding='utf-8')\n",
        "\n",
        "data_val = pd.read_csv('/content/drive/My Drive/NLP_humor/train_val_test/just_title/jokes_VAL_TITLE.csv', \n",
        "                 sep=',', \n",
        "                 encoding='utf-8')\n",
        "\n",
        "data_test = pd.read_csv('/content/drive/My Drive/NLP_humor/train_val_test/just_title/jokes_TEST_TITLE.csv', \n",
        "                 sep=',', \n",
        "                 encoding='utf-8')\n"
      ],
      "metadata": {
        "id": "dhVW1VZaYc8h"
      },
      "execution_count": null,
      "outputs": []
    },
    {
      "cell_type": "code",
      "source": [
        "data_train.dropna(inplace=True)\n",
        "data_val.dropna(inplace=True)\n",
        "data_test.dropna(inplace=True)"
      ],
      "metadata": {
        "id": "bHjSHWN7Yc8h"
      },
      "execution_count": null,
      "outputs": []
    },
    {
      "cell_type": "code",
      "source": [
        "data_train.drop('Unnamed: 0', axis=1, inplace=True)"
      ],
      "metadata": {
        "id": "yFQYKPVgLQur"
      },
      "execution_count": null,
      "outputs": []
    },
    {
      "cell_type": "code",
      "source": [
        "data_val.drop('Unnamed: 0', axis=1, inplace=True)"
      ],
      "metadata": {
        "id": "kEdn5xnoLLgv"
      },
      "execution_count": null,
      "outputs": []
    },
    {
      "cell_type": "code",
      "source": [
        "data_test.drop('id', axis=1, inplace=True)"
      ],
      "metadata": {
        "id": "Bdn6P01FLDmQ"
      },
      "execution_count": null,
      "outputs": []
    },
    {
      "cell_type": "markdown",
      "source": [
        "# **Concat**"
      ],
      "metadata": {
        "id": "TfT5pABPrEqO"
      }
    },
    {
      "cell_type": "code",
      "source": [
        "data = pd.concat([data_train.assign(indic=\"train\"), data_val.assign(indic=\"val\"), data_test.assign(indic=\"test\")])"
      ],
      "metadata": {
        "id": "fY9YCu1XrJPp"
      },
      "execution_count": null,
      "outputs": []
    },
    {
      "cell_type": "code",
      "source": [
        "data.head()"
      ],
      "metadata": {
        "colab": {
          "base_uri": "https://localhost:8080/",
          "height": 206
        },
        "id": "6aeL8JCdrJTK",
        "outputId": "bf7a92d3-7f57-4ed0-ae92-8a612f6a73e2"
      },
      "execution_count": null,
      "outputs": [
        {
          "output_type": "execute_result",
          "data": {
            "text/plain": [
              "                                                joke  rank  indic\n",
              "0  Jennifer Aniston's dance scenes as a stripper ...   0.0  train\n",
              "1  How many pro choicers do you need to change a ...   0.0  train\n",
              "2                      Something went wrong .. ha ha   3.0  train\n",
              "3                               the 'winning' blonde   1.0  train\n",
              "5    One time there was an Irishman who got so drunk   3.0  train"
            ],
            "text/html": [
              "\n",
              "  <div id=\"df-f6e323f7-eb8a-410d-9a30-47c4dc950fe7\">\n",
              "    <div class=\"colab-df-container\">\n",
              "      <div>\n",
              "<style scoped>\n",
              "    .dataframe tbody tr th:only-of-type {\n",
              "        vertical-align: middle;\n",
              "    }\n",
              "\n",
              "    .dataframe tbody tr th {\n",
              "        vertical-align: top;\n",
              "    }\n",
              "\n",
              "    .dataframe thead th {\n",
              "        text-align: right;\n",
              "    }\n",
              "</style>\n",
              "<table border=\"1\" class=\"dataframe\">\n",
              "  <thead>\n",
              "    <tr style=\"text-align: right;\">\n",
              "      <th></th>\n",
              "      <th>joke</th>\n",
              "      <th>rank</th>\n",
              "      <th>indic</th>\n",
              "    </tr>\n",
              "  </thead>\n",
              "  <tbody>\n",
              "    <tr>\n",
              "      <th>0</th>\n",
              "      <td>Jennifer Aniston's dance scenes as a stripper ...</td>\n",
              "      <td>0.0</td>\n",
              "      <td>train</td>\n",
              "    </tr>\n",
              "    <tr>\n",
              "      <th>1</th>\n",
              "      <td>How many pro choicers do you need to change a ...</td>\n",
              "      <td>0.0</td>\n",
              "      <td>train</td>\n",
              "    </tr>\n",
              "    <tr>\n",
              "      <th>2</th>\n",
              "      <td>Something went wrong .. ha ha</td>\n",
              "      <td>3.0</td>\n",
              "      <td>train</td>\n",
              "    </tr>\n",
              "    <tr>\n",
              "      <th>3</th>\n",
              "      <td>the 'winning' blonde</td>\n",
              "      <td>1.0</td>\n",
              "      <td>train</td>\n",
              "    </tr>\n",
              "    <tr>\n",
              "      <th>5</th>\n",
              "      <td>One time there was an Irishman who got so drunk</td>\n",
              "      <td>3.0</td>\n",
              "      <td>train</td>\n",
              "    </tr>\n",
              "  </tbody>\n",
              "</table>\n",
              "</div>\n",
              "      <button class=\"colab-df-convert\" onclick=\"convertToInteractive('df-f6e323f7-eb8a-410d-9a30-47c4dc950fe7')\"\n",
              "              title=\"Convert this dataframe to an interactive table.\"\n",
              "              style=\"display:none;\">\n",
              "        \n",
              "  <svg xmlns=\"http://www.w3.org/2000/svg\" height=\"24px\"viewBox=\"0 0 24 24\"\n",
              "       width=\"24px\">\n",
              "    <path d=\"M0 0h24v24H0V0z\" fill=\"none\"/>\n",
              "    <path d=\"M18.56 5.44l.94 2.06.94-2.06 2.06-.94-2.06-.94-.94-2.06-.94 2.06-2.06.94zm-11 1L8.5 8.5l.94-2.06 2.06-.94-2.06-.94L8.5 2.5l-.94 2.06-2.06.94zm10 10l.94 2.06.94-2.06 2.06-.94-2.06-.94-.94-2.06-.94 2.06-2.06.94z\"/><path d=\"M17.41 7.96l-1.37-1.37c-.4-.4-.92-.59-1.43-.59-.52 0-1.04.2-1.43.59L10.3 9.45l-7.72 7.72c-.78.78-.78 2.05 0 2.83L4 21.41c.39.39.9.59 1.41.59.51 0 1.02-.2 1.41-.59l7.78-7.78 2.81-2.81c.8-.78.8-2.07 0-2.86zM5.41 20L4 18.59l7.72-7.72 1.47 1.35L5.41 20z\"/>\n",
              "  </svg>\n",
              "      </button>\n",
              "      \n",
              "  <style>\n",
              "    .colab-df-container {\n",
              "      display:flex;\n",
              "      flex-wrap:wrap;\n",
              "      gap: 12px;\n",
              "    }\n",
              "\n",
              "    .colab-df-convert {\n",
              "      background-color: #E8F0FE;\n",
              "      border: none;\n",
              "      border-radius: 50%;\n",
              "      cursor: pointer;\n",
              "      display: none;\n",
              "      fill: #1967D2;\n",
              "      height: 32px;\n",
              "      padding: 0 0 0 0;\n",
              "      width: 32px;\n",
              "    }\n",
              "\n",
              "    .colab-df-convert:hover {\n",
              "      background-color: #E2EBFA;\n",
              "      box-shadow: 0px 1px 2px rgba(60, 64, 67, 0.3), 0px 1px 3px 1px rgba(60, 64, 67, 0.15);\n",
              "      fill: #174EA6;\n",
              "    }\n",
              "\n",
              "    [theme=dark] .colab-df-convert {\n",
              "      background-color: #3B4455;\n",
              "      fill: #D2E3FC;\n",
              "    }\n",
              "\n",
              "    [theme=dark] .colab-df-convert:hover {\n",
              "      background-color: #434B5C;\n",
              "      box-shadow: 0px 1px 3px 1px rgba(0, 0, 0, 0.15);\n",
              "      filter: drop-shadow(0px 1px 2px rgba(0, 0, 0, 0.3));\n",
              "      fill: #FFFFFF;\n",
              "    }\n",
              "  </style>\n",
              "\n",
              "      <script>\n",
              "        const buttonEl =\n",
              "          document.querySelector('#df-f6e323f7-eb8a-410d-9a30-47c4dc950fe7 button.colab-df-convert');\n",
              "        buttonEl.style.display =\n",
              "          google.colab.kernel.accessAllowed ? 'block' : 'none';\n",
              "\n",
              "        async function convertToInteractive(key) {\n",
              "          const element = document.querySelector('#df-f6e323f7-eb8a-410d-9a30-47c4dc950fe7');\n",
              "          const dataTable =\n",
              "            await google.colab.kernel.invokeFunction('convertToInteractive',\n",
              "                                                     [key], {});\n",
              "          if (!dataTable) return;\n",
              "\n",
              "          const docLinkHtml = 'Like what you see? Visit the ' +\n",
              "            '<a target=\"_blank\" href=https://colab.research.google.com/notebooks/data_table.ipynb>data table notebook</a>'\n",
              "            + ' to learn more about interactive tables.';\n",
              "          element.innerHTML = '';\n",
              "          dataTable['output_type'] = 'display_data';\n",
              "          await google.colab.output.renderOutput(dataTable, element);\n",
              "          const docLink = document.createElement('div');\n",
              "          docLink.innerHTML = docLinkHtml;\n",
              "          element.appendChild(docLink);\n",
              "        }\n",
              "      </script>\n",
              "    </div>\n",
              "  </div>\n",
              "  "
            ]
          },
          "metadata": {},
          "execution_count": 44
        }
      ]
    },
    {
      "cell_type": "code",
      "source": [
        "data.isna().sum()"
      ],
      "metadata": {
        "colab": {
          "base_uri": "https://localhost:8080/"
        },
        "id": "bT4ZAIBQ5n9z",
        "outputId": "126c20fd-09f4-46ed-f8e9-705c601d2846"
      },
      "execution_count": null,
      "outputs": [
        {
          "output_type": "execute_result",
          "data": {
            "text/plain": [
              "joke     0\n",
              "rank     0\n",
              "indic    0\n",
              "dtype: int64"
            ]
          },
          "metadata": {},
          "execution_count": 45
        }
      ]
    },
    {
      "cell_type": "code",
      "source": [
        "from collections import Counter\n",
        "token_counts = Counter()\n",
        "# Count how many times does each token occur in both \"Title\" and \"FullDescription\" in total\n",
        "\n",
        "for line in data['joke'].values:\n",
        "    token_counts.update(line.split(\" \"))"
      ],
      "metadata": {
        "id": "QTTOk43i5oFX"
      },
      "execution_count": null,
      "outputs": []
    },
    {
      "cell_type": "code",
      "source": [
        "print(\"Total unique tokens :\", len(token_counts))\n",
        "print('\\n'.join(map(str, token_counts.most_common(n=5))))\n",
        "print('...')\n",
        "print('\\n'.join(map(str, token_counts.most_common()[-3:])))\n",
        "\n",
        "assert token_counts.most_common(1)[0][1] in  range(116000, 117000)\n",
        "assert len(token_counts) in range(107000, 107100)\n",
        "print('Correct!')"
      ],
      "metadata": {
        "id": "XZGF34-x5oIG"
      },
      "execution_count": null,
      "outputs": []
    },
    {
      "cell_type": "code",
      "source": [
        "min_count = 10\n",
        "\n",
        "# tokens from token_counts keys that had at least min_count occurrences throughout the dataset\n",
        "tokens = sorted(t for t, c in token_counts.items() if c >= min_count)\n",
        "\n",
        "# Add a special tokens for unknown and empty words\n",
        "UNK, PAD = \"UNK\", \"PAD\"\n",
        "tokens = [UNK, PAD] + tokens"
      ],
      "metadata": {
        "id": "skOHRpgy53Ip"
      },
      "execution_count": null,
      "outputs": []
    },
    {
      "cell_type": "code",
      "source": [
        "print(\"Vocabulary size:\", len(tokens))"
      ],
      "metadata": {
        "colab": {
          "base_uri": "https://localhost:8080/"
        },
        "id": "wOKyNtUr53Qx",
        "outputId": "31dc2fc9-dbec-4585-e7a4-9e4c988f54a7"
      },
      "execution_count": null,
      "outputs": [
        {
          "output_type": "stream",
          "name": "stdout",
          "text": [
            "Vocabulary size: 9240\n"
          ]
        }
      ]
    },
    {
      "cell_type": "code",
      "source": [
        "data['rank'] = data['rank'].astype(int)"
      ],
      "metadata": {
        "id": "5Va-zobX5738"
      },
      "execution_count": null,
      "outputs": []
    },
    {
      "cell_type": "markdown",
      "source": [
        "# **LSTM -  multiclass classification**"
      ],
      "metadata": {
        "id": "gG7vhzYcYc8i"
      }
    },
    {
      "cell_type": "code",
      "source": [
        "one_hot = pd.get_dummies(data[\"rank\"])\n",
        "data.drop(['rank'],axis=1,inplace=True)\n",
        "data = pd.concat([data,one_hot],axis=1)\n",
        "data.head()"
      ],
      "metadata": {
        "colab": {
          "base_uri": "https://localhost:8080/",
          "height": 206
        },
        "outputId": "0280a06c-6a35-416d-ea32-0a9ab89eb12b",
        "id": "pzWror4NYc8i"
      },
      "execution_count": null,
      "outputs": [
        {
          "output_type": "execute_result",
          "data": {
            "text/plain": [
              "                                                joke  indic  0  1  2  3  4\n",
              "0  Jennifer Aniston's dance scenes as a stripper ...  train  1  0  0  0  0\n",
              "1  How many pro choicers do you need to change a ...  train  1  0  0  0  0\n",
              "2                      Something went wrong .. ha ha  train  0  0  0  1  0\n",
              "3                               the 'winning' blonde  train  0  1  0  0  0\n",
              "5    One time there was an Irishman who got so drunk  train  0  0  0  1  0"
            ],
            "text/html": [
              "\n",
              "  <div id=\"df-353bac84-83d6-4a62-a191-02ca28ab5cae\">\n",
              "    <div class=\"colab-df-container\">\n",
              "      <div>\n",
              "<style scoped>\n",
              "    .dataframe tbody tr th:only-of-type {\n",
              "        vertical-align: middle;\n",
              "    }\n",
              "\n",
              "    .dataframe tbody tr th {\n",
              "        vertical-align: top;\n",
              "    }\n",
              "\n",
              "    .dataframe thead th {\n",
              "        text-align: right;\n",
              "    }\n",
              "</style>\n",
              "<table border=\"1\" class=\"dataframe\">\n",
              "  <thead>\n",
              "    <tr style=\"text-align: right;\">\n",
              "      <th></th>\n",
              "      <th>joke</th>\n",
              "      <th>indic</th>\n",
              "      <th>0</th>\n",
              "      <th>1</th>\n",
              "      <th>2</th>\n",
              "      <th>3</th>\n",
              "      <th>4</th>\n",
              "    </tr>\n",
              "  </thead>\n",
              "  <tbody>\n",
              "    <tr>\n",
              "      <th>0</th>\n",
              "      <td>Jennifer Aniston's dance scenes as a stripper ...</td>\n",
              "      <td>train</td>\n",
              "      <td>1</td>\n",
              "      <td>0</td>\n",
              "      <td>0</td>\n",
              "      <td>0</td>\n",
              "      <td>0</td>\n",
              "    </tr>\n",
              "    <tr>\n",
              "      <th>1</th>\n",
              "      <td>How many pro choicers do you need to change a ...</td>\n",
              "      <td>train</td>\n",
              "      <td>1</td>\n",
              "      <td>0</td>\n",
              "      <td>0</td>\n",
              "      <td>0</td>\n",
              "      <td>0</td>\n",
              "    </tr>\n",
              "    <tr>\n",
              "      <th>2</th>\n",
              "      <td>Something went wrong .. ha ha</td>\n",
              "      <td>train</td>\n",
              "      <td>0</td>\n",
              "      <td>0</td>\n",
              "      <td>0</td>\n",
              "      <td>1</td>\n",
              "      <td>0</td>\n",
              "    </tr>\n",
              "    <tr>\n",
              "      <th>3</th>\n",
              "      <td>the 'winning' blonde</td>\n",
              "      <td>train</td>\n",
              "      <td>0</td>\n",
              "      <td>1</td>\n",
              "      <td>0</td>\n",
              "      <td>0</td>\n",
              "      <td>0</td>\n",
              "    </tr>\n",
              "    <tr>\n",
              "      <th>5</th>\n",
              "      <td>One time there was an Irishman who got so drunk</td>\n",
              "      <td>train</td>\n",
              "      <td>0</td>\n",
              "      <td>0</td>\n",
              "      <td>0</td>\n",
              "      <td>1</td>\n",
              "      <td>0</td>\n",
              "    </tr>\n",
              "  </tbody>\n",
              "</table>\n",
              "</div>\n",
              "      <button class=\"colab-df-convert\" onclick=\"convertToInteractive('df-353bac84-83d6-4a62-a191-02ca28ab5cae')\"\n",
              "              title=\"Convert this dataframe to an interactive table.\"\n",
              "              style=\"display:none;\">\n",
              "        \n",
              "  <svg xmlns=\"http://www.w3.org/2000/svg\" height=\"24px\"viewBox=\"0 0 24 24\"\n",
              "       width=\"24px\">\n",
              "    <path d=\"M0 0h24v24H0V0z\" fill=\"none\"/>\n",
              "    <path d=\"M18.56 5.44l.94 2.06.94-2.06 2.06-.94-2.06-.94-.94-2.06-.94 2.06-2.06.94zm-11 1L8.5 8.5l.94-2.06 2.06-.94-2.06-.94L8.5 2.5l-.94 2.06-2.06.94zm10 10l.94 2.06.94-2.06 2.06-.94-2.06-.94-.94-2.06-.94 2.06-2.06.94z\"/><path d=\"M17.41 7.96l-1.37-1.37c-.4-.4-.92-.59-1.43-.59-.52 0-1.04.2-1.43.59L10.3 9.45l-7.72 7.72c-.78.78-.78 2.05 0 2.83L4 21.41c.39.39.9.59 1.41.59.51 0 1.02-.2 1.41-.59l7.78-7.78 2.81-2.81c.8-.78.8-2.07 0-2.86zM5.41 20L4 18.59l7.72-7.72 1.47 1.35L5.41 20z\"/>\n",
              "  </svg>\n",
              "      </button>\n",
              "      \n",
              "  <style>\n",
              "    .colab-df-container {\n",
              "      display:flex;\n",
              "      flex-wrap:wrap;\n",
              "      gap: 12px;\n",
              "    }\n",
              "\n",
              "    .colab-df-convert {\n",
              "      background-color: #E8F0FE;\n",
              "      border: none;\n",
              "      border-radius: 50%;\n",
              "      cursor: pointer;\n",
              "      display: none;\n",
              "      fill: #1967D2;\n",
              "      height: 32px;\n",
              "      padding: 0 0 0 0;\n",
              "      width: 32px;\n",
              "    }\n",
              "\n",
              "    .colab-df-convert:hover {\n",
              "      background-color: #E2EBFA;\n",
              "      box-shadow: 0px 1px 2px rgba(60, 64, 67, 0.3), 0px 1px 3px 1px rgba(60, 64, 67, 0.15);\n",
              "      fill: #174EA6;\n",
              "    }\n",
              "\n",
              "    [theme=dark] .colab-df-convert {\n",
              "      background-color: #3B4455;\n",
              "      fill: #D2E3FC;\n",
              "    }\n",
              "\n",
              "    [theme=dark] .colab-df-convert:hover {\n",
              "      background-color: #434B5C;\n",
              "      box-shadow: 0px 1px 3px 1px rgba(0, 0, 0, 0.15);\n",
              "      filter: drop-shadow(0px 1px 2px rgba(0, 0, 0, 0.3));\n",
              "      fill: #FFFFFF;\n",
              "    }\n",
              "  </style>\n",
              "\n",
              "      <script>\n",
              "        const buttonEl =\n",
              "          document.querySelector('#df-353bac84-83d6-4a62-a191-02ca28ab5cae button.colab-df-convert');\n",
              "        buttonEl.style.display =\n",
              "          google.colab.kernel.accessAllowed ? 'block' : 'none';\n",
              "\n",
              "        async function convertToInteractive(key) {\n",
              "          const element = document.querySelector('#df-353bac84-83d6-4a62-a191-02ca28ab5cae');\n",
              "          const dataTable =\n",
              "            await google.colab.kernel.invokeFunction('convertToInteractive',\n",
              "                                                     [key], {});\n",
              "          if (!dataTable) return;\n",
              "\n",
              "          const docLinkHtml = 'Like what you see? Visit the ' +\n",
              "            '<a target=\"_blank\" href=https://colab.research.google.com/notebooks/data_table.ipynb>data table notebook</a>'\n",
              "            + ' to learn more about interactive tables.';\n",
              "          element.innerHTML = '';\n",
              "          dataTable['output_type'] = 'display_data';\n",
              "          await google.colab.output.renderOutput(dataTable, element);\n",
              "          const docLink = document.createElement('div');\n",
              "          docLink.innerHTML = docLinkHtml;\n",
              "          element.appendChild(docLink);\n",
              "        }\n",
              "      </script>\n",
              "    </div>\n",
              "  </div>\n",
              "  "
            ]
          },
          "metadata": {},
          "execution_count": 51
        }
      ]
    },
    {
      "cell_type": "code",
      "source": [
        "seq_len = data.applymap(lambda t: len(str(t).split()))"
      ],
      "metadata": {
        "id": "A3b0EhnXYc8i"
      },
      "execution_count": null,
      "outputs": []
    },
    {
      "cell_type": "code",
      "source": [
        "seq_len['joke'].plot.hist(bins=100)"
      ],
      "metadata": {
        "colab": {
          "base_uri": "https://localhost:8080/",
          "height": 370
        },
        "outputId": "cc57d52f-7563-45d8-9c52-567fc18cd2bf",
        "id": "VspANsHlYc8i"
      },
      "execution_count": null,
      "outputs": [
        {
          "output_type": "execute_result",
          "data": {
            "text/plain": [
              "<matplotlib.axes._subplots.AxesSubplot at 0x7f76e8abb710>"
            ]
          },
          "metadata": {},
          "execution_count": 53
        },
        {
          "output_type": "display_data",
          "data": {
            "text/plain": [
              "<Figure size 432x288 with 1 Axes>"
            ],
            "image/svg+xml": "<?xml version=\"1.0\" encoding=\"utf-8\" standalone=\"no\"?>\n<!DOCTYPE svg PUBLIC \"-//W3C//DTD SVG 1.1//EN\"\n  \"http://www.w3.org/Graphics/SVG/1.1/DTD/svg11.dtd\">\n<!-- Created with matplotlib (https://matplotlib.org/) -->\n<svg height=\"248.161875pt\" version=\"1.1\" viewBox=\"0 0 402.229728 248.161875\" width=\"402.229728pt\" xmlns=\"http://www.w3.org/2000/svg\" xmlns:xlink=\"http://www.w3.org/1999/xlink\">\n <defs>\n  <style type=\"text/css\">\n*{stroke-linecap:butt;stroke-linejoin:round;}\n  </style>\n </defs>\n <g id=\"figure_1\">\n  <g id=\"patch_1\">\n   <path d=\"M 0 248.161875 \nL 402.229728 248.161875 \nL 402.229728 0 \nL 0 0 \nz\n\" style=\"fill:none;\"/>\n  </g>\n  <g id=\"axes_1\">\n   <g id=\"patch_2\">\n    <path d=\"M 56.25875 224.64 \nL 391.05875 224.64 \nL 391.05875 7.2 \nL 56.25875 7.2 \nz\n\" style=\"fill:#eaeaf2;\"/>\n   </g>\n   <g id=\"matplotlib.axis_1\">\n    <g id=\"xtick_1\">\n     <g id=\"line2d_1\">\n      <path clip-path=\"url(#pd4b4b40b2d)\" d=\"M 71.476932 224.64 \nL 71.476932 7.2 \n\" style=\"fill:none;stroke:#ffffff;stroke-linecap:round;\"/>\n     </g>\n     <g id=\"line2d_2\"/>\n     <g id=\"text_1\">\n      <!-- 0 -->\n      <defs>\n       <path d=\"M 51.703125 34.421875 \nQ 51.703125 24.515625 49.828125 17.75 \nQ 47.953125 10.984375 44.703125 6.8125 \nQ 41.453125 2.640625 37.0625 0.828125 \nQ 32.671875 -0.984375 27.6875 -0.984375 \nQ 22.65625 -0.984375 18.3125 0.828125 \nQ 13.96875 2.640625 10.765625 6.78125 \nQ 7.5625 10.9375 5.734375 17.703125 \nQ 3.90625 24.46875 3.90625 34.421875 \nQ 3.90625 44.828125 5.734375 51.640625 \nQ 7.5625 58.453125 10.78125 62.5 \nQ 14.015625 66.546875 18.40625 68.1875 \nQ 22.796875 69.828125 27.984375 69.828125 \nQ 32.90625 69.828125 37.21875 68.1875 \nQ 41.546875 66.546875 44.765625 62.5 \nQ 48 58.453125 49.84375 51.640625 \nQ 51.703125 44.828125 51.703125 34.421875 \nz\nM 42.78125 34.421875 \nQ 42.78125 42.625 41.796875 48.0625 \nQ 40.828125 53.515625 38.921875 56.765625 \nQ 37.015625 60.015625 34.25 61.359375 \nQ 31.5 62.703125 27.984375 62.703125 \nQ 24.265625 62.703125 21.4375 61.328125 \nQ 18.609375 59.96875 16.671875 56.71875 \nQ 14.75 53.46875 13.765625 48.015625 \nQ 12.796875 42.578125 12.796875 34.421875 \nQ 12.796875 26.515625 13.796875 21.09375 \nQ 14.796875 15.671875 16.71875 12.375 \nQ 18.65625 9.078125 21.4375 7.640625 \nQ 24.21875 6.203125 27.78125 6.203125 \nQ 31.25 6.203125 34.03125 7.640625 \nQ 36.8125 9.078125 38.734375 12.375 \nQ 40.671875 15.671875 41.71875 21.09375 \nQ 42.78125 26.515625 42.78125 34.421875 \nz\n\" id=\"LiberationSans-48\"/>\n      </defs>\n      <g style=\"fill:#262626;\" transform=\"translate(68.696463 238.886875)scale(0.1 -0.1)\">\n       <use xlink:href=\"#LiberationSans-48\"/>\n      </g>\n     </g>\n    </g>\n    <g id=\"xtick_2\">\n     <g id=\"line2d_3\">\n      <path clip-path=\"url(#pd4b4b40b2d)\" d=\"M 116.90434 224.64 \nL 116.90434 7.2 \n\" style=\"fill:none;stroke:#ffffff;stroke-linecap:round;\"/>\n     </g>\n     <g id=\"line2d_4\"/>\n     <g id=\"text_2\">\n      <!-- 10 -->\n      <defs>\n       <path d=\"M 7.625 0 \nL 7.625 7.46875 \nL 25.140625 7.46875 \nL 25.140625 60.40625 \nL 9.625 49.3125 \nL 9.625 57.625 \nL 25.875 68.796875 \nL 33.984375 68.796875 \nL 33.984375 7.46875 \nL 50.734375 7.46875 \nL 50.734375 0 \nz\n\" id=\"LiberationSans-49\"/>\n      </defs>\n      <g style=\"fill:#262626;\" transform=\"translate(111.343403 238.886875)scale(0.1 -0.1)\">\n       <use xlink:href=\"#LiberationSans-49\"/>\n       <use x=\"55.615234\" xlink:href=\"#LiberationSans-48\"/>\n      </g>\n     </g>\n    </g>\n    <g id=\"xtick_3\">\n     <g id=\"line2d_5\">\n      <path clip-path=\"url(#pd4b4b40b2d)\" d=\"M 162.331749 224.64 \nL 162.331749 7.2 \n\" style=\"fill:none;stroke:#ffffff;stroke-linecap:round;\"/>\n     </g>\n     <g id=\"line2d_6\"/>\n     <g id=\"text_3\">\n      <!-- 20 -->\n      <defs>\n       <path d=\"M 5.03125 0 \nL 5.03125 6.203125 \nQ 7.515625 11.921875 11.109375 16.28125 \nQ 14.703125 20.65625 18.65625 24.1875 \nQ 22.609375 27.734375 26.484375 30.765625 \nQ 30.375 33.796875 33.5 36.8125 \nQ 36.625 39.84375 38.546875 43.15625 \nQ 40.484375 46.484375 40.484375 50.6875 \nQ 40.484375 53.609375 39.59375 55.828125 \nQ 38.71875 58.0625 37.0625 59.5625 \nQ 35.40625 61.078125 33.078125 61.828125 \nQ 30.765625 62.59375 27.9375 62.59375 \nQ 25.296875 62.59375 22.96875 61.859375 \nQ 20.65625 61.140625 18.84375 59.671875 \nQ 17.046875 58.203125 15.890625 56.03125 \nQ 14.75 53.859375 14.40625 50.984375 \nL 5.421875 51.8125 \nQ 5.859375 55.515625 7.46875 58.78125 \nQ 9.078125 62.0625 11.90625 64.53125 \nQ 14.75 67 18.71875 68.40625 \nQ 22.703125 69.828125 27.9375 69.828125 \nQ 33.0625 69.828125 37.0625 68.609375 \nQ 41.0625 67.390625 43.8125 64.984375 \nQ 46.578125 62.59375 48.046875 59.078125 \nQ 49.515625 55.5625 49.515625 50.984375 \nQ 49.515625 47.515625 48.265625 44.390625 \nQ 47.015625 41.265625 44.9375 38.421875 \nQ 42.875 35.59375 40.140625 32.953125 \nQ 37.40625 30.328125 34.421875 27.8125 \nQ 31.453125 25.296875 28.421875 22.828125 \nQ 25.390625 20.359375 22.71875 17.859375 \nQ 20.0625 15.375 17.96875 12.8125 \nQ 15.875 10.25 14.703125 7.46875 \nL 50.59375 7.46875 \nL 50.59375 0 \nz\n\" id=\"LiberationSans-50\"/>\n      </defs>\n      <g style=\"fill:#262626;\" transform=\"translate(156.770811 238.886875)scale(0.1 -0.1)\">\n       <use xlink:href=\"#LiberationSans-50\"/>\n       <use x=\"55.615234\" xlink:href=\"#LiberationSans-48\"/>\n      </g>\n     </g>\n    </g>\n    <g id=\"xtick_4\">\n     <g id=\"line2d_7\">\n      <path clip-path=\"url(#pd4b4b40b2d)\" d=\"M 207.759157 224.64 \nL 207.759157 7.2 \n\" style=\"fill:none;stroke:#ffffff;stroke-linecap:round;\"/>\n     </g>\n     <g id=\"line2d_8\"/>\n     <g id=\"text_4\">\n      <!-- 30 -->\n      <defs>\n       <path d=\"M 51.21875 19 \nQ 51.21875 14.265625 49.671875 10.546875 \nQ 48.140625 6.84375 45.1875 4.265625 \nQ 42.234375 1.703125 37.859375 0.359375 \nQ 33.5 -0.984375 27.875 -0.984375 \nQ 21.484375 -0.984375 17.109375 0.609375 \nQ 12.75 2.203125 9.90625 4.8125 \nQ 7.078125 7.421875 5.65625 10.765625 \nQ 4.25 14.109375 3.8125 17.671875 \nL 12.890625 18.5 \nQ 13.28125 15.765625 14.328125 13.515625 \nQ 15.375 11.28125 17.1875 9.671875 \nQ 19 8.0625 21.625 7.171875 \nQ 24.265625 6.296875 27.875 6.296875 \nQ 34.515625 6.296875 38.296875 9.5625 \nQ 42.09375 12.84375 42.09375 19.28125 \nQ 42.09375 23.09375 40.40625 25.40625 \nQ 38.71875 27.734375 36.203125 29.03125 \nQ 33.6875 30.328125 30.734375 30.765625 \nQ 27.78125 31.203125 25.296875 31.203125 \nL 20.3125 31.203125 \nL 20.3125 38.8125 \nL 25.09375 38.8125 \nQ 27.59375 38.8125 30.265625 39.328125 \nQ 32.953125 39.84375 35.171875 41.1875 \nQ 37.40625 42.53125 38.84375 44.828125 \nQ 40.28125 47.125 40.28125 50.6875 \nQ 40.28125 56.203125 37.03125 59.390625 \nQ 33.796875 62.59375 27.390625 62.59375 \nQ 21.578125 62.59375 17.984375 59.609375 \nQ 14.40625 56.640625 13.8125 51.21875 \nL 4.984375 51.90625 \nQ 5.515625 56.453125 7.46875 59.8125 \nQ 9.421875 63.1875 12.421875 65.40625 \nQ 15.4375 67.625 19.28125 68.71875 \nQ 23.140625 69.828125 27.484375 69.828125 \nQ 33.25 69.828125 37.390625 68.375 \nQ 41.546875 66.9375 44.1875 64.46875 \nQ 46.828125 62.015625 48.0625 58.6875 \nQ 49.3125 55.375 49.3125 51.609375 \nQ 49.3125 48.578125 48.484375 45.9375 \nQ 47.65625 43.3125 45.890625 41.203125 \nQ 44.140625 39.109375 41.421875 37.59375 \nQ 38.71875 36.078125 34.90625 35.296875 \nL 34.90625 35.109375 \nQ 39.0625 34.671875 42.140625 33.21875 \nQ 45.21875 31.78125 47.21875 29.625 \nQ 49.21875 27.484375 50.21875 24.75 \nQ 51.21875 22.015625 51.21875 19 \nz\n\" id=\"LiberationSans-51\"/>\n      </defs>\n      <g style=\"fill:#262626;\" transform=\"translate(202.19822 238.886875)scale(0.1 -0.1)\">\n       <use xlink:href=\"#LiberationSans-51\"/>\n       <use x=\"55.615234\" xlink:href=\"#LiberationSans-48\"/>\n      </g>\n     </g>\n    </g>\n    <g id=\"xtick_5\">\n     <g id=\"line2d_9\">\n      <path clip-path=\"url(#pd4b4b40b2d)\" d=\"M 253.186565 224.64 \nL 253.186565 7.2 \n\" style=\"fill:none;stroke:#ffffff;stroke-linecap:round;\"/>\n     </g>\n     <g id=\"line2d_10\"/>\n     <g id=\"text_5\">\n      <!-- 40 -->\n      <defs>\n       <path d=\"M 43.015625 15.578125 \nL 43.015625 0 \nL 34.71875 0 \nL 34.71875 15.578125 \nL 2.296875 15.578125 \nL 2.296875 22.40625 \nL 33.796875 68.796875 \nL 43.015625 68.796875 \nL 43.015625 22.515625 \nL 52.6875 22.515625 \nL 52.6875 15.578125 \nz\nM 34.71875 58.890625 \nQ 34.625 58.640625 34.234375 57.9375 \nQ 33.84375 57.234375 33.34375 56.34375 \nQ 32.859375 55.46875 32.34375 54.5625 \nQ 31.84375 53.65625 31.453125 53.078125 \nL 13.8125 27.09375 \nQ 13.578125 26.703125 13.109375 26.0625 \nQ 12.640625 25.4375 12.15625 24.78125 \nQ 11.671875 24.125 11.171875 23.484375 \nQ 10.6875 22.859375 10.40625 22.515625 \nL 34.71875 22.515625 \nz\n\" id=\"LiberationSans-52\"/>\n      </defs>\n      <g style=\"fill:#262626;\" transform=\"translate(247.625628 238.886875)scale(0.1 -0.1)\">\n       <use xlink:href=\"#LiberationSans-52\"/>\n       <use x=\"55.615234\" xlink:href=\"#LiberationSans-48\"/>\n      </g>\n     </g>\n    </g>\n    <g id=\"xtick_6\">\n     <g id=\"line2d_11\">\n      <path clip-path=\"url(#pd4b4b40b2d)\" d=\"M 298.613974 224.64 \nL 298.613974 7.2 \n\" style=\"fill:none;stroke:#ffffff;stroke-linecap:round;\"/>\n     </g>\n     <g id=\"line2d_12\"/>\n     <g id=\"text_6\">\n      <!-- 50 -->\n      <defs>\n       <path d=\"M 51.421875 22.40625 \nQ 51.421875 17.234375 49.859375 12.9375 \nQ 48.296875 8.640625 45.21875 5.53125 \nQ 42.140625 2.4375 37.578125 0.71875 \nQ 33.015625 -0.984375 27 -0.984375 \nQ 21.578125 -0.984375 17.546875 0.28125 \nQ 13.53125 1.5625 10.734375 3.78125 \nQ 7.953125 6 6.3125 8.984375 \nQ 4.6875 11.96875 4 15.375 \nL 12.890625 16.40625 \nQ 13.421875 14.453125 14.390625 12.625 \nQ 15.375 10.796875 17.0625 9.34375 \nQ 18.75 7.90625 21.21875 7.046875 \nQ 23.6875 6.203125 27.203125 6.203125 \nQ 30.609375 6.203125 33.390625 7.25 \nQ 36.1875 8.296875 38.15625 10.34375 \nQ 40.140625 12.40625 41.203125 15.375 \nQ 42.28125 18.359375 42.28125 22.21875 \nQ 42.28125 25.390625 41.25 28.046875 \nQ 40.234375 30.71875 38.328125 32.640625 \nQ 36.421875 34.578125 33.65625 35.640625 \nQ 30.90625 36.71875 27.390625 36.71875 \nQ 25.203125 36.71875 23.34375 36.328125 \nQ 21.484375 35.9375 19.890625 35.25 \nQ 18.3125 34.578125 17.015625 33.671875 \nQ 15.71875 32.765625 14.59375 31.78125 \nL 6 31.78125 \nL 8.296875 68.796875 \nL 47.40625 68.796875 \nL 47.40625 61.328125 \nL 16.3125 61.328125 \nL 14.984375 39.5 \nQ 17.328125 41.3125 20.84375 42.59375 \nQ 24.359375 43.890625 29.203125 43.890625 \nQ 34.328125 43.890625 38.421875 42.328125 \nQ 42.53125 40.765625 45.40625 37.90625 \nQ 48.296875 35.0625 49.859375 31.109375 \nQ 51.421875 27.15625 51.421875 22.40625 \nz\n\" id=\"LiberationSans-53\"/>\n      </defs>\n      <g style=\"fill:#262626;\" transform=\"translate(293.053036 238.886875)scale(0.1 -0.1)\">\n       <use xlink:href=\"#LiberationSans-53\"/>\n       <use x=\"55.615234\" xlink:href=\"#LiberationSans-48\"/>\n      </g>\n     </g>\n    </g>\n    <g id=\"xtick_7\">\n     <g id=\"line2d_13\">\n      <path clip-path=\"url(#pd4b4b40b2d)\" d=\"M 344.041382 224.64 \nL 344.041382 7.2 \n\" style=\"fill:none;stroke:#ffffff;stroke-linecap:round;\"/>\n     </g>\n     <g id=\"line2d_14\"/>\n     <g id=\"text_7\">\n      <!-- 60 -->\n      <defs>\n       <path d=\"M 51.21875 22.515625 \nQ 51.21875 17.328125 49.78125 13 \nQ 48.34375 8.6875 45.53125 5.578125 \nQ 42.71875 2.484375 38.5625 0.75 \nQ 34.421875 -0.984375 29 -0.984375 \nQ 23 -0.984375 18.5 1.3125 \nQ 14.015625 3.609375 11.03125 7.921875 \nQ 8.0625 12.25 6.5625 18.53125 \nQ 5.078125 24.8125 5.078125 32.8125 \nQ 5.078125 42 6.765625 48.921875 \nQ 8.453125 55.859375 11.625 60.5 \nQ 14.796875 65.140625 19.359375 67.484375 \nQ 23.921875 69.828125 29.6875 69.828125 \nQ 33.203125 69.828125 36.28125 69.09375 \nQ 39.359375 68.359375 41.875 66.71875 \nQ 44.390625 65.09375 46.28125 62.40625 \nQ 48.1875 59.71875 49.3125 55.8125 \nL 40.921875 54.296875 \nQ 39.546875 58.734375 36.546875 60.71875 \nQ 33.546875 62.703125 29.59375 62.703125 \nQ 25.984375 62.703125 23.046875 60.984375 \nQ 20.125 59.28125 18.0625 55.875 \nQ 16.015625 52.484375 14.90625 47.359375 \nQ 13.8125 42.234375 13.8125 35.40625 \nQ 16.21875 39.84375 20.5625 42.15625 \nQ 24.90625 44.484375 30.515625 44.484375 \nQ 35.203125 44.484375 39.015625 42.96875 \nQ 42.828125 41.453125 45.53125 38.59375 \nQ 48.25 35.75 49.734375 31.671875 \nQ 51.21875 27.59375 51.21875 22.515625 \nz\nM 42.28125 22.125 \nQ 42.28125 25.6875 41.40625 28.5625 \nQ 40.53125 31.453125 38.765625 33.46875 \nQ 37.015625 35.5 34.421875 36.59375 \nQ 31.84375 37.703125 28.421875 37.703125 \nQ 26.03125 37.703125 23.578125 36.984375 \nQ 21.140625 36.28125 19.15625 34.6875 \nQ 17.1875 33.109375 15.9375 30.515625 \nQ 14.703125 27.9375 14.703125 24.21875 \nQ 14.703125 20.40625 15.671875 17.109375 \nQ 16.65625 13.8125 18.484375 11.375 \nQ 20.3125 8.9375 22.890625 7.515625 \nQ 25.484375 6.109375 28.71875 6.109375 \nQ 31.890625 6.109375 34.40625 7.203125 \nQ 36.921875 8.296875 38.671875 10.375 \nQ 40.4375 12.453125 41.359375 15.421875 \nQ 42.28125 18.40625 42.28125 22.125 \nz\n\" id=\"LiberationSans-54\"/>\n      </defs>\n      <g style=\"fill:#262626;\" transform=\"translate(338.480445 238.886875)scale(0.1 -0.1)\">\n       <use xlink:href=\"#LiberationSans-54\"/>\n       <use x=\"55.615234\" xlink:href=\"#LiberationSans-48\"/>\n      </g>\n     </g>\n    </g>\n    <g id=\"xtick_8\">\n     <g id=\"line2d_15\">\n      <path clip-path=\"url(#pd4b4b40b2d)\" d=\"M 389.468791 224.64 \nL 389.468791 7.2 \n\" style=\"fill:none;stroke:#ffffff;stroke-linecap:round;\"/>\n     </g>\n     <g id=\"line2d_16\"/>\n     <g id=\"text_8\">\n      <!-- 70 -->\n      <defs>\n       <path d=\"M 50.59375 61.671875 \nQ 45.40625 53.765625 41.0625 46.453125 \nQ 36.71875 39.15625 33.59375 31.75 \nQ 30.46875 24.359375 28.734375 16.578125 \nQ 27 8.796875 27 0 \nL 17.828125 0 \nQ 17.828125 8.25 19.78125 16.1875 \nQ 21.734375 24.125 25.046875 31.765625 \nQ 28.375 39.40625 32.765625 46.78125 \nQ 37.15625 54.15625 42.09375 61.328125 \nL 5.125 61.328125 \nL 5.125 68.796875 \nL 50.59375 68.796875 \nz\n\" id=\"LiberationSans-55\"/>\n      </defs>\n      <g style=\"fill:#262626;\" transform=\"translate(383.907853 238.886875)scale(0.1 -0.1)\">\n       <use xlink:href=\"#LiberationSans-55\"/>\n       <use x=\"55.615234\" xlink:href=\"#LiberationSans-48\"/>\n      </g>\n     </g>\n    </g>\n   </g>\n   <g id=\"matplotlib.axis_2\">\n    <g id=\"ytick_1\">\n     <g id=\"line2d_17\">\n      <path clip-path=\"url(#pd4b4b40b2d)\" d=\"M 56.25875 224.64 \nL 391.05875 224.64 \n\" style=\"fill:none;stroke:#ffffff;stroke-linecap:round;\"/>\n     </g>\n     <g id=\"line2d_18\"/>\n     <g id=\"text_9\">\n      <!-- 0 -->\n      <g style=\"fill:#262626;\" transform=\"translate(43.697812 228.263437)scale(0.1 -0.1)\">\n       <use xlink:href=\"#LiberationSans-48\"/>\n      </g>\n     </g>\n    </g>\n    <g id=\"ytick_2\">\n     <g id=\"line2d_19\">\n      <path clip-path=\"url(#pd4b4b40b2d)\" d=\"M 56.25875 194.686616 \nL 391.05875 194.686616 \n\" style=\"fill:none;stroke:#ffffff;stroke-linecap:round;\"/>\n     </g>\n     <g id=\"line2d_20\"/>\n     <g id=\"text_10\">\n      <!-- 2500 -->\n      <g style=\"fill:#262626;\" transform=\"translate(27.015 198.310054)scale(0.1 -0.1)\">\n       <use xlink:href=\"#LiberationSans-50\"/>\n       <use x=\"55.615234\" xlink:href=\"#LiberationSans-53\"/>\n       <use x=\"111.230469\" xlink:href=\"#LiberationSans-48\"/>\n       <use x=\"166.845703\" xlink:href=\"#LiberationSans-48\"/>\n      </g>\n     </g>\n    </g>\n    <g id=\"ytick_3\">\n     <g id=\"line2d_21\">\n      <path clip-path=\"url(#pd4b4b40b2d)\" d=\"M 56.25875 164.733232 \nL 391.05875 164.733232 \n\" style=\"fill:none;stroke:#ffffff;stroke-linecap:round;\"/>\n     </g>\n     <g id=\"line2d_22\"/>\n     <g id=\"text_11\">\n      <!-- 5000 -->\n      <g style=\"fill:#262626;\" transform=\"translate(27.015 168.35667)scale(0.1 -0.1)\">\n       <use xlink:href=\"#LiberationSans-53\"/>\n       <use x=\"55.615234\" xlink:href=\"#LiberationSans-48\"/>\n       <use x=\"111.230469\" xlink:href=\"#LiberationSans-48\"/>\n       <use x=\"166.845703\" xlink:href=\"#LiberationSans-48\"/>\n      </g>\n     </g>\n    </g>\n    <g id=\"ytick_4\">\n     <g id=\"line2d_23\">\n      <path clip-path=\"url(#pd4b4b40b2d)\" d=\"M 56.25875 134.779849 \nL 391.05875 134.779849 \n\" style=\"fill:none;stroke:#ffffff;stroke-linecap:round;\"/>\n     </g>\n     <g id=\"line2d_24\"/>\n     <g id=\"text_12\">\n      <!-- 7500 -->\n      <g style=\"fill:#262626;\" transform=\"translate(27.015 138.403286)scale(0.1 -0.1)\">\n       <use xlink:href=\"#LiberationSans-55\"/>\n       <use x=\"55.615234\" xlink:href=\"#LiberationSans-53\"/>\n       <use x=\"111.230469\" xlink:href=\"#LiberationSans-48\"/>\n       <use x=\"166.845703\" xlink:href=\"#LiberationSans-48\"/>\n      </g>\n     </g>\n    </g>\n    <g id=\"ytick_5\">\n     <g id=\"line2d_25\">\n      <path clip-path=\"url(#pd4b4b40b2d)\" d=\"M 56.25875 104.826465 \nL 391.05875 104.826465 \n\" style=\"fill:none;stroke:#ffffff;stroke-linecap:round;\"/>\n     </g>\n     <g id=\"line2d_26\"/>\n     <g id=\"text_13\">\n      <!-- 10000 -->\n      <g style=\"fill:#262626;\" transform=\"translate(21.454062 108.449902)scale(0.1 -0.1)\">\n       <use xlink:href=\"#LiberationSans-49\"/>\n       <use x=\"55.615234\" xlink:href=\"#LiberationSans-48\"/>\n       <use x=\"111.230469\" xlink:href=\"#LiberationSans-48\"/>\n       <use x=\"166.845703\" xlink:href=\"#LiberationSans-48\"/>\n       <use x=\"222.460938\" xlink:href=\"#LiberationSans-48\"/>\n      </g>\n     </g>\n    </g>\n    <g id=\"ytick_6\">\n     <g id=\"line2d_27\">\n      <path clip-path=\"url(#pd4b4b40b2d)\" d=\"M 56.25875 74.873081 \nL 391.05875 74.873081 \n\" style=\"fill:none;stroke:#ffffff;stroke-linecap:round;\"/>\n     </g>\n     <g id=\"line2d_28\"/>\n     <g id=\"text_14\">\n      <!-- 12500 -->\n      <g style=\"fill:#262626;\" transform=\"translate(21.454062 78.496518)scale(0.1 -0.1)\">\n       <use xlink:href=\"#LiberationSans-49\"/>\n       <use x=\"55.615234\" xlink:href=\"#LiberationSans-50\"/>\n       <use x=\"111.230469\" xlink:href=\"#LiberationSans-53\"/>\n       <use x=\"166.845703\" xlink:href=\"#LiberationSans-48\"/>\n       <use x=\"222.460938\" xlink:href=\"#LiberationSans-48\"/>\n      </g>\n     </g>\n    </g>\n    <g id=\"ytick_7\">\n     <g id=\"line2d_29\">\n      <path clip-path=\"url(#pd4b4b40b2d)\" d=\"M 56.25875 44.919697 \nL 391.05875 44.919697 \n\" style=\"fill:none;stroke:#ffffff;stroke-linecap:round;\"/>\n     </g>\n     <g id=\"line2d_30\"/>\n     <g id=\"text_15\">\n      <!-- 15000 -->\n      <g style=\"fill:#262626;\" transform=\"translate(21.454062 48.543135)scale(0.1 -0.1)\">\n       <use xlink:href=\"#LiberationSans-49\"/>\n       <use x=\"55.615234\" xlink:href=\"#LiberationSans-53\"/>\n       <use x=\"111.230469\" xlink:href=\"#LiberationSans-48\"/>\n       <use x=\"166.845703\" xlink:href=\"#LiberationSans-48\"/>\n       <use x=\"222.460938\" xlink:href=\"#LiberationSans-48\"/>\n      </g>\n     </g>\n    </g>\n    <g id=\"ytick_8\">\n     <g id=\"line2d_31\">\n      <path clip-path=\"url(#pd4b4b40b2d)\" d=\"M 56.25875 14.966313 \nL 391.05875 14.966313 \n\" style=\"fill:none;stroke:#ffffff;stroke-linecap:round;\"/>\n     </g>\n     <g id=\"line2d_32\"/>\n     <g id=\"text_16\">\n      <!-- 17500 -->\n      <g style=\"fill:#262626;\" transform=\"translate(21.454062 18.589751)scale(0.1 -0.1)\">\n       <use xlink:href=\"#LiberationSans-49\"/>\n       <use x=\"55.615234\" xlink:href=\"#LiberationSans-55\"/>\n       <use x=\"111.230469\" xlink:href=\"#LiberationSans-53\"/>\n       <use x=\"166.845703\" xlink:href=\"#LiberationSans-48\"/>\n       <use x=\"222.460938\" xlink:href=\"#LiberationSans-48\"/>\n      </g>\n     </g>\n    </g>\n    <g id=\"text_17\">\n     <!-- Frequency -->\n     <defs>\n      <path d=\"M 17.53125 61.1875 \nL 17.53125 35.59375 \nL 55.90625 35.59375 \nL 55.90625 27.875 \nL 17.53125 27.875 \nL 17.53125 0 \nL 8.203125 0 \nL 8.203125 68.796875 \nL 57.078125 68.796875 \nL 57.078125 61.1875 \nz\n\" id=\"LiberationSans-70\"/>\n      <path d=\"M 6.9375 0 \nL 6.9375 40.53125 \nQ 6.9375 42.1875 6.90625 43.921875 \nQ 6.890625 45.65625 6.828125 47.265625 \nQ 6.78125 48.875 6.734375 50.28125 \nQ 6.6875 51.703125 6.640625 52.828125 \nL 14.9375 52.828125 \nQ 14.984375 51.703125 15.0625 50.265625 \nQ 15.140625 48.828125 15.203125 47.3125 \nQ 15.28125 45.796875 15.296875 44.40625 \nQ 15.328125 43.015625 15.328125 42.046875 \nL 15.53125 42.046875 \nQ 16.453125 45.0625 17.5 47.28125 \nQ 18.5625 49.515625 19.96875 50.953125 \nQ 21.390625 52.390625 23.34375 53.09375 \nQ 25.296875 53.8125 28.078125 53.8125 \nQ 29.15625 53.8125 30.125 53.640625 \nQ 31.109375 53.46875 31.640625 53.328125 \nL 31.640625 45.265625 \nQ 30.765625 45.515625 29.59375 45.625 \nQ 28.421875 45.75 26.953125 45.75 \nQ 23.921875 45.75 21.796875 44.375 \nQ 19.671875 43.015625 18.328125 40.59375 \nQ 17 38.1875 16.359375 34.84375 \nQ 15.71875 31.5 15.71875 27.546875 \nL 15.71875 0 \nz\n\" id=\"LiberationSans-114\"/>\n      <path d=\"M 13.484375 24.5625 \nQ 13.484375 20.40625 14.328125 16.90625 \nQ 15.1875 13.421875 16.96875 10.90625 \nQ 18.75 8.40625 21.53125 7 \nQ 24.3125 5.609375 28.21875 5.609375 \nQ 33.9375 5.609375 37.375 7.90625 \nQ 40.828125 10.203125 42.046875 13.71875 \nL 49.75 11.53125 \nQ 48.921875 9.328125 47.4375 7.109375 \nQ 45.953125 4.890625 43.453125 3.09375 \nQ 40.96875 1.3125 37.234375 0.15625 \nQ 33.5 -0.984375 28.21875 -0.984375 \nQ 16.5 -0.984375 10.375 6 \nQ 4.25 12.984375 4.25 26.765625 \nQ 4.25 34.1875 6.09375 39.328125 \nQ 7.953125 44.484375 11.171875 47.703125 \nQ 14.40625 50.921875 18.703125 52.359375 \nQ 23 53.8125 27.875 53.8125 \nQ 34.515625 53.8125 38.984375 51.65625 \nQ 43.453125 49.515625 46.15625 45.71875 \nQ 48.875 41.9375 50.015625 36.8125 \nQ 51.171875 31.6875 51.171875 25.734375 \nL 51.171875 24.5625 \nz\nM 42.09375 31.296875 \nQ 41.359375 39.65625 37.84375 43.484375 \nQ 34.328125 47.3125 27.734375 47.3125 \nQ 25.53125 47.3125 23.109375 46.609375 \nQ 20.703125 45.90625 18.65625 44.09375 \nQ 16.609375 42.28125 15.1875 39.171875 \nQ 13.765625 36.078125 13.578125 31.296875 \nz\n\" id=\"LiberationSans-101\"/>\n      <path d=\"M 23.640625 -0.984375 \nQ 13.578125 -0.984375 8.890625 5.796875 \nQ 4.203125 12.59375 4.203125 26.171875 \nQ 4.203125 39.9375 9 46.875 \nQ 13.8125 53.8125 23.640625 53.8125 \nQ 26.90625 53.8125 29.421875 53.21875 \nQ 31.9375 52.640625 33.90625 51.484375 \nQ 35.890625 50.34375 37.375 48.625 \nQ 38.875 46.921875 40.09375 44.625 \nL 40.1875 44.625 \nQ 40.1875 45.84375 40.25 47.328125 \nQ 40.328125 48.828125 40.40625 50.140625 \nQ 40.484375 51.46875 40.578125 52.421875 \nQ 40.671875 53.375 40.765625 53.515625 \nL 49.21875 53.515625 \nQ 49.125 52.6875 49 49.171875 \nQ 48.875 45.65625 48.875 39.109375 \nL 48.875 -20.75 \nL 40.09375 -20.75 \nL 40.09375 0.6875 \nQ 40.09375 1.953125 40.109375 3.3125 \nQ 40.140625 4.6875 40.1875 5.90625 \nQ 40.234375 7.28125 40.28125 8.6875 \nL 40.1875 8.6875 \nQ 38.921875 6.203125 37.375 4.375 \nQ 35.84375 2.546875 33.84375 1.34375 \nQ 31.84375 0.140625 29.328125 -0.421875 \nQ 26.8125 -0.984375 23.640625 -0.984375 \nz\nM 40.09375 27.046875 \nQ 40.09375 32.8125 39.09375 36.71875 \nQ 38.09375 40.625 36.25 42.96875 \nQ 34.421875 45.3125 31.8125 46.3125 \nQ 29.203125 47.3125 25.984375 47.3125 \nQ 22.609375 47.3125 20.21875 46.0625 \nQ 17.828125 44.828125 16.328125 42.265625 \nQ 14.84375 39.703125 14.125 35.765625 \nQ 13.421875 31.84375 13.421875 26.46875 \nQ 13.421875 21.1875 14.078125 17.28125 \nQ 14.75 13.375 16.234375 10.828125 \nQ 17.71875 8.296875 20.09375 7.046875 \nQ 22.46875 5.8125 25.875 5.8125 \nQ 28.8125 5.8125 31.390625 6.71875 \nQ 33.984375 7.625 35.90625 9.984375 \nQ 37.84375 12.359375 38.96875 16.484375 \nQ 40.09375 20.609375 40.09375 27.046875 \nz\n\" id=\"LiberationSans-113\"/>\n      <path d=\"M 15.328125 52.828125 \nL 15.328125 19.34375 \nQ 15.328125 15.484375 15.890625 12.890625 \nQ 16.453125 10.296875 17.71875 8.703125 \nQ 19 7.125 21.0625 6.46875 \nQ 23.140625 5.8125 26.21875 5.8125 \nQ 29.34375 5.8125 31.859375 6.90625 \nQ 34.375 8.015625 36.15625 10.078125 \nQ 37.9375 12.15625 38.90625 15.203125 \nQ 39.890625 18.265625 39.890625 22.21875 \nL 39.890625 52.828125 \nL 48.6875 52.828125 \nL 48.6875 11.28125 \nQ 48.6875 9.625 48.703125 7.78125 \nQ 48.734375 5.953125 48.78125 4.3125 \nQ 48.828125 2.6875 48.875 1.515625 \nQ 48.921875 0.34375 48.96875 0 \nL 40.671875 0 \nQ 40.625 0.25 40.578125 1.3125 \nQ 40.53125 2.390625 40.453125 3.78125 \nQ 40.375 5.171875 40.328125 6.609375 \nQ 40.28125 8.0625 40.28125 9.03125 \nL 40.140625 9.03125 \nQ 38.875 6.734375 37.359375 4.875 \nQ 35.84375 3.03125 33.84375 1.734375 \nQ 31.84375 0.4375 29.25 -0.265625 \nQ 26.65625 -0.984375 23.25 -0.984375 \nQ 18.84375 -0.984375 15.671875 0.09375 \nQ 12.5 1.171875 10.453125 3.421875 \nQ 8.40625 5.671875 7.453125 9.1875 \nQ 6.5 12.703125 6.5 17.625 \nL 6.5 52.828125 \nz\n\" id=\"LiberationSans-117\"/>\n      <path d=\"M 40.28125 0 \nL 40.28125 33.5 \nQ 40.28125 37.359375 39.71875 39.9375 \nQ 39.15625 42.53125 37.890625 44.109375 \nQ 36.625 45.703125 34.546875 46.359375 \nQ 32.46875 47.015625 29.390625 47.015625 \nQ 26.265625 47.015625 23.75 45.921875 \nQ 21.234375 44.828125 19.453125 42.75 \nQ 17.671875 40.671875 16.6875 37.625 \nQ 15.71875 34.578125 15.71875 30.609375 \nL 15.71875 0 \nL 6.9375 0 \nL 6.9375 41.546875 \nQ 6.9375 43.21875 6.90625 45.046875 \nQ 6.890625 46.875 6.828125 48.5 \nQ 6.78125 50.140625 6.734375 51.3125 \nQ 6.6875 52.484375 6.640625 52.828125 \nL 14.9375 52.828125 \nQ 14.984375 52.59375 15.03125 51.515625 \nQ 15.09375 50.4375 15.15625 49.046875 \nQ 15.234375 47.65625 15.28125 46.21875 \nQ 15.328125 44.78125 15.328125 43.796875 \nL 15.484375 43.796875 \nQ 16.75 46.09375 18.265625 47.953125 \nQ 19.78125 49.8125 21.78125 51.09375 \nQ 23.78125 52.390625 26.359375 53.09375 \nQ 28.953125 53.8125 32.375 53.8125 \nQ 36.765625 53.8125 39.9375 52.734375 \nQ 43.109375 51.65625 45.15625 49.40625 \nQ 47.21875 47.171875 48.171875 43.625 \nQ 49.125 40.09375 49.125 35.203125 \nL 49.125 0 \nz\n\" id=\"LiberationSans-110\"/>\n      <path d=\"M 13.421875 26.65625 \nQ 13.421875 22.125 14.078125 18.3125 \nQ 14.75 14.5 16.3125 11.734375 \nQ 17.875 8.984375 20.4375 7.46875 \nQ 23 5.953125 26.765625 5.953125 \nQ 31.453125 5.953125 34.59375 8.484375 \nQ 37.75 11.03125 38.484375 16.3125 \nL 47.359375 15.71875 \nQ 46.921875 12.453125 45.453125 9.421875 \nQ 44 6.390625 41.484375 4.09375 \nQ 38.96875 1.8125 35.34375 0.40625 \nQ 31.734375 -0.984375 27 -0.984375 \nQ 20.796875 -0.984375 16.453125 1.109375 \nQ 12.109375 3.21875 9.390625 6.90625 \nQ 6.6875 10.59375 5.46875 15.59375 \nQ 4.25 20.609375 4.25 26.46875 \nQ 4.25 31.78125 5.125 35.859375 \nQ 6 39.9375 7.59375 42.984375 \nQ 9.1875 46.046875 11.328125 48.125 \nQ 13.484375 50.203125 15.984375 51.4375 \nQ 18.5 52.6875 21.28125 53.25 \nQ 24.078125 53.8125 26.90625 53.8125 \nQ 31.34375 53.8125 34.8125 52.59375 \nQ 38.28125 51.375 40.796875 49.25 \nQ 43.3125 47.125 44.875 44.234375 \nQ 46.4375 41.359375 47.078125 38.03125 \nL 38.03125 37.359375 \nQ 37.359375 41.75 34.5625 44.328125 \nQ 31.78125 46.921875 26.65625 46.921875 \nQ 22.90625 46.921875 20.390625 45.671875 \nQ 17.875 44.4375 16.3125 41.921875 \nQ 14.75 39.40625 14.078125 35.59375 \nQ 13.421875 31.78125 13.421875 26.65625 \nz\n\" id=\"LiberationSans-99\"/>\n      <path d=\"M 29.5 0 \nQ 27.640625 -4.78125 25.703125 -8.609375 \nQ 23.78125 -12.453125 21.390625 -15.15625 \nQ 19 -17.875 16.0625 -19.3125 \nQ 13.140625 -20.75 9.328125 -20.75 \nQ 7.671875 -20.75 6.25 -20.65625 \nQ 4.828125 -20.5625 3.265625 -20.21875 \nL 3.265625 -13.625 \nQ 4.203125 -13.765625 5.375 -13.84375 \nQ 6.546875 -13.921875 7.375 -13.921875 \nQ 11.234375 -13.921875 14.546875 -11.03125 \nQ 17.875 -8.15625 20.359375 -1.859375 \nL 21.1875 0.25 \nL 0.25 52.828125 \nL 9.625 52.828125 \nL 20.75 23.640625 \nQ 21.234375 22.3125 21.984375 20.109375 \nQ 22.75 17.921875 23.5 15.71875 \nQ 24.265625 13.53125 24.84375 11.765625 \nQ 25.4375 10.015625 25.53125 9.578125 \nQ 25.6875 10.109375 26.25 11.6875 \nQ 26.8125 13.28125 27.515625 15.234375 \nQ 28.21875 17.1875 28.953125 19.1875 \nQ 29.6875 21.1875 30.171875 22.65625 \nL 40.53125 52.828125 \nL 49.8125 52.828125 \nz\n\" id=\"LiberationSans-121\"/>\n     </defs>\n     <g style=\"fill:#262626;\" transform=\"translate(15.171562 141.903203)rotate(-90)scale(0.11 -0.11)\">\n      <use xlink:href=\"#LiberationSans-70\"/>\n      <use x=\"61.083984\" xlink:href=\"#LiberationSans-114\"/>\n      <use x=\"94.384766\" xlink:href=\"#LiberationSans-101\"/>\n      <use x=\"150\" xlink:href=\"#LiberationSans-113\"/>\n      <use x=\"205.615234\" xlink:href=\"#LiberationSans-117\"/>\n      <use x=\"261.230469\" xlink:href=\"#LiberationSans-101\"/>\n      <use x=\"316.845703\" xlink:href=\"#LiberationSans-110\"/>\n      <use x=\"372.460938\" xlink:href=\"#LiberationSans-99\"/>\n      <use x=\"422.460938\" xlink:href=\"#LiberationSans-121\"/>\n     </g>\n    </g>\n   </g>\n   <g id=\"patch_3\">\n    <path clip-path=\"url(#pd4b4b40b2d)\" d=\"M 71.476932 224.64 \nL 74.520568 224.64 \nL 74.520568 224.604056 \nL 71.476932 224.604056 \nz\n\" style=\"fill:#4c72b0;\"/>\n   </g>\n   <g id=\"patch_4\">\n    <path clip-path=\"url(#pd4b4b40b2d)\" d=\"M 74.520568 224.64 \nL 77.564205 224.64 \nL 77.564205 224.64 \nL 74.520568 224.64 \nz\n\" style=\"fill:#4c72b0;\"/>\n   </g>\n   <g id=\"patch_5\">\n    <path clip-path=\"url(#pd4b4b40b2d)\" d=\"M 77.564205 224.64 \nL 80.607841 224.64 \nL 80.607841 159.569269 \nL 77.564205 159.569269 \nz\n\" style=\"fill:#4c72b0;\"/>\n   </g>\n   <g id=\"patch_6\">\n    <path clip-path=\"url(#pd4b4b40b2d)\" d=\"M 80.607841 224.64 \nL 83.651477 224.64 \nL 83.651477 224.64 \nL 80.607841 224.64 \nz\n\" style=\"fill:#4c72b0;\"/>\n   </g>\n   <g id=\"patch_7\">\n    <path clip-path=\"url(#pd4b4b40b2d)\" d=\"M 83.651477 224.64 \nL 86.695114 224.64 \nL 86.695114 155.016355 \nL 83.651477 155.016355 \nz\n\" style=\"fill:#4c72b0;\"/>\n   </g>\n   <g id=\"patch_8\">\n    <path clip-path=\"url(#pd4b4b40b2d)\" d=\"M 86.695114 224.64 \nL 89.73875 224.64 \nL 89.73875 141.884791 \nL 86.695114 141.884791 \nz\n\" style=\"fill:#4c72b0;\"/>\n   </g>\n   <g id=\"patch_9\">\n    <path clip-path=\"url(#pd4b4b40b2d)\" d=\"M 89.73875 224.64 \nL 92.782386 224.64 \nL 92.782386 224.64 \nL 89.73875 224.64 \nz\n\" style=\"fill:#4c72b0;\"/>\n   </g>\n   <g id=\"patch_10\">\n    <path clip-path=\"url(#pd4b4b40b2d)\" d=\"M 92.782386 224.64 \nL 95.826023 224.64 \nL 95.826023 103.268889 \nL 92.782386 103.268889 \nz\n\" style=\"fill:#4c72b0;\"/>\n   </g>\n   <g id=\"patch_11\">\n    <path clip-path=\"url(#pd4b4b40b2d)\" d=\"M 95.826023 224.64 \nL 98.869659 224.64 \nL 98.869659 49.376761 \nL 95.826023 49.376761 \nz\n\" style=\"fill:#4c72b0;\"/>\n   </g>\n   <g id=\"patch_12\">\n    <path clip-path=\"url(#pd4b4b40b2d)\" d=\"M 98.869659 224.64 \nL 101.913295 224.64 \nL 101.913295 224.64 \nL 98.869659 224.64 \nz\n\" style=\"fill:#4c72b0;\"/>\n   </g>\n   <g id=\"patch_13\">\n    <path clip-path=\"url(#pd4b4b40b2d)\" d=\"M 101.913295 224.64 \nL 104.956932 224.64 \nL 104.956932 17.554286 \nL 101.913295 17.554286 \nz\n\" style=\"fill:#4c72b0;\"/>\n   </g>\n   <g id=\"patch_14\">\n    <path clip-path=\"url(#pd4b4b40b2d)\" d=\"M 104.956932 224.64 \nL 108.000568 224.64 \nL 108.000568 25.941233 \nL 104.956932 25.941233 \nz\n\" style=\"fill:#4c72b0;\"/>\n   </g>\n   <g id=\"patch_15\">\n    <path clip-path=\"url(#pd4b4b40b2d)\" d=\"M 108.000568 224.64 \nL 111.044205 224.64 \nL 111.044205 224.64 \nL 108.000568 224.64 \nz\n\" style=\"fill:#4c72b0;\"/>\n   </g>\n   <g id=\"patch_16\">\n    <path clip-path=\"url(#pd4b4b40b2d)\" d=\"M 111.044205 224.64 \nL 114.087841 224.64 \nL 114.087841 41.948321 \nL 111.044205 41.948321 \nz\n\" style=\"fill:#4c72b0;\"/>\n   </g>\n   <g id=\"patch_17\">\n    <path clip-path=\"url(#pd4b4b40b2d)\" d=\"M 114.087841 224.64 \nL 117.131477 224.64 \nL 117.131477 63.634571 \nL 114.087841 63.634571 \nz\n\" style=\"fill:#4c72b0;\"/>\n   </g>\n   <g id=\"patch_18\">\n    <path clip-path=\"url(#pd4b4b40b2d)\" d=\"M 117.131477 224.64 \nL 120.175114 224.64 \nL 120.175114 224.64 \nL 117.131477 224.64 \nz\n\" style=\"fill:#4c72b0;\"/>\n   </g>\n   <g id=\"patch_19\">\n    <path clip-path=\"url(#pd4b4b40b2d)\" d=\"M 120.175114 224.64 \nL 123.21875 224.64 \nL 123.21875 94.905904 \nL 120.175114 94.905904 \nz\n\" style=\"fill:#4c72b0;\"/>\n   </g>\n   <g id=\"patch_20\">\n    <path clip-path=\"url(#pd4b4b40b2d)\" d=\"M 123.21875 224.64 \nL 126.262386 224.64 \nL 126.262386 125.278635 \nL 123.21875 125.278635 \nz\n\" style=\"fill:#4c72b0;\"/>\n   </g>\n   <g id=\"patch_21\">\n    <path clip-path=\"url(#pd4b4b40b2d)\" d=\"M 126.262386 224.64 \nL 129.306023 224.64 \nL 129.306023 224.64 \nL 126.262386 224.64 \nz\n\" style=\"fill:#4c72b0;\"/>\n   </g>\n   <g id=\"patch_22\">\n    <path clip-path=\"url(#pd4b4b40b2d)\" d=\"M 129.306023 224.64 \nL 132.349659 224.64 \nL 132.349659 153.20717 \nL 129.306023 153.20717 \nz\n\" style=\"fill:#4c72b0;\"/>\n   </g>\n   <g id=\"patch_23\">\n    <path clip-path=\"url(#pd4b4b40b2d)\" d=\"M 132.349659 224.64 \nL 135.393295 224.64 \nL 135.393295 171.167219 \nL 132.349659 171.167219 \nz\n\" style=\"fill:#4c72b0;\"/>\n   </g>\n   <g id=\"patch_24\">\n    <path clip-path=\"url(#pd4b4b40b2d)\" d=\"M 135.393295 224.64 \nL 138.436932 224.64 \nL 138.436932 224.64 \nL 135.393295 224.64 \nz\n\" style=\"fill:#4c72b0;\"/>\n   </g>\n   <g id=\"patch_25\">\n    <path clip-path=\"url(#pd4b4b40b2d)\" d=\"M 138.436932 224.64 \nL 141.480568 224.64 \nL 141.480568 186.599203 \nL 138.436932 186.599203 \nz\n\" style=\"fill:#4c72b0;\"/>\n   </g>\n   <g id=\"patch_26\">\n    <path clip-path=\"url(#pd4b4b40b2d)\" d=\"M 141.480568 224.64 \nL 144.524205 224.64 \nL 144.524205 195.417479 \nL 141.480568 195.417479 \nz\n\" style=\"fill:#4c72b0;\"/>\n   </g>\n   <g id=\"patch_27\">\n    <path clip-path=\"url(#pd4b4b40b2d)\" d=\"M 144.524205 224.64 \nL 147.567841 224.64 \nL 147.567841 224.64 \nL 144.524205 224.64 \nz\n\" style=\"fill:#4c72b0;\"/>\n   </g>\n   <g id=\"patch_28\">\n    <path clip-path=\"url(#pd4b4b40b2d)\" d=\"M 147.567841 224.64 \nL 150.611477 224.64 \nL 150.611477 203.313191 \nL 147.567841 203.313191 \nz\n\" style=\"fill:#4c72b0;\"/>\n   </g>\n   <g id=\"patch_29\">\n    <path clip-path=\"url(#pd4b4b40b2d)\" d=\"M 150.611477 224.64 \nL 153.655114 224.64 \nL 153.655114 208.393285 \nL 150.611477 208.393285 \nz\n\" style=\"fill:#4c72b0;\"/>\n   </g>\n   <g id=\"patch_30\">\n    <path clip-path=\"url(#pd4b4b40b2d)\" d=\"M 153.655114 224.64 \nL 156.69875 224.64 \nL 156.69875 224.64 \nL 153.655114 224.64 \nz\n\" style=\"fill:#4c72b0;\"/>\n   </g>\n   <g id=\"patch_31\">\n    <path clip-path=\"url(#pd4b4b40b2d)\" d=\"M 156.69875 224.64 \nL 159.742386 224.64 \nL 159.742386 213.04205 \nL 156.69875 213.04205 \nz\n\" style=\"fill:#4c72b0;\"/>\n   </g>\n   <g id=\"patch_32\">\n    <path clip-path=\"url(#pd4b4b40b2d)\" d=\"M 159.742386 224.64 \nL 162.786023 224.64 \nL 162.786023 215.474265 \nL 159.742386 215.474265 \nz\n\" style=\"fill:#4c72b0;\"/>\n   </g>\n   <g id=\"patch_33\">\n    <path clip-path=\"url(#pd4b4b40b2d)\" d=\"M 162.786023 224.64 \nL 165.829659 224.64 \nL 165.829659 224.64 \nL 162.786023 224.64 \nz\n\" style=\"fill:#4c72b0;\"/>\n   </g>\n   <g id=\"patch_34\">\n    <path clip-path=\"url(#pd4b4b40b2d)\" d=\"M 165.829659 224.64 \nL 168.873295 224.64 \nL 168.873295 217.594964 \nL 165.829659 217.594964 \nz\n\" style=\"fill:#4c72b0;\"/>\n   </g>\n   <g id=\"patch_35\">\n    <path clip-path=\"url(#pd4b4b40b2d)\" d=\"M 168.873295 224.64 \nL 171.916932 224.64 \nL 171.916932 219.260372 \nL 168.873295 219.260372 \nz\n\" style=\"fill:#4c72b0;\"/>\n   </g>\n   <g id=\"patch_36\">\n    <path clip-path=\"url(#pd4b4b40b2d)\" d=\"M 171.916932 224.64 \nL 174.960568 224.64 \nL 174.960568 224.64 \nL 171.916932 224.64 \nz\n\" style=\"fill:#4c72b0;\"/>\n   </g>\n   <g id=\"patch_37\">\n    <path clip-path=\"url(#pd4b4b40b2d)\" d=\"M 174.960568 224.64 \nL 178.004205 224.64 \nL 178.004205 220.242843 \nL 174.960568 220.242843 \nz\n\" style=\"fill:#4c72b0;\"/>\n   </g>\n   <g id=\"patch_38\">\n    <path clip-path=\"url(#pd4b4b40b2d)\" d=\"M 178.004205 224.64 \nL 181.047841 224.64 \nL 181.047841 221.129463 \nL 178.004205 221.129463 \nz\n\" style=\"fill:#4c72b0;\"/>\n   </g>\n   <g id=\"patch_39\">\n    <path clip-path=\"url(#pd4b4b40b2d)\" d=\"M 181.047841 224.64 \nL 184.091477 224.64 \nL 184.091477 224.64 \nL 181.047841 224.64 \nz\n\" style=\"fill:#4c72b0;\"/>\n   </g>\n   <g id=\"patch_40\">\n    <path clip-path=\"url(#pd4b4b40b2d)\" d=\"M 184.091477 224.64 \nL 187.135114 224.64 \nL 187.135114 221.89627 \nL 184.091477 221.89627 \nz\n\" style=\"fill:#4c72b0;\"/>\n   </g>\n   <g id=\"patch_41\">\n    <path clip-path=\"url(#pd4b4b40b2d)\" d=\"M 187.135114 224.64 \nL 190.17875 224.64 \nL 190.17875 222.016084 \nL 187.135114 222.016084 \nz\n\" style=\"fill:#4c72b0;\"/>\n   </g>\n   <g id=\"patch_42\">\n    <path clip-path=\"url(#pd4b4b40b2d)\" d=\"M 190.17875 224.64 \nL 193.222386 224.64 \nL 193.222386 224.64 \nL 190.17875 224.64 \nz\n\" style=\"fill:#4c72b0;\"/>\n   </g>\n   <g id=\"patch_43\">\n    <path clip-path=\"url(#pd4b4b40b2d)\" d=\"M 193.222386 224.64 \nL 196.266023 224.64 \nL 196.266023 222.711002 \nL 193.222386 222.711002 \nz\n\" style=\"fill:#4c72b0;\"/>\n   </g>\n   <g id=\"patch_44\">\n    <path clip-path=\"url(#pd4b4b40b2d)\" d=\"M 196.266023 224.64 \nL 199.309659 224.64 \nL 199.309659 223.022517 \nL 196.266023 223.022517 \nz\n\" style=\"fill:#4c72b0;\"/>\n   </g>\n   <g id=\"patch_45\">\n    <path clip-path=\"url(#pd4b4b40b2d)\" d=\"M 199.309659 224.64 \nL 202.353295 224.64 \nL 202.353295 224.64 \nL 199.309659 224.64 \nz\n\" style=\"fill:#4c72b0;\"/>\n   </g>\n   <g id=\"patch_46\">\n    <path clip-path=\"url(#pd4b4b40b2d)\" d=\"M 202.353295 224.64 \nL 205.396932 224.64 \nL 205.396932 223.48979 \nL 202.353295 223.48979 \nz\n\" style=\"fill:#4c72b0;\"/>\n   </g>\n   <g id=\"patch_47\">\n    <path clip-path=\"url(#pd4b4b40b2d)\" d=\"M 205.396932 224.64 \nL 208.440568 224.64 \nL 208.440568 223.645548 \nL 205.396932 223.645548 \nz\n\" style=\"fill:#4c72b0;\"/>\n   </g>\n   <g id=\"patch_48\">\n    <path clip-path=\"url(#pd4b4b40b2d)\" d=\"M 208.440568 224.64 \nL 211.484205 224.64 \nL 211.484205 224.64 \nL 208.440568 224.64 \nz\n\" style=\"fill:#4c72b0;\"/>\n   </g>\n   <g id=\"patch_49\">\n    <path clip-path=\"url(#pd4b4b40b2d)\" d=\"M 211.484205 224.64 \nL 214.527841 224.64 \nL 214.527841 223.837249 \nL 211.484205 223.837249 \nz\n\" style=\"fill:#4c72b0;\"/>\n   </g>\n   <g id=\"patch_50\">\n    <path clip-path=\"url(#pd4b4b40b2d)\" d=\"M 214.527841 224.64 \nL 217.571477 224.64 \nL 217.571477 223.981026 \nL 214.527841 223.981026 \nz\n\" style=\"fill:#4c72b0;\"/>\n   </g>\n   <g id=\"patch_51\">\n    <path clip-path=\"url(#pd4b4b40b2d)\" d=\"M 217.571477 224.64 \nL 220.615114 224.64 \nL 220.615114 224.64 \nL 217.571477 224.64 \nz\n\" style=\"fill:#4c72b0;\"/>\n   </g>\n   <g id=\"patch_52\">\n    <path clip-path=\"url(#pd4b4b40b2d)\" d=\"M 220.615114 224.64 \nL 223.65875 224.64 \nL 223.65875 224.160746 \nL 220.615114 224.160746 \nz\n\" style=\"fill:#4c72b0;\"/>\n   </g>\n   <g id=\"patch_53\">\n    <path clip-path=\"url(#pd4b4b40b2d)\" d=\"M 223.65875 224.64 \nL 226.702386 224.64 \nL 226.702386 224.088858 \nL 223.65875 224.088858 \nz\n\" style=\"fill:#4c72b0;\"/>\n   </g>\n   <g id=\"patch_54\">\n    <path clip-path=\"url(#pd4b4b40b2d)\" d=\"M 226.702386 224.64 \nL 229.746023 224.64 \nL 229.746023 224.64 \nL 226.702386 224.64 \nz\n\" style=\"fill:#4c72b0;\"/>\n   </g>\n   <g id=\"patch_55\">\n    <path clip-path=\"url(#pd4b4b40b2d)\" d=\"M 229.746023 224.64 \nL 232.789659 224.64 \nL 232.789659 224.19669 \nL 229.746023 224.19669 \nz\n\" style=\"fill:#4c72b0;\"/>\n   </g>\n   <g id=\"patch_56\">\n    <path clip-path=\"url(#pd4b4b40b2d)\" d=\"M 232.789659 224.64 \nL 235.833295 224.64 \nL 235.833295 224.280559 \nL 232.789659 224.280559 \nz\n\" style=\"fill:#4c72b0;\"/>\n   </g>\n   <g id=\"patch_57\">\n    <path clip-path=\"url(#pd4b4b40b2d)\" d=\"M 235.833295 224.64 \nL 238.876932 224.64 \nL 238.876932 224.64 \nL 235.833295 224.64 \nz\n\" style=\"fill:#4c72b0;\"/>\n   </g>\n   <g id=\"patch_58\">\n    <path clip-path=\"url(#pd4b4b40b2d)\" d=\"M 238.876932 224.64 \nL 241.920568 224.64 \nL 241.920568 224.304522 \nL 238.876932 224.304522 \nz\n\" style=\"fill:#4c72b0;\"/>\n   </g>\n   <g id=\"patch_59\">\n    <path clip-path=\"url(#pd4b4b40b2d)\" d=\"M 241.920568 224.64 \nL 244.964205 224.64 \nL 244.964205 224.304522 \nL 241.920568 224.304522 \nz\n\" style=\"fill:#4c72b0;\"/>\n   </g>\n   <g id=\"patch_60\">\n    <path clip-path=\"url(#pd4b4b40b2d)\" d=\"M 244.964205 224.64 \nL 248.007841 224.64 \nL 248.007841 224.64 \nL 244.964205 224.64 \nz\n\" style=\"fill:#4c72b0;\"/>\n   </g>\n   <g id=\"patch_61\">\n    <path clip-path=\"url(#pd4b4b40b2d)\" d=\"M 248.007841 224.64 \nL 251.051477 224.64 \nL 251.051477 224.388392 \nL 248.007841 224.388392 \nz\n\" style=\"fill:#4c72b0;\"/>\n   </g>\n   <g id=\"patch_62\">\n    <path clip-path=\"url(#pd4b4b40b2d)\" d=\"M 251.051477 224.64 \nL 254.095114 224.64 \nL 254.095114 224.520186 \nL 251.051477 224.520186 \nz\n\" style=\"fill:#4c72b0;\"/>\n   </g>\n   <g id=\"patch_63\">\n    <path clip-path=\"url(#pd4b4b40b2d)\" d=\"M 254.095114 224.64 \nL 257.13875 224.64 \nL 257.13875 224.64 \nL 254.095114 224.64 \nz\n\" style=\"fill:#4c72b0;\"/>\n   </g>\n   <g id=\"patch_64\">\n    <path clip-path=\"url(#pd4b4b40b2d)\" d=\"M 257.13875 224.64 \nL 260.182386 224.64 \nL 260.182386 224.436317 \nL 257.13875 224.436317 \nz\n\" style=\"fill:#4c72b0;\"/>\n   </g>\n   <g id=\"patch_65\">\n    <path clip-path=\"url(#pd4b4b40b2d)\" d=\"M 260.182386 224.64 \nL 263.226023 224.64 \nL 263.226023 224.508205 \nL 260.182386 224.508205 \nz\n\" style=\"fill:#4c72b0;\"/>\n   </g>\n   <g id=\"patch_66\">\n    <path clip-path=\"url(#pd4b4b40b2d)\" d=\"M 263.226023 224.64 \nL 266.269659 224.64 \nL 266.269659 224.64 \nL 263.226023 224.64 \nz\n\" style=\"fill:#4c72b0;\"/>\n   </g>\n   <g id=\"patch_67\">\n    <path clip-path=\"url(#pd4b4b40b2d)\" d=\"M 266.269659 224.64 \nL 269.313295 224.64 \nL 269.313295 224.436317 \nL 266.269659 224.436317 \nz\n\" style=\"fill:#4c72b0;\"/>\n   </g>\n   <g id=\"patch_68\">\n    <path clip-path=\"url(#pd4b4b40b2d)\" d=\"M 269.313295 224.64 \nL 272.356932 224.64 \nL 272.356932 224.508205 \nL 269.313295 224.508205 \nz\n\" style=\"fill:#4c72b0;\"/>\n   </g>\n   <g id=\"patch_69\">\n    <path clip-path=\"url(#pd4b4b40b2d)\" d=\"M 272.356932 224.64 \nL 275.400568 224.64 \nL 275.400568 224.64 \nL 272.356932 224.64 \nz\n\" style=\"fill:#4c72b0;\"/>\n   </g>\n   <g id=\"patch_70\">\n    <path clip-path=\"url(#pd4b4b40b2d)\" d=\"M 275.400568 224.64 \nL 278.444205 224.64 \nL 278.444205 224.520186 \nL 275.400568 224.520186 \nz\n\" style=\"fill:#4c72b0;\"/>\n   </g>\n   <g id=\"patch_71\">\n    <path clip-path=\"url(#pd4b4b40b2d)\" d=\"M 278.444205 224.64 \nL 281.487841 224.64 \nL 281.487841 224.616037 \nL 278.444205 224.616037 \nz\n\" style=\"fill:#4c72b0;\"/>\n   </g>\n   <g id=\"patch_72\">\n    <path clip-path=\"url(#pd4b4b40b2d)\" d=\"M 281.487841 224.64 \nL 284.531477 224.64 \nL 284.531477 224.64 \nL 281.487841 224.64 \nz\n\" style=\"fill:#4c72b0;\"/>\n   </g>\n   <g id=\"patch_73\">\n    <path clip-path=\"url(#pd4b4b40b2d)\" d=\"M 284.531477 224.64 \nL 287.575114 224.64 \nL 287.575114 224.544149 \nL 284.531477 224.544149 \nz\n\" style=\"fill:#4c72b0;\"/>\n   </g>\n   <g id=\"patch_74\">\n    <path clip-path=\"url(#pd4b4b40b2d)\" d=\"M 287.575114 224.64 \nL 290.61875 224.64 \nL 290.61875 224.532168 \nL 287.575114 224.532168 \nz\n\" style=\"fill:#4c72b0;\"/>\n   </g>\n   <g id=\"patch_75\">\n    <path clip-path=\"url(#pd4b4b40b2d)\" d=\"M 290.61875 224.64 \nL 293.662386 224.64 \nL 293.662386 224.64 \nL 290.61875 224.64 \nz\n\" style=\"fill:#4c72b0;\"/>\n   </g>\n   <g id=\"patch_76\">\n    <path clip-path=\"url(#pd4b4b40b2d)\" d=\"M 293.662386 224.64 \nL 296.706023 224.64 \nL 296.706023 224.532168 \nL 293.662386 224.532168 \nz\n\" style=\"fill:#4c72b0;\"/>\n   </g>\n   <g id=\"patch_77\">\n    <path clip-path=\"url(#pd4b4b40b2d)\" d=\"M 296.706023 224.64 \nL 299.749659 224.64 \nL 299.749659 224.568112 \nL 296.706023 224.568112 \nz\n\" style=\"fill:#4c72b0;\"/>\n   </g>\n   <g id=\"patch_78\">\n    <path clip-path=\"url(#pd4b4b40b2d)\" d=\"M 299.749659 224.64 \nL 302.793295 224.64 \nL 302.793295 224.64 \nL 299.749659 224.64 \nz\n\" style=\"fill:#4c72b0;\"/>\n   </g>\n   <g id=\"patch_79\">\n    <path clip-path=\"url(#pd4b4b40b2d)\" d=\"M 302.793295 224.64 \nL 305.836932 224.64 \nL 305.836932 224.544149 \nL 302.793295 224.544149 \nz\n\" style=\"fill:#4c72b0;\"/>\n   </g>\n   <g id=\"patch_80\">\n    <path clip-path=\"url(#pd4b4b40b2d)\" d=\"M 305.836932 224.64 \nL 308.880568 224.64 \nL 308.880568 224.580093 \nL 305.836932 224.580093 \nz\n\" style=\"fill:#4c72b0;\"/>\n   </g>\n   <g id=\"patch_81\">\n    <path clip-path=\"url(#pd4b4b40b2d)\" d=\"M 308.880568 224.64 \nL 311.924205 224.64 \nL 311.924205 224.64 \nL 308.880568 224.64 \nz\n\" style=\"fill:#4c72b0;\"/>\n   </g>\n   <g id=\"patch_82\">\n    <path clip-path=\"url(#pd4b4b40b2d)\" d=\"M 311.924205 224.64 \nL 314.967841 224.64 \nL 314.967841 224.568112 \nL 311.924205 224.568112 \nz\n\" style=\"fill:#4c72b0;\"/>\n   </g>\n   <g id=\"patch_83\">\n    <path clip-path=\"url(#pd4b4b40b2d)\" d=\"M 314.967841 224.64 \nL 318.011477 224.64 \nL 318.011477 224.604056 \nL 314.967841 224.604056 \nz\n\" style=\"fill:#4c72b0;\"/>\n   </g>\n   <g id=\"patch_84\">\n    <path clip-path=\"url(#pd4b4b40b2d)\" d=\"M 318.011477 224.64 \nL 321.055114 224.64 \nL 321.055114 224.64 \nL 318.011477 224.64 \nz\n\" style=\"fill:#4c72b0;\"/>\n   </g>\n   <g id=\"patch_85\">\n    <path clip-path=\"url(#pd4b4b40b2d)\" d=\"M 321.055114 224.64 \nL 324.09875 224.64 \nL 324.09875 224.628019 \nL 321.055114 224.628019 \nz\n\" style=\"fill:#4c72b0;\"/>\n   </g>\n   <g id=\"patch_86\">\n    <path clip-path=\"url(#pd4b4b40b2d)\" d=\"M 324.09875 224.64 \nL 327.142386 224.64 \nL 327.142386 224.592075 \nL 324.09875 224.592075 \nz\n\" style=\"fill:#4c72b0;\"/>\n   </g>\n   <g id=\"patch_87\">\n    <path clip-path=\"url(#pd4b4b40b2d)\" d=\"M 327.142386 224.64 \nL 330.186023 224.64 \nL 330.186023 224.64 \nL 327.142386 224.64 \nz\n\" style=\"fill:#4c72b0;\"/>\n   </g>\n   <g id=\"patch_88\">\n    <path clip-path=\"url(#pd4b4b40b2d)\" d=\"M 330.186023 224.64 \nL 333.229659 224.64 \nL 333.229659 224.604056 \nL 330.186023 224.604056 \nz\n\" style=\"fill:#4c72b0;\"/>\n   </g>\n   <g id=\"patch_89\">\n    <path clip-path=\"url(#pd4b4b40b2d)\" d=\"M 333.229659 224.64 \nL 336.273295 224.64 \nL 336.273295 224.616037 \nL 333.229659 224.616037 \nz\n\" style=\"fill:#4c72b0;\"/>\n   </g>\n   <g id=\"patch_90\">\n    <path clip-path=\"url(#pd4b4b40b2d)\" d=\"M 336.273295 224.64 \nL 339.316932 224.64 \nL 339.316932 224.64 \nL 336.273295 224.64 \nz\n\" style=\"fill:#4c72b0;\"/>\n   </g>\n   <g id=\"patch_91\">\n    <path clip-path=\"url(#pd4b4b40b2d)\" d=\"M 339.316932 224.64 \nL 342.360568 224.64 \nL 342.360568 224.616037 \nL 339.316932 224.616037 \nz\n\" style=\"fill:#4c72b0;\"/>\n   </g>\n   <g id=\"patch_92\">\n    <path clip-path=\"url(#pd4b4b40b2d)\" d=\"M 342.360568 224.64 \nL 345.404205 224.64 \nL 345.404205 224.628019 \nL 342.360568 224.628019 \nz\n\" style=\"fill:#4c72b0;\"/>\n   </g>\n   <g id=\"patch_93\">\n    <path clip-path=\"url(#pd4b4b40b2d)\" d=\"M 345.404205 224.64 \nL 348.447841 224.64 \nL 348.447841 224.64 \nL 345.404205 224.64 \nz\n\" style=\"fill:#4c72b0;\"/>\n   </g>\n   <g id=\"patch_94\">\n    <path clip-path=\"url(#pd4b4b40b2d)\" d=\"M 348.447841 224.64 \nL 351.491477 224.64 \nL 351.491477 224.628019 \nL 348.447841 224.628019 \nz\n\" style=\"fill:#4c72b0;\"/>\n   </g>\n   <g id=\"patch_95\">\n    <path clip-path=\"url(#pd4b4b40b2d)\" d=\"M 351.491477 224.64 \nL 354.535114 224.64 \nL 354.535114 224.628019 \nL 351.491477 224.628019 \nz\n\" style=\"fill:#4c72b0;\"/>\n   </g>\n   <g id=\"patch_96\">\n    <path clip-path=\"url(#pd4b4b40b2d)\" d=\"M 354.535114 224.64 \nL 357.57875 224.64 \nL 357.57875 224.64 \nL 354.535114 224.64 \nz\n\" style=\"fill:#4c72b0;\"/>\n   </g>\n   <g id=\"patch_97\">\n    <path clip-path=\"url(#pd4b4b40b2d)\" d=\"M 357.57875 224.64 \nL 360.622386 224.64 \nL 360.622386 224.64 \nL 357.57875 224.64 \nz\n\" style=\"fill:#4c72b0;\"/>\n   </g>\n   <g id=\"patch_98\">\n    <path clip-path=\"url(#pd4b4b40b2d)\" d=\"M 360.622386 224.64 \nL 363.666023 224.64 \nL 363.666023 224.64 \nL 360.622386 224.64 \nz\n\" style=\"fill:#4c72b0;\"/>\n   </g>\n   <g id=\"patch_99\">\n    <path clip-path=\"url(#pd4b4b40b2d)\" d=\"M 363.666023 224.64 \nL 366.709659 224.64 \nL 366.709659 224.64 \nL 363.666023 224.64 \nz\n\" style=\"fill:#4c72b0;\"/>\n   </g>\n   <g id=\"patch_100\">\n    <path clip-path=\"url(#pd4b4b40b2d)\" d=\"M 366.709659 224.64 \nL 369.753295 224.64 \nL 369.753295 224.628019 \nL 366.709659 224.628019 \nz\n\" style=\"fill:#4c72b0;\"/>\n   </g>\n   <g id=\"patch_101\">\n    <path clip-path=\"url(#pd4b4b40b2d)\" d=\"M 369.753295 224.64 \nL 372.796932 224.64 \nL 372.796932 224.64 \nL 369.753295 224.64 \nz\n\" style=\"fill:#4c72b0;\"/>\n   </g>\n   <g id=\"patch_102\">\n    <path clip-path=\"url(#pd4b4b40b2d)\" d=\"M 372.796932 224.64 \nL 375.840568 224.64 \nL 375.840568 224.628019 \nL 372.796932 224.628019 \nz\n\" style=\"fill:#4c72b0;\"/>\n   </g>\n   <g id=\"patch_103\">\n    <path d=\"M 56.25875 224.64 \nL 56.25875 7.2 \n\" style=\"fill:none;\"/>\n   </g>\n   <g id=\"patch_104\">\n    <path d=\"M 391.05875 224.64 \nL 391.05875 7.2 \n\" style=\"fill:none;\"/>\n   </g>\n   <g id=\"patch_105\">\n    <path d=\"M 56.25875 224.64 \nL 391.05875 224.64 \n\" style=\"fill:none;\"/>\n   </g>\n   <g id=\"patch_106\">\n    <path d=\"M 56.25875 7.2 \nL 391.05875 7.2 \n\" style=\"fill:none;\"/>\n   </g>\n  </g>\n </g>\n <defs>\n  <clipPath id=\"pd4b4b40b2d\">\n   <rect height=\"217.44\" width=\"334.8\" x=\"56.25875\" y=\"7.2\"/>\n  </clipPath>\n </defs>\n</svg>\n"
          },
          "metadata": {
            "needs_background": "light"
          }
        }
      ]
    },
    {
      "cell_type": "code",
      "source": [
        "(seq_len <= 20).all(axis=1).sum() / len(seq_len)"
      ],
      "metadata": {
        "colab": {
          "base_uri": "https://localhost:8080/"
        },
        "id": "9ww9smMJHo6f",
        "outputId": "66d992c4-1e3c-4abe-e915-567ee9594d06"
      },
      "execution_count": null,
      "outputs": [
        {
          "output_type": "execute_result",
          "data": {
            "text/plain": [
              "0.9789992867428371"
            ]
          },
          "metadata": {},
          "execution_count": 54
        }
      ]
    },
    {
      "cell_type": "markdown",
      "source": [
        "# **Split**"
      ],
      "metadata": {
        "id": "jp79Gl8DrQ0H"
      }
    },
    {
      "cell_type": "code",
      "source": [
        "data_train, data_val, data_test = data[data[\"indic\"].eq(\"train\")], data[data[\"indic\"].eq(\"val\")], data[data[\"indic\"].eq(\"test\")]"
      ],
      "metadata": {
        "id": "kER_R8KXYc8i"
      },
      "execution_count": null,
      "outputs": []
    },
    {
      "cell_type": "code",
      "source": [
        "data_train.drop(['indic'], axis=1, inplace=True)\n",
        "data_val.drop(['indic'], axis=1, inplace=True)\n",
        "data_test.drop(['indic'], axis=1, inplace=True)"
      ],
      "metadata": {
        "id": "iXgkaZ1STH7A"
      },
      "execution_count": null,
      "outputs": []
    },
    {
      "cell_type": "code",
      "source": [
        "X_train  = data_train[[\"joke\"]]\n",
        "y_train = data_train.drop(['joke'],axis=1).values"
      ],
      "metadata": {
        "id": "ttMZMNCOsFPy"
      },
      "execution_count": null,
      "outputs": []
    },
    {
      "cell_type": "code",
      "source": [
        "X_val = data_val[[\"joke\"]]\n",
        "y_val  = data_val.drop(['joke'],axis=1).values"
      ],
      "metadata": {
        "id": "yiQq_ElwsHc_"
      },
      "execution_count": null,
      "outputs": []
    },
    {
      "cell_type": "code",
      "source": [
        "X_test = data_test[[\"joke\"]]\n",
        "y_test = data_test.drop(['joke'],axis=1).values"
      ],
      "metadata": {
        "id": "C5vHDBolsHlz"
      },
      "execution_count": null,
      "outputs": []
    },
    {
      "cell_type": "code",
      "source": [
        "vocabulary_size =  9240\n",
        "tokenizer = Tokenizer(num_words= vocabulary_size)\n",
        "\n",
        "df = pd.concat([X_train, X_val]).values.ravel()\n",
        "\n",
        "tokenizer.fit_on_texts(df)\n",
        "\n",
        "sequences = tokenizer.texts_to_sequences(X_train.values.ravel())\n",
        "X_train = pad_sequences(sequences, maxlen=20)"
      ],
      "metadata": {
        "id": "tgCPF3PoYc8j"
      },
      "execution_count": null,
      "outputs": []
    },
    {
      "cell_type": "code",
      "source": [
        "sequences = tokenizer.texts_to_sequences(X_val.values.ravel())\n",
        "X_val = pad_sequences(sequences, maxlen=20)"
      ],
      "metadata": {
        "id": "VJsqXrDkT3aD"
      },
      "execution_count": null,
      "outputs": []
    },
    {
      "cell_type": "code",
      "source": [
        "sequences = tokenizer.texts_to_sequences(X_test.values.ravel())\n",
        "X_test = pad_sequences(sequences, maxlen=20)"
      ],
      "metadata": {
        "id": "SuXAUmaVYc8j"
      },
      "execution_count": null,
      "outputs": []
    },
    {
      "cell_type": "code",
      "source": [
        "\n",
        "# model = models.Sequential()\n",
        "# model.add(Embedding(len(tokens), 256, input_length=84072 ))\n",
        "# model.add(layers.Conv1D(128, (3, 3), activation='sigmoid'))\n",
        "# model.add(layers.GlobalMaxPooling1D(128))\n",
        "# model.add(layers.Flatten())\n",
        "# model.add(layers.Dense(50, activation='sigmoid'))\n",
        "# model.add(layers.Dropout(0.5))\n",
        "# model.add(layers.Dense(5, activation='softmax'))\n",
        "# # Compile model\n",
        "# model.compile(loss = 'categorical_crossentropy', optimizer = 'adam', metrics = ['accuracy'])\n",
        "\n",
        "# print(model.summary())\n",
        "# history = model.fit(data_train, y_train, epochs=epochs, batch_size=batch_size,validation_split=0.2,callbacks=[EarlyStopping(monitor='val_loss',patience=7, min_delta=0.0001)])\n",
        "\n",
        "##########################\n",
        "\n",
        "# n_most_common_words = 8000\n",
        "# max_len = 130\n",
        "# tokenizer = Tokenizer(num_words=n_most_common_words, filters='!\"#$%&()*+,-./:;<=>?@[\\]^_`{|}~', lower=True)\n",
        "# tokenizer.fit_on_texts(concated['TITLE'].values)\n",
        "# sequences = tokenizer.texts_to_sequences(concated['TITLE'].values)\n",
        "# word_index = tokenizer.word_index\n",
        "# print('Found %s unique tokens.' % len(word_index))\n",
        "\n",
        "# X = pad_sequences(sequences, maxlen=max_len)"
      ],
      "metadata": {
        "id": "1XBSSIaTGUjn"
      },
      "execution_count": null,
      "outputs": []
    },
    {
      "cell_type": "code",
      "source": [
        ""
      ],
      "metadata": {
        "id": "3FZvUsDrLnTR"
      },
      "execution_count": null,
      "outputs": []
    },
    {
      "cell_type": "code",
      "source": [
        "# # # V 1 ## \n",
        "# model = Sequential()\n",
        "# model.add(Embedding(9240, 128, input_length=20))\n",
        "# model.add(Conv1D(64, 3, activation='sigmoid'))\n",
        "# model.add(GlobalMaxPooling1D()) \n",
        "# model.add(Dense(50, activation='sigmoid'))\n",
        "# model.add(Dropout(0.5))\n",
        "# model.add(Dense(5, activation='softmax'))"
      ],
      "metadata": {
        "id": "cSTw5XjtHQoN"
      },
      "execution_count": null,
      "outputs": []
    },
    {
      "cell_type": "code",
      "source": [
        "# # V 1 ## \n",
        "model = Sequential()\n",
        "model.add(Embedding(9240, 64, input_length=20))\n",
        "model.add(Conv1D(64, 3, activation='sigmoid'))\n",
        "model.add(GlobalMaxPooling1D()) \n",
        "model.add(Dense(50, activation='sigmoid'))\n",
        "model.add(Dropout(0.5))\n",
        "model.add(Dense(5, activation='softmax'))"
      ],
      "metadata": {
        "id": "qNJslyoSNsmk"
      },
      "execution_count": null,
      "outputs": []
    },
    {
      "cell_type": "code",
      "source": [
        "# # V 2 ## \n",
        "# model = Sequential()\n",
        "# model.add(Embedding(9240, 64, input_length=20))\n",
        "# model.add(Bidirectional(GRU(64, return_sequences = True), merge_mode='concat'))\n",
        "# model.add(GlobalMaxPooling1D()) \n",
        "# # model.add(Dense(50, activation='sigmoid'))\n",
        "# model.add(Dropout(0.5))\n",
        "# model.add(Dense(5, activation='softmax'))"
      ],
      "metadata": {
        "id": "tzBR7Xu6zrtH"
      },
      "execution_count": null,
      "outputs": []
    },
    {
      "cell_type": "code",
      "source": [
        "model = Sequential()\n",
        "model.add(Embedding(20000, 16, input_length=20))\n",
        "# model.add(Conv1D(32, 3, activation='sigmoid'))\n",
        "# model.add(MaxPooling1D(pool_size=2))\n",
        "model.add(LSTM(16))\n",
        "model.add(Dropout(0.5))\n",
        "model.add(Dense(5, activation='softmax'))"
      ],
      "metadata": {
        "id": "e2iKIrIaS94X"
      },
      "execution_count": null,
      "outputs": []
    },
    {
      "cell_type": "code",
      "source": [
        "# model = Sequential()\n",
        "# model.add(Embedding(9240, 16, input_length=20))\n",
        "# # model.add(Dropout(0.2))\n",
        "# # model.add(Conv1D(64, 5, activation='relu'))\n",
        "# # model.add(MaxPooling1D(pool_size=2))\n",
        "# model.add(LSTM(16))\n",
        "# model.add(Dropout(0.5))\n",
        "# model.add(Dense(5, activation='softmax'))"
      ],
      "metadata": {
        "id": "8tREludqYc8j"
      },
      "execution_count": null,
      "outputs": []
    },
    {
      "cell_type": "code",
      "source": [
        "# model.compile(loss='categorical_crossentropy', optimizer='adam', metrics=['accuracy']) \n",
        "model.compile(loss='mse', optimizer='adam', metrics=['accuracy']) # mse"
      ],
      "metadata": {
        "id": "XQJuvdm0Yc8j"
      },
      "execution_count": null,
      "outputs": []
    },
    {
      "cell_type": "code",
      "source": [
        "history_2 = model.fit(X_train, y_train,\n",
        "                    batch_size=128,\n",
        "                    epochs=30,\n",
        "                    verbose=1,\n",
        "                    validation_data=(X_val, y_val),\n",
        "                    shuffle = True\n",
        "                    )"
      ],
      "metadata": {
        "colab": {
          "base_uri": "https://localhost:8080/"
        },
        "id": "SLh1nlg3P8Js",
        "outputId": "96124e2d-3fb4-46c7-fb15-f9b5afab6094"
      },
      "execution_count": null,
      "outputs": [
        {
          "output_type": "stream",
          "name": "stdout",
          "text": [
            "Epoch 1/30\n",
            "941/941 [==============================] - 14s 10ms/step - loss: 0.1497 - accuracy: 0.3591 - val_loss: 0.1473 - val_accuracy: 0.3736\n",
            "Epoch 2/30\n",
            "941/941 [==============================] - 9s 9ms/step - loss: 0.1464 - accuracy: 0.3805 - val_loss: 0.1469 - val_accuracy: 0.3772\n",
            "Epoch 3/30\n",
            "941/941 [==============================] - 8s 9ms/step - loss: 0.1442 - accuracy: 0.3954 - val_loss: 0.1472 - val_accuracy: 0.3727\n",
            "Epoch 4/30\n",
            "941/941 [==============================] - 9s 9ms/step - loss: 0.1423 - accuracy: 0.4087 - val_loss: 0.1481 - val_accuracy: 0.3659\n",
            "Epoch 5/30\n",
            "941/941 [==============================] - 9s 9ms/step - loss: 0.1405 - accuracy: 0.4225 - val_loss: 0.1496 - val_accuracy: 0.3624\n",
            "Epoch 6/30\n",
            "941/941 [==============================] - 9s 9ms/step - loss: 0.1390 - accuracy: 0.4325 - val_loss: 0.1502 - val_accuracy: 0.3598\n",
            "Epoch 7/30\n",
            "941/941 [==============================] - 9s 9ms/step - loss: 0.1376 - accuracy: 0.4402 - val_loss: 0.1517 - val_accuracy: 0.3592\n",
            "Epoch 8/30\n",
            "941/941 [==============================] - 9s 9ms/step - loss: 0.1363 - accuracy: 0.4466 - val_loss: 0.1528 - val_accuracy: 0.3518\n",
            "Epoch 9/30\n",
            "941/941 [==============================] - 9s 9ms/step - loss: 0.1352 - accuracy: 0.4527 - val_loss: 0.1542 - val_accuracy: 0.3452\n",
            "Epoch 10/30\n",
            "941/941 [==============================] - 9s 9ms/step - loss: 0.1338 - accuracy: 0.4584 - val_loss: 0.1552 - val_accuracy: 0.3544\n",
            "Epoch 11/30\n",
            "941/941 [==============================] - 9s 9ms/step - loss: 0.1324 - accuracy: 0.4660 - val_loss: 0.1569 - val_accuracy: 0.3498\n",
            "Epoch 12/30\n",
            "941/941 [==============================] - 8s 9ms/step - loss: 0.1311 - accuracy: 0.4709 - val_loss: 0.1575 - val_accuracy: 0.3445\n",
            "Epoch 13/30\n",
            "941/941 [==============================] - 9s 9ms/step - loss: 0.1299 - accuracy: 0.4785 - val_loss: 0.1611 - val_accuracy: 0.3455\n",
            "Epoch 14/30\n",
            "941/941 [==============================] - 8s 9ms/step - loss: 0.1288 - accuracy: 0.4835 - val_loss: 0.1611 - val_accuracy: 0.3445\n",
            "Epoch 15/30\n",
            "941/941 [==============================] - 8s 9ms/step - loss: 0.1276 - accuracy: 0.4887 - val_loss: 0.1623 - val_accuracy: 0.3415\n",
            "Epoch 16/30\n",
            "941/941 [==============================] - 9s 9ms/step - loss: 0.1263 - accuracy: 0.4947 - val_loss: 0.1647 - val_accuracy: 0.3416\n",
            "Epoch 17/30\n",
            "941/941 [==============================] - 9s 9ms/step - loss: 0.1252 - accuracy: 0.4991 - val_loss: 0.1657 - val_accuracy: 0.3409\n",
            "Epoch 18/30\n",
            "941/941 [==============================] - 8s 9ms/step - loss: 0.1242 - accuracy: 0.5046 - val_loss: 0.1668 - val_accuracy: 0.3435\n",
            "Epoch 19/30\n",
            "941/941 [==============================] - 8s 9ms/step - loss: 0.1231 - accuracy: 0.5090 - val_loss: 0.1670 - val_accuracy: 0.3411\n",
            "Epoch 20/30\n",
            "941/941 [==============================] - 8s 9ms/step - loss: 0.1223 - accuracy: 0.5124 - val_loss: 0.1673 - val_accuracy: 0.3395\n",
            "Epoch 21/30\n",
            "941/941 [==============================] - 8s 9ms/step - loss: 0.1212 - accuracy: 0.5168 - val_loss: 0.1685 - val_accuracy: 0.3385\n",
            "Epoch 22/30\n",
            "941/941 [==============================] - 9s 9ms/step - loss: 0.1202 - accuracy: 0.5206 - val_loss: 0.1703 - val_accuracy: 0.3382\n",
            "Epoch 23/30\n",
            "941/941 [==============================] - 8s 9ms/step - loss: 0.1193 - accuracy: 0.5254 - val_loss: 0.1716 - val_accuracy: 0.3364\n",
            "Epoch 24/30\n",
            "941/941 [==============================] - 8s 9ms/step - loss: 0.1186 - accuracy: 0.5286 - val_loss: 0.1724 - val_accuracy: 0.3368\n",
            "Epoch 25/30\n",
            "941/941 [==============================] - 9s 9ms/step - loss: 0.1178 - accuracy: 0.5332 - val_loss: 0.1732 - val_accuracy: 0.3323\n",
            "Epoch 26/30\n",
            "941/941 [==============================] - 8s 9ms/step - loss: 0.1169 - accuracy: 0.5365 - val_loss: 0.1751 - val_accuracy: 0.3378\n",
            "Epoch 27/30\n",
            "941/941 [==============================] - 9s 9ms/step - loss: 0.1161 - accuracy: 0.5395 - val_loss: 0.1776 - val_accuracy: 0.3335\n",
            "Epoch 28/30\n",
            "941/941 [==============================] - 8s 9ms/step - loss: 0.1154 - accuracy: 0.5426 - val_loss: 0.1773 - val_accuracy: 0.3341\n",
            "Epoch 29/30\n",
            "941/941 [==============================] - 9s 9ms/step - loss: 0.1147 - accuracy: 0.5445 - val_loss: 0.1777 - val_accuracy: 0.3278\n",
            "Epoch 30/30\n",
            "941/941 [==============================] - 9s 9ms/step - loss: 0.1141 - accuracy: 0.5471 - val_loss: 0.1779 - val_accuracy: 0.3342\n"
          ]
        }
      ]
    },
    {
      "cell_type": "code",
      "source": [
        "pd.DataFrame(history_2.history).plot()"
      ],
      "metadata": {
        "colab": {
          "base_uri": "https://localhost:8080/",
          "height": 370
        },
        "id": "vH_ZNn3FP8Mo",
        "outputId": "49aae926-c7f3-4df1-d090-8679ee2a5a91"
      },
      "execution_count": null,
      "outputs": [
        {
          "output_type": "execute_result",
          "data": {
            "text/plain": [
              "<matplotlib.axes._subplots.AxesSubplot at 0x7f7645b4f490>"
            ]
          },
          "metadata": {},
          "execution_count": 90
        },
        {
          "output_type": "display_data",
          "data": {
            "text/plain": [
              "<Figure size 432x288 with 1 Axes>"
            ],
            "image/svg+xml": "<?xml version=\"1.0\" encoding=\"utf-8\" standalone=\"no\"?>\n<!DOCTYPE svg PUBLIC \"-//W3C//DTD SVG 1.1//EN\"\n  \"http://www.w3.org/Graphics/SVG/1.1/DTD/svg11.dtd\">\n<!-- Created with matplotlib (https://matplotlib.org/) -->\n<svg height=\"248.161875pt\" version=\"1.1\" viewBox=\"0 0 370.938053 248.161875\" width=\"370.938053pt\" xmlns=\"http://www.w3.org/2000/svg\" xmlns:xlink=\"http://www.w3.org/1999/xlink\">\n <defs>\n  <style type=\"text/css\">\n*{stroke-linecap:butt;stroke-linejoin:round;}\n  </style>\n </defs>\n <g id=\"figure_1\">\n  <g id=\"patch_1\">\n   <path d=\"M 0 248.161875 \nL 370.938053 248.161875 \nL 370.938053 0 \nL 0 0 \nz\n\" style=\"fill:none;\"/>\n  </g>\n  <g id=\"axes_1\">\n   <g id=\"patch_2\">\n    <path d=\"M 28.1 224.64 \nL 362.9 224.64 \nL 362.9 7.2 \nL 28.1 7.2 \nz\n\" style=\"fill:#eaeaf2;\"/>\n   </g>\n   <g id=\"matplotlib.axis_1\">\n    <g id=\"xtick_1\">\n     <g id=\"line2d_1\">\n      <path clip-path=\"url(#pf4f4f81147)\" d=\"M 43.318182 224.64 \nL 43.318182 7.2 \n\" style=\"fill:none;stroke:#ffffff;stroke-linecap:round;\"/>\n     </g>\n     <g id=\"line2d_2\"/>\n     <g id=\"text_1\">\n      <!-- 0 -->\n      <defs>\n       <path d=\"M 51.703125 34.421875 \nQ 51.703125 24.515625 49.828125 17.75 \nQ 47.953125 10.984375 44.703125 6.8125 \nQ 41.453125 2.640625 37.0625 0.828125 \nQ 32.671875 -0.984375 27.6875 -0.984375 \nQ 22.65625 -0.984375 18.3125 0.828125 \nQ 13.96875 2.640625 10.765625 6.78125 \nQ 7.5625 10.9375 5.734375 17.703125 \nQ 3.90625 24.46875 3.90625 34.421875 \nQ 3.90625 44.828125 5.734375 51.640625 \nQ 7.5625 58.453125 10.78125 62.5 \nQ 14.015625 66.546875 18.40625 68.1875 \nQ 22.796875 69.828125 27.984375 69.828125 \nQ 32.90625 69.828125 37.21875 68.1875 \nQ 41.546875 66.546875 44.765625 62.5 \nQ 48 58.453125 49.84375 51.640625 \nQ 51.703125 44.828125 51.703125 34.421875 \nz\nM 42.78125 34.421875 \nQ 42.78125 42.625 41.796875 48.0625 \nQ 40.828125 53.515625 38.921875 56.765625 \nQ 37.015625 60.015625 34.25 61.359375 \nQ 31.5 62.703125 27.984375 62.703125 \nQ 24.265625 62.703125 21.4375 61.328125 \nQ 18.609375 59.96875 16.671875 56.71875 \nQ 14.75 53.46875 13.765625 48.015625 \nQ 12.796875 42.578125 12.796875 34.421875 \nQ 12.796875 26.515625 13.796875 21.09375 \nQ 14.796875 15.671875 16.71875 12.375 \nQ 18.65625 9.078125 21.4375 7.640625 \nQ 24.21875 6.203125 27.78125 6.203125 \nQ 31.25 6.203125 34.03125 7.640625 \nQ 36.8125 9.078125 38.734375 12.375 \nQ 40.671875 15.671875 41.71875 21.09375 \nQ 42.78125 26.515625 42.78125 34.421875 \nz\n\" id=\"LiberationSans-48\"/>\n      </defs>\n      <g style=\"fill:#262626;\" transform=\"translate(40.537713 238.886875)scale(0.1 -0.1)\">\n       <use xlink:href=\"#LiberationSans-48\"/>\n      </g>\n     </g>\n    </g>\n    <g id=\"xtick_2\">\n     <g id=\"line2d_3\">\n      <path clip-path=\"url(#pf4f4f81147)\" d=\"M 95.794671 224.64 \nL 95.794671 7.2 \n\" style=\"fill:none;stroke:#ffffff;stroke-linecap:round;\"/>\n     </g>\n     <g id=\"line2d_4\"/>\n     <g id=\"text_2\">\n      <!-- 5 -->\n      <defs>\n       <path d=\"M 51.421875 22.40625 \nQ 51.421875 17.234375 49.859375 12.9375 \nQ 48.296875 8.640625 45.21875 5.53125 \nQ 42.140625 2.4375 37.578125 0.71875 \nQ 33.015625 -0.984375 27 -0.984375 \nQ 21.578125 -0.984375 17.546875 0.28125 \nQ 13.53125 1.5625 10.734375 3.78125 \nQ 7.953125 6 6.3125 8.984375 \nQ 4.6875 11.96875 4 15.375 \nL 12.890625 16.40625 \nQ 13.421875 14.453125 14.390625 12.625 \nQ 15.375 10.796875 17.0625 9.34375 \nQ 18.75 7.90625 21.21875 7.046875 \nQ 23.6875 6.203125 27.203125 6.203125 \nQ 30.609375 6.203125 33.390625 7.25 \nQ 36.1875 8.296875 38.15625 10.34375 \nQ 40.140625 12.40625 41.203125 15.375 \nQ 42.28125 18.359375 42.28125 22.21875 \nQ 42.28125 25.390625 41.25 28.046875 \nQ 40.234375 30.71875 38.328125 32.640625 \nQ 36.421875 34.578125 33.65625 35.640625 \nQ 30.90625 36.71875 27.390625 36.71875 \nQ 25.203125 36.71875 23.34375 36.328125 \nQ 21.484375 35.9375 19.890625 35.25 \nQ 18.3125 34.578125 17.015625 33.671875 \nQ 15.71875 32.765625 14.59375 31.78125 \nL 6 31.78125 \nL 8.296875 68.796875 \nL 47.40625 68.796875 \nL 47.40625 61.328125 \nL 16.3125 61.328125 \nL 14.984375 39.5 \nQ 17.328125 41.3125 20.84375 42.59375 \nQ 24.359375 43.890625 29.203125 43.890625 \nQ 34.328125 43.890625 38.421875 42.328125 \nQ 42.53125 40.765625 45.40625 37.90625 \nQ 48.296875 35.0625 49.859375 31.109375 \nQ 51.421875 27.15625 51.421875 22.40625 \nz\n\" id=\"LiberationSans-53\"/>\n      </defs>\n      <g style=\"fill:#262626;\" transform=\"translate(93.014202 238.886875)scale(0.1 -0.1)\">\n       <use xlink:href=\"#LiberationSans-53\"/>\n      </g>\n     </g>\n    </g>\n    <g id=\"xtick_3\">\n     <g id=\"line2d_5\">\n      <path clip-path=\"url(#pf4f4f81147)\" d=\"M 148.27116 224.64 \nL 148.27116 7.2 \n\" style=\"fill:none;stroke:#ffffff;stroke-linecap:round;\"/>\n     </g>\n     <g id=\"line2d_6\"/>\n     <g id=\"text_3\">\n      <!-- 10 -->\n      <defs>\n       <path d=\"M 7.625 0 \nL 7.625 7.46875 \nL 25.140625 7.46875 \nL 25.140625 60.40625 \nL 9.625 49.3125 \nL 9.625 57.625 \nL 25.875 68.796875 \nL 33.984375 68.796875 \nL 33.984375 7.46875 \nL 50.734375 7.46875 \nL 50.734375 0 \nz\n\" id=\"LiberationSans-49\"/>\n      </defs>\n      <g style=\"fill:#262626;\" transform=\"translate(142.710222 238.886875)scale(0.1 -0.1)\">\n       <use xlink:href=\"#LiberationSans-49\"/>\n       <use x=\"55.615234\" xlink:href=\"#LiberationSans-48\"/>\n      </g>\n     </g>\n    </g>\n    <g id=\"xtick_4\">\n     <g id=\"line2d_7\">\n      <path clip-path=\"url(#pf4f4f81147)\" d=\"M 200.747649 224.64 \nL 200.747649 7.2 \n\" style=\"fill:none;stroke:#ffffff;stroke-linecap:round;\"/>\n     </g>\n     <g id=\"line2d_8\"/>\n     <g id=\"text_4\">\n      <!-- 15 -->\n      <g style=\"fill:#262626;\" transform=\"translate(195.186711 238.886875)scale(0.1 -0.1)\">\n       <use xlink:href=\"#LiberationSans-49\"/>\n       <use x=\"55.615234\" xlink:href=\"#LiberationSans-53\"/>\n      </g>\n     </g>\n    </g>\n    <g id=\"xtick_5\">\n     <g id=\"line2d_9\">\n      <path clip-path=\"url(#pf4f4f81147)\" d=\"M 253.224138 224.64 \nL 253.224138 7.2 \n\" style=\"fill:none;stroke:#ffffff;stroke-linecap:round;\"/>\n     </g>\n     <g id=\"line2d_10\"/>\n     <g id=\"text_5\">\n      <!-- 20 -->\n      <defs>\n       <path d=\"M 5.03125 0 \nL 5.03125 6.203125 \nQ 7.515625 11.921875 11.109375 16.28125 \nQ 14.703125 20.65625 18.65625 24.1875 \nQ 22.609375 27.734375 26.484375 30.765625 \nQ 30.375 33.796875 33.5 36.8125 \nQ 36.625 39.84375 38.546875 43.15625 \nQ 40.484375 46.484375 40.484375 50.6875 \nQ 40.484375 53.609375 39.59375 55.828125 \nQ 38.71875 58.0625 37.0625 59.5625 \nQ 35.40625 61.078125 33.078125 61.828125 \nQ 30.765625 62.59375 27.9375 62.59375 \nQ 25.296875 62.59375 22.96875 61.859375 \nQ 20.65625 61.140625 18.84375 59.671875 \nQ 17.046875 58.203125 15.890625 56.03125 \nQ 14.75 53.859375 14.40625 50.984375 \nL 5.421875 51.8125 \nQ 5.859375 55.515625 7.46875 58.78125 \nQ 9.078125 62.0625 11.90625 64.53125 \nQ 14.75 67 18.71875 68.40625 \nQ 22.703125 69.828125 27.9375 69.828125 \nQ 33.0625 69.828125 37.0625 68.609375 \nQ 41.0625 67.390625 43.8125 64.984375 \nQ 46.578125 62.59375 48.046875 59.078125 \nQ 49.515625 55.5625 49.515625 50.984375 \nQ 49.515625 47.515625 48.265625 44.390625 \nQ 47.015625 41.265625 44.9375 38.421875 \nQ 42.875 35.59375 40.140625 32.953125 \nQ 37.40625 30.328125 34.421875 27.8125 \nQ 31.453125 25.296875 28.421875 22.828125 \nQ 25.390625 20.359375 22.71875 17.859375 \nQ 20.0625 15.375 17.96875 12.8125 \nQ 15.875 10.25 14.703125 7.46875 \nL 50.59375 7.46875 \nL 50.59375 0 \nz\n\" id=\"LiberationSans-50\"/>\n      </defs>\n      <g style=\"fill:#262626;\" transform=\"translate(247.6632 238.886875)scale(0.1 -0.1)\">\n       <use xlink:href=\"#LiberationSans-50\"/>\n       <use x=\"55.615234\" xlink:href=\"#LiberationSans-48\"/>\n      </g>\n     </g>\n    </g>\n    <g id=\"xtick_6\">\n     <g id=\"line2d_11\">\n      <path clip-path=\"url(#pf4f4f81147)\" d=\"M 305.700627 224.64 \nL 305.700627 7.2 \n\" style=\"fill:none;stroke:#ffffff;stroke-linecap:round;\"/>\n     </g>\n     <g id=\"line2d_12\"/>\n     <g id=\"text_6\">\n      <!-- 25 -->\n      <g style=\"fill:#262626;\" transform=\"translate(300.139689 238.886875)scale(0.1 -0.1)\">\n       <use xlink:href=\"#LiberationSans-50\"/>\n       <use x=\"55.615234\" xlink:href=\"#LiberationSans-53\"/>\n      </g>\n     </g>\n    </g>\n    <g id=\"xtick_7\">\n     <g id=\"line2d_13\">\n      <path clip-path=\"url(#pf4f4f81147)\" d=\"M 358.177116 224.64 \nL 358.177116 7.2 \n\" style=\"fill:none;stroke:#ffffff;stroke-linecap:round;\"/>\n     </g>\n     <g id=\"line2d_14\"/>\n     <g id=\"text_7\">\n      <!-- 30 -->\n      <defs>\n       <path d=\"M 51.21875 19 \nQ 51.21875 14.265625 49.671875 10.546875 \nQ 48.140625 6.84375 45.1875 4.265625 \nQ 42.234375 1.703125 37.859375 0.359375 \nQ 33.5 -0.984375 27.875 -0.984375 \nQ 21.484375 -0.984375 17.109375 0.609375 \nQ 12.75 2.203125 9.90625 4.8125 \nQ 7.078125 7.421875 5.65625 10.765625 \nQ 4.25 14.109375 3.8125 17.671875 \nL 12.890625 18.5 \nQ 13.28125 15.765625 14.328125 13.515625 \nQ 15.375 11.28125 17.1875 9.671875 \nQ 19 8.0625 21.625 7.171875 \nQ 24.265625 6.296875 27.875 6.296875 \nQ 34.515625 6.296875 38.296875 9.5625 \nQ 42.09375 12.84375 42.09375 19.28125 \nQ 42.09375 23.09375 40.40625 25.40625 \nQ 38.71875 27.734375 36.203125 29.03125 \nQ 33.6875 30.328125 30.734375 30.765625 \nQ 27.78125 31.203125 25.296875 31.203125 \nL 20.3125 31.203125 \nL 20.3125 38.8125 \nL 25.09375 38.8125 \nQ 27.59375 38.8125 30.265625 39.328125 \nQ 32.953125 39.84375 35.171875 41.1875 \nQ 37.40625 42.53125 38.84375 44.828125 \nQ 40.28125 47.125 40.28125 50.6875 \nQ 40.28125 56.203125 37.03125 59.390625 \nQ 33.796875 62.59375 27.390625 62.59375 \nQ 21.578125 62.59375 17.984375 59.609375 \nQ 14.40625 56.640625 13.8125 51.21875 \nL 4.984375 51.90625 \nQ 5.515625 56.453125 7.46875 59.8125 \nQ 9.421875 63.1875 12.421875 65.40625 \nQ 15.4375 67.625 19.28125 68.71875 \nQ 23.140625 69.828125 27.484375 69.828125 \nQ 33.25 69.828125 37.390625 68.375 \nQ 41.546875 66.9375 44.1875 64.46875 \nQ 46.828125 62.015625 48.0625 58.6875 \nQ 49.3125 55.375 49.3125 51.609375 \nQ 49.3125 48.578125 48.484375 45.9375 \nQ 47.65625 43.3125 45.890625 41.203125 \nQ 44.140625 39.109375 41.421875 37.59375 \nQ 38.71875 36.078125 34.90625 35.296875 \nL 34.90625 35.109375 \nQ 39.0625 34.671875 42.140625 33.21875 \nQ 45.21875 31.78125 47.21875 29.625 \nQ 49.21875 27.484375 50.21875 24.75 \nQ 51.21875 22.015625 51.21875 19 \nz\n\" id=\"LiberationSans-51\"/>\n      </defs>\n      <g style=\"fill:#262626;\" transform=\"translate(352.616178 238.886875)scale(0.1 -0.1)\">\n       <use xlink:href=\"#LiberationSans-51\"/>\n       <use x=\"55.615234\" xlink:href=\"#LiberationSans-48\"/>\n      </g>\n     </g>\n    </g>\n   </g>\n   <g id=\"matplotlib.axis_2\">\n    <g id=\"ytick_1\">\n     <g id=\"line2d_15\">\n      <path clip-path=\"url(#pf4f4f81147)\" d=\"M 28.1 221.190782 \nL 362.9 221.190782 \n\" style=\"fill:none;stroke:#ffffff;stroke-linecap:round;\"/>\n     </g>\n     <g id=\"line2d_16\"/>\n     <g id=\"text_8\">\n      <!-- 0.1 -->\n      <defs>\n       <path d=\"M 9.125 0 \nL 9.125 10.6875 \nL 18.65625 10.6875 \nL 18.65625 0 \nz\n\" id=\"LiberationSans-46\"/>\n      </defs>\n      <g style=\"fill:#262626;\" transform=\"translate(7.2 224.814219)scale(0.1 -0.1)\">\n       <use xlink:href=\"#LiberationSans-48\"/>\n       <use x=\"55.615234\" xlink:href=\"#LiberationSans-46\"/>\n       <use x=\"83.398438\" xlink:href=\"#LiberationSans-49\"/>\n      </g>\n     </g>\n    </g>\n    <g id=\"ytick_2\">\n     <g id=\"line2d_17\">\n      <path clip-path=\"url(#pf4f4f81147)\" d=\"M 28.1 175.535796 \nL 362.9 175.535796 \n\" style=\"fill:none;stroke:#ffffff;stroke-linecap:round;\"/>\n     </g>\n     <g id=\"line2d_18\"/>\n     <g id=\"text_9\">\n      <!-- 0.2 -->\n      <g style=\"fill:#262626;\" transform=\"translate(7.2 179.159233)scale(0.1 -0.1)\">\n       <use xlink:href=\"#LiberationSans-48\"/>\n       <use x=\"55.615234\" xlink:href=\"#LiberationSans-46\"/>\n       <use x=\"83.398438\" xlink:href=\"#LiberationSans-50\"/>\n      </g>\n     </g>\n    </g>\n    <g id=\"ytick_3\">\n     <g id=\"line2d_19\">\n      <path clip-path=\"url(#pf4f4f81147)\" d=\"M 28.1 129.88081 \nL 362.9 129.88081 \n\" style=\"fill:none;stroke:#ffffff;stroke-linecap:round;\"/>\n     </g>\n     <g id=\"line2d_20\"/>\n     <g id=\"text_10\">\n      <!-- 0.3 -->\n      <g style=\"fill:#262626;\" transform=\"translate(7.2 133.504247)scale(0.1 -0.1)\">\n       <use xlink:href=\"#LiberationSans-48\"/>\n       <use x=\"55.615234\" xlink:href=\"#LiberationSans-46\"/>\n       <use x=\"83.398438\" xlink:href=\"#LiberationSans-51\"/>\n      </g>\n     </g>\n    </g>\n    <g id=\"ytick_4\">\n     <g id=\"line2d_21\">\n      <path clip-path=\"url(#pf4f4f81147)\" d=\"M 28.1 84.225824 \nL 362.9 84.225824 \n\" style=\"fill:none;stroke:#ffffff;stroke-linecap:round;\"/>\n     </g>\n     <g id=\"line2d_22\"/>\n     <g id=\"text_11\">\n      <!-- 0.4 -->\n      <defs>\n       <path d=\"M 43.015625 15.578125 \nL 43.015625 0 \nL 34.71875 0 \nL 34.71875 15.578125 \nL 2.296875 15.578125 \nL 2.296875 22.40625 \nL 33.796875 68.796875 \nL 43.015625 68.796875 \nL 43.015625 22.515625 \nL 52.6875 22.515625 \nL 52.6875 15.578125 \nz\nM 34.71875 58.890625 \nQ 34.625 58.640625 34.234375 57.9375 \nQ 33.84375 57.234375 33.34375 56.34375 \nQ 32.859375 55.46875 32.34375 54.5625 \nQ 31.84375 53.65625 31.453125 53.078125 \nL 13.8125 27.09375 \nQ 13.578125 26.703125 13.109375 26.0625 \nQ 12.640625 25.4375 12.15625 24.78125 \nQ 11.671875 24.125 11.171875 23.484375 \nQ 10.6875 22.859375 10.40625 22.515625 \nL 34.71875 22.515625 \nz\n\" id=\"LiberationSans-52\"/>\n      </defs>\n      <g style=\"fill:#262626;\" transform=\"translate(7.2 87.849261)scale(0.1 -0.1)\">\n       <use xlink:href=\"#LiberationSans-48\"/>\n       <use x=\"55.615234\" xlink:href=\"#LiberationSans-46\"/>\n       <use x=\"83.398438\" xlink:href=\"#LiberationSans-52\"/>\n      </g>\n     </g>\n    </g>\n    <g id=\"ytick_5\">\n     <g id=\"line2d_23\">\n      <path clip-path=\"url(#pf4f4f81147)\" d=\"M 28.1 38.570838 \nL 362.9 38.570838 \n\" style=\"fill:none;stroke:#ffffff;stroke-linecap:round;\"/>\n     </g>\n     <g id=\"line2d_24\"/>\n     <g id=\"text_12\">\n      <!-- 0.5 -->\n      <g style=\"fill:#262626;\" transform=\"translate(7.2 42.194275)scale(0.1 -0.1)\">\n       <use xlink:href=\"#LiberationSans-48\"/>\n       <use x=\"55.615234\" xlink:href=\"#LiberationSans-46\"/>\n       <use x=\"83.398438\" xlink:href=\"#LiberationSans-53\"/>\n      </g>\n     </g>\n    </g>\n   </g>\n   <g id=\"line2d_25\">\n    <path clip-path=\"url(#pf4f4f81147)\" d=\"M 43.318182 198.500185 \nL 53.81348 200.025031 \nL 64.308777 201.027825 \nL 74.804075 201.88014 \nL 85.299373 202.707128 \nL 95.794671 203.405183 \nL 106.289969 204.017675 \nL 116.785266 204.606431 \nL 127.280564 205.136135 \nL 137.775862 205.767805 \nL 148.27116 206.37646 \nL 158.766458 206.983319 \nL 169.261755 207.530978 \nL 179.757053 208.05209 \nL 190.252351 208.580332 \nL 200.747649 209.176748 \nL 211.242947 209.708201 \nL 221.738245 210.162956 \nL 232.233542 210.628888 \nL 242.72884 211.03164 \nL 253.224138 211.507427 \nL 263.719436 211.955293 \nL 274.214734 212.362892 \nL 284.710031 212.707314 \nL 295.205329 213.075958 \nL 305.700627 213.469019 \nL 316.195925 213.836054 \nL 326.691223 214.168996 \nL 337.18652 214.464554 \nL 347.681818 214.756364 \n\" style=\"fill:none;stroke:#4c72b0;stroke-linecap:round;stroke-width:1.75;\"/>\n   </g>\n   <g id=\"line2d_26\">\n    <path clip-path=\"url(#pf4f4f81147)\" d=\"M 43.318182 102.876896 \nL 53.81348 93.134824 \nL 64.308777 86.32902 \nL 74.804075 80.236429 \nL 85.299373 73.961745 \nL 95.794671 69.405571 \nL 106.289969 65.854722 \nL 116.785266 62.971559 \nL 127.280564 60.179434 \nL 137.775862 57.576995 \nL 148.27116 54.098218 \nL 158.766458 51.844792 \nL 169.261755 48.400167 \nL 179.757053 46.086044 \nL 190.252351 43.737783 \nL 200.747649 40.968422 \nL 211.242947 38.991938 \nL 221.738245 36.472945 \nL 232.233542 34.443356 \nL 242.72884 32.895537 \nL 253.224138 30.919066 \nL 263.719436 29.166391 \nL 274.214734 26.985038 \nL 284.710031 25.494147 \nL 295.205329 23.392472 \nL 305.700627 21.890179 \nL 316.195925 20.524466 \nL 326.691223 19.13222 \nL 337.18652 18.255869 \nL 347.681818 17.083636 \n\" style=\"fill:none;stroke:#55a868;stroke-linecap:round;stroke-width:1.75;\"/>\n   </g>\n   <g id=\"line2d_27\">\n    <path clip-path=\"url(#pf4f4f81147)\" d=\"M 43.318182 199.577378 \nL 53.81348 199.792466 \nL 64.308777 199.628443 \nL 74.804075 199.231059 \nL 85.299373 198.523683 \nL 95.794671 198.270798 \nL 106.289969 197.565763 \nL 116.785266 197.086626 \nL 127.280564 196.425491 \nL 137.775862 195.985472 \nL 148.27116 195.193289 \nL 158.766458 194.933866 \nL 169.261755 193.303341 \nL 179.757053 193.311185 \nL 190.252351 192.739614 \nL 200.747649 191.653366 \nL 211.242947 191.182243 \nL 221.738245 190.692602 \nL 232.233542 190.600419 \nL 242.72884 190.457465 \nL 253.224138 189.916862 \nL 263.719436 189.113665 \nL 274.214734 188.502479 \nL 284.710031 188.130131 \nL 295.205329 187.769096 \nL 305.700627 186.884179 \nL 316.195925 185.755126 \nL 326.691223 185.898693 \nL 337.18652 185.71811 \nL 347.681818 185.608397 \n\" style=\"fill:none;stroke:#c44e52;stroke-linecap:round;stroke-width:1.75;\"/>\n   </g>\n   <g id=\"line2d_28\">\n    <path clip-path=\"url(#pf4f4f81147)\" d=\"M 43.318182 96.259934 \nL 53.81348 94.651281 \nL 64.308777 96.704871 \nL 74.804075 99.785285 \nL 85.299373 101.393938 \nL 95.794671 102.557639 \nL 106.289969 102.865684 \nL 116.785266 106.219896 \nL 127.280564 109.266076 \nL 137.775862 105.021962 \nL 148.27116 107.144019 \nL 158.766458 109.574108 \nL 169.261755 109.12917 \nL 179.757053 109.574108 \nL 190.252351 110.943182 \nL 200.747649 110.874729 \nL 211.242947 111.216994 \nL 221.738245 110.01906 \nL 232.233542 111.114308 \nL 242.72884 111.833071 \nL 253.224138 112.312243 \nL 263.719436 112.449149 \nL 274.214734 113.270599 \nL 284.710031 113.099459 \nL 295.205329 115.118844 \nL 305.700627 112.620288 \nL 316.195925 114.605439 \nL 326.691223 114.331627 \nL 337.18652 117.172435 \nL 347.681818 114.263174 \n\" style=\"fill:none;stroke:#8172b2;stroke-linecap:round;stroke-width:1.75;\"/>\n   </g>\n   <g id=\"patch_3\">\n    <path d=\"M 28.1 224.64 \nL 28.1 7.2 \n\" style=\"fill:none;\"/>\n   </g>\n   <g id=\"patch_4\">\n    <path d=\"M 362.9 224.64 \nL 362.9 7.2 \n\" style=\"fill:none;\"/>\n   </g>\n   <g id=\"patch_5\">\n    <path d=\"M 28.1 224.64 \nL 362.9 224.64 \n\" style=\"fill:none;\"/>\n   </g>\n   <g id=\"patch_6\">\n    <path d=\"M 28.1 7.2 \nL 362.9 7.2 \n\" style=\"fill:none;\"/>\n   </g>\n   <g id=\"legend_1\">\n    <g id=\"line2d_29\">\n     <path d=\"M 37.1 19.946875 \nL 57.1 19.946875 \n\" style=\"fill:none;stroke:#4c72b0;stroke-linecap:round;stroke-width:1.75;\"/>\n    </g>\n    <g id=\"line2d_30\"/>\n    <g id=\"text_13\">\n     <!-- loss -->\n     <defs>\n      <path d=\"M 6.734375 0 \nL 6.734375 72.46875 \nL 15.53125 72.46875 \nL 15.53125 0 \nz\n\" id=\"LiberationSans-108\"/>\n      <path d=\"M 51.421875 26.46875 \nQ 51.421875 12.59375 45.3125 5.796875 \nQ 39.203125 -0.984375 27.59375 -0.984375 \nQ 22.078125 -0.984375 17.71875 0.671875 \nQ 13.375 2.34375 10.375 5.765625 \nQ 7.375 9.1875 5.78125 14.328125 \nQ 4.203125 19.484375 4.203125 26.46875 \nQ 4.203125 53.8125 27.875 53.8125 \nQ 34.03125 53.8125 38.5 52.09375 \nQ 42.96875 50.390625 45.828125 46.96875 \nQ 48.6875 43.5625 50.046875 38.421875 \nQ 51.421875 33.296875 51.421875 26.46875 \nz\nM 42.1875 26.46875 \nQ 42.1875 32.625 41.234375 36.625 \nQ 40.28125 40.625 38.453125 43.015625 \nQ 36.625 45.40625 33.984375 46.359375 \nQ 31.34375 47.3125 28.03125 47.3125 \nQ 24.65625 47.3125 21.9375 46.3125 \nQ 19.234375 45.3125 17.328125 42.890625 \nQ 15.4375 40.484375 14.421875 36.46875 \nQ 13.421875 32.46875 13.421875 26.46875 \nQ 13.421875 20.3125 14.5 16.28125 \nQ 15.578125 12.25 17.453125 9.859375 \nQ 19.34375 7.46875 21.90625 6.484375 \nQ 24.46875 5.515625 27.484375 5.515625 \nQ 30.859375 5.515625 33.59375 6.46875 \nQ 36.328125 7.421875 38.234375 9.8125 \nQ 40.140625 12.203125 41.15625 16.25 \nQ 42.1875 20.3125 42.1875 26.46875 \nz\n\" id=\"LiberationSans-111\"/>\n      <path d=\"M 46.390625 14.59375 \nQ 46.390625 10.890625 44.9375 7.984375 \nQ 43.5 5.078125 40.765625 3.09375 \nQ 38.03125 1.125 34.046875 0.0625 \nQ 30.078125 -0.984375 24.953125 -0.984375 \nQ 20.359375 -0.984375 16.671875 -0.265625 \nQ 12.984375 0.4375 10.203125 2 \nQ 7.421875 3.5625 5.53125 6.125 \nQ 3.65625 8.6875 2.78125 12.40625 \nL 10.546875 13.921875 \nQ 11.671875 9.671875 15.1875 7.6875 \nQ 18.703125 5.71875 24.953125 5.71875 \nQ 27.78125 5.71875 30.140625 6.109375 \nQ 32.515625 6.5 34.21875 7.453125 \nQ 35.9375 8.40625 36.890625 9.984375 \nQ 37.84375 11.578125 37.84375 13.921875 \nQ 37.84375 16.3125 36.71875 17.84375 \nQ 35.59375 19.390625 33.59375 20.40625 \nQ 31.59375 21.4375 28.734375 22.1875 \nQ 25.875 22.953125 22.46875 23.875 \nQ 19.28125 24.703125 16.15625 25.734375 \nQ 13.03125 26.765625 10.515625 28.4375 \nQ 8.015625 30.125 6.453125 32.609375 \nQ 4.890625 35.109375 4.890625 38.875 \nQ 4.890625 46.09375 10.03125 49.875 \nQ 15.1875 53.65625 25.046875 53.65625 \nQ 33.796875 53.65625 38.9375 50.578125 \nQ 44.09375 47.515625 45.453125 40.71875 \nL 37.546875 39.75 \nQ 37.109375 41.796875 35.9375 43.1875 \nQ 34.765625 44.578125 33.109375 45.4375 \nQ 31.453125 46.296875 29.375 46.65625 \nQ 27.296875 47.015625 25.046875 47.015625 \nQ 19.09375 47.015625 16.25 45.203125 \nQ 13.421875 43.40625 13.421875 39.75 \nQ 13.421875 37.59375 14.46875 36.203125 \nQ 15.53125 34.8125 17.40625 33.859375 \nQ 19.28125 32.90625 21.921875 32.203125 \nQ 24.5625 31.5 27.734375 30.71875 \nQ 29.828125 30.171875 32.03125 29.5625 \nQ 34.234375 28.953125 36.296875 28.09375 \nQ 38.375 27.25 40.203125 26.09375 \nQ 42.046875 24.953125 43.40625 23.34375 \nQ 44.78125 21.734375 45.578125 19.578125 \nQ 46.390625 17.4375 46.390625 14.59375 \nz\n\" id=\"LiberationSans-115\"/>\n     </defs>\n     <g style=\"fill:#262626;\" transform=\"translate(65.1 23.446875)scale(0.1 -0.1)\">\n      <use xlink:href=\"#LiberationSans-108\"/>\n      <use x=\"22.216797\" xlink:href=\"#LiberationSans-111\"/>\n      <use x=\"77.832031\" xlink:href=\"#LiberationSans-115\"/>\n      <use x=\"127.832031\" xlink:href=\"#LiberationSans-115\"/>\n     </g>\n    </g>\n    <g id=\"line2d_31\">\n     <path d=\"M 37.1 34.26875 \nL 57.1 34.26875 \n\" style=\"fill:none;stroke:#55a868;stroke-linecap:round;stroke-width:1.75;\"/>\n    </g>\n    <g id=\"line2d_32\"/>\n    <g id=\"text_14\">\n     <!-- accuracy -->\n     <defs>\n      <path d=\"M 20.21875 -0.984375 \nQ 12.25 -0.984375 8.25 3.21875 \nQ 4.25 7.421875 4.25 14.75 \nQ 4.25 19.96875 6.21875 23.3125 \nQ 8.203125 26.65625 11.390625 28.5625 \nQ 14.59375 30.46875 18.6875 31.203125 \nQ 22.796875 31.9375 27.046875 32.03125 \nL 38.921875 32.234375 \nL 38.921875 35.109375 \nQ 38.921875 38.375 38.234375 40.671875 \nQ 37.546875 42.96875 36.125 44.375 \nQ 34.71875 45.796875 32.59375 46.453125 \nQ 30.46875 47.125 27.59375 47.125 \nQ 25.046875 47.125 23 46.75 \nQ 20.953125 46.390625 19.4375 45.4375 \nQ 17.921875 44.484375 16.984375 42.84375 \nQ 16.0625 41.21875 15.765625 38.71875 \nL 6.59375 39.546875 \nQ 7.078125 42.671875 8.4375 45.28125 \nQ 9.8125 47.90625 12.328125 49.796875 \nQ 14.84375 51.703125 18.625 52.75 \nQ 22.40625 53.8125 27.78125 53.8125 \nQ 37.75 53.8125 42.765625 49.234375 \nQ 47.796875 44.671875 47.796875 36.03125 \nL 47.796875 13.28125 \nQ 47.796875 9.375 48.828125 7.390625 \nQ 49.859375 5.421875 52.734375 5.421875 \nQ 53.46875 5.421875 54.203125 5.515625 \nQ 54.9375 5.609375 55.609375 5.765625 \nL 55.609375 0.296875 \nQ 53.953125 -0.09375 52.3125 -0.28125 \nQ 50.6875 -0.484375 48.828125 -0.484375 \nQ 46.34375 -0.484375 44.5625 0.171875 \nQ 42.78125 0.828125 41.65625 2.171875 \nQ 40.53125 3.515625 39.9375 5.484375 \nQ 39.359375 7.46875 39.203125 10.109375 \nL 38.921875 10.109375 \nQ 37.5 7.5625 35.8125 5.515625 \nQ 34.125 3.46875 31.875 2.03125 \nQ 29.640625 0.59375 26.78125 -0.1875 \nQ 23.921875 -0.984375 20.21875 -0.984375 \nz\nM 22.21875 5.609375 \nQ 26.421875 5.609375 29.5625 7.140625 \nQ 32.71875 8.6875 34.78125 11.078125 \nQ 36.859375 13.484375 37.890625 16.3125 \nQ 38.921875 19.140625 38.921875 21.734375 \nL 38.921875 26.078125 \nL 29.296875 25.875 \nQ 26.078125 25.828125 23.171875 25.40625 \nQ 20.265625 25 18.0625 23.78125 \nQ 15.875 22.5625 14.578125 20.359375 \nQ 13.28125 18.171875 13.28125 14.59375 \nQ 13.28125 10.296875 15.59375 7.953125 \nQ 17.921875 5.609375 22.21875 5.609375 \nz\n\" id=\"LiberationSans-97\"/>\n      <path d=\"M 13.421875 26.65625 \nQ 13.421875 22.125 14.078125 18.3125 \nQ 14.75 14.5 16.3125 11.734375 \nQ 17.875 8.984375 20.4375 7.46875 \nQ 23 5.953125 26.765625 5.953125 \nQ 31.453125 5.953125 34.59375 8.484375 \nQ 37.75 11.03125 38.484375 16.3125 \nL 47.359375 15.71875 \nQ 46.921875 12.453125 45.453125 9.421875 \nQ 44 6.390625 41.484375 4.09375 \nQ 38.96875 1.8125 35.34375 0.40625 \nQ 31.734375 -0.984375 27 -0.984375 \nQ 20.796875 -0.984375 16.453125 1.109375 \nQ 12.109375 3.21875 9.390625 6.90625 \nQ 6.6875 10.59375 5.46875 15.59375 \nQ 4.25 20.609375 4.25 26.46875 \nQ 4.25 31.78125 5.125 35.859375 \nQ 6 39.9375 7.59375 42.984375 \nQ 9.1875 46.046875 11.328125 48.125 \nQ 13.484375 50.203125 15.984375 51.4375 \nQ 18.5 52.6875 21.28125 53.25 \nQ 24.078125 53.8125 26.90625 53.8125 \nQ 31.34375 53.8125 34.8125 52.59375 \nQ 38.28125 51.375 40.796875 49.25 \nQ 43.3125 47.125 44.875 44.234375 \nQ 46.4375 41.359375 47.078125 38.03125 \nL 38.03125 37.359375 \nQ 37.359375 41.75 34.5625 44.328125 \nQ 31.78125 46.921875 26.65625 46.921875 \nQ 22.90625 46.921875 20.390625 45.671875 \nQ 17.875 44.4375 16.3125 41.921875 \nQ 14.75 39.40625 14.078125 35.59375 \nQ 13.421875 31.78125 13.421875 26.65625 \nz\n\" id=\"LiberationSans-99\"/>\n      <path d=\"M 15.328125 52.828125 \nL 15.328125 19.34375 \nQ 15.328125 15.484375 15.890625 12.890625 \nQ 16.453125 10.296875 17.71875 8.703125 \nQ 19 7.125 21.0625 6.46875 \nQ 23.140625 5.8125 26.21875 5.8125 \nQ 29.34375 5.8125 31.859375 6.90625 \nQ 34.375 8.015625 36.15625 10.078125 \nQ 37.9375 12.15625 38.90625 15.203125 \nQ 39.890625 18.265625 39.890625 22.21875 \nL 39.890625 52.828125 \nL 48.6875 52.828125 \nL 48.6875 11.28125 \nQ 48.6875 9.625 48.703125 7.78125 \nQ 48.734375 5.953125 48.78125 4.3125 \nQ 48.828125 2.6875 48.875 1.515625 \nQ 48.921875 0.34375 48.96875 0 \nL 40.671875 0 \nQ 40.625 0.25 40.578125 1.3125 \nQ 40.53125 2.390625 40.453125 3.78125 \nQ 40.375 5.171875 40.328125 6.609375 \nQ 40.28125 8.0625 40.28125 9.03125 \nL 40.140625 9.03125 \nQ 38.875 6.734375 37.359375 4.875 \nQ 35.84375 3.03125 33.84375 1.734375 \nQ 31.84375 0.4375 29.25 -0.265625 \nQ 26.65625 -0.984375 23.25 -0.984375 \nQ 18.84375 -0.984375 15.671875 0.09375 \nQ 12.5 1.171875 10.453125 3.421875 \nQ 8.40625 5.671875 7.453125 9.1875 \nQ 6.5 12.703125 6.5 17.625 \nL 6.5 52.828125 \nz\n\" id=\"LiberationSans-117\"/>\n      <path d=\"M 6.9375 0 \nL 6.9375 40.53125 \nQ 6.9375 42.1875 6.90625 43.921875 \nQ 6.890625 45.65625 6.828125 47.265625 \nQ 6.78125 48.875 6.734375 50.28125 \nQ 6.6875 51.703125 6.640625 52.828125 \nL 14.9375 52.828125 \nQ 14.984375 51.703125 15.0625 50.265625 \nQ 15.140625 48.828125 15.203125 47.3125 \nQ 15.28125 45.796875 15.296875 44.40625 \nQ 15.328125 43.015625 15.328125 42.046875 \nL 15.53125 42.046875 \nQ 16.453125 45.0625 17.5 47.28125 \nQ 18.5625 49.515625 19.96875 50.953125 \nQ 21.390625 52.390625 23.34375 53.09375 \nQ 25.296875 53.8125 28.078125 53.8125 \nQ 29.15625 53.8125 30.125 53.640625 \nQ 31.109375 53.46875 31.640625 53.328125 \nL 31.640625 45.265625 \nQ 30.765625 45.515625 29.59375 45.625 \nQ 28.421875 45.75 26.953125 45.75 \nQ 23.921875 45.75 21.796875 44.375 \nQ 19.671875 43.015625 18.328125 40.59375 \nQ 17 38.1875 16.359375 34.84375 \nQ 15.71875 31.5 15.71875 27.546875 \nL 15.71875 0 \nz\n\" id=\"LiberationSans-114\"/>\n      <path d=\"M 29.5 0 \nQ 27.640625 -4.78125 25.703125 -8.609375 \nQ 23.78125 -12.453125 21.390625 -15.15625 \nQ 19 -17.875 16.0625 -19.3125 \nQ 13.140625 -20.75 9.328125 -20.75 \nQ 7.671875 -20.75 6.25 -20.65625 \nQ 4.828125 -20.5625 3.265625 -20.21875 \nL 3.265625 -13.625 \nQ 4.203125 -13.765625 5.375 -13.84375 \nQ 6.546875 -13.921875 7.375 -13.921875 \nQ 11.234375 -13.921875 14.546875 -11.03125 \nQ 17.875 -8.15625 20.359375 -1.859375 \nL 21.1875 0.25 \nL 0.25 52.828125 \nL 9.625 52.828125 \nL 20.75 23.640625 \nQ 21.234375 22.3125 21.984375 20.109375 \nQ 22.75 17.921875 23.5 15.71875 \nQ 24.265625 13.53125 24.84375 11.765625 \nQ 25.4375 10.015625 25.53125 9.578125 \nQ 25.6875 10.109375 26.25 11.6875 \nQ 26.8125 13.28125 27.515625 15.234375 \nQ 28.21875 17.1875 28.953125 19.1875 \nQ 29.6875 21.1875 30.171875 22.65625 \nL 40.53125 52.828125 \nL 49.8125 52.828125 \nz\n\" id=\"LiberationSans-121\"/>\n     </defs>\n     <g style=\"fill:#262626;\" transform=\"translate(65.1 37.76875)scale(0.1 -0.1)\">\n      <use xlink:href=\"#LiberationSans-97\"/>\n      <use x=\"55.615234\" xlink:href=\"#LiberationSans-99\"/>\n      <use x=\"105.615234\" xlink:href=\"#LiberationSans-99\"/>\n      <use x=\"155.615234\" xlink:href=\"#LiberationSans-117\"/>\n      <use x=\"211.230469\" xlink:href=\"#LiberationSans-114\"/>\n      <use x=\"244.53125\" xlink:href=\"#LiberationSans-97\"/>\n      <use x=\"300.146484\" xlink:href=\"#LiberationSans-99\"/>\n      <use x=\"350.146484\" xlink:href=\"#LiberationSans-121\"/>\n     </g>\n    </g>\n    <g id=\"line2d_33\">\n     <path d=\"M 37.1 48.590625 \nL 57.1 48.590625 \n\" style=\"fill:none;stroke:#c44e52;stroke-linecap:round;stroke-width:1.75;\"/>\n    </g>\n    <g id=\"line2d_34\"/>\n    <g id=\"text_15\">\n     <!-- val_loss -->\n     <defs>\n      <path d=\"M 29.9375 0 \nL 19.53125 0 \nL 0.34375 52.828125 \nL 9.71875 52.828125 \nL 21.34375 18.453125 \nQ 21.6875 17.390625 22.140625 15.84375 \nQ 22.609375 14.3125 23.09375 12.640625 \nQ 23.578125 10.984375 24 9.4375 \nQ 24.421875 7.90625 24.703125 6.890625 \nQ 25 7.90625 25.453125 9.4375 \nQ 25.921875 10.984375 26.40625 12.59375 \nQ 26.90625 14.203125 27.421875 15.734375 \nQ 27.9375 17.28125 28.328125 18.359375 \nL 40.328125 52.828125 \nL 49.65625 52.828125 \nz\n\" id=\"LiberationSans-118\"/>\n      <path d=\"M -1.515625 -19.875 \nL -1.515625 -13.53125 \nL 56.734375 -13.53125 \nL 56.734375 -19.875 \nz\n\" id=\"LiberationSans-95\"/>\n     </defs>\n     <g style=\"fill:#262626;\" transform=\"translate(65.1 52.090625)scale(0.1 -0.1)\">\n      <use xlink:href=\"#LiberationSans-118\"/>\n      <use x=\"50\" xlink:href=\"#LiberationSans-97\"/>\n      <use x=\"105.615234\" xlink:href=\"#LiberationSans-108\"/>\n      <use x=\"127.832031\" xlink:href=\"#LiberationSans-95\"/>\n      <use x=\"183.447266\" xlink:href=\"#LiberationSans-108\"/>\n      <use x=\"205.664062\" xlink:href=\"#LiberationSans-111\"/>\n      <use x=\"261.279297\" xlink:href=\"#LiberationSans-115\"/>\n      <use x=\"311.279297\" xlink:href=\"#LiberationSans-115\"/>\n     </g>\n    </g>\n    <g id=\"line2d_35\">\n     <path d=\"M 37.1 62.9125 \nL 57.1 62.9125 \n\" style=\"fill:none;stroke:#8172b2;stroke-linecap:round;stroke-width:1.75;\"/>\n    </g>\n    <g id=\"line2d_36\"/>\n    <g id=\"text_16\">\n     <!-- val_accuracy -->\n     <g style=\"fill:#262626;\" transform=\"translate(65.1 66.4125)scale(0.1 -0.1)\">\n      <use xlink:href=\"#LiberationSans-118\"/>\n      <use x=\"50\" xlink:href=\"#LiberationSans-97\"/>\n      <use x=\"105.615234\" xlink:href=\"#LiberationSans-108\"/>\n      <use x=\"127.832031\" xlink:href=\"#LiberationSans-95\"/>\n      <use x=\"183.447266\" xlink:href=\"#LiberationSans-97\"/>\n      <use x=\"239.0625\" xlink:href=\"#LiberationSans-99\"/>\n      <use x=\"289.0625\" xlink:href=\"#LiberationSans-99\"/>\n      <use x=\"339.0625\" xlink:href=\"#LiberationSans-117\"/>\n      <use x=\"394.677734\" xlink:href=\"#LiberationSans-114\"/>\n      <use x=\"427.978516\" xlink:href=\"#LiberationSans-97\"/>\n      <use x=\"483.59375\" xlink:href=\"#LiberationSans-99\"/>\n      <use x=\"533.59375\" xlink:href=\"#LiberationSans-121\"/>\n     </g>\n    </g>\n   </g>\n  </g>\n </g>\n <defs>\n  <clipPath id=\"pf4f4f81147\">\n   <rect height=\"217.44\" width=\"334.8\" x=\"28.1\" y=\"7.2\"/>\n  </clipPath>\n </defs>\n</svg>\n"
          },
          "metadata": {
            "needs_background": "light"
          }
        }
      ]
    },
    {
      "cell_type": "code",
      "source": [
        "score = model.evaluate(X_test, y_test,\n",
        "                       batch_size=128, verbose=1)\n",
        "print('Test accuracy:', score[1])\n",
        "\n",
        "preds = model.predict(X_test)\n",
        "\n",
        "print(classification_report(np.argmax(y_test,axis=1),np.argmax(preds,axis=1)))"
      ],
      "metadata": {
        "colab": {
          "base_uri": "https://localhost:8080/"
        },
        "id": "mOBX3Da7P8UT",
        "outputId": "922280b2-4baf-49c0-c63f-7183daa1ee5e"
      },
      "execution_count": null,
      "outputs": [
        {
          "output_type": "stream",
          "name": "stdout",
          "text": [
            "117/117 [==============================] - 1s 4ms/step - loss: 0.1750 - accuracy: 0.3353\n",
            "Test accuracy: 0.3352535367012024\n",
            "              precision    recall  f1-score   support\n",
            "\n",
            "           0       0.41      0.61      0.49      5441\n",
            "           1       0.11      0.01      0.02      1726\n",
            "           2       0.23      0.18      0.20      3347\n",
            "           3       0.27      0.29      0.28      3512\n",
            "           4       0.17      0.05      0.08       903\n",
            "\n",
            "    accuracy                           0.34     14929\n",
            "   macro avg       0.24      0.23      0.22     14929\n",
            "weighted avg       0.29      0.34      0.30     14929\n",
            "\n"
          ]
        }
      ]
    },
    {
      "cell_type": "code",
      "source": [
        ""
      ],
      "metadata": {
        "id": "1qKqCFMvQIvM"
      },
      "execution_count": null,
      "outputs": []
    },
    {
      "cell_type": "code",
      "source": [
        ""
      ],
      "metadata": {
        "id": "7MRS28nOQI50"
      },
      "execution_count": null,
      "outputs": []
    },
    {
      "cell_type": "code",
      "source": [
        "history_1 = model.fit(X_train, y_train,\n",
        "                    batch_size=128,\n",
        "                    epochs=30,\n",
        "                    verbose=1,\n",
        "                    validation_data=(X_val, y_val),\n",
        "                    shuffle = True\n",
        "                    )"
      ],
      "metadata": {
        "colab": {
          "base_uri": "https://localhost:8080/"
        },
        "id": "MT4xtRIWj14V",
        "outputId": "bc2c5c79-244e-41a4-abba-95354c00df09"
      },
      "execution_count": null,
      "outputs": [
        {
          "output_type": "stream",
          "name": "stdout",
          "text": [
            "Epoch 1/30\n",
            "941/941 [==============================] - 13s 11ms/step - loss: 1.4781 - accuracy: 0.3602 - val_loss: 1.4522 - val_accuracy: 0.3686\n",
            "Epoch 2/30\n",
            "941/941 [==============================] - 10s 11ms/step - loss: 1.4455 - accuracy: 0.3699 - val_loss: 1.4454 - val_accuracy: 0.3766\n",
            "Epoch 3/30\n",
            "941/941 [==============================] - 8s 9ms/step - loss: 1.4275 - accuracy: 0.3808 - val_loss: 1.4427 - val_accuracy: 0.3722\n",
            "Epoch 4/30\n",
            "941/941 [==============================] - 8s 9ms/step - loss: 1.4130 - accuracy: 0.3876 - val_loss: 1.4440 - val_accuracy: 0.3734\n",
            "Epoch 5/30\n",
            "941/941 [==============================] - 8s 9ms/step - loss: 1.3999 - accuracy: 0.3945 - val_loss: 1.4458 - val_accuracy: 0.3713\n",
            "Epoch 6/30\n",
            "941/941 [==============================] - 9s 9ms/step - loss: 1.3896 - accuracy: 0.4001 - val_loss: 1.4500 - val_accuracy: 0.3719\n",
            "Epoch 7/30\n",
            "941/941 [==============================] - 8s 9ms/step - loss: 1.3805 - accuracy: 0.4068 - val_loss: 1.4536 - val_accuracy: 0.3637\n",
            "Epoch 8/30\n",
            "941/941 [==============================] - 8s 9ms/step - loss: 1.3730 - accuracy: 0.4107 - val_loss: 1.4603 - val_accuracy: 0.3699\n",
            "Epoch 9/30\n",
            "941/941 [==============================] - 8s 9ms/step - loss: 1.3658 - accuracy: 0.4163 - val_loss: 1.4636 - val_accuracy: 0.3631\n",
            "Epoch 10/30\n",
            "941/941 [==============================] - 9s 9ms/step - loss: 1.3602 - accuracy: 0.4182 - val_loss: 1.4693 - val_accuracy: 0.3559\n",
            "Epoch 11/30\n",
            "941/941 [==============================] - 8s 9ms/step - loss: 1.3548 - accuracy: 0.4213 - val_loss: 1.4768 - val_accuracy: 0.3590\n",
            "Epoch 12/30\n",
            "941/941 [==============================] - 8s 9ms/step - loss: 1.3491 - accuracy: 0.4248 - val_loss: 1.4818 - val_accuracy: 0.3632\n",
            "Epoch 13/30\n",
            "941/941 [==============================] - 8s 9ms/step - loss: 1.3447 - accuracy: 0.4259 - val_loss: 1.4860 - val_accuracy: 0.3628\n",
            "Epoch 14/30\n",
            "941/941 [==============================] - 8s 9ms/step - loss: 1.3401 - accuracy: 0.4306 - val_loss: 1.4977 - val_accuracy: 0.3628\n",
            "Epoch 15/30\n",
            "941/941 [==============================] - 8s 9ms/step - loss: 1.3347 - accuracy: 0.4324 - val_loss: 1.5043 - val_accuracy: 0.3562\n",
            "Epoch 16/30\n",
            "941/941 [==============================] - 9s 9ms/step - loss: 1.3294 - accuracy: 0.4342 - val_loss: 1.5101 - val_accuracy: 0.3598\n",
            "Epoch 17/30\n",
            "941/941 [==============================] - 9s 9ms/step - loss: 1.3228 - accuracy: 0.4373 - val_loss: 1.5179 - val_accuracy: 0.3579\n",
            "Epoch 18/30\n",
            "941/941 [==============================] - 8s 9ms/step - loss: 1.3187 - accuracy: 0.4397 - val_loss: 1.5396 - val_accuracy: 0.3586\n",
            "Epoch 19/30\n",
            "941/941 [==============================] - 8s 9ms/step - loss: 1.3136 - accuracy: 0.4424 - val_loss: 1.5407 - val_accuracy: 0.3574\n",
            "Epoch 20/30\n",
            "941/941 [==============================] - 8s 9ms/step - loss: 1.3081 - accuracy: 0.4446 - val_loss: 1.5454 - val_accuracy: 0.3589\n",
            "Epoch 21/30\n",
            "941/941 [==============================] - 8s 9ms/step - loss: 1.3025 - accuracy: 0.4488 - val_loss: 1.5484 - val_accuracy: 0.3557\n",
            "Epoch 22/30\n",
            "941/941 [==============================] - 9s 9ms/step - loss: 1.2971 - accuracy: 0.4499 - val_loss: 1.5633 - val_accuracy: 0.3454\n",
            "Epoch 23/30\n",
            "941/941 [==============================] - 9s 10ms/step - loss: 1.2923 - accuracy: 0.4515 - val_loss: 1.5646 - val_accuracy: 0.3503\n",
            "Epoch 24/30\n",
            "941/941 [==============================] - 9s 9ms/step - loss: 1.2871 - accuracy: 0.4540 - val_loss: 1.5810 - val_accuracy: 0.3488\n",
            "Epoch 25/30\n",
            "941/941 [==============================] - 8s 9ms/step - loss: 1.2828 - accuracy: 0.4559 - val_loss: 1.5917 - val_accuracy: 0.3517\n",
            "Epoch 26/30\n",
            "941/941 [==============================] - 9s 9ms/step - loss: 1.2774 - accuracy: 0.4589 - val_loss: 1.6204 - val_accuracy: 0.3553\n",
            "Epoch 27/30\n",
            "941/941 [==============================] - 8s 9ms/step - loss: 1.2711 - accuracy: 0.4612 - val_loss: 1.6083 - val_accuracy: 0.3523\n",
            "Epoch 28/30\n",
            "941/941 [==============================] - 8s 9ms/step - loss: 1.2672 - accuracy: 0.4623 - val_loss: 1.6339 - val_accuracy: 0.3531\n",
            "Epoch 29/30\n",
            "941/941 [==============================] - 8s 9ms/step - loss: 1.2634 - accuracy: 0.4647 - val_loss: 1.6445 - val_accuracy: 0.3485\n",
            "Epoch 30/30\n",
            "941/941 [==============================] - 8s 9ms/step - loss: 1.2570 - accuracy: 0.4679 - val_loss: 1.6598 - val_accuracy: 0.3506\n"
          ]
        }
      ]
    },
    {
      "cell_type": "code",
      "source": [
        "pd.DataFrame(history_1.history).plot()"
      ],
      "metadata": {
        "colab": {
          "base_uri": "https://localhost:8080/",
          "height": 370
        },
        "id": "PpqQYgYQhzXC",
        "outputId": "40c12141-104e-4005-d936-46c1bc516333"
      },
      "execution_count": null,
      "outputs": [
        {
          "output_type": "execute_result",
          "data": {
            "text/plain": [
              "<matplotlib.axes._subplots.AxesSubplot at 0x7f7649aecd50>"
            ]
          },
          "metadata": {},
          "execution_count": 78
        },
        {
          "output_type": "display_data",
          "data": {
            "text/plain": [
              "<Figure size 432x288 with 1 Axes>"
            ],
            "image/svg+xml": "<?xml version=\"1.0\" encoding=\"utf-8\" standalone=\"no\"?>\n<!DOCTYPE svg PUBLIC \"-//W3C//DTD SVG 1.1//EN\"\n  \"http://www.w3.org/Graphics/SVG/1.1/DTD/svg11.dtd\">\n<!-- Created with matplotlib (https://matplotlib.org/) -->\n<svg height=\"248.161875pt\" version=\"1.1\" viewBox=\"0 0 370.938053 248.161875\" width=\"370.938053pt\" xmlns=\"http://www.w3.org/2000/svg\" xmlns:xlink=\"http://www.w3.org/1999/xlink\">\n <defs>\n  <style type=\"text/css\">\n*{stroke-linecap:butt;stroke-linejoin:round;}\n  </style>\n </defs>\n <g id=\"figure_1\">\n  <g id=\"patch_1\">\n   <path d=\"M 0 248.161875 \nL 370.938053 248.161875 \nL 370.938053 0 \nL 0 0 \nz\n\" style=\"fill:none;\"/>\n  </g>\n  <g id=\"axes_1\">\n   <g id=\"patch_2\">\n    <path d=\"M 28.1 224.64 \nL 362.9 224.64 \nL 362.9 7.2 \nL 28.1 7.2 \nz\n\" style=\"fill:#eaeaf2;\"/>\n   </g>\n   <g id=\"matplotlib.axis_1\">\n    <g id=\"xtick_1\">\n     <g id=\"line2d_1\">\n      <path clip-path=\"url(#p1eca9d94ab)\" d=\"M 43.318182 224.64 \nL 43.318182 7.2 \n\" style=\"fill:none;stroke:#ffffff;stroke-linecap:round;\"/>\n     </g>\n     <g id=\"line2d_2\"/>\n     <g id=\"text_1\">\n      <!-- 0 -->\n      <defs>\n       <path d=\"M 51.703125 34.421875 \nQ 51.703125 24.515625 49.828125 17.75 \nQ 47.953125 10.984375 44.703125 6.8125 \nQ 41.453125 2.640625 37.0625 0.828125 \nQ 32.671875 -0.984375 27.6875 -0.984375 \nQ 22.65625 -0.984375 18.3125 0.828125 \nQ 13.96875 2.640625 10.765625 6.78125 \nQ 7.5625 10.9375 5.734375 17.703125 \nQ 3.90625 24.46875 3.90625 34.421875 \nQ 3.90625 44.828125 5.734375 51.640625 \nQ 7.5625 58.453125 10.78125 62.5 \nQ 14.015625 66.546875 18.40625 68.1875 \nQ 22.796875 69.828125 27.984375 69.828125 \nQ 32.90625 69.828125 37.21875 68.1875 \nQ 41.546875 66.546875 44.765625 62.5 \nQ 48 58.453125 49.84375 51.640625 \nQ 51.703125 44.828125 51.703125 34.421875 \nz\nM 42.78125 34.421875 \nQ 42.78125 42.625 41.796875 48.0625 \nQ 40.828125 53.515625 38.921875 56.765625 \nQ 37.015625 60.015625 34.25 61.359375 \nQ 31.5 62.703125 27.984375 62.703125 \nQ 24.265625 62.703125 21.4375 61.328125 \nQ 18.609375 59.96875 16.671875 56.71875 \nQ 14.75 53.46875 13.765625 48.015625 \nQ 12.796875 42.578125 12.796875 34.421875 \nQ 12.796875 26.515625 13.796875 21.09375 \nQ 14.796875 15.671875 16.71875 12.375 \nQ 18.65625 9.078125 21.4375 7.640625 \nQ 24.21875 6.203125 27.78125 6.203125 \nQ 31.25 6.203125 34.03125 7.640625 \nQ 36.8125 9.078125 38.734375 12.375 \nQ 40.671875 15.671875 41.71875 21.09375 \nQ 42.78125 26.515625 42.78125 34.421875 \nz\n\" id=\"LiberationSans-48\"/>\n      </defs>\n      <g style=\"fill:#262626;\" transform=\"translate(40.537713 238.886875)scale(0.1 -0.1)\">\n       <use xlink:href=\"#LiberationSans-48\"/>\n      </g>\n     </g>\n    </g>\n    <g id=\"xtick_2\">\n     <g id=\"line2d_3\">\n      <path clip-path=\"url(#p1eca9d94ab)\" d=\"M 95.794671 224.64 \nL 95.794671 7.2 \n\" style=\"fill:none;stroke:#ffffff;stroke-linecap:round;\"/>\n     </g>\n     <g id=\"line2d_4\"/>\n     <g id=\"text_2\">\n      <!-- 5 -->\n      <defs>\n       <path d=\"M 51.421875 22.40625 \nQ 51.421875 17.234375 49.859375 12.9375 \nQ 48.296875 8.640625 45.21875 5.53125 \nQ 42.140625 2.4375 37.578125 0.71875 \nQ 33.015625 -0.984375 27 -0.984375 \nQ 21.578125 -0.984375 17.546875 0.28125 \nQ 13.53125 1.5625 10.734375 3.78125 \nQ 7.953125 6 6.3125 8.984375 \nQ 4.6875 11.96875 4 15.375 \nL 12.890625 16.40625 \nQ 13.421875 14.453125 14.390625 12.625 \nQ 15.375 10.796875 17.0625 9.34375 \nQ 18.75 7.90625 21.21875 7.046875 \nQ 23.6875 6.203125 27.203125 6.203125 \nQ 30.609375 6.203125 33.390625 7.25 \nQ 36.1875 8.296875 38.15625 10.34375 \nQ 40.140625 12.40625 41.203125 15.375 \nQ 42.28125 18.359375 42.28125 22.21875 \nQ 42.28125 25.390625 41.25 28.046875 \nQ 40.234375 30.71875 38.328125 32.640625 \nQ 36.421875 34.578125 33.65625 35.640625 \nQ 30.90625 36.71875 27.390625 36.71875 \nQ 25.203125 36.71875 23.34375 36.328125 \nQ 21.484375 35.9375 19.890625 35.25 \nQ 18.3125 34.578125 17.015625 33.671875 \nQ 15.71875 32.765625 14.59375 31.78125 \nL 6 31.78125 \nL 8.296875 68.796875 \nL 47.40625 68.796875 \nL 47.40625 61.328125 \nL 16.3125 61.328125 \nL 14.984375 39.5 \nQ 17.328125 41.3125 20.84375 42.59375 \nQ 24.359375 43.890625 29.203125 43.890625 \nQ 34.328125 43.890625 38.421875 42.328125 \nQ 42.53125 40.765625 45.40625 37.90625 \nQ 48.296875 35.0625 49.859375 31.109375 \nQ 51.421875 27.15625 51.421875 22.40625 \nz\n\" id=\"LiberationSans-53\"/>\n      </defs>\n      <g style=\"fill:#262626;\" transform=\"translate(93.014202 238.886875)scale(0.1 -0.1)\">\n       <use xlink:href=\"#LiberationSans-53\"/>\n      </g>\n     </g>\n    </g>\n    <g id=\"xtick_3\">\n     <g id=\"line2d_5\">\n      <path clip-path=\"url(#p1eca9d94ab)\" d=\"M 148.27116 224.64 \nL 148.27116 7.2 \n\" style=\"fill:none;stroke:#ffffff;stroke-linecap:round;\"/>\n     </g>\n     <g id=\"line2d_6\"/>\n     <g id=\"text_3\">\n      <!-- 10 -->\n      <defs>\n       <path d=\"M 7.625 0 \nL 7.625 7.46875 \nL 25.140625 7.46875 \nL 25.140625 60.40625 \nL 9.625 49.3125 \nL 9.625 57.625 \nL 25.875 68.796875 \nL 33.984375 68.796875 \nL 33.984375 7.46875 \nL 50.734375 7.46875 \nL 50.734375 0 \nz\n\" id=\"LiberationSans-49\"/>\n      </defs>\n      <g style=\"fill:#262626;\" transform=\"translate(142.710222 238.886875)scale(0.1 -0.1)\">\n       <use xlink:href=\"#LiberationSans-49\"/>\n       <use x=\"55.615234\" xlink:href=\"#LiberationSans-48\"/>\n      </g>\n     </g>\n    </g>\n    <g id=\"xtick_4\">\n     <g id=\"line2d_7\">\n      <path clip-path=\"url(#p1eca9d94ab)\" d=\"M 200.747649 224.64 \nL 200.747649 7.2 \n\" style=\"fill:none;stroke:#ffffff;stroke-linecap:round;\"/>\n     </g>\n     <g id=\"line2d_8\"/>\n     <g id=\"text_4\">\n      <!-- 15 -->\n      <g style=\"fill:#262626;\" transform=\"translate(195.186711 238.886875)scale(0.1 -0.1)\">\n       <use xlink:href=\"#LiberationSans-49\"/>\n       <use x=\"55.615234\" xlink:href=\"#LiberationSans-53\"/>\n      </g>\n     </g>\n    </g>\n    <g id=\"xtick_5\">\n     <g id=\"line2d_9\">\n      <path clip-path=\"url(#p1eca9d94ab)\" d=\"M 253.224138 224.64 \nL 253.224138 7.2 \n\" style=\"fill:none;stroke:#ffffff;stroke-linecap:round;\"/>\n     </g>\n     <g id=\"line2d_10\"/>\n     <g id=\"text_5\">\n      <!-- 20 -->\n      <defs>\n       <path d=\"M 5.03125 0 \nL 5.03125 6.203125 \nQ 7.515625 11.921875 11.109375 16.28125 \nQ 14.703125 20.65625 18.65625 24.1875 \nQ 22.609375 27.734375 26.484375 30.765625 \nQ 30.375 33.796875 33.5 36.8125 \nQ 36.625 39.84375 38.546875 43.15625 \nQ 40.484375 46.484375 40.484375 50.6875 \nQ 40.484375 53.609375 39.59375 55.828125 \nQ 38.71875 58.0625 37.0625 59.5625 \nQ 35.40625 61.078125 33.078125 61.828125 \nQ 30.765625 62.59375 27.9375 62.59375 \nQ 25.296875 62.59375 22.96875 61.859375 \nQ 20.65625 61.140625 18.84375 59.671875 \nQ 17.046875 58.203125 15.890625 56.03125 \nQ 14.75 53.859375 14.40625 50.984375 \nL 5.421875 51.8125 \nQ 5.859375 55.515625 7.46875 58.78125 \nQ 9.078125 62.0625 11.90625 64.53125 \nQ 14.75 67 18.71875 68.40625 \nQ 22.703125 69.828125 27.9375 69.828125 \nQ 33.0625 69.828125 37.0625 68.609375 \nQ 41.0625 67.390625 43.8125 64.984375 \nQ 46.578125 62.59375 48.046875 59.078125 \nQ 49.515625 55.5625 49.515625 50.984375 \nQ 49.515625 47.515625 48.265625 44.390625 \nQ 47.015625 41.265625 44.9375 38.421875 \nQ 42.875 35.59375 40.140625 32.953125 \nQ 37.40625 30.328125 34.421875 27.8125 \nQ 31.453125 25.296875 28.421875 22.828125 \nQ 25.390625 20.359375 22.71875 17.859375 \nQ 20.0625 15.375 17.96875 12.8125 \nQ 15.875 10.25 14.703125 7.46875 \nL 50.59375 7.46875 \nL 50.59375 0 \nz\n\" id=\"LiberationSans-50\"/>\n      </defs>\n      <g style=\"fill:#262626;\" transform=\"translate(247.6632 238.886875)scale(0.1 -0.1)\">\n       <use xlink:href=\"#LiberationSans-50\"/>\n       <use x=\"55.615234\" xlink:href=\"#LiberationSans-48\"/>\n      </g>\n     </g>\n    </g>\n    <g id=\"xtick_6\">\n     <g id=\"line2d_11\">\n      <path clip-path=\"url(#p1eca9d94ab)\" d=\"M 305.700627 224.64 \nL 305.700627 7.2 \n\" style=\"fill:none;stroke:#ffffff;stroke-linecap:round;\"/>\n     </g>\n     <g id=\"line2d_12\"/>\n     <g id=\"text_6\">\n      <!-- 25 -->\n      <g style=\"fill:#262626;\" transform=\"translate(300.139689 238.886875)scale(0.1 -0.1)\">\n       <use xlink:href=\"#LiberationSans-50\"/>\n       <use x=\"55.615234\" xlink:href=\"#LiberationSans-53\"/>\n      </g>\n     </g>\n    </g>\n    <g id=\"xtick_7\">\n     <g id=\"line2d_13\">\n      <path clip-path=\"url(#p1eca9d94ab)\" d=\"M 358.177116 224.64 \nL 358.177116 7.2 \n\" style=\"fill:none;stroke:#ffffff;stroke-linecap:round;\"/>\n     </g>\n     <g id=\"line2d_14\"/>\n     <g id=\"text_7\">\n      <!-- 30 -->\n      <defs>\n       <path d=\"M 51.21875 19 \nQ 51.21875 14.265625 49.671875 10.546875 \nQ 48.140625 6.84375 45.1875 4.265625 \nQ 42.234375 1.703125 37.859375 0.359375 \nQ 33.5 -0.984375 27.875 -0.984375 \nQ 21.484375 -0.984375 17.109375 0.609375 \nQ 12.75 2.203125 9.90625 4.8125 \nQ 7.078125 7.421875 5.65625 10.765625 \nQ 4.25 14.109375 3.8125 17.671875 \nL 12.890625 18.5 \nQ 13.28125 15.765625 14.328125 13.515625 \nQ 15.375 11.28125 17.1875 9.671875 \nQ 19 8.0625 21.625 7.171875 \nQ 24.265625 6.296875 27.875 6.296875 \nQ 34.515625 6.296875 38.296875 9.5625 \nQ 42.09375 12.84375 42.09375 19.28125 \nQ 42.09375 23.09375 40.40625 25.40625 \nQ 38.71875 27.734375 36.203125 29.03125 \nQ 33.6875 30.328125 30.734375 30.765625 \nQ 27.78125 31.203125 25.296875 31.203125 \nL 20.3125 31.203125 \nL 20.3125 38.8125 \nL 25.09375 38.8125 \nQ 27.59375 38.8125 30.265625 39.328125 \nQ 32.953125 39.84375 35.171875 41.1875 \nQ 37.40625 42.53125 38.84375 44.828125 \nQ 40.28125 47.125 40.28125 50.6875 \nQ 40.28125 56.203125 37.03125 59.390625 \nQ 33.796875 62.59375 27.390625 62.59375 \nQ 21.578125 62.59375 17.984375 59.609375 \nQ 14.40625 56.640625 13.8125 51.21875 \nL 4.984375 51.90625 \nQ 5.515625 56.453125 7.46875 59.8125 \nQ 9.421875 63.1875 12.421875 65.40625 \nQ 15.4375 67.625 19.28125 68.71875 \nQ 23.140625 69.828125 27.484375 69.828125 \nQ 33.25 69.828125 37.390625 68.375 \nQ 41.546875 66.9375 44.1875 64.46875 \nQ 46.828125 62.015625 48.0625 58.6875 \nQ 49.3125 55.375 49.3125 51.609375 \nQ 49.3125 48.578125 48.484375 45.9375 \nQ 47.65625 43.3125 45.890625 41.203125 \nQ 44.140625 39.109375 41.421875 37.59375 \nQ 38.71875 36.078125 34.90625 35.296875 \nL 34.90625 35.109375 \nQ 39.0625 34.671875 42.140625 33.21875 \nQ 45.21875 31.78125 47.21875 29.625 \nQ 49.21875 27.484375 50.21875 24.75 \nQ 51.21875 22.015625 51.21875 19 \nz\n\" id=\"LiberationSans-51\"/>\n      </defs>\n      <g style=\"fill:#262626;\" transform=\"translate(352.616178 238.886875)scale(0.1 -0.1)\">\n       <use xlink:href=\"#LiberationSans-51\"/>\n       <use x=\"55.615234\" xlink:href=\"#LiberationSans-48\"/>\n      </g>\n     </g>\n    </g>\n   </g>\n   <g id=\"matplotlib.axis_2\">\n    <g id=\"ytick_1\">\n     <g id=\"line2d_15\">\n      <path clip-path=\"url(#p1eca9d94ab)\" d=\"M 28.1 206.542074 \nL 362.9 206.542074 \n\" style=\"fill:none;stroke:#ffffff;stroke-linecap:round;\"/>\n     </g>\n     <g id=\"line2d_16\"/>\n     <g id=\"text_8\">\n      <!-- 0.4 -->\n      <defs>\n       <path d=\"M 9.125 0 \nL 9.125 10.6875 \nL 18.65625 10.6875 \nL 18.65625 0 \nz\n\" id=\"LiberationSans-46\"/>\n       <path d=\"M 43.015625 15.578125 \nL 43.015625 0 \nL 34.71875 0 \nL 34.71875 15.578125 \nL 2.296875 15.578125 \nL 2.296875 22.40625 \nL 33.796875 68.796875 \nL 43.015625 68.796875 \nL 43.015625 22.515625 \nL 52.6875 22.515625 \nL 52.6875 15.578125 \nz\nM 34.71875 58.890625 \nQ 34.625 58.640625 34.234375 57.9375 \nQ 33.84375 57.234375 33.34375 56.34375 \nQ 32.859375 55.46875 32.34375 54.5625 \nQ 31.84375 53.65625 31.453125 53.078125 \nL 13.8125 27.09375 \nQ 13.578125 26.703125 13.109375 26.0625 \nQ 12.640625 25.4375 12.15625 24.78125 \nQ 11.671875 24.125 11.171875 23.484375 \nQ 10.6875 22.859375 10.40625 22.515625 \nL 34.71875 22.515625 \nz\n\" id=\"LiberationSans-52\"/>\n      </defs>\n      <g style=\"fill:#262626;\" transform=\"translate(7.2 210.165512)scale(0.1 -0.1)\">\n       <use xlink:href=\"#LiberationSans-48\"/>\n       <use x=\"55.615234\" xlink:href=\"#LiberationSans-46\"/>\n       <use x=\"83.398438\" xlink:href=\"#LiberationSans-52\"/>\n      </g>\n     </g>\n    </g>\n    <g id=\"ytick_2\">\n     <g id=\"line2d_17\">\n      <path clip-path=\"url(#p1eca9d94ab)\" d=\"M 28.1 176.4651 \nL 362.9 176.4651 \n\" style=\"fill:none;stroke:#ffffff;stroke-linecap:round;\"/>\n     </g>\n     <g id=\"line2d_18\"/>\n     <g id=\"text_9\">\n      <!-- 0.6 -->\n      <defs>\n       <path d=\"M 51.21875 22.515625 \nQ 51.21875 17.328125 49.78125 13 \nQ 48.34375 8.6875 45.53125 5.578125 \nQ 42.71875 2.484375 38.5625 0.75 \nQ 34.421875 -0.984375 29 -0.984375 \nQ 23 -0.984375 18.5 1.3125 \nQ 14.015625 3.609375 11.03125 7.921875 \nQ 8.0625 12.25 6.5625 18.53125 \nQ 5.078125 24.8125 5.078125 32.8125 \nQ 5.078125 42 6.765625 48.921875 \nQ 8.453125 55.859375 11.625 60.5 \nQ 14.796875 65.140625 19.359375 67.484375 \nQ 23.921875 69.828125 29.6875 69.828125 \nQ 33.203125 69.828125 36.28125 69.09375 \nQ 39.359375 68.359375 41.875 66.71875 \nQ 44.390625 65.09375 46.28125 62.40625 \nQ 48.1875 59.71875 49.3125 55.8125 \nL 40.921875 54.296875 \nQ 39.546875 58.734375 36.546875 60.71875 \nQ 33.546875 62.703125 29.59375 62.703125 \nQ 25.984375 62.703125 23.046875 60.984375 \nQ 20.125 59.28125 18.0625 55.875 \nQ 16.015625 52.484375 14.90625 47.359375 \nQ 13.8125 42.234375 13.8125 35.40625 \nQ 16.21875 39.84375 20.5625 42.15625 \nQ 24.90625 44.484375 30.515625 44.484375 \nQ 35.203125 44.484375 39.015625 42.96875 \nQ 42.828125 41.453125 45.53125 38.59375 \nQ 48.25 35.75 49.734375 31.671875 \nQ 51.21875 27.59375 51.21875 22.515625 \nz\nM 42.28125 22.125 \nQ 42.28125 25.6875 41.40625 28.5625 \nQ 40.53125 31.453125 38.765625 33.46875 \nQ 37.015625 35.5 34.421875 36.59375 \nQ 31.84375 37.703125 28.421875 37.703125 \nQ 26.03125 37.703125 23.578125 36.984375 \nQ 21.140625 36.28125 19.15625 34.6875 \nQ 17.1875 33.109375 15.9375 30.515625 \nQ 14.703125 27.9375 14.703125 24.21875 \nQ 14.703125 20.40625 15.671875 17.109375 \nQ 16.65625 13.8125 18.484375 11.375 \nQ 20.3125 8.9375 22.890625 7.515625 \nQ 25.484375 6.109375 28.71875 6.109375 \nQ 31.890625 6.109375 34.40625 7.203125 \nQ 36.921875 8.296875 38.671875 10.375 \nQ 40.4375 12.453125 41.359375 15.421875 \nQ 42.28125 18.40625 42.28125 22.125 \nz\n\" id=\"LiberationSans-54\"/>\n      </defs>\n      <g style=\"fill:#262626;\" transform=\"translate(7.2 180.088537)scale(0.1 -0.1)\">\n       <use xlink:href=\"#LiberationSans-48\"/>\n       <use x=\"55.615234\" xlink:href=\"#LiberationSans-46\"/>\n       <use x=\"83.398438\" xlink:href=\"#LiberationSans-54\"/>\n      </g>\n     </g>\n    </g>\n    <g id=\"ytick_3\">\n     <g id=\"line2d_19\">\n      <path clip-path=\"url(#p1eca9d94ab)\" d=\"M 28.1 146.388125 \nL 362.9 146.388125 \n\" style=\"fill:none;stroke:#ffffff;stroke-linecap:round;\"/>\n     </g>\n     <g id=\"line2d_20\"/>\n     <g id=\"text_10\">\n      <!-- 0.8 -->\n      <defs>\n       <path d=\"M 51.265625 19.1875 \nQ 51.265625 14.796875 49.875 11.109375 \nQ 48.484375 7.421875 45.625 4.734375 \nQ 42.78125 2.046875 38.328125 0.53125 \nQ 33.890625 -0.984375 27.828125 -0.984375 \nQ 21.78125 -0.984375 17.359375 0.53125 \nQ 12.9375 2.046875 10.03125 4.703125 \nQ 7.125 7.375 5.734375 11.0625 \nQ 4.34375 14.75 4.34375 19.09375 \nQ 4.34375 22.859375 5.484375 25.78125 \nQ 6.640625 28.71875 8.5625 30.828125 \nQ 10.5 32.953125 12.96875 34.25 \nQ 15.4375 35.546875 18.0625 35.984375 \nL 18.0625 36.1875 \nQ 15.1875 36.859375 12.90625 38.375 \nQ 10.640625 39.890625 9.09375 42.015625 \nQ 7.5625 44.140625 6.75 46.71875 \nQ 5.953125 49.3125 5.953125 52.203125 \nQ 5.953125 55.8125 7.34375 59 \nQ 8.734375 62.203125 11.46875 64.625 \nQ 14.203125 67.046875 18.25 68.4375 \nQ 22.3125 69.828125 27.640625 69.828125 \nQ 33.25 69.828125 37.375 68.40625 \nQ 41.5 67 44.203125 64.578125 \nQ 46.921875 62.15625 48.234375 58.9375 \nQ 49.5625 55.71875 49.5625 52.09375 \nQ 49.5625 49.265625 48.75 46.671875 \nQ 47.953125 44.09375 46.40625 41.96875 \nQ 44.875 39.84375 42.59375 38.34375 \nQ 40.328125 36.859375 37.359375 36.28125 \nL 37.359375 36.078125 \nQ 40.328125 35.59375 42.859375 34.296875 \nQ 45.40625 33.015625 47.265625 30.890625 \nQ 49.125 28.765625 50.1875 25.828125 \nQ 51.265625 22.90625 51.265625 19.1875 \nz\nM 40.4375 51.609375 \nQ 40.4375 54.203125 39.765625 56.34375 \nQ 39.109375 58.5 37.59375 60.03125 \nQ 36.078125 61.578125 33.640625 62.421875 \nQ 31.203125 63.28125 27.640625 63.28125 \nQ 24.171875 63.28125 21.78125 62.421875 \nQ 19.390625 61.578125 17.84375 60.03125 \nQ 16.3125 58.5 15.625 56.34375 \nQ 14.9375 54.203125 14.9375 51.609375 \nQ 14.9375 49.5625 15.46875 47.40625 \nQ 16.015625 45.265625 17.421875 43.5 \nQ 18.84375 41.75 21.328125 40.625 \nQ 23.828125 39.5 27.734375 39.5 \nQ 31.890625 39.5 34.40625 40.625 \nQ 36.921875 41.75 38.25 43.5 \nQ 39.59375 45.265625 40.015625 47.40625 \nQ 40.4375 49.5625 40.4375 51.609375 \nz\nM 42.140625 20.015625 \nQ 42.140625 22.515625 41.453125 24.828125 \nQ 40.765625 27.15625 39.109375 28.9375 \nQ 37.453125 30.71875 34.640625 31.8125 \nQ 31.84375 32.90625 27.640625 32.90625 \nQ 23.78125 32.90625 21.0625 31.8125 \nQ 18.359375 30.71875 16.671875 28.90625 \nQ 14.984375 27.09375 14.203125 24.71875 \nQ 13.421875 22.359375 13.421875 19.828125 \nQ 13.421875 16.65625 14.203125 14.03125 \nQ 14.984375 11.421875 16.6875 9.546875 \nQ 18.40625 7.671875 21.1875 6.640625 \nQ 23.96875 5.609375 27.9375 5.609375 \nQ 31.9375 5.609375 34.671875 6.640625 \nQ 37.40625 7.671875 39.0625 9.546875 \nQ 40.71875 11.421875 41.421875 14.078125 \nQ 42.140625 16.75 42.140625 20.015625 \nz\n\" id=\"LiberationSans-56\"/>\n      </defs>\n      <g style=\"fill:#262626;\" transform=\"translate(7.2 150.011563)scale(0.1 -0.1)\">\n       <use xlink:href=\"#LiberationSans-48\"/>\n       <use x=\"55.615234\" xlink:href=\"#LiberationSans-46\"/>\n       <use x=\"83.398438\" xlink:href=\"#LiberationSans-56\"/>\n      </g>\n     </g>\n    </g>\n    <g id=\"ytick_4\">\n     <g id=\"line2d_21\">\n      <path clip-path=\"url(#p1eca9d94ab)\" d=\"M 28.1 116.311151 \nL 362.9 116.311151 \n\" style=\"fill:none;stroke:#ffffff;stroke-linecap:round;\"/>\n     </g>\n     <g id=\"line2d_22\"/>\n     <g id=\"text_11\">\n      <!-- 1.0 -->\n      <g style=\"fill:#262626;\" transform=\"translate(7.2 119.934588)scale(0.1 -0.1)\">\n       <use xlink:href=\"#LiberationSans-49\"/>\n       <use x=\"55.615234\" xlink:href=\"#LiberationSans-46\"/>\n       <use x=\"83.398438\" xlink:href=\"#LiberationSans-48\"/>\n      </g>\n     </g>\n    </g>\n    <g id=\"ytick_5\">\n     <g id=\"line2d_23\">\n      <path clip-path=\"url(#p1eca9d94ab)\" d=\"M 28.1 86.234176 \nL 362.9 86.234176 \n\" style=\"fill:none;stroke:#ffffff;stroke-linecap:round;\"/>\n     </g>\n     <g id=\"line2d_24\"/>\n     <g id=\"text_12\">\n      <!-- 1.2 -->\n      <g style=\"fill:#262626;\" transform=\"translate(7.2 89.857614)scale(0.1 -0.1)\">\n       <use xlink:href=\"#LiberationSans-49\"/>\n       <use x=\"55.615234\" xlink:href=\"#LiberationSans-46\"/>\n       <use x=\"83.398438\" xlink:href=\"#LiberationSans-50\"/>\n      </g>\n     </g>\n    </g>\n    <g id=\"ytick_6\">\n     <g id=\"line2d_25\">\n      <path clip-path=\"url(#p1eca9d94ab)\" d=\"M 28.1 56.157202 \nL 362.9 56.157202 \n\" style=\"fill:none;stroke:#ffffff;stroke-linecap:round;\"/>\n     </g>\n     <g id=\"line2d_26\"/>\n     <g id=\"text_13\">\n      <!-- 1.4 -->\n      <g style=\"fill:#262626;\" transform=\"translate(7.2 59.780639)scale(0.1 -0.1)\">\n       <use xlink:href=\"#LiberationSans-49\"/>\n       <use x=\"55.615234\" xlink:href=\"#LiberationSans-46\"/>\n       <use x=\"83.398438\" xlink:href=\"#LiberationSans-52\"/>\n      </g>\n     </g>\n    </g>\n    <g id=\"ytick_7\">\n     <g id=\"line2d_27\">\n      <path clip-path=\"url(#p1eca9d94ab)\" d=\"M 28.1 26.080227 \nL 362.9 26.080227 \n\" style=\"fill:none;stroke:#ffffff;stroke-linecap:round;\"/>\n     </g>\n     <g id=\"line2d_28\"/>\n     <g id=\"text_14\">\n      <!-- 1.6 -->\n      <g style=\"fill:#262626;\" transform=\"translate(7.2 29.703665)scale(0.1 -0.1)\">\n       <use xlink:href=\"#LiberationSans-49\"/>\n       <use x=\"55.615234\" xlink:href=\"#LiberationSans-46\"/>\n       <use x=\"83.398438\" xlink:href=\"#LiberationSans-54\"/>\n      </g>\n     </g>\n    </g>\n   </g>\n   <g id=\"line2d_29\">\n    <path clip-path=\"url(#p1eca9d94ab)\" d=\"M 43.318182 44.41398 \nL 53.81348 49.31268 \nL 64.308777 52.022961 \nL 74.804075 54.201053 \nL 85.299373 56.17092 \nL 95.794671 57.718617 \nL 106.289969 59.086809 \nL 116.785266 60.220547 \nL 127.280564 61.301759 \nL 137.775862 62.144915 \nL 148.27116 62.954761 \nL 158.766458 63.818121 \nL 169.261755 64.471821 \nL 179.757053 65.171056 \nL 190.252351 65.981549 \nL 200.747649 66.767462 \nL 211.242947 67.768521 \nL 221.738245 68.384825 \nL 232.233542 69.15654 \nL 242.72884 69.973791 \nL 253.224138 70.826681 \nL 263.719436 71.63192 \nL 274.214734 72.351754 \nL 284.710031 73.133491 \nL 295.205329 73.778407 \nL 305.700627 74.595639 \nL 316.195925 75.541662 \nL 326.691223 76.130752 \nL 337.18652 76.70654 \nL 347.681818 77.661472 \n\" style=\"fill:none;stroke:#4c72b0;stroke-linecap:round;stroke-width:1.75;\"/>\n   </g>\n   <g id=\"line2d_30\">\n    <path clip-path=\"url(#p1eca9d94ab)\" d=\"M 43.318182 212.533176 \nL 53.81348 211.067392 \nL 64.308777 209.42291 \nL 74.804075 208.408235 \nL 85.299373 207.362313 \nL 95.794671 206.533827 \nL 106.289969 205.5129 \nL 116.785266 204.930586 \nL 127.280564 204.083352 \nL 137.775862 203.804691 \nL 148.27116 203.346089 \nL 158.766458 202.813756 \nL 169.261755 202.652554 \nL 179.757053 201.932783 \nL 190.252351 201.669118 \nL 200.747649 201.404202 \nL 211.242947 200.939348 \nL 221.738245 200.564466 \nL 232.233542 200.172092 \nL 242.72884 199.829699 \nL 253.224138 199.196149 \nL 263.719436 199.03245 \nL 274.214734 198.79378 \nL 284.710031 198.423896 \nL 295.205329 198.131488 \nL 305.700627 197.686628 \nL 316.195925 197.336741 \nL 326.691223 197.176789 \nL 337.18652 196.809406 \nL 347.681818 196.332056 \n\" style=\"fill:none;stroke:#55a868;stroke-linecap:round;stroke-width:1.75;\"/>\n   </g>\n   <g id=\"line2d_31\">\n    <path clip-path=\"url(#p1eca9d94ab)\" d=\"M 43.318182 48.304862 \nL 53.81348 49.324834 \nL 64.308777 49.731174 \nL 74.804075 49.539478 \nL 85.299373 49.274602 \nL 95.794671 48.641124 \nL 106.289969 48.098878 \nL 116.785266 47.089967 \nL 127.280564 46.592341 \nL 137.775862 45.734826 \nL 148.27116 44.611449 \nL 158.766458 43.850867 \nL 169.261755 43.224183 \nL 179.757053 41.459189 \nL 190.252351 40.47604 \nL 200.747649 39.603842 \nL 211.242947 38.423564 \nL 221.738245 35.160316 \nL 232.233542 34.994668 \nL 242.72884 34.294769 \nL 253.224138 33.847448 \nL 263.719436 31.602971 \nL 274.214734 31.39731 \nL 284.710031 28.931449 \nL 295.205329 27.327048 \nL 305.700627 23.01898 \nL 316.195925 24.835049 \nL 326.691223 20.982012 \nL 337.18652 19.387273 \nL 347.681818 17.083636 \n\" style=\"fill:none;stroke:#c44e52;stroke-linecap:round;stroke-width:1.75;\"/>\n   </g>\n   <g id=\"line2d_32\">\n    <path clip-path=\"url(#p1eca9d94ab)\" d=\"M 43.318182 211.261401 \nL 53.81348 210.066351 \nL 64.308777 210.720244 \nL 74.804075 210.53986 \nL 85.299373 210.855537 \nL 95.794671 210.76534 \nL 106.289969 212.005491 \nL 116.785266 211.069741 \nL 127.280564 212.095683 \nL 137.775862 213.166721 \nL 148.27116 212.704484 \nL 158.766458 212.073135 \nL 169.261755 212.129507 \nL 179.757053 212.140779 \nL 190.252351 213.121625 \nL 200.747649 212.580468 \nL 211.242947 212.873592 \nL 221.738245 212.772128 \nL 232.233542 212.952512 \nL 242.72884 212.727032 \nL 253.224138 213.200541 \nL 263.719436 214.756364 \nL 274.214734 214.02355 \nL 284.710031 214.249031 \nL 295.205329 213.809342 \nL 305.700627 213.268185 \nL 316.195925 213.71915 \nL 326.691223 213.595133 \nL 337.18652 214.294127 \nL 347.681818 213.967178 \n\" style=\"fill:none;stroke:#8172b2;stroke-linecap:round;stroke-width:1.75;\"/>\n   </g>\n   <g id=\"patch_3\">\n    <path d=\"M 28.1 224.64 \nL 28.1 7.2 \n\" style=\"fill:none;\"/>\n   </g>\n   <g id=\"patch_4\">\n    <path d=\"M 362.9 224.64 \nL 362.9 7.2 \n\" style=\"fill:none;\"/>\n   </g>\n   <g id=\"patch_5\">\n    <path d=\"M 28.1 224.64 \nL 362.9 224.64 \n\" style=\"fill:none;\"/>\n   </g>\n   <g id=\"patch_6\">\n    <path d=\"M 28.1 7.2 \nL 362.9 7.2 \n\" style=\"fill:none;\"/>\n   </g>\n   <g id=\"legend_1\">\n    <g id=\"line2d_33\">\n     <path d=\"M 267.54375 93.523125 \nL 287.54375 93.523125 \n\" style=\"fill:none;stroke:#4c72b0;stroke-linecap:round;stroke-width:1.75;\"/>\n    </g>\n    <g id=\"line2d_34\"/>\n    <g id=\"text_15\">\n     <!-- loss -->\n     <defs>\n      <path d=\"M 6.734375 0 \nL 6.734375 72.46875 \nL 15.53125 72.46875 \nL 15.53125 0 \nz\n\" id=\"LiberationSans-108\"/>\n      <path d=\"M 51.421875 26.46875 \nQ 51.421875 12.59375 45.3125 5.796875 \nQ 39.203125 -0.984375 27.59375 -0.984375 \nQ 22.078125 -0.984375 17.71875 0.671875 \nQ 13.375 2.34375 10.375 5.765625 \nQ 7.375 9.1875 5.78125 14.328125 \nQ 4.203125 19.484375 4.203125 26.46875 \nQ 4.203125 53.8125 27.875 53.8125 \nQ 34.03125 53.8125 38.5 52.09375 \nQ 42.96875 50.390625 45.828125 46.96875 \nQ 48.6875 43.5625 50.046875 38.421875 \nQ 51.421875 33.296875 51.421875 26.46875 \nz\nM 42.1875 26.46875 \nQ 42.1875 32.625 41.234375 36.625 \nQ 40.28125 40.625 38.453125 43.015625 \nQ 36.625 45.40625 33.984375 46.359375 \nQ 31.34375 47.3125 28.03125 47.3125 \nQ 24.65625 47.3125 21.9375 46.3125 \nQ 19.234375 45.3125 17.328125 42.890625 \nQ 15.4375 40.484375 14.421875 36.46875 \nQ 13.421875 32.46875 13.421875 26.46875 \nQ 13.421875 20.3125 14.5 16.28125 \nQ 15.578125 12.25 17.453125 9.859375 \nQ 19.34375 7.46875 21.90625 6.484375 \nQ 24.46875 5.515625 27.484375 5.515625 \nQ 30.859375 5.515625 33.59375 6.46875 \nQ 36.328125 7.421875 38.234375 9.8125 \nQ 40.140625 12.203125 41.15625 16.25 \nQ 42.1875 20.3125 42.1875 26.46875 \nz\n\" id=\"LiberationSans-111\"/>\n      <path d=\"M 46.390625 14.59375 \nQ 46.390625 10.890625 44.9375 7.984375 \nQ 43.5 5.078125 40.765625 3.09375 \nQ 38.03125 1.125 34.046875 0.0625 \nQ 30.078125 -0.984375 24.953125 -0.984375 \nQ 20.359375 -0.984375 16.671875 -0.265625 \nQ 12.984375 0.4375 10.203125 2 \nQ 7.421875 3.5625 5.53125 6.125 \nQ 3.65625 8.6875 2.78125 12.40625 \nL 10.546875 13.921875 \nQ 11.671875 9.671875 15.1875 7.6875 \nQ 18.703125 5.71875 24.953125 5.71875 \nQ 27.78125 5.71875 30.140625 6.109375 \nQ 32.515625 6.5 34.21875 7.453125 \nQ 35.9375 8.40625 36.890625 9.984375 \nQ 37.84375 11.578125 37.84375 13.921875 \nQ 37.84375 16.3125 36.71875 17.84375 \nQ 35.59375 19.390625 33.59375 20.40625 \nQ 31.59375 21.4375 28.734375 22.1875 \nQ 25.875 22.953125 22.46875 23.875 \nQ 19.28125 24.703125 16.15625 25.734375 \nQ 13.03125 26.765625 10.515625 28.4375 \nQ 8.015625 30.125 6.453125 32.609375 \nQ 4.890625 35.109375 4.890625 38.875 \nQ 4.890625 46.09375 10.03125 49.875 \nQ 15.1875 53.65625 25.046875 53.65625 \nQ 33.796875 53.65625 38.9375 50.578125 \nQ 44.09375 47.515625 45.453125 40.71875 \nL 37.546875 39.75 \nQ 37.109375 41.796875 35.9375 43.1875 \nQ 34.765625 44.578125 33.109375 45.4375 \nQ 31.453125 46.296875 29.375 46.65625 \nQ 27.296875 47.015625 25.046875 47.015625 \nQ 19.09375 47.015625 16.25 45.203125 \nQ 13.421875 43.40625 13.421875 39.75 \nQ 13.421875 37.59375 14.46875 36.203125 \nQ 15.53125 34.8125 17.40625 33.859375 \nQ 19.28125 32.90625 21.921875 32.203125 \nQ 24.5625 31.5 27.734375 30.71875 \nQ 29.828125 30.171875 32.03125 29.5625 \nQ 34.234375 28.953125 36.296875 28.09375 \nQ 38.375 27.25 40.203125 26.09375 \nQ 42.046875 24.953125 43.40625 23.34375 \nQ 44.78125 21.734375 45.578125 19.578125 \nQ 46.390625 17.4375 46.390625 14.59375 \nz\n\" id=\"LiberationSans-115\"/>\n     </defs>\n     <g style=\"fill:#262626;\" transform=\"translate(295.54375 97.023125)scale(0.1 -0.1)\">\n      <use xlink:href=\"#LiberationSans-108\"/>\n      <use x=\"22.216797\" xlink:href=\"#LiberationSans-111\"/>\n      <use x=\"77.832031\" xlink:href=\"#LiberationSans-115\"/>\n      <use x=\"127.832031\" xlink:href=\"#LiberationSans-115\"/>\n     </g>\n    </g>\n    <g id=\"line2d_35\">\n     <path d=\"M 267.54375 107.845 \nL 287.54375 107.845 \n\" style=\"fill:none;stroke:#55a868;stroke-linecap:round;stroke-width:1.75;\"/>\n    </g>\n    <g id=\"line2d_36\"/>\n    <g id=\"text_16\">\n     <!-- accuracy -->\n     <defs>\n      <path d=\"M 20.21875 -0.984375 \nQ 12.25 -0.984375 8.25 3.21875 \nQ 4.25 7.421875 4.25 14.75 \nQ 4.25 19.96875 6.21875 23.3125 \nQ 8.203125 26.65625 11.390625 28.5625 \nQ 14.59375 30.46875 18.6875 31.203125 \nQ 22.796875 31.9375 27.046875 32.03125 \nL 38.921875 32.234375 \nL 38.921875 35.109375 \nQ 38.921875 38.375 38.234375 40.671875 \nQ 37.546875 42.96875 36.125 44.375 \nQ 34.71875 45.796875 32.59375 46.453125 \nQ 30.46875 47.125 27.59375 47.125 \nQ 25.046875 47.125 23 46.75 \nQ 20.953125 46.390625 19.4375 45.4375 \nQ 17.921875 44.484375 16.984375 42.84375 \nQ 16.0625 41.21875 15.765625 38.71875 \nL 6.59375 39.546875 \nQ 7.078125 42.671875 8.4375 45.28125 \nQ 9.8125 47.90625 12.328125 49.796875 \nQ 14.84375 51.703125 18.625 52.75 \nQ 22.40625 53.8125 27.78125 53.8125 \nQ 37.75 53.8125 42.765625 49.234375 \nQ 47.796875 44.671875 47.796875 36.03125 \nL 47.796875 13.28125 \nQ 47.796875 9.375 48.828125 7.390625 \nQ 49.859375 5.421875 52.734375 5.421875 \nQ 53.46875 5.421875 54.203125 5.515625 \nQ 54.9375 5.609375 55.609375 5.765625 \nL 55.609375 0.296875 \nQ 53.953125 -0.09375 52.3125 -0.28125 \nQ 50.6875 -0.484375 48.828125 -0.484375 \nQ 46.34375 -0.484375 44.5625 0.171875 \nQ 42.78125 0.828125 41.65625 2.171875 \nQ 40.53125 3.515625 39.9375 5.484375 \nQ 39.359375 7.46875 39.203125 10.109375 \nL 38.921875 10.109375 \nQ 37.5 7.5625 35.8125 5.515625 \nQ 34.125 3.46875 31.875 2.03125 \nQ 29.640625 0.59375 26.78125 -0.1875 \nQ 23.921875 -0.984375 20.21875 -0.984375 \nz\nM 22.21875 5.609375 \nQ 26.421875 5.609375 29.5625 7.140625 \nQ 32.71875 8.6875 34.78125 11.078125 \nQ 36.859375 13.484375 37.890625 16.3125 \nQ 38.921875 19.140625 38.921875 21.734375 \nL 38.921875 26.078125 \nL 29.296875 25.875 \nQ 26.078125 25.828125 23.171875 25.40625 \nQ 20.265625 25 18.0625 23.78125 \nQ 15.875 22.5625 14.578125 20.359375 \nQ 13.28125 18.171875 13.28125 14.59375 \nQ 13.28125 10.296875 15.59375 7.953125 \nQ 17.921875 5.609375 22.21875 5.609375 \nz\n\" id=\"LiberationSans-97\"/>\n      <path d=\"M 13.421875 26.65625 \nQ 13.421875 22.125 14.078125 18.3125 \nQ 14.75 14.5 16.3125 11.734375 \nQ 17.875 8.984375 20.4375 7.46875 \nQ 23 5.953125 26.765625 5.953125 \nQ 31.453125 5.953125 34.59375 8.484375 \nQ 37.75 11.03125 38.484375 16.3125 \nL 47.359375 15.71875 \nQ 46.921875 12.453125 45.453125 9.421875 \nQ 44 6.390625 41.484375 4.09375 \nQ 38.96875 1.8125 35.34375 0.40625 \nQ 31.734375 -0.984375 27 -0.984375 \nQ 20.796875 -0.984375 16.453125 1.109375 \nQ 12.109375 3.21875 9.390625 6.90625 \nQ 6.6875 10.59375 5.46875 15.59375 \nQ 4.25 20.609375 4.25 26.46875 \nQ 4.25 31.78125 5.125 35.859375 \nQ 6 39.9375 7.59375 42.984375 \nQ 9.1875 46.046875 11.328125 48.125 \nQ 13.484375 50.203125 15.984375 51.4375 \nQ 18.5 52.6875 21.28125 53.25 \nQ 24.078125 53.8125 26.90625 53.8125 \nQ 31.34375 53.8125 34.8125 52.59375 \nQ 38.28125 51.375 40.796875 49.25 \nQ 43.3125 47.125 44.875 44.234375 \nQ 46.4375 41.359375 47.078125 38.03125 \nL 38.03125 37.359375 \nQ 37.359375 41.75 34.5625 44.328125 \nQ 31.78125 46.921875 26.65625 46.921875 \nQ 22.90625 46.921875 20.390625 45.671875 \nQ 17.875 44.4375 16.3125 41.921875 \nQ 14.75 39.40625 14.078125 35.59375 \nQ 13.421875 31.78125 13.421875 26.65625 \nz\n\" id=\"LiberationSans-99\"/>\n      <path d=\"M 15.328125 52.828125 \nL 15.328125 19.34375 \nQ 15.328125 15.484375 15.890625 12.890625 \nQ 16.453125 10.296875 17.71875 8.703125 \nQ 19 7.125 21.0625 6.46875 \nQ 23.140625 5.8125 26.21875 5.8125 \nQ 29.34375 5.8125 31.859375 6.90625 \nQ 34.375 8.015625 36.15625 10.078125 \nQ 37.9375 12.15625 38.90625 15.203125 \nQ 39.890625 18.265625 39.890625 22.21875 \nL 39.890625 52.828125 \nL 48.6875 52.828125 \nL 48.6875 11.28125 \nQ 48.6875 9.625 48.703125 7.78125 \nQ 48.734375 5.953125 48.78125 4.3125 \nQ 48.828125 2.6875 48.875 1.515625 \nQ 48.921875 0.34375 48.96875 0 \nL 40.671875 0 \nQ 40.625 0.25 40.578125 1.3125 \nQ 40.53125 2.390625 40.453125 3.78125 \nQ 40.375 5.171875 40.328125 6.609375 \nQ 40.28125 8.0625 40.28125 9.03125 \nL 40.140625 9.03125 \nQ 38.875 6.734375 37.359375 4.875 \nQ 35.84375 3.03125 33.84375 1.734375 \nQ 31.84375 0.4375 29.25 -0.265625 \nQ 26.65625 -0.984375 23.25 -0.984375 \nQ 18.84375 -0.984375 15.671875 0.09375 \nQ 12.5 1.171875 10.453125 3.421875 \nQ 8.40625 5.671875 7.453125 9.1875 \nQ 6.5 12.703125 6.5 17.625 \nL 6.5 52.828125 \nz\n\" id=\"LiberationSans-117\"/>\n      <path d=\"M 6.9375 0 \nL 6.9375 40.53125 \nQ 6.9375 42.1875 6.90625 43.921875 \nQ 6.890625 45.65625 6.828125 47.265625 \nQ 6.78125 48.875 6.734375 50.28125 \nQ 6.6875 51.703125 6.640625 52.828125 \nL 14.9375 52.828125 \nQ 14.984375 51.703125 15.0625 50.265625 \nQ 15.140625 48.828125 15.203125 47.3125 \nQ 15.28125 45.796875 15.296875 44.40625 \nQ 15.328125 43.015625 15.328125 42.046875 \nL 15.53125 42.046875 \nQ 16.453125 45.0625 17.5 47.28125 \nQ 18.5625 49.515625 19.96875 50.953125 \nQ 21.390625 52.390625 23.34375 53.09375 \nQ 25.296875 53.8125 28.078125 53.8125 \nQ 29.15625 53.8125 30.125 53.640625 \nQ 31.109375 53.46875 31.640625 53.328125 \nL 31.640625 45.265625 \nQ 30.765625 45.515625 29.59375 45.625 \nQ 28.421875 45.75 26.953125 45.75 \nQ 23.921875 45.75 21.796875 44.375 \nQ 19.671875 43.015625 18.328125 40.59375 \nQ 17 38.1875 16.359375 34.84375 \nQ 15.71875 31.5 15.71875 27.546875 \nL 15.71875 0 \nz\n\" id=\"LiberationSans-114\"/>\n      <path d=\"M 29.5 0 \nQ 27.640625 -4.78125 25.703125 -8.609375 \nQ 23.78125 -12.453125 21.390625 -15.15625 \nQ 19 -17.875 16.0625 -19.3125 \nQ 13.140625 -20.75 9.328125 -20.75 \nQ 7.671875 -20.75 6.25 -20.65625 \nQ 4.828125 -20.5625 3.265625 -20.21875 \nL 3.265625 -13.625 \nQ 4.203125 -13.765625 5.375 -13.84375 \nQ 6.546875 -13.921875 7.375 -13.921875 \nQ 11.234375 -13.921875 14.546875 -11.03125 \nQ 17.875 -8.15625 20.359375 -1.859375 \nL 21.1875 0.25 \nL 0.25 52.828125 \nL 9.625 52.828125 \nL 20.75 23.640625 \nQ 21.234375 22.3125 21.984375 20.109375 \nQ 22.75 17.921875 23.5 15.71875 \nQ 24.265625 13.53125 24.84375 11.765625 \nQ 25.4375 10.015625 25.53125 9.578125 \nQ 25.6875 10.109375 26.25 11.6875 \nQ 26.8125 13.28125 27.515625 15.234375 \nQ 28.21875 17.1875 28.953125 19.1875 \nQ 29.6875 21.1875 30.171875 22.65625 \nL 40.53125 52.828125 \nL 49.8125 52.828125 \nz\n\" id=\"LiberationSans-121\"/>\n     </defs>\n     <g style=\"fill:#262626;\" transform=\"translate(295.54375 111.345)scale(0.1 -0.1)\">\n      <use xlink:href=\"#LiberationSans-97\"/>\n      <use x=\"55.615234\" xlink:href=\"#LiberationSans-99\"/>\n      <use x=\"105.615234\" xlink:href=\"#LiberationSans-99\"/>\n      <use x=\"155.615234\" xlink:href=\"#LiberationSans-117\"/>\n      <use x=\"211.230469\" xlink:href=\"#LiberationSans-114\"/>\n      <use x=\"244.53125\" xlink:href=\"#LiberationSans-97\"/>\n      <use x=\"300.146484\" xlink:href=\"#LiberationSans-99\"/>\n      <use x=\"350.146484\" xlink:href=\"#LiberationSans-121\"/>\n     </g>\n    </g>\n    <g id=\"line2d_37\">\n     <path d=\"M 267.54375 122.166875 \nL 287.54375 122.166875 \n\" style=\"fill:none;stroke:#c44e52;stroke-linecap:round;stroke-width:1.75;\"/>\n    </g>\n    <g id=\"line2d_38\"/>\n    <g id=\"text_17\">\n     <!-- val_loss -->\n     <defs>\n      <path d=\"M 29.9375 0 \nL 19.53125 0 \nL 0.34375 52.828125 \nL 9.71875 52.828125 \nL 21.34375 18.453125 \nQ 21.6875 17.390625 22.140625 15.84375 \nQ 22.609375 14.3125 23.09375 12.640625 \nQ 23.578125 10.984375 24 9.4375 \nQ 24.421875 7.90625 24.703125 6.890625 \nQ 25 7.90625 25.453125 9.4375 \nQ 25.921875 10.984375 26.40625 12.59375 \nQ 26.90625 14.203125 27.421875 15.734375 \nQ 27.9375 17.28125 28.328125 18.359375 \nL 40.328125 52.828125 \nL 49.65625 52.828125 \nz\n\" id=\"LiberationSans-118\"/>\n      <path d=\"M -1.515625 -19.875 \nL -1.515625 -13.53125 \nL 56.734375 -13.53125 \nL 56.734375 -19.875 \nz\n\" id=\"LiberationSans-95\"/>\n     </defs>\n     <g style=\"fill:#262626;\" transform=\"translate(295.54375 125.666875)scale(0.1 -0.1)\">\n      <use xlink:href=\"#LiberationSans-118\"/>\n      <use x=\"50\" xlink:href=\"#LiberationSans-97\"/>\n      <use x=\"105.615234\" xlink:href=\"#LiberationSans-108\"/>\n      <use x=\"127.832031\" xlink:href=\"#LiberationSans-95\"/>\n      <use x=\"183.447266\" xlink:href=\"#LiberationSans-108\"/>\n      <use x=\"205.664062\" xlink:href=\"#LiberationSans-111\"/>\n      <use x=\"261.279297\" xlink:href=\"#LiberationSans-115\"/>\n      <use x=\"311.279297\" xlink:href=\"#LiberationSans-115\"/>\n     </g>\n    </g>\n    <g id=\"line2d_39\">\n     <path d=\"M 267.54375 136.48875 \nL 287.54375 136.48875 \n\" style=\"fill:none;stroke:#8172b2;stroke-linecap:round;stroke-width:1.75;\"/>\n    </g>\n    <g id=\"line2d_40\"/>\n    <g id=\"text_18\">\n     <!-- val_accuracy -->\n     <g style=\"fill:#262626;\" transform=\"translate(295.54375 139.98875)scale(0.1 -0.1)\">\n      <use xlink:href=\"#LiberationSans-118\"/>\n      <use x=\"50\" xlink:href=\"#LiberationSans-97\"/>\n      <use x=\"105.615234\" xlink:href=\"#LiberationSans-108\"/>\n      <use x=\"127.832031\" xlink:href=\"#LiberationSans-95\"/>\n      <use x=\"183.447266\" xlink:href=\"#LiberationSans-97\"/>\n      <use x=\"239.0625\" xlink:href=\"#LiberationSans-99\"/>\n      <use x=\"289.0625\" xlink:href=\"#LiberationSans-99\"/>\n      <use x=\"339.0625\" xlink:href=\"#LiberationSans-117\"/>\n      <use x=\"394.677734\" xlink:href=\"#LiberationSans-114\"/>\n      <use x=\"427.978516\" xlink:href=\"#LiberationSans-97\"/>\n      <use x=\"483.59375\" xlink:href=\"#LiberationSans-99\"/>\n      <use x=\"533.59375\" xlink:href=\"#LiberationSans-121\"/>\n     </g>\n    </g>\n   </g>\n  </g>\n </g>\n <defs>\n  <clipPath id=\"p1eca9d94ab\">\n   <rect height=\"217.44\" width=\"334.8\" x=\"28.1\" y=\"7.2\"/>\n  </clipPath>\n </defs>\n</svg>\n"
          },
          "metadata": {
            "needs_background": "light"
          }
        }
      ]
    },
    {
      "cell_type": "markdown",
      "source": [
        "Pred"
      ],
      "metadata": {
        "id": "dOWDP6y7kegL"
      }
    },
    {
      "cell_type": "code",
      "source": [
        "score = model.evaluate(X_test, y_test,\n",
        "                       batch_size=128, verbose=1)\n",
        "print('Test accuracy:', score[1])"
      ],
      "metadata": {
        "colab": {
          "base_uri": "https://localhost:8080/"
        },
        "id": "tjNI4rglNzAK",
        "outputId": "247d3cbe-f3fc-4ee6-e298-87c97045ca73"
      },
      "execution_count": null,
      "outputs": [
        {
          "output_type": "stream",
          "name": "stdout",
          "text": [
            "117/117 [==============================] - 1s 5ms/step - loss: 1.6453 - accuracy: 0.3491\n",
            "Test accuracy: 0.34905219078063965\n"
          ]
        }
      ]
    },
    {
      "cell_type": "code",
      "source": [
        "preds = model.predict(X_test)"
      ],
      "metadata": {
        "id": "afpMZfiYNzRp"
      },
      "execution_count": null,
      "outputs": []
    },
    {
      "cell_type": "code",
      "source": [
        "print(classification_report(np.argmax(y_test,axis=1),np.argmax(preds,axis=1)))"
      ],
      "metadata": {
        "colab": {
          "base_uri": "https://localhost:8080/"
        },
        "id": "USuUezuwNzce",
        "outputId": "3a2998d4-44fe-41ee-8d0e-8629ff502e01"
      },
      "execution_count": null,
      "outputs": [
        {
          "output_type": "stream",
          "name": "stdout",
          "text": [
            "              precision    recall  f1-score   support\n",
            "\n",
            "           0       0.40      0.70      0.51      5441\n",
            "           1       0.00      0.00      0.00      1726\n",
            "           2       0.24      0.12      0.16      3347\n",
            "           3       0.27      0.28      0.27      3512\n",
            "           4       0.17      0.05      0.08       903\n",
            "\n",
            "    accuracy                           0.35     14929\n",
            "   macro avg       0.22      0.23      0.20     14929\n",
            "weighted avg       0.27      0.35      0.29     14929\n",
            "\n"
          ]
        }
      ]
    },
    {
      "cell_type": "code",
      "source": [
        ""
      ],
      "metadata": {
        "id": "YsmOxtvIncPe"
      },
      "execution_count": null,
      "outputs": []
    },
    {
      "cell_type": "code",
      "source": [
        ""
      ],
      "metadata": {
        "id": "beyzTn25mqCE"
      },
      "execution_count": null,
      "outputs": []
    },
    {
      "cell_type": "code",
      "source": [
        "## V 1 ## \n",
        "model = Sequential()\n",
        "model.add(Embedding(28000, 256, input_length=400))  # 20\n",
        "model.add(Conv1D(128, 3, activation='sigmoid'))\n",
        "model.add(GlobalMaxPooling1D()) \n",
        "model.add(Dense(50, activation='sigmoid'))\n",
        "model.add(Dropout(0.5))\n",
        "model.add(Dense(5, activation='softmax'))"
      ],
      "metadata": {
        "id": "rqKGbkrgm0WJ"
      },
      "execution_count": null,
      "outputs": []
    },
    {
      "cell_type": "code",
      "source": [
        "model.compile(loss='categorical_crossentropy', optimizer='adam', metrics=['accuracy']) "
      ],
      "metadata": {
        "id": "JkyQUtwCmqYI"
      },
      "execution_count": null,
      "outputs": []
    },
    {
      "cell_type": "code",
      "source": [
        "history_2 = model.fit(X_train, y_train,\n",
        "                    batch_size=128,\n",
        "                    epochs=30,\n",
        "                    verbose=1,\n",
        "                    validation_data=(X_val, y_val),\n",
        "                    )"
      ],
      "metadata": {
        "id": "Si05II2bN2YE"
      },
      "execution_count": null,
      "outputs": []
    },
    {
      "cell_type": "code",
      "source": [
        "pd.DataFrame(history_2.history).plot()"
      ],
      "metadata": {
        "id": "90mv2caymtk1"
      },
      "execution_count": null,
      "outputs": []
    },
    {
      "cell_type": "code",
      "source": [
        "score = model.evaluate(X_test, y_test,\n",
        "                       batch_size=128, verbose=1)\n",
        "print('Test accuracy:', score[1])"
      ],
      "metadata": {
        "id": "mAME6nQ2mttF"
      },
      "execution_count": null,
      "outputs": []
    },
    {
      "cell_type": "code",
      "source": [
        "preds = model.predict(X_test)\n",
        "print(classification_report(np.argmax(y_test,axis=1),np.argmax(preds,axis=1)))"
      ],
      "metadata": {
        "id": "ggdJItEcmtww"
      },
      "execution_count": null,
      "outputs": []
    },
    {
      "cell_type": "code",
      "source": [
        ""
      ],
      "metadata": {
        "id": "Fv1Oq8Srmt11"
      },
      "execution_count": null,
      "outputs": []
    },
    {
      "cell_type": "code",
      "source": [
        "score = model.evaluate(X_test, y_test,\n",
        "                       batch_size=256, verbose=1)\n",
        "print('Test accuracy:', score[1])"
      ],
      "metadata": {
        "colab": {
          "base_uri": "https://localhost:8080/"
        },
        "outputId": "0482823d-d240-42c4-9061-a8dda36a5896",
        "id": "XaC2PJqWYc8k"
      },
      "execution_count": null,
      "outputs": [
        {
          "output_type": "stream",
          "name": "stdout",
          "text": [
            "151/151 [==============================] - 2s 9ms/step - loss: 4.0153 - accuracy: 0.3049\n",
            "Test accuracy: 0.304904043674469\n"
          ]
        }
      ]
    },
    {
      "cell_type": "code",
      "source": [
        "preds = model.predict(X_test)"
      ],
      "metadata": {
        "id": "OEEd93pnYc8k"
      },
      "execution_count": null,
      "outputs": []
    },
    {
      "cell_type": "code",
      "source": [
        "print(classification_report(np.argmax(y_test,axis=1),np.argmax(preds,axis=1)))"
      ],
      "metadata": {
        "colab": {
          "base_uri": "https://localhost:8080/"
        },
        "outputId": "57532d9e-ac2a-448a-e7cf-f90fba984c37",
        "id": "murO9KfOYc8k"
      },
      "execution_count": null,
      "outputs": [
        {
          "output_type": "stream",
          "name": "stdout",
          "text": [
            "              precision    recall  f1-score   support\n",
            "\n",
            "           0       0.43      0.42      0.42     12104\n",
            "           1       0.11      0.11      0.11      3846\n",
            "           2       0.24      0.26      0.25      8162\n",
            "           3       0.21      0.18      0.19      6762\n",
            "           4       0.36      0.40      0.38      7584\n",
            "\n",
            "    accuracy                           0.31     38458\n",
            "   macro avg       0.27      0.27      0.27     38458\n",
            "weighted avg       0.31      0.31      0.31     38458\n",
            "\n"
          ]
        }
      ]
    }
  ],
  "metadata": {
    "colab": {
      "collapsed_sections": [],
      "name": "KERAS_LSTM_NLP_humor_models.ipynb",
      "provenance": []
    },
    "kernelspec": {
      "display_name": "Python 3",
      "name": "python3"
    },
    "language_info": {
      "name": "python"
    },
    "accelerator": "GPU"
  },
  "nbformat": 4,
  "nbformat_minor": 0
}