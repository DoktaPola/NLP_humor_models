{
 "cells": [
  {
   "cell_type": "markdown",
   "metadata": {
    "collapsed": true
   },
   "source": [
    "# Imports"
   ]
  },
  {
   "cell_type": "code",
   "execution_count": 19,
   "metadata": {},
   "outputs": [
    {
     "name": "stdout",
     "output_type": "stream",
     "text": [
      "The autoreload extension is already loaded. To reload it, use:\n",
      "  %reload_ext autoreload\n"
     ]
    }
   ],
   "source": [
    "import pandas as pd\n",
    "import numpy as np\n",
    "import json\n",
    "import torch\n",
    "import torch.nn as nn\n",
    "from src import schema as S\n",
    "from bs4 import BeautifulSoup\n",
    "import sys\n",
    "sys.path.insert(0,'../../')\n",
    "\n",
    "import warnings\n",
    "warnings.filterwarnings('ignore')\n",
    "\n",
    "%load_ext autoreload\n",
    "%autoreload 2"
   ]
  },
  {
   "cell_type": "code",
   "execution_count": 20,
   "metadata": {},
   "outputs": [],
   "source": [
    "import logging\n",
    "import sys\n",
    "\n",
    "logging.basicConfig(stream=sys.stdout, level=logging.INFO)"
   ]
  },
  {
   "cell_type": "code",
   "execution_count": 21,
   "metadata": {},
   "outputs": [],
   "source": [
    "#save a slice\n",
    "filename = 'jokes_dataset.csv'\n",
    "raw_df = pd.read_csv('../data/'+filename, sep=',',\n",
    "                encoding='utf-8').set_index('id')\n",
    "\n",
    "# work with copy\n",
    "df = raw_df.copy(deep=True)"
   ]
  },
  {
   "cell_type": "markdown",
   "metadata": {},
   "source": [
    "# Preprocessing"
   ]
  },
  {
   "cell_type": "code",
   "execution_count": 22,
   "metadata": {},
   "outputs": [],
   "source": [
    "from src.preprocessing.preprocessing import SimplePreprocessor\n",
    "\n",
    "# use just title\n",
    "preprocessor = SimplePreprocessor(full_joke=False)"
   ]
  },
  {
   "cell_type": "markdown",
   "metadata": {},
   "source": [
    "# Dataset augmenting"
   ]
  },
  {
   "cell_type": "code",
   "execution_count": 23,
   "metadata": {},
   "outputs": [],
   "source": [
    "import nlpaug.augmenter.word as naw\n",
    "\n",
    "aug_syn = naw.SynonymAug(aug_src='wordnet', aug_min=1, aug_max=1)"
   ]
  },
  {
   "cell_type": "code",
   "execution_count": 24,
   "metadata": {},
   "outputs": [],
   "source": [
    "from src.augmenting.augmenting import Augmenter\n",
    "\n",
    "augmenter = Augmenter(aug_syn)"
   ]
  },
  {
   "cell_type": "markdown",
   "metadata": {},
   "source": [
    "# Dataset convertor"
   ]
  },
  {
   "cell_type": "code",
   "execution_count": 25,
   "metadata": {},
   "outputs": [],
   "source": [
    "from src.text2seq.convertor import Text2SeqConvertor\n",
    "\n",
    "convertor = Text2SeqConvertor()"
   ]
  },
  {
   "cell_type": "markdown",
   "metadata": {},
   "source": [
    "# Model"
   ]
  },
  {
   "cell_type": "code",
   "execution_count": 26,
   "metadata": {},
   "outputs": [],
   "source": [
    "# from src.models.CNN_simple import JokeRankPredictor\n",
    "\n",
    "# JokeRankPredictor"
   ]
  },
  {
   "cell_type": "markdown",
   "metadata": {},
   "source": [
    "# Pipline"
   ]
  },
  {
   "cell_type": "code",
   "execution_count": 27,
   "metadata": {},
   "outputs": [],
   "source": [
    "from src.pipeline.pipeline import Pipeline\n",
    "\n",
    "pipeline = Pipeline(\n",
    "                 preprocessor = preprocessor,\n",
    "                 augmenter = None, # augmenter, # None\n",
    "                 convertor = convertor,\n",
    "                 model_name = 'CNNGlobalMaxPooling',  # 'CNNSimple', \n",
    "                 splitting_params = {'test_size': 0.2,\n",
    "                                     'shuffle': True},\n",
    "                 )\n"
   ]
  },
  {
   "cell_type": "code",
   "execution_count": 28,
   "metadata": {},
   "outputs": [
    {
     "name": "stdout",
     "output_type": "stream",
     "text": [
      "DEBUG:pipeline-log:Starting preprocessing\n",
      "DEBUG:pipeline-log:Splitting dataset on train, val and test\n",
      "DEBUG:pipeline-log:Make vocabulary\n",
      "DEBUG:pipeline-log:Split data to train/val/test after making vocabulary\n",
      "Wall time: 3min 22s\n"
     ]
    }
   ],
   "source": [
    " %%time\n",
    "train_df, val_df, test_df = pipeline.prepare_data(df)"
   ]
  },
  {
   "cell_type": "code",
   "execution_count": 29,
   "metadata": {
    "scrolled": true
   },
   "outputs": [
    {
     "data": {
      "text/plain": [
       "((111525, 3), (27882, 3), (34852, 3))"
      ]
     },
     "execution_count": 29,
     "metadata": {},
     "output_type": "execute_result"
    }
   ],
   "source": [
    "train_df.shape, val_df.shape ,test_df.shape"
   ]
  },
  {
   "cell_type": "markdown",
   "metadata": {},
   "source": [
    "# Train"
   ]
  },
  {
   "cell_type": "code",
   "execution_count": 30,
   "metadata": {},
   "outputs": [],
   "source": [
    "learning_rate = 1e-3\n",
    "criterion = nn.CrossEntropyLoss()\n",
    "optimizer = torch.optim.Adam"
   ]
  },
  {
   "cell_type": "code",
   "execution_count": 31,
   "metadata": {
    "scrolled": true
   },
   "outputs": [
    {
     "name": "stdout",
     "output_type": "stream",
     "text": [
      "INFO:pipeline-log:Fitting model\n",
      "Epoch 0\n"
     ]
    },
    {
     "data": {
      "application/vnd.jupyter.widget-view+json": {
       "model_id": "15099295ca1c4d2e852411f39ac018e0",
       "version_major": 2,
       "version_minor": 0
      },
      "text/plain": [
       "  0%|          | 0/871 [00:00<?, ?it/s]"
      ]
     },
     "metadata": {},
     "output_type": "display_data"
    },
    {
     "name": "stdout",
     "output_type": "stream",
     "text": [
      "Iteration: 99  Loss: 1.5955079793930054  Accuracy: 28.842981338500977 %\n",
      "Saving model and optimizer state at iteration 99 to ../checkpoints/cnn_simple_TITLE_best_checkpoint\n",
      "Iteration: 199  Loss: 1.5816929340362549  Accuracy: 28.114912033081055 %\n",
      "Iteration: 299  Loss: 1.5812218189239502  Accuracy: 31.5472354888916 %\n",
      "Saving model and optimizer state at iteration 299 to ../checkpoints/cnn_simple_TITLE_best_checkpoint\n",
      "Iteration: 399  Loss: 1.576661229133606  Accuracy: 31.945341110229492 %\n",
      "Saving model and optimizer state at iteration 399 to ../checkpoints/cnn_simple_TITLE_best_checkpoint\n",
      "Iteration: 499  Loss: 1.5659064054489136  Accuracy: 32.171295166015625 %\n",
      "Saving model and optimizer state at iteration 499 to ../checkpoints/cnn_simple_TITLE_best_checkpoint\n",
      "Iteration: 599  Loss: 1.6006160974502563  Accuracy: 32.131839752197266 %\n",
      "Iteration: 699  Loss: 1.5249751806259155  Accuracy: 32.29682159423828 %\n",
      "Saving model and optimizer state at iteration 699 to ../checkpoints/cnn_simple_TITLE_best_checkpoint\n",
      "Iteration: 799  Loss: 1.58866548538208  Accuracy: 32.32551574707031 %\n",
      "Saving model and optimizer state at iteration 799 to ../checkpoints/cnn_simple_TITLE_best_checkpoint\n",
      "Epoch 1\n"
     ]
    },
    {
     "data": {
      "application/vnd.jupyter.widget-view+json": {
       "model_id": "a39f786c5d244fad8af43a94a7555d7b",
       "version_major": 2,
       "version_minor": 0
      },
      "text/plain": [
       "  0%|          | 0/871 [00:00<?, ?it/s]"
      ]
     },
     "metadata": {},
     "output_type": "display_data"
    },
    {
     "name": "stdout",
     "output_type": "stream",
     "text": [
      "Iteration: 899  Loss: 1.4978023767471313  Accuracy: 32.32551574707031 %\n",
      "Iteration: 999  Loss: 1.530794382095337  Accuracy: 32.13542938232422 %\n",
      "Iteration: 1099  Loss: 1.612662672996521  Accuracy: 32.418766021728516 %\n",
      "Saving model and optimizer state at iteration 1099 to ../checkpoints/cnn_simple_TITLE_best_checkpoint\n",
      "Iteration: 1199  Loss: 1.5588561296463013  Accuracy: 32.669822692871094 %\n",
      "Saving model and optimizer state at iteration 1199 to ../checkpoints/cnn_simple_TITLE_best_checkpoint\n",
      "Iteration: 1299  Loss: 1.5370525121688843  Accuracy: 32.659061431884766 %\n",
      "Iteration: 1399  Loss: 1.520052194595337  Accuracy: 32.60885238647461 %\n",
      "Iteration: 1499  Loss: 1.5270529985427856  Accuracy: 32.637542724609375 %\n",
      "Iteration: 1599  Loss: 1.499017596244812  Accuracy: 32.741554260253906 %\n",
      "Saving model and optimizer state at iteration 1599 to ../checkpoints/cnn_simple_TITLE_best_checkpoint\n",
      "Iteration: 1699  Loss: 1.5535578727722168  Accuracy: 32.60526657104492 %\n",
      "Epoch 2\n"
     ]
    },
    {
     "data": {
      "application/vnd.jupyter.widget-view+json": {
       "model_id": "0d9bcc739bcc44e09a322e8b74439e92",
       "version_major": 2,
       "version_minor": 0
      },
      "text/plain": [
       "  0%|          | 0/871 [00:00<?, ?it/s]"
      ]
     },
     "metadata": {},
     "output_type": "display_data"
    },
    {
     "name": "stdout",
     "output_type": "stream",
     "text": [
      "Iteration: 1799  Loss: 1.5687916278839111  Accuracy: 32.583744049072266 %\n",
      "Iteration: 1899  Loss: 1.4871985912322998  Accuracy: 32.486907958984375 %\n",
      "Iteration: 1999  Loss: 1.5686579942703247  Accuracy: 32.74872589111328 %\n",
      "Saving model and optimizer state at iteration 1999 to ../checkpoints/cnn_simple_TITLE_best_checkpoint\n",
      "Iteration: 2099  Loss: 1.547935128211975  Accuracy: 32.63395690917969 %\n",
      "Iteration: 2199  Loss: 1.5415921211242676  Accuracy: 32.52277374267578 %\n",
      "Iteration: 2299  Loss: 1.536156415939331  Accuracy: 32.72720718383789 %\n",
      "Iteration: 2399  Loss: 1.5721542835235596  Accuracy: 32.863494873046875 %\n",
      "Saving model and optimizer state at iteration 2399 to ../checkpoints/cnn_simple_TITLE_best_checkpoint\n",
      "Iteration: 2499  Loss: 1.52178156375885  Accuracy: 32.885013580322266 %\n",
      "Saving model and optimizer state at iteration 2499 to ../checkpoints/cnn_simple_TITLE_best_checkpoint\n",
      "Iteration: 2599  Loss: 1.487267255783081  Accuracy: 32.7989387512207 %\n",
      "Epoch 3\n"
     ]
    },
    {
     "data": {
      "application/vnd.jupyter.widget-view+json": {
       "model_id": "8e4020ab5ad647489ed4ff0d9424d39a",
       "version_major": 2,
       "version_minor": 0
      },
      "text/plain": [
       "  0%|          | 0/871 [00:00<?, ?it/s]"
      ]
     },
     "metadata": {},
     "output_type": "display_data"
    },
    {
     "name": "stdout",
     "output_type": "stream",
     "text": [
      "Iteration: 2699  Loss: 1.5450303554534912  Accuracy: 32.691341400146484 %\n",
      "Iteration: 2799  Loss: 1.5291680097579956  Accuracy: 32.3111686706543 %\n",
      "Iteration: 2899  Loss: 1.5442763566970825  Accuracy: 32.547882080078125 %\n",
      "Iteration: 2999  Loss: 1.5399068593978882  Accuracy: 32.0457649230957 %\n",
      "Iteration: 3099  Loss: 1.548401117324829  Accuracy: 32.37572479248047 %\n",
      "Iteration: 3199  Loss: 1.5598100423812866  Accuracy: 32.637542724609375 %\n",
      "Iteration: 3299  Loss: 1.5180569887161255  Accuracy: 32.43669891357422 %\n",
      "Iteration: 3399  Loss: 1.5357879400253296  Accuracy: 32.73079299926758 %\n",
      "Epoch 4\n"
     ]
    },
    {
     "data": {
      "application/vnd.jupyter.widget-view+json": {
       "model_id": "16c63b0c6dab4a73bd8611e50985cf69",
       "version_major": 2,
       "version_minor": 0
      },
      "text/plain": [
       "  0%|          | 0/871 [00:00<?, ?it/s]"
      ]
     },
     "metadata": {},
     "output_type": "display_data"
    },
    {
     "name": "stdout",
     "output_type": "stream",
     "text": [
      "Iteration: 3499  Loss: 1.5401577949523926  Accuracy: 32.52994918823242 %\n",
      "Iteration: 3599  Loss: 1.497702956199646  Accuracy: 31.310522079467773 %\n",
      "Iteration: 3699  Loss: 1.4854986667633057  Accuracy: 32.45104217529297 %\n",
      "Iteration: 3799  Loss: 1.5121656656265259  Accuracy: 31.224445343017578 %\n",
      "Iteration: 3899  Loss: 1.4913876056671143  Accuracy: 31.941755294799805 %\n",
      "Iteration: 3999  Loss: 1.5168424844741821  Accuracy: 31.608205795288086 %\n",
      "Iteration: 4099  Loss: 1.451322078704834  Accuracy: 32.067283630371094 %\n",
      "Iteration: 4199  Loss: 1.5791741609573364  Accuracy: 31.956100463867188 %\n",
      "Iteration: 4299  Loss: 1.5546889305114746  Accuracy: 32.063697814941406 %\n"
     ]
    }
   ],
   "source": [
    "iteration_list, loss_list, accuracy_list = pipeline.train_model(learning_rate,\n",
    "                                                               criterion,\n",
    "                                                               optimizer,\n",
    "                                                               train_df,\n",
    "                                                               val_df,\n",
    "                                                               epochs=5,\n",
    "                                                               checkpoint_path='../checkpoints/cnn_simple_TITLE_best_checkpoint')"
   ]
  },
  {
   "cell_type": "code",
   "execution_count": 32,
   "metadata": {},
   "outputs": [
    {
     "data": {
      "image/png": "[encoded data removed]",
      "text/plain": [
       "<Figure size 432x288 with 1 Axes>"
      ]
     },
     "metadata": {
      "needs_background": "light"
     },
     "output_type": "display_data"
    },
    {
     "data": {
      "image/png": "[encoded data removed]",
      "text/plain": [
       "<Figure size 432x288 with 1 Axes>"
      ]
     },
     "metadata": {
      "needs_background": "light"
     },
     "output_type": "display_data"
    }
   ],
   "source": [
    "pipeline.draw_curves(iteration_list, loss_list, accuracy_list)"
   ]
  },
  {
   "cell_type": "code",
   "execution_count": 33,
   "metadata": {},
   "outputs": [
    {
     "name": "stdout",
     "output_type": "stream",
     "text": [
      "INFO:pipeline-log:Starting prediction\n",
      "Loading checkpoint '../checkpoints/cnn_simple_TITLE_best_checkpoint'\n",
      "Loaded checkpoint '../checkpoints/cnn_simple_TITLE_best_checkpoint' from iteration 2499\n"
     ]
    }
   ],
   "source": [
    "pred = pipeline.predict(test_df, checkpoint_path='../checkpoints/cnn_simple_TITLE_best_checkpoint')"
   ]
  },
  {
   "cell_type": "code",
   "execution_count": 34,
   "metadata": {},
   "outputs": [
    {
     "data": {
      "image/png": "[encoded data removed]",
      "text/plain": [
       "<Figure size 576x432 with 2 Axes>"
      ]
     },
     "metadata": {
      "needs_background": "light"
     },
     "output_type": "display_data"
    },
    {
     "name": "stdout",
     "output_type": "stream",
     "text": [
      "Accuracy: 0.32612 \n",
      "Balanced accuracy: 0.23406 \n",
      "Multiclass f1-score: \n",
      "    micro: 0.32612 \n",
      "    macro: 0.16863 \n",
      "    weighted: 0.22367\n",
      "\n",
      "\n",
      "Classification report:\n",
      "\n",
      "              precision    recall  f1-score   support\n",
      "\n",
      "           0    0.34242   0.80272   0.48006     10949\n",
      "           1    0.00000   0.00000   0.00000      3400\n",
      "           2    0.23913   0.00998   0.01916      6612\n",
      "           3    0.22993   0.01837   0.03402      6860\n",
      "           4    0.28525   0.33921   0.30990      7031\n",
      "\n",
      "    accuracy                        0.32612     34852\n",
      "   macro avg    0.21935   0.23406   0.16863     34852\n",
      "weighted avg    0.25575   0.32612   0.22367     34852\n",
      "\n"
     ]
    }
   ],
   "source": [
    "pipeline.get_scores(test_df[S.TARGET].values, pred)"
   ]
  },
  {
   "cell_type": "code",
   "execution_count": null,
   "metadata": {},
   "outputs": [],
   "source": []
  },
  {
   "cell_type": "code",
   "execution_count": null,
   "metadata": {},
   "outputs": [],
   "source": []
  },
  {
   "cell_type": "code",
   "execution_count": 18,
   "metadata": {},
   "outputs": [
    {
     "data": {
      "image/png": "[encoded data removed]",
      "text/plain": [
       "<Figure size 576x432 with 2 Axes>"
      ]
     },
     "metadata": {
      "needs_background": "light"
     },
     "output_type": "display_data"
    },
    {
     "name": "stdout",
     "output_type": "stream",
     "text": [
      "Accuracy: 0.3252 \n",
      "Balanced accuracy: 0.23437 \n",
      "Multiclass f1-score: \n",
      "    micro: 0.3252 \n",
      "    macro: 0.17574 \n",
      "    weighted: 0.23057\n",
      "\n",
      "\n",
      "Classification report:\n",
      "\n",
      "              precision    recall  f1-score   support\n",
      "\n",
      "           0    0.34490   0.79359   0.48083     10949\n",
      "           1    0.00000   0.00000   0.00000      3400\n",
      "           2    0.21397   0.02223   0.04028      6612\n",
      "           3    0.21495   0.03017   0.05292      6860\n",
      "           4    0.28605   0.32584   0.30465      7031\n",
      "\n",
      "    accuracy                        0.32520     34852\n",
      "   macro avg    0.21198   0.23437   0.17574     34852\n",
      "weighted avg    0.24896   0.32520   0.23057     34852\n",
      "\n"
     ]
    }
   ],
   "source": [
    "pipeline.get_scores(test_df[S.TARGET].values, pred)"
   ]
  },
  {
   "cell_type": "code",
   "execution_count": null,
   "metadata": {},
   "outputs": [],
   "source": [
    "# + без аугментации"
   ]
  }
 ],
 "metadata": {
  "kernelspec": {
   "display_name": "envname",
   "language": "python",
   "name": "envname"
  },
  "language_info": {
   "codemirror_mode": {
    "name": "ipython",
    "version": 3
   },
   "file_extension": ".py",
   "mimetype": "text/x-python",
   "name": "python",
   "nbconvert_exporter": "python",
   "pygments_lexer": "ipython3",
   "version": "3.8.10"
  }
 },
 "nbformat": 4,
 "nbformat_minor": 1
}
