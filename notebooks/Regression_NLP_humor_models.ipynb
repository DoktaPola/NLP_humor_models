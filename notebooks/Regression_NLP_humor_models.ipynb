{
  "cells": [
    {
      "cell_type": "markdown",
      "metadata": {
        "id": "ZPXL1bUvoRtW"
      },
      "source": [
        "# <center> **NLP analysis of jokes dataset**"
      ]
    },
    {
      "cell_type": "markdown",
      "metadata": {
        "id": "3qeGNIJeoc7e"
      },
      "source": [
        "## Table of Contents\n",
        "\n",
        "1. **[RNN models](#5)**\n",
        "\t* [Pretrained embedding (word2vec)](#sub-heading)\n",
        "     + [Dataset loader](#sub-sub-heading-1) \n",
        "     + [Split](#sub-sub-heading-2)\n",
        "     + [RNN](#sub-sub-heading-2)\n",
        "     + [LSTM](#sub-sub-heading-2)\n",
        "     + [Bidirectional LSTM](#sub-sub-heading-2)\n",
        "     + [GRU](#sub-sub-heading-2)\n",
        "\t* [Glove Embedding](#sub-heading)\n",
        "     + [Dataset loader](#sub-sub-heading-1) \n",
        "     + [Split](#sub-sub-heading-2)\n",
        "     + [RNN](#sub-sub-heading-2)\n",
        "     + [LSTM](#sub-sub-heading-2)\n",
        "     + [Bidirectional LSTM](#sub-sub-heading-2)\n",
        "\t* [Make own vocab by train word2vec model](#sub-heading)\n",
        "     + [Dataset loader](#sub-sub-heading-1) \n",
        "     + [Split](#sub-sub-heading-2)\n",
        "     + [LSTM](#sub-sub-heading-2)\n",
        "\n",
        "\n"
      ]
    },
    {
      "cell_type": "code",
      "execution_count": 1,
      "metadata": {
        "id": "XT-6TEfGoBmE"
      },
      "outputs": [],
      "source": [
        "import pandas as pd\n",
        "import numpy as np\n",
        "import re\n",
        "import seaborn as sns\n",
        "import matplotlib.pyplot as plt\n",
        "from matplotlib import style\n",
        "style.use('seaborn')\n",
        "%matplotlib inline\n",
        "#graphs in svg look clearer\n",
        "%config InlineBackend.figure_format = 'svg' \n",
        "import warnings\n",
        "warnings.simplefilter('ignore')\n",
        "\n",
        "from google.colab import drive\n",
        "import os\n",
        "import string\n",
        "\n",
        "import plotly as py\n",
        "import numpy as np\n",
        "from plotly.offline import init_notebook_mode, iplot\n",
        "from plotly.graph_objs import Contours, Histogram2dContour, Marker, Scatter\n",
        "\n",
        "from tqdm._tqdm_notebook import tqdm_notebook\n",
        "tqdm_notebook.pandas(desc='PROGRESS>>>')\n",
        "\n",
        "from google_drive_downloader import GoogleDriveDownloader as gdd\n",
        "from IPython.core.display import display, HTML\n",
        "\n",
        "from sklearn.model_selection import RepeatedStratifiedKFold, GridSearchCV, StratifiedKFold, KFold, cross_val_score, train_test_split\n",
        "from sklearn.feature_extraction.text import TfidfVectorizer\n",
        "from sklearn import metrics\n",
        "from sklearn.pipeline import make_pipeline\n",
        "from sklearn.preprocessing import label_binarize, StandardScaler\n",
        "\n",
        "from torch.optim.lr_scheduler import CosineAnnealingLR\n",
        "from tqdm import tqdm\n",
        "import gensim\n",
        "import gensim.downloader as api\n",
        "from gensim.models import Word2Vec\n",
        "\n",
        "import gensim.downloader as gensim_api\n",
        "from torch.nn.utils.rnn import pad_sequence\n",
        "\n",
        "from functools import partial\n",
        "\n",
        "import re\n",
        "import gc\n",
        "\n",
        "import fileinput\n",
        "import string\n",
        "import tensorflow as tf\n",
        "import zipfile\n",
        "import datetime\n",
        "import sys\n",
        "from tqdm  import tqdm\n",
        "tqdm.pandas()"
      ]
    },
    {
      "cell_type": "code",
      "execution_count": 2,
      "metadata": {
        "colab": {
          "base_uri": "https://localhost:8080/"
        },
        "id": "cHi3ZFMpoBu0",
        "outputId": "a8491bac-218b-4bd6-eed6-94b63a08f5e4"
      },
      "outputs": [
        {
          "output_type": "stream",
          "name": "stdout",
          "text": [
            "Mounted at /content/drive\n"
          ]
        }
      ],
      "source": [
        "drive.mount(\"/content/drive\")"
      ]
    },
    {
      "cell_type": "code",
      "source": [
        "text_columns = ['joke']"
      ],
      "metadata": {
        "id": "kCM5SrLe6yor"
      },
      "execution_count": 3,
      "outputs": []
    },
    {
      "cell_type": "markdown",
      "source": [
        "# Read data: "
      ],
      "metadata": {
        "id": "CEXD_5bJYc8g"
      }
    },
    {
      "cell_type": "code",
      "source": [
        "data = pd.read_csv('/content/drive/My Drive/NLP_humor/data/jokes_dataset_MAIN_PREPROC_regression.csv', \n",
        "                 sep=',', \n",
        "                 encoding='utf-8').set_index('id')"
      ],
      "metadata": {
        "id": "dhVW1VZaYc8h"
      },
      "execution_count": 4,
      "outputs": []
    },
    {
      "cell_type": "code",
      "source": [
        "data.head()"
      ],
      "metadata": {
        "colab": {
          "base_uri": "https://localhost:8080/",
          "height": 237
        },
        "outputId": "5bb152c8-2563-4dde-b232-7be53c8e49fc",
        "id": "bHjSHWN7Yc8h"
      },
      "execution_count": 5,
      "outputs": [
        {
          "output_type": "execute_result",
          "data": {
            "text/html": [
              "\n",
              "  <div id=\"df-760f88bd-b493-4ca2-882c-cb15863b0fbe\">\n",
              "    <div class=\"colab-df-container\">\n",
              "      <div>\n",
              "<style scoped>\n",
              "    .dataframe tbody tr th:only-of-type {\n",
              "        vertical-align: middle;\n",
              "    }\n",
              "\n",
              "    .dataframe tbody tr th {\n",
              "        vertical-align: top;\n",
              "    }\n",
              "\n",
              "    .dataframe thead th {\n",
              "        text-align: right;\n",
              "    }\n",
              "</style>\n",
              "<table border=\"1\" class=\"dataframe\">\n",
              "  <thead>\n",
              "    <tr style=\"text-align: right;\">\n",
              "      <th></th>\n",
              "      <th>joke</th>\n",
              "      <th>Log1pRank</th>\n",
              "    </tr>\n",
              "    <tr>\n",
              "      <th>id</th>\n",
              "      <th></th>\n",
              "      <th></th>\n",
              "    </tr>\n",
              "  </thead>\n",
              "  <tbody>\n",
              "    <tr>\n",
              "      <th>5tz52q</th>\n",
              "      <td>I hate how you cannot even say black paint any...</td>\n",
              "      <td>0.693147</td>\n",
              "    </tr>\n",
              "    <tr>\n",
              "      <th>5tz4dd</th>\n",
              "      <td>What is the difference between a Jew in Nazi G...</td>\n",
              "      <td>0.000000</td>\n",
              "    </tr>\n",
              "    <tr>\n",
              "      <th>5tz319</th>\n",
              "      <td>I recently went to America..... ...and being t...</td>\n",
              "      <td>0.000000</td>\n",
              "    </tr>\n",
              "    <tr>\n",
              "      <th>5tz2wj</th>\n",
              "      <td>Brian raises his hand and says, \"He is in Heav...</td>\n",
              "      <td>0.693147</td>\n",
              "    </tr>\n",
              "    <tr>\n",
              "      <th>5tz1pc</th>\n",
              "      <td>You hear about the University book store worke...</td>\n",
              "      <td>0.000000</td>\n",
              "    </tr>\n",
              "  </tbody>\n",
              "</table>\n",
              "</div>\n",
              "      <button class=\"colab-df-convert\" onclick=\"convertToInteractive('df-760f88bd-b493-4ca2-882c-cb15863b0fbe')\"\n",
              "              title=\"Convert this dataframe to an interactive table.\"\n",
              "              style=\"display:none;\">\n",
              "        \n",
              "  <svg xmlns=\"http://www.w3.org/2000/svg\" height=\"24px\"viewBox=\"0 0 24 24\"\n",
              "       width=\"24px\">\n",
              "    <path d=\"M0 0h24v24H0V0z\" fill=\"none\"/>\n",
              "    <path d=\"M18.56 5.44l.94 2.06.94-2.06 2.06-.94-2.06-.94-.94-2.06-.94 2.06-2.06.94zm-11 1L8.5 8.5l.94-2.06 2.06-.94-2.06-.94L8.5 2.5l-.94 2.06-2.06.94zm10 10l.94 2.06.94-2.06 2.06-.94-2.06-.94-.94-2.06-.94 2.06-2.06.94z\"/><path d=\"M17.41 7.96l-1.37-1.37c-.4-.4-.92-.59-1.43-.59-.52 0-1.04.2-1.43.59L10.3 9.45l-7.72 7.72c-.78.78-.78 2.05 0 2.83L4 21.41c.39.39.9.59 1.41.59.51 0 1.02-.2 1.41-.59l7.78-7.78 2.81-2.81c.8-.78.8-2.07 0-2.86zM5.41 20L4 18.59l7.72-7.72 1.47 1.35L5.41 20z\"/>\n",
              "  </svg>\n",
              "      </button>\n",
              "      \n",
              "  <style>\n",
              "    .colab-df-container {\n",
              "      display:flex;\n",
              "      flex-wrap:wrap;\n",
              "      gap: 12px;\n",
              "    }\n",
              "\n",
              "    .colab-df-convert {\n",
              "      background-color: #E8F0FE;\n",
              "      border: none;\n",
              "      border-radius: 50%;\n",
              "      cursor: pointer;\n",
              "      display: none;\n",
              "      fill: #1967D2;\n",
              "      height: 32px;\n",
              "      padding: 0 0 0 0;\n",
              "      width: 32px;\n",
              "    }\n",
              "\n",
              "    .colab-df-convert:hover {\n",
              "      background-color: #E2EBFA;\n",
              "      box-shadow: 0px 1px 2px rgba(60, 64, 67, 0.3), 0px 1px 3px 1px rgba(60, 64, 67, 0.15);\n",
              "      fill: #174EA6;\n",
              "    }\n",
              "\n",
              "    [theme=dark] .colab-df-convert {\n",
              "      background-color: #3B4455;\n",
              "      fill: #D2E3FC;\n",
              "    }\n",
              "\n",
              "    [theme=dark] .colab-df-convert:hover {\n",
              "      background-color: #434B5C;\n",
              "      box-shadow: 0px 1px 3px 1px rgba(0, 0, 0, 0.15);\n",
              "      filter: drop-shadow(0px 1px 2px rgba(0, 0, 0, 0.3));\n",
              "      fill: #FFFFFF;\n",
              "    }\n",
              "  </style>\n",
              "\n",
              "      <script>\n",
              "        const buttonEl =\n",
              "          document.querySelector('#df-760f88bd-b493-4ca2-882c-cb15863b0fbe button.colab-df-convert');\n",
              "        buttonEl.style.display =\n",
              "          google.colab.kernel.accessAllowed ? 'block' : 'none';\n",
              "\n",
              "        async function convertToInteractive(key) {\n",
              "          const element = document.querySelector('#df-760f88bd-b493-4ca2-882c-cb15863b0fbe');\n",
              "          const dataTable =\n",
              "            await google.colab.kernel.invokeFunction('convertToInteractive',\n",
              "                                                     [key], {});\n",
              "          if (!dataTable) return;\n",
              "\n",
              "          const docLinkHtml = 'Like what you see? Visit the ' +\n",
              "            '<a target=\"_blank\" href=https://colab.research.google.com/notebooks/data_table.ipynb>data table notebook</a>'\n",
              "            + ' to learn more about interactive tables.';\n",
              "          element.innerHTML = '';\n",
              "          dataTable['output_type'] = 'display_data';\n",
              "          await google.colab.output.renderOutput(dataTable, element);\n",
              "          const docLink = document.createElement('div');\n",
              "          docLink.innerHTML = docLinkHtml;\n",
              "          element.appendChild(docLink);\n",
              "        }\n",
              "      </script>\n",
              "    </div>\n",
              "  </div>\n",
              "  "
            ],
            "text/plain": [
              "                                                     joke  Log1pRank\n",
              "id                                                                  \n",
              "5tz52q  I hate how you cannot even say black paint any...   0.693147\n",
              "5tz4dd  What is the difference between a Jew in Nazi G...   0.000000\n",
              "5tz319  I recently went to America..... ...and being t...   0.000000\n",
              "5tz2wj  Brian raises his hand and says, \"He is in Heav...   0.693147\n",
              "5tz1pc  You hear about the University book store worke...   0.000000"
            ]
          },
          "metadata": {},
          "execution_count": 5
        }
      ]
    },
    {
      "cell_type": "code",
      "source": [
        "data.dropna(inplace=True)"
      ],
      "metadata": {
        "id": "pq8sNptVYc8i"
      },
      "execution_count": 6,
      "outputs": []
    },
    {
      "cell_type": "code",
      "source": [
        "data.isna().sum()"
      ],
      "metadata": {
        "colab": {
          "base_uri": "https://localhost:8080/"
        },
        "outputId": "29724aa1-4b91-4f8f-9bc8-a03df93fffb5",
        "id": "17m6tVM5Yc8i"
      },
      "execution_count": 7,
      "outputs": [
        {
          "output_type": "execute_result",
          "data": {
            "text/plain": [
              "joke         0\n",
              "Log1pRank    0\n",
              "dtype: int64"
            ]
          },
          "metadata": {},
          "execution_count": 7
        }
      ]
    },
    {
      "cell_type": "markdown",
      "source": [
        "# **Preprocessing text data**"
      ],
      "metadata": {
        "id": "qxntu_MRzzEp"
      }
    },
    {
      "cell_type": "markdown",
      "source": [
        "Just like last week, applying NLP to a problem begins from tokenization: splitting raw text into sequences of tokens (words, punctuation, etc).\n",
        "\n",
        "__Your task__ is to lowercase and tokenize all texts under `Title` and `FullDescription` columns. Store the tokenized data as a __space-separated__ string of tokens for performance reasons.\n",
        "\n",
        "It's okay to use nltk tokenizers. Assertions were designed for WordPunctTokenizer, slight deviations are okay."
      ],
      "metadata": {
        "id": "Hb6g75-c6tth"
      }
    },
    {
      "cell_type": "code",
      "source": [
        "import nltk\n",
        "\n",
        "tokenizer = nltk.tokenize.WordPunctTokenizer()\n",
        "\n",
        "data[text_columns] = data[text_columns].applymap(lambda x: \" \".join(tokenizer.tokenize(x.lower())))"
      ],
      "metadata": {
        "id": "63uLQmB96I4z"
      },
      "execution_count": 8,
      "outputs": []
    },
    {
      "cell_type": "markdown",
      "source": [
        "Not all words are equally useful. Some of them are typos or rare words that are only present a few times. \n",
        "\n",
        "Let's count how many times is each word present in the data so that we can build a \"white list\" of known words."
      ],
      "metadata": {
        "id": "weDrJ6Qd7jrf"
      }
    },
    {
      "cell_type": "code",
      "source": [
        "from collections import Counter\n",
        "token_counts = Counter()\n",
        "# Count how many times does each token occur \"joke\" in total\n",
        "\n",
        "for col in text_columns:\n",
        "    for line in data[col].values:\n",
        "        token_counts.update(line.split(\" \"))"
      ],
      "metadata": {
        "id": "n4DPO94i6q-g"
      },
      "execution_count": 9,
      "outputs": []
    },
    {
      "cell_type": "code",
      "source": [
        "print(\"Total unique tokens :\", len(token_counts))\n",
        "print('\\n'.join(map(str, token_counts.most_common(n=5))))\n",
        "print('...')\n",
        "print('\\n'.join(map(str, token_counts.most_common()[-3:])))\n",
        "\n",
        "assert token_counts.most_common(1)[0][1] in  range(500000, 600000)\n",
        "assert len(token_counts) in range(80000, 90000)\n",
        "print('Correct!')"
      ],
      "metadata": {
        "colab": {
          "base_uri": "https://localhost:8080/"
        },
        "id": "WAlVs3DK82xj",
        "outputId": "b6ab3306-a833-414a-fb92-f1fa9ce9d201"
      },
      "execution_count": 10,
      "outputs": [
        {
          "output_type": "stream",
          "name": "stdout",
          "text": [
            "Total unique tokens : 80705\n",
            "('the', 526870)\n",
            "('.', 434872)\n",
            "(',', 412333)\n",
            "('a', 331822)\n",
            "('and', 246287)\n",
            "...\n",
            "('uhr', 1)\n",
            "('pinat', 1)\n",
            "('ddr', 1)\n",
            "Correct!\n"
          ]
        }
      ]
    },
    {
      "cell_type": "code",
      "source": [
        "# Let's see how many words are there for each count\n",
        "plt.hist(list(token_counts.values()), range=[0, 10**4], bins=50, log=True)\n",
        "plt.xlabel(\"Word counts\");"
      ],
      "metadata": {
        "colab": {
          "base_uri": "https://localhost:8080/",
          "height": 371
        },
        "id": "aCeQVLjE9P-x",
        "outputId": "c4b53d6c-b901-47df-9086-92bae57426bd"
      },
      "execution_count": 11,
      "outputs": [
        {
          "output_type": "display_data",
          "data": {
            "text/plain": [
              "<Figure size 432x288 with 1 Axes>"
            ],
            "image/svg+xml": "<?xml version=\"1.0\" encoding=\"utf-8\" standalone=\"no\"?>\n<!DOCTYPE svg PUBLIC \"-//W3C//DTD SVG 1.1//EN\"\n  \"http://www.w3.org/Graphics/SVG/1.1/DTD/svg11.dtd\">\n<!-- Created with matplotlib (https://matplotlib.org/) -->\n<svg height=\"262.415937pt\" version=\"1.1\" viewBox=\"0 0 371.6 262.415937\" width=\"371.6pt\" xmlns=\"http://www.w3.org/2000/svg\" xmlns:xlink=\"http://www.w3.org/1999/xlink\">\n <defs>\n  <style type=\"text/css\">\n*{stroke-linecap:butt;stroke-linejoin:round;}\n  </style>\n </defs>\n <g id=\"figure_1\">\n  <g id=\"patch_1\">\n   <path d=\"M 0 262.415937 \nL 371.6 262.415937 \nL 371.6 0 \nL 0 0 \nz\n\" style=\"fill:none;\"/>\n  </g>\n  <g id=\"axes_1\">\n   <g id=\"patch_2\">\n    <path d=\"M 29.6 224.64 \nL 364.4 224.64 \nL 364.4 7.2 \nL 29.6 7.2 \nz\n\" style=\"fill:#eaeaf2;\"/>\n   </g>\n   <g id=\"matplotlib.axis_1\">\n    <g id=\"xtick_1\">\n     <g id=\"line2d_1\">\n      <path clip-path=\"url(#p2c87b5349b)\" d=\"M 44.818182 224.64 \nL 44.818182 7.2 \n\" style=\"fill:none;stroke:#ffffff;stroke-linecap:round;\"/>\n     </g>\n     <g id=\"line2d_2\"/>\n     <g id=\"text_1\">\n      <!-- 0 -->\n      <defs>\n       <path d=\"M 51.703125 34.421875 \nQ 51.703125 24.515625 49.828125 17.75 \nQ 47.953125 10.984375 44.703125 6.8125 \nQ 41.453125 2.640625 37.0625 0.828125 \nQ 32.671875 -0.984375 27.6875 -0.984375 \nQ 22.65625 -0.984375 18.3125 0.828125 \nQ 13.96875 2.640625 10.765625 6.78125 \nQ 7.5625 10.9375 5.734375 17.703125 \nQ 3.90625 24.46875 3.90625 34.421875 \nQ 3.90625 44.828125 5.734375 51.640625 \nQ 7.5625 58.453125 10.78125 62.5 \nQ 14.015625 66.546875 18.40625 68.1875 \nQ 22.796875 69.828125 27.984375 69.828125 \nQ 32.90625 69.828125 37.21875 68.1875 \nQ 41.546875 66.546875 44.765625 62.5 \nQ 48 58.453125 49.84375 51.640625 \nQ 51.703125 44.828125 51.703125 34.421875 \nz\nM 42.78125 34.421875 \nQ 42.78125 42.625 41.796875 48.0625 \nQ 40.828125 53.515625 38.921875 56.765625 \nQ 37.015625 60.015625 34.25 61.359375 \nQ 31.5 62.703125 27.984375 62.703125 \nQ 24.265625 62.703125 21.4375 61.328125 \nQ 18.609375 59.96875 16.671875 56.71875 \nQ 14.75 53.46875 13.765625 48.015625 \nQ 12.796875 42.578125 12.796875 34.421875 \nQ 12.796875 26.515625 13.796875 21.09375 \nQ 14.796875 15.671875 16.71875 12.375 \nQ 18.65625 9.078125 21.4375 7.640625 \nQ 24.21875 6.203125 27.78125 6.203125 \nQ 31.25 6.203125 34.03125 7.640625 \nQ 36.8125 9.078125 38.734375 12.375 \nQ 40.671875 15.671875 41.71875 21.09375 \nQ 42.78125 26.515625 42.78125 34.421875 \nz\n\" id=\"LiberationSans-48\"/>\n      </defs>\n      <g style=\"fill:#262626;\" transform=\"translate(42.037713 238.886875)scale(0.1 -0.1)\">\n       <use xlink:href=\"#LiberationSans-48\"/>\n      </g>\n     </g>\n    </g>\n    <g id=\"xtick_2\">\n     <g id=\"line2d_3\">\n      <path clip-path=\"url(#p2c87b5349b)\" d=\"M 105.690909 224.64 \nL 105.690909 7.2 \n\" style=\"fill:none;stroke:#ffffff;stroke-linecap:round;\"/>\n     </g>\n     <g id=\"line2d_4\"/>\n     <g id=\"text_2\">\n      <!-- 2000 -->\n      <defs>\n       <path d=\"M 5.03125 0 \nL 5.03125 6.203125 \nQ 7.515625 11.921875 11.109375 16.28125 \nQ 14.703125 20.65625 18.65625 24.1875 \nQ 22.609375 27.734375 26.484375 30.765625 \nQ 30.375 33.796875 33.5 36.8125 \nQ 36.625 39.84375 38.546875 43.15625 \nQ 40.484375 46.484375 40.484375 50.6875 \nQ 40.484375 53.609375 39.59375 55.828125 \nQ 38.71875 58.0625 37.0625 59.5625 \nQ 35.40625 61.078125 33.078125 61.828125 \nQ 30.765625 62.59375 27.9375 62.59375 \nQ 25.296875 62.59375 22.96875 61.859375 \nQ 20.65625 61.140625 18.84375 59.671875 \nQ 17.046875 58.203125 15.890625 56.03125 \nQ 14.75 53.859375 14.40625 50.984375 \nL 5.421875 51.8125 \nQ 5.859375 55.515625 7.46875 58.78125 \nQ 9.078125 62.0625 11.90625 64.53125 \nQ 14.75 67 18.71875 68.40625 \nQ 22.703125 69.828125 27.9375 69.828125 \nQ 33.0625 69.828125 37.0625 68.609375 \nQ 41.0625 67.390625 43.8125 64.984375 \nQ 46.578125 62.59375 48.046875 59.078125 \nQ 49.515625 55.5625 49.515625 50.984375 \nQ 49.515625 47.515625 48.265625 44.390625 \nQ 47.015625 41.265625 44.9375 38.421875 \nQ 42.875 35.59375 40.140625 32.953125 \nQ 37.40625 30.328125 34.421875 27.8125 \nQ 31.453125 25.296875 28.421875 22.828125 \nQ 25.390625 20.359375 22.71875 17.859375 \nQ 20.0625 15.375 17.96875 12.8125 \nQ 15.875 10.25 14.703125 7.46875 \nL 50.59375 7.46875 \nL 50.59375 0 \nz\n\" id=\"LiberationSans-50\"/>\n      </defs>\n      <g style=\"fill:#262626;\" transform=\"translate(94.569034 238.886875)scale(0.1 -0.1)\">\n       <use xlink:href=\"#LiberationSans-50\"/>\n       <use x=\"55.615234\" xlink:href=\"#LiberationSans-48\"/>\n       <use x=\"111.230469\" xlink:href=\"#LiberationSans-48\"/>\n       <use x=\"166.845703\" xlink:href=\"#LiberationSans-48\"/>\n      </g>\n     </g>\n    </g>\n    <g id=\"xtick_3\">\n     <g id=\"line2d_5\">\n      <path clip-path=\"url(#p2c87b5349b)\" d=\"M 166.563636 224.64 \nL 166.563636 7.2 \n\" style=\"fill:none;stroke:#ffffff;stroke-linecap:round;\"/>\n     </g>\n     <g id=\"line2d_6\"/>\n     <g id=\"text_3\">\n      <!-- 4000 -->\n      <defs>\n       <path d=\"M 43.015625 15.578125 \nL 43.015625 0 \nL 34.71875 0 \nL 34.71875 15.578125 \nL 2.296875 15.578125 \nL 2.296875 22.40625 \nL 33.796875 68.796875 \nL 43.015625 68.796875 \nL 43.015625 22.515625 \nL 52.6875 22.515625 \nL 52.6875 15.578125 \nz\nM 34.71875 58.890625 \nQ 34.625 58.640625 34.234375 57.9375 \nQ 33.84375 57.234375 33.34375 56.34375 \nQ 32.859375 55.46875 32.34375 54.5625 \nQ 31.84375 53.65625 31.453125 53.078125 \nL 13.8125 27.09375 \nQ 13.578125 26.703125 13.109375 26.0625 \nQ 12.640625 25.4375 12.15625 24.78125 \nQ 11.671875 24.125 11.171875 23.484375 \nQ 10.6875 22.859375 10.40625 22.515625 \nL 34.71875 22.515625 \nz\n\" id=\"LiberationSans-52\"/>\n      </defs>\n      <g style=\"fill:#262626;\" transform=\"translate(155.441761 238.886875)scale(0.1 -0.1)\">\n       <use xlink:href=\"#LiberationSans-52\"/>\n       <use x=\"55.615234\" xlink:href=\"#LiberationSans-48\"/>\n       <use x=\"111.230469\" xlink:href=\"#LiberationSans-48\"/>\n       <use x=\"166.845703\" xlink:href=\"#LiberationSans-48\"/>\n      </g>\n     </g>\n    </g>\n    <g id=\"xtick_4\">\n     <g id=\"line2d_7\">\n      <path clip-path=\"url(#p2c87b5349b)\" d=\"M 227.436364 224.64 \nL 227.436364 7.2 \n\" style=\"fill:none;stroke:#ffffff;stroke-linecap:round;\"/>\n     </g>\n     <g id=\"line2d_8\"/>\n     <g id=\"text_4\">\n      <!-- 6000 -->\n      <defs>\n       <path d=\"M 51.21875 22.515625 \nQ 51.21875 17.328125 49.78125 13 \nQ 48.34375 8.6875 45.53125 5.578125 \nQ 42.71875 2.484375 38.5625 0.75 \nQ 34.421875 -0.984375 29 -0.984375 \nQ 23 -0.984375 18.5 1.3125 \nQ 14.015625 3.609375 11.03125 7.921875 \nQ 8.0625 12.25 6.5625 18.53125 \nQ 5.078125 24.8125 5.078125 32.8125 \nQ 5.078125 42 6.765625 48.921875 \nQ 8.453125 55.859375 11.625 60.5 \nQ 14.796875 65.140625 19.359375 67.484375 \nQ 23.921875 69.828125 29.6875 69.828125 \nQ 33.203125 69.828125 36.28125 69.09375 \nQ 39.359375 68.359375 41.875 66.71875 \nQ 44.390625 65.09375 46.28125 62.40625 \nQ 48.1875 59.71875 49.3125 55.8125 \nL 40.921875 54.296875 \nQ 39.546875 58.734375 36.546875 60.71875 \nQ 33.546875 62.703125 29.59375 62.703125 \nQ 25.984375 62.703125 23.046875 60.984375 \nQ 20.125 59.28125 18.0625 55.875 \nQ 16.015625 52.484375 14.90625 47.359375 \nQ 13.8125 42.234375 13.8125 35.40625 \nQ 16.21875 39.84375 20.5625 42.15625 \nQ 24.90625 44.484375 30.515625 44.484375 \nQ 35.203125 44.484375 39.015625 42.96875 \nQ 42.828125 41.453125 45.53125 38.59375 \nQ 48.25 35.75 49.734375 31.671875 \nQ 51.21875 27.59375 51.21875 22.515625 \nz\nM 42.28125 22.125 \nQ 42.28125 25.6875 41.40625 28.5625 \nQ 40.53125 31.453125 38.765625 33.46875 \nQ 37.015625 35.5 34.421875 36.59375 \nQ 31.84375 37.703125 28.421875 37.703125 \nQ 26.03125 37.703125 23.578125 36.984375 \nQ 21.140625 36.28125 19.15625 34.6875 \nQ 17.1875 33.109375 15.9375 30.515625 \nQ 14.703125 27.9375 14.703125 24.21875 \nQ 14.703125 20.40625 15.671875 17.109375 \nQ 16.65625 13.8125 18.484375 11.375 \nQ 20.3125 8.9375 22.890625 7.515625 \nQ 25.484375 6.109375 28.71875 6.109375 \nQ 31.890625 6.109375 34.40625 7.203125 \nQ 36.921875 8.296875 38.671875 10.375 \nQ 40.4375 12.453125 41.359375 15.421875 \nQ 42.28125 18.40625 42.28125 22.125 \nz\n\" id=\"LiberationSans-54\"/>\n      </defs>\n      <g style=\"fill:#262626;\" transform=\"translate(216.314489 238.886875)scale(0.1 -0.1)\">\n       <use xlink:href=\"#LiberationSans-54\"/>\n       <use x=\"55.615234\" xlink:href=\"#LiberationSans-48\"/>\n       <use x=\"111.230469\" xlink:href=\"#LiberationSans-48\"/>\n       <use x=\"166.845703\" xlink:href=\"#LiberationSans-48\"/>\n      </g>\n     </g>\n    </g>\n    <g id=\"xtick_5\">\n     <g id=\"line2d_9\">\n      <path clip-path=\"url(#p2c87b5349b)\" d=\"M 288.309091 224.64 \nL 288.309091 7.2 \n\" style=\"fill:none;stroke:#ffffff;stroke-linecap:round;\"/>\n     </g>\n     <g id=\"line2d_10\"/>\n     <g id=\"text_5\">\n      <!-- 8000 -->\n      <defs>\n       <path d=\"M 51.265625 19.1875 \nQ 51.265625 14.796875 49.875 11.109375 \nQ 48.484375 7.421875 45.625 4.734375 \nQ 42.78125 2.046875 38.328125 0.53125 \nQ 33.890625 -0.984375 27.828125 -0.984375 \nQ 21.78125 -0.984375 17.359375 0.53125 \nQ 12.9375 2.046875 10.03125 4.703125 \nQ 7.125 7.375 5.734375 11.0625 \nQ 4.34375 14.75 4.34375 19.09375 \nQ 4.34375 22.859375 5.484375 25.78125 \nQ 6.640625 28.71875 8.5625 30.828125 \nQ 10.5 32.953125 12.96875 34.25 \nQ 15.4375 35.546875 18.0625 35.984375 \nL 18.0625 36.1875 \nQ 15.1875 36.859375 12.90625 38.375 \nQ 10.640625 39.890625 9.09375 42.015625 \nQ 7.5625 44.140625 6.75 46.71875 \nQ 5.953125 49.3125 5.953125 52.203125 \nQ 5.953125 55.8125 7.34375 59 \nQ 8.734375 62.203125 11.46875 64.625 \nQ 14.203125 67.046875 18.25 68.4375 \nQ 22.3125 69.828125 27.640625 69.828125 \nQ 33.25 69.828125 37.375 68.40625 \nQ 41.5 67 44.203125 64.578125 \nQ 46.921875 62.15625 48.234375 58.9375 \nQ 49.5625 55.71875 49.5625 52.09375 \nQ 49.5625 49.265625 48.75 46.671875 \nQ 47.953125 44.09375 46.40625 41.96875 \nQ 44.875 39.84375 42.59375 38.34375 \nQ 40.328125 36.859375 37.359375 36.28125 \nL 37.359375 36.078125 \nQ 40.328125 35.59375 42.859375 34.296875 \nQ 45.40625 33.015625 47.265625 30.890625 \nQ 49.125 28.765625 50.1875 25.828125 \nQ 51.265625 22.90625 51.265625 19.1875 \nz\nM 40.4375 51.609375 \nQ 40.4375 54.203125 39.765625 56.34375 \nQ 39.109375 58.5 37.59375 60.03125 \nQ 36.078125 61.578125 33.640625 62.421875 \nQ 31.203125 63.28125 27.640625 63.28125 \nQ 24.171875 63.28125 21.78125 62.421875 \nQ 19.390625 61.578125 17.84375 60.03125 \nQ 16.3125 58.5 15.625 56.34375 \nQ 14.9375 54.203125 14.9375 51.609375 \nQ 14.9375 49.5625 15.46875 47.40625 \nQ 16.015625 45.265625 17.421875 43.5 \nQ 18.84375 41.75 21.328125 40.625 \nQ 23.828125 39.5 27.734375 39.5 \nQ 31.890625 39.5 34.40625 40.625 \nQ 36.921875 41.75 38.25 43.5 \nQ 39.59375 45.265625 40.015625 47.40625 \nQ 40.4375 49.5625 40.4375 51.609375 \nz\nM 42.140625 20.015625 \nQ 42.140625 22.515625 41.453125 24.828125 \nQ 40.765625 27.15625 39.109375 28.9375 \nQ 37.453125 30.71875 34.640625 31.8125 \nQ 31.84375 32.90625 27.640625 32.90625 \nQ 23.78125 32.90625 21.0625 31.8125 \nQ 18.359375 30.71875 16.671875 28.90625 \nQ 14.984375 27.09375 14.203125 24.71875 \nQ 13.421875 22.359375 13.421875 19.828125 \nQ 13.421875 16.65625 14.203125 14.03125 \nQ 14.984375 11.421875 16.6875 9.546875 \nQ 18.40625 7.671875 21.1875 6.640625 \nQ 23.96875 5.609375 27.9375 5.609375 \nQ 31.9375 5.609375 34.671875 6.640625 \nQ 37.40625 7.671875 39.0625 9.546875 \nQ 40.71875 11.421875 41.421875 14.078125 \nQ 42.140625 16.75 42.140625 20.015625 \nz\n\" id=\"LiberationSans-56\"/>\n      </defs>\n      <g style=\"fill:#262626;\" transform=\"translate(277.187216 238.886875)scale(0.1 -0.1)\">\n       <use xlink:href=\"#LiberationSans-56\"/>\n       <use x=\"55.615234\" xlink:href=\"#LiberationSans-48\"/>\n       <use x=\"111.230469\" xlink:href=\"#LiberationSans-48\"/>\n       <use x=\"166.845703\" xlink:href=\"#LiberationSans-48\"/>\n      </g>\n     </g>\n    </g>\n    <g id=\"xtick_6\">\n     <g id=\"line2d_11\">\n      <path clip-path=\"url(#p2c87b5349b)\" d=\"M 349.181818 224.64 \nL 349.181818 7.2 \n\" style=\"fill:none;stroke:#ffffff;stroke-linecap:round;\"/>\n     </g>\n     <g id=\"line2d_12\"/>\n     <g id=\"text_6\">\n      <!-- 10000 -->\n      <defs>\n       <path d=\"M 7.625 0 \nL 7.625 7.46875 \nL 25.140625 7.46875 \nL 25.140625 60.40625 \nL 9.625 49.3125 \nL 9.625 57.625 \nL 25.875 68.796875 \nL 33.984375 68.796875 \nL 33.984375 7.46875 \nL 50.734375 7.46875 \nL 50.734375 0 \nz\n\" id=\"LiberationSans-49\"/>\n      </defs>\n      <g style=\"fill:#262626;\" transform=\"translate(335.279474 238.886875)scale(0.1 -0.1)\">\n       <use xlink:href=\"#LiberationSans-49\"/>\n       <use x=\"55.615234\" xlink:href=\"#LiberationSans-48\"/>\n       <use x=\"111.230469\" xlink:href=\"#LiberationSans-48\"/>\n       <use x=\"166.845703\" xlink:href=\"#LiberationSans-48\"/>\n       <use x=\"222.460938\" xlink:href=\"#LiberationSans-48\"/>\n      </g>\n     </g>\n    </g>\n    <g id=\"text_7\">\n     <!-- Word counts -->\n     <defs>\n      <path d=\"M 73.78125 0 \nL 62.640625 0 \nL 50.734375 43.703125 \nQ 50.203125 45.5625 49.578125 48.09375 \nQ 48.96875 50.640625 48.484375 52.9375 \nQ 47.90625 55.609375 47.3125 58.40625 \nQ 46.6875 55.5625 46.09375 52.875 \nQ 45.5625 50.53125 44.96875 48.046875 \nQ 44.390625 45.5625 43.84375 43.703125 \nL 31.84375 0 \nL 20.703125 0 \nL 0.4375 68.796875 \nL 10.15625 68.796875 \nL 22.515625 25.09375 \nQ 23.34375 22.015625 24.09375 18.984375 \nQ 24.859375 15.96875 25.390625 13.578125 \nQ 26.03125 10.75 26.5625 8.203125 \nQ 27.296875 11.578125 28.078125 14.84375 \nQ 28.421875 16.21875 28.765625 17.71875 \nQ 29.109375 19.234375 29.46875 20.703125 \nQ 29.828125 22.171875 30.1875 23.515625 \nQ 30.5625 24.859375 30.859375 25.984375 \nL 42.828125 68.796875 \nL 51.765625 68.796875 \nL 63.71875 25.984375 \nQ 64.015625 24.859375 64.375 23.515625 \nQ 64.75 22.171875 65.109375 20.71875 \nQ 65.484375 19.28125 65.8125 17.765625 \nQ 66.15625 16.265625 66.5 14.890625 \nQ 67.28125 11.625 68.015625 8.203125 \nQ 68.0625 8.203125 68.453125 9.890625 \nQ 68.84375 11.578125 69.421875 14.109375 \nQ 70.015625 16.65625 70.71875 19.609375 \nQ 71.4375 22.5625 72.171875 25.09375 \nL 84.328125 68.796875 \nL 94.046875 68.796875 \nz\n\" id=\"LiberationSans-87\"/>\n      <path d=\"M 51.421875 26.46875 \nQ 51.421875 12.59375 45.3125 5.796875 \nQ 39.203125 -0.984375 27.59375 -0.984375 \nQ 22.078125 -0.984375 17.71875 0.671875 \nQ 13.375 2.34375 10.375 5.765625 \nQ 7.375 9.1875 5.78125 14.328125 \nQ 4.203125 19.484375 4.203125 26.46875 \nQ 4.203125 53.8125 27.875 53.8125 \nQ 34.03125 53.8125 38.5 52.09375 \nQ 42.96875 50.390625 45.828125 46.96875 \nQ 48.6875 43.5625 50.046875 38.421875 \nQ 51.421875 33.296875 51.421875 26.46875 \nz\nM 42.1875 26.46875 \nQ 42.1875 32.625 41.234375 36.625 \nQ 40.28125 40.625 38.453125 43.015625 \nQ 36.625 45.40625 33.984375 46.359375 \nQ 31.34375 47.3125 28.03125 47.3125 \nQ 24.65625 47.3125 21.9375 46.3125 \nQ 19.234375 45.3125 17.328125 42.890625 \nQ 15.4375 40.484375 14.421875 36.46875 \nQ 13.421875 32.46875 13.421875 26.46875 \nQ 13.421875 20.3125 14.5 16.28125 \nQ 15.578125 12.25 17.453125 9.859375 \nQ 19.34375 7.46875 21.90625 6.484375 \nQ 24.46875 5.515625 27.484375 5.515625 \nQ 30.859375 5.515625 33.59375 6.46875 \nQ 36.328125 7.421875 38.234375 9.8125 \nQ 40.140625 12.203125 41.15625 16.25 \nQ 42.1875 20.3125 42.1875 26.46875 \nz\n\" id=\"LiberationSans-111\"/>\n      <path d=\"M 6.9375 0 \nL 6.9375 40.53125 \nQ 6.9375 42.1875 6.90625 43.921875 \nQ 6.890625 45.65625 6.828125 47.265625 \nQ 6.78125 48.875 6.734375 50.28125 \nQ 6.6875 51.703125 6.640625 52.828125 \nL 14.9375 52.828125 \nQ 14.984375 51.703125 15.0625 50.265625 \nQ 15.140625 48.828125 15.203125 47.3125 \nQ 15.28125 45.796875 15.296875 44.40625 \nQ 15.328125 43.015625 15.328125 42.046875 \nL 15.53125 42.046875 \nQ 16.453125 45.0625 17.5 47.28125 \nQ 18.5625 49.515625 19.96875 50.953125 \nQ 21.390625 52.390625 23.34375 53.09375 \nQ 25.296875 53.8125 28.078125 53.8125 \nQ 29.15625 53.8125 30.125 53.640625 \nQ 31.109375 53.46875 31.640625 53.328125 \nL 31.640625 45.265625 \nQ 30.765625 45.515625 29.59375 45.625 \nQ 28.421875 45.75 26.953125 45.75 \nQ 23.921875 45.75 21.796875 44.375 \nQ 19.671875 43.015625 18.328125 40.59375 \nQ 17 38.1875 16.359375 34.84375 \nQ 15.71875 31.5 15.71875 27.546875 \nL 15.71875 0 \nz\n\" id=\"LiberationSans-114\"/>\n      <path d=\"M 40.09375 8.5 \nQ 37.640625 3.421875 33.609375 1.21875 \nQ 29.59375 -0.984375 23.640625 -0.984375 \nQ 13.625 -0.984375 8.90625 5.75 \nQ 4.203125 12.5 4.203125 26.171875 \nQ 4.203125 53.8125 23.640625 53.8125 \nQ 29.640625 53.8125 33.640625 51.609375 \nQ 37.640625 49.421875 40.09375 44.625 \nL 40.1875 44.625 \nQ 40.1875 45.125 40.15625 46.171875 \nQ 40.140625 47.21875 40.109375 48.359375 \nQ 40.09375 49.515625 40.09375 50.53125 \nQ 40.09375 51.5625 40.09375 52 \nL 40.09375 72.46875 \nL 48.875 72.46875 \nL 48.875 10.890625 \nQ 48.875 8.984375 48.890625 7.21875 \nQ 48.921875 5.46875 48.96875 4 \nQ 49.03125 2.546875 49.078125 1.484375 \nQ 49.125 0.4375 49.171875 0 \nL 40.765625 0 \nQ 40.671875 0.484375 40.59375 1.390625 \nQ 40.53125 2.296875 40.453125 3.46875 \nQ 40.375 4.640625 40.328125 5.9375 \nQ 40.28125 7.234375 40.28125 8.5 \nz\nM 13.421875 26.46875 \nQ 13.421875 21 14.109375 17.09375 \nQ 14.796875 13.1875 16.3125 10.671875 \nQ 17.828125 8.15625 20.171875 6.984375 \nQ 22.515625 5.8125 25.875 5.8125 \nQ 29.34375 5.8125 32 6.9375 \nQ 34.671875 8.0625 36.453125 10.578125 \nQ 38.234375 13.09375 39.15625 17.140625 \nQ 40.09375 21.1875 40.09375 27.046875 \nQ 40.09375 32.671875 39.15625 36.546875 \nQ 38.234375 40.4375 36.421875 42.828125 \nQ 34.625 45.21875 32 46.265625 \nQ 29.390625 47.3125 25.984375 47.3125 \nQ 22.75 47.3125 20.40625 46.1875 \nQ 18.0625 45.0625 16.5 42.578125 \nQ 14.9375 40.09375 14.171875 36.109375 \nQ 13.421875 32.125 13.421875 26.46875 \nz\n\" id=\"LiberationSans-100\"/>\n      <path id=\"LiberationSans-32\"/>\n      <path d=\"M 13.421875 26.65625 \nQ 13.421875 22.125 14.078125 18.3125 \nQ 14.75 14.5 16.3125 11.734375 \nQ 17.875 8.984375 20.4375 7.46875 \nQ 23 5.953125 26.765625 5.953125 \nQ 31.453125 5.953125 34.59375 8.484375 \nQ 37.75 11.03125 38.484375 16.3125 \nL 47.359375 15.71875 \nQ 46.921875 12.453125 45.453125 9.421875 \nQ 44 6.390625 41.484375 4.09375 \nQ 38.96875 1.8125 35.34375 0.40625 \nQ 31.734375 -0.984375 27 -0.984375 \nQ 20.796875 -0.984375 16.453125 1.109375 \nQ 12.109375 3.21875 9.390625 6.90625 \nQ 6.6875 10.59375 5.46875 15.59375 \nQ 4.25 20.609375 4.25 26.46875 \nQ 4.25 31.78125 5.125 35.859375 \nQ 6 39.9375 7.59375 42.984375 \nQ 9.1875 46.046875 11.328125 48.125 \nQ 13.484375 50.203125 15.984375 51.4375 \nQ 18.5 52.6875 21.28125 53.25 \nQ 24.078125 53.8125 26.90625 53.8125 \nQ 31.34375 53.8125 34.8125 52.59375 \nQ 38.28125 51.375 40.796875 49.25 \nQ 43.3125 47.125 44.875 44.234375 \nQ 46.4375 41.359375 47.078125 38.03125 \nL 38.03125 37.359375 \nQ 37.359375 41.75 34.5625 44.328125 \nQ 31.78125 46.921875 26.65625 46.921875 \nQ 22.90625 46.921875 20.390625 45.671875 \nQ 17.875 44.4375 16.3125 41.921875 \nQ 14.75 39.40625 14.078125 35.59375 \nQ 13.421875 31.78125 13.421875 26.65625 \nz\n\" id=\"LiberationSans-99\"/>\n      <path d=\"M 15.328125 52.828125 \nL 15.328125 19.34375 \nQ 15.328125 15.484375 15.890625 12.890625 \nQ 16.453125 10.296875 17.71875 8.703125 \nQ 19 7.125 21.0625 6.46875 \nQ 23.140625 5.8125 26.21875 5.8125 \nQ 29.34375 5.8125 31.859375 6.90625 \nQ 34.375 8.015625 36.15625 10.078125 \nQ 37.9375 12.15625 38.90625 15.203125 \nQ 39.890625 18.265625 39.890625 22.21875 \nL 39.890625 52.828125 \nL 48.6875 52.828125 \nL 48.6875 11.28125 \nQ 48.6875 9.625 48.703125 7.78125 \nQ 48.734375 5.953125 48.78125 4.3125 \nQ 48.828125 2.6875 48.875 1.515625 \nQ 48.921875 0.34375 48.96875 0 \nL 40.671875 0 \nQ 40.625 0.25 40.578125 1.3125 \nQ 40.53125 2.390625 40.453125 3.78125 \nQ 40.375 5.171875 40.328125 6.609375 \nQ 40.28125 8.0625 40.28125 9.03125 \nL 40.140625 9.03125 \nQ 38.875 6.734375 37.359375 4.875 \nQ 35.84375 3.03125 33.84375 1.734375 \nQ 31.84375 0.4375 29.25 -0.265625 \nQ 26.65625 -0.984375 23.25 -0.984375 \nQ 18.84375 -0.984375 15.671875 0.09375 \nQ 12.5 1.171875 10.453125 3.421875 \nQ 8.40625 5.671875 7.453125 9.1875 \nQ 6.5 12.703125 6.5 17.625 \nL 6.5 52.828125 \nz\n\" id=\"LiberationSans-117\"/>\n      <path d=\"M 40.28125 0 \nL 40.28125 33.5 \nQ 40.28125 37.359375 39.71875 39.9375 \nQ 39.15625 42.53125 37.890625 44.109375 \nQ 36.625 45.703125 34.546875 46.359375 \nQ 32.46875 47.015625 29.390625 47.015625 \nQ 26.265625 47.015625 23.75 45.921875 \nQ 21.234375 44.828125 19.453125 42.75 \nQ 17.671875 40.671875 16.6875 37.625 \nQ 15.71875 34.578125 15.71875 30.609375 \nL 15.71875 0 \nL 6.9375 0 \nL 6.9375 41.546875 \nQ 6.9375 43.21875 6.90625 45.046875 \nQ 6.890625 46.875 6.828125 48.5 \nQ 6.78125 50.140625 6.734375 51.3125 \nQ 6.6875 52.484375 6.640625 52.828125 \nL 14.9375 52.828125 \nQ 14.984375 52.59375 15.03125 51.515625 \nQ 15.09375 50.4375 15.15625 49.046875 \nQ 15.234375 47.65625 15.28125 46.21875 \nQ 15.328125 44.78125 15.328125 43.796875 \nL 15.484375 43.796875 \nQ 16.75 46.09375 18.265625 47.953125 \nQ 19.78125 49.8125 21.78125 51.09375 \nQ 23.78125 52.390625 26.359375 53.09375 \nQ 28.953125 53.8125 32.375 53.8125 \nQ 36.765625 53.8125 39.9375 52.734375 \nQ 43.109375 51.65625 45.15625 49.40625 \nQ 47.21875 47.171875 48.171875 43.625 \nQ 49.125 40.09375 49.125 35.203125 \nL 49.125 0 \nz\n\" id=\"LiberationSans-110\"/>\n      <path d=\"M 27.046875 0.390625 \nQ 25.046875 -0.140625 22.96875 -0.453125 \nQ 20.90625 -0.78125 18.171875 -0.78125 \nQ 7.625 -0.78125 7.625 11.1875 \nL 7.625 46.4375 \nL 1.515625 46.4375 \nL 1.515625 52.828125 \nL 7.953125 52.828125 \nL 10.546875 64.65625 \nL 16.40625 64.65625 \nL 16.40625 52.828125 \nL 26.171875 52.828125 \nL 26.171875 46.4375 \nL 16.40625 46.4375 \nL 16.40625 13.09375 \nQ 16.40625 9.28125 17.640625 7.734375 \nQ 18.890625 6.203125 21.96875 6.203125 \nQ 23.25 6.203125 24.4375 6.390625 \nQ 25.640625 6.59375 27.046875 6.890625 \nz\n\" id=\"LiberationSans-116\"/>\n      <path d=\"M 46.390625 14.59375 \nQ 46.390625 10.890625 44.9375 7.984375 \nQ 43.5 5.078125 40.765625 3.09375 \nQ 38.03125 1.125 34.046875 0.0625 \nQ 30.078125 -0.984375 24.953125 -0.984375 \nQ 20.359375 -0.984375 16.671875 -0.265625 \nQ 12.984375 0.4375 10.203125 2 \nQ 7.421875 3.5625 5.53125 6.125 \nQ 3.65625 8.6875 2.78125 12.40625 \nL 10.546875 13.921875 \nQ 11.671875 9.671875 15.1875 7.6875 \nQ 18.703125 5.71875 24.953125 5.71875 \nQ 27.78125 5.71875 30.140625 6.109375 \nQ 32.515625 6.5 34.21875 7.453125 \nQ 35.9375 8.40625 36.890625 9.984375 \nQ 37.84375 11.578125 37.84375 13.921875 \nQ 37.84375 16.3125 36.71875 17.84375 \nQ 35.59375 19.390625 33.59375 20.40625 \nQ 31.59375 21.4375 28.734375 22.1875 \nQ 25.875 22.953125 22.46875 23.875 \nQ 19.28125 24.703125 16.15625 25.734375 \nQ 13.03125 26.765625 10.515625 28.4375 \nQ 8.015625 30.125 6.453125 32.609375 \nQ 4.890625 35.109375 4.890625 38.875 \nQ 4.890625 46.09375 10.03125 49.875 \nQ 15.1875 53.65625 25.046875 53.65625 \nQ 33.796875 53.65625 38.9375 50.578125 \nQ 44.09375 47.515625 45.453125 40.71875 \nL 37.546875 39.75 \nQ 37.109375 41.796875 35.9375 43.1875 \nQ 34.765625 44.578125 33.109375 45.4375 \nQ 31.453125 46.296875 29.375 46.65625 \nQ 27.296875 47.015625 25.046875 47.015625 \nQ 19.09375 47.015625 16.25 45.203125 \nQ 13.421875 43.40625 13.421875 39.75 \nQ 13.421875 37.59375 14.46875 36.203125 \nQ 15.53125 34.8125 17.40625 33.859375 \nQ 19.28125 32.90625 21.921875 32.203125 \nQ 24.5625 31.5 27.734375 30.71875 \nQ 29.828125 30.171875 32.03125 29.5625 \nQ 34.234375 28.953125 36.296875 28.09375 \nQ 38.375 27.25 40.203125 26.09375 \nQ 42.046875 24.953125 43.40625 23.34375 \nQ 44.78125 21.734375 45.578125 19.578125 \nQ 46.390625 17.4375 46.390625 14.59375 \nz\n\" id=\"LiberationSans-115\"/>\n     </defs>\n     <g style=\"fill:#262626;\" transform=\"translate(166.224922 252.933437)scale(0.11 -0.11)\">\n      <use xlink:href=\"#LiberationSans-87\"/>\n      <use x=\"92.634766\" xlink:href=\"#LiberationSans-111\"/>\n      <use x=\"148.25\" xlink:href=\"#LiberationSans-114\"/>\n      <use x=\"181.550781\" xlink:href=\"#LiberationSans-100\"/>\n      <use x=\"237.166016\" xlink:href=\"#LiberationSans-32\"/>\n      <use x=\"264.949219\" xlink:href=\"#LiberationSans-99\"/>\n      <use x=\"314.949219\" xlink:href=\"#LiberationSans-111\"/>\n      <use x=\"370.564453\" xlink:href=\"#LiberationSans-117\"/>\n      <use x=\"426.179688\" xlink:href=\"#LiberationSans-110\"/>\n      <use x=\"481.794922\" xlink:href=\"#LiberationSans-116\"/>\n      <use x=\"509.578125\" xlink:href=\"#LiberationSans-115\"/>\n     </g>\n    </g>\n   </g>\n   <g id=\"matplotlib.axis_2\">\n    <g id=\"ytick_1\">\n     <g id=\"line2d_13\">\n      <path clip-path=\"url(#p2c87b5349b)\" d=\"M 29.6 214.756364 \nL 364.4 214.756364 \n\" style=\"fill:none;stroke:#ffffff;stroke-linecap:round;\"/>\n     </g>\n     <g id=\"line2d_14\"/>\n     <g id=\"text_8\">\n      <!-- $\\mathdefault{10^{0}}$ -->\n      <g style=\"fill:#262626;\" transform=\"translate(7.2 218.379801)scale(0.1 -0.1)\">\n       <use transform=\"translate(0 0.140625)\" xlink:href=\"#LiberationSans-49\"/>\n       <use transform=\"translate(55.615234 0.140625)\" xlink:href=\"#LiberationSans-48\"/>\n       <use transform=\"translate(112.154961 37.120312)scale(0.7)\" xlink:href=\"#LiberationSans-48\"/>\n      </g>\n     </g>\n    </g>\n    <g id=\"ytick_2\">\n     <g id=\"line2d_15\">\n      <path clip-path=\"url(#p2c87b5349b)\" d=\"M 29.6 174.32055 \nL 364.4 174.32055 \n\" style=\"fill:none;stroke:#ffffff;stroke-linecap:round;\"/>\n     </g>\n     <g id=\"line2d_16\"/>\n     <g id=\"text_9\">\n      <!-- $\\mathdefault{10^{1}}$ -->\n      <g style=\"fill:#262626;\" transform=\"translate(7.2 177.943988)scale(0.1 -0.1)\">\n       <use transform=\"translate(0 0.8625)\" xlink:href=\"#LiberationSans-49\"/>\n       <use transform=\"translate(55.615234 0.8625)\" xlink:href=\"#LiberationSans-48\"/>\n       <use transform=\"translate(112.154961 37.842188)scale(0.7)\" xlink:href=\"#LiberationSans-49\"/>\n      </g>\n     </g>\n    </g>\n    <g id=\"ytick_3\">\n     <g id=\"line2d_17\">\n      <path clip-path=\"url(#p2c87b5349b)\" d=\"M 29.6 133.884737 \nL 364.4 133.884737 \n\" style=\"fill:none;stroke:#ffffff;stroke-linecap:round;\"/>\n     </g>\n     <g id=\"line2d_18\"/>\n     <g id=\"text_10\">\n      <!-- $\\mathdefault{10^{2}}$ -->\n      <g style=\"fill:#262626;\" transform=\"translate(7.2 137.508175)scale(0.1 -0.1)\">\n       <use transform=\"translate(0 0.140625)\" xlink:href=\"#LiberationSans-49\"/>\n       <use transform=\"translate(55.615234 0.140625)\" xlink:href=\"#LiberationSans-48\"/>\n       <use transform=\"translate(112.154961 37.120312)scale(0.7)\" xlink:href=\"#LiberationSans-50\"/>\n      </g>\n     </g>\n    </g>\n    <g id=\"ytick_4\">\n     <g id=\"line2d_19\">\n      <path clip-path=\"url(#p2c87b5349b)\" d=\"M 29.6 93.448924 \nL 364.4 93.448924 \n\" style=\"fill:none;stroke:#ffffff;stroke-linecap:round;\"/>\n     </g>\n     <g id=\"line2d_20\"/>\n     <g id=\"text_11\">\n      <!-- $\\mathdefault{10^{3}}$ -->\n      <defs>\n       <path d=\"M 51.21875 19 \nQ 51.21875 14.265625 49.671875 10.546875 \nQ 48.140625 6.84375 45.1875 4.265625 \nQ 42.234375 1.703125 37.859375 0.359375 \nQ 33.5 -0.984375 27.875 -0.984375 \nQ 21.484375 -0.984375 17.109375 0.609375 \nQ 12.75 2.203125 9.90625 4.8125 \nQ 7.078125 7.421875 5.65625 10.765625 \nQ 4.25 14.109375 3.8125 17.671875 \nL 12.890625 18.5 \nQ 13.28125 15.765625 14.328125 13.515625 \nQ 15.375 11.28125 17.1875 9.671875 \nQ 19 8.0625 21.625 7.171875 \nQ 24.265625 6.296875 27.875 6.296875 \nQ 34.515625 6.296875 38.296875 9.5625 \nQ 42.09375 12.84375 42.09375 19.28125 \nQ 42.09375 23.09375 40.40625 25.40625 \nQ 38.71875 27.734375 36.203125 29.03125 \nQ 33.6875 30.328125 30.734375 30.765625 \nQ 27.78125 31.203125 25.296875 31.203125 \nL 20.3125 31.203125 \nL 20.3125 38.8125 \nL 25.09375 38.8125 \nQ 27.59375 38.8125 30.265625 39.328125 \nQ 32.953125 39.84375 35.171875 41.1875 \nQ 37.40625 42.53125 38.84375 44.828125 \nQ 40.28125 47.125 40.28125 50.6875 \nQ 40.28125 56.203125 37.03125 59.390625 \nQ 33.796875 62.59375 27.390625 62.59375 \nQ 21.578125 62.59375 17.984375 59.609375 \nQ 14.40625 56.640625 13.8125 51.21875 \nL 4.984375 51.90625 \nQ 5.515625 56.453125 7.46875 59.8125 \nQ 9.421875 63.1875 12.421875 65.40625 \nQ 15.4375 67.625 19.28125 68.71875 \nQ 23.140625 69.828125 27.484375 69.828125 \nQ 33.25 69.828125 37.390625 68.375 \nQ 41.546875 66.9375 44.1875 64.46875 \nQ 46.828125 62.015625 48.0625 58.6875 \nQ 49.3125 55.375 49.3125 51.609375 \nQ 49.3125 48.578125 48.484375 45.9375 \nQ 47.65625 43.3125 45.890625 41.203125 \nQ 44.140625 39.109375 41.421875 37.59375 \nQ 38.71875 36.078125 34.90625 35.296875 \nL 34.90625 35.109375 \nQ 39.0625 34.671875 42.140625 33.21875 \nQ 45.21875 31.78125 47.21875 29.625 \nQ 49.21875 27.484375 50.21875 24.75 \nQ 51.21875 22.015625 51.21875 19 \nz\n\" id=\"LiberationSans-51\"/>\n      </defs>\n      <g style=\"fill:#262626;\" transform=\"translate(7.2 97.072362)scale(0.1 -0.1)\">\n       <use transform=\"translate(0 0.140625)\" xlink:href=\"#LiberationSans-49\"/>\n       <use transform=\"translate(55.615234 0.140625)\" xlink:href=\"#LiberationSans-48\"/>\n       <use transform=\"translate(112.154961 37.120312)scale(0.7)\" xlink:href=\"#LiberationSans-51\"/>\n      </g>\n     </g>\n    </g>\n    <g id=\"ytick_5\">\n     <g id=\"line2d_21\">\n      <path clip-path=\"url(#p2c87b5349b)\" d=\"M 29.6 53.013111 \nL 364.4 53.013111 \n\" style=\"fill:none;stroke:#ffffff;stroke-linecap:round;\"/>\n     </g>\n     <g id=\"line2d_22\"/>\n     <g id=\"text_12\">\n      <!-- $\\mathdefault{10^{4}}$ -->\n      <g style=\"fill:#262626;\" transform=\"translate(7.2 56.636548)scale(0.1 -0.1)\">\n       <use transform=\"translate(0 0.8625)\" xlink:href=\"#LiberationSans-49\"/>\n       <use transform=\"translate(55.615234 0.8625)\" xlink:href=\"#LiberationSans-48\"/>\n       <use transform=\"translate(112.154961 37.842188)scale(0.7)\" xlink:href=\"#LiberationSans-52\"/>\n      </g>\n     </g>\n    </g>\n    <g id=\"ytick_6\">\n     <g id=\"line2d_23\">\n      <path clip-path=\"url(#p2c87b5349b)\" d=\"M 29.6 12.577298 \nL 364.4 12.577298 \n\" style=\"fill:none;stroke:#ffffff;stroke-linecap:round;\"/>\n     </g>\n     <g id=\"line2d_24\"/>\n     <g id=\"text_13\">\n      <!-- $\\mathdefault{10^{5}}$ -->\n      <defs>\n       <path d=\"M 51.421875 22.40625 \nQ 51.421875 17.234375 49.859375 12.9375 \nQ 48.296875 8.640625 45.21875 5.53125 \nQ 42.140625 2.4375 37.578125 0.71875 \nQ 33.015625 -0.984375 27 -0.984375 \nQ 21.578125 -0.984375 17.546875 0.28125 \nQ 13.53125 1.5625 10.734375 3.78125 \nQ 7.953125 6 6.3125 8.984375 \nQ 4.6875 11.96875 4 15.375 \nL 12.890625 16.40625 \nQ 13.421875 14.453125 14.390625 12.625 \nQ 15.375 10.796875 17.0625 9.34375 \nQ 18.75 7.90625 21.21875 7.046875 \nQ 23.6875 6.203125 27.203125 6.203125 \nQ 30.609375 6.203125 33.390625 7.25 \nQ 36.1875 8.296875 38.15625 10.34375 \nQ 40.140625 12.40625 41.203125 15.375 \nQ 42.28125 18.359375 42.28125 22.21875 \nQ 42.28125 25.390625 41.25 28.046875 \nQ 40.234375 30.71875 38.328125 32.640625 \nQ 36.421875 34.578125 33.65625 35.640625 \nQ 30.90625 36.71875 27.390625 36.71875 \nQ 25.203125 36.71875 23.34375 36.328125 \nQ 21.484375 35.9375 19.890625 35.25 \nQ 18.3125 34.578125 17.015625 33.671875 \nQ 15.71875 32.765625 14.59375 31.78125 \nL 6 31.78125 \nL 8.296875 68.796875 \nL 47.40625 68.796875 \nL 47.40625 61.328125 \nL 16.3125 61.328125 \nL 14.984375 39.5 \nQ 17.328125 41.3125 20.84375 42.59375 \nQ 24.359375 43.890625 29.203125 43.890625 \nQ 34.328125 43.890625 38.421875 42.328125 \nQ 42.53125 40.765625 45.40625 37.90625 \nQ 48.296875 35.0625 49.859375 31.109375 \nQ 51.421875 27.15625 51.421875 22.40625 \nz\n\" id=\"LiberationSans-53\"/>\n      </defs>\n      <g style=\"fill:#262626;\" transform=\"translate(7.2 16.200735)scale(0.1 -0.1)\">\n       <use transform=\"translate(0 0.8625)\" xlink:href=\"#LiberationSans-49\"/>\n       <use transform=\"translate(55.615234 0.8625)\" xlink:href=\"#LiberationSans-48\"/>\n       <use transform=\"translate(112.154961 37.842188)scale(0.7)\" xlink:href=\"#LiberationSans-53\"/>\n      </g>\n     </g>\n    </g>\n    <g id=\"ytick_7\">\n     <g id=\"line2d_25\"/>\n    </g>\n    <g id=\"ytick_8\">\n     <g id=\"line2d_26\"/>\n    </g>\n    <g id=\"ytick_9\">\n     <g id=\"line2d_27\"/>\n    </g>\n    <g id=\"ytick_10\">\n     <g id=\"line2d_28\"/>\n    </g>\n    <g id=\"ytick_11\">\n     <g id=\"line2d_29\"/>\n    </g>\n    <g id=\"ytick_12\">\n     <g id=\"line2d_30\"/>\n    </g>\n    <g id=\"ytick_13\">\n     <g id=\"line2d_31\"/>\n    </g>\n    <g id=\"ytick_14\">\n     <g id=\"line2d_32\"/>\n    </g>\n    <g id=\"ytick_15\">\n     <g id=\"line2d_33\"/>\n    </g>\n    <g id=\"ytick_16\">\n     <g id=\"line2d_34\"/>\n    </g>\n    <g id=\"ytick_17\">\n     <g id=\"line2d_35\"/>\n    </g>\n    <g id=\"ytick_18\">\n     <g id=\"line2d_36\"/>\n    </g>\n    <g id=\"ytick_19\">\n     <g id=\"line2d_37\"/>\n    </g>\n    <g id=\"ytick_20\">\n     <g id=\"line2d_38\"/>\n    </g>\n    <g id=\"ytick_21\">\n     <g id=\"line2d_39\"/>\n    </g>\n    <g id=\"ytick_22\">\n     <g id=\"line2d_40\"/>\n    </g>\n    <g id=\"ytick_23\">\n     <g id=\"line2d_41\"/>\n    </g>\n    <g id=\"ytick_24\">\n     <g id=\"line2d_42\"/>\n    </g>\n    <g id=\"ytick_25\">\n     <g id=\"line2d_43\"/>\n    </g>\n    <g id=\"ytick_26\">\n     <g id=\"line2d_44\"/>\n    </g>\n    <g id=\"ytick_27\">\n     <g id=\"line2d_45\"/>\n    </g>\n    <g id=\"ytick_28\">\n     <g id=\"line2d_46\"/>\n    </g>\n    <g id=\"ytick_29\">\n     <g id=\"line2d_47\"/>\n    </g>\n    <g id=\"ytick_30\">\n     <g id=\"line2d_48\"/>\n    </g>\n    <g id=\"ytick_31\">\n     <g id=\"line2d_49\"/>\n    </g>\n    <g id=\"ytick_32\">\n     <g id=\"line2d_50\"/>\n    </g>\n    <g id=\"ytick_33\">\n     <g id=\"line2d_51\"/>\n    </g>\n    <g id=\"ytick_34\">\n     <g id=\"line2d_52\"/>\n    </g>\n    <g id=\"ytick_35\">\n     <g id=\"line2d_53\"/>\n    </g>\n    <g id=\"ytick_36\">\n     <g id=\"line2d_54\"/>\n    </g>\n    <g id=\"ytick_37\">\n     <g id=\"line2d_55\"/>\n    </g>\n    <g id=\"ytick_38\">\n     <g id=\"line2d_56\"/>\n    </g>\n    <g id=\"ytick_39\">\n     <g id=\"line2d_57\"/>\n    </g>\n    <g id=\"ytick_40\">\n     <g id=\"line2d_58\"/>\n    </g>\n    <g id=\"ytick_41\">\n     <g id=\"line2d_59\"/>\n    </g>\n    <g id=\"ytick_42\">\n     <g id=\"line2d_60\"/>\n    </g>\n    <g id=\"ytick_43\">\n     <g id=\"line2d_61\"/>\n    </g>\n    <g id=\"ytick_44\">\n     <g id=\"line2d_62\"/>\n    </g>\n    <g id=\"ytick_45\">\n     <g id=\"line2d_63\"/>\n    </g>\n    <g id=\"ytick_46\">\n     <g id=\"line2d_64\"/>\n    </g>\n    <g id=\"ytick_47\">\n     <g id=\"line2d_65\"/>\n    </g>\n    <g id=\"ytick_48\">\n     <g id=\"line2d_66\"/>\n    </g>\n    <g id=\"ytick_49\">\n     <g id=\"line2d_67\"/>\n    </g>\n    <g id=\"ytick_50\">\n     <g id=\"line2d_68\"/>\n    </g>\n   </g>\n   <g id=\"patch_3\">\n    <path clip-path=\"url(#p2c87b5349b)\" d=\"M 44.818182 40650.569537 \nL 50.905455 40650.569537 \nL 50.905455 17.083636 \nL 44.818182 17.083636 \nz\n\" style=\"fill:#4c72b0;\"/>\n   </g>\n   <g id=\"patch_4\">\n    <path clip-path=\"url(#p2c87b5349b)\" d=\"M 50.905455 40650.569537 \nL 56.992727 40650.569537 \nL 56.992727 88.062087 \nL 50.905455 88.062087 \nz\n\" style=\"fill:#4c72b0;\"/>\n   </g>\n   <g id=\"patch_5\">\n    <path clip-path=\"url(#p2c87b5349b)\" d=\"M 56.992727 40650.569537 \nL 63.08 40650.569537 \nL 63.08 104.075753 \nL 56.992727 104.075753 \nz\n\" style=\"fill:#4c72b0;\"/>\n   </g>\n   <g id=\"patch_6\">\n    <path clip-path=\"url(#p2c87b5349b)\" d=\"M 63.08 40650.569537 \nL 69.167273 40650.569537 \nL 69.167273 115.740932 \nL 63.08 115.740932 \nz\n\" style=\"fill:#4c72b0;\"/>\n   </g>\n   <g id=\"patch_7\">\n    <path clip-path=\"url(#p2c87b5349b)\" d=\"M 69.167273 40650.569537 \nL 75.254545 40650.569537 \nL 75.254545 119.722174 \nL 69.167273 119.722174 \nz\n\" style=\"fill:#4c72b0;\"/>\n   </g>\n   <g id=\"patch_8\">\n    <path clip-path=\"url(#p2c87b5349b)\" d=\"M 75.254545 40650.569537 \nL 81.341818 40650.569537 \nL 81.341818 128.484983 \nL 75.254545 128.484983 \nz\n\" style=\"fill:#4c72b0;\"/>\n   </g>\n   <g id=\"patch_9\">\n    <path clip-path=\"url(#p2c87b5349b)\" d=\"M 81.341818 40650.569537 \nL 87.429091 40650.569537 \nL 87.429091 135.734979 \nL 81.341818 135.734979 \nz\n\" style=\"fill:#4c72b0;\"/>\n   </g>\n   <g id=\"patch_10\">\n    <path clip-path=\"url(#p2c87b5349b)\" d=\"M 87.429091 40650.569537 \nL 93.516364 40650.569537 \nL 93.516364 136.533346 \nL 87.429091 136.533346 \nz\n\" style=\"fill:#4c72b0;\"/>\n   </g>\n   <g id=\"patch_11\">\n    <path clip-path=\"url(#p2c87b5349b)\" d=\"M 93.516364 40650.569537 \nL 99.603636 40650.569537 \nL 99.603636 145.033867 \nL 93.516364 145.033867 \nz\n\" style=\"fill:#4c72b0;\"/>\n   </g>\n   <g id=\"patch_12\">\n    <path clip-path=\"url(#p2c87b5349b)\" d=\"M 99.603636 40650.569537 \nL 105.690909 40650.569537 \nL 105.690909 146.05713 \nL 99.603636 146.05713 \nz\n\" style=\"fill:#4c72b0;\"/>\n   </g>\n   <g id=\"patch_13\">\n    <path clip-path=\"url(#p2c87b5349b)\" d=\"M 105.690909 40650.569537 \nL 111.778182 40650.569537 \nL 111.778182 151.344852 \nL 105.690909 151.344852 \nz\n\" style=\"fill:#4c72b0;\"/>\n   </g>\n   <g id=\"patch_14\">\n    <path clip-path=\"url(#p2c87b5349b)\" d=\"M 111.778182 40650.569537 \nL 117.865455 40650.569537 \nL 117.865455 151.344852 \nL 111.778182 151.344852 \nz\n\" style=\"fill:#4c72b0;\"/>\n   </g>\n   <g id=\"patch_15\">\n    <path clip-path=\"url(#p2c87b5349b)\" d=\"M 117.865455 40650.569537 \nL 123.952727 40650.569537 \nL 123.952727 152.320717 \nL 117.865455 152.320717 \nz\n\" style=\"fill:#4c72b0;\"/>\n   </g>\n   <g id=\"patch_16\">\n    <path clip-path=\"url(#p2c87b5349b)\" d=\"M 123.952727 40650.569537 \nL 130.04 40650.569537 \nL 130.04 158.9464 \nL 123.952727 158.9464 \nz\n\" style=\"fill:#4c72b0;\"/>\n   </g>\n   <g id=\"patch_17\">\n    <path clip-path=\"url(#p2c87b5349b)\" d=\"M 130.04 40650.569537 \nL 136.127273 40650.569537 \nL 136.127273 156.878006 \nL 130.04 156.878006 \nz\n\" style=\"fill:#4c72b0;\"/>\n   </g>\n   <g id=\"patch_18\">\n    <path clip-path=\"url(#p2c87b5349b)\" d=\"M 136.127273 40650.569537 \nL 142.214545 40650.569537 \nL 142.214545 167.200157 \nL 136.127273 167.200157 \nz\n\" style=\"fill:#4c72b0;\"/>\n   </g>\n   <g id=\"patch_19\">\n    <path clip-path=\"url(#p2c87b5349b)\" d=\"M 142.214545 40650.569537 \nL 148.301818 40650.569537 \nL 148.301818 168.411745 \nL 142.214545 168.411745 \nz\n\" style=\"fill:#4c72b0;\"/>\n   </g>\n   <g id=\"patch_20\">\n    <path clip-path=\"url(#p2c87b5349b)\" d=\"M 148.301818 40650.569537 \nL 154.389091 40650.569537 \nL 154.389091 176.170792 \nL 148.301818 176.170792 \nz\n\" style=\"fill:#4c72b0;\"/>\n   </g>\n   <g id=\"patch_21\">\n    <path clip-path=\"url(#p2c87b5349b)\" d=\"M 154.389091 40650.569537 \nL 160.476364 40650.569537 \nL 160.476364 169.713158 \nL 154.389091 169.713158 \nz\n\" style=\"fill:#4c72b0;\"/>\n   </g>\n   <g id=\"patch_22\">\n    <path clip-path=\"url(#p2c87b5349b)\" d=\"M 160.476364 40650.569537 \nL 166.563636 40650.569537 \nL 166.563636 165.002161 \nL 160.476364 165.002161 \nz\n\" style=\"fill:#4c72b0;\"/>\n   </g>\n   <g id=\"patch_23\">\n    <path clip-path=\"url(#p2c87b5349b)\" d=\"M 166.563636 40650.569537 \nL 172.650909 40650.569537 \nL 172.650909 176.170792 \nL 166.563636 176.170792 \nz\n\" style=\"fill:#4c72b0;\"/>\n   </g>\n   <g id=\"patch_24\">\n    <path clip-path=\"url(#p2c87b5349b)\" d=\"M 172.650909 40650.569537 \nL 178.738182 40650.569537 \nL 178.738182 169.713158 \nL 172.650909 169.713158 \nz\n\" style=\"fill:#4c72b0;\"/>\n   </g>\n   <g id=\"patch_25\">\n    <path clip-path=\"url(#p2c87b5349b)\" d=\"M 178.738182 40650.569537 \nL 184.825455 40650.569537 \nL 184.825455 178.239186 \nL 178.738182 178.239186 \nz\n\" style=\"fill:#4c72b0;\"/>\n   </g>\n   <g id=\"patch_26\">\n    <path clip-path=\"url(#p2c87b5349b)\" d=\"M 184.825455 40650.569537 \nL 190.912727 40650.569537 \nL 190.912727 174.32055 \nL 184.825455 174.32055 \nz\n\" style=\"fill:#4c72b0;\"/>\n   </g>\n   <g id=\"patch_27\">\n    <path clip-path=\"url(#p2c87b5349b)\" d=\"M 190.912727 40650.569537 \nL 197 40650.569537 \nL 197 172.646804 \nL 190.912727 172.646804 \nz\n\" style=\"fill:#4c72b0;\"/>\n   </g>\n   <g id=\"patch_28\">\n    <path clip-path=\"url(#p2c87b5349b)\" d=\"M 197 40650.569537 \nL 203.087273 40650.569537 \nL 203.087273 183.291185 \nL 197 183.291185 \nz\n\" style=\"fill:#4c72b0;\"/>\n   </g>\n   <g id=\"patch_29\">\n    <path clip-path=\"url(#p2c87b5349b)\" d=\"M 203.087273 40650.569537 \nL 209.174545 40650.569537 \nL 209.174545 180.584137 \nL 203.087273 180.584137 \nz\n\" style=\"fill:#4c72b0;\"/>\n   </g>\n   <g id=\"patch_30\">\n    <path clip-path=\"url(#p2c87b5349b)\" d=\"M 209.174545 40650.569537 \nL 215.261818 40650.569537 \nL 215.261818 178.239186 \nL 209.174545 178.239186 \nz\n\" style=\"fill:#4c72b0;\"/>\n   </g>\n   <g id=\"patch_31\">\n    <path clip-path=\"url(#p2c87b5349b)\" d=\"M 215.261818 40650.569537 \nL 221.349091 40650.569537 \nL 221.349091 180.584137 \nL 215.261818 180.584137 \nz\n\" style=\"fill:#4c72b0;\"/>\n   </g>\n   <g id=\"patch_32\">\n    <path clip-path=\"url(#p2c87b5349b)\" d=\"M 221.349091 40650.569537 \nL 227.436364 40650.569537 \nL 227.436364 183.291185 \nL 221.349091 183.291185 \nz\n\" style=\"fill:#4c72b0;\"/>\n   </g>\n   <g id=\"patch_33\">\n    <path clip-path=\"url(#p2c87b5349b)\" d=\"M 227.436364 40650.569537 \nL 233.523636 40650.569537 \nL 233.523636 195.463578 \nL 227.436364 195.463578 \nz\n\" style=\"fill:#4c72b0;\"/>\n   </g>\n   <g id=\"patch_34\">\n    <path clip-path=\"url(#p2c87b5349b)\" d=\"M 233.523636 40650.569537 \nL 239.610909 40650.569537 \nL 239.610909 178.239186 \nL 233.523636 178.239186 \nz\n\" style=\"fill:#4c72b0;\"/>\n   </g>\n   <g id=\"patch_35\">\n    <path clip-path=\"url(#p2c87b5349b)\" d=\"M 239.610909 40650.569537 \nL 245.698182 40650.569537 \nL 245.698182 186.492943 \nL 239.610909 186.492943 \nz\n\" style=\"fill:#4c72b0;\"/>\n   </g>\n   <g id=\"patch_36\">\n    <path clip-path=\"url(#p2c87b5349b)\" d=\"M 245.698182 40650.569537 \nL 251.785455 40650.569537 \nL 251.785455 195.463578 \nL 245.698182 195.463578 \nz\n\" style=\"fill:#4c72b0;\"/>\n   </g>\n   <g id=\"patch_37\">\n    <path clip-path=\"url(#p2c87b5349b)\" d=\"M 251.785455 40650.569537 \nL 257.872727 40650.569537 \nL 257.872727 195.463578 \nL 251.785455 195.463578 \nz\n\" style=\"fill:#4c72b0;\"/>\n   </g>\n   <g id=\"patch_38\">\n    <path clip-path=\"url(#p2c87b5349b)\" d=\"M 257.872727 40650.569537 \nL 263.96 40650.569537 \nL 263.96 202.583971 \nL 257.872727 202.583971 \nz\n\" style=\"fill:#4c72b0;\"/>\n   </g>\n   <g id=\"patch_39\">\n    <path clip-path=\"url(#p2c87b5349b)\" d=\"M 263.96 40650.569537 \nL 270.047273 40650.569537 \nL 270.047273 202.583971 \nL 263.96 202.583971 \nz\n\" style=\"fill:#4c72b0;\"/>\n   </g>\n   <g id=\"patch_40\">\n    <path clip-path=\"url(#p2c87b5349b)\" d=\"M 270.047273 40650.569537 \nL 276.134545 40650.569537 \nL 276.134545 186.492943 \nL 270.047273 186.492943 \nz\n\" style=\"fill:#4c72b0;\"/>\n   </g>\n   <g id=\"patch_41\">\n    <path clip-path=\"url(#p2c87b5349b)\" d=\"M 276.134545 40650.569537 \nL 282.221818 40650.569537 \nL 282.221818 183.291185 \nL 276.134545 183.291185 \nz\n\" style=\"fill:#4c72b0;\"/>\n   </g>\n   <g id=\"patch_42\">\n    <path clip-path=\"url(#p2c87b5349b)\" d=\"M 282.221818 40650.569537 \nL 288.309091 40650.569537 \nL 288.309091 195.463578 \nL 282.221818 195.463578 \nz\n\" style=\"fill:#4c72b0;\"/>\n   </g>\n   <g id=\"patch_43\">\n    <path clip-path=\"url(#p2c87b5349b)\" d=\"M 288.309091 40650.569537 \nL 294.396364 40650.569537 \nL 294.396364 186.492943 \nL 288.309091 186.492943 \nz\n\" style=\"fill:#4c72b0;\"/>\n   </g>\n   <g id=\"patch_44\">\n    <path clip-path=\"url(#p2c87b5349b)\" d=\"M 294.396364 40650.569537 \nL 300.483636 40650.569537 \nL 300.483636 186.492943 \nL 294.396364 186.492943 \nz\n\" style=\"fill:#4c72b0;\"/>\n   </g>\n   <g id=\"patch_45\">\n    <path clip-path=\"url(#p2c87b5349b)\" d=\"M 300.483636 40650.569537 \nL 306.570909 40650.569537 \nL 306.570909 195.463578 \nL 300.483636 195.463578 \nz\n\" style=\"fill:#4c72b0;\"/>\n   </g>\n   <g id=\"patch_46\">\n    <path clip-path=\"url(#p2c87b5349b)\" d=\"M 306.570909 40650.569537 \nL 312.658182 40650.569537 \nL 312.658182 202.583971 \nL 306.570909 202.583971 \nz\n\" style=\"fill:#4c72b0;\"/>\n   </g>\n   <g id=\"patch_47\">\n    <path clip-path=\"url(#p2c87b5349b)\" d=\"M 312.658182 40650.569537 \nL 318.745455 40650.569537 \nL 318.745455 195.463578 \nL 312.658182 195.463578 \nz\n\" style=\"fill:#4c72b0;\"/>\n   </g>\n   <g id=\"patch_48\">\n    <path clip-path=\"url(#p2c87b5349b)\" d=\"M 318.745455 40650.569537 \nL 324.832727 40650.569537 \nL 324.832727 202.583971 \nL 318.745455 202.583971 \nz\n\" style=\"fill:#4c72b0;\"/>\n   </g>\n   <g id=\"patch_49\">\n    <path clip-path=\"url(#p2c87b5349b)\" d=\"M 324.832727 40650.569537 \nL 330.92 40650.569537 \nL 330.92 214.756364 \nL 324.832727 214.756364 \nz\n\" style=\"fill:#4c72b0;\"/>\n   </g>\n   <g id=\"patch_50\">\n    <path clip-path=\"url(#p2c87b5349b)\" d=\"M 330.92 40650.569537 \nL 337.007273 40650.569537 \nL 337.007273 190.411578 \nL 330.92 190.411578 \nz\n\" style=\"fill:#4c72b0;\"/>\n   </g>\n   <g id=\"patch_51\">\n    <path clip-path=\"url(#p2c87b5349b)\" d=\"M 337.007273 40650.569537 \nL 343.094545 40650.569537 \nL 343.094545 214.756364 \nL 337.007273 214.756364 \nz\n\" style=\"fill:#4c72b0;\"/>\n   </g>\n   <g id=\"patch_52\">\n    <path clip-path=\"url(#p2c87b5349b)\" d=\"M 343.094545 40650.569537 \nL 349.181818 40650.569537 \nL 349.181818 40650.569537 \nL 343.094545 40650.569537 \nz\n\" style=\"fill:#4c72b0;\"/>\n   </g>\n   <g id=\"patch_53\">\n    <path d=\"M 29.6 224.64 \nL 29.6 7.2 \n\" style=\"fill:none;\"/>\n   </g>\n   <g id=\"patch_54\">\n    <path d=\"M 364.4 224.64 \nL 364.4 7.2 \n\" style=\"fill:none;\"/>\n   </g>\n   <g id=\"patch_55\">\n    <path d=\"M 29.6 224.64 \nL 364.4 224.64 \n\" style=\"fill:none;\"/>\n   </g>\n   <g id=\"patch_56\">\n    <path d=\"M 29.6 7.2 \nL 364.4 7.2 \n\" style=\"fill:none;\"/>\n   </g>\n  </g>\n </g>\n <defs>\n  <clipPath id=\"p2c87b5349b\">\n   <rect height=\"217.44\" width=\"334.8\" x=\"29.6\" y=\"7.2\"/>\n  </clipPath>\n </defs>\n</svg>\n"
          },
          "metadata": {
            "needs_background": "light"
          }
        }
      ]
    },
    {
      "cell_type": "markdown",
      "source": [
        "Get a list of all tokens that occur at least 10 times."
      ],
      "metadata": {
        "id": "oLb2Wn0E9gG1"
      }
    },
    {
      "cell_type": "code",
      "source": [
        "min_count = 10\n",
        "\n",
        "# tokens from token_counts keys that had at least min_count occurrences throughout the dataset\n",
        "tokens = sorted(t for t, c in token_counts.items() if c >= min_count)\n",
        "\n",
        "# Add a special tokens for unknown and empty words\n",
        "UNK, PAD = \"UNK\", \"PAD\"\n",
        "tokens = [UNK, PAD] + tokens"
      ],
      "metadata": {
        "id": "CViOqzuf9gky"
      },
      "execution_count": 12,
      "outputs": []
    },
    {
      "cell_type": "code",
      "source": [
        "print(\"Vocabulary size:\", len(tokens))\n",
        "assert type(tokens) == list\n",
        "assert len(tokens) in range(19000, 21000)\n",
        "assert 'lol' in tokens\n",
        "assert UNK in tokens\n",
        "print(\"Correct!\")"
      ],
      "metadata": {
        "colab": {
          "base_uri": "https://localhost:8080/"
        },
        "id": "eFKTPDai-NKm",
        "outputId": "9eea72ed-b60f-4a6c-83db-7f0402067143"
      },
      "execution_count": 13,
      "outputs": [
        {
          "output_type": "stream",
          "name": "stdout",
          "text": [
            "Vocabulary size: 20372\n",
            "Correct!\n"
          ]
        }
      ]
    },
    {
      "cell_type": "markdown",
      "source": [
        "Build an inverse token index: a dictionary from token(string) to it's index in tokens (int)"
      ],
      "metadata": {
        "id": "5GmzzIWx_H_8"
      }
    },
    {
      "cell_type": "code",
      "source": [
        "token_to_id = {t: i for i, t in enumerate(tokens)}"
      ],
      "metadata": {
        "id": "BYV57eF1_IYy"
      },
      "execution_count": 14,
      "outputs": []
    },
    {
      "cell_type": "code",
      "source": [
        "assert isinstance(token_to_id, dict)\n",
        "assert len(token_to_id) == len(tokens)\n",
        "for tok in tokens:\n",
        "    assert tokens[token_to_id[tok]] == tok\n",
        "\n",
        "print(\"Correct!\")"
      ],
      "metadata": {
        "colab": {
          "base_uri": "https://localhost:8080/"
        },
        "id": "gnE-tJQ1_J7p",
        "outputId": "48105130-f3af-40e1-adcc-4718ce4cb975"
      },
      "execution_count": 15,
      "outputs": [
        {
          "output_type": "stream",
          "name": "stdout",
          "text": [
            "Correct!\n"
          ]
        }
      ]
    },
    {
      "cell_type": "markdown",
      "source": [
        "And finally, let's use the vocabulary you've built to map text lines into neural network-digestible matrices."
      ],
      "metadata": {
        "id": "yM1GWB6F_Nnh"
      }
    },
    {
      "cell_type": "code",
      "source": [
        "UNK_IX, PAD_IX = map(token_to_id.get, [UNK, PAD])\n",
        "\n",
        "def as_matrix(sequences, max_len=None):\n",
        "    \"\"\" Convert a list of tokens into a matrix with padding \"\"\"\n",
        "    if isinstance(sequences[0], str):\n",
        "        sequences = list(map(str.split, sequences))\n",
        "        \n",
        "    max_len = min(max(map(len, sequences)), max_len or float('inf')) # общ правило - 95 квантиль\n",
        "    \n",
        "    matrix = np.full((len(sequences), max_len), np.int32(PAD_IX))\n",
        "    for i,seq in enumerate(sequences):\n",
        "        row_ix = [token_to_id.get(word, UNK_IX) for word in seq[:max_len]]\n",
        "        matrix[i, :len(row_ix)] = row_ix\n",
        "    \n",
        "    return matrix"
      ],
      "metadata": {
        "id": "ccpe_OyH_MOM"
      },
      "execution_count": 16,
      "outputs": []
    },
    {
      "cell_type": "markdown",
      "source": [
        "Example:"
      ],
      "metadata": {
        "id": "u6KFv4yG_qDX"
      }
    },
    {
      "cell_type": "code",
      "source": [
        "print(\"Lines:\")\n",
        "print('\\n'.join(data[\"joke\"][::100000].values), end='\\n\\n')\n",
        "print(\"Matrix:\")\n",
        "print(as_matrix(data[\"joke\"][::100000]))"
      ],
      "metadata": {
        "colab": {
          "base_uri": "https://localhost:8080/"
        },
        "id": "yuPc3H1a_fja",
        "outputId": "beef1abc-4e4f-4727-ea01-d01e62952119"
      },
      "execution_count": 17,
      "outputs": [
        {
          "output_type": "stream",
          "name": "stdout",
          "text": [
            "Lines:\n",
            "i hate how you cannot even say black paint anymore . now i have to say \" leroy can you please paint the fence ?\"\n",
            "i wish labor day was months after spring break .\n",
            "\n",
            "Matrix:\n",
            "[[ 9107  8489  8972 20272  3053  6461 15607  2227 12857  1203   304 12308\n",
            "   9107  8508 18411 15607    67 10470  3021 20272 13551 12857 18169  6898\n",
            "    458]\n",
            " [ 9107 20009 10222  4959 19665 11684   834 17026  2591   304     1     1\n",
            "      1     1     1     1     1     1     1     1     1     1     1     1\n",
            "      1]]\n"
          ]
        }
      ]
    },
    {
      "cell_type": "markdown",
      "source": [
        "### The deep learning part\n",
        "\n",
        "Once we've learned to tokenize the data, let's design a machine learning experiment.\n",
        "\n",
        "As before, we won't focus too much on validation, opting for a simple train-test split.\n",
        "\n",
        "__To be completely rigorous,__ we've comitted a small crime here: we used the whole data for tokenization and vocabulary building. A more strict way would be to do that part on training set only. You may want to do that and measure the magnitude of changes."
      ],
      "metadata": {
        "id": "qDEo5dCGA3s-"
      }
    },
    {
      "cell_type": "code",
      "source": [
        "from sklearn.model_selection import train_test_split\n",
        "\n",
        "data_train, data_val = train_test_split(data, test_size=0.2, random_state=42)\n",
        "data_train.index = range(len(data_train))\n",
        "data_val.index = range(len(data_val))\n",
        "\n",
        "print(\"Train size = \", len(data_train))\n",
        "print(\"Validation size = \", len(data_val))"
      ],
      "metadata": {
        "colab": {
          "base_uri": "https://localhost:8080/"
        },
        "id": "f5X_2uyYA2CU",
        "outputId": "8429e32d-b844-4005-d0fa-6d12c096e723"
      },
      "execution_count": 18,
      "outputs": [
        {
          "output_type": "stream",
          "name": "stdout",
          "text": [
            "Train size =  152111\n",
            "Validation size =  38028\n"
          ]
        }
      ]
    },
    {
      "cell_type": "code",
      "source": [
        "TARGET_COLUMN = \"Log1pRank\""
      ],
      "metadata": {
        "id": "b3J0T5OGBeZy"
      },
      "execution_count": 19,
      "outputs": []
    },
    {
      "cell_type": "code",
      "source": [
        "import torch\n",
        "\n",
        "def to_tensors(batch, device):\n",
        "    batch_tensors = dict()\n",
        "    for key, arr in batch.items():\n",
        "        if key in [\"joke\"]:\n",
        "            batch_tensors[key] = torch.tensor(arr, device=device, dtype=torch.int64)\n",
        "        else:\n",
        "            batch_tensors[key] = torch.tensor(arr, device=device)\n",
        "    return batch_tensors\n",
        "\n",
        "def make_batch(data, max_len=None, word_dropout=0, device=torch.device('cpu')):\n",
        "    \"\"\"\n",
        "    Creates a keras-friendly dict from the batch data.\n",
        "    :param word_dropout: replaces token index with UNK_IX with this probability\n",
        "    :returns: a dict with {'title' : int64[batch, title_max_len]\n",
        "    \"\"\"\n",
        "    batch = {}\n",
        "    batch[\"joke\"] = as_matrix(data[\"joke\"].values, max_len)\n",
        "    \n",
        "    if word_dropout != 0:\n",
        "        batch[\"joke\"] = apply_word_dropout(batch[\"joke\"], 1. - word_dropout)\n",
        "    \n",
        "    if TARGET_COLUMN in data.columns:\n",
        "        batch[TARGET_COLUMN] = data[TARGET_COLUMN].values\n",
        "    \n",
        "    return to_tensors(batch, device)\n",
        "\n",
        "def apply_word_dropout(matrix, keep_prop, replace_with=UNK_IX, pad_ix=PAD_IX,):\n",
        "    dropout_mask = np.random.choice(2, np.shape(matrix), p=[keep_prop, 1 - keep_prop])\n",
        "    dropout_mask &= matrix != pad_ix\n",
        "    return np.choose(dropout_mask, [matrix, np.full_like(matrix, replace_with)])"
      ],
      "metadata": {
        "id": "hlLrGROiBBR5"
      },
      "execution_count": 20,
      "outputs": []
    },
    {
      "cell_type": "code",
      "source": [
        "make_batch(data_train[:3], max_len=10)"
      ],
      "metadata": {
        "colab": {
          "base_uri": "https://localhost:8080/"
        },
        "id": "UX8ZzLSgBpya",
        "outputId": "5ae19288-3f84-4353-e545-ab559b6462b4"
      },
      "execution_count": 21,
      "outputs": [
        {
          "output_type": "execute_result",
          "data": {
            "text/plain": [
              "{'Log1pRank': tensor([0.0000, 1.6094, 0.6931], dtype=torch.float64),\n",
              " 'joke': tensor([[13869,  9664, 10562, 13661,   304, 20272, 19508,   546, 10771,  1103],\n",
              "         [  834, 15040,   254,  9107, 19788, 18411, 18169, 16714, 15839, 12474],\n",
              "         [18211,  1430, 11225,  9146,  9107, 19630, 18411,  7895, 18411,     0]])}"
            ]
          },
          "metadata": {},
          "execution_count": 21
        }
      ]
    },
    {
      "cell_type": "markdown",
      "source": [
        "# **Regression**"
      ],
      "metadata": {
        "id": "gG7vhzYcYc8i"
      }
    },
    {
      "cell_type": "markdown",
      "source": [
        "This clearly doesn't fit into keras' __Sequential__ interface. To build such a network, one will have to use PyTorch."
      ],
      "metadata": {
        "id": "6DeCtjAlB2GS"
      }
    },
    {
      "cell_type": "code",
      "source": [
        "import torch\n",
        "import torch.nn as nn\n",
        "import torch.functional as F"
      ],
      "metadata": {
        "id": "tn8y9s_9B0Ia"
      },
      "execution_count": 22,
      "outputs": []
    },
    {
      "cell_type": "code",
      "source": [
        "class RankPredictor(nn.Module):\n",
        "    def __init__(self, n_tokens=len(tokens), hid_size=8):\n",
        "        super().__init__()\n",
        "        self.embedder = nn.Embedding(n_tokens, hid_size)\n",
        "      \n",
        "        self.description_encoder = nn.Sequential(\n",
        "            nn.Conv1d(hid_size, hid_size, kernel_size=2),\n",
        "            nn.Dropout(p=0.25),\n",
        "            nn.ReLU(),\n",
        "            nn.AdaptiveMaxPool1d(output_size=1),\n",
        "          \n",
        "        )\n",
        "       \n",
        "        self.final_predictor = nn.Sequential(\n",
        "            nn.Linear(hid_size , hid_size),\n",
        "            nn.ReLU(),\n",
        "            nn.Linear(hid_size, 1)\n",
        "        )\n",
        "        self.double()\n",
        "        \n",
        "    def forward(self, batch):\n",
        "        description_embeddings = self.embedder(batch['joke']).permute(0, 2, 1)\n",
        "        description_features = self.description_encoder(description_embeddings).squeeze()\n",
        "\n",
        "        # features = torch.cat(\n",
        "        #     [description_features], dim=1)\n",
        "        out = self.final_predictor(description_features).squeeze()\n",
        "        \n",
        "        return out"
      ],
      "metadata": {
        "id": "Gi_2Bn_RA2FF"
      },
      "execution_count": 23,
      "outputs": []
    },
    {
      "cell_type": "code",
      "source": [
        "model = RankPredictor()"
      ],
      "metadata": {
        "id": "EvKvKUpvYc8l"
      },
      "execution_count": 24,
      "outputs": []
    },
    {
      "cell_type": "code",
      "source": [
        "batch = make_batch(data_train[:100])\n",
        "criterion = nn.MSELoss()\n",
        "\n",
        "dummy_pred = model(batch)\n",
        "dummy_loss = criterion(dummy_pred, batch[TARGET_COLUMN])\n",
        "assert dummy_pred.shape == torch.Size([100])\n",
        "assert len(np.unique(dummy_pred.detach().numpy())) > 20, \"model returns suspiciously few unique outputs. Check your initialization\"\n",
        "assert dummy_loss.ndim == 0 and 0. <= dummy_loss <= 250., \"make sure you minimize MSE\""
      ],
      "metadata": {
        "id": "3CCxYuTtYcld"
      },
      "execution_count": 25,
      "outputs": []
    },
    {
      "cell_type": "markdown",
      "source": [
        "#### Training and evaluation\n",
        "\n",
        "As usual, we gonna feed our monster with random minibatches of data. \n",
        "\n",
        "As we train, we want to monitor not only loss function, which is computed in log-space, but also the actual error measured in dollars."
      ],
      "metadata": {
        "id": "lD6VX-bVIgW0"
      }
    },
    {
      "cell_type": "code",
      "source": [
        "def iterate_minibatches(data, batch_size=256, shuffle=True, cycle=False, **kwargs):\n",
        "    \"\"\" iterates minibatches of data in random order \"\"\"\n",
        "    while True:\n",
        "        indices = np.arange(len(data))\n",
        "        if shuffle:\n",
        "            indices = np.random.permutation(indices)\n",
        "\n",
        "        for start in range(0, len(indices), batch_size):\n",
        "            batch = make_batch(data.iloc[indices[start : start + batch_size]], **kwargs)\n",
        "            yield batch\n",
        "        \n",
        "        if not cycle: break"
      ],
      "metadata": {
        "id": "Tk3tSz9gYcoH"
      },
      "execution_count": 26,
      "outputs": []
    },
    {
      "cell_type": "markdown",
      "source": [
        "### Model training\n",
        "\n",
        "We can now fit our model the usual minibatch way. The interesting part is that we train on an infinite stream of minibatches, produced by `iterate_minibatches` function."
      ],
      "metadata": {
        "id": "sOPDf-aCIkQw"
      }
    },
    {
      "cell_type": "code",
      "source": [
        "import tqdm\n",
        "\n",
        "BATCH_SIZE = 128\n",
        "EPOCHS = 3\n",
        "DEVICE = torch.device('cpu') # cuda"
      ],
      "metadata": {
        "id": "7xZIH04RIjMR"
      },
      "execution_count": 27,
      "outputs": []
    },
    {
      "cell_type": "code",
      "source": [
        "def print_metrics(model, data, batch_size=BATCH_SIZE, name=\"\", **kw):\n",
        "    squared_error = abs_error = num_samples = 0.0\n",
        "    model.eval()\n",
        "    with torch.no_grad():\n",
        "        for batch in iterate_minibatches(data, batch_size=batch_size, shuffle=False, **kw):\n",
        "            batch_pred = model(batch)\n",
        "            squared_error += torch.mean(torch.square(batch_pred - batch[TARGET_COLUMN]))\n",
        "            abs_error += torch.mean(torch.abs(batch_pred - batch[TARGET_COLUMN]))\n",
        "            num_samples += len(batch)\n",
        "    mse = squared_error.detach().cpu().numpy() / num_samples\n",
        "    mae = abs_error.detach().cpu().numpy() / num_samples\n",
        "    print(\"%s results:\" % (name or \"\"))\n",
        "    print(\"Mean square error: %.5f\" % mse)\n",
        "    print(\"Mean absolute error: %.5f\" % mae)\n",
        "    return mse, mae"
      ],
      "metadata": {
        "id": "Khab9pb2Iopa"
      },
      "execution_count": 28,
      "outputs": []
    },
    {
      "cell_type": "code",
      "source": [
        "model = RankPredictor().to(DEVICE)\n",
        "criterion = nn.MSELoss(reduction='mean')\n",
        "optimizer = torch.optim.Adam(model.parameters(), lr=1e-3)\n",
        "\n",
        "for epoch in range(EPOCHS):\n",
        "    print(f\"epoch: {epoch}\")\n",
        "    for i, batch in tqdm.notebook.tqdm(enumerate(\n",
        "            iterate_minibatches(\n",
        "                    data_train, \n",
        "                    batch_size=BATCH_SIZE, \n",
        "                    device=DEVICE)), \n",
        "                total=len(data_train) // BATCH_SIZE\n",
        "        ):\n",
        "        model.train()\n",
        "        pred = model(batch)\n",
        "        optimizer.zero_grad()\n",
        "        loss = criterion(pred, batch[TARGET_COLUMN])\n",
        "        loss.backward()\n",
        "        optimizer.step()\n",
        "\n",
        "        if i % 100 == 99:\n",
        "            print('train_loss', loss.item())\n",
        "            print_metrics(model, data_val, name='val', batch_size=BATCH_SIZE, device=DEVICE)"
      ],
      "metadata": {
        "colab": {
          "base_uri": "https://localhost:8080/",
          "height": 1000,
          "referenced_widgets": [
            "5065927f6c354b69ac0f0965c1189015",
            "4c26e7e474e34e1b817adc826a217bda",
            "a8a44a0ef27f46c29503cf2eb0f13a6a",
            "595af1de9a934f5c8c6440704c635461",
            "65a77fe9f9924050bcaea8c150a51213",
            "ccd81b5c92be40379ebe636397c68fcd",
            "87742457ad5c4cbba9251070548019a2",
            "cc9bbc1373424947b804a72c42837eb6",
            "45531e9cdd8b44afbb3ed9b17e5dc368",
            "8af731ab84a948ea98ab7b6026e4f16a",
            "e7cc93fd7b934f25b22949ad71a55fa6",
            "4110d9bbe6f244878dc88d16d6b13496",
            "383d255c76d1480ca17e8c0d7e7b8984",
            "44298c5358294151b4b0eb08e1143cfc",
            "287eeb54c27d461e9de01bbab0d43e15",
            "56f96effad5942429930a5ca5324d1bb",
            "b510fb1c53d54be8ae9c37911ab68324",
            "cef2d57723bc4b79be8d6d8aa09233b5",
            "f8be87fff7ac451cacba1a1bb810a3de",
            "dc5c60c3754542b6b859ba5743ff7db0",
            "50d8f7bfa2274094990ee05cded237a9",
            "acd7e0c65cdb4edd8333804e2de1d5cd",
            "533904c731374c2a84f298ff0a6bdb27",
            "e9d4edbcad7c4feea05cb7eb8232f647",
            "42cfc04334fa4e8b982159dee98fd1f3",
            "1e5825c9fea54291831478161a9a90f6",
            "a23ccdd5cc9f4e59b381434ca231d062",
            "dbf4bcd3aea645d2be897bb13e8d2227",
            "ddcd84f9efaf437c8fda20c233537d55",
            "c410e365d2eb4b64b51afb99671dec5e",
            "56a1f15baa98442982777a599a129a5e",
            "bfccad95d9124b15874e19a3e8e24fa5",
            "a71968b539464889b3280837efa1802b"
          ]
        },
        "id": "u7m1d3lNIqx0",
        "outputId": "7b839bec-7d32-4a96-e45d-9fa592eef790"
      },
      "execution_count": 29,
      "outputs": [
        {
          "output_type": "stream",
          "name": "stdout",
          "text": [
            "epoch: 0\n"
          ]
        },
        {
          "output_type": "display_data",
          "data": {
            "application/vnd.jupyter.widget-view+json": {
              "model_id": "5065927f6c354b69ac0f0965c1189015",
              "version_minor": 0,
              "version_major": 2
            },
            "text/plain": [
              "  0%|          | 0/1188 [00:00<?, ?it/s]"
            ]
          },
          "metadata": {}
        },
        {
          "output_type": "stream",
          "name": "stdout",
          "text": [
            "train_loss 0.41124500523885194\n",
            "val results:\n",
            "Mean square error: 0.21737\n",
            "Mean absolute error: 0.30391\n",
            "train_loss 0.347147508738484\n",
            "val results:\n",
            "Mean square error: 0.21174\n",
            "Mean absolute error: 0.29978\n",
            "train_loss 0.4316064379902248\n",
            "val results:\n",
            "Mean square error: 0.21222\n",
            "Mean absolute error: 0.30063\n",
            "train_loss 0.38535349839489264\n",
            "val results:\n",
            "Mean square error: 0.21204\n",
            "Mean absolute error: 0.30068\n",
            "train_loss 0.4662788163936866\n",
            "val results:\n",
            "Mean square error: 0.21192\n",
            "Mean absolute error: 0.30071\n",
            "train_loss 0.3760167232755909\n",
            "val results:\n",
            "Mean square error: 0.21429\n",
            "Mean absolute error: 0.30275\n",
            "train_loss 0.35003309135792987\n",
            "val results:\n",
            "Mean square error: 0.20663\n",
            "Mean absolute error: 0.29594\n",
            "train_loss 0.4163145603466426\n",
            "val results:\n",
            "Mean square error: 0.21089\n",
            "Mean absolute error: 0.29974\n",
            "train_loss 0.3803907613747949\n",
            "val results:\n",
            "Mean square error: 0.21085\n",
            "Mean absolute error: 0.29964\n",
            "train_loss 0.3667436379881001\n",
            "val results:\n",
            "Mean square error: 0.20851\n",
            "Mean absolute error: 0.29768\n",
            "train_loss 0.41074707439919894\n",
            "val results:\n",
            "Mean square error: 0.20668\n",
            "Mean absolute error: 0.29598\n",
            "epoch: 1\n"
          ]
        },
        {
          "output_type": "display_data",
          "data": {
            "application/vnd.jupyter.widget-view+json": {
              "model_id": "4110d9bbe6f244878dc88d16d6b13496",
              "version_minor": 0,
              "version_major": 2
            },
            "text/plain": [
              "  0%|          | 0/1188 [00:00<?, ?it/s]"
            ]
          },
          "metadata": {}
        },
        {
          "output_type": "stream",
          "name": "stdout",
          "text": [
            "train_loss 0.36858141795805227\n",
            "val results:\n",
            "Mean square error: 0.20711\n",
            "Mean absolute error: 0.29650\n",
            "train_loss 0.3559752081714731\n",
            "val results:\n",
            "Mean square error: 0.20623\n",
            "Mean absolute error: 0.29561\n",
            "train_loss 0.3945144070529365\n",
            "val results:\n",
            "Mean square error: 0.20858\n",
            "Mean absolute error: 0.29777\n",
            "train_loss 0.3514083955774554\n",
            "val results:\n",
            "Mean square error: 0.20525\n",
            "Mean absolute error: 0.29463\n",
            "train_loss 0.3642519782391993\n",
            "val results:\n",
            "Mean square error: 0.20763\n",
            "Mean absolute error: 0.29691\n",
            "train_loss 0.3942899279610048\n",
            "val results:\n",
            "Mean square error: 0.20773\n",
            "Mean absolute error: 0.29723\n",
            "train_loss 0.3548105467495007\n",
            "val results:\n",
            "Mean square error: 0.21011\n",
            "Mean absolute error: 0.29922\n",
            "train_loss 0.417463195000523\n",
            "val results:\n",
            "Mean square error: 0.20683\n",
            "Mean absolute error: 0.29619\n",
            "train_loss 0.3601761328794574\n",
            "val results:\n",
            "Mean square error: 0.20608\n",
            "Mean absolute error: 0.29560\n",
            "train_loss 0.39585043459844904\n",
            "val results:\n",
            "Mean square error: 0.20303\n",
            "Mean absolute error: 0.29277\n",
            "train_loss 0.3737504580478488\n",
            "val results:\n",
            "Mean square error: 0.20840\n",
            "Mean absolute error: 0.29766\n",
            "epoch: 2\n"
          ]
        },
        {
          "output_type": "display_data",
          "data": {
            "application/vnd.jupyter.widget-view+json": {
              "model_id": "533904c731374c2a84f298ff0a6bdb27",
              "version_minor": 0,
              "version_major": 2
            },
            "text/plain": [
              "  0%|          | 0/1188 [00:00<?, ?it/s]"
            ]
          },
          "metadata": {}
        },
        {
          "output_type": "stream",
          "name": "stdout",
          "text": [
            "train_loss 0.38140958462680596\n",
            "val results:\n",
            "Mean square error: 0.20627\n",
            "Mean absolute error: 0.29590\n",
            "train_loss 0.39981999737896995\n",
            "val results:\n",
            "Mean square error: 0.20442\n",
            "Mean absolute error: 0.29420\n",
            "train_loss 0.36359365847455477\n",
            "val results:\n",
            "Mean square error: 0.20578\n",
            "Mean absolute error: 0.29534\n",
            "train_loss 0.4070062665668494\n",
            "val results:\n",
            "Mean square error: 0.20675\n",
            "Mean absolute error: 0.29631\n",
            "train_loss 0.39284102068729426\n",
            "val results:\n",
            "Mean square error: 0.20117\n",
            "Mean absolute error: 0.29096\n",
            "train_loss 0.3669975017828552\n",
            "val results:\n",
            "Mean square error: 0.20313\n",
            "Mean absolute error: 0.29299\n",
            "train_loss 0.3479784634818772\n",
            "val results:\n",
            "Mean square error: 0.20548\n",
            "Mean absolute error: 0.29518\n",
            "train_loss 0.4046489222147054\n",
            "val results:\n",
            "Mean square error: 0.20734\n",
            "Mean absolute error: 0.29685\n",
            "train_loss 0.36222081119963473\n",
            "val results:\n",
            "Mean square error: 0.20418\n",
            "Mean absolute error: 0.29384\n",
            "train_loss 0.37250546785604177\n",
            "val results:\n",
            "Mean square error: 0.20364\n",
            "Mean absolute error: 0.29338\n",
            "train_loss 0.3871365173043678\n",
            "val results:\n",
            "Mean square error: 0.21044\n",
            "Mean absolute error: 0.29939\n"
          ]
        }
      ]
    },
    {
      "cell_type": "code",
      "source": [
        "from sklearn.metrics import mean_squared_error, r2_score, mean_absolute_error"
      ],
      "metadata": {
        "id": "RFtoec-3RM7l"
      },
      "execution_count": 30,
      "outputs": []
    },
    {
      "cell_type": "code",
      "source": [
        "def get_preds(model, data, batch_size=BATCH_SIZE, name=\"\", **kw):\n",
        "    preds = []\n",
        "    squared_error = abs_error = num_samples = 0.0\n",
        "    model.eval()\n",
        "    with torch.no_grad():\n",
        "        for batch in iterate_minibatches(data, batch_size=batch_size, shuffle=False, **kw):\n",
        "            batch_pred = model(batch)\n",
        "            preds.append(batch_pred)\n",
        "        features = torch.cat(\n",
        "            preds, dim=0)\n",
        "        return features"
      ],
      "metadata": {
        "id": "YARhs9h5WdsM"
      },
      "execution_count": 39,
      "outputs": []
    },
    {
      "cell_type": "code",
      "source": [
        "features = get_preds(model, data_val, name='val', batch_size=512, device=DEVICE)"
      ],
      "metadata": {
        "id": "tmdFk8LJRlA-"
      },
      "execution_count": 40,
      "outputs": []
    },
    {
      "cell_type": "code",
      "source": [
        "def mae(y_gt, Y_pr):\n",
        "    return metrics.mean_absolute_error(y_gt, Y_pr)\n",
        "\n",
        "def mse(y_gt, Y_pr):\n",
        "    return metrics.mean_squared_error(y_gt, Y_pr)\n",
        "\n",
        "def rmse(y_gt, Y_pr):\n",
        "    my_mse = mse(y_gt, Y_pr)\n",
        "    return np.sqrt(my_mse)\n",
        "\n",
        "def medae(y_gt, Y_pr):\n",
        "    return metrics.median_absolute_error(y_gt, Y_pr)\n",
        "\n",
        "def R2(y_gt, Y_pr):\n",
        "    return metrics.r2_score(y_gt, Y_pr)\n",
        "\n",
        "def calc_metrics(true, pred):\n",
        "\n",
        "    mse1 = mse(true, pred)\n",
        "\n",
        "    rmse1 = rmse(true, pred)\n",
        "\n",
        "    mae1 = mae(true, pred)\n",
        "\n",
        "    medae1 = medae(true, pred)\n",
        "\n",
        "    R21 = R2(true, pred)\n",
        "\n",
        "    print('*** VAL **: ')\n",
        "    print(\"MSE:   {}\\nRMSE:  {}\\nR2:    {}\\nMAE:   {}\\nMedAE: {}\".format(mse1, rmse1, R21, mae1, medae1))\n",
        "    print('-'*30)"
      ],
      "metadata": {
        "id": "F-9pNbsOWKwg"
      },
      "execution_count": 42,
      "outputs": []
    },
    {
      "cell_type": "code",
      "source": [
        "calc_metrics(data_val['Log1pRank'], features)"
      ],
      "metadata": {
        "colab": {
          "base_uri": "https://localhost:8080/"
        },
        "id": "jqVm2YQ-ScFl",
        "outputId": "213b916e-41f0-4fc9-9db2-ae73f016c15c"
      },
      "execution_count": 45,
      "outputs": [
        {
          "output_type": "stream",
          "name": "stdout",
          "text": [
            "*** VAL **: \n",
            "MSE:   0.4027708865459231\n",
            "RMSE:  0.6346423296203327\n",
            "R2:    0.0073293711953617\n",
            "MAE:   0.5828114207411131\n",
            "MedAE: 0.6366513591869927\n",
            "------------------------------\n"
          ]
        }
      ]
    }
  ],
  "metadata": {
    "colab": {
      "collapsed_sections": [],
      "name": "Regression_NLP_humor_models",
      "provenance": []
    },
    "kernelspec": {
      "display_name": "Python 3",
      "name": "python3"
    },
    "language_info": {
      "name": "python"
    },
    "accelerator": "GPU",
    "widgets": {
      "application/vnd.jupyter.widget-state+json": {
        "5065927f6c354b69ac0f0965c1189015": {
          "model_module": "@jupyter-widgets/controls",
          "model_name": "HBoxModel",
          "model_module_version": "1.5.0",
          "state": {
            "_view_name": "HBoxView",
            "_dom_classes": [],
            "_model_name": "HBoxModel",
            "_view_module": "@jupyter-widgets/controls",
            "_model_module_version": "1.5.0",
            "_view_count": null,
            "_view_module_version": "1.5.0",
            "box_style": "",
            "layout": "IPY_MODEL_4c26e7e474e34e1b817adc826a217bda",
            "_model_module": "@jupyter-widgets/controls",
            "children": [
              "IPY_MODEL_a8a44a0ef27f46c29503cf2eb0f13a6a",
              "IPY_MODEL_595af1de9a934f5c8c6440704c635461",
              "IPY_MODEL_65a77fe9f9924050bcaea8c150a51213"
            ]
          }
        },
        "4c26e7e474e34e1b817adc826a217bda": {
          "model_module": "@jupyter-widgets/base",
          "model_name": "LayoutModel",
          "model_module_version": "1.2.0",
          "state": {
            "_view_name": "LayoutView",
            "grid_template_rows": null,
            "right": null,
            "justify_content": null,
            "_view_module": "@jupyter-widgets/base",
            "overflow": null,
            "_model_module_version": "1.2.0",
            "_view_count": null,
            "flex_flow": null,
            "width": null,
            "min_width": null,
            "border": null,
            "align_items": null,
            "bottom": null,
            "_model_module": "@jupyter-widgets/base",
            "top": null,
            "grid_column": null,
            "overflow_y": null,
            "overflow_x": null,
            "grid_auto_flow": null,
            "grid_area": null,
            "grid_template_columns": null,
            "flex": null,
            "_model_name": "LayoutModel",
            "justify_items": null,
            "grid_row": null,
            "max_height": null,
            "align_content": null,
            "visibility": null,
            "align_self": null,
            "height": null,
            "min_height": null,
            "padding": null,
            "grid_auto_rows": null,
            "grid_gap": null,
            "max_width": null,
            "order": null,
            "_view_module_version": "1.2.0",
            "grid_template_areas": null,
            "object_position": null,
            "object_fit": null,
            "grid_auto_columns": null,
            "margin": null,
            "display": null,
            "left": null
          }
        },
        "a8a44a0ef27f46c29503cf2eb0f13a6a": {
          "model_module": "@jupyter-widgets/controls",
          "model_name": "HTMLModel",
          "model_module_version": "1.5.0",
          "state": {
            "_view_name": "HTMLView",
            "style": "IPY_MODEL_ccd81b5c92be40379ebe636397c68fcd",
            "_dom_classes": [],
            "description": "",
            "_model_name": "HTMLModel",
            "placeholder": "​",
            "_view_module": "@jupyter-widgets/controls",
            "_model_module_version": "1.5.0",
            "value": "",
            "_view_count": null,
            "_view_module_version": "1.5.0",
            "description_tooltip": null,
            "_model_module": "@jupyter-widgets/controls",
            "layout": "IPY_MODEL_87742457ad5c4cbba9251070548019a2"
          }
        },
        "595af1de9a934f5c8c6440704c635461": {
          "model_module": "@jupyter-widgets/controls",
          "model_name": "FloatProgressModel",
          "model_module_version": "1.5.0",
          "state": {
            "_view_name": "ProgressView",
            "style": "IPY_MODEL_cc9bbc1373424947b804a72c42837eb6",
            "_dom_classes": [],
            "description": "",
            "_model_name": "FloatProgressModel",
            "bar_style": "success",
            "max": 1188,
            "_view_module": "@jupyter-widgets/controls",
            "_model_module_version": "1.5.0",
            "value": 1188,
            "_view_count": null,
            "_view_module_version": "1.5.0",
            "orientation": "horizontal",
            "min": 0,
            "description_tooltip": null,
            "_model_module": "@jupyter-widgets/controls",
            "layout": "IPY_MODEL_45531e9cdd8b44afbb3ed9b17e5dc368"
          }
        },
        "65a77fe9f9924050bcaea8c150a51213": {
          "model_module": "@jupyter-widgets/controls",
          "model_name": "HTMLModel",
          "model_module_version": "1.5.0",
          "state": {
            "_view_name": "HTMLView",
            "style": "IPY_MODEL_8af731ab84a948ea98ab7b6026e4f16a",
            "_dom_classes": [],
            "description": "",
            "_model_name": "HTMLModel",
            "placeholder": "​",
            "_view_module": "@jupyter-widgets/controls",
            "_model_module_version": "1.5.0",
            "value": " 1189/? [02:38&lt;00:00, 18.60it/s]",
            "_view_count": null,
            "_view_module_version": "1.5.0",
            "description_tooltip": null,
            "_model_module": "@jupyter-widgets/controls",
            "layout": "IPY_MODEL_e7cc93fd7b934f25b22949ad71a55fa6"
          }
        },
        "ccd81b5c92be40379ebe636397c68fcd": {
          "model_module": "@jupyter-widgets/controls",
          "model_name": "DescriptionStyleModel",
          "model_module_version": "1.5.0",
          "state": {
            "_view_name": "StyleView",
            "_model_name": "DescriptionStyleModel",
            "description_width": "",
            "_view_module": "@jupyter-widgets/base",
            "_model_module_version": "1.5.0",
            "_view_count": null,
            "_view_module_version": "1.2.0",
            "_model_module": "@jupyter-widgets/controls"
          }
        },
        "87742457ad5c4cbba9251070548019a2": {
          "model_module": "@jupyter-widgets/base",
          "model_name": "LayoutModel",
          "model_module_version": "1.2.0",
          "state": {
            "_view_name": "LayoutView",
            "grid_template_rows": null,
            "right": null,
            "justify_content": null,
            "_view_module": "@jupyter-widgets/base",
            "overflow": null,
            "_model_module_version": "1.2.0",
            "_view_count": null,
            "flex_flow": null,
            "width": null,
            "min_width": null,
            "border": null,
            "align_items": null,
            "bottom": null,
            "_model_module": "@jupyter-widgets/base",
            "top": null,
            "grid_column": null,
            "overflow_y": null,
            "overflow_x": null,
            "grid_auto_flow": null,
            "grid_area": null,
            "grid_template_columns": null,
            "flex": null,
            "_model_name": "LayoutModel",
            "justify_items": null,
            "grid_row": null,
            "max_height": null,
            "align_content": null,
            "visibility": null,
            "align_self": null,
            "height": null,
            "min_height": null,
            "padding": null,
            "grid_auto_rows": null,
            "grid_gap": null,
            "max_width": null,
            "order": null,
            "_view_module_version": "1.2.0",
            "grid_template_areas": null,
            "object_position": null,
            "object_fit": null,
            "grid_auto_columns": null,
            "margin": null,
            "display": null,
            "left": null
          }
        },
        "cc9bbc1373424947b804a72c42837eb6": {
          "model_module": "@jupyter-widgets/controls",
          "model_name": "ProgressStyleModel",
          "model_module_version": "1.5.0",
          "state": {
            "_view_name": "StyleView",
            "_model_name": "ProgressStyleModel",
            "description_width": "",
            "_view_module": "@jupyter-widgets/base",
            "_model_module_version": "1.5.0",
            "_view_count": null,
            "_view_module_version": "1.2.0",
            "bar_color": null,
            "_model_module": "@jupyter-widgets/controls"
          }
        },
        "45531e9cdd8b44afbb3ed9b17e5dc368": {
          "model_module": "@jupyter-widgets/base",
          "model_name": "LayoutModel",
          "model_module_version": "1.2.0",
          "state": {
            "_view_name": "LayoutView",
            "grid_template_rows": null,
            "right": null,
            "justify_content": null,
            "_view_module": "@jupyter-widgets/base",
            "overflow": null,
            "_model_module_version": "1.2.0",
            "_view_count": null,
            "flex_flow": null,
            "width": null,
            "min_width": null,
            "border": null,
            "align_items": null,
            "bottom": null,
            "_model_module": "@jupyter-widgets/base",
            "top": null,
            "grid_column": null,
            "overflow_y": null,
            "overflow_x": null,
            "grid_auto_flow": null,
            "grid_area": null,
            "grid_template_columns": null,
            "flex": null,
            "_model_name": "LayoutModel",
            "justify_items": null,
            "grid_row": null,
            "max_height": null,
            "align_content": null,
            "visibility": null,
            "align_self": null,
            "height": null,
            "min_height": null,
            "padding": null,
            "grid_auto_rows": null,
            "grid_gap": null,
            "max_width": null,
            "order": null,
            "_view_module_version": "1.2.0",
            "grid_template_areas": null,
            "object_position": null,
            "object_fit": null,
            "grid_auto_columns": null,
            "margin": null,
            "display": null,
            "left": null
          }
        },
        "8af731ab84a948ea98ab7b6026e4f16a": {
          "model_module": "@jupyter-widgets/controls",
          "model_name": "DescriptionStyleModel",
          "model_module_version": "1.5.0",
          "state": {
            "_view_name": "StyleView",
            "_model_name": "DescriptionStyleModel",
            "description_width": "",
            "_view_module": "@jupyter-widgets/base",
            "_model_module_version": "1.5.0",
            "_view_count": null,
            "_view_module_version": "1.2.0",
            "_model_module": "@jupyter-widgets/controls"
          }
        },
        "e7cc93fd7b934f25b22949ad71a55fa6": {
          "model_module": "@jupyter-widgets/base",
          "model_name": "LayoutModel",
          "model_module_version": "1.2.0",
          "state": {
            "_view_name": "LayoutView",
            "grid_template_rows": null,
            "right": null,
            "justify_content": null,
            "_view_module": "@jupyter-widgets/base",
            "overflow": null,
            "_model_module_version": "1.2.0",
            "_view_count": null,
            "flex_flow": null,
            "width": null,
            "min_width": null,
            "border": null,
            "align_items": null,
            "bottom": null,
            "_model_module": "@jupyter-widgets/base",
            "top": null,
            "grid_column": null,
            "overflow_y": null,
            "overflow_x": null,
            "grid_auto_flow": null,
            "grid_area": null,
            "grid_template_columns": null,
            "flex": null,
            "_model_name": "LayoutModel",
            "justify_items": null,
            "grid_row": null,
            "max_height": null,
            "align_content": null,
            "visibility": null,
            "align_self": null,
            "height": null,
            "min_height": null,
            "padding": null,
            "grid_auto_rows": null,
            "grid_gap": null,
            "max_width": null,
            "order": null,
            "_view_module_version": "1.2.0",
            "grid_template_areas": null,
            "object_position": null,
            "object_fit": null,
            "grid_auto_columns": null,
            "margin": null,
            "display": null,
            "left": null
          }
        },
        "4110d9bbe6f244878dc88d16d6b13496": {
          "model_module": "@jupyter-widgets/controls",
          "model_name": "HBoxModel",
          "model_module_version": "1.5.0",
          "state": {
            "_view_name": "HBoxView",
            "_dom_classes": [],
            "_model_name": "HBoxModel",
            "_view_module": "@jupyter-widgets/controls",
            "_model_module_version": "1.5.0",
            "_view_count": null,
            "_view_module_version": "1.5.0",
            "box_style": "",
            "layout": "IPY_MODEL_383d255c76d1480ca17e8c0d7e7b8984",
            "_model_module": "@jupyter-widgets/controls",
            "children": [
              "IPY_MODEL_44298c5358294151b4b0eb08e1143cfc",
              "IPY_MODEL_287eeb54c27d461e9de01bbab0d43e15",
              "IPY_MODEL_56f96effad5942429930a5ca5324d1bb"
            ]
          }
        },
        "383d255c76d1480ca17e8c0d7e7b8984": {
          "model_module": "@jupyter-widgets/base",
          "model_name": "LayoutModel",
          "model_module_version": "1.2.0",
          "state": {
            "_view_name": "LayoutView",
            "grid_template_rows": null,
            "right": null,
            "justify_content": null,
            "_view_module": "@jupyter-widgets/base",
            "overflow": null,
            "_model_module_version": "1.2.0",
            "_view_count": null,
            "flex_flow": null,
            "width": null,
            "min_width": null,
            "border": null,
            "align_items": null,
            "bottom": null,
            "_model_module": "@jupyter-widgets/base",
            "top": null,
            "grid_column": null,
            "overflow_y": null,
            "overflow_x": null,
            "grid_auto_flow": null,
            "grid_area": null,
            "grid_template_columns": null,
            "flex": null,
            "_model_name": "LayoutModel",
            "justify_items": null,
            "grid_row": null,
            "max_height": null,
            "align_content": null,
            "visibility": null,
            "align_self": null,
            "height": null,
            "min_height": null,
            "padding": null,
            "grid_auto_rows": null,
            "grid_gap": null,
            "max_width": null,
            "order": null,
            "_view_module_version": "1.2.0",
            "grid_template_areas": null,
            "object_position": null,
            "object_fit": null,
            "grid_auto_columns": null,
            "margin": null,
            "display": null,
            "left": null
          }
        },
        "44298c5358294151b4b0eb08e1143cfc": {
          "model_module": "@jupyter-widgets/controls",
          "model_name": "HTMLModel",
          "model_module_version": "1.5.0",
          "state": {
            "_view_name": "HTMLView",
            "style": "IPY_MODEL_b510fb1c53d54be8ae9c37911ab68324",
            "_dom_classes": [],
            "description": "",
            "_model_name": "HTMLModel",
            "placeholder": "​",
            "_view_module": "@jupyter-widgets/controls",
            "_model_module_version": "1.5.0",
            "value": "",
            "_view_count": null,
            "_view_module_version": "1.5.0",
            "description_tooltip": null,
            "_model_module": "@jupyter-widgets/controls",
            "layout": "IPY_MODEL_cef2d57723bc4b79be8d6d8aa09233b5"
          }
        },
        "287eeb54c27d461e9de01bbab0d43e15": {
          "model_module": "@jupyter-widgets/controls",
          "model_name": "FloatProgressModel",
          "model_module_version": "1.5.0",
          "state": {
            "_view_name": "ProgressView",
            "style": "IPY_MODEL_f8be87fff7ac451cacba1a1bb810a3de",
            "_dom_classes": [],
            "description": "",
            "_model_name": "FloatProgressModel",
            "bar_style": "success",
            "max": 1188,
            "_view_module": "@jupyter-widgets/controls",
            "_model_module_version": "1.5.0",
            "value": 1188,
            "_view_count": null,
            "_view_module_version": "1.5.0",
            "orientation": "horizontal",
            "min": 0,
            "description_tooltip": null,
            "_model_module": "@jupyter-widgets/controls",
            "layout": "IPY_MODEL_dc5c60c3754542b6b859ba5743ff7db0"
          }
        },
        "56f96effad5942429930a5ca5324d1bb": {
          "model_module": "@jupyter-widgets/controls",
          "model_name": "HTMLModel",
          "model_module_version": "1.5.0",
          "state": {
            "_view_name": "HTMLView",
            "style": "IPY_MODEL_50d8f7bfa2274094990ee05cded237a9",
            "_dom_classes": [],
            "description": "",
            "_model_name": "HTMLModel",
            "placeholder": "​",
            "_view_module": "@jupyter-widgets/controls",
            "_model_module_version": "1.5.0",
            "value": " 1189/? [02:19&lt;00:00, 12.75it/s]",
            "_view_count": null,
            "_view_module_version": "1.5.0",
            "description_tooltip": null,
            "_model_module": "@jupyter-widgets/controls",
            "layout": "IPY_MODEL_acd7e0c65cdb4edd8333804e2de1d5cd"
          }
        },
        "b510fb1c53d54be8ae9c37911ab68324": {
          "model_module": "@jupyter-widgets/controls",
          "model_name": "DescriptionStyleModel",
          "model_module_version": "1.5.0",
          "state": {
            "_view_name": "StyleView",
            "_model_name": "DescriptionStyleModel",
            "description_width": "",
            "_view_module": "@jupyter-widgets/base",
            "_model_module_version": "1.5.0",
            "_view_count": null,
            "_view_module_version": "1.2.0",
            "_model_module": "@jupyter-widgets/controls"
          }
        },
        "cef2d57723bc4b79be8d6d8aa09233b5": {
          "model_module": "@jupyter-widgets/base",
          "model_name": "LayoutModel",
          "model_module_version": "1.2.0",
          "state": {
            "_view_name": "LayoutView",
            "grid_template_rows": null,
            "right": null,
            "justify_content": null,
            "_view_module": "@jupyter-widgets/base",
            "overflow": null,
            "_model_module_version": "1.2.0",
            "_view_count": null,
            "flex_flow": null,
            "width": null,
            "min_width": null,
            "border": null,
            "align_items": null,
            "bottom": null,
            "_model_module": "@jupyter-widgets/base",
            "top": null,
            "grid_column": null,
            "overflow_y": null,
            "overflow_x": null,
            "grid_auto_flow": null,
            "grid_area": null,
            "grid_template_columns": null,
            "flex": null,
            "_model_name": "LayoutModel",
            "justify_items": null,
            "grid_row": null,
            "max_height": null,
            "align_content": null,
            "visibility": null,
            "align_self": null,
            "height": null,
            "min_height": null,
            "padding": null,
            "grid_auto_rows": null,
            "grid_gap": null,
            "max_width": null,
            "order": null,
            "_view_module_version": "1.2.0",
            "grid_template_areas": null,
            "object_position": null,
            "object_fit": null,
            "grid_auto_columns": null,
            "margin": null,
            "display": null,
            "left": null
          }
        },
        "f8be87fff7ac451cacba1a1bb810a3de": {
          "model_module": "@jupyter-widgets/controls",
          "model_name": "ProgressStyleModel",
          "model_module_version": "1.5.0",
          "state": {
            "_view_name": "StyleView",
            "_model_name": "ProgressStyleModel",
            "description_width": "",
            "_view_module": "@jupyter-widgets/base",
            "_model_module_version": "1.5.0",
            "_view_count": null,
            "_view_module_version": "1.2.0",
            "bar_color": null,
            "_model_module": "@jupyter-widgets/controls"
          }
        },
        "dc5c60c3754542b6b859ba5743ff7db0": {
          "model_module": "@jupyter-widgets/base",
          "model_name": "LayoutModel",
          "model_module_version": "1.2.0",
          "state": {
            "_view_name": "LayoutView",
            "grid_template_rows": null,
            "right": null,
            "justify_content": null,
            "_view_module": "@jupyter-widgets/base",
            "overflow": null,
            "_model_module_version": "1.2.0",
            "_view_count": null,
            "flex_flow": null,
            "width": null,
            "min_width": null,
            "border": null,
            "align_items": null,
            "bottom": null,
            "_model_module": "@jupyter-widgets/base",
            "top": null,
            "grid_column": null,
            "overflow_y": null,
            "overflow_x": null,
            "grid_auto_flow": null,
            "grid_area": null,
            "grid_template_columns": null,
            "flex": null,
            "_model_name": "LayoutModel",
            "justify_items": null,
            "grid_row": null,
            "max_height": null,
            "align_content": null,
            "visibility": null,
            "align_self": null,
            "height": null,
            "min_height": null,
            "padding": null,
            "grid_auto_rows": null,
            "grid_gap": null,
            "max_width": null,
            "order": null,
            "_view_module_version": "1.2.0",
            "grid_template_areas": null,
            "object_position": null,
            "object_fit": null,
            "grid_auto_columns": null,
            "margin": null,
            "display": null,
            "left": null
          }
        },
        "50d8f7bfa2274094990ee05cded237a9": {
          "model_module": "@jupyter-widgets/controls",
          "model_name": "DescriptionStyleModel",
          "model_module_version": "1.5.0",
          "state": {
            "_view_name": "StyleView",
            "_model_name": "DescriptionStyleModel",
            "description_width": "",
            "_view_module": "@jupyter-widgets/base",
            "_model_module_version": "1.5.0",
            "_view_count": null,
            "_view_module_version": "1.2.0",
            "_model_module": "@jupyter-widgets/controls"
          }
        },
        "acd7e0c65cdb4edd8333804e2de1d5cd": {
          "model_module": "@jupyter-widgets/base",
          "model_name": "LayoutModel",
          "model_module_version": "1.2.0",
          "state": {
            "_view_name": "LayoutView",
            "grid_template_rows": null,
            "right": null,
            "justify_content": null,
            "_view_module": "@jupyter-widgets/base",
            "overflow": null,
            "_model_module_version": "1.2.0",
            "_view_count": null,
            "flex_flow": null,
            "width": null,
            "min_width": null,
            "border": null,
            "align_items": null,
            "bottom": null,
            "_model_module": "@jupyter-widgets/base",
            "top": null,
            "grid_column": null,
            "overflow_y": null,
            "overflow_x": null,
            "grid_auto_flow": null,
            "grid_area": null,
            "grid_template_columns": null,
            "flex": null,
            "_model_name": "LayoutModel",
            "justify_items": null,
            "grid_row": null,
            "max_height": null,
            "align_content": null,
            "visibility": null,
            "align_self": null,
            "height": null,
            "min_height": null,
            "padding": null,
            "grid_auto_rows": null,
            "grid_gap": null,
            "max_width": null,
            "order": null,
            "_view_module_version": "1.2.0",
            "grid_template_areas": null,
            "object_position": null,
            "object_fit": null,
            "grid_auto_columns": null,
            "margin": null,
            "display": null,
            "left": null
          }
        },
        "533904c731374c2a84f298ff0a6bdb27": {
          "model_module": "@jupyter-widgets/controls",
          "model_name": "HBoxModel",
          "model_module_version": "1.5.0",
          "state": {
            "_view_name": "HBoxView",
            "_dom_classes": [],
            "_model_name": "HBoxModel",
            "_view_module": "@jupyter-widgets/controls",
            "_model_module_version": "1.5.0",
            "_view_count": null,
            "_view_module_version": "1.5.0",
            "box_style": "",
            "layout": "IPY_MODEL_e9d4edbcad7c4feea05cb7eb8232f647",
            "_model_module": "@jupyter-widgets/controls",
            "children": [
              "IPY_MODEL_42cfc04334fa4e8b982159dee98fd1f3",
              "IPY_MODEL_1e5825c9fea54291831478161a9a90f6",
              "IPY_MODEL_a23ccdd5cc9f4e59b381434ca231d062"
            ]
          }
        },
        "e9d4edbcad7c4feea05cb7eb8232f647": {
          "model_module": "@jupyter-widgets/base",
          "model_name": "LayoutModel",
          "model_module_version": "1.2.0",
          "state": {
            "_view_name": "LayoutView",
            "grid_template_rows": null,
            "right": null,
            "justify_content": null,
            "_view_module": "@jupyter-widgets/base",
            "overflow": null,
            "_model_module_version": "1.2.0",
            "_view_count": null,
            "flex_flow": null,
            "width": null,
            "min_width": null,
            "border": null,
            "align_items": null,
            "bottom": null,
            "_model_module": "@jupyter-widgets/base",
            "top": null,
            "grid_column": null,
            "overflow_y": null,
            "overflow_x": null,
            "grid_auto_flow": null,
            "grid_area": null,
            "grid_template_columns": null,
            "flex": null,
            "_model_name": "LayoutModel",
            "justify_items": null,
            "grid_row": null,
            "max_height": null,
            "align_content": null,
            "visibility": null,
            "align_self": null,
            "height": null,
            "min_height": null,
            "padding": null,
            "grid_auto_rows": null,
            "grid_gap": null,
            "max_width": null,
            "order": null,
            "_view_module_version": "1.2.0",
            "grid_template_areas": null,
            "object_position": null,
            "object_fit": null,
            "grid_auto_columns": null,
            "margin": null,
            "display": null,
            "left": null
          }
        },
        "42cfc04334fa4e8b982159dee98fd1f3": {
          "model_module": "@jupyter-widgets/controls",
          "model_name": "HTMLModel",
          "model_module_version": "1.5.0",
          "state": {
            "_view_name": "HTMLView",
            "style": "IPY_MODEL_dbf4bcd3aea645d2be897bb13e8d2227",
            "_dom_classes": [],
            "description": "",
            "_model_name": "HTMLModel",
            "placeholder": "​",
            "_view_module": "@jupyter-widgets/controls",
            "_model_module_version": "1.5.0",
            "value": "",
            "_view_count": null,
            "_view_module_version": "1.5.0",
            "description_tooltip": null,
            "_model_module": "@jupyter-widgets/controls",
            "layout": "IPY_MODEL_ddcd84f9efaf437c8fda20c233537d55"
          }
        },
        "1e5825c9fea54291831478161a9a90f6": {
          "model_module": "@jupyter-widgets/controls",
          "model_name": "FloatProgressModel",
          "model_module_version": "1.5.0",
          "state": {
            "_view_name": "ProgressView",
            "style": "IPY_MODEL_c410e365d2eb4b64b51afb99671dec5e",
            "_dom_classes": [],
            "description": "",
            "_model_name": "FloatProgressModel",
            "bar_style": "success",
            "max": 1188,
            "_view_module": "@jupyter-widgets/controls",
            "_model_module_version": "1.5.0",
            "value": 1188,
            "_view_count": null,
            "_view_module_version": "1.5.0",
            "orientation": "horizontal",
            "min": 0,
            "description_tooltip": null,
            "_model_module": "@jupyter-widgets/controls",
            "layout": "IPY_MODEL_56a1f15baa98442982777a599a129a5e"
          }
        },
        "a23ccdd5cc9f4e59b381434ca231d062": {
          "model_module": "@jupyter-widgets/controls",
          "model_name": "HTMLModel",
          "model_module_version": "1.5.0",
          "state": {
            "_view_name": "HTMLView",
            "style": "IPY_MODEL_bfccad95d9124b15874e19a3e8e24fa5",
            "_dom_classes": [],
            "description": "",
            "_model_name": "HTMLModel",
            "placeholder": "​",
            "_view_module": "@jupyter-widgets/controls",
            "_model_module_version": "1.5.0",
            "value": " 1189/? [02:15&lt;00:00, 21.43it/s]",
            "_view_count": null,
            "_view_module_version": "1.5.0",
            "description_tooltip": null,
            "_model_module": "@jupyter-widgets/controls",
            "layout": "IPY_MODEL_a71968b539464889b3280837efa1802b"
          }
        },
        "dbf4bcd3aea645d2be897bb13e8d2227": {
          "model_module": "@jupyter-widgets/controls",
          "model_name": "DescriptionStyleModel",
          "model_module_version": "1.5.0",
          "state": {
            "_view_name": "StyleView",
            "_model_name": "DescriptionStyleModel",
            "description_width": "",
            "_view_module": "@jupyter-widgets/base",
            "_model_module_version": "1.5.0",
            "_view_count": null,
            "_view_module_version": "1.2.0",
            "_model_module": "@jupyter-widgets/controls"
          }
        },
        "ddcd84f9efaf437c8fda20c233537d55": {
          "model_module": "@jupyter-widgets/base",
          "model_name": "LayoutModel",
          "model_module_version": "1.2.0",
          "state": {
            "_view_name": "LayoutView",
            "grid_template_rows": null,
            "right": null,
            "justify_content": null,
            "_view_module": "@jupyter-widgets/base",
            "overflow": null,
            "_model_module_version": "1.2.0",
            "_view_count": null,
            "flex_flow": null,
            "width": null,
            "min_width": null,
            "border": null,
            "align_items": null,
            "bottom": null,
            "_model_module": "@jupyter-widgets/base",
            "top": null,
            "grid_column": null,
            "overflow_y": null,
            "overflow_x": null,
            "grid_auto_flow": null,
            "grid_area": null,
            "grid_template_columns": null,
            "flex": null,
            "_model_name": "LayoutModel",
            "justify_items": null,
            "grid_row": null,
            "max_height": null,
            "align_content": null,
            "visibility": null,
            "align_self": null,
            "height": null,
            "min_height": null,
            "padding": null,
            "grid_auto_rows": null,
            "grid_gap": null,
            "max_width": null,
            "order": null,
            "_view_module_version": "1.2.0",
            "grid_template_areas": null,
            "object_position": null,
            "object_fit": null,
            "grid_auto_columns": null,
            "margin": null,
            "display": null,
            "left": null
          }
        },
        "c410e365d2eb4b64b51afb99671dec5e": {
          "model_module": "@jupyter-widgets/controls",
          "model_name": "ProgressStyleModel",
          "model_module_version": "1.5.0",
          "state": {
            "_view_name": "StyleView",
            "_model_name": "ProgressStyleModel",
            "description_width": "",
            "_view_module": "@jupyter-widgets/base",
            "_model_module_version": "1.5.0",
            "_view_count": null,
            "_view_module_version": "1.2.0",
            "bar_color": null,
            "_model_module": "@jupyter-widgets/controls"
          }
        },
        "56a1f15baa98442982777a599a129a5e": {
          "model_module": "@jupyter-widgets/base",
          "model_name": "LayoutModel",
          "model_module_version": "1.2.0",
          "state": {
            "_view_name": "LayoutView",
            "grid_template_rows": null,
            "right": null,
            "justify_content": null,
            "_view_module": "@jupyter-widgets/base",
            "overflow": null,
            "_model_module_version": "1.2.0",
            "_view_count": null,
            "flex_flow": null,
            "width": null,
            "min_width": null,
            "border": null,
            "align_items": null,
            "bottom": null,
            "_model_module": "@jupyter-widgets/base",
            "top": null,
            "grid_column": null,
            "overflow_y": null,
            "overflow_x": null,
            "grid_auto_flow": null,
            "grid_area": null,
            "grid_template_columns": null,
            "flex": null,
            "_model_name": "LayoutModel",
            "justify_items": null,
            "grid_row": null,
            "max_height": null,
            "align_content": null,
            "visibility": null,
            "align_self": null,
            "height": null,
            "min_height": null,
            "padding": null,
            "grid_auto_rows": null,
            "grid_gap": null,
            "max_width": null,
            "order": null,
            "_view_module_version": "1.2.0",
            "grid_template_areas": null,
            "object_position": null,
            "object_fit": null,
            "grid_auto_columns": null,
            "margin": null,
            "display": null,
            "left": null
          }
        },
        "bfccad95d9124b15874e19a3e8e24fa5": {
          "model_module": "@jupyter-widgets/controls",
          "model_name": "DescriptionStyleModel",
          "model_module_version": "1.5.0",
          "state": {
            "_view_name": "StyleView",
            "_model_name": "DescriptionStyleModel",
            "description_width": "",
            "_view_module": "@jupyter-widgets/base",
            "_model_module_version": "1.5.0",
            "_view_count": null,
            "_view_module_version": "1.2.0",
            "_model_module": "@jupyter-widgets/controls"
          }
        },
        "a71968b539464889b3280837efa1802b": {
          "model_module": "@jupyter-widgets/base",
          "model_name": "LayoutModel",
          "model_module_version": "1.2.0",
          "state": {
            "_view_name": "LayoutView",
            "grid_template_rows": null,
            "right": null,
            "justify_content": null,
            "_view_module": "@jupyter-widgets/base",
            "overflow": null,
            "_model_module_version": "1.2.0",
            "_view_count": null,
            "flex_flow": null,
            "width": null,
            "min_width": null,
            "border": null,
            "align_items": null,
            "bottom": null,
            "_model_module": "@jupyter-widgets/base",
            "top": null,
            "grid_column": null,
            "overflow_y": null,
            "overflow_x": null,
            "grid_auto_flow": null,
            "grid_area": null,
            "grid_template_columns": null,
            "flex": null,
            "_model_name": "LayoutModel",
            "justify_items": null,
            "grid_row": null,
            "max_height": null,
            "align_content": null,
            "visibility": null,
            "align_self": null,
            "height": null,
            "min_height": null,
            "padding": null,
            "grid_auto_rows": null,
            "grid_gap": null,
            "max_width": null,
            "order": null,
            "_view_module_version": "1.2.0",
            "grid_template_areas": null,
            "object_position": null,
            "object_fit": null,
            "grid_auto_columns": null,
            "margin": null,
            "display": null,
            "left": null
          }
        }
      }
    }
  },
  "nbformat": 4,
  "nbformat_minor": 0
}