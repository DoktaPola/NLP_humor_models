{
 "cells": [
  {
   "cell_type": "markdown",
   "metadata": {
    "collapsed": true
   },
   "source": [
    "# Imports"
   ]
  },
  {
   "cell_type": "code",
   "execution_count": 1,
   "metadata": {
    "pycharm": {
     "is_executing": true
    }
   },
   "outputs": [],
   "source": [
    "import pandas as pd\n",
    "import numpy as np\n",
    "import json\n",
    "import torch\n",
    "import torch.nn as nn\n",
    "import sys\n",
    "sys.path.insert(0,'../../')\n",
    "\n",
    "import warnings\n",
    "warnings.filterwarnings('ignore')\n",
    "\n",
    "%load_ext autoreload\n",
    "%autoreload 2"
   ]
  },
  {
   "cell_type": "code",
   "execution_count": 2,
   "metadata": {},
   "outputs": [],
   "source": [
    "import logging\n",
    "import sys\n",
    "\n",
    "logging.basicConfig(stream=sys.stdout, level=logging.INFO)"
   ]
  },
  {
   "cell_type": "code",
   "execution_count": 3,
   "metadata": {},
   "outputs": [],
   "source": [
    "#save a slice\n",
    "filename = 'jokes_dataset.csv'\n",
    "raw_df = pd.read_csv('../data/'+filename, sep=',',\n",
    "                encoding='utf-8').set_index('id')\n",
    "\n",
    "# work with copy\n",
    "df = raw_df.copy(deep=True)"
   ]
  },
  {
   "cell_type": "markdown",
   "metadata": {},
   "source": [
    "# Preprocessing"
   ]
  },
  {
   "cell_type": "code",
   "execution_count": 5,
   "metadata": {},
   "outputs": [],
   "source": [
    "from src import schema as S\n",
    "from src.preprocessing.preprocessing import SimplePreprocessor\n",
    "from bs4 import BeautifulSoup\n",
    "\n",
    "preprocessor = SimplePreprocessor()"
   ]
  },
  {
   "cell_type": "markdown",
   "metadata": {},
   "source": [
    "# Dataset augmenting"
   ]
  },
  {
   "cell_type": "code",
   "execution_count": 6,
   "metadata": {},
   "outputs": [],
   "source": [
    "import nlpaug.augmenter.word as naw\n",
    "\n",
    "aug_syn = naw.SynonymAug(aug_src='wordnet', aug_min=1, aug_max=1)"
   ]
  },
  {
   "cell_type": "code",
   "execution_count": 7,
   "metadata": {},
   "outputs": [],
   "source": [
    "from src.augmenting.augmenting import Augmenter\n",
    "\n",
    "augmenter = Augmenter(aug_syn)"
   ]
  },
  {
   "cell_type": "markdown",
   "metadata": {},
   "source": [
    "# Dataset convertor"
   ]
  },
  {
   "cell_type": "code",
   "execution_count": 8,
   "metadata": {},
   "outputs": [],
   "source": [
    "from src.text2seq.convertor import Text2SeqConvertor\n",
    "\n",
    "convertor = Text2SeqConvertor()"
   ]
  },
  {
   "cell_type": "markdown",
   "metadata": {},
   "source": [
    "# Model"
   ]
  },
  {
   "cell_type": "markdown",
   "metadata": {},
   "source": [
    "Model can be imported from **src/models_full_joke/** or a new one can be written right here"
   ]
  },
  {
   "cell_type": "code",
   "execution_count": 9,
   "metadata": {},
   "outputs": [],
   "source": [
    "# from src.models_full_joke.CNN_simple import CNNSimple"
   ]
  },
  {
   "cell_type": "code",
   "execution_count": 38,
   "metadata": {},
   "outputs": [],
   "source": [
    "import torch.nn as nn\n",
    "import src.schema as S\n",
    "\n",
    "class AttentivePooling(nn.Module):\n",
    "    def __init__(self, dim=-1, input_size=64, hidden_size=128):\n",
    "        super(self.__class__, self).__init__()\n",
    "        self.dim = dim\n",
    "        self.input_size = input_size\n",
    "        self.hidden_size = hidden_size\n",
    "        self.nn_attn = nn.Sequential(\n",
    "            nn.Linear(input_size, hidden_size),\n",
    "            nn.ReLU(),\n",
    "            nn.Linear(hidden_size, 1)\n",
    "        )\n",
    "        \n",
    "    def forward(self, x):\n",
    "        return (x * torch.transpose(self.nn_attn(torch.transpose(x, 2, 1)), 1, 2).softmax(dim=self.dim)).sum(dim=self.dim)\n",
    "    \n",
    "\n",
    "\n",
    "class JokeRankPredictor(nn.Module):\n",
    "    def __init__(self, n_tokens, hid_size=64):\n",
    "        super().__init__()\n",
    "        self.embedder = nn.Embedding(n_tokens, hid_size)\n",
    "\n",
    "        self.joke_encoder = nn.Sequential(\n",
    "          nn.Conv1d(hid_size, hid_size*2, kernel_size=2),\n",
    "          nn.Tanh(),\n",
    "          nn.Conv1d(hid_size*2, hid_size*2, kernel_size=3),\n",
    "          nn.LeakyReLU(),\n",
    "          nn.Conv1d(hid_size*2, hid_size, kernel_size=5),\n",
    "          nn.LeakyReLU(),\n",
    "          nn.MaxPool1d(2),\n",
    "\n",
    "          nn.Dropout(p=0.25),\n",
    "          nn.LeakyReLU(),\n",
    "          AttentivePooling(input_size=hid_size)\n",
    "       )\n",
    "      \n",
    "        self.final_predictor = nn.Sequential(\n",
    "            nn.Linear(hid_size, hid_size),\n",
    "            nn.BatchNorm1d(hid_size),\n",
    "            nn.ReLU(),\n",
    "            nn.Linear(hid_size, 5),\n",
    "            nn.Softmax(dim=-1)\n",
    "        )\n",
    "        \n",
    "    def forward(self, batch):\n",
    "        joke_embeddings = self.embedder(batch[S.JOKE]).permute(0, 2, 1)\n",
    "        joke_features = self.joke_encoder(joke_embeddings).squeeze()\n",
    "\n",
    "        return self.final_predictor(joke_features).squeeze()"
   ]
  },
  {
   "cell_type": "markdown",
   "metadata": {},
   "source": [
    "# Pipeline"
   ]
  },
  {
   "cell_type": "code",
   "execution_count": 39,
   "metadata": {},
   "outputs": [],
   "source": [
    "from src.pipeline.pipeline import Pipeline\n",
    "\n",
    "pipeline = Pipeline(\n",
    "                 preprocessor = preprocessor,\n",
    "                 augmenter = None, # augmenter\n",
    "                 convertor = convertor,\n",
    "                 model = JokeRankPredictor, \n",
    "                 splitting_params = {'test_size': 0.2,\n",
    "                                     'shuffle': True},\n",
    "                 )\n"
   ]
  },
  {
   "cell_type": "code",
   "execution_count": 40,
   "metadata": {},
   "outputs": [
    {
     "name": "stdout",
     "output_type": "stream",
     "text": [
      "DEBUG:pipeline-log:Starting preprocessing\n",
      "DEBUG:pipeline-log:Splitting dataset on train, val and test\n",
      "DEBUG:pipeline-log:Make vocabulary\n",
      "DEBUG:pipeline-log:Split data to train/val/test after making vocabulary\n",
      "Wall time: 2min 35s\n"
     ]
    }
   ],
   "source": [
    " %%time\n",
    "train_df, val_df, test_df = pipeline.prepare_data(df)"
   ]
  },
  {
   "cell_type": "code",
   "execution_count": 41,
   "metadata": {
    "scrolled": true
   },
   "outputs": [
    {
     "data": {
      "text/plain": [
       "((121635, 2), (30409, 2), (38012, 2))"
      ]
     },
     "execution_count": 41,
     "metadata": {},
     "output_type": "execute_result"
    }
   ],
   "source": [
    "train_df.shape, val_df.shape ,test_df.shape"
   ]
  },
  {
   "cell_type": "markdown",
   "metadata": {
    "pycharm": {
     "name": "#%% md\n"
    }
   },
   "source": [
    "# Train"
   ]
  },
  {
   "cell_type": "code",
   "execution_count": 33,
   "metadata": {},
   "outputs": [],
   "source": [
    "learning_rate = 1e-3\n",
    "criterion = nn.CrossEntropyLoss()\n",
    "optimizer = torch.optim.Adam"
   ]
  },
  {
   "cell_type": "code",
   "execution_count": 34,
   "metadata": {},
   "outputs": [
    {
     "name": "stdout",
     "output_type": "stream",
     "text": [
      "INFO:pipeline-log:Training model\n",
      "INFO:pipeline-log:*** <class '__main__.JokeRankPredictor'>\n",
      "Epoch 0\n"
     ]
    },
    {
     "data": {
      "application/vnd.jupyter.widget-view+json": {
       "model_id": "777c73c732f247b2bc4c14077747e2c1",
       "version_major": 2,
       "version_minor": 0
      },
      "text/plain": [
       "  0%|          | 0/950 [00:00<?, ?it/s]"
      ]
     },
     "metadata": {},
     "output_type": "display_data"
    },
    {
     "name": "stdout",
     "output_type": "stream",
     "text": [
      "Iteration: 99  Loss: 1.54897141456604  Accuracy: 34.522674560546875 %\n",
      "Saving model and optimizer state at iteration 99 to ../checkpoints/cnn_simple_best_checkpoint\n",
      "Iteration: 199  Loss: 1.540403962135315  Accuracy: 34.59830856323242 %\n",
      "Saving model and optimizer state at iteration 199 to ../checkpoints/cnn_simple_best_checkpoint\n",
      "Iteration: 299  Loss: 1.5693751573562622  Accuracy: 34.39113235473633 %\n",
      "Iteration: 399  Loss: 1.5419002771377563  Accuracy: 34.57200241088867 %\n",
      "Iteration: 499  Loss: 1.5161800384521484  Accuracy: 34.81534957885742 %\n",
      "Saving model and optimizer state at iteration 499 to ../checkpoints/cnn_simple_best_checkpoint\n",
      "Iteration: 599  Loss: 1.5337295532226562  Accuracy: 34.226707458496094 %\n",
      "Iteration: 699  Loss: 1.5515328645706177  Accuracy: 34.588443756103516 %\n",
      "Iteration: 799  Loss: 1.531928539276123  Accuracy: 34.68052291870117 %\n",
      "Iteration: 899  Loss: 1.5106033086776733  Accuracy: 34.68052291870117 %\n",
      "Epoch 1\n"
     ]
    },
    {
     "data": {
      "application/vnd.jupyter.widget-view+json": {
       "model_id": "1e12eeb819e04a40a82dd655840b4fb6",
       "version_major": 2,
       "version_minor": 0
      },
      "text/plain": [
       "  0%|          | 0/950 [00:00<?, ?it/s]"
      ]
     },
     "metadata": {},
     "output_type": "display_data"
    },
    {
     "name": "stdout",
     "output_type": "stream",
     "text": [
      "Iteration: 999  Loss: 1.5558781623840332  Accuracy: 34.871253967285156 %\n",
      "Saving model and optimizer state at iteration 999 to ../checkpoints/cnn_simple_best_checkpoint\n",
      "Iteration: 1099  Loss: 1.5342732667922974  Accuracy: 34.562137603759766 %\n",
      "Iteration: 1199  Loss: 1.5475599765777588  Accuracy: 34.743003845214844 %\n",
      "Iteration: 1299  Loss: 1.595454454421997  Accuracy: 35.00608444213867 %\n",
      "Saving model and optimizer state at iteration 1299 to ../checkpoints/cnn_simple_best_checkpoint\n",
      "Iteration: 1399  Loss: 1.5236021280288696  Accuracy: 33.92745590209961 %\n",
      "Iteration: 1499  Loss: 1.5760031938552856  Accuracy: 34.95018005371094 %\n",
      "Iteration: 1599  Loss: 1.5552538633346558  Accuracy: 34.844947814941406 %\n",
      "Iteration: 1699  Loss: 1.5580495595932007  Accuracy: 34.996219635009766 %\n",
      "Iteration: 1799  Loss: 1.5208584070205688  Accuracy: 30.319971084594727 %\n",
      "Iteration: 1899  Loss: 1.5480163097381592  Accuracy: 34.86796569824219 %\n",
      "Epoch 2\n"
     ]
    },
    {
     "data": {
      "application/vnd.jupyter.widget-view+json": {
       "model_id": "4051c5d24b2446a19a07c5204bf65c63",
       "version_major": 2,
       "version_minor": 0
      },
      "text/plain": [
       "  0%|          | 0/950 [00:00<?, ?it/s]"
      ]
     },
     "metadata": {},
     "output_type": "display_data"
    },
    {
     "name": "stdout",
     "output_type": "stream",
     "text": [
      "Iteration: 1999  Loss: 1.5462796688079834  Accuracy: 35.03239059448242 %\n",
      "Saving model and optimizer state at iteration 1999 to ../checkpoints/cnn_simple_best_checkpoint\n",
      "Iteration: 2099  Loss: 1.5182158946990967  Accuracy: 35.170509338378906 %\n",
      "Saving model and optimizer state at iteration 2099 to ../checkpoints/cnn_simple_best_checkpoint\n",
      "Iteration: 2199  Loss: 1.5527266263961792  Accuracy: 35.15077590942383 %\n",
      "Iteration: 2299  Loss: 1.5139997005462646  Accuracy: 33.73343276977539 %\n",
      "Iteration: 2399  Loss: 1.5527645349502563  Accuracy: 35.091583251953125 %\n",
      "Iteration: 2499  Loss: 1.4649230241775513  Accuracy: 32.57588195800781 %\n",
      "Iteration: 2599  Loss: 1.5857337713241577  Accuracy: 35.03896713256836 %\n",
      "Iteration: 2699  Loss: 1.5322682857513428  Accuracy: 35.170509338378906 %\n",
      "Iteration: 2799  Loss: 1.546547293663025  Accuracy: 35.05541229248047 %\n",
      "Epoch 3\n"
     ]
    },
    {
     "data": {
      "application/vnd.jupyter.widget-view+json": {
       "model_id": "c47dce28cc8740028dcf706f6ff6a102",
       "version_major": 2,
       "version_minor": 0
      },
      "text/plain": [
       "  0%|          | 0/950 [00:00<?, ?it/s]"
      ]
     },
     "metadata": {},
     "output_type": "display_data"
    },
    {
     "name": "stdout",
     "output_type": "stream",
     "text": [
      "Iteration: 2899  Loss: 1.5656344890594482  Accuracy: 33.74658966064453 %\n",
      "Iteration: 2999  Loss: 1.5592628717422485  Accuracy: 34.32207489013672 %\n",
      "Iteration: 3099  Loss: 1.519184947013855  Accuracy: 33.894569396972656 %\n",
      "Iteration: 3199  Loss: 1.5435174703598022  Accuracy: 34.848236083984375 %\n",
      "Iteration: 3299  Loss: 1.5756170749664307  Accuracy: 33.871551513671875 %\n",
      "Iteration: 3399  Loss: 1.5948196649551392  Accuracy: 35.01266098022461 %\n",
      "Iteration: 3499  Loss: 1.5098309516906738  Accuracy: 33.351966857910156 %\n",
      "Iteration: 3599  Loss: 1.5796667337417603  Accuracy: 34.57529067993164 %\n",
      "Iteration: 3699  Loss: 1.5317972898483276  Accuracy: 34.239864349365234 %\n",
      "Iteration: 3799  Loss: 1.5035734176635742  Accuracy: 34.09516906738281 %\n",
      "Epoch 4\n"
     ]
    },
    {
     "data": {
      "application/vnd.jupyter.widget-view+json": {
       "model_id": "70ad411e99d04361ac49c96e879a4318",
       "version_major": 2,
       "version_minor": 0
      },
      "text/plain": [
       "  0%|          | 0/950 [00:00<?, ?it/s]"
      ]
     },
     "metadata": {},
     "output_type": "display_data"
    },
    {
     "name": "stdout",
     "output_type": "stream",
     "text": [
      "Iteration: 3899  Loss: 1.53766930103302  Accuracy: 33.9669189453125 %\n",
      "Iteration: 3999  Loss: 1.5337724685668945  Accuracy: 33.177677154541016 %\n",
      "Iteration: 4099  Loss: 1.5087864398956299  Accuracy: 33.9669189453125 %\n",
      "Iteration: 4199  Loss: 1.5094332695007324  Accuracy: 35.30204772949219 %\n",
      "Saving model and optimizer state at iteration 4199 to ../checkpoints/cnn_simple_best_checkpoint\n",
      "Iteration: 4299  Loss: 1.4968342781066895  Accuracy: 34.0261116027832 %\n",
      "Iteration: 4399  Loss: 1.4934910535812378  Accuracy: 33.74658966064453 %\n",
      "Iteration: 4499  Loss: 1.5265172719955444  Accuracy: 35.04883575439453 %\n",
      "Iteration: 4599  Loss: 1.5041130781173706  Accuracy: 34.43388366699219 %\n",
      "Iteration: 4699  Loss: 1.462034821510315  Accuracy: 33.77289581298828 %\n"
     ]
    }
   ],
   "source": [
    "iteration_list, loss_list, accuracy_list = pipeline.train_model(learning_rate,\n",
    "                                                               criterion,\n",
    "                                                               optimizer,\n",
    "                                                               train_df,\n",
    "                                                               val_df,\n",
    "                                                               epochs=5,\n",
    "                                                               checkpoint_path='../checkpoints/cnn_simple_best_checkpoint')"
   ]
  },
  {
   "cell_type": "code",
   "execution_count": 35,
   "metadata": {},
   "outputs": [
    {
     "data": {
      "image/png": "[encoded data removed]",
      "text/plain": [
       "<Figure size 432x288 with 1 Axes>"
      ]
     },
     "metadata": {
      "needs_background": "light"
     },
     "output_type": "display_data"
    },
    {
     "data": {
      "image/png": "[encoded data removed]",
      "text/plain": [
       "<Figure size 432x288 with 1 Axes>"
      ]
     },
     "metadata": {
      "needs_background": "light"
     },
     "output_type": "display_data"
    }
   ],
   "source": [
    "pipeline.draw_curves(iteration_list, loss_list, accuracy_list)"
   ]
  },
  {
   "cell_type": "markdown",
   "metadata": {},
   "source": [
    "# Predict"
   ]
  },
  {
   "cell_type": "code",
   "execution_count": 36,
   "metadata": {},
   "outputs": [
    {
     "name": "stdout",
     "output_type": "stream",
     "text": [
      "INFO:pipeline-log:Starting prediction\n",
      "Loading checkpoint '../checkpoints/cnn_simple_best_checkpoint'\n",
      "Loaded checkpoint '../checkpoints/cnn_simple_best_checkpoint' from iteration 4199\n"
     ]
    }
   ],
   "source": [
    "pred = pipeline.predict(test_df, checkpoint_path='../checkpoints/cnn_simple_best_checkpoint')"
   ]
  },
  {
   "cell_type": "code",
   "execution_count": 37,
   "metadata": {},
   "outputs": [
    {
     "data": {
      "image/png": "[encoded data removed]",
      "text/plain": [
       "<Figure size 576x432 with 2 Axes>"
      ]
     },
     "metadata": {
      "needs_background": "light"
     },
     "output_type": "display_data"
    },
    {
     "name": "stdout",
     "output_type": "stream",
     "text": [
      "Accuracy: 0.35294 \n",
      "Balanced accuracy: 0.25989 \n",
      "Multiclass f1-score: \n",
      "    micro: 0.35294 \n",
      "    macro: 0.21613 \n",
      "    weighted: 0.27409\n",
      "\n",
      "\n",
      "Classification report:\n",
      "\n",
      "              precision    recall  f1-score   support\n",
      "\n",
      "           0    0.37213   0.80260   0.50850     12062\n",
      "           1    0.00000   0.00000   0.00000      3771\n",
      "           2    0.21724   0.06805   0.10364      7112\n",
      "           3    0.21747   0.06807   0.10368      7463\n",
      "           4    0.36903   0.36073   0.36483      7604\n",
      "\n",
      "    accuracy                        0.35294     38012\n",
      "   macro avg    0.23517   0.25989   0.21613     38012\n",
      "weighted avg    0.27525   0.35294   0.27409     38012\n",
      "\n"
     ]
    }
   ],
   "source": [
    "pipeline.get_scores(test_df[S.TARGET].values, pred)"
   ]
  },
  {
   "cell_type": "code",
   "execution_count": null,
   "metadata": {},
   "outputs": [],
   "source": []
  }
 ],
 "metadata": {
  "kernelspec": {
   "display_name": "envname",
   "language": "python",
   "name": "envname"
  },
  "language_info": {
   "codemirror_mode": {
    "name": "ipython",
    "version": 3
   },
   "file_extension": ".py",
   "mimetype": "text/x-python",
   "name": "python",
   "nbconvert_exporter": "python",
   "pygments_lexer": "ipython3",
   "version": "3.8.10"
  }
 },
 "nbformat": 4,
 "nbformat_minor": 1
}
