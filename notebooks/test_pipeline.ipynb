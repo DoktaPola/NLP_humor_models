{
 "cells": [
  {
   "cell_type": "markdown",
   "metadata": {
    "collapsed": true
   },
   "source": [
    "# Imports"
   ]
  },
  {
   "cell_type": "code",
   "execution_count": 1,
   "metadata": {},
   "outputs": [],
   "source": [
    "import pandas as pd\n",
    "import numpy as np\n",
    "import json\n",
    "import torch\n",
    "import torch.nn as nn\n",
    "import sys\n",
    "sys.path.insert(0,'../../')\n",
    "\n",
    "import warnings\n",
    "warnings.filterwarnings('ignore')\n",
    "\n",
    "%load_ext autoreload\n",
    "%autoreload 2"
   ]
  },
  {
   "cell_type": "code",
   "execution_count": 2,
   "metadata": {},
   "outputs": [],
   "source": [
    "import logging\n",
    "import sys\n",
    "\n",
    "logging.basicConfig(stream=sys.stdout, level=logging.INFO)"
   ]
  },
  {
   "cell_type": "code",
   "execution_count": 3,
   "metadata": {},
   "outputs": [],
   "source": [
    "#save a slice\n",
    "filename = 'jokes_dataset.csv'\n",
    "raw_df = pd.read_csv('../data/'+filename, sep=',',\n",
    "                encoding='utf-8').set_index('id')\n",
    "\n",
    "# work with copy\n",
    "df = raw_df.copy(deep=True)"
   ]
  },
  {
   "cell_type": "markdown",
   "metadata": {},
   "source": [
    "# Preprocessing"
   ]
  },
  {
   "cell_type": "code",
   "execution_count": 4,
   "metadata": {},
   "outputs": [],
   "source": [
    "from src import schema as S\n",
    "from src.preprocessing.preprocessing import SimplePreprocessor\n",
    "from bs4 import BeautifulSoup\n",
    "\n",
    "preprocessor = SimplePreprocessor()"
   ]
  },
  {
   "cell_type": "markdown",
   "metadata": {},
   "source": [
    "# Dataset augmenting"
   ]
  },
  {
   "cell_type": "code",
   "execution_count": 5,
   "metadata": {},
   "outputs": [],
   "source": [
    "import nlpaug.augmenter.word as naw\n",
    "\n",
    "aug_syn = naw.SynonymAug(aug_src='wordnet', aug_min=1, aug_max=1)"
   ]
  },
  {
   "cell_type": "code",
   "execution_count": 6,
   "metadata": {},
   "outputs": [],
   "source": [
    "from src.augmenting.augmenting import Augmenter\n",
    "\n",
    "augmenter = Augmenter(aug_syn)"
   ]
  },
  {
   "cell_type": "markdown",
   "metadata": {},
   "source": [
    "# Dataset convertor"
   ]
  },
  {
   "cell_type": "code",
   "execution_count": 7,
   "metadata": {},
   "outputs": [],
   "source": [
    "from src.text2seq.convertor import Text2SeqConvertor\n",
    "\n",
    "convertor = Text2SeqConvertor()"
   ]
  },
  {
   "cell_type": "markdown",
   "metadata": {},
   "source": [
    "# Model"
   ]
  },
  {
   "cell_type": "code",
   "execution_count": 8,
   "metadata": {},
   "outputs": [],
   "source": [
    "# from src.models.CNN_simple import JokeRankPredictor\n",
    "\n",
    "# JokeRankPredictor"
   ]
  },
  {
   "cell_type": "markdown",
   "metadata": {},
   "source": [
    "# Pipline"
   ]
  },
  {
   "cell_type": "code",
   "execution_count": 9,
   "metadata": {},
   "outputs": [],
   "source": [
    "from src.pipeline.pipeline import Pipeline\n",
    "\n",
    "pipeline = Pipeline(\n",
    "                 preprocessor = preprocessor,\n",
    "                 augmenter = augmenter,   ###############################\n",
    "                 convertor = convertor,\n",
    "                 model_name = 'JokeRankPredictor', \n",
    "                 splitting_params = {'test_size': 0.2,\n",
    "                                     'shuffle': True},\n",
    "                 )\n"
   ]
  },
  {
   "cell_type": "code",
   "execution_count": 10,
   "metadata": {},
   "outputs": [
    {
     "name": "stdout",
     "output_type": "stream",
     "text": [
      "DEBUG:pipeline-log:Starting preprocessing\n",
      "INFO:numexpr.utils:NumExpr defaulting to 8 threads.\n",
      "DEBUG:pipeline-log:Splitting dataset on train, val and test\n",
      "DEBUG:pipeline-log:Augment text for train\n",
      "DEBUG:pipeline-log:Make vocabulary\n",
      "DEBUG:pipeline-log:Split data to train/val/test after making vocabulary\n",
      "Wall time: 9min 45s\n"
     ]
    }
   ],
   "source": [
    " %%time\n",
    "train_df, val_df, test_df = pipeline.prepare_data(df)"
   ]
  },
  {
   "cell_type": "code",
   "execution_count": 11,
   "metadata": {
    "scrolled": true
   },
   "outputs": [
    {
     "data": {
      "text/plain": [
       "((243270, 3), (30409, 3), (38012, 3))"
      ]
     },
     "execution_count": 11,
     "metadata": {},
     "output_type": "execute_result"
    }
   ],
   "source": [
    "train_df.shape, val_df.shape ,test_df.shape"
   ]
  },
  {
   "cell_type": "markdown",
   "metadata": {
    "pycharm": {
     "name": "#%% md\n"
    }
   },
   "source": [
    "# Train"
   ]
  },
  {
   "cell_type": "code",
   "execution_count": 13,
   "metadata": {},
   "outputs": [],
   "source": [
    "learning_rate = 1e-3\n",
    "criterion = nn.CrossEntropyLoss()\n",
    "optimizer = torch.optim.Adam"
   ]
  },
  {
   "cell_type": "code",
   "execution_count": 14,
   "metadata": {},
   "outputs": [
    {
     "name": "stdout",
     "output_type": "stream",
     "text": [
      "INFO:pipeline-log:Fitting model\n",
      "Epoch 0\n"
     ]
    },
    {
     "data": {
      "application/vnd.jupyter.widget-view+json": {
       "model_id": "79d23b7c2e214e3f9974fbc5157ba7c6",
       "version_major": 2,
       "version_minor": 0
      },
      "text/plain": [
       "  0%|          | 0/1900 [00:00<?, ?it/s]"
      ]
     },
     "metadata": {},
     "output_type": "display_data"
    },
    {
     "name": "stdout",
     "output_type": "stream",
     "text": [
      "Iteration: 99  Loss: 1.6019805669784546  Accuracy: 31.49725341796875 %\n",
      "Saving model and optimizer state at iteration 99 to ../checkpoints/cnn_simple_best_checkpoint\n",
      "Iteration: 199  Loss: 1.5758213996887207  Accuracy: 32.33582305908203 %\n",
      "Saving model and optimizer state at iteration 199 to ../checkpoints/cnn_simple_best_checkpoint\n",
      "Iteration: 299  Loss: 1.5667272806167603  Accuracy: 32.55944061279297 %\n",
      "Saving model and optimizer state at iteration 299 to ../checkpoints/cnn_simple_best_checkpoint\n",
      "Iteration: 399  Loss: 1.5566056966781616  Accuracy: 32.569305419921875 %\n",
      "Saving model and optimizer state at iteration 399 to ../checkpoints/cnn_simple_best_checkpoint\n",
      "Iteration: 499  Loss: 1.5303009748458862  Accuracy: 32.76990509033203 %\n",
      "Saving model and optimizer state at iteration 499 to ../checkpoints/cnn_simple_best_checkpoint\n",
      "Iteration: 599  Loss: 1.5592814683914185  Accuracy: 33.40787124633789 %\n",
      "Saving model and optimizer state at iteration 599 to ../checkpoints/cnn_simple_best_checkpoint\n",
      "Iteration: 699  Loss: 1.5435845851898193  Accuracy: 32.83567428588867 %\n",
      "Iteration: 799  Loss: 1.5175577402114868  Accuracy: 33.06258010864258 %\n",
      "Iteration: 899  Loss: 1.5445256233215332  Accuracy: 32.44105529785156 %\n",
      "Iteration: 999  Loss: 1.4857549667358398  Accuracy: 33.069156646728516 %\n",
      "Iteration: 1099  Loss: 1.5152614116668701  Accuracy: 32.8323860168457 %\n",
      "Iteration: 1199  Loss: 1.5397239923477173  Accuracy: 32.62192153930664 %\n",
      "Iteration: 1299  Loss: 1.5932122468948364  Accuracy: 32.57917022705078 %\n",
      "Iteration: 1399  Loss: 1.5598639249801636  Accuracy: 32.38515090942383 %\n",
      "Iteration: 1499  Loss: 1.5580010414123535  Accuracy: 32.98365783691406 %\n",
      "Iteration: 1599  Loss: 1.5285159349441528  Accuracy: 32.937618255615234 %\n",
      "Iteration: 1699  Loss: 1.526906132698059  Accuracy: 32.595611572265625 %\n",
      "Iteration: 1799  Loss: 1.52011239528656  Accuracy: 32.66796112060547 %\n",
      "Iteration: 1899  Loss: 1.544611930847168  Accuracy: 33.00996398925781 %\n",
      "Epoch 1\n"
     ]
    },
    {
     "data": {
      "application/vnd.jupyter.widget-view+json": {
       "model_id": "6b9d7ca2b39e48bcbaf4c6023deb4a6e",
       "version_major": 2,
       "version_minor": 0
      },
      "text/plain": [
       "  0%|          | 0/1900 [00:00<?, ?it/s]"
      ]
     },
     "metadata": {},
     "output_type": "display_data"
    },
    {
     "name": "stdout",
     "output_type": "stream",
     "text": [
      "Iteration: 1999  Loss: 1.5510821342468262  Accuracy: 33.08559799194336 %\n",
      "Iteration: 2099  Loss: 1.529674768447876  Accuracy: 32.98365783691406 %\n",
      "Iteration: 2199  Loss: 1.5850231647491455  Accuracy: 32.592323303222656 %\n",
      "Iteration: 2299  Loss: 1.4959716796875  Accuracy: 32.6646728515625 %\n",
      "Iteration: 2399  Loss: 1.534298062324524  Accuracy: 33.18754196166992 %\n",
      "Iteration: 2499  Loss: 1.555878758430481  Accuracy: 32.53313064575195 %\n",
      "Iteration: 2599  Loss: 1.5760353803634644  Accuracy: 32.69097900390625 %\n",
      "Iteration: 2699  Loss: 1.566107153892517  Accuracy: 33.19083023071289 %\n",
      "Iteration: 2799  Loss: 1.5209163427352905  Accuracy: 33.18754196166992 %\n",
      "Iteration: 2899  Loss: 1.5269858837127686  Accuracy: 33.14479446411133 %\n",
      "Iteration: 2999  Loss: 1.5158004760742188  Accuracy: 32.7238655090332 %\n",
      "Iteration: 3099  Loss: 1.546591877937317  Accuracy: 33.138214111328125 %\n",
      "Iteration: 3199  Loss: 1.5371711254119873  Accuracy: 32.921173095703125 %\n",
      "Iteration: 3299  Loss: 1.503673791885376  Accuracy: 32.90144348144531 %\n",
      "Iteration: 3399  Loss: 1.5170091390609741  Accuracy: 32.31608963012695 %\n",
      "Iteration: 3499  Loss: 1.5493513345718384  Accuracy: 32.894866943359375 %\n",
      "Iteration: 3599  Loss: 1.591503381729126  Accuracy: 32.598899841308594 %\n",
      "Iteration: 3699  Loss: 1.522458791732788  Accuracy: 32.612056732177734 %\n",
      "Iteration: 3799  Loss: 1.5428528785705566  Accuracy: 32.85869216918945 %\n",
      "Epoch 2\n"
     ]
    },
    {
     "data": {
      "application/vnd.jupyter.widget-view+json": {
       "model_id": "55a270561c724d089fdf1644ae855337",
       "version_major": 2,
       "version_minor": 0
      },
      "text/plain": [
       "  0%|          | 0/1900 [00:00<?, ?it/s]"
      ]
     },
     "metadata": {},
     "output_type": "display_data"
    },
    {
     "name": "stdout",
     "output_type": "stream",
     "text": [
      "Iteration: 3899  Loss: 1.5706671476364136  Accuracy: 32.9409065246582 %\n",
      "Iteration: 3999  Loss: 1.52548086643219  Accuracy: 32.51668930053711 %\n",
      "Iteration: 4099  Loss: 1.5851032733917236  Accuracy: 32.75674819946289 %\n",
      "Iteration: 4199  Loss: 1.5645406246185303  Accuracy: 33.17110061645508 %\n",
      "Iteration: 4299  Loss: 1.5202101469039917  Accuracy: 33.115196228027344 %\n",
      "Iteration: 4399  Loss: 1.5078099966049194  Accuracy: 33.220428466796875 %\n",
      "Iteration: 4499  Loss: 1.5171246528625488  Accuracy: 32.825809478759766 %\n",
      "Iteration: 4599  Loss: 1.5205732583999634  Accuracy: 33.072444915771484 %\n",
      "Iteration: 4699  Loss: 1.5507105588912964  Accuracy: 33.31250762939453 %\n",
      "Iteration: 4799  Loss: 1.5418040752410889  Accuracy: 33.046138763427734 %\n",
      "Iteration: 4899  Loss: 1.5637669563293457  Accuracy: 32.84225082397461 %\n",
      "Iteration: 4999  Loss: 1.4874184131622314  Accuracy: 32.4476318359375 %\n",
      "Iteration: 5099  Loss: 1.563403844833374  Accuracy: 32.95734786987305 %\n",
      "Iteration: 5199  Loss: 1.4977786540985107  Accuracy: 32.86198043823242 %\n",
      "Iteration: 5299  Loss: 1.60475754737854  Accuracy: 32.63178634643555 %\n",
      "Iteration: 5399  Loss: 1.4952061176300049  Accuracy: 32.569305419921875 %\n",
      "Iteration: 5499  Loss: 1.4975510835647583  Accuracy: 32.90144348144531 %\n",
      "Iteration: 5599  Loss: 1.4695390462875366  Accuracy: 33.44733428955078 %\n",
      "Saving model and optimizer state at iteration 5599 to ../checkpoints/cnn_simple_best_checkpoint\n",
      "Iteration: 5699  Loss: 1.524680733680725  Accuracy: 32.825809478759766 %\n",
      "Epoch 3\n"
     ]
    },
    {
     "data": {
      "application/vnd.jupyter.widget-view+json": {
       "model_id": "f6c51732a00d410e8a9f5dcec94986a8",
       "version_major": 2,
       "version_minor": 0
      },
      "text/plain": [
       "  0%|          | 0/1900 [00:00<?, ?it/s]"
      ]
     },
     "metadata": {},
     "output_type": "display_data"
    },
    {
     "name": "stdout",
     "output_type": "stream",
     "text": [
      "Iteration: 5799  Loss: 1.531663179397583  Accuracy: 32.76003646850586 %\n",
      "Iteration: 5899  Loss: 1.517944574356079  Accuracy: 33.180965423583984 %\n",
      "Iteration: 5999  Loss: 1.593370795249939  Accuracy: 33.0494270324707 %\n",
      "Iteration: 6099  Loss: 1.561374545097351  Accuracy: 33.154659271240234 %\n",
      "Iteration: 6199  Loss: 1.561737298965454  Accuracy: 32.855403900146484 %\n",
      "Iteration: 6299  Loss: 1.5567033290863037  Accuracy: 32.64165115356445 %\n",
      "Iteration: 6399  Loss: 1.5112175941467285  Accuracy: 32.58903503417969 %\n",
      "Iteration: 6499  Loss: 1.5631791353225708  Accuracy: 32.91459655761719 %\n",
      "Iteration: 6599  Loss: 1.528849482536316  Accuracy: 33.20398712158203 %\n",
      "Iteration: 6699  Loss: 1.5869174003601074  Accuracy: 33.19740676879883 %\n",
      "Iteration: 6799  Loss: 1.5088310241699219  Accuracy: 33.358543395996094 %\n",
      "Iteration: 6899  Loss: 1.5470209121704102  Accuracy: 33.60189437866211 %\n",
      "Saving model and optimizer state at iteration 6899 to ../checkpoints/cnn_simple_best_checkpoint\n",
      "Iteration: 6999  Loss: 1.4783239364624023  Accuracy: 33.36183547973633 %\n",
      "Iteration: 7099  Loss: 1.5448888540267944  Accuracy: 33.358543395996094 %\n",
      "Iteration: 7199  Loss: 1.5730153322219849  Accuracy: 33.19411849975586 %\n",
      "Iteration: 7299  Loss: 1.4546749591827393  Accuracy: 32.98365783691406 %\n",
      "Iteration: 7399  Loss: 1.5664465427398682  Accuracy: 33.06258010864258 %\n",
      "Iteration: 7499  Loss: 1.5180269479751587  Accuracy: 33.3157958984375 %\n",
      "Iteration: 7599  Loss: 1.544297218322754  Accuracy: 33.394718170166016 %\n",
      "Epoch 4\n"
     ]
    },
    {
     "data": {
      "application/vnd.jupyter.widget-view+json": {
       "model_id": "45c855d47ca545b1a417fbc98b85900e",
       "version_major": 2,
       "version_minor": 0
      },
      "text/plain": [
       "  0%|          | 0/1900 [00:00<?, ?it/s]"
      ]
     },
     "metadata": {},
     "output_type": "display_data"
    },
    {
     "name": "stdout",
     "output_type": "stream",
     "text": [
      "Iteration: 7699  Loss: 1.5283787250518799  Accuracy: 33.13163757324219 %\n",
      "Iteration: 7799  Loss: 1.534719705581665  Accuracy: 33.30263900756836 %\n",
      "Iteration: 7899  Loss: 1.523886799812317  Accuracy: 33.27633285522461 %\n",
      "Iteration: 7999  Loss: 1.536974310874939  Accuracy: 33.506526947021484 %\n",
      "Iteration: 8099  Loss: 1.5275851488113403  Accuracy: 33.434181213378906 %\n",
      "Iteration: 8199  Loss: 1.5750665664672852  Accuracy: 33.37827682495117 %\n",
      "Iteration: 8299  Loss: 1.5581483840942383  Accuracy: 33.23358154296875 %\n",
      "Iteration: 8399  Loss: 1.5028340816497803  Accuracy: 33.29935073852539 %\n",
      "Iteration: 8499  Loss: 1.4911181926727295  Accuracy: 33.28290939331055 %\n",
      "Iteration: 8599  Loss: 1.5495879650115967  Accuracy: 33.17110061645508 %\n",
      "Iteration: 8699  Loss: 1.5238028764724731  Accuracy: 32.98036575317383 %\n",
      "Iteration: 8799  Loss: 1.4844239950180054  Accuracy: 33.111907958984375 %\n",
      "Iteration: 8899  Loss: 1.5658910274505615  Accuracy: 33.111907958984375 %\n",
      "Iteration: 8999  Loss: 1.5471289157867432  Accuracy: 33.220428466796875 %\n",
      "Iteration: 9099  Loss: 1.5782960653305054  Accuracy: 33.351966857910156 %\n",
      "Iteration: 9199  Loss: 1.5475627183914185  Accuracy: 33.32237243652344 %\n",
      "Iteration: 9299  Loss: 1.5597177743911743  Accuracy: 33.19083023071289 %\n",
      "Iteration: 9399  Loss: 1.5168237686157227  Accuracy: 33.42760467529297 %\n",
      "Iteration: 9499  Loss: 1.5381025075912476  Accuracy: 33.09217834472656 %\n"
     ]
    }
   ],
   "source": [
    "iteration_list, loss_list, accuracy_list = pipeline.train_model(learning_rate,\n",
    "                                                               criterion,\n",
    "                                                               optimizer,\n",
    "                                                               train_df,\n",
    "                                                               val_df,\n",
    "                                                               epochs=5,\n",
    "                                                               checkpoint_path='../checkpoints/cnn_simple_best_checkpoint')"
   ]
  },
  {
   "cell_type": "code",
   "execution_count": 15,
   "metadata": {},
   "outputs": [
    {
     "data": {
      "image/png": "[encoded data removed]",
      "text/plain": [
       "<Figure size 432x288 with 1 Axes>"
      ]
     },
     "metadata": {
      "needs_background": "light"
     },
     "output_type": "display_data"
    },
    {
     "data": {
      "image/png": "[encoded data removed]",
      "text/plain": [
       "<Figure size 432x288 with 1 Axes>"
      ]
     },
     "metadata": {
      "needs_background": "light"
     },
     "output_type": "display_data"
    }
   ],
   "source": [
    "pipeline.draw_curves(iteration_list, loss_list, accuracy_list)"
   ]
  },
  {
   "cell_type": "markdown",
   "metadata": {},
   "source": [
    "# Predict"
   ]
  },
  {
   "cell_type": "markdown",
   "metadata": {},
   "source": [
    "pred = pipeline.predict(test_df, checkpoint_path='../checkpoints/cnn_simple_best_checkpoint')"
   ]
  },
  {
   "cell_type": "code",
   "execution_count": 16,
   "metadata": {},
   "outputs": [
    {
     "name": "stdout",
     "output_type": "stream",
     "text": [
      "INFO:pipeline-log:Starting prediction\n",
      "Loading checkpoint '../checkpoints/cnn_simple_best_checkpoint'\n",
      "Loaded checkpoint '../checkpoints/cnn_simple_best_checkpoint' from iteration 6899\n"
     ]
    }
   ],
   "source": [
    "pred = pipeline.predict(test_df, checkpoint_path='../checkpoints/cnn_simple_best_checkpoint')"
   ]
  },
  {
   "cell_type": "code",
   "execution_count": 17,
   "metadata": {},
   "outputs": [
    {
     "data": {
      "image/png": "[encoded data removed]",
      "text/plain": [
       "<Figure size 576x432 with 2 Axes>"
      ]
     },
     "metadata": {
      "needs_background": "light"
     },
     "output_type": "display_data"
    },
    {
     "name": "stdout",
     "output_type": "stream",
     "text": [
      "Accuracy: 0.34615 \n",
      "Balanced accuracy: 0.24346 \n",
      "Multiclass f1-score: \n",
      "    micro: 0.34615 \n",
      "    macro: 0.16982 \n",
      "    weighted: 0.22819\n",
      "\n",
      "\n",
      "Classification report:\n",
      "\n",
      "              precision    recall  f1-score   support\n",
      "\n",
      "           0    0.34779   0.87539   0.49781     12062\n",
      "           1    0.00000   0.00000   0.00000      3771\n",
      "           2    0.00000   0.00000   0.00000      7112\n",
      "           3    0.20091   0.00590   0.01146      7463\n",
      "           4    0.34374   0.33601   0.33983      7604\n",
      "\n",
      "    accuracy                        0.34615     38012\n",
      "   macro avg    0.17849   0.24346   0.16982     38012\n",
      "weighted avg    0.21857   0.34615   0.22819     38012\n",
      "\n"
     ]
    }
   ],
   "source": [
    "pipeline.get_scores(test_df[S.TARGET].values, pred)"
   ]
  },
  {
   "cell_type": "code",
   "execution_count": null,
   "metadata": {},
   "outputs": [],
   "source": []
  }
 ],
 "metadata": {
  "kernelspec": {
   "display_name": "envname",
   "language": "python",
   "name": "envname"
  },
  "language_info": {
   "codemirror_mode": {
    "name": "ipython",
    "version": 3
   },
   "file_extension": ".py",
   "mimetype": "text/x-python",
   "name": "python",
   "nbconvert_exporter": "python",
   "pygments_lexer": "ipython3",
   "version": "3.8.10"
  }
 },
 "nbformat": 4,
 "nbformat_minor": 1
}