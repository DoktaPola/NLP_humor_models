{
 "cells": [
  {
   "cell_type": "markdown",
   "metadata": {
    "id": "ZPXL1bUvoRtW"
   },
   "source": [
    "# <center> **NLP analysis of jokes dataset**"
   ]
  },
  {
   "cell_type": "code",
   "execution_count": 1,
   "metadata": {
    "colab": {
     "base_uri": "https://localhost:8080/"
    },
    "id": "8lNl_mlin732",
    "outputId": "1c101be6-e33e-462c-8934-c36351f18cb9"
   },
   "outputs": [
    {
     "output_type": "stream",
     "name": "stdout",
     "text": [
      "Collecting iplot\n",
      "  Downloading iplot-0.0.0-py3-none-any.whl (1.3 kB)\n",
      "Installing collected packages: iplot\n",
      "Successfully installed iplot-0.0.0\n"
     ]
    }
   ],
   "source": [
    "!pip install iplot"
   ]
  },
  {
   "cell_type": "code",
   "execution_count": 2,
   "metadata": {
    "id": "XT-6TEfGoBmE"
   },
   "outputs": [],
   "source": [
    "import pandas as pd\n",
    "import numpy as np\n",
    "import re\n",
    "import seaborn as sns\n",
    "import matplotlib.pyplot as plt\n",
    "from matplotlib import style\n",
    "style.use('seaborn')\n",
    "%matplotlib inline\n",
    "#graphs in svg look clearer\n",
    "%config InlineBackend.figure_format = 'svg' \n",
    "import warnings\n",
    "warnings.simplefilter('ignore')\n",
    "\n",
    "from scipy.stats import norm\n",
    "\n",
    "from google.colab import drive\n",
    "import os\n",
    "import string\n",
    "\n",
    "import plotly as py\n",
    "from plotly.offline import init_notebook_mode, iplot\n",
    "from plotly.graph_objs import Contours, Histogram2dContour, Marker, Scatter\n",
    "\n",
    "from tqdm._tqdm_notebook import tqdm_notebook\n",
    "tqdm_notebook.pandas(desc='PROGRESS>>>')\n",
    "\n",
    "from google_drive_downloader import GoogleDriveDownloader as gdd\n",
    "from IPython.core.display import display, HTML\n",
    "\n",
    "from sklearn.model_selection import RepeatedStratifiedKFold, GridSearchCV, StratifiedKFold, KFold, cross_val_score, train_test_split\n",
    "from sklearn.feature_extraction.text import TfidfVectorizer\n",
    "from sklearn import metrics\n",
    "from sklearn.pipeline import make_pipeline\n",
    "from sklearn.preprocessing import label_binarize, StandardScaler\n",
    "\n",
    "from torch.optim.lr_scheduler import CosineAnnealingLR\n",
    "from tqdm import tqdm\n",
    "import gensim\n",
    "import gensim.downloader as api\n",
    "from gensim.models import Word2Vec\n",
    "\n",
    "import gensim.downloader as gensim_api\n",
    "from torch.nn.utils.rnn import pad_sequence\n",
    "\n",
    "from functools import partial\n",
    "import torch   \n",
    "# from torchtext import data    \n",
    "import torch.nn as nn\n",
    "from torch.utils.data import TensorDataset, ConcatDataset, DataLoader, random_split, Dataset\n",
    "import torch.nn.functional as F\n",
    "import torchvision.transforms as transforms\n",
    "import torchvision\n",
    "import torch.optim as optim\n",
    "\n",
    "import re\n",
    "import gc\n",
    "\n",
    "import fileinput\n",
    "import string\n",
    "import tensorflow as tf\n",
    "import zipfile\n",
    "import datetime\n",
    "import sys\n",
    "from tqdm  import tqdm\n",
    "tqdm.pandas()\n",
    "from nltk.tokenize import wordpunct_tokenize\n",
    "from nltk.corpus import stopwords\n",
    "from nltk.stem.snowball import SnowballStemmer\n",
    "from sklearn.feature_extraction.text import CountVectorizer\n",
    "from sklearn.preprocessing import LabelEncoder\n",
    "from sklearn.metrics import accuracy_score\n",
    "from sklearn.metrics import f1_score, roc_auc_score\n",
    "from sklearn.metrics import classification_report"
   ]
  },
  {
   "cell_type": "code",
   "execution_count": 3,
   "metadata": {
    "colab": {
     "base_uri": "https://localhost:8080/"
    },
    "id": "cHi3ZFMpoBu0",
    "outputId": "88078ac2-d37d-4d0b-cc25-9945bedcdff7"
   },
   "outputs": [
    {
     "output_type": "stream",
     "name": "stdout",
     "text": [
      "Mounted at /content/drive\n"
     ]
    }
   ],
   "source": [
    "drive.mount(\"/content/drive\")"
   ]
  },
  {
   "cell_type": "markdown",
   "source": [
    "# Read data: "
   ],
   "metadata": {
    "id": "CEXD_5bJYc8g"
   }
  },
  {
   "cell_type": "code",
   "source": [
    "data = pd.read_csv('/content/drive/My Drive/NLP_humor/data/jokes_dataset_MAIN_PREPROC.csv', \n",
    "                 sep=',', \n",
    "                 encoding='utf-8').set_index('id')"
   ],
   "metadata": {
    "id": "dhVW1VZaYc8h"
   },
   "execution_count": 4,
   "outputs": []
  },
  {
   "cell_type": "code",
   "source": [
    "data.head()"
   ],
   "metadata": {
    "colab": {
     "base_uri": "https://localhost:8080/",
     "height": 237
    },
    "outputId": "09c4026b-082e-4944-daf7-7a9d40c62511",
    "id": "bHjSHWN7Yc8h"
   },
   "execution_count": 5,
   "outputs": [
    {
     "output_type": "execute_result",
     "data": {
      "text/html": [
       "\n",
       "  <div id=\"df-a6f9532a-d5d5-4abd-bc03-9ff30806fea7\">\n",
       "    <div class=\"colab-df-container\">\n",
       "      <div>\n",
       "<style scoped>\n",
       "    .dataframe tbody tr th:only-of-type {\n",
       "        vertical-align: middle;\n",
       "    }\n",
       "\n",
       "    .dataframe tbody tr th {\n",
       "        vertical-align: top;\n",
       "    }\n",
       "\n",
       "    .dataframe thead th {\n",
       "        text-align: right;\n",
       "    }\n",
       "</style>\n",
       "<table border=\"1\" class=\"dataframe\">\n",
       "  <thead>\n",
       "    <tr style=\"text-align: right;\">\n",
       "      <th></th>\n",
       "      <th>joke</th>\n",
       "      <th>rank</th>\n",
       "    </tr>\n",
       "    <tr>\n",
       "      <th>id</th>\n",
       "      <th></th>\n",
       "      <th></th>\n",
       "    </tr>\n",
       "  </thead>\n",
       "  <tbody>\n",
       "    <tr>\n",
       "      <th>5tz52q</th>\n",
       "      <td>I hate how you cannot even say black paint any...</td>\n",
       "      <td>1</td>\n",
       "    </tr>\n",
       "    <tr>\n",
       "      <th>5tz4dd</th>\n",
       "      <td>What is the difference between a Jew in Nazi G...</td>\n",
       "      <td>0</td>\n",
       "    </tr>\n",
       "    <tr>\n",
       "      <th>5tz319</th>\n",
       "      <td>I recently went to America..... ...and being t...</td>\n",
       "      <td>0</td>\n",
       "    </tr>\n",
       "    <tr>\n",
       "      <th>5tz2wj</th>\n",
       "      <td>Brian raises his hand and says, \"He is in Heav...</td>\n",
       "      <td>1</td>\n",
       "    </tr>\n",
       "    <tr>\n",
       "      <th>5tz1pc</th>\n",
       "      <td>You hear about the University book store worke...</td>\n",
       "      <td>0</td>\n",
       "    </tr>\n",
       "  </tbody>\n",
       "</table>\n",
       "</div>\n",
       "      <button class=\"colab-df-convert\" onclick=\"convertToInteractive('df-a6f9532a-d5d5-4abd-bc03-9ff30806fea7')\"\n",
       "              title=\"Convert this dataframe to an interactive table.\"\n",
       "              style=\"display:none;\">\n",
       "        \n",
       "  <svg xmlns=\"http://www.w3.org/2000/svg\" height=\"24px\"viewBox=\"0 0 24 24\"\n",
       "       width=\"24px\">\n",
       "    <path d=\"M0 0h24v24H0V0z\" fill=\"none\"/>\n",
       "    <path d=\"M18.56 5.44l.94 2.06.94-2.06 2.06-.94-2.06-.94-.94-2.06-.94 2.06-2.06.94zm-11 1L8.5 8.5l.94-2.06 2.06-.94-2.06-.94L8.5 2.5l-.94 2.06-2.06.94zm10 10l.94 2.06.94-2.06 2.06-.94-2.06-.94-.94-2.06-.94 2.06-2.06.94z\"/><path d=\"M17.41 7.96l-1.37-1.37c-.4-.4-.92-.59-1.43-.59-.52 0-1.04.2-1.43.59L10.3 9.45l-7.72 7.72c-.78.78-.78 2.05 0 2.83L4 21.41c.39.39.9.59 1.41.59.51 0 1.02-.2 1.41-.59l7.78-7.78 2.81-2.81c.8-.78.8-2.07 0-2.86zM5.41 20L4 18.59l7.72-7.72 1.47 1.35L5.41 20z\"/>\n",
       "  </svg>\n",
       "      </button>\n",
       "      \n",
       "  <style>\n",
       "    .colab-df-container {\n",
       "      display:flex;\n",
       "      flex-wrap:wrap;\n",
       "      gap: 12px;\n",
       "    }\n",
       "\n",
       "    .colab-df-convert {\n",
       "      background-color: #E8F0FE;\n",
       "      border: none;\n",
       "      border-radius: 50%;\n",
       "      cursor: pointer;\n",
       "      display: none;\n",
       "      fill: #1967D2;\n",
       "      height: 32px;\n",
       "      padding: 0 0 0 0;\n",
       "      width: 32px;\n",
       "    }\n",
       "\n",
       "    .colab-df-convert:hover {\n",
       "      background-color: #E2EBFA;\n",
       "      box-shadow: 0px 1px 2px rgba(60, 64, 67, 0.3), 0px 1px 3px 1px rgba(60, 64, 67, 0.15);\n",
       "      fill: #174EA6;\n",
       "    }\n",
       "\n",
       "    [theme=dark] .colab-df-convert {\n",
       "      background-color: #3B4455;\n",
       "      fill: #D2E3FC;\n",
       "    }\n",
       "\n",
       "    [theme=dark] .colab-df-convert:hover {\n",
       "      background-color: #434B5C;\n",
       "      box-shadow: 0px 1px 3px 1px rgba(0, 0, 0, 0.15);\n",
       "      filter: drop-shadow(0px 1px 2px rgba(0, 0, 0, 0.3));\n",
       "      fill: #FFFFFF;\n",
       "    }\n",
       "  </style>\n",
       "\n",
       "      <script>\n",
       "        const buttonEl =\n",
       "          document.querySelector('#df-a6f9532a-d5d5-4abd-bc03-9ff30806fea7 button.colab-df-convert');\n",
       "        buttonEl.style.display =\n",
       "          google.colab.kernel.accessAllowed ? 'block' : 'none';\n",
       "\n",
       "        async function convertToInteractive(key) {\n",
       "          const element = document.querySelector('#df-a6f9532a-d5d5-4abd-bc03-9ff30806fea7');\n",
       "          const dataTable =\n",
       "            await google.colab.kernel.invokeFunction('convertToInteractive',\n",
       "                                                     [key], {});\n",
       "          if (!dataTable) return;\n",
       "\n",
       "          const docLinkHtml = 'Like what you see? Visit the ' +\n",
       "            '<a target=\"_blank\" href=https://colab.research.google.com/notebooks/data_table.ipynb>data table notebook</a>'\n",
       "            + ' to learn more about interactive tables.';\n",
       "          element.innerHTML = '';\n",
       "          dataTable['output_type'] = 'display_data';\n",
       "          await google.colab.output.renderOutput(dataTable, element);\n",
       "          const docLink = document.createElement('div');\n",
       "          docLink.innerHTML = docLinkHtml;\n",
       "          element.appendChild(docLink);\n",
       "        }\n",
       "      </script>\n",
       "    </div>\n",
       "  </div>\n",
       "  "
      ],
      "text/plain": [
       "                                                     joke  rank\n",
       "id                                                             \n",
       "5tz52q  I hate how you cannot even say black paint any...     1\n",
       "5tz4dd  What is the difference between a Jew in Nazi G...     0\n",
       "5tz319  I recently went to America..... ...and being t...     0\n",
       "5tz2wj  Brian raises his hand and says, \"He is in Heav...     1\n",
       "5tz1pc  You hear about the University book store worke...     0"
      ]
     },
     "metadata": {},
     "execution_count": 5
    }
   ]
  },
  {
   "cell_type": "code",
   "source": [
    "data.dropna(inplace=True)"
   ],
   "metadata": {
    "id": "pq8sNptVYc8i"
   },
   "execution_count": 6,
   "outputs": []
  },
  {
   "cell_type": "code",
   "source": [
    "data.isna().sum()"
   ],
   "metadata": {
    "colab": {
     "base_uri": "https://localhost:8080/"
    },
    "outputId": "ae884cac-8010-424a-a611-a3374b809d4e",
    "id": "17m6tVM5Yc8i"
   },
   "execution_count": 7,
   "outputs": [
    {
     "output_type": "execute_result",
     "data": {
      "text/plain": [
       "joke    0\n",
       "rank    0\n",
       "dtype: int64"
      ]
     },
     "metadata": {},
     "execution_count": 7
    }
   ]
  },
  {
   "cell_type": "markdown",
   "source": [
    "# VW model"
   ],
   "metadata": {
    "id": "dn5W3i8GHDzU"
   }
  },
  {
   "cell_type": "code",
   "source": [
    "!pip install vowpalwabbit"
   ],
   "metadata": {
    "colab": {
     "base_uri": "https://localhost:8080/"
    },
    "id": "QX3qL_l9Gy04",
    "outputId": "677a53cd-ca54-42f0-94c9-f540bd1193e0"
   },
   "execution_count": 9,
   "outputs": [
    {
     "output_type": "stream",
     "name": "stdout",
     "text": [
      "Collecting vowpalwabbit\n",
      "  Downloading vowpalwabbit-9.0.1-cp37-cp37m-manylinux_2_12_x86_64.manylinux2010_x86_64.whl (3.0 MB)\n",
      "\u001B[K     |████████████████████████████████| 3.0 MB 4.9 MB/s \n",
      "\u001B[?25hInstalling collected packages: vowpalwabbit\n",
      "Successfully installed vowpalwabbit-9.0.1\n"
     ]
    }
   ]
  },
  {
   "cell_type": "code",
   "source": [
    "!sudo apt-get install vowpal-wabbit"
   ],
   "metadata": {
    "colab": {
     "base_uri": "https://localhost:8080/"
    },
    "id": "FKZ9vqDwNEUk",
    "outputId": "89394d28-cf96-4722-8cec-0b914d655c31"
   },
   "execution_count": 19,
   "outputs": [
    {
     "output_type": "stream",
     "name": "stdout",
     "text": [
      "Reading package lists... Done\n",
      "Building dependency tree       \n",
      "Reading state information... Done\n",
      "The following package was automatically installed and is no longer required:\n",
      "  libnvidia-common-470\n",
      "Use 'sudo apt autoremove' to remove it.\n",
      "The following additional packages will be installed:\n",
      "  libvw0\n",
      "Suggested packages:\n",
      "  vowpal-wabbit-doc\n",
      "The following NEW packages will be installed:\n",
      "  libvw0 vowpal-wabbit\n",
      "0 upgraded, 2 newly installed, 0 to remove and 39 not upgraded.\n",
      "Need to get 797 kB of archives.\n",
      "After this operation, 3,034 kB of additional disk space will be used.\n",
      "Get:1 http://archive.ubuntu.com/ubuntu bionic/universe amd64 libvw0 amd64 8.5.0.dfsg1-1 [748 kB]\n",
      "Get:2 http://archive.ubuntu.com/ubuntu bionic/universe amd64 vowpal-wabbit amd64 8.5.0.dfsg1-1 [49.1 kB]\n",
      "Fetched 797 kB in 1s (957 kB/s)\n",
      "debconf: unable to initialize frontend: Dialog\n",
      "debconf: (No usable dialog-like program is installed, so the dialog based frontend cannot be used. at /usr/share/perl5/Debconf/FrontEnd/Dialog.pm line 76, <> line 2.)\n",
      "debconf: falling back to frontend: Readline\n",
      "debconf: unable to initialize frontend: Readline\n",
      "debconf: (This frontend requires a controlling tty.)\n",
      "debconf: falling back to frontend: Teletype\n",
      "dpkg-preconfigure: unable to re-open stdin: \n",
      "Selecting previously unselected package libvw0.\n",
      "(Reading database ... 155320 files and directories currently installed.)\n",
      "Preparing to unpack .../libvw0_8.5.0.dfsg1-1_amd64.deb ...\n",
      "Unpacking libvw0 (8.5.0.dfsg1-1) ...\n",
      "Selecting previously unselected package vowpal-wabbit.\n",
      "Preparing to unpack .../vowpal-wabbit_8.5.0.dfsg1-1_amd64.deb ...\n",
      "Unpacking vowpal-wabbit (8.5.0.dfsg1-1) ...\n",
      "Setting up libvw0 (8.5.0.dfsg1-1) ...\n",
      "Setting up vowpal-wabbit (8.5.0.dfsg1-1) ...\n",
      "Processing triggers for man-db (2.8.3-2ubuntu0.1) ...\n",
      "Processing triggers for libc-bin (2.27-3ubuntu1.3) ...\n",
      "/sbin/ldconfig.real: /usr/local/lib/python3.7/dist-packages/ideep4py/lib/libmkldnn.so.0 is not a symbolic link\n",
      "\n"
     ]
    }
   ]
  },
  {
   "cell_type": "code",
   "source": [
    "from vowpalwabbit import pyvw\n",
    "from sklearn.preprocessing import MultiLabelBinarizer"
   ],
   "metadata": {
    "id": "y_yZoR-ZGy3b"
   },
   "execution_count": 10,
   "outputs": []
  },
  {
   "cell_type": "code",
   "source": [
    "import re\n",
    "import pickle\n",
    "\n",
    "from scipy.sparse import csr_matrix\n",
    "\n",
    "from sklearn.preprocessing import LabelEncoder, OneHotEncoder\n",
    "\n",
    "from sklearn.metrics import classification_report, accuracy_score, log_loss\n",
    "from sklearn.metrics import roc_auc_score, roc_curve, confusion_matrix"
   ],
   "metadata": {
    "id": "rOeiUueUKggT"
   },
   "execution_count": 18,
   "outputs": []
  },
  {
   "cell_type": "code",
   "source": [
    "import itertools \n",
    "from sklearn.metrics import  confusion_matrix\n",
    "%config InlineBackend.figure_format = 'retina'\n",
    "\n",
    "def plot_confusion_matrix(actual, predicted, classes,\n",
    "                          normalize=False,\n",
    "                          title='Confusion matrix', figsize=(7,7),\n",
    "                          cmap=plt.cm.Blues, path_to_save_fig=None):\n",
    "    \"\"\"\n",
    "    This function prints and plots the confusion matrix.\n",
    "    Normalization can be applied by setting `normalize=True`.\n",
    "    \"\"\"\n",
    "    \n",
    "    \n",
    "    cm = confusion_matrix(actual, predicted).T\n",
    "    if normalize:\n",
    "        cm = cm.astype('float') / cm.sum(axis=1)[:, np.newaxis]\n",
    "    \n",
    "    plt.figure(figsize=figsize)\n",
    "    plt.imshow(cm, interpolation='nearest', cmap=cmap)\n",
    "    plt.title(title)\n",
    "    tick_marks = np.arange(len(classes))\n",
    "    plt.xticks(tick_marks, classes, rotation=90)\n",
    "    plt.yticks(tick_marks, classes)\n",
    "\n",
    "    fmt = '.2f' if normalize else 'd'\n",
    "    thresh = cm.max() / 2.\n",
    "    for i, j in itertools.product(range(cm.shape[0]), range(cm.shape[1])):\n",
    "        plt.text(j, i, format(cm[i, j], fmt),\n",
    "                 horizontalalignment=\"center\",\n",
    "                 color=\"white\" if cm[i, j] > thresh else \"black\")\n",
    "\n",
    "    plt.tight_layout()\n",
    "    plt.ylabel('Predicted label')\n",
    "    plt.xlabel('True label')\n",
    "    \n",
    "    if path_to_save_fig:\n",
    "        plt.savefig(path_to_save_fig, dpi=300, bbox_inches='tight')"
   ],
   "metadata": {
    "id": "9PlFnXE-VKCw"
   },
   "execution_count": null,
   "outputs": []
  },
  {
   "cell_type": "code",
   "source": [
    "df = data.copy(deep=True)"
   ],
   "metadata": {
    "id": "LkHkMRuBRE3G"
   },
   "execution_count": 44,
   "outputs": []
  },
  {
   "cell_type": "code",
   "source": [
    "PUNCT_TO_REMOVE = string.punctuation\n",
    "\n",
    "def remove_punctuation(text):\n",
    "    \"\"\"custom function to remove the punctuation\"\"\"\n",
    "    return text.translate(str.maketrans('', '', PUNCT_TO_REMOVE))"
   ],
   "metadata": {
    "id": "XpW2xap8RD9L"
   },
   "execution_count": 45,
   "outputs": []
  },
  {
   "cell_type": "code",
   "source": [
    "df['joke'] = df['joke'].apply(lambda text: remove_punctuation(text))\n",
    "df.head(1)"
   ],
   "metadata": {
    "colab": {
     "base_uri": "https://localhost:8080/",
     "height": 112
    },
    "id": "PxFSb_djKgjA",
    "outputId": "9cbc7c67-0b91-4041-d014-d41b27787699"
   },
   "execution_count": 46,
   "outputs": [
    {
     "output_type": "execute_result",
     "data": {
      "text/html": [
       "\n",
       "  <div id=\"df-f05fe6d3-33db-4db1-8131-4b2654c89bf5\">\n",
       "    <div class=\"colab-df-container\">\n",
       "      <div>\n",
       "<style scoped>\n",
       "    .dataframe tbody tr th:only-of-type {\n",
       "        vertical-align: middle;\n",
       "    }\n",
       "\n",
       "    .dataframe tbody tr th {\n",
       "        vertical-align: top;\n",
       "    }\n",
       "\n",
       "    .dataframe thead th {\n",
       "        text-align: right;\n",
       "    }\n",
       "</style>\n",
       "<table border=\"1\" class=\"dataframe\">\n",
       "  <thead>\n",
       "    <tr style=\"text-align: right;\">\n",
       "      <th></th>\n",
       "      <th>joke</th>\n",
       "      <th>rank</th>\n",
       "    </tr>\n",
       "    <tr>\n",
       "      <th>id</th>\n",
       "      <th></th>\n",
       "      <th></th>\n",
       "    </tr>\n",
       "  </thead>\n",
       "  <tbody>\n",
       "    <tr>\n",
       "      <th>5tz52q</th>\n",
       "      <td>I hate how you cannot even say black paint any...</td>\n",
       "      <td>1</td>\n",
       "    </tr>\n",
       "  </tbody>\n",
       "</table>\n",
       "</div>\n",
       "      <button class=\"colab-df-convert\" onclick=\"convertToInteractive('df-f05fe6d3-33db-4db1-8131-4b2654c89bf5')\"\n",
       "              title=\"Convert this dataframe to an interactive table.\"\n",
       "              style=\"display:none;\">\n",
       "        \n",
       "  <svg xmlns=\"http://www.w3.org/2000/svg\" height=\"24px\"viewBox=\"0 0 24 24\"\n",
       "       width=\"24px\">\n",
       "    <path d=\"M0 0h24v24H0V0z\" fill=\"none\"/>\n",
       "    <path d=\"M18.56 5.44l.94 2.06.94-2.06 2.06-.94-2.06-.94-.94-2.06-.94 2.06-2.06.94zm-11 1L8.5 8.5l.94-2.06 2.06-.94-2.06-.94L8.5 2.5l-.94 2.06-2.06.94zm10 10l.94 2.06.94-2.06 2.06-.94-2.06-.94-.94-2.06-.94 2.06-2.06.94z\"/><path d=\"M17.41 7.96l-1.37-1.37c-.4-.4-.92-.59-1.43-.59-.52 0-1.04.2-1.43.59L10.3 9.45l-7.72 7.72c-.78.78-.78 2.05 0 2.83L4 21.41c.39.39.9.59 1.41.59.51 0 1.02-.2 1.41-.59l7.78-7.78 2.81-2.81c.8-.78.8-2.07 0-2.86zM5.41 20L4 18.59l7.72-7.72 1.47 1.35L5.41 20z\"/>\n",
       "  </svg>\n",
       "      </button>\n",
       "      \n",
       "  <style>\n",
       "    .colab-df-container {\n",
       "      display:flex;\n",
       "      flex-wrap:wrap;\n",
       "      gap: 12px;\n",
       "    }\n",
       "\n",
       "    .colab-df-convert {\n",
       "      background-color: #E8F0FE;\n",
       "      border: none;\n",
       "      border-radius: 50%;\n",
       "      cursor: pointer;\n",
       "      display: none;\n",
       "      fill: #1967D2;\n",
       "      height: 32px;\n",
       "      padding: 0 0 0 0;\n",
       "      width: 32px;\n",
       "    }\n",
       "\n",
       "    .colab-df-convert:hover {\n",
       "      background-color: #E2EBFA;\n",
       "      box-shadow: 0px 1px 2px rgba(60, 64, 67, 0.3), 0px 1px 3px 1px rgba(60, 64, 67, 0.15);\n",
       "      fill: #174EA6;\n",
       "    }\n",
       "\n",
       "    [theme=dark] .colab-df-convert {\n",
       "      background-color: #3B4455;\n",
       "      fill: #D2E3FC;\n",
       "    }\n",
       "\n",
       "    [theme=dark] .colab-df-convert:hover {\n",
       "      background-color: #434B5C;\n",
       "      box-shadow: 0px 1px 3px 1px rgba(0, 0, 0, 0.15);\n",
       "      filter: drop-shadow(0px 1px 2px rgba(0, 0, 0, 0.3));\n",
       "      fill: #FFFFFF;\n",
       "    }\n",
       "  </style>\n",
       "\n",
       "      <script>\n",
       "        const buttonEl =\n",
       "          document.querySelector('#df-f05fe6d3-33db-4db1-8131-4b2654c89bf5 button.colab-df-convert');\n",
       "        buttonEl.style.display =\n",
       "          google.colab.kernel.accessAllowed ? 'block' : 'none';\n",
       "\n",
       "        async function convertToInteractive(key) {\n",
       "          const element = document.querySelector('#df-f05fe6d3-33db-4db1-8131-4b2654c89bf5');\n",
       "          const dataTable =\n",
       "            await google.colab.kernel.invokeFunction('convertToInteractive',\n",
       "                                                     [key], {});\n",
       "          if (!dataTable) return;\n",
       "\n",
       "          const docLinkHtml = 'Like what you see? Visit the ' +\n",
       "            '<a target=\"_blank\" href=https://colab.research.google.com/notebooks/data_table.ipynb>data table notebook</a>'\n",
       "            + ' to learn more about interactive tables.';\n",
       "          element.innerHTML = '';\n",
       "          dataTable['output_type'] = 'display_data';\n",
       "          await google.colab.output.renderOutput(dataTable, element);\n",
       "          const docLink = document.createElement('div');\n",
       "          docLink.innerHTML = docLinkHtml;\n",
       "          element.appendChild(docLink);\n",
       "        }\n",
       "      </script>\n",
       "    </div>\n",
       "  </div>\n",
       "  "
      ],
      "text/plain": [
       "                                                     joke  rank\n",
       "id                                                             \n",
       "5tz52q  I hate how you cannot even say black paint any...     1"
      ]
     },
     "metadata": {},
     "execution_count": 46
    }
   ]
  },
  {
   "cell_type": "code",
   "source": [
    "train_documents, test_documents, train_labels_mult, test_labels_mult = train_test_split(df['joke'],\n",
    "                                                    df['rank'].values, \n",
    "                                                    test_size=0.2, \n",
    "                                                    random_state=42)"
   ],
   "metadata": {
    "id": "uf4zWWI5HClB"
   },
   "execution_count": 48,
   "outputs": []
  },
  {
   "cell_type": "code",
   "source": [
    "def to_vw_format(document, label=None):\n",
    "    return str(label or '') + ' |text ' + ' '.join(re.findall('\\w{3,}', document.lower())) + '\\n'"
   ],
   "metadata": {
    "id": "_t0gkrPzKjDA"
   },
   "execution_count": 49,
   "outputs": []
  },
  {
   "cell_type": "code",
   "source": [
    "with open(os.path.join('jokes_train_mult.vw'), 'w') as vw_train_data:\n",
    "    for text, target in zip(train_documents, train_labels_mult):\n",
    "        vw_train_data.write(to_vw_format(text, target))\n",
    "with open(os.path.join('jokes_test_mult.vw'), 'w') as vw_test_data:\n",
    "    for text in test_documents:\n",
    "        vw_test_data.write(to_vw_format(text))"
   ],
   "metadata": {
    "id": "5m2ChRkVKjLm"
   },
   "execution_count": 50,
   "outputs": []
  },
  {
   "cell_type": "markdown",
   "source": [
    "We train Vowpal Wabbit in multiclass classification mode, passing oaa parameter(\"one against all\"), with number of classes. Also, lets see parameters we can tune and model quality can be very depended on them (more info – in the official Vowpal Wabbit tutorial):\n",
    "\n",
    "learning rate (-l, 0.5 default) – rate of weight change on every step\n",
    "learning rate decay (--power_t, 0.5 default) – it is proven by practice, that if learning rate drops along with further steps of stochastic gradient descent, we approach loss minimum better\n",
    "loss function (--loss_function) – entire training algorithm depends on it. Docs about loss functions\n",
    "Regularization (-l1) – note, that VW calculates regularization for every object, that why we usually set regularization values small, about  10−20. \n",
    "Additionally we can try automatic Vowpal Wabbit parameters tuning with Hyperopt."
   ],
   "metadata": {
    "id": "ua4l2d5UMgRs"
   }
  },
  {
   "cell_type": "code",
   "source": [
    "!head -5 jokes_train_mult.vw "
   ],
   "metadata": {
    "colab": {
     "base_uri": "https://localhost:8080/"
    },
    "id": "BoooQVLxMjs3",
    "outputId": "c9164bab-3225-488d-cdc1-46031d7e0e12"
   },
   "execution_count": 51,
   "outputs": [
    {
     "output_type": "stream",
     "name": "stdout",
     "text": [
      "1 |text not know what wrong with goldfish was fine when put its cage last night\n",
      "3 |text sex with teacher year old boy came home all happy his mum asked what did you school today hunny had sex with teacher said calmly the mother began scream and yell and sent him his room until his father got home when the father arrived home the mother said distroutly and close tears talk your sonhe had sex with his teacher today the dad with the big grin his face walked upstairs asked his son what happened school and his son told him had sex with teacher the dad said son proud you going get you that bike you wanted they out and buy the bike and then the dad asked him wanted ride home and the son replied nah dad bum still sore\n",
      "4 |text joke philosophy professor told philosophers are known have horrible jokes and this one exception just posting this for any philosophers who may may not appreciate john has date tomorrow with pretty girl from his philosophy class nervous fellow and worried about how break the ice and start conversation his dad notices his son nervous and fretting over something and asks him what the problem dad have date tomorrow and not know how break the ice well son that easy there are three things talk about that will start conversation food family and philosophy the next day john goes the ice cream parlor old joke with his date she stares her ice cream and does not look speak all john getting little nervous but remembers the ice breakers his dad taught him you like pizza the girl looks from her food and says john more nervous now says well you have brother his date once again looks and says john nervous ever struggling remember the third ice breaker his father taught him finally remembers philosophy john straightens his face and asks well you had brother would like pizza\n",
      "2 |text laughing hands never knew hands could laugh because mine are cracking\n",
      "1 |text every day grade boy every day grade boy walks home from school past grade girls house one day stops taunt the little girl holds the football and says see this football football boys game and girls cannot have one the little girl runs the house crying and tells her mother about the encounter she runs out and buys the girl football the next day the boy riding home his bike and the girl shows him the football yelling nah nah nah the little boy gets mad and points his bike see this bike this boys bike and girls cannot have them the next day the boy comes and the little girl riding new boys bike now really mad drops his pants points his private parts and says you see this only boys have these and your mother cannot buy you one the next day passes the house asks the little girl well what you have say now she pulls her dress points her private part and says mother told that long have one these can have many those want\n"
     ]
    }
   ]
  },
  {
   "cell_type": "code",
   "source": [
    "%%time\n",
    "!vw --log_multi 5 jokes_train_mult.vw -f jokes_model_mult.vw --loss_function=hinge"
   ],
   "metadata": {
    "colab": {
     "base_uri": "https://localhost:8080/"
    },
    "id": "X1BtCTVKKjPH",
    "outputId": "109a9066-958e-406d-8406-c12ddde453b0"
   },
   "execution_count": 52,
   "outputs": [
    {
     "output_type": "stream",
     "name": "stdout",
     "text": [
      "final_regressor = jokes_model_mult.vw\n",
      "Num weight bits = 18\n",
      "learning rate = 0.5\n",
      "initial_t = 0\n",
      "power_t = 0.5\n",
      "using no cache\n",
      "Reading datafile = jokes_train_mult.vw\n",
      "num sources = 1\n",
      "average  since         example        example  current  current  current\n",
      "loss     last          counter         weight    label  predict features\n",
      "0.000000 0.000000            1            1.0        1        1       15\n",
      "0.500000 1.000000            2            2.0        3        1      125\n",
      "0.750000 1.000000            4            4.0        2        4       12\n",
      "0.857143 1.000000            8            8.0        1        2       15\n",
      "0.923077 1.000000           16           16.0        4        1       14\n",
      "0.708333 0.454545           32           32.0  unknown        2       19\n",
      "0.750000 0.791667           64           64.0        4        2       41\n",
      "0.707865 0.658537          128          128.0        1        2        7\n",
      "0.668508 0.630435          256          256.0        2        2       26\n",
      "0.693182 0.719298          512          512.0        2        2       11\n",
      "0.704895 0.716253         1024         1024.0  unknown        2       18\n",
      "0.718093 0.731364         2048         2048.0        2        3       25\n",
      "0.706191 0.694348         4096         4096.0        4        4       17\n",
      "0.693471 0.680304         8192         8192.0  unknown        4       17\n",
      "0.676569 0.659870        16384        16384.0        3        2       13\n",
      "0.671264 0.665891        32768        32768.0        3        2       10\n",
      "0.685448 0.699532        65536        65536.0        3        3       17\n",
      "0.687192 0.688937       131072       131072.0        4        3       26\n",
      "\n",
      "finished run\n",
      "number of examples per pass = 153828\n",
      "passes used = 1\n",
      "weighted example sum = 153828.000000\n",
      "weighted label sum = 0.000000\n",
      "average loss = 0.687257\n",
      "total feature number = 5849458\n",
      "CPU times: user 17.4 ms, sys: 19.6 ms, total: 37 ms\n",
      "Wall time: 845 ms\n"
     ]
    }
   ]
  },
  {
   "cell_type": "code",
   "source": [
    "!vw -i jokes_model_mult.vw -t -d jokes_test_mult.vw \\\n",
    "-p jokes_test_predictions_mult.txt"
   ],
   "metadata": {
    "colab": {
     "base_uri": "https://localhost:8080/"
    },
    "id": "CUmbS28YN1HU",
    "outputId": "c703b694-e3da-4cdb-efd1-a3f2fe706a8a"
   },
   "execution_count": 53,
   "outputs": [
    {
     "output_type": "stream",
     "name": "stdout",
     "text": [
      "only testing\n",
      "predictions = jokes_test_predictions_mult.txt\n",
      "Num weight bits = 18\n",
      "learning rate = 0.5\n",
      "initial_t = 0\n",
      "power_t = 0.5\n",
      "using no cache\n",
      "Reading datafile = jokes_test_mult.vw\n",
      "num sources = 1\n",
      "average  since         example        example  current  current  current\n",
      "loss     last          counter         weight    label  predict features\n",
      "    n.a.     n.a.            1            1.0  unknown        2        9\n",
      "    n.a.     n.a.            2            2.0  unknown        2       47\n",
      "    n.a.     n.a.            4            4.0  unknown        2       12\n",
      "    n.a.     n.a.            8            8.0  unknown        2       12\n",
      "    n.a.     n.a.           16           16.0  unknown        2       12\n",
      "    n.a.     n.a.           32           32.0  unknown        2       10\n",
      "    n.a.     n.a.           64           64.0  unknown        2       17\n",
      "    n.a.     n.a.          128          128.0  unknown        2       14\n",
      "    n.a.     n.a.          256          256.0  unknown        2      191\n",
      "    n.a.     n.a.          512          512.0  unknown        2        8\n",
      "    n.a.     n.a.         1024         1024.0  unknown        2       18\n",
      "    n.a.     n.a.         2048         2048.0  unknown        2       15\n",
      "    n.a.     n.a.         4096         4096.0  unknown        2        7\n",
      "    n.a.     n.a.         8192         8192.0  unknown        2       11\n",
      "    n.a.     n.a.        16384        16384.0  unknown        2       11\n",
      "    n.a.     n.a.        32768        32768.0  unknown        2       11\n",
      "\n",
      "finished run\n",
      "number of examples per pass = 38458\n",
      "passes used = 1\n",
      "weighted example sum = 38458.000000\n",
      "weighted label sum = 0.000000\n",
      "average loss = n.a.\n",
      "total feature number = 1442157\n"
     ]
    }
   ]
  },
  {
   "cell_type": "code",
   "source": [
    "with open('jokes_test_predictions_mult.txt') as pred_file:\n",
    "    test_prediction_mult = [float(label) for label in pred_file.readlines()]"
   ],
   "metadata": {
    "id": "MtZ2_vuUHc9F"
   },
   "execution_count": 82,
   "outputs": []
  },
  {
   "cell_type": "code",
   "source": [
    "accuracy_score(test_labels_mult, test_prediction_mult)"
   ],
   "metadata": {
    "colab": {
     "base_uri": "https://localhost:8080/"
    },
    "id": "sRKRh9nWOAt3",
    "outputId": "6b4b8e2a-37ad-4d7d-85b1-350ec63e04ad"
   },
   "execution_count": 81,
   "outputs": [
    {
     "output_type": "execute_result",
     "data": {
      "text/plain": [
       "0.21223152530032763"
      ]
     },
     "metadata": {},
     "execution_count": 81
    }
   ]
  },
  {
   "cell_type": "code",
   "source": [
    "plot_confusion_matrix(actual=test_labels_mult,\n",
    "                     predicted=test_prediction_mult,\n",
    "                     classes=[0,1,2,3,4])"
   ],
   "metadata": {
    "colab": {
     "base_uri": "https://localhost:8080/",
     "height": 527
    },
    "id": "7CEyxev7U_hl",
    "outputId": "5cb3623d-12c9-41c2-f510-7f9038920254"
   },
   "execution_count": 83,
   "outputs": [
    {
     "output_type": "display_data",
     "data": {
      "image/png": "[encoded data removed]",
      "text/plain": [
       "<Figure size 504x504 with 1 Axes>"
      ]
     },
     "metadata": {
      "image/png": {
       "width": 496,
       "height": 510
      },
      "needs_background": "light"
     }
    }
   ]
  },
  {
   "cell_type": "code",
   "source": [
    ""
   ],
   "metadata": {
    "id": "CzZDoX4dPaaY"
   },
   "execution_count": null,
   "outputs": []
  },
  {
   "cell_type": "code",
   "source": [
    "# Defining model to be learned\n",
    "model = pyvw.vw(\"--csoaa 5 -q UA\")"
   ],
   "metadata": {
    "id": "6MHAamIMPadJ"
   },
   "execution_count": 65,
   "outputs": []
  },
  {
   "cell_type": "code",
   "source": [
    "# Online Learning loop\n",
    "for text, target in zip(train_documents, train_labels_mult):\n",
    "  inp = to_vw_format(text, target)\n",
    "  model.learn(inp)"
   ],
   "metadata": {
    "id": "osLahSiyPeDH"
   },
   "execution_count": 68,
   "outputs": []
  },
  {
   "cell_type": "code",
   "source": [
    "def prediction_accuracy(model):\n",
    "    # correct = 0\n",
    "    preds = []\n",
    "    for text in test_documents:\n",
    "        inp = to_vw_format(text)\n",
    "        ans = model.predict(inp)\n",
    "        preds.append(ans)\n",
    "\n",
    "    return preds"
   ],
   "metadata": {
    "id": "HetSo-jSRfWD"
   },
   "execution_count": 75,
   "outputs": []
  },
  {
   "cell_type": "code",
   "source": [
    "preds = prediction_accuracy(model)"
   ],
   "metadata": {
    "id": "Zpsz25v5R6Yi"
   },
   "execution_count": 76,
   "outputs": []
  },
  {
   "cell_type": "code",
   "source": [
    "accuracy_score(test_labels_mult, preds)"
   ],
   "metadata": {
    "colab": {
     "base_uri": "https://localhost:8080/"
    },
    "id": "v4i0_gQjPeHN",
    "outputId": "2c15fed5-6086-489d-f983-15fd776dede8"
   },
   "execution_count": 77,
   "outputs": [
    {
     "output_type": "execute_result",
     "data": {
      "text/plain": [
       "0.10000520047844402"
      ]
     },
     "metadata": {},
     "execution_count": 77
    }
   ]
  },
  {
   "cell_type": "code",
   "source": [
    "plot_confusion_matrix(actual=test_labels_mult,\n",
    "                     predicted=preds,\n",
    "                     classes=[0,1,2,3,4])"
   ],
   "metadata": {
    "colab": {
     "base_uri": "https://localhost:8080/",
     "height": 527
    },
    "id": "lpCNlOCzUxpQ",
    "outputId": "2b5f8acd-97aa-4057-f75f-ebcf63515ffd"
   },
   "execution_count": 80,
   "outputs": [
    {
     "output_type": "display_data",
     "data": {
      "image/png": "[encoded data removed]",
      "text/plain": [
       "<Figure size 504x504 with 1 Axes>"
      ]
     },
     "metadata": {
      "image/png": {
       "width": 496,
       "height": 510
      },
      "needs_background": "light"
     }
    }
   ]
  }
 ],
 "metadata": {
  "colab": {
   "collapsed_sections": [],
   "name": "VowpalWabbit_NLP_humor_models",
   "provenance": []
  },
  "kernelspec": {
   "display_name": "Python 3",
   "name": "python3"
  },
  "language_info": {
   "name": "python"
  }
 },
 "nbformat": 4,
 "nbformat_minor": 0
}